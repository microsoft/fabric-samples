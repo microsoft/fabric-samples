{
 "cells": [
  {
   "cell_type": "markdown",
   "id": "652c150e-e033-49f6-aacc-b1e3a807711d",
   "metadata": {
    "nteract": {
     "transient": {
      "deleting": false
     }
    }
   },
   "source": [
    "# Part 1: Ingest data into a Microsoft Fabric lakehouse using Apache Spark\n",
    "\n",
    "In this tutorial, you'll ingest data into Fabric lakehouses in delta lake format. Some important terms to understand:\n",
    "\n",
    "* **Lakehouse** -- A lakehouse is a collection of files/folders/tables that represent a database over a data lake used by the Spark engine and SQL engine for big data processing and that includes enhanced capabilities for ACID transactions when using the open-source Delta formatted tables.\n",
    "\n",
    "* **Delta Lake** - Delta Lake is an open-source storage layer that brings ACID transactions, scalable metadata management, and batch and streaming data processing to Apache Spark. A Delta Lake table is a data table format that extends Parquet data files with a file-based transaction log for ACID transactions and scalable metadata management."
   ]
  },
  {
   "cell_type": "markdown",
   "id": "ed1c494e",
   "metadata": {},
   "source": [
    "## Prerequisites\n",
    "\n",
    "- [Add a lakehouse](https://aka.ms/fabric/addlakehouse) to this notebook. You will be downloading data from a public blob, then storing the data in the lakehouse. "
   ]
  },
  {
   "cell_type": "markdown",
   "id": "faa52bd2-a2ca-4cc4-90c2-e37b69df136d",
   "metadata": {
    "nteract": {
     "transient": {
      "deleting": false
     }
    }
   },
   "source": [
    "## Bank churn data"
   ]
  },
  {
   "cell_type": "markdown",
   "id": "90eec3b3-1a5d-4a3a-bfbd-78b0b035f7a9",
   "metadata": {
    "nteract": {
     "transient": {
      "deleting": false
     }
    }
   },
   "source": [
    "\n",
    "The dataset contains churn status of 10,000 customers. It also includes attributes that could impact churn such as:\n",
    "\n",
    "* Credit score\n",
    "* Geographical location (Germany, France, Spain)\n",
    "* Gender (male, female)\n",
    "* Age\n",
    "* Tenure (years of being bank's customer)\n",
    "* Account balance\n",
    "* Estimated salary\n",
    "* Number of products that a customer has purchased through the bank\n",
    "* Credit card status (whether a customer has a credit card or not)\n",
    "* Active member status (whether an active bank's customer or not)\n",
    "\n",
    "The dataset also includes columns such as row number, customer ID, and customer surname that should have no impact on customer's decision to leave the bank. \n",
    "\n",
    "The event that defines the customer's churn is the closing of the customer's bank account. The column `exited` in the dataset refers to customer's abandonment. There isn't much context available about these attributes so you have to proceed without having background information about the dataset. The aim is to understand how these attributes contribute to the `exited` status.\n",
    "\n",
    "Example rows from the dataset:\n",
    "\n",
    "|\"CustomerID\"|\"Surname\"|\"CreditScore\"|\"Geography\"|\"Gender\"|\"Age\"|\"Tenure\"|\"Balance\"|\"NumOfProducts\"|\"HasCrCard\"|\"IsActiveMember\"|\"EstimatedSalary\"|\"Exited\"|\n",
    "|---|---|---|---|---|---|---|---|---|---|---|---|---|\n",
    "|15634602|Hargrave|619|France|Female|42|2|0.00|1|1|1|101348.88|1|\n",
    "|15647311|Hill|608|Spain|Female|41|1|83807.86|1|0|1|112542.58|0|"
   ]
  },
  {
   "cell_type": "markdown",
   "id": "10dee645-ca94-450f-b48c-a35da422793e",
   "metadata": {
    "nteract": {
     "transient": {
      "deleting": false
     }
    }
   },
   "source": [
    "### Download dataset and upload to lakehouse\n",
    "\n",
    "> [!TIP]\n",
    "> By defining the following parameters, you can use this notebook with different datasets easily.\n"
   ]
  },
  {
   "cell_type": "code",
   "execution_count": null,
   "id": "ae3d4f32-55a2-45f0-bda6-19ac340b708c",
   "metadata": {
    "jupyter": {
     "outputs_hidden": false,
     "source_hidden": false
    },
    "ms_comment_ranges": {},
    "ms_comments": [],
    "nteract": {
     "transient": {
      "deleting": false
     }
    }
   },
   "outputs": [],
   "source": [
    "IS_CUSTOM_DATA = False  # if TRUE, dataset has to be uploaded manually\n",
    "\n",
    "DATA_ROOT = \"/lakehouse/default\"\n",
    "DATA_FOLDER = \"Files/churn\"  # folder with data files\n",
    "DATA_FILE = \"churn.csv\"  # data file name"
   ]
  },
  {
   "cell_type": "markdown",
   "id": "20376a28-ff40-47a7-86a0-7fb272c88028",
   "metadata": {
    "nteract": {
     "transient": {
      "deleting": false
     }
    }
   },
   "source": [
    "This code downloads a publicly available version of the dataset and then stores it in a Fabric lakehouse.\n",
    "\n",
    "> [!IMPORTANT]\n",
    "> **Make sure you [add a lakehouse](https://aka.ms/fabric/addlakehouse) to the notebook before running it. Failure to do so will result in an error.**"
   ]
  },
  {
   "cell_type": "code",
   "execution_count": null,
   "id": "696ee4b1-dbea-4479-af62-69135be55634",
   "metadata": {
    "jupyter": {
     "outputs_hidden": false,
     "source_hidden": false
    },
    "nteract": {
     "transient": {
      "deleting": false
     }
    }
   },
   "outputs": [],
   "source": [
    "import os, requests\n",
    "if not IS_CUSTOM_DATA:\n",
    "# Using synapse blob, this can be done in one line\n",
    "\n",
    "# Download demo data files into lakehouse if not exist\n",
    "    remote_url = \"https://synapseaisolutionsa.z13.web.core.windows.net/data/bankcustomerchurn\"\n",
    "    file_list = [DATA_FILE]\n",
    "    download_path = f\"{DATA_ROOT}/{DATA_FOLDER}/raw\"\n",
    "\n",
    "    if not os.path.exists(\"/lakehouse/default\"):\n",
    "        raise FileNotFoundError(\n",
    "            \"Default lakehouse not found, please add a lakehouse and restart the session.\"\n",
    "        )\n",
    "    os.makedirs(download_path, exist_ok=True)\n",
    "    for fname in file_list:\n",
    "        if not os.path.exists(f\"{download_path}/{fname}\"):\n",
    "            r = requests.get(f\"{remote_url}/{fname}\", timeout=30)\n",
    "            with open(f\"{download_path}/{fname}\", \"wb\") as f:\n",
    "                f.write(r.content)\n",
    "    print(\"Downloaded demo data files into lakehouse.\")"
   ]
  },
  {
   "cell_type": "markdown",
   "id": "0b52c06b",
   "metadata": {},
   "source": [
    "## Next step\n",
    "\n",
    "You'll use the data you just ingested in [Part 2: Explore and cleanse data](https://learn.microsoft.com/fabric/data-science/tutorial-data-science-explore-notebook)."
   ]
  }
 ],
 "metadata": {
  "kernel_info": {
   "name": "synapse_pyspark"
  },
  "kernelspec": {
   "display_name": "Synapse PySpark",
   "name": "synapse_pyspark"
  },
  "language_info": {
   "name": "python"
  },
  "notebook_environment": {},
  "nteract": {
   "version": "nteract-front-end@1.0.0"
  },
  "save_output": true,
  "spark_compute": {
   "compute_id": "/trident/default",
   "session_options": {
    "conf": {},
    "enableDebugMode": false
   }
  }
 },
 "nbformat": 4,
 "nbformat_minor": 5
}
