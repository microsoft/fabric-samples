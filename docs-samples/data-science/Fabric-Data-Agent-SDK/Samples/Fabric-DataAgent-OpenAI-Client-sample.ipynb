{
 "cells": [
  {
   "cell_type": "markdown",
   "id": "0",
   "metadata": {
    "nteract": {
     "transient": {
      "deleting": false
     }
    }
   },
   "source": [
    "### Fabric Data Agent Client Implementation"
   ]
  },
  {
   "cell_type": "markdown",
   "id": "1",
   "metadata": {
    "vscode": {
     "languageId": "markdown"
    }
   },
   "source": [
    "### Introduction\n",
    "This notebook demonstrates how to set up and manage a Fabric data agent to query and analyze data. Through step-by-step instructions and examples, you will learn how to install necessary packages, create or fetch an existing data agent, connect data sources, and run queries for insights. This will help you or your team quickly get started with using Fabric data agent, do Q&A over your data that lives in Fabric OneLake and cultivate a culture of data-driven decision-making. "
   ]
  },
  {
   "cell_type": "markdown",
   "id": "2",
   "metadata": {
    "vscode": {
     "languageId": "markdown"
    }
   },
   "source": [
    "### Installation and Prerequisites\n",
    "- A Microsoft Fabric environment or subscription is required.\n",
    "- Fabric Capacity: A paid F2 or higher Fabric capacity  \n",
    "- Tenant Switches: Enable Data Agent, Copilot, cross-geo processing, and cross-geo storage. \n",
    "- Data Sources: Warehouse, Lakehouse, Power BI semantic models, KQL databases.\n",
    "- Ensure the Python package \"fabric-data-agent-sdk\" is installed (as shown in the following cell) in a Fabric Python notebook.\n",
    "- You also need \"sempy\" and other dependencies from \"fabric\" to leverage Fabric Data Agent features. These can be preinstalled in your Fabric environment.",
    "- Power BI semantic models via XMLA endpoints tenant switch is enabled for Power BI semantic model data sources."
   ]
  },
  {
   "cell_type": "code",
   "execution_count": null,
   "id": "3",
   "metadata": {},
   "outputs": [
    {
     "data": {
      "application/vnd.livy.statement-meta+json": {
       "execution_finish_time": "2025-03-03T23:24:21.6474639Z",
       "execution_start_time": "2025-03-03T23:24:01.0307079Z",
       "livy_statement_state": "available",
       "normalized_state": "finished",
       "parent_msg_id": "567de348-ea75-4f80-a630-a1a6668f7290",
       "queued_time": "2025-03-03T23:23:47.8041083Z",
       "session_id": "dcaeaad8-6824-4b3f-b781-84c0269606d7",
       "session_start_time": "2025-03-03T23:23:47.8046178Z",
       "spark_pool": null,
       "state": "finished",
       "statement_id": 7,
       "statement_ids": [
        3,
        4,
        5,
        6,
        7
       ]
      },
      "text/plain": [
       "StatementMeta(, dcaeaad8-6824-4b3f-b781-84c0269606d7, 7, Finished, Available, Finished)"
      ]
     },
     "metadata": {},
     "output_type": "display_data"
    },
    {
     "name": "stdout",
     "output_type": "stream",
     "text": [
      "Processing /lakehouse/default/Files/fabric.dataagent_sdk-0.0.1a0-py3-none-any.whl\n",
      "Requirement already satisfied: semantic-link-sempy>=0.8.0 in /home/trusted-service-user/cluster-env/trident_env/lib/python3.10/site-packages (from fabric.dataagent-sdk==0.0.1a0) (0.9.0)\n",
      "Collecting openai>=1.57.0 (from fabric.dataagent-sdk==0.0.1a0)\n",
      "  Downloading openai-1.65.2-py3-none-any.whl (473 kB)\n",
      "\u001b[2K     \u001b[90m━━━━━━━━━━━━━━━━━━━━━━━━━━━━━━━━━━━━━━\u001b[0m \u001b[32m473.2/473.2 kB\u001b[0m \u001b[31m17.0 MB/s\u001b[0m eta \u001b[36m0:00:00\u001b[0m\n",
      "\u001b[?25hCollecting httpx==0.27.2 (from fabric.dataagent-sdk==0.0.1a0)\n",
      "  Downloading httpx-0.27.2-py3-none-any.whl (76 kB)\n",
      "\u001b[2K     \u001b[90m━━━━━━━━━━━━━━━━━━━━━━━━━━━━━━━━━━━━━━━━\u001b[0m \u001b[32m76.4/76.4 kB\u001b[0m \u001b[31m32.2 MB/s\u001b[0m eta \u001b[36m0:00:00\u001b[0m\n",
      "\u001b[?25hRequirement already satisfied: anyio in /home/trusted-service-user/cluster-env/trident_env/lib/python3.10/site-packages (from httpx==0.27.2->fabric.dataagent-sdk==0.0.1a0) (3.7.1)\n",
      "Requirement already satisfied: certifi in /home/trusted-service-user/cluster-env/trident_env/lib/python3.10/site-packages (from httpx==0.27.2->fabric.dataagent-sdk==0.0.1a0) (2023.7.22)\n",
      "Collecting httpcore==1.* (from httpx==0.27.2->fabric.dataagent-sdk==0.0.1a0)\n",
      "  Downloading httpcore-1.0.7-py3-none-any.whl (78 kB)\n",
      "\u001b[2K     \u001b[90m━━━━━━━━━━━━━━━━━━━━━━━━━━━━━━━━━━━━━━━━\u001b[0m \u001b[32m78.6/78.6 kB\u001b[0m \u001b[31m46.4 MB/s\u001b[0m eta \u001b[36m0:00:00\u001b[0m\n",
      "\u001b[?25hRequirement already satisfied: idna in /home/trusted-service-user/cluster-env/trident_env/lib/python3.10/site-packages (from httpx==0.27.2->fabric.dataagent-sdk==0.0.1a0) (3.4)\n",
      "Requirement already satisfied: sniffio in /home/trusted-service-user/cluster-env/trident_env/lib/python3.10/site-packages (from httpx==0.27.2->fabric.dataagent-sdk==0.0.1a0) (1.3.0)\n",
      "Requirement already satisfied: h11<0.15,>=0.13 in /home/trusted-service-user/cluster-env/trident_env/lib/python3.10/site-packages (from httpcore==1.*->httpx==0.27.2->fabric.dataagent-sdk==0.0.1a0) (0.14.0)\n",
      "Collecting distro<2,>=1.7.0 (from openai>=1.57.0->fabric.dataagent-sdk==0.0.1a0)\n",
      "  Downloading distro-1.9.0-py3-none-any.whl (20 kB)\n",
      "Collecting jiter<1,>=0.4.0 (from openai>=1.57.0->fabric.dataagent-sdk==0.0.1a0)\n",
      "  Downloading jiter-0.8.2-cp310-cp310-manylinux_2_17_x86_64.manylinux2014_x86_64.whl (345 kB)\n",
      "\u001b[2K     \u001b[90m━━━━━━━━━━━━━━━━━━━━━━━━━━━━━━━━━━━━━━\u001b[0m \u001b[32m345.0/345.0 kB\u001b[0m \u001b[31m54.4 MB/s\u001b[0m eta \u001b[36m0:00:00\u001b[0m\n",
      "\u001b[?25hRequirement already satisfied: pydantic<3,>=1.9.0 in /home/trusted-service-user/cluster-env/trident_env/lib/python3.10/site-packages (from openai>=1.57.0->fabric.dataagent-sdk==0.0.1a0) (1.10.9)\n",
      "Requirement already satisfied: tqdm>4 in /home/trusted-service-user/cluster-env/trident_env/lib/python3.10/site-packages (from openai>=1.57.0->fabric.dataagent-sdk==0.0.1a0) (4.66.1)\n",
      "Collecting typing-extensions<5,>=4.11 (from openai>=1.57.0->fabric.dataagent-sdk==0.0.1a0)\n",
      "  Downloading typing_extensions-4.12.2-py3-none-any.whl (37 kB)\n",
      "Requirement already satisfied: clr-loader>=0.2.5 in /home/trusted-service-user/cluster-env/trident_env/lib/python3.10/site-packages (from semantic-link-sempy>=0.8.0->fabric.dataagent-sdk==0.0.1a0) (0.2.6)\n",
      "Requirement already satisfied: graphviz>=0.20.1 in /home/trusted-service-user/cluster-env/trident_env/lib/python3.10/site-packages (from semantic-link-sempy>=0.8.0->fabric.dataagent-sdk==0.0.1a0) (0.20.1)\n",
      "Requirement already satisfied: pyarrow>=12.0.1 in /home/trusted-service-user/cluster-env/trident_env/lib/python3.10/site-packages (from semantic-link-sempy>=0.8.0->fabric.dataagent-sdk==0.0.1a0) (12.0.1)\n",
      "Requirement already satisfied: pythonnet>=3.0.1 in /home/trusted-service-user/cluster-env/trident_env/lib/python3.10/site-packages (from semantic-link-sempy>=0.8.0->fabric.dataagent-sdk==0.0.1a0) (3.0.1)\n",
      "Requirement already satisfied: scikit-learn>=1.2.2 in /home/trusted-service-user/cluster-env/trident_env/lib/python3.10/site-packages (from semantic-link-sempy>=0.8.0->fabric.dataagent-sdk==0.0.1a0) (1.3.0)\n",
      "Requirement already satisfied: setuptools>=68.2.2 in /home/trusted-service-user/cluster-env/trident_env/lib/python3.10/site-packages (from semantic-link-sempy>=0.8.0->fabric.dataagent-sdk==0.0.1a0) (68.2.2)\n",
      "Requirement already satisfied: rich>=13.3.5 in /home/trusted-service-user/cluster-env/trident_env/lib/python3.10/site-packages (from semantic-link-sempy>=0.8.0->fabric.dataagent-sdk==0.0.1a0) (13.6.0)\n",
      "Requirement already satisfied: exceptiongroup in /home/trusted-service-user/cluster-env/trident_env/lib/python3.10/site-packages (from anyio->httpx==0.27.2->fabric.dataagent-sdk==0.0.1a0) (1.1.3)\n",
      "Requirement already satisfied: cffi>=1.13 in /home/trusted-service-user/cluster-env/trident_env/lib/python3.10/site-packages (from clr-loader>=0.2.5->semantic-link-sempy>=0.8.0->fabric.dataagent-sdk==0.0.1a0) (1.16.0)\n",
      "Requirement already satisfied: numpy>=1.16.6 in /home/trusted-service-user/cluster-env/trident_env/lib/python3.10/site-packages (from pyarrow>=12.0.1->semantic-link-sempy>=0.8.0->fabric.dataagent-sdk==0.0.1a0) (1.24.3)\n",
      "Requirement already satisfied: markdown-it-py>=2.2.0 in /home/trusted-service-user/cluster-env/trident_env/lib/python3.10/site-packages (from rich>=13.3.5->semantic-link-sempy>=0.8.0->fabric.dataagent-sdk==0.0.1a0) (3.0.0)\n",
      "Requirement already satisfied: pygments<3.0.0,>=2.13.0 in /home/trusted-service-user/cluster-env/trident_env/lib/python3.10/site-packages (from rich>=13.3.5->semantic-link-sempy>=0.8.0->fabric.dataagent-sdk==0.0.1a0) (2.16.1)\n",
      "Requirement already satisfied: scipy>=1.5.0 in /home/trusted-service-user/cluster-env/trident_env/lib/python3.10/site-packages (from scikit-learn>=1.2.2->semantic-link-sempy>=0.8.0->fabric.dataagent-sdk==0.0.1a0) (1.10.1)\n",
      "Requirement already satisfied: joblib>=1.1.1 in /home/trusted-service-user/cluster-env/trident_env/lib/python3.10/site-packages (from scikit-learn>=1.2.2->semantic-link-sempy>=0.8.0->fabric.dataagent-sdk==0.0.1a0) (1.3.2)\n",
      "Requirement already satisfied: threadpoolctl>=2.0.0 in /home/trusted-service-user/cluster-env/trident_env/lib/python3.10/site-packages (from scikit-learn>=1.2.2->semantic-link-sempy>=0.8.0->fabric.dataagent-sdk==0.0.1a0) (3.2.0)\n",
      "Requirement already satisfied: pycparser in /home/trusted-service-user/cluster-env/trident_env/lib/python3.10/site-packages (from cffi>=1.13->clr-loader>=0.2.5->semantic-link-sempy>=0.8.0->fabric.dataagent-sdk==0.0.1a0) (2.21)\n",
      "Requirement already satisfied: mdurl~=0.1 in /home/trusted-service-user/cluster-env/trident_env/lib/python3.10/site-packages (from markdown-it-py>=2.2.0->rich>=13.3.5->semantic-link-sempy>=0.8.0->fabric.dataagent-sdk==0.0.1a0) (0.1.0)\n",
      "Installing collected packages: typing-extensions, jiter, httpcore, distro, httpx, openai, fabric.dataagent-sdk\n",
      "  Attempting uninstall: typing-extensions\n",
      "    Found existing installation: typing_extensions 4.5.0\n",
      "    Not uninstalling typing-extensions at /home/trusted-service-user/cluster-env/trident_env/lib/python3.10/site-packages, outside environment /nfs4/pyenv-44b73897-5a90-44fc-9349-00483e4ec002\n",
      "    Can't uninstall 'typing_extensions'. No files were found to uninstall.\n",
      "  Attempting uninstall: openai\n",
      "    Found existing installation: openai 0.27.8\n",
      "    Not uninstalling openai at /home/trusted-service-user/cluster-env/trident_env/lib/python3.10/site-packages, outside environment /nfs4/pyenv-44b73897-5a90-44fc-9349-00483e4ec002\n",
      "    Can't uninstall 'openai'. No files were found to uninstall.\n",
      "\u001b[31mERROR: pip's dependency resolver does not currently take into account all the packages that are installed. This behaviour is the source of the following dependency conflicts.\n",
      "sentence-transformers 2.0.0 requires sentencepiece, which is not installed.\n",
      "sentence-transformers 2.0.0 requires torchvision, which is not installed.\n",
      "dash 2.14.0 requires Flask<2.3.0,>=1.0.4, but you have flask 3.0.0 which is incompatible.\n",
      "dash 2.14.0 requires Werkzeug<2.3.0, but you have werkzeug 3.0.1 which is incompatible.\n",
      "tensorflow 2.12.1 requires typing-extensions<4.6.0,>=3.6.6, but you have typing-extensions 4.12.2 which is incompatible.\u001b[0m\u001b[31m\n",
      "\u001b[0mSuccessfully installed distro-1.9.0 fabric.dataagent-sdk-0.0.1a0 httpcore-1.0.7 httpx-0.27.2 jiter-0.8.2 openai-1.65.2 typing-extensions-4.12.2\n",
      "\n",
      "\u001b[1m[\u001b[0m\u001b[34;49mnotice\u001b[0m\u001b[1;39;49m]\u001b[0m\u001b[39;49m A new release of pip is available: \u001b[0m\u001b[31;49m23.1.2\u001b[0m\u001b[39;49m -> \u001b[0m\u001b[32;49m25.0.1\u001b[0m\n",
      "\u001b[1m[\u001b[0m\u001b[34;49mnotice\u001b[0m\u001b[1;39;49m]\u001b[0m\u001b[39;49m To update, run: \u001b[0m\u001b[32;49mpython -m pip install --upgrade pip\u001b[0m\n",
      "Note: you may need to restart the kernel to use updated packages.\n",
      "Warning: PySpark kernel has been restarted to use updated packages.\n",
      "\n"
     ]
    }
   ],
   "source": [
    "%pip install fabric-data-agent-sdk"
   ]
  },
  {
   "cell_type": "markdown",
   "id": "4",
   "metadata": {
    "nteract": {
     "transient": {
      "deleting": false
     }
    }
   },
   "source": [
    "### Import Data Agent methods and specify Data Agent name"
   ]
  },
  {
   "cell_type": "markdown",
   "id": "5",
   "metadata": {
    "nteract": {
     "transient": {
      "deleting": false
     }
    }
   },
   "source": [
    "Assign a `fabric.dataagent` name (previously Data Agent was called AI Skill, and method names will be updated to the same in near future). Import methods to manage, create and delete Data Agent."
   ]
  },
  {
   "cell_type": "code",
   "execution_count": null,
   "id": "6",
   "metadata": {
    "jupyter": {
     "outputs_hidden": false,
     "source_hidden": false
    },
    "nteract": {
     "transient": {
      "deleting": false
     }
    }
   },
   "outputs": [
    {
     "data": {
      "application/vnd.livy.statement-meta+json": {
       "execution_finish_time": "2025-03-03T23:24:32.3713977Z",
       "execution_start_time": "2025-03-03T23:24:27.3141754Z",
       "livy_statement_state": "available",
       "normalized_state": "finished",
       "parent_msg_id": "e62e19bd-63ed-4c61-80e3-1ca0776d92d9",
       "queued_time": "2025-03-03T23:23:47.8028587Z",
       "session_id": "dcaeaad8-6824-4b3f-b781-84c0269606d7",
       "session_start_time": null,
       "spark_pool": null,
       "state": "finished",
       "statement_id": 9,
       "statement_ids": [
        9
       ]
      },
      "text/plain": [
       "StatementMeta(, dcaeaad8-6824-4b3f-b781-84c0269606d7, 9, Finished, Available, Finished)"
      ]
     },
     "metadata": {},
     "output_type": "display_data"
    }
   ],
   "source": [
    "# Specify the DataAgent\n",
    "from fabric.dataagent.client import FabricDataAgentManagement, create_data_agent, delete_data_agent\n",
    "\n",
    "ai_skill_name = \"agent_sample\""
   ]
  },
  {
   "cell_type": "markdown",
   "id": "7",
   "metadata": {
    "nteract": {
     "transient": {
      "deleting": false
     }
    }
   },
   "source": [
    "#### New vs Pre-existing Agent\n",
    "- Data Agent is either created or pointed to a preexisting one.\n",
    "- If you are creating a new Data Agent, use `create_data_agent`.\n",
    "- In case of existing agent already created, `create_data_agent` can lead to an error message mentioning conflict in name. In that case, you should use `FabricDataAgentManagement`.\n",
    "e.g. `data_agent = FabricDataAgentManagement(ai_skill_name)`"
   ]
  },
  {
   "cell_type": "code",
   "execution_count": null,
   "id": "8",
   "metadata": {},
   "outputs": [
    {
     "data": {
      "application/vnd.livy.statement-meta+json": {
       "execution_finish_time": "2025-03-03T23:24:44.6757985Z",
       "execution_start_time": "2025-03-03T23:24:32.3738878Z",
       "livy_statement_state": "available",
       "normalized_state": "finished",
       "parent_msg_id": "6f42579c-82ae-4eac-b8e4-69e7aec8f6d2",
       "queued_time": "2025-03-03T23:23:47.8035456Z",
       "session_id": "dcaeaad8-6824-4b3f-b781-84c0269606d7",
       "session_start_time": null,
       "spark_pool": null,
       "state": "finished",
       "statement_id": 10,
       "statement_ids": [
        10
       ]
      },
      "text/plain": [
       "StatementMeta(, dcaeaad8-6824-4b3f-b781-84c0269606d7, 10, Finished, Available, Finished)"
      ]
     },
     "metadata": {},
     "output_type": "display_data"
    },
    {
     "data": {
      "text/plain": [
       "DataAgentConfiguration(instructions=None, user_description=None)"
      ]
     },
     "execution_count": null,
     "metadata": {},
     "output_type": "execute_result"
    }
   ],
   "source": [
    "# create or fetch DataAgent\n",
    "data_agent = create_data_agent(ai_skill_name)\n",
    "# by default the instructions and description for the Data Agent will be empty, we will update them later in the notebook\n",
    "data_agent.get_configuration()"
   ]
  },
  {
   "cell_type": "markdown",
   "id": "9",
   "metadata": {
    "nteract": {
     "transient": {
      "deleting": false
     }
    }
   },
   "source": [
    "Upon Data Agent creation, you will see a new Data Agent in your workspace. If you are using a pre-existing one, make sure to assign it as the `ai_skill_name`."
   ]
  },
  {
   "cell_type": "markdown",
   "id": "10",
   "metadata": {
    "nteract": {
     "transient": {
      "deleting": false
     }
    }
   },
   "source": [
    "#### Add User Instructions\n",
    "You can update configuration by adding instructions and user description. `user_instructions` are same as `model_notes` in UI. Note that these instructions are for Agent and not directly used by the tools the agent uses. In the next update, adding notes to tools will be facilitated. For now, you can specify instructions for the agent itself to use specific instructions for tools. "
   ]
  },
  {
   "cell_type": "code",
   "execution_count": null,
   "id": "11",
   "metadata": {},
   "outputs": [
    {
     "data": {
      "application/vnd.livy.statement-meta+json": {
       "execution_finish_time": "2025-03-03T23:24:45.0069684Z",
       "execution_start_time": "2025-03-03T23:24:44.6783514Z",
       "livy_statement_state": "available",
       "normalized_state": "finished",
       "parent_msg_id": "cf34ee8d-05b2-4138-9757-61210473e19d",
       "queued_time": "2025-03-03T23:23:47.8042137Z",
       "session_id": "dcaeaad8-6824-4b3f-b781-84c0269606d7",
       "session_start_time": null,
       "spark_pool": null,
       "state": "finished",
       "statement_id": 11,
       "statement_ids": [
        11
       ]
      },
      "text/plain": [
       "StatementMeta(, dcaeaad8-6824-4b3f-b781-84c0269606d7, 11, Finished, Available, Finished)"
      ]
     },
     "metadata": {},
     "output_type": "display_data"
    }
   ],
   "source": [
    "user_instructions = \"\"\"You are an expert analyst. For *any* user question that requires you to query a database, instead of answering it directly,\n",
    "you should give the user a detailed response around the question, from the *available database added as a datasource*. You should do this by extending\n",
    "the user question into 3 distinct questions to independently query the database with. Here is an example that shows how to do it:\\n If the question is \n",
    "\"what is the top selling product in 2019?\". Expand these questions to gather more information, such as asking \"what is the top selling 3 products in 2019\"\n",
    "to learn not only the top one, but how it compares to the others following it. Then ask \"what was the top 3 products sold in 2018\" to learn about the\n",
    "previous year. Then ask \"what were the top 3 best-selling products across all years?\" to learn about the overall response. Then query the database for\n",
    "each question independently. \\nThis way we are learning not only the best selling product, but how it compares with top 3, learn about the previous year,\n",
    "and learn about all time. After getting the answer for each question, formulate your response to answer the original user question with these additional\n",
    "details. This will give the user a more comprehensive look at their original query. We gave an example with one sample question but you should follow these\n",
    "instructions for any user questions that requires a database look up.\"\"\""
   ]
  },
  {
   "cell_type": "markdown",
   "id": "12",
   "metadata": {
    "nteract": {
     "transient": {
      "deleting": false
     }
    }
   },
   "source": [
    "#### Update and Verify\n",
    "`update_configuration` will update the instructions and also add `user_description` for the Fabric Agent API. You can verify this by calling `get_configuration`"
   ]
  },
  {
   "cell_type": "code",
   "execution_count": null,
   "id": "13",
   "metadata": {},
   "outputs": [
    {
     "data": {
      "application/vnd.livy.statement-meta+json": {
       "execution_finish_time": "2025-03-03T23:24:48.6389723Z",
       "execution_start_time": "2025-03-03T23:24:45.0096792Z",
       "livy_statement_state": "available",
       "normalized_state": "finished",
       "parent_msg_id": "8909c293-7dde-4de9-81a7-26c4df9d5824",
       "queued_time": "2025-03-03T23:23:47.8047884Z",
       "session_id": "dcaeaad8-6824-4b3f-b781-84c0269606d7",
       "session_start_time": null,
       "spark_pool": null,
       "state": "finished",
       "statement_id": 12,
       "statement_ids": [
        12
       ]
      },
      "text/plain": [
       "StatementMeta(, dcaeaad8-6824-4b3f-b781-84c0269606d7, 12, Finished, Available, Finished)"
      ]
     },
     "metadata": {},
     "output_type": "display_data"
    },
    {
     "data": {
      "text/plain": [
       "DataAgentConfiguration(instructions='You are an expert analyst. For *any* user question that requires you to query a database, instead of answering it directly,\\nyou should give the user a detailed response around the question, from the *available database added as a datasource*. You should do this by extending\\nthe user question into 3 distinct questions to independently query the database with. Here is an example that shows how to do it:\\n If the question is \\n\"what is the top selling product in 2019?\". Expand these questions to gather more information, such as asking \"what is the top selling 3 products in 2019\"\\nto learn not only the top one, but how it compares to the others following it. Then ask \"what was the top 3 products sold in 2018\" to learn about the\\nprevious year. Then ask \"what were the top 3 best-selling products across all years?\" to learn about the overall response. Then query the database for\\neach question independently. \\nThis way we are learning not only the best selling product, but how it compares with top 3, learn about the previous year,\\nand learn about all time. After getting the answer for each question, formulate your response to answer the original user question with these additional\\ndetails. This will give the user a more comprehensive look at their original query. We gave an example with one sample question but you should follow these\\ninstructions for any user questions that requires a database look up.', user_description='Instructions for Fabric Data Agent to assist with insights from the AdventureWorks dataset. ')"
      ]
     },
     "execution_count": null,
     "metadata": {},
     "output_type": "execute_result"
    }
   ],
   "source": [
    "data_agent.update_configuration(\n",
    "    instructions=user_instructions,\n",
    "    user_description=\"Instructions for Fabric Data Agent to assist with insights from the AdventureWorks dataset. \",\n",
    ")\n",
    "data_agent.get_configuration()"
   ]
  },
  {
   "cell_type": "markdown",
   "id": "14",
   "metadata": {
    "nteract": {
     "transient": {
      "deleting": false
     }
    }
   },
   "source": [
    "#### Adding Datasources\n",
    "Use the `add_datasource` method to add relevant datasources to get insights from. In this sample, we are showing how to add a Lakehouse.\n",
    "Note that, if you already added the lakehouse, you don't need to do it again. We need to check if datasources is already connected."
   ]
  },
  {
   "cell_type": "code",
   "execution_count": null,
   "id": "15",
   "metadata": {},
   "outputs": [
    {
     "data": {
      "application/vnd.livy.statement-meta+json": {
       "execution_finish_time": "2025-03-03T23:24:52.286581Z",
       "execution_start_time": "2025-03-03T23:24:48.6415063Z",
       "livy_statement_state": "available",
       "normalized_state": "finished",
       "parent_msg_id": "91d567dc-827a-4112-9b22-a235dd83ee15",
       "queued_time": "2025-03-03T23:23:47.8053775Z",
       "session_id": "dcaeaad8-6824-4b3f-b781-84c0269606d7",
       "session_start_time": null,
       "spark_pool": null,
       "state": "finished",
       "statement_id": 13,
       "statement_ids": [
        13
       ]
      },
      "text/plain": [
       "StatementMeta(, dcaeaad8-6824-4b3f-b781-84c0269606d7, 13, Finished, Available, Finished)"
      ]
     },
     "metadata": {},
     "output_type": "display_data"
    },
    {
     "data": {
      "text/plain": [
       "Datasource(c379c093-3137-4547-84ca-824299351f9c)"
      ]
     },
     "execution_count": null,
     "metadata": {},
     "output_type": "execute_result"
    }
   ],
   "source": [
    "# add a lakehouse\n",
    "lakehouse_name = \"AdventureWorks\"\n",
    "data_agent.add_datasource(lakehouse_name, type=\"lakehouse\")"
   ]
  },
  {
   "cell_type": "markdown",
   "id": "16",
   "metadata": {
    "nteract": {
     "transient": {
      "deleting": false
     }
    }
   },
   "source": [
    "#### Exploring Data Within the Notebook\n",
    "- Assign lakehouse data or other datasources added to `datasource` and check for column fields."
   ]
  },
  {
   "cell_type": "code",
   "execution_count": null,
   "id": "17",
   "metadata": {},
   "outputs": [
    {
     "data": {
      "application/vnd.livy.statement-meta+json": {
       "execution_finish_time": "2025-03-03T23:24:53.1792929Z",
       "execution_start_time": "2025-03-03T23:24:52.2889069Z",
       "livy_statement_state": "available",
       "normalized_state": "finished",
       "parent_msg_id": "11196a1c-fa7d-4c6b-8917-6ef46a36b24f",
       "queued_time": "2025-03-03T23:23:47.805952Z",
       "session_id": "dcaeaad8-6824-4b3f-b781-84c0269606d7",
       "session_start_time": null,
       "spark_pool": null,
       "state": "finished",
       "statement_id": 14,
       "statement_ids": [
        14
       ]
      },
      "text/plain": [
       "StatementMeta(, dcaeaad8-6824-4b3f-b781-84c0269606d7, 14, Finished, Available, Finished)"
      ]
     },
     "metadata": {},
     "output_type": "display_data"
    },
    {
     "data": {
      "text/plain": [
       "[Datasource(c379c093-3137-4547-84ca-824299351f9c)]"
      ]
     },
     "execution_count": null,
     "metadata": {},
     "output_type": "execute_result"
    }
   ],
   "source": [
    "# we can check which datasources are added to the Data Agent\n",
    "data_agent.get_datasources()"
   ]
  },
  {
   "cell_type": "markdown",
   "id": "18",
   "metadata": {},
   "source": [
    "Publish the Data Source"
   ]
  },
  {
   "cell_type": "code",
   "execution_count": null,
   "id": "19",
   "metadata": {},
   "outputs": [
    {
     "data": {
      "application/vnd.livy.statement-meta+json": {
       "execution_finish_time": "2025-03-03T23:24:55.7627931Z",
       "execution_start_time": "2025-03-03T23:24:53.1819688Z",
       "livy_statement_state": "available",
       "normalized_state": "finished",
       "parent_msg_id": "ce35ef0d-a5d6-4283-a4b9-e89f2a099b00",
       "queued_time": "2025-03-03T23:23:47.8064983Z",
       "session_id": "dcaeaad8-6824-4b3f-b781-84c0269606d7",
       "session_start_time": null,
       "spark_pool": null,
       "state": "finished",
       "statement_id": 15,
       "statement_ids": [
        15
       ]
      },
      "text/plain": [
       "StatementMeta(, dcaeaad8-6824-4b3f-b781-84c0269606d7, 15, Finished, Available, Finished)"
      ]
     },
     "metadata": {},
     "output_type": "display_data"
    }
   ],
   "source": [
    "data_agent.publish()"
   ]
  },
  {
   "cell_type": "code",
   "execution_count": null,
   "id": "20",
   "metadata": {},
   "outputs": [
    {
     "data": {
      "application/vnd.livy.statement-meta+json": {
       "execution_finish_time": "2025-03-03T23:24:57.4058204Z",
       "execution_start_time": "2025-03-03T23:24:55.7649912Z",
       "livy_statement_state": "available",
       "normalized_state": "finished",
       "parent_msg_id": "36d4f03c-1940-4618-81e9-c25291d3397b",
       "queued_time": "2025-03-03T23:23:47.8070539Z",
       "session_id": "dcaeaad8-6824-4b3f-b781-84c0269606d7",
       "session_start_time": null,
       "spark_pool": null,
       "state": "finished",
       "statement_id": 16,
       "statement_ids": [
        16
       ]
      },
      "text/plain": [
       "StatementMeta(, dcaeaad8-6824-4b3f-b781-84c0269606d7, 16, Finished, Available, Finished)"
      ]
     },
     "metadata": {},
     "output_type": "display_data"
    }
   ],
   "source": [
    "datasource = data_agent.get_datasources()[0]"
   ]
  },
  {
   "cell_type": "code",
   "execution_count": null,
   "id": "21",
   "metadata": {},
   "outputs": [
    {
     "data": {
      "application/vnd.livy.statement-meta+json": {
       "execution_finish_time": "2025-03-03T23:24:58.3382864Z",
       "execution_start_time": "2025-03-03T23:24:57.4085459Z",
       "livy_statement_state": "available",
       "normalized_state": "finished",
       "parent_msg_id": "ef0a92bc-b28e-4647-afa6-9ec0513579cd",
       "queued_time": "2025-03-03T23:23:47.807627Z",
       "session_id": "dcaeaad8-6824-4b3f-b781-84c0269606d7",
       "session_start_time": null,
       "spark_pool": null,
       "state": "finished",
       "statement_id": 17,
       "statement_ids": [
        17
       ]
      },
      "text/plain": [
       "StatementMeta(, dcaeaad8-6824-4b3f-b781-84c0269606d7, 17, Finished, Available, Finished)"
      ]
     },
     "metadata": {},
     "output_type": "display_data"
    },
    {
     "name": "stdout",
     "output_type": "stream",
     "text": [
      " dbo\n",
      "  | dimaccount\n",
      "  |  | AccountKey\n",
      "  |  | ParentAccountKey\n",
      "  |  | AccountCodeAlternateKey\n",
      "  |  | ParentAccountCodeAlternateKey\n",
      "  |  | AccountDescription\n",
      "  |  | AccountType\n",
      "  |  | Operator\n",
      "  |  | CustomMembers\n",
      "  |  | ValueType\n",
      "  | factinternetsales\n",
      "  |  | ProductKey\n",
      "  |  | OrderDateKey\n",
      "  |  | DueDateKey\n",
      "  |  | ShipDateKey\n",
      "  |  | CustomerKey\n",
      "  |  | PromotionKey\n",
      "  |  | CurrencyKey\n",
      "  |  | SalesTerritoryKey\n",
      "  |  | SalesOrderNumber\n",
      "  |  | SalesOrderLineNumber\n",
      "  |  | RevisionNumber\n",
      "  |  | OrderQuantity\n",
      "  |  | UnitPrice\n",
      "  |  | ExtendedAmount\n",
      "  |  | UnitPriceDiscountPct\n",
      "  |  | DiscountAmount\n",
      "  |  | ProductStandardCost\n",
      "  |  | TotalProductCost\n",
      "  |  | SalesAmount\n",
      "  |  | TaxAmt\n",
      "  |  | Freight\n",
      "  |  | OrderDate\n",
      "  |  | DueDate\n",
      "  |  | ShipDate\n",
      "  | dimemployee\n",
      "  |  | EmployeeKey\n",
      "  |  | ParentEmployeeKey\n",
      "  |  | EmployeeNationalIDAlternateKey\n",
      "  |  | SalesTerritoryKey\n",
      "  |  | FirstName\n",
      "  |  | LastName\n",
      "  |  | MiddleName\n",
      "  |  | NameStyle\n",
      "  |  | Title\n",
      "  |  | HireDate\n",
      "  |  | BirthDate\n",
      "  |  | LoginID\n",
      "  |  | EmailAddress\n",
      "  |  | Phone\n",
      "  |  | MaritalStatus\n",
      "  |  | EmergencyContactName\n",
      "  |  | EmergencyContactPhone\n",
      "  |  | SalariedFlag\n",
      "  |  | Gender\n",
      "  |  | PayFrequency\n",
      "  |  | BaseRate\n",
      "  |  | VacationHours\n",
      "  |  | SickLeaveHours\n",
      "  |  | CurrentFlag\n",
      "  |  | SalesPersonFlag\n",
      "  |  | DepartmentName\n",
      "  |  | StartDate\n",
      "  |  | EndDate\n",
      "  |  | Status\n",
      "  | factinternetsalesreason\n",
      "  |  | SalesOrderNumber\n",
      "  |  | SalesOrderLineNumber\n",
      "  |  | SalesReasonKey\n",
      "  | newfactcurrencyrate\n",
      "  |  | AverageRate\n",
      "  |  | CurrencyID\n",
      "  |  | CurrencyDate\n",
      "  |  | EndOfDayRate\n",
      "  |  | CurrencyKey\n",
      "  |  | DateKey\n",
      "  | dimproductcategory\n",
      "  |  | ProductCategoryKey\n",
      "  |  | ProductCategoryAlternateKey\n",
      "  |  | EnglishProductCategoryName\n",
      "  |  | SpanishProductCategoryName\n",
      "  |  | FrenchProductCategoryName\n",
      "  | factsurveyresponse\n",
      "  |  | SurveyResponseKey\n",
      "  |  | DateKey\n",
      "  |  | CustomerKey\n",
      "  |  | ProductCategoryKey\n",
      "  |  | EnglishProductCategoryName\n",
      "  |  | ProductSubcategoryKey\n",
      "  |  | EnglishProductSubcategoryName\n",
      "  |  | Date\n",
      "  | factcurrencyrate\n",
      "  |  | CurrencyKey\n",
      "  |  | DateKey\n",
      "  |  | AverageRate\n",
      "  |  | EndOfDayRate\n",
      "  |  | Date\n",
      "  | dimgeography\n",
      "  |  | GeographyKey\n",
      "  |  | City\n",
      "  |  | StateProvinceCode\n",
      "  |  | StateProvinceName\n",
      "  |  | CountryRegionCode\n",
      "  |  | EnglishCountryRegionName\n",
      "  |  | SpanishCountryRegionName\n",
      "  |  | FrenchCountryRegionName\n",
      "  |  | PostalCode\n",
      "  |  | SalesTerritoryKey\n",
      "  |  | IpAddressLocator\n",
      "  | dimscenario\n",
      "  |  | ScenarioKey\n",
      "  |  | ScenarioName\n",
      "  | dimcurrency\n",
      "  |  | CurrencyKey\n",
      "  |  | CurrencyAlternateKey\n",
      "  |  | CurrencyName\n",
      "  | dimorganization\n",
      "  |  | OrganizationKey\n",
      "  |  | ParentOrganizationKey\n",
      "  |  | PercentageOfOwnership\n",
      "  |  | OrganizationName\n",
      "  |  | CurrencyKey\n",
      "  | factproductinventory\n",
      "  |  | ProductKey\n",
      "  |  | DateKey\n",
      "  |  | MovementDate\n",
      "  |  | UnitCost\n",
      "  |  | UnitsIn\n",
      "  |  | UnitsOut\n",
      "  |  | UnitsBalance\n",
      "  | factcallcenter\n",
      "  |  | FactCallCenterID\n",
      "  |  | DateKey\n",
      "  |  | WageType\n",
      "  |  | Shift\n",
      "  |  | LevelOneOperators\n",
      "  |  | LevelTwoOperators\n",
      "  |  | TotalOperators\n",
      "  |  | Calls\n",
      "  |  | AutomaticResponses\n",
      "  |  | Orders\n",
      "  |  | IssuesRaised\n",
      "  |  | AverageTimePerIssue\n",
      "  |  | ServiceGrade\n",
      "  |  | Date\n",
      "  | dimdate\n",
      "  |  | DateKey\n",
      "  |  | FullDateAlternateKey\n",
      "  |  | DayNumberOfWeek\n",
      "  |  | EnglishDayNameOfWeek\n",
      "  |  | SpanishDayNameOfWeek\n",
      "  |  | FrenchDayNameOfWeek\n",
      "  |  | DayNumberOfMonth\n",
      "  |  | DayNumberOfYear\n",
      "  |  | WeekNumberOfYear\n",
      "  |  | EnglishMonthName\n",
      "  |  | SpanishMonthName\n",
      "  |  | FrenchMonthName\n",
      "  |  | MonthNumberOfYear\n",
      "  |  | CalendarQuarter\n",
      "  |  | CalendarYear\n",
      "  |  | CalendarSemester\n",
      "  |  | FiscalQuarter\n",
      "  |  | FiscalYear\n",
      "  |  | FiscalSemester\n",
      "  | dimcustomer\n",
      "  |  | CustomerKey\n",
      "  |  | GeographyKey\n",
      "  |  | CustomerAlternateKey\n",
      "  |  | Title\n",
      "  |  | FirstName\n",
      "  |  | MiddleName\n",
      "  |  | LastName\n",
      "  |  | NameStyle\n",
      "  |  | BirthDate\n",
      "  |  | MaritalStatus\n",
      "  |  | Suffix\n",
      "  |  | Gender\n",
      "  |  | EmailAddress\n",
      "  |  | YearlyIncome\n",
      "  |  | TotalChildren\n",
      "  |  | NumberChildrenAtHome\n",
      "  |  | EnglishEducation\n",
      "  |  | SpanishEducation\n",
      "  |  | FrenchEducation\n",
      "  |  | EnglishOccupation\n",
      "  |  | SpanishOccupation\n",
      "  |  | FrenchOccupation\n",
      "  |  | HouseOwnerFlag\n",
      "  |  | NumberCarsOwned\n",
      "  |  | AddressLine1\n",
      "  |  | AddressLine2\n",
      "  |  | Phone\n",
      "  |  | DateFirstPurchase\n",
      "  |  | CommuteDistance\n",
      "  | dimproduct\n",
      "  |  | ProductKey\n",
      "  |  | ProductAlternateKey\n",
      "  |  | ProductSubcategoryKey\n",
      "  |  | WeightUnitMeasureCode\n",
      "  |  | SizeUnitMeasureCode\n",
      "  |  | EnglishProductName\n",
      "  |  | SpanishProductName\n",
      "  |  | FrenchProductName\n",
      "  |  | StandardCost\n",
      "  |  | FinishedGoodsFlag\n",
      "  |  | Color\n",
      "  |  | SafetyStockLevel\n",
      "  |  | ReorderPoint\n",
      "  |  | ListPrice\n",
      "  |  | Size\n",
      "  |  | SizeRange\n",
      "  |  | Weight\n",
      "  |  | DaysToManufacture\n",
      "  |  | ProductLine\n",
      "  |  | DealerPrice\n",
      "  |  | Class\n",
      "  |  | Style\n",
      "  |  | ModelName\n",
      "  |  | EnglishDescription\n",
      "  |  | FrenchDescription\n",
      "  |  | ChineseDescription\n",
      "  |  | ArabicDescription\n",
      "  |  | HebrewDescription\n",
      "  |  | ThaiDescription\n",
      "  |  | GermanDescription\n",
      "  |  | JapaneseDescription\n",
      "  |  | TurkishDescription\n",
      "  |  | StartDate\n",
      "  |  | EndDate\n",
      "  |  | Status\n",
      "  | factadditionalinternationalproductdescription\n",
      "  |  | ProductKey\n",
      "  |  | CultureName\n",
      "  |  | ProductDescription\n",
      "  | dimproductsubcategory\n",
      "  |  | ProductSubcategoryKey\n",
      "  |  | ProductSubcategoryAlternateKey\n",
      "  |  | EnglishProductSubcategoryName\n",
      "  |  | SpanishProductSubcategoryName\n",
      "  |  | FrenchProductSubcategoryName\n",
      "  |  | ProductCategoryKey\n",
      "  | dimdepartmentgroup\n",
      "  |  | DepartmentGroupKey\n",
      "  |  | ParentDepartmentGroupKey\n",
      "  |  | DepartmentGroupName\n",
      "  | dimpromotion\n",
      "  |  | PromotionKey\n",
      "  |  | PromotionAlternateKey\n",
      "  |  | EnglishPromotionName\n",
      "  |  | SpanishPromotionName\n",
      "  |  | FrenchPromotionName\n",
      "  |  | DiscountPct\n",
      "  |  | EnglishPromotionType\n",
      "  |  | SpanishPromotionType\n",
      "  |  | FrenchPromotionType\n",
      "  |  | EnglishPromotionCategory\n",
      "  |  | SpanishPromotionCategory\n",
      "  |  | FrenchPromotionCategory\n",
      "  |  | StartDate\n",
      "  |  | EndDate\n",
      "  |  | MinQty\n",
      "  |  | MaxQty\n",
      "  | dimsalesterritory\n",
      "  |  | SalesTerritoryKey\n",
      "  |  | SalesTerritoryAlternateKey\n",
      "  |  | SalesTerritoryRegion\n",
      "  |  | SalesTerritoryCountry\n",
      "  |  | SalesTerritoryGroup\n",
      "  | dimreseller\n",
      "  |  | ResellerKey\n",
      "  |  | GeographyKey\n",
      "  |  | ResellerAlternateKey\n",
      "  |  | Phone\n",
      "  |  | BusinessType\n",
      "  |  | ResellerName\n",
      "  |  | NumberEmployees\n",
      "  |  | OrderFrequency\n",
      "  |  | OrderMonth\n",
      "  |  | FirstOrderYear\n",
      "  |  | LastOrderYear\n",
      "  |  | ProductLine\n",
      "  |  | AddressLine1\n",
      "  |  | AddressLine2\n",
      "  |  | AnnualSales\n",
      "  |  | BankName\n",
      "  |  | MinPaymentType\n",
      "  |  | MinPaymentAmount\n",
      "  |  | AnnualRevenue\n",
      "  |  | YearOpened\n",
      "  | dimsalesreason\n",
      "  |  | SalesReasonKey\n",
      "  |  | SalesReasonAlternateKey\n",
      "  |  | SalesReasonName\n",
      "  |  | SalesReasonReasonType\n",
      "  | factresellersales\n",
      "  |  | ProductKey\n",
      "  |  | OrderDateKey\n",
      "  |  | DueDateKey\n",
      "  |  | ShipDateKey\n",
      "  |  | ResellerKey\n",
      "  |  | EmployeeKey\n",
      "  |  | PromotionKey\n",
      "  |  | CurrencyKey\n",
      "  |  | SalesTerritoryKey\n",
      "  |  | SalesOrderNumber\n",
      "  |  | SalesOrderLineNumber\n",
      "  |  | RevisionNumber\n",
      "  |  | OrderQuantity\n",
      "  |  | UnitPrice\n",
      "  |  | ExtendedAmount\n",
      "  |  | UnitPriceDiscountPct\n",
      "  |  | DiscountAmount\n",
      "  |  | ProductStandardCost\n",
      "  |  | TotalProductCost\n",
      "  |  | SalesAmount\n",
      "  |  | TaxAmt\n",
      "  |  | Freight\n",
      "  |  | CarrierTrackingNumber\n",
      "  |  | CustomerPONumber\n",
      "  |  | OrderDate\n",
      "  |  | DueDate\n",
      "  |  | ShipDate\n",
      "  | prospectivebuyer\n",
      "  |  | ProspectiveBuyerKey\n",
      "  |  | ProspectAlternateKey\n",
      "  |  | FirstName\n",
      "  |  | MiddleName\n",
      "  |  | LastName\n",
      "  |  | BirthDate\n",
      "  |  | MaritalStatus\n",
      "  |  | Gender\n",
      "  |  | EmailAddress\n",
      "  |  | YearlyIncome\n",
      "  |  | TotalChildren\n",
      "  |  | NumberChildrenAtHome\n",
      "  |  | Education\n",
      "  |  | Occupation\n",
      "  |  | HouseOwnerFlag\n",
      "  |  | NumberCarsOwned\n",
      "  |  | AddressLine1\n",
      "  |  | AddressLine2\n",
      "  |  | City\n",
      "  |  | StateProvinceCode\n",
      "  |  | PostalCode\n",
      "  |  | Phone\n",
      "  |  | Salutation\n",
      "  |  | Unknown\n",
      "  | factfinance\n",
      "  |  | FinanceKey\n",
      "  |  | DateKey\n",
      "  |  | OrganizationKey\n",
      "  |  | DepartmentGroupKey\n",
      "  |  | ScenarioKey\n",
      "  |  | AccountKey\n",
      "  |  | Amount\n",
      "  |  | Date\n",
      "  | factsalesquota\n",
      "  |  | SalesQuotaKey\n",
      "  |  | EmployeeKey\n",
      "  |  | DateKey\n",
      "  |  | CalendarYear\n",
      "  |  | CalendarQuarter\n",
      "  |  | SalesAmountQuota\n",
      "  |  | Date\n"
     ]
    }
   ],
   "source": [
    "datasource.pretty_print()"
   ]
  },
  {
   "cell_type": "markdown",
   "id": "22",
   "metadata": {
    "nteract": {
     "transient": {
      "deleting": false
     }
    }
   },
   "source": [
    "#### Select particular tables that you need to ask questions about.\n",
    "- Note that by default, no table is selected. A `*` in front of table indicates selected table.\n",
    "- You can select the tables using `datasource.select` to pick the right tables or all tables related to the context of the question.\n",
    "- Selecting a table will also select all columns in the table."
   ]
  },
  {
   "cell_type": "code",
   "execution_count": null,
   "id": "23",
   "metadata": {},
   "outputs": [
    {
     "data": {
      "application/vnd.livy.statement-meta+json": {
       "execution_finish_time": "2025-03-03T23:25:01.9734472Z",
       "execution_start_time": "2025-03-03T23:24:58.3407428Z",
       "livy_statement_state": "available",
       "normalized_state": "finished",
       "parent_msg_id": "81ac7d10-764f-42e0-b76e-c3df875fa12b",
       "queued_time": "2025-03-03T23:23:47.808183Z",
       "session_id": "dcaeaad8-6824-4b3f-b781-84c0269606d7",
       "session_start_time": null,
       "spark_pool": null,
       "state": "finished",
       "statement_id": 18,
       "statement_ids": [
        18
       ]
      },
      "text/plain": [
       "StatementMeta(, dcaeaad8-6824-4b3f-b781-84c0269606d7, 18, Finished, Available, Finished)"
      ]
     },
     "metadata": {},
     "output_type": "display_data"
    },
    {
     "name": "stdout",
     "output_type": "stream",
     "text": [
      " dbo\n",
      "  | dimaccount\n",
      "  |  | AccountKey\n",
      "  |  | ParentAccountKey\n",
      "  |  | AccountCodeAlternateKey\n",
      "  |  | ParentAccountCodeAlternateKey\n",
      "  |  | AccountDescription\n",
      "  |  | AccountType\n",
      "  |  | Operator\n",
      "  |  | CustomMembers\n",
      "  |  | ValueType\n",
      "  | factinternetsales *\n",
      "  |  | ProductKey\n",
      "  |  | OrderDateKey\n",
      "  |  | DueDateKey\n",
      "  |  | ShipDateKey\n",
      "  |  | CustomerKey\n",
      "  |  | PromotionKey\n",
      "  |  | CurrencyKey\n",
      "  |  | SalesTerritoryKey\n",
      "  |  | SalesOrderNumber\n",
      "  |  | SalesOrderLineNumber\n",
      "  |  | RevisionNumber\n",
      "  |  | OrderQuantity\n",
      "  |  | UnitPrice\n",
      "  |  | ExtendedAmount\n",
      "  |  | UnitPriceDiscountPct\n",
      "  |  | DiscountAmount\n",
      "  |  | ProductStandardCost\n",
      "  |  | TotalProductCost\n",
      "  |  | SalesAmount\n",
      "  |  | TaxAmt\n",
      "  |  | Freight\n",
      "  |  | OrderDate\n",
      "  |  | DueDate\n",
      "  |  | ShipDate\n",
      "  | dimemployee\n",
      "  |  | EmployeeKey\n",
      "  |  | ParentEmployeeKey\n",
      "  |  | EmployeeNationalIDAlternateKey\n",
      "  |  | SalesTerritoryKey\n",
      "  |  | FirstName\n",
      "  |  | LastName\n",
      "  |  | MiddleName\n",
      "  |  | NameStyle\n",
      "  |  | Title\n",
      "  |  | HireDate\n",
      "  |  | BirthDate\n",
      "  |  | LoginID\n",
      "  |  | EmailAddress\n",
      "  |  | Phone\n",
      "  |  | MaritalStatus\n",
      "  |  | EmergencyContactName\n",
      "  |  | EmergencyContactPhone\n",
      "  |  | SalariedFlag\n",
      "  |  | Gender\n",
      "  |  | PayFrequency\n",
      "  |  | BaseRate\n",
      "  |  | VacationHours\n",
      "  |  | SickLeaveHours\n",
      "  |  | CurrentFlag\n",
      "  |  | SalesPersonFlag\n",
      "  |  | DepartmentName\n",
      "  |  | StartDate\n",
      "  |  | EndDate\n",
      "  |  | Status\n",
      "  | factinternetsalesreason\n",
      "  |  | SalesOrderNumber\n",
      "  |  | SalesOrderLineNumber\n",
      "  |  | SalesReasonKey\n",
      "  | newfactcurrencyrate\n",
      "  |  | AverageRate\n",
      "  |  | CurrencyID\n",
      "  |  | CurrencyDate\n",
      "  |  | EndOfDayRate\n",
      "  |  | CurrencyKey\n",
      "  |  | DateKey\n",
      "  | dimproductcategory\n",
      "  |  | ProductCategoryKey\n",
      "  |  | ProductCategoryAlternateKey\n",
      "  |  | EnglishProductCategoryName\n",
      "  |  | SpanishProductCategoryName\n",
      "  |  | FrenchProductCategoryName\n",
      "  | factsurveyresponse\n",
      "  |  | SurveyResponseKey\n",
      "  |  | DateKey\n",
      "  |  | CustomerKey\n",
      "  |  | ProductCategoryKey\n",
      "  |  | EnglishProductCategoryName\n",
      "  |  | ProductSubcategoryKey\n",
      "  |  | EnglishProductSubcategoryName\n",
      "  |  | Date\n",
      "  | factcurrencyrate\n",
      "  |  | CurrencyKey\n",
      "  |  | DateKey\n",
      "  |  | AverageRate\n",
      "  |  | EndOfDayRate\n",
      "  |  | Date\n",
      "  | dimgeography\n",
      "  |  | GeographyKey\n",
      "  |  | City\n",
      "  |  | StateProvinceCode\n",
      "  |  | StateProvinceName\n",
      "  |  | CountryRegionCode\n",
      "  |  | EnglishCountryRegionName\n",
      "  |  | SpanishCountryRegionName\n",
      "  |  | FrenchCountryRegionName\n",
      "  |  | PostalCode\n",
      "  |  | SalesTerritoryKey\n",
      "  |  | IpAddressLocator\n",
      "  | dimscenario\n",
      "  |  | ScenarioKey\n",
      "  |  | ScenarioName\n",
      "  | dimcurrency\n",
      "  |  | CurrencyKey\n",
      "  |  | CurrencyAlternateKey\n",
      "  |  | CurrencyName\n",
      "  | dimorganization\n",
      "  |  | OrganizationKey\n",
      "  |  | ParentOrganizationKey\n",
      "  |  | PercentageOfOwnership\n",
      "  |  | OrganizationName\n",
      "  |  | CurrencyKey\n",
      "  | factproductinventory\n",
      "  |  | ProductKey\n",
      "  |  | DateKey\n",
      "  |  | MovementDate\n",
      "  |  | UnitCost\n",
      "  |  | UnitsIn\n",
      "  |  | UnitsOut\n",
      "  |  | UnitsBalance\n",
      "  | factcallcenter\n",
      "  |  | FactCallCenterID\n",
      "  |  | DateKey\n",
      "  |  | WageType\n",
      "  |  | Shift\n",
      "  |  | LevelOneOperators\n",
      "  |  | LevelTwoOperators\n",
      "  |  | TotalOperators\n",
      "  |  | Calls\n",
      "  |  | AutomaticResponses\n",
      "  |  | Orders\n",
      "  |  | IssuesRaised\n",
      "  |  | AverageTimePerIssue\n",
      "  |  | ServiceGrade\n",
      "  |  | Date\n",
      "  | dimdate\n",
      "  |  | DateKey\n",
      "  |  | FullDateAlternateKey\n",
      "  |  | DayNumberOfWeek\n",
      "  |  | EnglishDayNameOfWeek\n",
      "  |  | SpanishDayNameOfWeek\n",
      "  |  | FrenchDayNameOfWeek\n",
      "  |  | DayNumberOfMonth\n",
      "  |  | DayNumberOfYear\n",
      "  |  | WeekNumberOfYear\n",
      "  |  | EnglishMonthName\n",
      "  |  | SpanishMonthName\n",
      "  |  | FrenchMonthName\n",
      "  |  | MonthNumberOfYear\n",
      "  |  | CalendarQuarter\n",
      "  |  | CalendarYear\n",
      "  |  | CalendarSemester\n",
      "  |  | FiscalQuarter\n",
      "  |  | FiscalYear\n",
      "  |  | FiscalSemester\n",
      "  | dimcustomer *\n",
      "  |  | CustomerKey\n",
      "  |  | GeographyKey\n",
      "  |  | CustomerAlternateKey\n",
      "  |  | Title\n",
      "  |  | FirstName\n",
      "  |  | MiddleName\n",
      "  |  | LastName\n",
      "  |  | NameStyle\n",
      "  |  | BirthDate\n",
      "  |  | MaritalStatus\n",
      "  |  | Suffix\n",
      "  |  | Gender\n",
      "  |  | EmailAddress\n",
      "  |  | YearlyIncome\n",
      "  |  | TotalChildren\n",
      "  |  | NumberChildrenAtHome\n",
      "  |  | EnglishEducation\n",
      "  |  | SpanishEducation\n",
      "  |  | FrenchEducation\n",
      "  |  | EnglishOccupation\n",
      "  |  | SpanishOccupation\n",
      "  |  | FrenchOccupation\n",
      "  |  | HouseOwnerFlag\n",
      "  |  | NumberCarsOwned\n",
      "  |  | AddressLine1\n",
      "  |  | AddressLine2\n",
      "  |  | Phone\n",
      "  |  | DateFirstPurchase\n",
      "  |  | CommuteDistance\n",
      "  | dimproduct *\n",
      "  |  | ProductKey\n",
      "  |  | ProductAlternateKey\n",
      "  |  | ProductSubcategoryKey\n",
      "  |  | WeightUnitMeasureCode\n",
      "  |  | SizeUnitMeasureCode\n",
      "  |  | EnglishProductName\n",
      "  |  | SpanishProductName\n",
      "  |  | FrenchProductName\n",
      "  |  | StandardCost\n",
      "  |  | FinishedGoodsFlag\n",
      "  |  | Color\n",
      "  |  | SafetyStockLevel\n",
      "  |  | ReorderPoint\n",
      "  |  | ListPrice\n",
      "  |  | Size\n",
      "  |  | SizeRange\n",
      "  |  | Weight\n",
      "  |  | DaysToManufacture\n",
      "  |  | ProductLine\n",
      "  |  | DealerPrice\n",
      "  |  | Class\n",
      "  |  | Style\n",
      "  |  | ModelName\n",
      "  |  | EnglishDescription\n",
      "  |  | FrenchDescription\n",
      "  |  | ChineseDescription\n",
      "  |  | ArabicDescription\n",
      "  |  | HebrewDescription\n",
      "  |  | ThaiDescription\n",
      "  |  | GermanDescription\n",
      "  |  | JapaneseDescription\n",
      "  |  | TurkishDescription\n",
      "  |  | StartDate\n",
      "  |  | EndDate\n",
      "  |  | Status\n",
      "  | factadditionalinternationalproductdescription\n",
      "  |  | ProductKey\n",
      "  |  | CultureName\n",
      "  |  | ProductDescription\n",
      "  | dimproductsubcategory\n",
      "  |  | ProductSubcategoryKey\n",
      "  |  | ProductSubcategoryAlternateKey\n",
      "  |  | EnglishProductSubcategoryName\n",
      "  |  | SpanishProductSubcategoryName\n",
      "  |  | FrenchProductSubcategoryName\n",
      "  |  | ProductCategoryKey\n",
      "  | dimdepartmentgroup\n",
      "  |  | DepartmentGroupKey\n",
      "  |  | ParentDepartmentGroupKey\n",
      "  |  | DepartmentGroupName\n",
      "  | dimpromotion\n",
      "  |  | PromotionKey\n",
      "  |  | PromotionAlternateKey\n",
      "  |  | EnglishPromotionName\n",
      "  |  | SpanishPromotionName\n",
      "  |  | FrenchPromotionName\n",
      "  |  | DiscountPct\n",
      "  |  | EnglishPromotionType\n",
      "  |  | SpanishPromotionType\n",
      "  |  | FrenchPromotionType\n",
      "  |  | EnglishPromotionCategory\n",
      "  |  | SpanishPromotionCategory\n",
      "  |  | FrenchPromotionCategory\n",
      "  |  | StartDate\n",
      "  |  | EndDate\n",
      "  |  | MinQty\n",
      "  |  | MaxQty\n",
      "  | dimsalesterritory\n",
      "  |  | SalesTerritoryKey\n",
      "  |  | SalesTerritoryAlternateKey\n",
      "  |  | SalesTerritoryRegion\n",
      "  |  | SalesTerritoryCountry\n",
      "  |  | SalesTerritoryGroup\n",
      "  | dimreseller\n",
      "  |  | ResellerKey\n",
      "  |  | GeographyKey\n",
      "  |  | ResellerAlternateKey\n",
      "  |  | Phone\n",
      "  |  | BusinessType\n",
      "  |  | ResellerName\n",
      "  |  | NumberEmployees\n",
      "  |  | OrderFrequency\n",
      "  |  | OrderMonth\n",
      "  |  | FirstOrderYear\n",
      "  |  | LastOrderYear\n",
      "  |  | ProductLine\n",
      "  |  | AddressLine1\n",
      "  |  | AddressLine2\n",
      "  |  | AnnualSales\n",
      "  |  | BankName\n",
      "  |  | MinPaymentType\n",
      "  |  | MinPaymentAmount\n",
      "  |  | AnnualRevenue\n",
      "  |  | YearOpened\n",
      "  | dimsalesreason\n",
      "  |  | SalesReasonKey\n",
      "  |  | SalesReasonAlternateKey\n",
      "  |  | SalesReasonName\n",
      "  |  | SalesReasonReasonType\n",
      "  | factresellersales\n",
      "  |  | ProductKey\n",
      "  |  | OrderDateKey\n",
      "  |  | DueDateKey\n",
      "  |  | ShipDateKey\n",
      "  |  | ResellerKey\n",
      "  |  | EmployeeKey\n",
      "  |  | PromotionKey\n",
      "  |  | CurrencyKey\n",
      "  |  | SalesTerritoryKey\n",
      "  |  | SalesOrderNumber\n",
      "  |  | SalesOrderLineNumber\n",
      "  |  | RevisionNumber\n",
      "  |  | OrderQuantity\n",
      "  |  | UnitPrice\n",
      "  |  | ExtendedAmount\n",
      "  |  | UnitPriceDiscountPct\n",
      "  |  | DiscountAmount\n",
      "  |  | ProductStandardCost\n",
      "  |  | TotalProductCost\n",
      "  |  | SalesAmount\n",
      "  |  | TaxAmt\n",
      "  |  | Freight\n",
      "  |  | CarrierTrackingNumber\n",
      "  |  | CustomerPONumber\n",
      "  |  | OrderDate\n",
      "  |  | DueDate\n",
      "  |  | ShipDate\n",
      "  | prospectivebuyer\n",
      "  |  | ProspectiveBuyerKey\n",
      "  |  | ProspectAlternateKey\n",
      "  |  | FirstName\n",
      "  |  | MiddleName\n",
      "  |  | LastName\n",
      "  |  | BirthDate\n",
      "  |  | MaritalStatus\n",
      "  |  | Gender\n",
      "  |  | EmailAddress\n",
      "  |  | YearlyIncome\n",
      "  |  | TotalChildren\n",
      "  |  | NumberChildrenAtHome\n",
      "  |  | Education\n",
      "  |  | Occupation\n",
      "  |  | HouseOwnerFlag\n",
      "  |  | NumberCarsOwned\n",
      "  |  | AddressLine1\n",
      "  |  | AddressLine2\n",
      "  |  | City\n",
      "  |  | StateProvinceCode\n",
      "  |  | PostalCode\n",
      "  |  | Phone\n",
      "  |  | Salutation\n",
      "  |  | Unknown\n",
      "  | factfinance\n",
      "  |  | FinanceKey\n",
      "  |  | DateKey\n",
      "  |  | OrganizationKey\n",
      "  |  | DepartmentGroupKey\n",
      "  |  | ScenarioKey\n",
      "  |  | AccountKey\n",
      "  |  | Amount\n",
      "  |  | Date\n",
      "  | factsalesquota\n",
      "  |  | SalesQuotaKey\n",
      "  |  | EmployeeKey\n",
      "  |  | DateKey\n",
      "  |  | CalendarYear\n",
      "  |  | CalendarQuarter\n",
      "  |  | SalesAmountQuota\n",
      "  |  | Date\n"
     ]
    }
   ],
   "source": [
    "datasource.select(\"dbo\", \"dimcustomer\")\n",
    "datasource.select(\"dbo\", \"dimproduct\")\n",
    "datasource.select(\"dbo\", \"factinternetsales\")\n",
    "datasource.pretty_print()"
   ]
  },
  {
   "cell_type": "markdown",
   "id": "24",
   "metadata": {
    "nteract": {
     "transient": {
      "deleting": false
     }
    }
   },
   "source": [
    "#### Add IDs to Fabric Client"
   ]
  },
  {
   "cell_type": "markdown",
   "id": "25",
   "metadata": {
    "nteract": {
     "transient": {
      "deleting": false
     }
    }
   },
   "source": [
    "Now that the Data Agent is created and relevant datasources and tables are selected. We can start with adding the fabric client. Pass the `ai_skill_name` to the `FabricOpenAI` class imported and create the `fabric_client` instance."
   ]
  },
  {
   "cell_type": "code",
   "execution_count": null,
   "id": "26",
   "metadata": {
    "jupyter": {
     "outputs_hidden": false,
     "source_hidden": false
    },
    "nteract": {
     "transient": {
      "deleting": false
     }
    }
   },
   "outputs": [
    {
     "data": {
      "application/vnd.livy.statement-meta+json": {
       "execution_finish_time": "2025-03-03T23:25:04.5280391Z",
       "execution_start_time": "2025-03-03T23:25:01.9756271Z",
       "livy_statement_state": "available",
       "normalized_state": "finished",
       "parent_msg_id": "c713e11d-7d4f-4ac6-a3da-b16dd990cada",
       "queued_time": "2025-03-03T23:23:47.8087423Z",
       "session_id": "dcaeaad8-6824-4b3f-b781-84c0269606d7",
       "session_start_time": null,
       "spark_pool": null,
       "state": "finished",
       "statement_id": 19,
       "statement_ids": [
        19
       ]
      },
      "text/plain": [
       "StatementMeta(, dcaeaad8-6824-4b3f-b781-84c0269606d7, 19, Finished, Available, Finished)"
      ]
     },
     "metadata": {},
     "output_type": "display_data"
    },
    {
     "name": "stdout",
     "output_type": "stream",
     "text": [
      "asst_4ZxQTwBAe8hSULQ7FHzHlwfX\n",
      "thread_zIqnt8BPaijC9Irh3rXr9shH\n"
     ]
    }
   ],
   "source": [
    "import sempy.fabric as fabric\n",
    "from fabric.dataagent.client import FabricOpenAI\n",
    "\n",
    "\n",
    "fabric_client = FabricOpenAI(artifact_name=ai_skill_name)\n",
    "assistant = fabric_client.beta.assistants.create(model=\"gpt-4o\")\n",
    "thread = fabric_client.beta.threads.create()\n",
    "\n",
    "print(assistant.id)\n",
    "print(thread.id)"
   ]
  },
  {
   "cell_type": "markdown",
   "id": "27",
   "metadata": {
    "nteract": {
     "transient": {
      "deleting": false
     }
    }
   },
   "source": [
    "#### Example Showing Message Submission and Query to Response Steps\n",
    "- Message appended to a thread, run creation, checking the status and final response\n",
    "- Submit message using the create method in messages, pass an example question in content.\n",
    "- Then, create a run for the particular `thread.id`."
   ]
  },
  {
   "cell_type": "code",
   "execution_count": null,
   "id": "28",
   "metadata": {},
   "outputs": [
    {
     "data": {
      "application/vnd.livy.statement-meta+json": {
       "execution_finish_time": "2025-03-03T23:25:05.4311816Z",
       "execution_start_time": "2025-03-03T23:25:04.5305277Z",
       "livy_statement_state": "available",
       "normalized_state": "finished",
       "parent_msg_id": "2937c322-7067-468d-b653-c01b9c009007",
       "queued_time": "2025-03-03T23:23:47.8093107Z",
       "session_id": "dcaeaad8-6824-4b3f-b781-84c0269606d7",
       "session_start_time": null,
       "spark_pool": null,
       "state": "finished",
       "statement_id": 20,
       "statement_ids": [
        20
       ]
      },
      "text/plain": [
       "StatementMeta(, dcaeaad8-6824-4b3f-b781-84c0269606d7, 20, Finished, Available, Finished)"
      ]
     },
     "metadata": {},
     "output_type": "display_data"
    }
   ],
   "source": [
    "# Create a message to append to our thread\n",
    "fabric_client.beta.threads.messages.create(\n",
    "    thread_id=thread.id,\n",
    "    role=\"user\",\n",
    "    content=\"What was the best selling product by volume in 2013?\",\n",
    ")\n",
    "run = fabric_client.beta.threads.runs.create(\n",
    "    thread_id=thread.id, assistant_id=assistant.id\n",
    ")"
   ]
  },
  {
   "cell_type": "markdown",
   "id": "29",
   "metadata": {
    "nteract": {
     "transient": {
      "deleting": false
     }
    }
   },
   "source": [
    "#### Checking Status\n",
    "Below cell is to show you how we can check the status of the run. Note that if multiple questions are asked, you will use this to check status of various questions in the interim, as they are in a queue. You can always only have 1x run active per thread."
   ]
  },
  {
   "cell_type": "code",
   "execution_count": null,
   "id": "30",
   "metadata": {
    "jupyter": {
     "outputs_hidden": false,
     "source_hidden": false
    },
    "nteract": {
     "transient": {
      "deleting": false
     }
    }
   },
   "outputs": [
    {
     "data": {
      "application/vnd.livy.statement-meta+json": {
       "execution_finish_time": "2025-03-03T23:25:31.063146Z",
       "execution_start_time": "2025-03-03T23:25:05.4336543Z",
       "livy_statement_state": "available",
       "normalized_state": "finished",
       "parent_msg_id": "7f0445e0-fec7-4913-a3b2-e957c710d408",
       "queued_time": "2025-03-03T23:23:47.8098774Z",
       "session_id": "dcaeaad8-6824-4b3f-b781-84c0269606d7",
       "session_start_time": null,
       "spark_pool": null,
       "state": "finished",
       "statement_id": 21,
       "statement_ids": [
        21
       ]
      },
      "text/plain": [
       "StatementMeta(, dcaeaad8-6824-4b3f-b781-84c0269606d7, 21, Finished, Available, Finished)"
      ]
     },
     "metadata": {},
     "output_type": "display_data"
    },
    {
     "name": "stdout",
     "output_type": "stream",
     "text": [
      "completed\n"
     ]
    }
   ],
   "source": [
    "import time\n",
    "# Wait for completion\n",
    "while run.status == \"queued\" or run.status == \"in_progress\":\n",
    "    run = fabric_client.beta.threads.runs.retrieve(\n",
    "        thread_id=thread.id,\n",
    "        run_id=run.id,\n",
    "    )\n",
    "    time.sleep(2)\n",
    "print(run.status)"
   ]
  },
  {
   "cell_type": "markdown",
   "id": "31",
   "metadata": {
    "vscode": {
     "languageId": "markdown"
    }
   },
   "source": [
    "#### Retrieving and Displaying Results\n",
    "Once the run is completed, we can retrieve and display the results generated by the Data Agent. The following steps demonstrate how to access and present the response data."
   ]
  },
  {
   "cell_type": "markdown",
   "id": "32",
   "metadata": {
    "nteract": {
     "transient": {
      "deleting": false
     }
    }
   },
   "source": [
    "\n",
    "- Response from the agent can be read from the messages list for particular thread id.\n",
    "- In order to improve readability, we can use a pretty_print function for all the messages."
   ]
  },
  {
   "cell_type": "code",
   "execution_count": null,
   "id": "33",
   "metadata": {
    "jupyter": {
     "outputs_hidden": false,
     "source_hidden": false
    },
    "nteract": {
     "transient": {
      "deleting": false
     }
    }
   },
   "outputs": [
    {
     "data": {
      "application/vnd.livy.statement-meta+json": {
       "execution_finish_time": "2025-03-03T23:25:31.9963853Z",
       "execution_start_time": "2025-03-03T23:25:31.065742Z",
       "livy_statement_state": "available",
       "normalized_state": "finished",
       "parent_msg_id": "dc429762-1761-4e78-a8b3-28846d5c85ca",
       "queued_time": "2025-03-03T23:23:47.8104263Z",
       "session_id": "dcaeaad8-6824-4b3f-b781-84c0269606d7",
       "session_start_time": null,
       "spark_pool": null,
       "state": "finished",
       "statement_id": 22,
       "statement_ids": [
        22
       ]
      },
      "text/plain": [
       "StatementMeta(, dcaeaad8-6824-4b3f-b781-84c0269606d7, 22, Finished, Available, Finished)"
      ]
     },
     "metadata": {},
     "output_type": "display_data"
    }
   ],
   "source": [
    "# Retrieve all the messages added after our last user message\n",
    "response = fabric_client.beta.threads.messages.list(thread_id=thread.id, order=\"asc\")"
   ]
  },
  {
   "cell_type": "code",
   "execution_count": null,
   "id": "34",
   "metadata": {
    "jupyter": {
     "outputs_hidden": false,
     "source_hidden": false
    },
    "nteract": {
     "transient": {
      "deleting": false
     }
    }
   },
   "outputs": [
    {
     "data": {
      "application/vnd.livy.statement-meta+json": {
       "execution_finish_time": "2025-03-03T23:25:32.324081Z",
       "execution_start_time": "2025-03-03T23:25:31.9991455Z",
       "livy_statement_state": "available",
       "normalized_state": "finished",
       "parent_msg_id": "3912ea9c-e959-48aa-b2dc-54a00d9f4026",
       "queued_time": "2025-03-03T23:23:47.8110082Z",
       "session_id": "dcaeaad8-6824-4b3f-b781-84c0269606d7",
       "session_start_time": null,
       "spark_pool": null,
       "state": "finished",
       "statement_id": 23,
       "statement_ids": [
        23
       ]
      },
      "text/plain": [
       "StatementMeta(, dcaeaad8-6824-4b3f-b781-84c0269606d7, 23, Finished, Available, Finished)"
      ]
     },
     "metadata": {},
     "output_type": "display_data"
    }
   ],
   "source": [
    "# Pretty printing helper\n",
    "def pretty_print(messages):\n",
    "    print(\"# Messages\")\n",
    "    for m in messages:\n",
    "        print(f\"{m.role}: {m.content[0].text.value}\")\n",
    "    print()"
   ]
  },
  {
   "cell_type": "code",
   "execution_count": null,
   "id": "35",
   "metadata": {
    "jupyter": {
     "outputs_hidden": false,
     "source_hidden": false
    },
    "nteract": {
     "transient": {
      "deleting": false
     }
    }
   },
   "outputs": [
    {
     "data": {
      "application/vnd.livy.statement-meta+json": {
       "execution_finish_time": "2025-03-03T23:25:32.6392303Z",
       "execution_start_time": "2025-03-03T23:25:32.3265211Z",
       "livy_statement_state": "available",
       "normalized_state": "finished",
       "parent_msg_id": "d38feff0-23e1-4a83-a470-2b2cc456454f",
       "queued_time": "2025-03-03T23:23:47.8115581Z",
       "session_id": "dcaeaad8-6824-4b3f-b781-84c0269606d7",
       "session_start_time": null,
       "spark_pool": null,
       "state": "finished",
       "statement_id": 24,
       "statement_ids": [
        24
       ]
      },
      "text/plain": [
       "StatementMeta(, dcaeaad8-6824-4b3f-b781-84c0269606d7, 24, Finished, Available, Finished)"
      ]
     },
     "metadata": {},
     "output_type": "display_data"
    },
    {
     "name": "stdout",
     "output_type": "stream",
     "text": [
      "# Messages\n",
      "user: What was the best selling product by volume in 2013?\n",
      "assistant: To answer your question comprehensively, I'll need to gather additional details. Specifically, I will look into:\n",
      "\n",
      "1. The top 3 best selling products by volume in 2013.\n",
      "2. The top 3 best selling products by volume in 2012.\n",
      "3. The top 3 best selling products by volume across all years.\n",
      "\n",
      "After gathering this information, I can provide a detailed comparison and answer your original question. I'll start by querying these three pieces of information.\n",
      "assistant: Here is a comprehensive look at the best selling products by volume:\n",
      "\n",
      "### Top 3 Best Selling Products by Volume in 2013:\n",
      "1. **Water Bottle - 30 oz.** with a total quantity of 4080 units.\n",
      "2. **Patch Kit/8 Patches** with a total quantity of 3026 units.\n",
      "3. **Mountain Tire Tube** with a total quantity of 2926 units.\n",
      "\n",
      "### Top 3 Best Selling Products by Volume in 2012:\n",
      "1. **Mountain-200 Black, 46** with a total quantity of 206 units.\n",
      "2. **Mountain-200 Black, 42** with a total quantity of 191 units.\n",
      "3. **Mountain-200 Silver, 46** with a total quantity of 182 units.\n",
      "\n",
      "### Top 3 Best Selling Products by Volume Across All Years:\n",
      "1. **Water Bottle - 30 oz.** with a total quantity of 4244 units.\n",
      "2. **Patch Kit/8 Patches** with a total quantity of 3191 units.\n",
      "3. **Mountain Tire Tube** with a total quantity of 3095 units.\n",
      "\n",
      "From this data, we can see that in 2013, the best selling product by volume was the **Water Bottle - 30 oz.** with 4080 units sold. This product also happens to be the highest selling product across all years as well.\n",
      "\n"
     ]
    }
   ],
   "source": [
    "pretty_print(response)"
   ]
  },
  {
   "cell_type": "markdown",
   "id": "36",
   "metadata": {
    "nteract": {
     "transient": {
      "deleting": false
     }
    }
   },
   "source": [
    "#### Some debugging and verification tools: `run_steps`\n",
    "We can use `run_steps` to check the data from the run. It can be parsed to separate out specifics such as generation of SQL query or some intermediate answers.\n"
   ]
  },
  {
   "cell_type": "code",
   "execution_count": null,
   "id": "37",
   "metadata": {
    "jupyter": {
     "outputs_hidden": false,
     "source_hidden": false
    },
    "nteract": {
     "transient": {
      "deleting": false
     }
    }
   },
   "outputs": [
    {
     "data": {
      "application/vnd.livy.statement-meta+json": {
       "execution_finish_time": "2025-03-03T23:25:33.5924248Z",
       "execution_start_time": "2025-03-03T23:25:32.641769Z",
       "livy_statement_state": "available",
       "normalized_state": "finished",
       "parent_msg_id": "5d5e32b6-3dd6-468c-a370-42fb05513368",
       "queued_time": "2025-03-03T23:23:47.8121188Z",
       "session_id": "dcaeaad8-6824-4b3f-b781-84c0269606d7",
       "session_start_time": null,
       "spark_pool": null,
       "state": "finished",
       "statement_id": 25,
       "statement_ids": [
        25
       ]
      },
      "text/plain": [
       "StatementMeta(, dcaeaad8-6824-4b3f-b781-84c0269606d7, 25, Finished, Available, Finished)"
      ]
     },
     "metadata": {},
     "output_type": "display_data"
    }
   ],
   "source": [
    "run_steps = fabric_client.beta.threads.runs.steps.list(\n",
    "    thread_id=thread.id,\n",
    "    run_id=run.id,\n",
    ")"
   ]
  },
  {
   "cell_type": "code",
   "execution_count": null,
   "id": "38",
   "metadata": {
    "jupyter": {
     "outputs_hidden": false,
     "source_hidden": false
    },
    "nteract": {
     "transient": {
      "deleting": false
     }
    }
   },
   "outputs": [
    {
     "data": {
      "application/vnd.livy.statement-meta+json": {
       "execution_finish_time": "2025-03-03T23:25:33.9131759Z",
       "execution_start_time": "2025-03-03T23:25:33.5949144Z",
       "livy_statement_state": "available",
       "normalized_state": "finished",
       "parent_msg_id": "ffcaad06-123b-4ab8-be94-3ce3f9f97a93",
       "queued_time": "2025-03-03T23:23:47.8126821Z",
       "session_id": "dcaeaad8-6824-4b3f-b781-84c0269606d7",
       "session_start_time": null,
       "spark_pool": null,
       "state": "finished",
       "statement_id": 26,
       "statement_ids": [
        26
       ]
      },
      "text/plain": [
       "StatementMeta(, dcaeaad8-6824-4b3f-b781-84c0269606d7, 26, Finished, Available, Finished)"
      ]
     },
     "metadata": {},
     "output_type": "display_data"
    },
    {
     "data": {
      "text/plain": [
       "[RunStep(id='step_3y7Fr6yFWGwqve5n8qn6FLoC', assistant_id='asst_4ZxQTwBAe8hSULQ7FHzHlwfX', cancelled_at=None, completed_at=1741044324, created_at=1741044322, expired_at=None, failed_at=None, last_error=None, metadata=None, object='thread.run.step', run_id='5864aeeb-47a0-4bc1-8246-99a290c45e6d', status='completed', step_details=MessageCreationStepDetails(message_creation=MessageCreation(message_id='msg_VBpGY52TT0M7j6thtAn4Vhpj'), type='message_creation'), thread_id='thread_zIqnt8BPaijC9Irh3rXr9shH', type='message_creation', usage=Usage(completion_tokens=285, prompt_tokens=1857, total_tokens=2142, prompt_token_details={'cached_tokens': 0}), expires_at=None),\n",
       " RunStep(id='step_znxVXb24YnGtGfIyunz6jAoI', assistant_id='asst_4ZxQTwBAe8hSULQ7FHzHlwfX', cancelled_at=None, completed_at=1741044321, created_at=1741044309, expired_at=None, failed_at=None, last_error=None, metadata=None, object='thread.run.step', run_id='5864aeeb-47a0-4bc1-8246-99a290c45e6d', status='completed', step_details=ToolCallsStepDetails(tool_calls=[FunctionToolCall(id='call_lgTpTGwtrCGsewcrNLUc91Uk', function=Function(arguments='{\"query\": \"What were the top 3 best selling products by volume in 2013?\"}', name='analyze_database', output='| ProductName           |   TotalQuantity |\\n|:----------------------|----------------:|\\n| Water Bottle - 30 oz. |            4080 |\\n| Patch Kit/8 Patches   |            3026 |\\n| Mountain Tire Tube    |            2926 |\\n\\n```sql\\nSELECT TOP 3 \\n    dp.EnglishProductName AS ProductName,\\n    SUM(fis.OrderQuantity) AS TotalQuantity\\nFROM \\n    dbo.factinternetsales fis\\nJOIN \\n    dbo.dimproduct dp ON fis.ProductKey = dp.ProductKey\\nWHERE \\n    YEAR(fis.OrderDate) = 2013\\nGROUP BY \\n    dp.EnglishProductName\\nORDER BY \\n    TotalQuantity DESC;\\n```'), type='function'), FunctionToolCall(id='call_zamSOHxpyyeTCFxzveodLAgt', function=Function(arguments='{\"query\": \"What were the top 3 best selling products by volume in 2012?\"}', name='analyze_database', output='| ProductName             |   TotalQuantity |\\n|:------------------------|----------------:|\\n| Mountain-200 Black, 46  |             206 |\\n| Mountain-200 Black, 42  |             191 |\\n| Mountain-200 Silver, 46 |             182 |\\n\\n```sql\\nSELECT TOP 3 \\n    dp.EnglishProductName AS ProductName,\\n    SUM(fis.OrderQuantity) AS TotalQuantity\\nFROM \\n    dbo.factinternetsales fis\\nJOIN \\n    dbo.dimproduct dp ON fis.ProductKey = dp.ProductKey\\nWHERE \\n    YEAR(fis.OrderDate) = 2012\\nGROUP BY \\n    dp.EnglishProductName\\nORDER BY \\n    TotalQuantity DESC;\\n```'), type='function'), FunctionToolCall(id='call_y0jEhV9Hrmem172NqKgr8Fl1', function=Function(arguments='{\"query\": \"What were the top 3 best selling products by volume across all years?\"}', name='analyze_database', output='| ProductName           |   TotalQuantity |\\n|:----------------------|----------------:|\\n| Water Bottle - 30 oz. |            4244 |\\n| Patch Kit/8 Patches   |            3191 |\\n| Mountain Tire Tube    |            3095 |\\n\\n```sql\\nSELECT TOP 3 \\n    dp.EnglishProductName AS ProductName,\\n    SUM(fis.OrderQuantity) AS TotalQuantity\\nFROM \\n    dbo.factinternetsales fis\\nJOIN \\n    dbo.dimproduct dp ON fis.ProductKey = dp.ProductKey\\nGROUP BY \\n    dp.EnglishProductName\\nORDER BY \\n    TotalQuantity DESC;\\n```'), type='function')], type='tool_calls'), thread_id='thread_zIqnt8BPaijC9Irh3rXr9shH', type='tool_calls', usage=Usage(completion_tokens=0, prompt_tokens=0, total_tokens=0, prompt_token_details={'cached_tokens': 0}), expires_at=None),\n",
       " RunStep(id='step_rnQmcZo0iuXZC8WfNVkNyFtT', assistant_id='asst_4ZxQTwBAe8hSULQ7FHzHlwfX', cancelled_at=None, completed_at=1741044309, created_at=1741044308, expired_at=None, failed_at=None, last_error=None, metadata=None, object='thread.run.step', run_id='5864aeeb-47a0-4bc1-8246-99a290c45e6d', status='completed', step_details=MessageCreationStepDetails(message_creation=MessageCreation(message_id='msg_MoawkTwEzzRwsf4yuOTtZiGl'), type='message_creation'), thread_id='thread_zIqnt8BPaijC9Irh3rXr9shH', type='message_creation', usage=Usage(completion_tokens=97, prompt_tokens=1178, total_tokens=1275, prompt_token_details={'cached_tokens': 0}), expires_at=None)]"
      ]
     },
     "execution_count": null,
     "metadata": {},
     "output_type": "execute_result"
    }
   ],
   "source": [
    "run_steps.data"
   ]
  },
  {
   "cell_type": "markdown",
   "id": "39",
   "metadata": {
    "nteract": {
     "transient": {
      "deleting": false
     }
    }
   },
   "source": [
    "#### Clean Up\n",
    "- After all required tasks with the run are over, you can delete the thread. If you want to retain the previous information, you can skip this step.\n",
    "- If you don't need the Data Agent anymore, you can delete it entirely also."
   ]
  },
  {
   "cell_type": "code",
   "execution_count": null,
   "id": "40",
   "metadata": {
    "jupyter": {
     "outputs_hidden": false,
     "source_hidden": false
    },
    "nteract": {
     "transient": {
      "deleting": false
     }
    }
   },
   "outputs": [
    {
     "data": {
      "application/vnd.livy.statement-meta+json": {
       "execution_finish_time": "2025-03-03T23:25:34.7928852Z",
       "execution_start_time": "2025-03-03T23:25:33.9157733Z",
       "livy_statement_state": "available",
       "normalized_state": "finished",
       "parent_msg_id": "98bae29e-1749-4ff4-91fe-99d1810639d8",
       "queued_time": "2025-03-03T23:23:47.813249Z",
       "session_id": "dcaeaad8-6824-4b3f-b781-84c0269606d7",
       "session_start_time": null,
       "spark_pool": null,
       "state": "finished",
       "statement_id": 27,
       "statement_ids": [
        27
       ]
      },
      "text/plain": [
       "StatementMeta(, dcaeaad8-6824-4b3f-b781-84c0269606d7, 27, Finished, Available, Finished)"
      ]
     },
     "metadata": {},
     "output_type": "display_data"
    },
    {
     "data": {
      "text/plain": [
       "ThreadDeleted(id='thread_zIqnt8BPaijC9Irh3rXr9shH', deleted=None, object=None, messages=None, metadata=None)"
      ]
     },
     "execution_count": null,
     "metadata": {},
     "output_type": "execute_result"
    }
   ],
   "source": [
    "fabric_client.beta.threads.delete(thread.id)"
   ]
  },
  {
   "cell_type": "code",
   "execution_count": null,
   "id": "41",
   "metadata": {},
   "outputs": [
    {
     "data": {
      "application/vnd.livy.statement-meta+json": {
       "execution_finish_time": "2025-03-03T23:25:35.7016802Z",
       "execution_start_time": "2025-03-03T23:25:34.7955941Z",
       "livy_statement_state": "available",
       "normalized_state": "finished",
       "parent_msg_id": "ec3614a9-36c4-4684-b196-a4f86a4cb0c5",
       "queued_time": "2025-03-03T23:23:47.8138002Z",
       "session_id": "dcaeaad8-6824-4b3f-b781-84c0269606d7",
       "session_start_time": null,
       "spark_pool": null,
       "state": "finished",
       "statement_id": 28,
       "statement_ids": [
        28
       ]
      },
      "text/plain": [
       "StatementMeta(, dcaeaad8-6824-4b3f-b781-84c0269606d7, 28, Finished, Available, Finished)"
      ]
     },
     "metadata": {},
     "output_type": "display_data"
    }
   ],
   "source": [
    "delete_data_agent(ai_skill_name)"
   ]
  }
 ],
 "metadata": {
  "a365ComputeOptions": null,
  "kernel_info": {
   "name": "synapse_pyspark"
  },
  "kernelspec": {
   "display_name": "agent-sdk",
   "language": "python",
   "name": "python3"
  },
  "language_info": {
   "name": "python"
  },
  "nteract": {
   "version": "nteract-front-end@1.0.0"
  },
  "sessionKeepAliveTimeout": 0,
  "spark_compute": {
   "compute_id": "/trident/default",
   "session_options": {
    "conf": {
     "spark.synapse.nbs.session.timeout": "1200000"
    }
   }
  }
 },
 "nbformat": 4,
 "nbformat_minor": 5
}
