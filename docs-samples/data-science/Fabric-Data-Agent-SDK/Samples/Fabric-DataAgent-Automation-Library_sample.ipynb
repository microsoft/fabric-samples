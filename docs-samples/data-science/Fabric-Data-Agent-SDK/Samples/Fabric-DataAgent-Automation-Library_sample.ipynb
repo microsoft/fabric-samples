{
 "cells": [
  {
   "cell_type": "markdown",
   "id": "0",
   "metadata": {
    "nteract": {
     "transient": {
      "deleting": false
     }
    }
   },
   "source": [
    "### Fabric Data Agent Automation Library"
   ]
  },
  {
   "cell_type": "markdown",
   "id": "1",
   "metadata": {
    "nteract": {
     "transient": {
      "deleting": false
     }
    }
   },
   "source": [
    "### Introduction\n",
    "This notebook demonstrates how to automate Fabric data agent functionalities such as creating a data agent; adding a datasource (e.g. Lakehouse) or adding instructions to a data agent programmatically using our library. More information on data agent can be found [here](https://learn.microsoft.com/en-us/fabric/data-science/concept-ai-skill)."
   ]
  },
  {
   "cell_type": "code",
   "execution_count": null,
   "id": "2",
   "metadata": {
    "jupyter": {
     "outputs_hidden": true
    }
   },
   "outputs": [
    {
     "data": {
      "application/vnd.livy.statement-meta+json": {
       "execution_finish_time": "2025-03-25T21:24:10.4363896Z",
       "execution_start_time": "2025-03-25T21:23:52.6780752Z",
       "livy_statement_state": "available",
       "normalized_state": "finished",
       "parent_msg_id": "068e6851-92c8-4182-b6ba-595f469aed56",
       "queued_time": "2025-03-25T21:23:42.570756Z",
       "session_id": "63babb7b-1224-4272-af46-33cb1af9ad84",
       "session_start_time": "2025-03-25T21:23:42.5710564Z",
       "spark_pool": null,
       "state": "finished",
       "statement_id": 7,
       "statement_ids": [
        3,
        4,
        5,
        6,
        7
       ]
      },
      "text/plain": [
       "StatementMeta(, 63babb7b-1224-4272-af46-33cb1af9ad84, 7, Finished, Available, Finished)"
      ]
     },
     "metadata": {},
     "output_type": "display_data"
    },
    {
     "name": "stdout",
     "output_type": "stream",
     "text": [
      "Collecting fabric-data-agent-sdk\n",
      "  Downloading fabric_data_agent_sdk-0.0.2a0-py3-none-any.whl.metadata (3.1 kB)\n",
      "Requirement already satisfied: semantic-link-sempy>=0.8.0 in /home/trusted-service-user/cluster-env/trident_env/lib/python3.11/site-packages (from fabric-data-agent-sdk) (0.9.3)\n",
      "Collecting openai>=1.57.0 (from fabric-data-agent-sdk)\n",
      "  Downloading openai-1.68.2-py3-none-any.whl.metadata (25 kB)\n",
      "Collecting httpx==0.27.2 (from fabric-data-agent-sdk)\n",
      "  Downloading httpx-0.27.2-py3-none-any.whl.metadata (7.1 kB)\n",
      "Requirement already satisfied: anyio in /home/trusted-service-user/cluster-env/trident_env/lib/python3.11/site-packages (from httpx==0.27.2->fabric-data-agent-sdk) (4.2.0)\n",
      "Requirement already satisfied: certifi in /home/trusted-service-user/cluster-env/trident_env/lib/python3.11/site-packages (from httpx==0.27.2->fabric-data-agent-sdk) (2024.2.2)\n",
      "Collecting httpcore==1.* (from httpx==0.27.2->fabric-data-agent-sdk)\n",
      "  Downloading httpcore-1.0.7-py3-none-any.whl.metadata (21 kB)\n",
      "Requirement already satisfied: idna in /home/trusted-service-user/cluster-env/trident_env/lib/python3.11/site-packages (from httpx==0.27.2->fabric-data-agent-sdk) (3.4)\n",
      "Requirement already satisfied: sniffio in /home/trusted-service-user/cluster-env/trident_env/lib/python3.11/site-packages (from httpx==0.27.2->fabric-data-agent-sdk) (1.3.0)\n",
      "Collecting h11<0.15,>=0.13 (from httpcore==1.*->httpx==0.27.2->fabric-data-agent-sdk)\n",
      "  Downloading h11-0.14.0-py3-none-any.whl.metadata (8.2 kB)\n",
      "Requirement already satisfied: distro<2,>=1.7.0 in /home/trusted-service-user/cluster-env/trident_env/lib/python3.11/site-packages (from openai>=1.57.0->fabric-data-agent-sdk) (1.8.0)\n",
      "Collecting jiter<1,>=0.4.0 (from openai>=1.57.0->fabric-data-agent-sdk)\n",
      "  Downloading jiter-0.9.0-cp311-cp311-manylinux_2_17_x86_64.manylinux2014_x86_64.whl.metadata (5.2 kB)\n",
      "Collecting pydantic<3,>=1.9.0 (from openai>=1.57.0->fabric-data-agent-sdk)\n",
      "  Downloading pydantic-2.10.6-py3-none-any.whl.metadata (30 kB)\n",
      "Requirement already satisfied: tqdm>4 in /home/trusted-service-user/cluster-env/trident_env/lib/python3.11/site-packages (from openai>=1.57.0->fabric-data-agent-sdk) (4.65.0)\n",
      "Collecting typing-extensions<5,>=4.11 (from openai>=1.57.0->fabric-data-agent-sdk)\n",
      "  Downloading typing_extensions-4.12.2-py3-none-any.whl.metadata (3.0 kB)\n",
      "Requirement already satisfied: clr-loader>=0.2.5 in /home/trusted-service-user/cluster-env/trident_env/lib/python3.11/site-packages (from semantic-link-sempy>=0.8.0->fabric-data-agent-sdk) (0.2.5)\n",
      "Requirement already satisfied: graphviz>=0.20.1 in /home/trusted-service-user/cluster-env/trident_env/lib/python3.11/site-packages (from semantic-link-sempy>=0.8.0->fabric-data-agent-sdk) (0.20.1)\n",
      "Requirement already satisfied: pyarrow>=12.0.1 in /home/trusted-service-user/cluster-env/trident_env/lib/python3.11/site-packages (from semantic-link-sempy>=0.8.0->fabric-data-agent-sdk) (14.0.2)\n",
      "Requirement already satisfied: pythonnet>=3.0.1 in /home/trusted-service-user/cluster-env/trident_env/lib/python3.11/site-packages (from semantic-link-sempy>=0.8.0->fabric-data-agent-sdk) (3.0.1)\n",
      "Requirement already satisfied: scikit-learn>=1.2.2 in /home/trusted-service-user/cluster-env/trident_env/lib/python3.11/site-packages (from semantic-link-sempy>=0.8.0->fabric-data-agent-sdk) (1.2.2)\n",
      "Requirement already satisfied: setuptools>=68.2.2 in /home/trusted-service-user/cluster-env/trident_env/lib/python3.11/site-packages (from semantic-link-sempy>=0.8.0->fabric-data-agent-sdk) (68.2.2)\n",
      "Requirement already satisfied: rich>=13.3.5 in /home/trusted-service-user/cluster-env/trident_env/lib/python3.11/site-packages (from semantic-link-sempy>=0.8.0->fabric-data-agent-sdk) (13.3.5)\n",
      "Requirement already satisfied: cffi>=1.13 in /home/trusted-service-user/cluster-env/trident_env/lib/python3.11/site-packages (from clr-loader>=0.2.5->semantic-link-sempy>=0.8.0->fabric-data-agent-sdk) (1.16.0)\n",
      "Requirement already satisfied: numpy>=1.16.6 in /home/trusted-service-user/cluster-env/trident_env/lib/python3.11/site-packages (from pyarrow>=12.0.1->semantic-link-sempy>=0.8.0->fabric-data-agent-sdk) (1.26.4)\n",
      "Collecting annotated-types>=0.6.0 (from pydantic<3,>=1.9.0->openai>=1.57.0->fabric-data-agent-sdk)\n",
      "  Downloading annotated_types-0.7.0-py3-none-any.whl.metadata (15 kB)\n",
      "Collecting pydantic-core==2.27.2 (from pydantic<3,>=1.9.0->openai>=1.57.0->fabric-data-agent-sdk)\n",
      "  Downloading pydantic_core-2.27.2-cp311-cp311-manylinux_2_17_x86_64.manylinux2014_x86_64.whl.metadata (6.6 kB)\n",
      "Requirement already satisfied: markdown-it-py<3.0.0,>=2.2.0 in /home/trusted-service-user/cluster-env/trident_env/lib/python3.11/site-packages (from rich>=13.3.5->semantic-link-sempy>=0.8.0->fabric-data-agent-sdk) (2.2.0)\n",
      "Requirement already satisfied: pygments<3.0.0,>=2.13.0 in /home/trusted-service-user/cluster-env/trident_env/lib/python3.11/site-packages (from rich>=13.3.5->semantic-link-sempy>=0.8.0->fabric-data-agent-sdk) (2.15.1)\n",
      "Requirement already satisfied: scipy>=1.3.2 in /home/trusted-service-user/cluster-env/trident_env/lib/python3.11/site-packages (from scikit-learn>=1.2.2->semantic-link-sempy>=0.8.0->fabric-data-agent-sdk) (1.11.4)\n",
      "Requirement already satisfied: joblib>=1.1.1 in /home/trusted-service-user/cluster-env/trident_env/lib/python3.11/site-packages (from scikit-learn>=1.2.2->semantic-link-sempy>=0.8.0->fabric-data-agent-sdk) (1.2.0)\n",
      "Requirement already satisfied: threadpoolctl>=2.0.0 in /home/trusted-service-user/cluster-env/trident_env/lib/python3.11/site-packages (from scikit-learn>=1.2.2->semantic-link-sempy>=0.8.0->fabric-data-agent-sdk) (2.2.0)\n",
      "Requirement already satisfied: pycparser in /home/trusted-service-user/cluster-env/trident_env/lib/python3.11/site-packages (from cffi>=1.13->clr-loader>=0.2.5->semantic-link-sempy>=0.8.0->fabric-data-agent-sdk) (2.21)\n",
      "Requirement already satisfied: mdurl~=0.1 in /home/trusted-service-user/cluster-env/trident_env/lib/python3.11/site-packages (from markdown-it-py<3.0.0,>=2.2.0->rich>=13.3.5->semantic-link-sempy>=0.8.0->fabric-data-agent-sdk) (0.1.0)\n",
      "Downloading fabric_data_agent_sdk-0.0.2a0-py3-none-any.whl (21 kB)\n",
      "Downloading httpx-0.27.2-py3-none-any.whl (76 kB)\n",
      "\u001b[2K   \u001b[90m━━━━━━━━━━━━━━━━━━━━━━━━━━━━━━━━━━━━━━━━\u001b[0m \u001b[32m76.4/76.4 kB\u001b[0m \u001b[31m7.8 MB/s\u001b[0m eta \u001b[36m0:00:00\u001b[0m\n",
      "\u001b[?25hDownloading httpcore-1.0.7-py3-none-any.whl (78 kB)\n",
      "\u001b[2K   \u001b[90m━━━━━━━━━━━━━━━━━━━━━━━━━━━━━━━━━━━━━━━━\u001b[0m \u001b[32m78.6/78.6 kB\u001b[0m \u001b[31m11.5 MB/s\u001b[0m eta \u001b[36m0:00:00\u001b[0m\n",
      "\u001b[?25hDownloading openai-1.68.2-py3-none-any.whl (606 kB)\n",
      "\u001b[2K   \u001b[90m━━━━━━━━━━━━━━━━━━━━━━━━━━━━━━━━━━━━━━━━\u001b[0m \u001b[32m606.1/606.1 kB\u001b[0m \u001b[31m13.5 MB/s\u001b[0m eta \u001b[36m0:00:00\u001b[0ma \u001b[36m0:00:01\u001b[0m\n",
      "\u001b[?25hDownloading jiter-0.9.0-cp311-cp311-manylinux_2_17_x86_64.manylinux2014_x86_64.whl (351 kB)\n",
      "\u001b[2K   \u001b[90m━━━━━━━━━━━━━━━━━━━━━━━━━━━━━━━━━━━━━━━━\u001b[0m \u001b[32m351.8/351.8 kB\u001b[0m \u001b[31m16.6 MB/s\u001b[0m eta \u001b[36m0:00:00\u001b[0m\n",
      "\u001b[?25hDownloading pydantic-2.10.6-py3-none-any.whl (431 kB)\n",
      "\u001b[2K   \u001b[90m━━━━━━━━━━━━━━━━━━━━━━━━━━━━━━━━━━━━━━━━\u001b[0m \u001b[32m431.7/431.7 kB\u001b[0m \u001b[31m23.2 MB/s\u001b[0m eta \u001b[36m0:00:00\u001b[0m\n",
      "\u001b[?25hDownloading pydantic_core-2.27.2-cp311-cp311-manylinux_2_17_x86_64.manylinux2014_x86_64.whl (2.0 MB)\n",
      "\u001b[2K   \u001b[90m━━━━━━━━━━━━━━━━━━━━━━━━━━━━━━━━━━━━━━━━\u001b[0m \u001b[32m2.0/2.0 MB\u001b[0m \u001b[31m35.3 MB/s\u001b[0m eta \u001b[36m0:00:00\u001b[0ma \u001b[36m0:00:01\u001b[0m\n",
      "\u001b[?25hDownloading typing_extensions-4.12.2-py3-none-any.whl (37 kB)\n",
      "Downloading annotated_types-0.7.0-py3-none-any.whl (13 kB)\n",
      "Downloading h11-0.14.0-py3-none-any.whl (58 kB)\n",
      "\u001b[2K   \u001b[90m━━━━━━━━━━━━━━━━━━━━━━━━━━━━━━━━━━━━━━━━\u001b[0m \u001b[32m58.3/58.3 kB\u001b[0m \u001b[31m23.7 MB/s\u001b[0m eta \u001b[36m0:00:00\u001b[0m\n",
      "\u001b[?25hInstalling collected packages: typing-extensions, jiter, h11, annotated-types, pydantic-core, httpcore, pydantic, httpx, openai, fabric-data-agent-sdk\n",
      "  Attempting uninstall: typing-extensions\n",
      "    Found existing installation: typing_extensions 4.9.0\n",
      "    Not uninstalling typing-extensions at /home/trusted-service-user/cluster-env/trident_env/lib/python3.11/site-packages, outside environment /nfs4/pyenv-2e1b3074-2376-4cef-b3b6-c723ea5c7b58\n",
      "    Can't uninstall 'typing_extensions'. No files were found to uninstall.\n",
      "Successfully installed annotated-types-0.7.0 fabric-data-agent-sdk-0.0.2a0 h11-0.14.0 httpcore-1.0.7 httpx-0.27.2 jiter-0.9.0 openai-1.68.2 pydantic-2.10.6 pydantic-core-2.27.2 typing-extensions-4.12.2\n",
      "\n",
      "\u001b[1m[\u001b[0m\u001b[34;49mnotice\u001b[0m\u001b[1;39;49m]\u001b[0m\u001b[39;49m A new release of pip is available: \u001b[0m\u001b[31;49m24.0\u001b[0m\u001b[39;49m -> \u001b[0m\u001b[32;49m25.0.1\u001b[0m\n",
      "\u001b[1m[\u001b[0m\u001b[34;49mnotice\u001b[0m\u001b[1;39;49m]\u001b[0m\u001b[39;49m To update, run: \u001b[0m\u001b[32;49mpython -m pip install --upgrade pip\u001b[0m\n",
      "Note: you may need to restart the kernel to use updated packages.\n",
      "Warning: PySpark kernel has been restarted to use updated packages.\n",
      "\n"
     ]
    }
   ],
   "source": [
    "%pip install fabric-data-agent-sdk"
   ]
  },
  {
   "cell_type": "code",
   "execution_count": null,
   "id": "3",
   "metadata": {},
   "outputs": [
    {
     "data": {
      "application/vnd.livy.statement-meta+json": {
       "execution_finish_time": "2025-03-25T21:26:11.8679264Z",
       "execution_start_time": "2025-03-25T21:26:09.0334387Z",
       "livy_statement_state": "available",
       "normalized_state": "finished",
       "parent_msg_id": "4d8d73ab-c9e8-4d20-964e-d86dd8c8712d",
       "queued_time": "2025-03-25T21:26:04.4465587Z",
       "session_id": "63babb7b-1224-4272-af46-33cb1af9ad84",
       "session_start_time": null,
       "spark_pool": null,
       "state": "finished",
       "statement_id": 9,
       "statement_ids": [
        9
       ]
      },
      "text/plain": [
       "StatementMeta(, 63babb7b-1224-4272-af46-33cb1af9ad84, 9, Finished, Available, Finished)"
      ]
     },
     "metadata": {},
     "output_type": "display_data"
    },
    {
     "name": "stdout",
     "output_type": "stream",
     "text": [
      "Warning: This package is only supported in Fabric Python notebook.\n"
     ]
    }
   ],
   "source": [
    "from fabric.dataagent.client import (\n",
    "    FabricDataAgentManagement,\n",
    "    create_data_agent,\n",
    "    delete_data_agent,\n",
    ")"
   ]
  },
  {
   "cell_type": "markdown",
   "id": "4",
   "metadata": {
    "nteract": {
     "transient": {
      "deleting": false
     }
    }
   },
   "source": [
    "First, let's create a data agent"
   ]
  },
  {
   "cell_type": "code",
   "execution_count": null,
   "id": "5",
   "metadata": {},
   "outputs": [
    {
     "data": {
      "application/vnd.livy.statement-meta+json": {
       "execution_finish_time": "2025-03-25T21:26:20.0068555Z",
       "execution_start_time": "2025-03-25T21:26:19.42126Z",
       "livy_statement_state": "available",
       "normalized_state": "finished",
       "parent_msg_id": "30160f2d-335a-4b46-bd87-c33dcf195b10",
       "queued_time": "2025-03-25T21:26:19.4200983Z",
       "session_id": "63babb7b-1224-4272-af46-33cb1af9ad84",
       "session_start_time": null,
       "spark_pool": null,
       "state": "finished",
       "statement_id": 10,
       "statement_ids": [
        10
       ]
      },
      "text/plain": [
       "StatementMeta(, 63babb7b-1224-4272-af46-33cb1af9ad84, 10, Finished, Available, Finished)"
      ]
     },
     "metadata": {},
     "output_type": "display_data"
    }
   ],
   "source": [
    "data_agent_name = \"data_agent_automation_sample\""
   ]
  },
  {
   "cell_type": "code",
   "execution_count": null,
   "id": "6",
   "metadata": {},
   "outputs": [
    {
     "data": {
      "application/vnd.livy.statement-meta+json": {
       "execution_finish_time": "2025-03-25T21:26:36.3749183Z",
       "execution_start_time": "2025-03-25T21:26:22.2607193Z",
       "livy_statement_state": "available",
       "normalized_state": "finished",
       "parent_msg_id": "f2b132bf-cf50-465a-9a18-889e2acacb4c",
       "queued_time": "2025-03-25T21:26:22.2596777Z",
       "session_id": "63babb7b-1224-4272-af46-33cb1af9ad84",
       "session_start_time": null,
       "spark_pool": null,
       "state": "finished",
       "statement_id": 11,
       "statement_ids": [
        11
       ]
      },
      "text/plain": [
       "StatementMeta(, 63babb7b-1224-4272-af46-33cb1af9ad84, 11, Finished, Available, Finished)"
      ]
     },
     "metadata": {},
     "output_type": "display_data"
    }
   ],
   "source": [
    "# create DataAgent\n",
    "data_agent = create_data_agent(data_agent_name)"
   ]
  },
  {
   "cell_type": "markdown",
   "id": "7",
   "metadata": {
    "nteract": {
     "transient": {
      "deleting": false
     }
    }
   },
   "source": [
    "You can check the configuration of a data agent as shown below"
   ]
  },
  {
   "cell_type": "code",
   "execution_count": null,
   "id": "8",
   "metadata": {},
   "outputs": [
    {
     "data": {
      "application/vnd.livy.statement-meta+json": {
       "execution_finish_time": "2025-03-25T21:26:39.9825453Z",
       "execution_start_time": "2025-03-25T21:26:38.7682195Z",
       "livy_statement_state": "available",
       "normalized_state": "finished",
       "parent_msg_id": "ae02e897-cd8b-4301-af4c-62cd74528aeb",
       "queued_time": "2025-03-25T21:26:38.7670319Z",
       "session_id": "63babb7b-1224-4272-af46-33cb1af9ad84",
       "session_start_time": null,
       "spark_pool": null,
       "state": "finished",
       "statement_id": 12,
       "statement_ids": [
        12
       ]
      },
      "text/plain": [
       "StatementMeta(, 63babb7b-1224-4272-af46-33cb1af9ad84, 12, Finished, Available, Finished)"
      ]
     },
     "metadata": {},
     "output_type": "display_data"
    },
    {
     "data": {
      "text/plain": [
       "DataAgentConfiguration(instructions=None, user_description=None)"
      ]
     },
     "execution_count": null,
     "metadata": {},
     "output_type": "execute_result"
    }
   ],
   "source": [
    "# by default the instructions and description for the data agent will be empty, we will update them later in the notebook\n",
    "data_agent.get_configuration()"
   ]
  },
  {
   "cell_type": "markdown",
   "id": "9",
   "metadata": {
    "nteract": {
     "transient": {
      "deleting": false
     }
    }
   },
   "source": [
    "You can also initialize a client for an existing data agent"
   ]
  },
  {
   "cell_type": "code",
   "execution_count": null,
   "id": "10",
   "metadata": {},
   "outputs": [
    {
     "data": {
      "application/vnd.livy.statement-meta+json": {
       "execution_finish_time": "2025-03-25T21:27:16.4685579Z",
       "execution_start_time": "2025-03-25T21:27:15.1794021Z",
       "livy_statement_state": "available",
       "normalized_state": "finished",
       "parent_msg_id": "415ec831-badb-4412-b859-f13fbe20b4f7",
       "queued_time": "2025-03-25T21:27:15.1781624Z",
       "session_id": "63babb7b-1224-4272-af46-33cb1af9ad84",
       "session_start_time": null,
       "spark_pool": null,
       "state": "finished",
       "statement_id": 14,
       "statement_ids": [
        14
       ]
      },
      "text/plain": [
       "StatementMeta(, 63babb7b-1224-4272-af46-33cb1af9ad84, 14, Finished, Available, Finished)"
      ]
     },
     "metadata": {},
     "output_type": "display_data"
    }
   ],
   "source": [
    "data_agent = FabricDataAgentManagement(data_agent_name)"
   ]
  },
  {
   "cell_type": "markdown",
   "id": "11",
   "metadata": {
    "nteract": {
     "transient": {
      "deleting": false
     }
    }
   },
   "source": [
    "Update data agent with instructions and a description"
   ]
  },
  {
   "cell_type": "code",
   "execution_count": null,
   "id": "12",
   "metadata": {},
   "outputs": [
    {
     "data": {
      "application/vnd.livy.statement-meta+json": {
       "execution_finish_time": "2025-03-25T21:27:34.9908621Z",
       "execution_start_time": "2025-03-25T21:27:32.3040865Z",
       "livy_statement_state": "available",
       "normalized_state": "finished",
       "parent_msg_id": "99d5ef2e-4ba6-4fa2-b918-8cdaaf73922c",
       "queued_time": "2025-03-25T21:27:32.3029163Z",
       "session_id": "63babb7b-1224-4272-af46-33cb1af9ad84",
       "session_start_time": null,
       "spark_pool": null,
       "state": "finished",
       "statement_id": 15,
       "statement_ids": [
        15
       ]
      },
      "text/plain": [
       "StatementMeta(, 63babb7b-1224-4272-af46-33cb1af9ad84, 15, Finished, Available, Finished)"
      ]
     },
     "metadata": {},
     "output_type": "display_data"
    },
    {
     "data": {
      "text/plain": [
       "DataAgentConfiguration(instructions='You are a helpful assistant, help users with their questions', user_description='Data Agent to assists users with insights from the AdventureWorks dataset.')"
      ]
     },
     "execution_count": null,
     "metadata": {},
     "output_type": "execute_result"
    }
   ],
   "source": [
    "data_agent.update_configuration(\n",
    "    instructions=\"You are a helpful assistant, help users with their questions\",\n",
    "    user_description=\"Data agent to assists users with insights from the AdventureWorks dataset.\",\n",
    ")\n",
    "data_agent.get_configuration()"
   ]
  },
  {
   "cell_type": "markdown",
   "id": "13",
   "metadata": {
    "nteract": {
     "transient": {
      "deleting": false
     }
    }
   },
   "source": [
    "You will now add a datasource to your data agent. In this sample, you will add a Lakehouse as a datasource, however you can also add Semantic Model or KQL database.\n",
    "\n",
    "You will work with a sample Lakehouse called AdventureWorks for the remainder of the notebook, you can also create the same Lakehouse by following the instructions here: https://learn.microsoft.com/en-us/fabric/data-science/ai-skill-scenario#create-a-lakehouse-with-adventureworksdw\n",
    "\n",
    "If you name your Lakehouse `AdventureWorks` the rest of the notebook should run without requiring any changes. If you would like to use your own Lakehouse, make sure to change the `lakehouse_name` and other relevant variables throughout the notebook."
   ]
  },
  {
   "cell_type": "code",
   "execution_count": null,
   "id": "14",
   "metadata": {},
   "outputs": [
    {
     "data": {
      "application/vnd.livy.statement-meta+json": {
       "execution_finish_time": "2025-03-25T21:28:43.6510074Z",
       "execution_start_time": "2025-03-25T21:28:27.3352345Z",
       "livy_statement_state": "available",
       "normalized_state": "finished",
       "parent_msg_id": "4b402771-ce18-4b2f-aa7b-9a2e34eb1549",
       "queued_time": "2025-03-25T21:28:27.3341228Z",
       "session_id": "63babb7b-1224-4272-af46-33cb1af9ad84",
       "session_start_time": null,
       "spark_pool": null,
       "state": "finished",
       "statement_id": 16,
       "statement_ids": [
        16
       ]
      },
      "text/plain": [
       "StatementMeta(, 63babb7b-1224-4272-af46-33cb1af9ad84, 16, Finished, Available, Finished)"
      ]
     },
     "metadata": {},
     "output_type": "display_data"
    },
    {
     "data": {
      "text/plain": [
       "Datasource(04be57db-55bb-4a11-afcf-d403693468c4)"
      ]
     },
     "execution_count": null,
     "metadata": {},
     "output_type": "execute_result"
    }
   ],
   "source": [
    "# add a lakehouse\n",
    "lakehouse_name = \"AdventureWorks\"\n",
    "# datasource type could be: lakehouse, kqldatabase, datawarehouse or semanticmodel\n",
    "data_agent.add_datasource(lakehouse_name, type=\"lakehouse\")"
   ]
  },
  {
   "cell_type": "code",
   "execution_count": null,
   "id": "15",
   "metadata": {},
   "outputs": [
    {
     "data": {
      "application/vnd.livy.statement-meta+json": {
       "execution_finish_time": "2025-03-25T21:28:48.0148048Z",
       "execution_start_time": "2025-03-25T21:28:46.2326032Z",
       "livy_statement_state": "available",
       "normalized_state": "finished",
       "parent_msg_id": "bf17429d-f98a-4e16-9cc0-8338d8b66d7c",
       "queued_time": "2025-03-25T21:28:46.2314504Z",
       "session_id": "63babb7b-1224-4272-af46-33cb1af9ad84",
       "session_start_time": null,
       "spark_pool": null,
       "state": "finished",
       "statement_id": 17,
       "statement_ids": [
        17
       ]
      },
      "text/plain": [
       "StatementMeta(, 63babb7b-1224-4272-af46-33cb1af9ad84, 17, Finished, Available, Finished)"
      ]
     },
     "metadata": {},
     "output_type": "display_data"
    },
    {
     "data": {
      "text/plain": [
       "[Datasource(04be57db-55bb-4a11-afcf-d403693468c4)]"
      ]
     },
     "execution_count": null,
     "metadata": {},
     "output_type": "execute_result"
    }
   ],
   "source": [
    "# we can check which datasources are added to the data agent\n",
    "data_agent.get_datasources()"
   ]
  },
  {
   "cell_type": "markdown",
   "id": "16",
   "metadata": {
    "nteract": {
     "transient": {
      "deleting": false
     }
    }
   },
   "source": [
    "You can publish the data agent."
   ]
  },
  {
   "cell_type": "code",
   "execution_count": null,
   "id": "17",
   "metadata": {},
   "outputs": [
    {
     "data": {
      "application/vnd.livy.statement-meta+json": {
       "execution_finish_time": "2025-03-25T21:28:55.3405342Z",
       "execution_start_time": "2025-03-25T21:28:50.3236494Z",
       "livy_statement_state": "available",
       "normalized_state": "finished",
       "parent_msg_id": "dbbdc091-7775-44af-898c-f408919ce09b",
       "queued_time": "2025-03-25T21:28:50.3224504Z",
       "session_id": "63babb7b-1224-4272-af46-33cb1af9ad84",
       "session_start_time": null,
       "spark_pool": null,
       "state": "finished",
       "statement_id": 18,
       "statement_ids": [
        18
       ]
      },
      "text/plain": [
       "StatementMeta(, 63babb7b-1224-4272-af46-33cb1af9ad84, 18, Finished, Available, Finished)"
      ]
     },
     "metadata": {},
     "output_type": "display_data"
    }
   ],
   "source": [
    "data_agent.publish()"
   ]
  },
  {
   "cell_type": "markdown",
   "id": "18",
   "metadata": {
    "nteract": {
     "transient": {
      "deleting": false
     }
    }
   },
   "source": [
    "Now you will work with the datasource you just added."
   ]
  },
  {
   "cell_type": "code",
   "execution_count": null,
   "id": "19",
   "metadata": {},
   "outputs": [
    {
     "data": {
      "application/vnd.livy.statement-meta+json": {
       "execution_finish_time": "2025-03-25T21:28:59.2125849Z",
       "execution_start_time": "2025-03-25T21:28:58.0320736Z",
       "livy_statement_state": "available",
       "normalized_state": "finished",
       "parent_msg_id": "1de1ffc5-42b8-4c50-9987-1ab276d8ee49",
       "queued_time": "2025-03-25T21:28:58.0308553Z",
       "session_id": "63babb7b-1224-4272-af46-33cb1af9ad84",
       "session_start_time": null,
       "spark_pool": null,
       "state": "finished",
       "statement_id": 19,
       "statement_ids": [
        19
       ]
      },
      "text/plain": [
       "StatementMeta(, 63babb7b-1224-4272-af46-33cb1af9ad84, 19, Finished, Available, Finished)"
      ]
     },
     "metadata": {},
     "output_type": "display_data"
    }
   ],
   "source": [
    "datasource = data_agent.get_datasources()[0]"
   ]
  },
  {
   "cell_type": "markdown",
   "id": "20",
   "metadata": {
    "nteract": {
     "transient": {
      "deleting": false
     }
    }
   },
   "source": [
    "You can take a look at the tables and the columns in the datasource. \n",
    "\n",
    "- Note that by default, the datasource is initialized with no table selected. A `*` next to the table indicates selected table.\n",
    "- You can select tables using `datasource.select` to pick the right tables or all tables related to the context of the question.\n",
    "- Selecting a table will also select all columns in the table."
   ]
  },
  {
   "cell_type": "code",
   "execution_count": null,
   "id": "21",
   "metadata": {},
   "outputs": [
    {
     "data": {
      "application/vnd.livy.statement-meta+json": {
       "execution_finish_time": "2025-03-25T21:29:06.1223936Z",
       "execution_start_time": "2025-03-25T21:29:04.9346153Z",
       "livy_statement_state": "available",
       "normalized_state": "finished",
       "parent_msg_id": "f90bc63f-8315-482f-83e7-14cd35daf0a9",
       "queued_time": "2025-03-25T21:29:04.9333051Z",
       "session_id": "63babb7b-1224-4272-af46-33cb1af9ad84",
       "session_start_time": null,
       "spark_pool": null,
       "state": "finished",
       "statement_id": 20,
       "statement_ids": [
        20
       ]
      },
      "text/plain": [
       "StatementMeta(, 63babb7b-1224-4272-af46-33cb1af9ad84, 20, Finished, Available, Finished)"
      ]
     },
     "metadata": {},
     "output_type": "display_data"
    },
    {
     "name": "stdout",
     "output_type": "stream",
     "text": [
      " dbo\n",
      "  | dimcurrency\n",
      "  |  | CurrencyKey\n",
      "  |  | CurrencyAlternateKey\n",
      "  |  | CurrencyName\n",
      "  | dimcustomer\n",
      "  |  | CustomerKey\n",
      "  |  | GeographyKey\n",
      "  |  | CustomerAlternateKey\n",
      "  |  | Title\n",
      "  |  | FirstName\n",
      "  |  | MiddleName\n",
      "  |  | LastName\n",
      "  |  | NameStyle\n",
      "  |  | BirthDate\n",
      "  |  | MaritalStatus\n",
      "  |  | Suffix\n",
      "  |  | Gender\n",
      "  |  | EmailAddress\n",
      "  |  | YearlyIncome\n",
      "  |  | TotalChildren\n",
      "  |  | NumberChildrenAtHome\n",
      "  |  | EnglishEducation\n",
      "  |  | SpanishEducation\n",
      "  |  | FrenchEducation\n",
      "  |  | EnglishOccupation\n",
      "  |  | SpanishOccupation\n",
      "  |  | FrenchOccupation\n",
      "  |  | HouseOwnerFlag\n",
      "  |  | NumberCarsOwned\n",
      "  |  | AddressLine1\n",
      "  |  | AddressLine2\n",
      "  |  | Phone\n",
      "  |  | DateFirstPurchase\n",
      "  |  | CommuteDistance\n",
      "  | dimaccount\n",
      "  |  | AccountKey\n",
      "  |  | ParentAccountKey\n",
      "  |  | AccountCodeAlternateKey\n",
      "  |  | ParentAccountCodeAlternateKey\n",
      "  |  | AccountDescription\n",
      "  |  | AccountType\n",
      "  |  | Operator\n",
      "  |  | CustomMembers\n",
      "  |  | ValueType\n",
      "  | dimproductcategory\n",
      "  |  | ProductCategoryKey\n",
      "  |  | ProductCategoryAlternateKey\n",
      "  |  | EnglishProductCategoryName\n",
      "  |  | SpanishProductCategoryName\n",
      "  |  | FrenchProductCategoryName\n",
      "  | dimpromotion\n",
      "  |  | PromotionKey\n",
      "  |  | PromotionAlternateKey\n",
      "  |  | EnglishPromotionName\n",
      "  |  | SpanishPromotionName\n",
      "  |  | FrenchPromotionName\n",
      "  |  | DiscountPct\n",
      "  |  | EnglishPromotionType\n",
      "  |  | SpanishPromotionType\n",
      "  |  | FrenchPromotionType\n",
      "  |  | EnglishPromotionCategory\n",
      "  |  | SpanishPromotionCategory\n",
      "  |  | FrenchPromotionCategory\n",
      "  |  | StartDate\n",
      "  |  | EndDate\n",
      "  |  | MinQty\n",
      "  |  | MaxQty\n",
      "  | dimdate\n",
      "  |  | DateKey\n",
      "  |  | FullDateAlternateKey\n",
      "  |  | DayNumberOfWeek\n",
      "  |  | EnglishDayNameOfWeek\n",
      "  |  | SpanishDayNameOfWeek\n",
      "  |  | FrenchDayNameOfWeek\n",
      "  |  | DayNumberOfMonth\n",
      "  |  | DayNumberOfYear\n",
      "  |  | WeekNumberOfYear\n",
      "  |  | EnglishMonthName\n",
      "  |  | SpanishMonthName\n",
      "  |  | FrenchMonthName\n",
      "  |  | MonthNumberOfYear\n",
      "  |  | CalendarQuarter\n",
      "  |  | CalendarYear\n",
      "  |  | CalendarSemester\n",
      "  |  | FiscalQuarter\n",
      "  |  | FiscalYear\n",
      "  |  | FiscalSemester\n",
      "  | dimorganization\n",
      "  |  | OrganizationKey\n",
      "  |  | ParentOrganizationKey\n",
      "  |  | PercentageOfOwnership\n",
      "  |  | OrganizationName\n",
      "  |  | CurrencyKey\n",
      "  | factinternetsales\n",
      "  |  | ProductKey\n",
      "  |  | OrderDateKey\n",
      "  |  | DueDateKey\n",
      "  |  | ShipDateKey\n",
      "  |  | CustomerKey\n",
      "  |  | PromotionKey\n",
      "  |  | CurrencyKey\n",
      "  |  | SalesTerritoryKey\n",
      "  |  | SalesOrderNumber\n",
      "  |  | SalesOrderLineNumber\n",
      "  |  | RevisionNumber\n",
      "  |  | OrderQuantity\n",
      "  |  | UnitPrice\n",
      "  |  | ExtendedAmount\n",
      "  |  | UnitPriceDiscountPct\n",
      "  |  | DiscountAmount\n",
      "  |  | ProductStandardCost\n",
      "  |  | TotalProductCost\n",
      "  |  | SalesAmount\n",
      "  |  | TaxAmt\n",
      "  |  | Freight\n",
      "  |  | OrderDate\n",
      "  |  | DueDate\n",
      "  |  | ShipDate\n",
      "  | dimemployee\n",
      "  |  | EmployeeKey\n",
      "  |  | ParentEmployeeKey\n",
      "  |  | EmployeeNationalIDAlternateKey\n",
      "  |  | SalesTerritoryKey\n",
      "  |  | FirstName\n",
      "  |  | LastName\n",
      "  |  | MiddleName\n",
      "  |  | NameStyle\n",
      "  |  | Title\n",
      "  |  | HireDate\n",
      "  |  | BirthDate\n",
      "  |  | LoginID\n",
      "  |  | EmailAddress\n",
      "  |  | Phone\n",
      "  |  | MaritalStatus\n",
      "  |  | EmergencyContactName\n",
      "  |  | EmergencyContactPhone\n",
      "  |  | SalariedFlag\n",
      "  |  | Gender\n",
      "  |  | PayFrequency\n",
      "  |  | BaseRate\n",
      "  |  | VacationHours\n",
      "  |  | SickLeaveHours\n",
      "  |  | CurrentFlag\n",
      "  |  | SalesPersonFlag\n",
      "  |  | DepartmentName\n",
      "  |  | StartDate\n",
      "  |  | EndDate\n",
      "  |  | Status\n",
      "  | dimsalesterritory\n",
      "  |  | SalesTerritoryKey\n",
      "  |  | SalesTerritoryAlternateKey\n",
      "  |  | SalesTerritoryRegion\n",
      "  |  | SalesTerritoryCountry\n",
      "  |  | SalesTerritoryGroup\n",
      "  | dimreseller\n",
      "  |  | ResellerKey\n",
      "  |  | GeographyKey\n",
      "  |  | ResellerAlternateKey\n",
      "  |  | Phone\n",
      "  |  | BusinessType\n",
      "  |  | ResellerName\n",
      "  |  | NumberEmployees\n",
      "  |  | OrderFrequency\n",
      "  |  | OrderMonth\n",
      "  |  | FirstOrderYear\n",
      "  |  | LastOrderYear\n",
      "  |  | ProductLine\n",
      "  |  | AddressLine1\n",
      "  |  | AddressLine2\n",
      "  |  | AnnualSales\n",
      "  |  | BankName\n",
      "  |  | MinPaymentType\n",
      "  |  | MinPaymentAmount\n",
      "  |  | AnnualRevenue\n",
      "  |  | YearOpened\n",
      "  | factinternetsalesreason\n",
      "  |  | SalesOrderNumber\n",
      "  |  | SalesOrderLineNumber\n",
      "  |  | SalesReasonKey\n",
      "  | newfactcurrencyrate\n",
      "  |  | AverageRate\n",
      "  |  | CurrencyID\n",
      "  |  | CurrencyDate\n",
      "  |  | EndOfDayRate\n",
      "  |  | CurrencyKey\n",
      "  |  | DateKey\n",
      "  | factsurveyresponse\n",
      "  |  | SurveyResponseKey\n",
      "  |  | DateKey\n",
      "  |  | CustomerKey\n",
      "  |  | ProductCategoryKey\n",
      "  |  | EnglishProductCategoryName\n",
      "  |  | ProductSubcategoryKey\n",
      "  |  | EnglishProductSubcategoryName\n",
      "  |  | Date\n",
      "  | factcurrencyrate\n",
      "  |  | CurrencyKey\n",
      "  |  | DateKey\n",
      "  |  | AverageRate\n",
      "  |  | EndOfDayRate\n",
      "  |  | Date\n",
      "  | dimgeography\n",
      "  |  | GeographyKey\n",
      "  |  | City\n",
      "  |  | StateProvinceCode\n",
      "  |  | StateProvinceName\n",
      "  |  | CountryRegionCode\n",
      "  |  | EnglishCountryRegionName\n",
      "  |  | SpanishCountryRegionName\n",
      "  |  | FrenchCountryRegionName\n",
      "  |  | PostalCode\n",
      "  |  | SalesTerritoryKey\n",
      "  |  | IpAddressLocator\n",
      "  | dimscenario\n",
      "  |  | ScenarioKey\n",
      "  |  | ScenarioName\n",
      "  | dimsalesreason\n",
      "  |  | SalesReasonKey\n",
      "  |  | SalesReasonAlternateKey\n",
      "  |  | SalesReasonName\n",
      "  |  | SalesReasonReasonType\n",
      "  | factresellersales\n",
      "  |  | ProductKey\n",
      "  |  | OrderDateKey\n",
      "  |  | DueDateKey\n",
      "  |  | ShipDateKey\n",
      "  |  | ResellerKey\n",
      "  |  | EmployeeKey\n",
      "  |  | PromotionKey\n",
      "  |  | CurrencyKey\n",
      "  |  | SalesTerritoryKey\n",
      "  |  | SalesOrderNumber\n",
      "  |  | SalesOrderLineNumber\n",
      "  |  | RevisionNumber\n",
      "  |  | OrderQuantity\n",
      "  |  | UnitPrice\n",
      "  |  | ExtendedAmount\n",
      "  |  | UnitPriceDiscountPct\n",
      "  |  | DiscountAmount\n",
      "  |  | ProductStandardCost\n",
      "  |  | TotalProductCost\n",
      "  |  | SalesAmount\n",
      "  |  | TaxAmt\n",
      "  |  | Freight\n",
      "  |  | CarrierTrackingNumber\n",
      "  |  | CustomerPONumber\n",
      "  |  | OrderDate\n",
      "  |  | DueDate\n",
      "  |  | ShipDate\n",
      "  | factproductinventory\n",
      "  |  | ProductKey\n",
      "  |  | DateKey\n",
      "  |  | MovementDate\n",
      "  |  | UnitCost\n",
      "  |  | UnitsIn\n",
      "  |  | UnitsOut\n",
      "  |  | UnitsBalance\n",
      "  | factcallcenter\n",
      "  |  | FactCallCenterID\n",
      "  |  | DateKey\n",
      "  |  | WageType\n",
      "  |  | Shift\n",
      "  |  | LevelOneOperators\n",
      "  |  | LevelTwoOperators\n",
      "  |  | TotalOperators\n",
      "  |  | Calls\n",
      "  |  | AutomaticResponses\n",
      "  |  | Orders\n",
      "  |  | IssuesRaised\n",
      "  |  | AverageTimePerIssue\n",
      "  |  | ServiceGrade\n",
      "  |  | Date\n",
      "  | prospectivebuyer\n",
      "  |  | ProspectiveBuyerKey\n",
      "  |  | ProspectAlternateKey\n",
      "  |  | FirstName\n",
      "  |  | MiddleName\n",
      "  |  | LastName\n",
      "  |  | BirthDate\n",
      "  |  | MaritalStatus\n",
      "  |  | Gender\n",
      "  |  | EmailAddress\n",
      "  |  | YearlyIncome\n",
      "  |  | TotalChildren\n",
      "  |  | NumberChildrenAtHome\n",
      "  |  | Education\n",
      "  |  | Occupation\n",
      "  |  | HouseOwnerFlag\n",
      "  |  | NumberCarsOwned\n",
      "  |  | AddressLine1\n",
      "  |  | AddressLine2\n",
      "  |  | City\n",
      "  |  | StateProvinceCode\n",
      "  |  | PostalCode\n",
      "  |  | Phone\n",
      "  |  | Salutation\n",
      "  |  | Unknown\n",
      "  | dimproduct\n",
      "  |  | ProductKey\n",
      "  |  | ProductAlternateKey\n",
      "  |  | ProductSubcategoryKey\n",
      "  |  | WeightUnitMeasureCode\n",
      "  |  | SizeUnitMeasureCode\n",
      "  |  | EnglishProductName\n",
      "  |  | SpanishProductName\n",
      "  |  | FrenchProductName\n",
      "  |  | StandardCost\n",
      "  |  | FinishedGoodsFlag\n",
      "  |  | Color\n",
      "  |  | SafetyStockLevel\n",
      "  |  | ReorderPoint\n",
      "  |  | ListPrice\n",
      "  |  | Size\n",
      "  |  | SizeRange\n",
      "  |  | Weight\n",
      "  |  | DaysToManufacture\n",
      "  |  | ProductLine\n",
      "  |  | DealerPrice\n",
      "  |  | Class\n",
      "  |  | Style\n",
      "  |  | ModelName\n",
      "  |  | EnglishDescription\n",
      "  |  | FrenchDescription\n",
      "  |  | ChineseDescription\n",
      "  |  | ArabicDescription\n",
      "  |  | HebrewDescription\n",
      "  |  | ThaiDescription\n",
      "  |  | GermanDescription\n",
      "  |  | JapaneseDescription\n",
      "  |  | TurkishDescription\n",
      "  |  | StartDate\n",
      "  |  | EndDate\n",
      "  |  | Status\n",
      "  | factadditionalinternationalproductdescription\n",
      "  |  | ProductKey\n",
      "  |  | CultureName\n",
      "  |  | ProductDescription\n",
      "  | factfinance\n",
      "  |  | FinanceKey\n",
      "  |  | DateKey\n",
      "  |  | OrganizationKey\n",
      "  |  | DepartmentGroupKey\n",
      "  |  | ScenarioKey\n",
      "  |  | AccountKey\n",
      "  |  | Amount\n",
      "  |  | Date\n",
      "  | factsalesquota\n",
      "  |  | SalesQuotaKey\n",
      "  |  | EmployeeKey\n",
      "  |  | DateKey\n",
      "  |  | CalendarYear\n",
      "  |  | CalendarQuarter\n",
      "  |  | SalesAmountQuota\n",
      "  |  | Date\n",
      "  | dimproductsubcategory\n",
      "  |  | ProductSubcategoryKey\n",
      "  |  | ProductSubcategoryAlternateKey\n",
      "  |  | EnglishProductSubcategoryName\n",
      "  |  | SpanishProductSubcategoryName\n",
      "  |  | FrenchProductSubcategoryName\n",
      "  |  | ProductCategoryKey\n",
      "  | dimdepartmentgroup\n",
      "  |  | DepartmentGroupKey\n",
      "  |  | ParentDepartmentGroupKey\n",
      "  |  | DepartmentGroupName\n"
     ]
    }
   ],
   "source": [
    "datasource.pretty_print()"
   ]
  },
  {
   "cell_type": "markdown",
   "id": "22",
   "metadata": {
    "nteract": {
     "transient": {
      "deleting": false
     }
    }
   },
   "source": [
    "You can add/remove table to consider/not consider them in query generation."
   ]
  },
  {
   "cell_type": "code",
   "execution_count": null,
   "id": "23",
   "metadata": {},
   "outputs": [
    {
     "data": {
      "application/vnd.livy.statement-meta+json": {
       "execution_finish_time": "2025-03-25T21:29:28.4279804Z",
       "execution_start_time": "2025-03-25T21:29:25.7498688Z",
       "livy_statement_state": "available",
       "normalized_state": "finished",
       "parent_msg_id": "3294e8e6-6dd7-4842-93ac-e331df67bf2b",
       "queued_time": "2025-03-25T21:29:25.7487812Z",
       "session_id": "63babb7b-1224-4272-af46-33cb1af9ad84",
       "session_start_time": null,
       "spark_pool": null,
       "state": "finished",
       "statement_id": 21,
       "statement_ids": [
        21
       ]
      },
      "text/plain": [
       "StatementMeta(, 63babb7b-1224-4272-af46-33cb1af9ad84, 21, Finished, Available, Finished)"
      ]
     },
     "metadata": {},
     "output_type": "display_data"
    }
   ],
   "source": [
    "datasource.select(\"dbo\", \"dimcurrency\")\n",
    "datasource.select(\"dbo\", \"dimemployee\")"
   ]
  },
  {
   "cell_type": "markdown",
   "id": "24",
   "metadata": {
    "nteract": {
     "transient": {
      "deleting": false
     }
    }
   },
   "source": [
    "You will see that the `*` will appear next to the `dimcurrency` and `dimemployee` tables, as they are now selected."
   ]
  },
  {
   "cell_type": "code",
   "execution_count": null,
   "id": "25",
   "metadata": {},
   "outputs": [
    {
     "data": {
      "application/vnd.livy.statement-meta+json": {
       "execution_finish_time": "2025-03-25T21:29:30.4615102Z",
       "execution_start_time": "2025-03-25T21:29:29.8343596Z",
       "livy_statement_state": "available",
       "normalized_state": "finished",
       "parent_msg_id": "c3e914a5-74ca-4e7d-a3af-2a9592f5080f",
       "queued_time": "2025-03-25T21:29:29.8331946Z",
       "session_id": "63babb7b-1224-4272-af46-33cb1af9ad84",
       "session_start_time": null,
       "spark_pool": null,
       "state": "finished",
       "statement_id": 22,
       "statement_ids": [
        22
       ]
      },
      "text/plain": [
       "StatementMeta(, 63babb7b-1224-4272-af46-33cb1af9ad84, 22, Finished, Available, Finished)"
      ]
     },
     "metadata": {},
     "output_type": "display_data"
    },
    {
     "name": "stdout",
     "output_type": "stream",
     "text": [
      " dbo\n",
      "  | dimcurrency *\n",
      "  |  | CurrencyKey\n",
      "  |  | CurrencyAlternateKey\n",
      "  |  | CurrencyName\n",
      "  | dimcustomer\n",
      "  |  | CustomerKey\n",
      "  |  | GeographyKey\n",
      "  |  | CustomerAlternateKey\n",
      "  |  | Title\n",
      "  |  | FirstName\n",
      "  |  | MiddleName\n",
      "  |  | LastName\n",
      "  |  | NameStyle\n",
      "  |  | BirthDate\n",
      "  |  | MaritalStatus\n",
      "  |  | Suffix\n",
      "  |  | Gender\n",
      "  |  | EmailAddress\n",
      "  |  | YearlyIncome\n",
      "  |  | TotalChildren\n",
      "  |  | NumberChildrenAtHome\n",
      "  |  | EnglishEducation\n",
      "  |  | SpanishEducation\n",
      "  |  | FrenchEducation\n",
      "  |  | EnglishOccupation\n",
      "  |  | SpanishOccupation\n",
      "  |  | FrenchOccupation\n",
      "  |  | HouseOwnerFlag\n",
      "  |  | NumberCarsOwned\n",
      "  |  | AddressLine1\n",
      "  |  | AddressLine2\n",
      "  |  | Phone\n",
      "  |  | DateFirstPurchase\n",
      "  |  | CommuteDistance\n",
      "  | dimaccount\n",
      "  |  | AccountKey\n",
      "  |  | ParentAccountKey\n",
      "  |  | AccountCodeAlternateKey\n",
      "  |  | ParentAccountCodeAlternateKey\n",
      "  |  | AccountDescription\n",
      "  |  | AccountType\n",
      "  |  | Operator\n",
      "  |  | CustomMembers\n",
      "  |  | ValueType\n",
      "  | dimproductcategory\n",
      "  |  | ProductCategoryKey\n",
      "  |  | ProductCategoryAlternateKey\n",
      "  |  | EnglishProductCategoryName\n",
      "  |  | SpanishProductCategoryName\n",
      "  |  | FrenchProductCategoryName\n",
      "  | dimpromotion\n",
      "  |  | PromotionKey\n",
      "  |  | PromotionAlternateKey\n",
      "  |  | EnglishPromotionName\n",
      "  |  | SpanishPromotionName\n",
      "  |  | FrenchPromotionName\n",
      "  |  | DiscountPct\n",
      "  |  | EnglishPromotionType\n",
      "  |  | SpanishPromotionType\n",
      "  |  | FrenchPromotionType\n",
      "  |  | EnglishPromotionCategory\n",
      "  |  | SpanishPromotionCategory\n",
      "  |  | FrenchPromotionCategory\n",
      "  |  | StartDate\n",
      "  |  | EndDate\n",
      "  |  | MinQty\n",
      "  |  | MaxQty\n",
      "  | dimdate\n",
      "  |  | DateKey\n",
      "  |  | FullDateAlternateKey\n",
      "  |  | DayNumberOfWeek\n",
      "  |  | EnglishDayNameOfWeek\n",
      "  |  | SpanishDayNameOfWeek\n",
      "  |  | FrenchDayNameOfWeek\n",
      "  |  | DayNumberOfMonth\n",
      "  |  | DayNumberOfYear\n",
      "  |  | WeekNumberOfYear\n",
      "  |  | EnglishMonthName\n",
      "  |  | SpanishMonthName\n",
      "  |  | FrenchMonthName\n",
      "  |  | MonthNumberOfYear\n",
      "  |  | CalendarQuarter\n",
      "  |  | CalendarYear\n",
      "  |  | CalendarSemester\n",
      "  |  | FiscalQuarter\n",
      "  |  | FiscalYear\n",
      "  |  | FiscalSemester\n",
      "  | dimorganization\n",
      "  |  | OrganizationKey\n",
      "  |  | ParentOrganizationKey\n",
      "  |  | PercentageOfOwnership\n",
      "  |  | OrganizationName\n",
      "  |  | CurrencyKey\n",
      "  | factinternetsales\n",
      "  |  | ProductKey\n",
      "  |  | OrderDateKey\n",
      "  |  | DueDateKey\n",
      "  |  | ShipDateKey\n",
      "  |  | CustomerKey\n",
      "  |  | PromotionKey\n",
      "  |  | CurrencyKey\n",
      "  |  | SalesTerritoryKey\n",
      "  |  | SalesOrderNumber\n",
      "  |  | SalesOrderLineNumber\n",
      "  |  | RevisionNumber\n",
      "  |  | OrderQuantity\n",
      "  |  | UnitPrice\n",
      "  |  | ExtendedAmount\n",
      "  |  | UnitPriceDiscountPct\n",
      "  |  | DiscountAmount\n",
      "  |  | ProductStandardCost\n",
      "  |  | TotalProductCost\n",
      "  |  | SalesAmount\n",
      "  |  | TaxAmt\n",
      "  |  | Freight\n",
      "  |  | OrderDate\n",
      "  |  | DueDate\n",
      "  |  | ShipDate\n",
      "  | dimemployee *\n",
      "  |  | EmployeeKey\n",
      "  |  | ParentEmployeeKey\n",
      "  |  | EmployeeNationalIDAlternateKey\n",
      "  |  | SalesTerritoryKey\n",
      "  |  | FirstName\n",
      "  |  | LastName\n",
      "  |  | MiddleName\n",
      "  |  | NameStyle\n",
      "  |  | Title\n",
      "  |  | HireDate\n",
      "  |  | BirthDate\n",
      "  |  | LoginID\n",
      "  |  | EmailAddress\n",
      "  |  | Phone\n",
      "  |  | MaritalStatus\n",
      "  |  | EmergencyContactName\n",
      "  |  | EmergencyContactPhone\n",
      "  |  | SalariedFlag\n",
      "  |  | Gender\n",
      "  |  | PayFrequency\n",
      "  |  | BaseRate\n",
      "  |  | VacationHours\n",
      "  |  | SickLeaveHours\n",
      "  |  | CurrentFlag\n",
      "  |  | SalesPersonFlag\n",
      "  |  | DepartmentName\n",
      "  |  | StartDate\n",
      "  |  | EndDate\n",
      "  |  | Status\n",
      "  | dimsalesterritory\n",
      "  |  | SalesTerritoryKey\n",
      "  |  | SalesTerritoryAlternateKey\n",
      "  |  | SalesTerritoryRegion\n",
      "  |  | SalesTerritoryCountry\n",
      "  |  | SalesTerritoryGroup\n",
      "  | dimreseller\n",
      "  |  | ResellerKey\n",
      "  |  | GeographyKey\n",
      "  |  | ResellerAlternateKey\n",
      "  |  | Phone\n",
      "  |  | BusinessType\n",
      "  |  | ResellerName\n",
      "  |  | NumberEmployees\n",
      "  |  | OrderFrequency\n",
      "  |  | OrderMonth\n",
      "  |  | FirstOrderYear\n",
      "  |  | LastOrderYear\n",
      "  |  | ProductLine\n",
      "  |  | AddressLine1\n",
      "  |  | AddressLine2\n",
      "  |  | AnnualSales\n",
      "  |  | BankName\n",
      "  |  | MinPaymentType\n",
      "  |  | MinPaymentAmount\n",
      "  |  | AnnualRevenue\n",
      "  |  | YearOpened\n",
      "  | factinternetsalesreason\n",
      "  |  | SalesOrderNumber\n",
      "  |  | SalesOrderLineNumber\n",
      "  |  | SalesReasonKey\n",
      "  | newfactcurrencyrate\n",
      "  |  | AverageRate\n",
      "  |  | CurrencyID\n",
      "  |  | CurrencyDate\n",
      "  |  | EndOfDayRate\n",
      "  |  | CurrencyKey\n",
      "  |  | DateKey\n",
      "  | factsurveyresponse\n",
      "  |  | SurveyResponseKey\n",
      "  |  | DateKey\n",
      "  |  | CustomerKey\n",
      "  |  | ProductCategoryKey\n",
      "  |  | EnglishProductCategoryName\n",
      "  |  | ProductSubcategoryKey\n",
      "  |  | EnglishProductSubcategoryName\n",
      "  |  | Date\n",
      "  | factcurrencyrate\n",
      "  |  | CurrencyKey\n",
      "  |  | DateKey\n",
      "  |  | AverageRate\n",
      "  |  | EndOfDayRate\n",
      "  |  | Date\n",
      "  | dimgeography\n",
      "  |  | GeographyKey\n",
      "  |  | City\n",
      "  |  | StateProvinceCode\n",
      "  |  | StateProvinceName\n",
      "  |  | CountryRegionCode\n",
      "  |  | EnglishCountryRegionName\n",
      "  |  | SpanishCountryRegionName\n",
      "  |  | FrenchCountryRegionName\n",
      "  |  | PostalCode\n",
      "  |  | SalesTerritoryKey\n",
      "  |  | IpAddressLocator\n",
      "  | dimscenario\n",
      "  |  | ScenarioKey\n",
      "  |  | ScenarioName\n",
      "  | dimsalesreason\n",
      "  |  | SalesReasonKey\n",
      "  |  | SalesReasonAlternateKey\n",
      "  |  | SalesReasonName\n",
      "  |  | SalesReasonReasonType\n",
      "  | factresellersales\n",
      "  |  | ProductKey\n",
      "  |  | OrderDateKey\n",
      "  |  | DueDateKey\n",
      "  |  | ShipDateKey\n",
      "  |  | ResellerKey\n",
      "  |  | EmployeeKey\n",
      "  |  | PromotionKey\n",
      "  |  | CurrencyKey\n",
      "  |  | SalesTerritoryKey\n",
      "  |  | SalesOrderNumber\n",
      "  |  | SalesOrderLineNumber\n",
      "  |  | RevisionNumber\n",
      "  |  | OrderQuantity\n",
      "  |  | UnitPrice\n",
      "  |  | ExtendedAmount\n",
      "  |  | UnitPriceDiscountPct\n",
      "  |  | DiscountAmount\n",
      "  |  | ProductStandardCost\n",
      "  |  | TotalProductCost\n",
      "  |  | SalesAmount\n",
      "  |  | TaxAmt\n",
      "  |  | Freight\n",
      "  |  | CarrierTrackingNumber\n",
      "  |  | CustomerPONumber\n",
      "  |  | OrderDate\n",
      "  |  | DueDate\n",
      "  |  | ShipDate\n",
      "  | factproductinventory\n",
      "  |  | ProductKey\n",
      "  |  | DateKey\n",
      "  |  | MovementDate\n",
      "  |  | UnitCost\n",
      "  |  | UnitsIn\n",
      "  |  | UnitsOut\n",
      "  |  | UnitsBalance\n",
      "  | factcallcenter\n",
      "  |  | FactCallCenterID\n",
      "  |  | DateKey\n",
      "  |  | WageType\n",
      "  |  | Shift\n",
      "  |  | LevelOneOperators\n",
      "  |  | LevelTwoOperators\n",
      "  |  | TotalOperators\n",
      "  |  | Calls\n",
      "  |  | AutomaticResponses\n",
      "  |  | Orders\n",
      "  |  | IssuesRaised\n",
      "  |  | AverageTimePerIssue\n",
      "  |  | ServiceGrade\n",
      "  |  | Date\n",
      "  | prospectivebuyer\n",
      "  |  | ProspectiveBuyerKey\n",
      "  |  | ProspectAlternateKey\n",
      "  |  | FirstName\n",
      "  |  | MiddleName\n",
      "  |  | LastName\n",
      "  |  | BirthDate\n",
      "  |  | MaritalStatus\n",
      "  |  | Gender\n",
      "  |  | EmailAddress\n",
      "  |  | YearlyIncome\n",
      "  |  | TotalChildren\n",
      "  |  | NumberChildrenAtHome\n",
      "  |  | Education\n",
      "  |  | Occupation\n",
      "  |  | HouseOwnerFlag\n",
      "  |  | NumberCarsOwned\n",
      "  |  | AddressLine1\n",
      "  |  | AddressLine2\n",
      "  |  | City\n",
      "  |  | StateProvinceCode\n",
      "  |  | PostalCode\n",
      "  |  | Phone\n",
      "  |  | Salutation\n",
      "  |  | Unknown\n",
      "  | dimproduct\n",
      "  |  | ProductKey\n",
      "  |  | ProductAlternateKey\n",
      "  |  | ProductSubcategoryKey\n",
      "  |  | WeightUnitMeasureCode\n",
      "  |  | SizeUnitMeasureCode\n",
      "  |  | EnglishProductName\n",
      "  |  | SpanishProductName\n",
      "  |  | FrenchProductName\n",
      "  |  | StandardCost\n",
      "  |  | FinishedGoodsFlag\n",
      "  |  | Color\n",
      "  |  | SafetyStockLevel\n",
      "  |  | ReorderPoint\n",
      "  |  | ListPrice\n",
      "  |  | Size\n",
      "  |  | SizeRange\n",
      "  |  | Weight\n",
      "  |  | DaysToManufacture\n",
      "  |  | ProductLine\n",
      "  |  | DealerPrice\n",
      "  |  | Class\n",
      "  |  | Style\n",
      "  |  | ModelName\n",
      "  |  | EnglishDescription\n",
      "  |  | FrenchDescription\n",
      "  |  | ChineseDescription\n",
      "  |  | ArabicDescription\n",
      "  |  | HebrewDescription\n",
      "  |  | ThaiDescription\n",
      "  |  | GermanDescription\n",
      "  |  | JapaneseDescription\n",
      "  |  | TurkishDescription\n",
      "  |  | StartDate\n",
      "  |  | EndDate\n",
      "  |  | Status\n",
      "  | factadditionalinternationalproductdescription\n",
      "  |  | ProductKey\n",
      "  |  | CultureName\n",
      "  |  | ProductDescription\n",
      "  | factfinance\n",
      "  |  | FinanceKey\n",
      "  |  | DateKey\n",
      "  |  | OrganizationKey\n",
      "  |  | DepartmentGroupKey\n",
      "  |  | ScenarioKey\n",
      "  |  | AccountKey\n",
      "  |  | Amount\n",
      "  |  | Date\n",
      "  | factsalesquota\n",
      "  |  | SalesQuotaKey\n",
      "  |  | EmployeeKey\n",
      "  |  | DateKey\n",
      "  |  | CalendarYear\n",
      "  |  | CalendarQuarter\n",
      "  |  | SalesAmountQuota\n",
      "  |  | Date\n",
      "  | dimproductsubcategory\n",
      "  |  | ProductSubcategoryKey\n",
      "  |  | ProductSubcategoryAlternateKey\n",
      "  |  | EnglishProductSubcategoryName\n",
      "  |  | SpanishProductSubcategoryName\n",
      "  |  | FrenchProductSubcategoryName\n",
      "  |  | ProductCategoryKey\n",
      "  | dimdepartmentgroup\n",
      "  |  | DepartmentGroupKey\n",
      "  |  | ParentDepartmentGroupKey\n",
      "  |  | DepartmentGroupName\n"
     ]
    }
   ],
   "source": [
    "datasource.pretty_print()"
   ]
  },
  {
   "cell_type": "markdown",
   "id": "26",
   "metadata": {
    "nteract": {
     "transient": {
      "deleting": false
     }
    }
   },
   "source": [
    "Now let's unselect the `dimcurrency` table."
   ]
  },
  {
   "cell_type": "code",
   "execution_count": null,
   "id": "27",
   "metadata": {},
   "outputs": [
    {
     "data": {
      "application/vnd.livy.statement-meta+json": {
       "execution_finish_time": "2025-03-25T21:29:42.938439Z",
       "execution_start_time": "2025-03-25T21:29:41.6969847Z",
       "livy_statement_state": "available",
       "normalized_state": "finished",
       "parent_msg_id": "7a3139e3-fd35-4c1f-8b84-e3fb7155987b",
       "queued_time": "2025-03-25T21:29:41.6958775Z",
       "session_id": "63babb7b-1224-4272-af46-33cb1af9ad84",
       "session_start_time": null,
       "spark_pool": null,
       "state": "finished",
       "statement_id": 23,
       "statement_ids": [
        23
       ]
      },
      "text/plain": [
       "StatementMeta(, 63babb7b-1224-4272-af46-33cb1af9ad84, 23, Finished, Available, Finished)"
      ]
     },
     "metadata": {},
     "output_type": "display_data"
    }
   ],
   "source": [
    "datasource.unselect(\"dbo\", \"dimcurrency\")"
   ]
  },
  {
   "cell_type": "markdown",
   "id": "28",
   "metadata": {
    "nteract": {
     "transient": {
      "deleting": false
     }
    }
   },
   "source": [
    "You will notice from the missing `*` next to the columns under the `dimcurrency table`, now that you un-selected the table, which means the data agent is instructed to not use the un-selected table when generating an answer."
   ]
  },
  {
   "cell_type": "code",
   "execution_count": null,
   "id": "29",
   "metadata": {},
   "outputs": [
    {
     "data": {
      "application/vnd.livy.statement-meta+json": {
       "execution_finish_time": "2025-03-25T21:30:00.8570093Z",
       "execution_start_time": "2025-03-25T21:29:59.7037093Z",
       "livy_statement_state": "available",
       "normalized_state": "finished",
       "parent_msg_id": "299f399a-ad79-418d-bc65-cde01576385f",
       "queued_time": "2025-03-25T21:29:59.702556Z",
       "session_id": "63babb7b-1224-4272-af46-33cb1af9ad84",
       "session_start_time": null,
       "spark_pool": null,
       "state": "finished",
       "statement_id": 24,
       "statement_ids": [
        24
       ]
      },
      "text/plain": [
       "StatementMeta(, 63babb7b-1224-4272-af46-33cb1af9ad84, 24, Finished, Available, Finished)"
      ]
     },
     "metadata": {},
     "output_type": "display_data"
    },
    {
     "name": "stdout",
     "output_type": "stream",
     "text": [
      " dbo\n",
      "  | dimcurrency\n",
      "  |  | CurrencyKey\n",
      "  |  | CurrencyAlternateKey\n",
      "  |  | CurrencyName\n",
      "  | dimcustomer\n",
      "  |  | CustomerKey\n",
      "  |  | GeographyKey\n",
      "  |  | CustomerAlternateKey\n",
      "  |  | Title\n",
      "  |  | FirstName\n",
      "  |  | MiddleName\n",
      "  |  | LastName\n",
      "  |  | NameStyle\n",
      "  |  | BirthDate\n",
      "  |  | MaritalStatus\n",
      "  |  | Suffix\n",
      "  |  | Gender\n",
      "  |  | EmailAddress\n",
      "  |  | YearlyIncome\n",
      "  |  | TotalChildren\n",
      "  |  | NumberChildrenAtHome\n",
      "  |  | EnglishEducation\n",
      "  |  | SpanishEducation\n",
      "  |  | FrenchEducation\n",
      "  |  | EnglishOccupation\n",
      "  |  | SpanishOccupation\n",
      "  |  | FrenchOccupation\n",
      "  |  | HouseOwnerFlag\n",
      "  |  | NumberCarsOwned\n",
      "  |  | AddressLine1\n",
      "  |  | AddressLine2\n",
      "  |  | Phone\n",
      "  |  | DateFirstPurchase\n",
      "  |  | CommuteDistance\n",
      "  | dimaccount\n",
      "  |  | AccountKey\n",
      "  |  | ParentAccountKey\n",
      "  |  | AccountCodeAlternateKey\n",
      "  |  | ParentAccountCodeAlternateKey\n",
      "  |  | AccountDescription\n",
      "  |  | AccountType\n",
      "  |  | Operator\n",
      "  |  | CustomMembers\n",
      "  |  | ValueType\n",
      "  | dimproductcategory\n",
      "  |  | ProductCategoryKey\n",
      "  |  | ProductCategoryAlternateKey\n",
      "  |  | EnglishProductCategoryName\n",
      "  |  | SpanishProductCategoryName\n",
      "  |  | FrenchProductCategoryName\n",
      "  | dimpromotion\n",
      "  |  | PromotionKey\n",
      "  |  | PromotionAlternateKey\n",
      "  |  | EnglishPromotionName\n",
      "  |  | SpanishPromotionName\n",
      "  |  | FrenchPromotionName\n",
      "  |  | DiscountPct\n",
      "  |  | EnglishPromotionType\n",
      "  |  | SpanishPromotionType\n",
      "  |  | FrenchPromotionType\n",
      "  |  | EnglishPromotionCategory\n",
      "  |  | SpanishPromotionCategory\n",
      "  |  | FrenchPromotionCategory\n",
      "  |  | StartDate\n",
      "  |  | EndDate\n",
      "  |  | MinQty\n",
      "  |  | MaxQty\n",
      "  | dimdate\n",
      "  |  | DateKey\n",
      "  |  | FullDateAlternateKey\n",
      "  |  | DayNumberOfWeek\n",
      "  |  | EnglishDayNameOfWeek\n",
      "  |  | SpanishDayNameOfWeek\n",
      "  |  | FrenchDayNameOfWeek\n",
      "  |  | DayNumberOfMonth\n",
      "  |  | DayNumberOfYear\n",
      "  |  | WeekNumberOfYear\n",
      "  |  | EnglishMonthName\n",
      "  |  | SpanishMonthName\n",
      "  |  | FrenchMonthName\n",
      "  |  | MonthNumberOfYear\n",
      "  |  | CalendarQuarter\n",
      "  |  | CalendarYear\n",
      "  |  | CalendarSemester\n",
      "  |  | FiscalQuarter\n",
      "  |  | FiscalYear\n",
      "  |  | FiscalSemester\n",
      "  | dimorganization\n",
      "  |  | OrganizationKey\n",
      "  |  | ParentOrganizationKey\n",
      "  |  | PercentageOfOwnership\n",
      "  |  | OrganizationName\n",
      "  |  | CurrencyKey\n",
      "  | factinternetsales\n",
      "  |  | ProductKey\n",
      "  |  | OrderDateKey\n",
      "  |  | DueDateKey\n",
      "  |  | ShipDateKey\n",
      "  |  | CustomerKey\n",
      "  |  | PromotionKey\n",
      "  |  | CurrencyKey\n",
      "  |  | SalesTerritoryKey\n",
      "  |  | SalesOrderNumber\n",
      "  |  | SalesOrderLineNumber\n",
      "  |  | RevisionNumber\n",
      "  |  | OrderQuantity\n",
      "  |  | UnitPrice\n",
      "  |  | ExtendedAmount\n",
      "  |  | UnitPriceDiscountPct\n",
      "  |  | DiscountAmount\n",
      "  |  | ProductStandardCost\n",
      "  |  | TotalProductCost\n",
      "  |  | SalesAmount\n",
      "  |  | TaxAmt\n",
      "  |  | Freight\n",
      "  |  | OrderDate\n",
      "  |  | DueDate\n",
      "  |  | ShipDate\n",
      "  | dimemployee *\n",
      "  |  | EmployeeKey\n",
      "  |  | ParentEmployeeKey\n",
      "  |  | EmployeeNationalIDAlternateKey\n",
      "  |  | SalesTerritoryKey\n",
      "  |  | FirstName\n",
      "  |  | LastName\n",
      "  |  | MiddleName\n",
      "  |  | NameStyle\n",
      "  |  | Title\n",
      "  |  | HireDate\n",
      "  |  | BirthDate\n",
      "  |  | LoginID\n",
      "  |  | EmailAddress\n",
      "  |  | Phone\n",
      "  |  | MaritalStatus\n",
      "  |  | EmergencyContactName\n",
      "  |  | EmergencyContactPhone\n",
      "  |  | SalariedFlag\n",
      "  |  | Gender\n",
      "  |  | PayFrequency\n",
      "  |  | BaseRate\n",
      "  |  | VacationHours\n",
      "  |  | SickLeaveHours\n",
      "  |  | CurrentFlag\n",
      "  |  | SalesPersonFlag\n",
      "  |  | DepartmentName\n",
      "  |  | StartDate\n",
      "  |  | EndDate\n",
      "  |  | Status\n",
      "  | dimsalesterritory\n",
      "  |  | SalesTerritoryKey\n",
      "  |  | SalesTerritoryAlternateKey\n",
      "  |  | SalesTerritoryRegion\n",
      "  |  | SalesTerritoryCountry\n",
      "  |  | SalesTerritoryGroup\n",
      "  | dimreseller\n",
      "  |  | ResellerKey\n",
      "  |  | GeographyKey\n",
      "  |  | ResellerAlternateKey\n",
      "  |  | Phone\n",
      "  |  | BusinessType\n",
      "  |  | ResellerName\n",
      "  |  | NumberEmployees\n",
      "  |  | OrderFrequency\n",
      "  |  | OrderMonth\n",
      "  |  | FirstOrderYear\n",
      "  |  | LastOrderYear\n",
      "  |  | ProductLine\n",
      "  |  | AddressLine1\n",
      "  |  | AddressLine2\n",
      "  |  | AnnualSales\n",
      "  |  | BankName\n",
      "  |  | MinPaymentType\n",
      "  |  | MinPaymentAmount\n",
      "  |  | AnnualRevenue\n",
      "  |  | YearOpened\n",
      "  | factinternetsalesreason\n",
      "  |  | SalesOrderNumber\n",
      "  |  | SalesOrderLineNumber\n",
      "  |  | SalesReasonKey\n",
      "  | newfactcurrencyrate\n",
      "  |  | AverageRate\n",
      "  |  | CurrencyID\n",
      "  |  | CurrencyDate\n",
      "  |  | EndOfDayRate\n",
      "  |  | CurrencyKey\n",
      "  |  | DateKey\n",
      "  | factsurveyresponse\n",
      "  |  | SurveyResponseKey\n",
      "  |  | DateKey\n",
      "  |  | CustomerKey\n",
      "  |  | ProductCategoryKey\n",
      "  |  | EnglishProductCategoryName\n",
      "  |  | ProductSubcategoryKey\n",
      "  |  | EnglishProductSubcategoryName\n",
      "  |  | Date\n",
      "  | factcurrencyrate\n",
      "  |  | CurrencyKey\n",
      "  |  | DateKey\n",
      "  |  | AverageRate\n",
      "  |  | EndOfDayRate\n",
      "  |  | Date\n",
      "  | dimgeography\n",
      "  |  | GeographyKey\n",
      "  |  | City\n",
      "  |  | StateProvinceCode\n",
      "  |  | StateProvinceName\n",
      "  |  | CountryRegionCode\n",
      "  |  | EnglishCountryRegionName\n",
      "  |  | SpanishCountryRegionName\n",
      "  |  | FrenchCountryRegionName\n",
      "  |  | PostalCode\n",
      "  |  | SalesTerritoryKey\n",
      "  |  | IpAddressLocator\n",
      "  | dimscenario\n",
      "  |  | ScenarioKey\n",
      "  |  | ScenarioName\n",
      "  | dimsalesreason\n",
      "  |  | SalesReasonKey\n",
      "  |  | SalesReasonAlternateKey\n",
      "  |  | SalesReasonName\n",
      "  |  | SalesReasonReasonType\n",
      "  | factresellersales\n",
      "  |  | ProductKey\n",
      "  |  | OrderDateKey\n",
      "  |  | DueDateKey\n",
      "  |  | ShipDateKey\n",
      "  |  | ResellerKey\n",
      "  |  | EmployeeKey\n",
      "  |  | PromotionKey\n",
      "  |  | CurrencyKey\n",
      "  |  | SalesTerritoryKey\n",
      "  |  | SalesOrderNumber\n",
      "  |  | SalesOrderLineNumber\n",
      "  |  | RevisionNumber\n",
      "  |  | OrderQuantity\n",
      "  |  | UnitPrice\n",
      "  |  | ExtendedAmount\n",
      "  |  | UnitPriceDiscountPct\n",
      "  |  | DiscountAmount\n",
      "  |  | ProductStandardCost\n",
      "  |  | TotalProductCost\n",
      "  |  | SalesAmount\n",
      "  |  | TaxAmt\n",
      "  |  | Freight\n",
      "  |  | CarrierTrackingNumber\n",
      "  |  | CustomerPONumber\n",
      "  |  | OrderDate\n",
      "  |  | DueDate\n",
      "  |  | ShipDate\n",
      "  | factproductinventory\n",
      "  |  | ProductKey\n",
      "  |  | DateKey\n",
      "  |  | MovementDate\n",
      "  |  | UnitCost\n",
      "  |  | UnitsIn\n",
      "  |  | UnitsOut\n",
      "  |  | UnitsBalance\n",
      "  | factcallcenter\n",
      "  |  | FactCallCenterID\n",
      "  |  | DateKey\n",
      "  |  | WageType\n",
      "  |  | Shift\n",
      "  |  | LevelOneOperators\n",
      "  |  | LevelTwoOperators\n",
      "  |  | TotalOperators\n",
      "  |  | Calls\n",
      "  |  | AutomaticResponses\n",
      "  |  | Orders\n",
      "  |  | IssuesRaised\n",
      "  |  | AverageTimePerIssue\n",
      "  |  | ServiceGrade\n",
      "  |  | Date\n",
      "  | prospectivebuyer\n",
      "  |  | ProspectiveBuyerKey\n",
      "  |  | ProspectAlternateKey\n",
      "  |  | FirstName\n",
      "  |  | MiddleName\n",
      "  |  | LastName\n",
      "  |  | BirthDate\n",
      "  |  | MaritalStatus\n",
      "  |  | Gender\n",
      "  |  | EmailAddress\n",
      "  |  | YearlyIncome\n",
      "  |  | TotalChildren\n",
      "  |  | NumberChildrenAtHome\n",
      "  |  | Education\n",
      "  |  | Occupation\n",
      "  |  | HouseOwnerFlag\n",
      "  |  | NumberCarsOwned\n",
      "  |  | AddressLine1\n",
      "  |  | AddressLine2\n",
      "  |  | City\n",
      "  |  | StateProvinceCode\n",
      "  |  | PostalCode\n",
      "  |  | Phone\n",
      "  |  | Salutation\n",
      "  |  | Unknown\n",
      "  | dimproduct\n",
      "  |  | ProductKey\n",
      "  |  | ProductAlternateKey\n",
      "  |  | ProductSubcategoryKey\n",
      "  |  | WeightUnitMeasureCode\n",
      "  |  | SizeUnitMeasureCode\n",
      "  |  | EnglishProductName\n",
      "  |  | SpanishProductName\n",
      "  |  | FrenchProductName\n",
      "  |  | StandardCost\n",
      "  |  | FinishedGoodsFlag\n",
      "  |  | Color\n",
      "  |  | SafetyStockLevel\n",
      "  |  | ReorderPoint\n",
      "  |  | ListPrice\n",
      "  |  | Size\n",
      "  |  | SizeRange\n",
      "  |  | Weight\n",
      "  |  | DaysToManufacture\n",
      "  |  | ProductLine\n",
      "  |  | DealerPrice\n",
      "  |  | Class\n",
      "  |  | Style\n",
      "  |  | ModelName\n",
      "  |  | EnglishDescription\n",
      "  |  | FrenchDescription\n",
      "  |  | ChineseDescription\n",
      "  |  | ArabicDescription\n",
      "  |  | HebrewDescription\n",
      "  |  | ThaiDescription\n",
      "  |  | GermanDescription\n",
      "  |  | JapaneseDescription\n",
      "  |  | TurkishDescription\n",
      "  |  | StartDate\n",
      "  |  | EndDate\n",
      "  |  | Status\n",
      "  | factadditionalinternationalproductdescription\n",
      "  |  | ProductKey\n",
      "  |  | CultureName\n",
      "  |  | ProductDescription\n",
      "  | factfinance\n",
      "  |  | FinanceKey\n",
      "  |  | DateKey\n",
      "  |  | OrganizationKey\n",
      "  |  | DepartmentGroupKey\n",
      "  |  | ScenarioKey\n",
      "  |  | AccountKey\n",
      "  |  | Amount\n",
      "  |  | Date\n",
      "  | factsalesquota\n",
      "  |  | SalesQuotaKey\n",
      "  |  | EmployeeKey\n",
      "  |  | DateKey\n",
      "  |  | CalendarYear\n",
      "  |  | CalendarQuarter\n",
      "  |  | SalesAmountQuota\n",
      "  |  | Date\n",
      "  | dimproductsubcategory\n",
      "  |  | ProductSubcategoryKey\n",
      "  |  | ProductSubcategoryAlternateKey\n",
      "  |  | EnglishProductSubcategoryName\n",
      "  |  | SpanishProductSubcategoryName\n",
      "  |  | FrenchProductSubcategoryName\n",
      "  |  | ProductCategoryKey\n",
      "  | dimdepartmentgroup\n",
      "  |  | DepartmentGroupKey\n",
      "  |  | ParentDepartmentGroupKey\n",
      "  |  | DepartmentGroupName\n"
     ]
    }
   ],
   "source": [
    "datasource.pretty_print()"
   ]
  },
  {
   "cell_type": "markdown",
   "id": "30",
   "metadata": {
    "nteract": {
     "transient": {
      "deleting": false
     }
    }
   },
   "source": [
    "You can also add few-shot examples."
   ]
  },
  {
   "cell_type": "code",
   "execution_count": null,
   "id": "31",
   "metadata": {},
   "outputs": [
    {
     "data": {
      "application/vnd.livy.statement-meta+json": {
       "execution_finish_time": "2025-03-25T21:30:07.9497043Z",
       "execution_start_time": "2025-03-25T21:30:06.7887122Z",
       "livy_statement_state": "available",
       "normalized_state": "finished",
       "parent_msg_id": "f8f7d0e7-276f-4fe9-a704-bc7356b77a3d",
       "queued_time": "2025-03-25T21:30:06.78756Z",
       "session_id": "63babb7b-1224-4272-af46-33cb1af9ad84",
       "session_start_time": null,
       "spark_pool": null,
       "state": "finished",
       "statement_id": 25,
       "statement_ids": [
        25
       ]
      },
      "text/plain": [
       "StatementMeta(, 63babb7b-1224-4272-af46-33cb1af9ad84, 25, Finished, Available, Finished)"
      ]
     },
     "metadata": {},
     "output_type": "display_data"
    }
   ],
   "source": [
    "example_question = \"How many employees are there in the company?\"\n",
    "example_query = \"SELECT COUNT(*) AS NumberOfEmployees FROM dbo.dimemployee\"\n",
    "datasource.add_fewshots({example_question:example_query})"
   ]
  },
  {
   "cell_type": "code",
   "execution_count": null,
   "id": "32",
   "metadata": {},
   "outputs": [
    {
     "data": {
      "application/vnd.livy.statement-meta+json": {
       "execution_finish_time": "2025-03-25T21:30:09.4154344Z",
       "execution_start_time": "2025-03-25T21:30:08.8726835Z",
       "livy_statement_state": "available",
       "normalized_state": "finished",
       "parent_msg_id": "a975bf3d-d9a4-4866-a0c1-6bf4f4210582",
       "queued_time": "2025-03-25T21:30:08.8714659Z",
       "session_id": "63babb7b-1224-4272-af46-33cb1af9ad84",
       "session_start_time": null,
       "spark_pool": null,
       "state": "finished",
       "statement_id": 26,
       "statement_ids": [
        26
       ]
      },
      "text/plain": [
       "StatementMeta(, 63babb7b-1224-4272-af46-33cb1af9ad84, 26, Finished, Available, Finished)"
      ]
     },
     "metadata": {},
     "output_type": "display_data"
    },
    {
     "data": {
      "text/html": [
       "<div>\n",
       "<style scoped>\n",
       "    .dataframe tbody tr th:only-of-type {\n",
       "        vertical-align: middle;\n",
       "    }\n",
       "\n",
       "    .dataframe tbody tr th {\n",
       "        vertical-align: top;\n",
       "    }\n",
       "\n",
       "    .dataframe thead th {\n",
       "        text-align: right;\n",
       "    }\n",
       "</style>\n",
       "<table border=\"1\" class=\"dataframe\">\n",
       "  <thead>\n",
       "    <tr style=\"text-align: right;\">\n",
       "      <th></th>\n",
       "      <th>Id</th>\n",
       "      <th>Question</th>\n",
       "      <th>Query</th>\n",
       "      <th>State</th>\n",
       "      <th>Embedding</th>\n",
       "    </tr>\n",
       "  </thead>\n",
       "  <tbody>\n",
       "    <tr>\n",
       "      <th>0</th>\n",
       "      <td>03f6dc18-b372-4766-ad4e-f2d8c340da58</td>\n",
       "      <td>How many employees are there in the company?</td>\n",
       "      <td>SELECT COUNT(*) AS NumberOfEmployees FROM dbo....</td>\n",
       "      <td>validating</td>\n",
       "      <td>None</td>\n",
       "    </tr>\n",
       "  </tbody>\n",
       "</table>\n",
       "</div>"
      ],
      "text/plain": [
       "                                     Id  \\\n",
       "0  03f6dc18-b372-4766-ad4e-f2d8c340da58   \n",
       "\n",
       "                                       Question  \\\n",
       "0  How many employees are there in the company?   \n",
       "\n",
       "                                               Query       State Embedding  \n",
       "0  SELECT COUNT(*) AS NumberOfEmployees FROM dbo....  validating      None  "
      ]
     },
     "execution_count": null,
     "metadata": {},
     "output_type": "execute_result"
    }
   ],
   "source": [
    "datasource.get_fewshots()"
   ]
  },
  {
   "cell_type": "markdown",
   "id": "33",
   "metadata": {
    "nteract": {
     "transient": {
      "deleting": false
     }
    }
   },
   "source": [
    "You can delete few-shots using their ids."
   ]
  },
  {
   "cell_type": "code",
   "execution_count": null,
   "id": "34",
   "metadata": {},
   "outputs": [
    {
     "data": {
      "application/vnd.livy.statement-meta+json": {
       "execution_finish_time": "2025-03-25T21:30:30.4695112Z",
       "execution_start_time": "2025-03-25T21:30:29.2850975Z",
       "livy_statement_state": "available",
       "normalized_state": "finished",
       "parent_msg_id": "fcd0d5cb-21ee-464d-89df-51531291ad91",
       "queued_time": "2025-03-25T21:30:29.2839337Z",
       "session_id": "63babb7b-1224-4272-af46-33cb1af9ad84",
       "session_start_time": null,
       "spark_pool": null,
       "state": "finished",
       "statement_id": 27,
       "statement_ids": [
        27
       ]
      },
      "text/plain": [
       "StatementMeta(, 63babb7b-1224-4272-af46-33cb1af9ad84, 27, Finished, Available, Finished)"
      ]
     },
     "metadata": {},
     "output_type": "display_data"
    }
   ],
   "source": [
    "# make sure the replace the id of the few-shot example with the id that is assigned to your few-shot example\n",
    "datasource.remove_fewshot(\"03f6dc18-b372-4766-ad4e-f2d8c340da58\")"
   ]
  },
  {
   "cell_type": "code",
   "execution_count": null,
   "id": "35",
   "metadata": {},
   "outputs": [
    {
     "data": {
      "application/vnd.livy.statement-meta+json": {
       "execution_finish_time": "2025-03-25T21:30:36.141906Z",
       "execution_start_time": "2025-03-25T21:30:34.9284863Z",
       "livy_statement_state": "available",
       "normalized_state": "finished",
       "parent_msg_id": "cffba850-c182-455d-8546-dc286cf9b350",
       "queued_time": "2025-03-25T21:30:34.927326Z",
       "session_id": "63babb7b-1224-4272-af46-33cb1af9ad84",
       "session_start_time": null,
       "spark_pool": null,
       "state": "finished",
       "statement_id": 28,
       "statement_ids": [
        28
       ]
      },
      "text/plain": [
       "StatementMeta(, 63babb7b-1224-4272-af46-33cb1af9ad84, 28, Finished, Available, Finished)"
      ]
     },
     "metadata": {},
     "output_type": "display_data"
    },
    {
     "data": {
      "text/html": [
       "<div>\n",
       "<style scoped>\n",
       "    .dataframe tbody tr th:only-of-type {\n",
       "        vertical-align: middle;\n",
       "    }\n",
       "\n",
       "    .dataframe tbody tr th {\n",
       "        vertical-align: top;\n",
       "    }\n",
       "\n",
       "    .dataframe thead th {\n",
       "        text-align: right;\n",
       "    }\n",
       "</style>\n",
       "<table border=\"1\" class=\"dataframe\">\n",
       "  <thead>\n",
       "    <tr style=\"text-align: right;\">\n",
       "      <th></th>\n",
       "      <th>Id</th>\n",
       "      <th>Question</th>\n",
       "      <th>Query</th>\n",
       "      <th>State</th>\n",
       "      <th>Embedding</th>\n",
       "    </tr>\n",
       "  </thead>\n",
       "  <tbody>\n",
       "  </tbody>\n",
       "</table>\n",
       "</div>"
      ],
      "text/plain": [
       "Empty DataFrame\n",
       "Columns: [Id, Question, Query, State, Embedding]\n",
       "Index: []"
      ]
     },
     "execution_count": null,
     "metadata": {},
     "output_type": "execute_result"
    }
   ],
   "source": [
    "datasource.get_fewshots()"
   ]
  },
  {
   "cell_type": "markdown",
   "id": "36",
   "metadata": {
    "nteract": {
     "transient": {
      "deleting": false
     }
    }
   },
   "source": [
    "Finally, we can delete the data agent"
   ]
  },
  {
   "cell_type": "code",
   "execution_count": null,
   "id": "37",
   "metadata": {},
   "outputs": [
    {
     "data": {
      "application/vnd.livy.statement-meta+json": {
       "execution_finish_time": "2025-03-25T21:30:40.0910094Z",
       "execution_start_time": "2025-03-25T21:30:38.8960486Z",
       "livy_statement_state": "available",
       "normalized_state": "finished",
       "parent_msg_id": "41b99fb4-3642-402e-92a2-8ad9d359ade8",
       "queued_time": "2025-03-25T21:30:38.8949011Z",
       "session_id": "63babb7b-1224-4272-af46-33cb1af9ad84",
       "session_start_time": null,
       "spark_pool": null,
       "state": "finished",
       "statement_id": 29,
       "statement_ids": [
        29
       ]
      },
      "text/plain": [
       "StatementMeta(, 63babb7b-1224-4272-af46-33cb1af9ad84, 29, Finished, Available, Finished)"
      ]
     },
     "metadata": {},
     "output_type": "display_data"
    }
   ],
   "source": [
    "delete_data_agent(data_agent_name)"
   ]
  }
 ],
 "metadata": {
  "a365ComputeOptions": null,
  "kernel_info": {
   "name": "synapse_pyspark"
  },
  "kernelspec": {
   "display_name": "synapse_pyspark",
   "language": null,
   "name": "synapse_pyspark"
  },
  "language_info": {
   "name": "python"
  },
  "nteract": {
   "version": "nteract-front-end@1.0.0"
  },
  "sessionKeepAliveTimeout": 0,
  "spark_compute": {
   "compute_id": "/trident/default",
   "session_options": {
    "conf": {
     "spark.synapse.nbs.session.timeout": "1200000"
    }
   }
  }
 },
 "nbformat": 4,
 "nbformat_minor": 5
}
