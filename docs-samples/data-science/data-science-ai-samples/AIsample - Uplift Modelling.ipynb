{
 "cells": [
  {
   "cell_type": "markdown",
   "id": "af6c52ee-d000-4328-83c3-897c06ca276b",
   "metadata": {},
   "source": [
    "# Creating, Evaluating, and Deploying an Uplift Model"
   ]
  },
  {
   "cell_type": "markdown",
   "id": "9cfd8e82-be33-4c90-aac7-47d397862ebc",
   "metadata": {
    "nteract": {
     "transient": {
      "deleting": false
     }
    }
   },
   "source": [
    "## Introduction\n",
    "\n",
    "In this notebook, we'll demonstrate the data science work flow with an end-to-end example. The scenario is to create, train and evaluate an uplift model that refers to a collection of machine learning techniques that estimate the incremental effects of a treatment on an individual or a sub-group behavior. \n",
    "\n",
    "The summary of the main steps we take in this notebook are as following:\n",
    "\n",
    "1. Load and process the data\n",
    "2. Understand the data using exploratory data analysis\n",
    "3. Train a machine learning model using an Uplift model\n",
    "4. Save the final machine learning model\n",
    "5. Load the machine learning model for scoring and making predictions\n",
    "\n",
    "## Prerequisites\n",
    "- Have a lakehouse added to this notebook. We will be downloading data from a public blob, and storing that in the lakehouse. "
   ]
  },
  {
   "cell_type": "markdown",
   "id": "58090d36-f361-4a8e-8a93-80fba833a43e",
   "metadata": {
    "nteract": {
     "transient": {
      "deleting": false
     }
    }
   },
   "source": [
    "### What is Uplift Modeling?\n",
    "\n",
    "Uplift modeling is a set of causal inference techniques that utilize machine learning models to identify the most suitable treatment (from a group of treatments) that leads to the most desirable outcome. This is determined empirically by studying a treatment group (individuals with treatment) and a control group (individuals without treatment). This approach classifies individuals into four main subgroups within a population:\n",
    "\n",
    "- **Persuadables**: These individuals respond positively only when given the treatment.\n",
    "- **Sleeping-dogs**: This group shows a strong negative response to the treatment.\n",
    "- **Lost Causes**: Individuals in this category will never achieve the desired outcome, even with the treatment.\n",
    "- **Sure Things**: This group will achieve the outcome regardless of whether they receive the treatment or not.\n",
    "\n",
    "\n",
    "The primary objective of uplift modeling is to identify the **\"persuadables\"** since targeting them can lead to a more favorable outcome. Conversely, directing efforts towards the **\"lost causes\"** and **\"sure things\"** groups would be ineffective, and the **\"sleeping dogs\"** group could potentially result in negative outcomes. Uplift modeling finds practical applications in various fields such as marketing, healthcare, and social sciences, where it optimizes decision-making and enhances the effectiveness of interventions.\n",
    "\n",
    "### How does Uplift modeling work?\n",
    "\n",
    "The main techniques used for uplift modeling include:\n",
    "\n",
    "- Meta Learner that predicts the difference between an individual's behavior when there is a treatment and when there is not a treatment.\n",
    "\n",
    "- Uplift Tree which is a tree-based algorithm that takes information about treatment/control group assignment and information about the response directly into decisions about splitting criterion for a node. \n",
    "\n",
    "- Neural Network-based Model which usually works with observational data and helps to learn the distribution of a latent variable using deep learning. We use the latent variable to represent the co-founder in the uplift modeling.\n",
    "\n",
    "### How does Uplift modeling benefit?\n",
    "\n",
    "- In marketing applications, uplift modeling can help to identify persuadables who can be swayed by the treatment that could be a coupon or an online advertisement.\n",
    "- In medical treatment, uplift modeling can help in comprehending how a particular treatment can affect distinct groups, allowing for optimized target selection to maximize its impact.\n"
   ]
  },
  {
   "cell_type": "markdown",
   "id": "49d6166f-0fb6-451e-898e-dea4130f772b",
   "metadata": {
    "nteract": {
     "transient": {
      "deleting": false
     }
    }
   },
   "source": [
    "## Dataset\n",
    "\n",
    "The dataset was created by The Criteo AI Lab and consists of 13M rows, each one representing a user with twelve features, a treatment indicator, and two binary labels that include visit and conversion.\n",
    "\n",
    "|f0|f1|f2|f3|f4|f5|f6|f7|f8|f9|f10|f11|treatment|conversion|visit|\n",
    "|---|---|---|---|---|---|---|---|---|---|---|---|---|---|---|\n",
    "\n",
    "- **f0 - f11**: feature values (dense, floating values)\n",
    "- **treatment**: indicates whether a user was randomly targeted for treatment (i.e., advertising) or not (1 = treatment, 0 = control)\n",
    "- **conversion**: indicates whether a conversion occurred (i.e., made a purchase) for this user (binary, label)\n",
    "- **visit**: indicates whether a visit occurred (i.e., visit the online store) for this user (binary, label)\n",
    "\n",
    "## Citation\n",
    "\n",
    "\n",
    "- Dataset homepage: https://ailab.criteo.com/criteo-uplift-prediction-dataset/\n",
    "```\n",
    "@inproceedings{Diemert2018,\n",
    "author = {{Diemert Eustache, Betlei Artem} and Renaudin, Christophe and Massih-Reza, Amini},\n",
    "title={A Large Scale Benchmark for Uplift Modeling},\n",
    "publisher = {ACM},\n",
    "booktitle = {Proceedings of the AdKDD and TargetAd Workshop, KDD, London,United Kingdom, August, 20, 2018},\n",
    "year = {2018}\n",
    "}\n",
    "```"
   ]
  },
  {
   "cell_type": "markdown",
   "id": "10b9dec8-622d-4f6c-8b4c-23dc3505ede9",
   "metadata": {
    "nteract": {
     "transient": {
      "deleting": false
     }
    }
   },
   "source": [
    "## Step 1: Load the Data\n",
    "\n",
    "**By defining below parameters, we can apply this notebook on different datasets easily.**"
   ]
  },
  {
   "cell_type": "code",
   "execution_count": null,
   "id": "daaeb770-009e-4924-85d2-57c7b6a874d5",
   "metadata": {
    "jupyter": {
     "outputs_hidden": false,
     "source_hidden": false
    },
    "nteract": {
     "transient": {
      "deleting": false
     }
    }
   },
   "outputs": [
    {
     "data": {
      "application/vnd.livy.statement-meta+json": {
       "execution_finish_time": "2023-08-04T03:03:23.630448Z",
       "execution_start_time": "2023-08-04T03:03:21.7310541Z",
       "livy_statement_state": "available",
       "parent_msg_id": "285b6d38-caa7-4abe-9439-fff9ceb3a128",
       "queued_time": "2023-08-04T03:03:10.9698731Z",
       "session_id": "d1896701-7cf5-4a6d-86ac-123d32475b40",
       "session_start_time": "2023-08-04T03:03:11.1987781Z",
       "spark_jobs": {
        "jobs": [],
        "limit": 20,
        "numbers": {
         "FAILED": 0,
         "RUNNING": 0,
         "SUCCEEDED": 0,
         "UNKNOWN": 0
        },
        "rule": "ALL_DESC"
       },
       "spark_pool": null,
       "state": "finished",
       "statement_id": 3
      },
      "text/plain": [
       "StatementMeta(, d1896701-7cf5-4a6d-86ac-123d32475b40, 3, Finished, Available)"
      ]
     },
     "metadata": {},
     "output_type": "display_data"
    }
   ],
   "source": [
    "IS_CUSTOM_DATA = False  # if True, dataset has to be uploaded manually by user\n",
    "DATA_FOLDER = \"Files/uplift-modelling\"\n",
    "DATA_FILE = \"criteo-research-uplift-v2.1.csv\"\n",
    "\n",
    "FEATURE_COLUMNS = [f\"f{i}\" for i in range(12)]\n",
    "TREATMENT_COLUMN = \"treatment\"\n",
    "LABEL_COLUMN = \"visit\"\n",
    "\n",
    "EXPERIMENT_NAME = \"aisample-upliftmodelling\"  # mlflow experiment name"
   ]
  },
  {
   "cell_type": "markdown",
   "id": "0058fa5a-17f2-444f-a5c0-7a8a61f7efac",
   "metadata": {
    "nteract": {
     "transient": {
      "deleting": false
     }
    }
   },
   "source": [
    "#### Import Libraries\n",
    "\n",
    "Prior to any processing, we need to import required libraries for Spark, SynapseML, and data visualization such as seaborn which is a Python data visualization library to provide a high-level interface for building visuals on dataframes and arrays. You can learn more about Spark, SynapseML and Seaborn [here](https://spark.apache.org/), [here](https://aka.ms/AboutSynapseML), and [here](https://seaborn.pydata.org/) respectively. "
   ]
  },
  {
   "cell_type": "code",
   "execution_count": null,
   "id": "723d006f-fc57-4207-a5e5-b604bff6df98",
   "metadata": {},
   "outputs": [
    {
     "data": {
      "application/vnd.livy.statement-meta+json": {
       "execution_finish_time": "2023-08-04T03:03:30.354845Z",
       "execution_start_time": "2023-08-04T03:03:24.0677644Z",
       "livy_statement_state": "available",
       "parent_msg_id": "576eb6af-2f78-4994-816f-57921c4f6733",
       "queued_time": "2023-08-04T03:03:10.9705606Z",
       "session_id": "d1896701-7cf5-4a6d-86ac-123d32475b40",
       "session_start_time": null,
       "spark_jobs": {
        "jobs": [],
        "limit": 20,
        "numbers": {
         "FAILED": 0,
         "RUNNING": 0,
         "SUCCEEDED": 0,
         "UNKNOWN": 0
        },
        "rule": "ALL_DESC"
       },
       "spark_pool": null,
       "state": "finished",
       "statement_id": 4
      },
      "text/plain": [
       "StatementMeta(, d1896701-7cf5-4a6d-86ac-123d32475b40, 4, Finished, Available)"
      ]
     },
     "metadata": {},
     "output_type": "display_data"
    }
   ],
   "source": [
    "import os\n",
    "import gzip\n",
    "\n",
    "import pyspark.sql.functions as F\n",
    "from pyspark.sql.window import Window\n",
    "from pyspark.sql.types import *\n",
    "\n",
    "import numpy as np\n",
    "import pandas as pd\n",
    "\n",
    "import matplotlib as mpl\n",
    "import matplotlib.pyplot as plt\n",
    "import matplotlib.style as style\n",
    "import seaborn as sns\n",
    "\n",
    "%matplotlib inline\n",
    "\n",
    "from synapse.ml.featurize import Featurize\n",
    "from synapse.ml.core.spark import FluentAPI\n",
    "from synapse.ml.lightgbm import *\n",
    "from synapse.ml.train import ComputeModelStatistics\n",
    "\n",
    "import mlflow"
   ]
  },
  {
   "cell_type": "markdown",
   "id": "81d10e4c-eb33-41e1-a3ef-4ee9c4e481b2",
   "metadata": {
    "nteract": {
     "transient": {
      "deleting": false
     }
    }
   },
   "source": [
    "#### Download dataset and upload to lakehouse\n",
    "\n",
    "The following code will download a publicly available version of the the dataset and then store it in a Fabric Lakehouse.\n",
    "\n",
    "**Please add a lakehouse to the notebook before running it. Failure to do so will result in an error.**\n",
    "\n",
    "Instructions to add a lakehouse to the notebook can be found [here](https://aka.ms/fabric/addlakehouse)."
   ]
  },
  {
   "cell_type": "code",
   "execution_count": null,
   "id": "2bd24839-523a-4424-be50-ace09179278e",
   "metadata": {
    "jupyter": {
     "outputs_hidden": false,
     "source_hidden": false
    },
    "nteract": {
     "transient": {
      "deleting": false
     }
    }
   },
   "outputs": [
    {
     "data": {
      "application/vnd.livy.statement-meta+json": {
       "execution_finish_time": "2023-08-04T03:03:31.6482769Z",
       "execution_start_time": "2023-08-04T03:03:30.8179646Z",
       "livy_statement_state": "available",
       "parent_msg_id": "21957161-5792-4c61-87a8-cdce8a2e32a5",
       "queued_time": "2023-08-04T03:03:10.9724831Z",
       "session_id": "d1896701-7cf5-4a6d-86ac-123d32475b40",
       "session_start_time": null,
       "spark_jobs": {
        "jobs": [],
        "limit": 20,
        "numbers": {
         "FAILED": 0,
         "RUNNING": 0,
         "SUCCEEDED": 0,
         "UNKNOWN": 0
        },
        "rule": "ALL_DESC"
       },
       "spark_pool": null,
       "state": "finished",
       "statement_id": 5
      },
      "text/plain": [
       "StatementMeta(, d1896701-7cf5-4a6d-86ac-123d32475b40, 5, Finished, Available)"
      ]
     },
     "metadata": {},
     "output_type": "display_data"
    },
    {
     "name": "stdout",
     "output_type": "stream",
     "text": [
      "Downloaded demo data files into lakehouse.\n"
     ]
    }
   ],
   "source": [
    "if not IS_CUSTOM_DATA:\n",
    "    # Download demo data files into lakehouse if not exist\n",
    "    import os, requests\n",
    "\n",
    "    remote_url = \"http://go.criteo.net/criteo-research-uplift-v2.1.csv.gz\"\n",
    "    download_file = \"criteo-research-uplift-v2.1.csv.gz\"\n",
    "    download_path = f\"/lakehouse/default/{DATA_FOLDER}/raw\"\n",
    "\n",
    "    if not os.path.exists(\"/lakehouse/default\"):\n",
    "        raise FileNotFoundError(\"Default lakehouse not found, please add a lakehouse and restart the session.\")\n",
    "    os.makedirs(download_path, exist_ok=True)\n",
    "    if not os.path.exists(f\"{download_path}/{DATA_FILE}\"):\n",
    "        r = requests.get(f\"{remote_url}\", timeout=30)\n",
    "        with open(f\"{download_path}/{download_file}\", \"wb\") as f:\n",
    "            f.write(r.content)\n",
    "        with gzip.open(f\"{download_path}/{download_file}\", \"rb\") as fin:\n",
    "            with open(f\"{download_path}/{DATA_FILE}\", \"wb\") as fout:\n",
    "                fout.write(fin.read())\n",
    "    print(\"Downloaded demo data files into lakehouse.\")"
   ]
  },
  {
   "cell_type": "markdown",
   "id": "3bb4bcc6-6c72-4370-9c00-2257432a2861",
   "metadata": {
    "nteract": {
     "transient": {
      "deleting": false
     }
    }
   },
   "source": [
    "We start recording the time it takes to run this notebook."
   ]
  },
  {
   "cell_type": "code",
   "execution_count": null,
   "id": "b28508a8-71c5-4351-a0ad-9df05fcf8b8a",
   "metadata": {},
   "outputs": [
    {
     "data": {
      "application/vnd.livy.statement-meta+json": {
       "execution_finish_time": "2023-08-04T03:03:32.3512339Z",
       "execution_start_time": "2023-08-04T03:03:32.0675186Z",
       "livy_statement_state": "available",
       "parent_msg_id": "d6390414-8d5b-4d44-8931-19e3366d9b28",
       "queued_time": "2023-08-04T03:03:10.9729374Z",
       "session_id": "d1896701-7cf5-4a6d-86ac-123d32475b40",
       "session_start_time": null,
       "spark_jobs": {
        "jobs": [],
        "limit": 20,
        "numbers": {
         "FAILED": 0,
         "RUNNING": 0,
         "SUCCEEDED": 0,
         "UNKNOWN": 0
        },
        "rule": "ALL_DESC"
       },
       "spark_pool": null,
       "state": "finished",
       "statement_id": 6
      },
      "text/plain": [
       "StatementMeta(, d1896701-7cf5-4a6d-86ac-123d32475b40, 6, Finished, Available)"
      ]
     },
     "metadata": {},
     "output_type": "display_data"
    }
   ],
   "source": [
    "# Record the notebook running time\n",
    "import time\n",
    "\n",
    "ts = time.time()\n"
   ]
  },
  {
   "cell_type": "markdown",
   "id": "b9af9f97-a377-4508-af1a-6aad555e8f21",
   "metadata": {
    "nteract": {
     "transient": {
      "deleting": false
     }
    }
   },
   "source": [
    "#### Setup the MLflow experiment tracking\n",
    "\n",
    "Extending the MLflow autologging capabilities, autologging works by automatically capturing the values of input parameters and output metrics of a machine learning model as it is being trained. This information is then logged to your workspace, where it can be accessed and visualized using the MLflow APIs or the corresponding experiment in your workspace. Further information about how to perform autologging can be found [here](https://aka.ms/fabric-autologging)."
   ]
  },
  {
   "cell_type": "code",
   "execution_count": null,
   "id": "ab02f4a4-fa06-4e06-992f-82c3e3c731fc",
   "metadata": {},
   "outputs": [
    {
     "data": {
      "application/vnd.livy.statement-meta+json": {
       "execution_finish_time": "2023-08-04T03:03:35.216436Z",
       "execution_start_time": "2023-08-04T03:03:32.7880115Z",
       "livy_statement_state": "available",
       "parent_msg_id": "07f00674-6f44-4eb1-aec3-555db51df299",
       "queued_time": "2023-08-04T03:03:10.9761685Z",
       "session_id": "d1896701-7cf5-4a6d-86ac-123d32475b40",
       "session_start_time": null,
       "spark_jobs": {
        "jobs": [],
        "limit": 20,
        "numbers": {
         "FAILED": 0,
         "RUNNING": 0,
         "SUCCEEDED": 0,
         "UNKNOWN": 0
        },
        "rule": "ALL_DESC"
       },
       "spark_pool": null,
       "state": "finished",
       "statement_id": 7
      },
      "text/plain": [
       "StatementMeta(, d1896701-7cf5-4a6d-86ac-123d32475b40, 7, Finished, Available)"
      ]
     },
     "metadata": {},
     "output_type": "display_data"
    }
   ],
   "source": [
    "# Setup mlflow experiment\n",
    "mlflow.set_experiment(EXPERIMENT_NAME)\n",
    "mlflow.autolog(disable=True)  # disable mlflow autologging"
   ]
  },
  {
   "cell_type": "markdown",
   "id": "3819a24e-6a70-40b0-999b-4b07b93c83d2",
   "metadata": {
    "nteract": {
     "transient": {
      "deleting": false
     }
    }
   },
   "source": [
    "Note that if we want to disable Microsoft Fabric autologging in a notebook session, we can call `mlflow.autolog()` and set `disable=True`."
   ]
  },
  {
   "cell_type": "markdown",
   "id": "dfda728c-6966-44e6-9af5-2ed83447aac7",
   "metadata": {
    "nteract": {
     "transient": {
      "deleting": false
     }
    }
   },
   "source": [
    "#### Read data from the lakehouse\n",
    "\n",
    "We start by reading the data from the lakehouse and then explore the raw data using `display`."
   ]
  },
  {
   "cell_type": "code",
   "execution_count": null,
   "id": "7b4bb2f6-71db-457f-b702-9b9bf8e303c0",
   "metadata": {
    "jupyter": {
     "outputs_hidden": false,
     "source_hidden": false
    },
    "nteract": {
     "transient": {
      "deleting": false
     }
    }
   },
   "outputs": [
    {
     "data": {
      "application/vnd.livy.statement-meta+json": {
       "execution_finish_time": "2023-08-04T03:04:09.6436815Z",
       "execution_start_time": "2023-08-04T03:03:35.6051228Z",
       "livy_statement_state": "available",
       "parent_msg_id": "c61a3d34-c2b1-4020-a02e-fc2e3a78e66b",
       "queued_time": "2023-08-04T03:03:10.9767481Z",
       "session_id": "d1896701-7cf5-4a6d-86ac-123d32475b40",
       "session_start_time": null,
       "spark_jobs": {
        "jobs": [
         {
          "completionTime": "2023-08-04T03:04:09.220GMT",
          "dataRead": 3249688085,
          "dataWritten": 0,
          "description": "Job group for statement 8:\nraw_df = spark.read.csv(f\"{DATA_FOLDER}/raw/{DATA_FILE}\", header=True, inferSchema=True).cache()",
          "displayName": "csv at NativeMethodAccessorImpl.java:0",
          "jobGroup": "8",
          "jobId": 9,
          "killedTasksSummary": {},
          "name": "csv at NativeMethodAccessorImpl.java:0",
          "numActiveStages": 0,
          "numActiveTasks": 0,
          "numCompletedIndices": 25,
          "numCompletedStages": 1,
          "numCompletedTasks": 25,
          "numFailedStages": 0,
          "numFailedTasks": 0,
          "numKilledTasks": 0,
          "numSkippedStages": 0,
          "numSkippedTasks": 0,
          "numTasks": 25,
          "rowCount": 13979593,
          "stageIds": [
           13
          ],
          "status": "SUCCEEDED",
          "submissionTime": "2023-08-04T03:03:37.201GMT",
          "usageDescription": ""
         },
         {
          "completionTime": "2023-08-04T03:03:36.970GMT",
          "dataRead": 65536,
          "dataWritten": 0,
          "description": "Job group for statement 8:\nraw_df = spark.read.csv(f\"{DATA_FOLDER}/raw/{DATA_FILE}\", header=True, inferSchema=True).cache()",
          "displayName": "csv at NativeMethodAccessorImpl.java:0",
          "jobGroup": "8",
          "jobId": 8,
          "killedTasksSummary": {},
          "name": "csv at NativeMethodAccessorImpl.java:0",
          "numActiveStages": 0,
          "numActiveTasks": 0,
          "numCompletedIndices": 1,
          "numCompletedStages": 1,
          "numCompletedTasks": 1,
          "numFailedStages": 0,
          "numFailedTasks": 0,
          "numKilledTasks": 0,
          "numSkippedStages": 0,
          "numSkippedTasks": 0,
          "numTasks": 1,
          "rowCount": 1,
          "stageIds": [
           12
          ],
          "status": "SUCCEEDED",
          "submissionTime": "2023-08-04T03:03:36.314GMT",
          "usageDescription": ""
         }
        ],
        "limit": 20,
        "numbers": {
         "FAILED": 0,
         "RUNNING": 0,
         "SUCCEEDED": 2,
         "UNKNOWN": 0
        },
        "rule": "ALL_DESC"
       },
       "spark_pool": null,
       "state": "finished",
       "statement_id": 8
      },
      "text/plain": [
       "StatementMeta(, d1896701-7cf5-4a6d-86ac-123d32475b40, 8, Finished, Available)"
      ]
     },
     "metadata": {},
     "output_type": "display_data"
    }
   ],
   "source": [
    "raw_df = spark.read.csv(f\"{DATA_FOLDER}/raw/{DATA_FILE}\", header=True, inferSchema=True).cache()"
   ]
  },
  {
   "cell_type": "markdown",
   "id": "ce193d37-2b0d-4839-b9c0-66ddc2a47f89",
   "metadata": {
    "nteract": {
     "transient": {
      "deleting": false
     }
    }
   },
   "source": [
    "## Step 2: Exploratory Data Analysis"
   ]
  },
  {
   "cell_type": "markdown",
   "id": "6490f765",
   "metadata": {},
   "source": [
    "We can explore using the `display` command to view high-level statistics of the dataset."
   ]
  },
  {
   "cell_type": "code",
   "execution_count": null,
   "id": "1b1e69b2",
   "metadata": {},
   "outputs": [
    {
     "data": {
      "application/vnd.livy.statement-meta+json": {
       "execution_finish_time": "2023-08-04T03:04:41.7734544Z",
       "execution_start_time": "2023-08-04T03:04:10.0567267Z",
       "livy_statement_state": "available",
       "parent_msg_id": "3b9a06d2-1458-487b-973e-e63e9776e306",
       "queued_time": "2023-08-04T03:03:10.9772301Z",
       "session_id": "d1896701-7cf5-4a6d-86ac-123d32475b40",
       "session_start_time": null,
       "spark_jobs": {
        "jobs": [
         {
          "completionTime": "2023-08-04T03:04:40.852GMT",
          "dataRead": 0,
          "dataWritten": 0,
          "description": "Job group for statement 9:\ndisplay(raw_df.limit(20))",
          "displayName": "getRowsInJsonString at Display.scala:452",
          "jobGroup": "9",
          "jobId": 11,
          "killedTasksSummary": {},
          "name": "getRowsInJsonString at Display.scala:452",
          "numActiveStages": 0,
          "numActiveTasks": 0,
          "numCompletedIndices": 1,
          "numCompletedStages": 1,
          "numCompletedTasks": 1,
          "numFailedStages": 0,
          "numFailedTasks": 0,
          "numKilledTasks": 0,
          "numSkippedStages": 1,
          "numSkippedTasks": 25,
          "numTasks": 26,
          "rowCount": 0,
          "stageIds": [
           15,
           16
          ],
          "status": "SUCCEEDED",
          "submissionTime": "2023-08-04T03:04:40.807GMT",
          "usageDescription": ""
         },
         {
          "completionTime": "2023-08-04T03:04:40.724GMT",
          "dataRead": 3249688085,
          "dataWritten": 18525,
          "description": "Job group for statement 9:\ndisplay(raw_df.limit(20))",
          "displayName": "getRowsInJsonString at Display.scala:452",
          "jobGroup": "9",
          "jobId": 10,
          "killedTasksSummary": {},
          "name": "getRowsInJsonString at Display.scala:452",
          "numActiveStages": 0,
          "numActiveTasks": 0,
          "numCompletedIndices": 25,
          "numCompletedStages": 1,
          "numCompletedTasks": 25,
          "numFailedStages": 0,
          "numFailedTasks": 0,
          "numKilledTasks": 0,
          "numSkippedStages": 0,
          "numSkippedTasks": 0,
          "numTasks": 25,
          "rowCount": 13980092,
          "stageIds": [
           14
          ],
          "status": "SUCCEEDED",
          "submissionTime": "2023-08-04T03:04:10.127GMT",
          "usageDescription": ""
         }
        ],
        "limit": 20,
        "numbers": {
         "FAILED": 0,
         "RUNNING": 0,
         "SUCCEEDED": 2,
         "UNKNOWN": 0
        },
        "rule": "ALL_DESC"
       },
       "spark_pool": null,
       "state": "finished",
       "statement_id": 9
      },
      "text/plain": [
       "StatementMeta(, d1896701-7cf5-4a6d-86ac-123d32475b40, 9, Finished, Available)"
      ]
     },
     "metadata": {},
     "output_type": "display_data"
    },
    {
     "data": {
      "application/vnd.synapse.widget-view+json": {
       "widget_id": "aec1408e-74fa-433d-a3ab-aa21b776037c",
       "widget_type": "Synapse.DataFrame"
      },
      "text/plain": [
       "SynapseWidget(Synapse.DataFrame, aec1408e-74fa-433d-a3ab-aa21b776037c)"
      ]
     },
     "metadata": {},
     "output_type": "display_data"
    }
   ],
   "source": [
    "display(raw_df.limit(20))"
   ]
  },
  {
   "cell_type": "markdown",
   "id": "34c36b4c-88d9-49e9-8ffe-87867a93dd7f",
   "metadata": {
    "nteract": {
     "transient": {
      "deleting": false
     }
    }
   },
   "source": [
    "We look into the percentage of the users that visit, the percentage of users that convert, and the percentage of the visitors that convert."
   ]
  },
  {
   "cell_type": "code",
   "execution_count": null,
   "id": "f1774905-cbef-4f25-9df8-4b7a11262cbe",
   "metadata": {
    "jupyter": {
     "outputs_hidden": false,
     "source_hidden": false
    },
    "nteract": {
     "transient": {
      "deleting": false
     }
    }
   },
   "outputs": [
    {
     "data": {
      "application/vnd.livy.statement-meta+json": {
       "execution_finish_time": "2023-08-04T03:04:42.9878356Z",
       "execution_start_time": "2023-08-04T03:04:42.1302182Z",
       "livy_statement_state": "available",
       "parent_msg_id": "56c22d0c-bd48-46f3-9252-a445f669e744",
       "queued_time": "2023-08-04T03:03:10.978574Z",
       "session_id": "d1896701-7cf5-4a6d-86ac-123d32475b40",
       "session_start_time": null,
       "spark_jobs": {
        "jobs": [
         {
          "completionTime": "2023-08-04T03:04:42.570GMT",
          "dataRead": 1964,
          "dataWritten": 0,
          "description": "Job group for statement 10:\nraw_df.select(\n    F.mean(\"visit\").alias(\"Percentage of users that visit\"),\n    F.mean(\"conversion\").alias(\"Percentage of users that convert\"),\n    (F.sum(\"conversion\") / F.sum(\"visit\")).alias(\"Percentage of visitors that convert\"),\n).show()\n",
          "displayName": "showString at NativeMethodAccessorImpl.java:0",
          "jobGroup": "10",
          "jobId": 13,
          "killedTasksSummary": {},
          "name": "showString at NativeMethodAccessorImpl.java:0",
          "numActiveStages": 0,
          "numActiveTasks": 0,
          "numCompletedIndices": 1,
          "numCompletedStages": 1,
          "numCompletedTasks": 1,
          "numFailedStages": 0,
          "numFailedTasks": 0,
          "numKilledTasks": 0,
          "numSkippedStages": 1,
          "numSkippedTasks": 25,
          "numTasks": 26,
          "rowCount": 25,
          "stageIds": [
           19,
           18
          ],
          "status": "SUCCEEDED",
          "submissionTime": "2023-08-04T03:04:42.525GMT",
          "usageDescription": ""
         },
         {
          "completionTime": "2023-08-04T03:04:42.495GMT",
          "dataRead": 1361805488,
          "dataWritten": 1964,
          "description": "Job group for statement 10:\nraw_df.select(\n    F.mean(\"visit\").alias(\"Percentage of users that visit\"),\n    F.mean(\"conversion\").alias(\"Percentage of users that convert\"),\n    (F.sum(\"conversion\") / F.sum(\"visit\")).alias(\"Percentage of visitors that convert\"),\n).show()\n",
          "displayName": "showString at NativeMethodAccessorImpl.java:0",
          "jobGroup": "10",
          "jobId": 12,
          "killedTasksSummary": {},
          "name": "showString at NativeMethodAccessorImpl.java:0",
          "numActiveStages": 0,
          "numActiveTasks": 0,
          "numCompletedIndices": 25,
          "numCompletedStages": 1,
          "numCompletedTasks": 25,
          "numFailedStages": 0,
          "numFailedTasks": 0,
          "numKilledTasks": 0,
          "numSkippedStages": 0,
          "numSkippedTasks": 0,
          "numTasks": 25,
          "rowCount": 1429,
          "stageIds": [
           17
          ],
          "status": "SUCCEEDED",
          "submissionTime": "2023-08-04T03:04:42.181GMT",
          "usageDescription": ""
         }
        ],
        "limit": 20,
        "numbers": {
         "FAILED": 0,
         "RUNNING": 0,
         "SUCCEEDED": 2,
         "UNKNOWN": 0
        },
        "rule": "ALL_DESC"
       },
       "spark_pool": null,
       "state": "finished",
       "statement_id": 10
      },
      "text/plain": [
       "StatementMeta(, d1896701-7cf5-4a6d-86ac-123d32475b40, 10, Finished, Available)"
      ]
     },
     "metadata": {},
     "output_type": "display_data"
    },
    {
     "name": "stdout",
     "output_type": "stream",
     "text": [
      "+------------------------------+--------------------------------+-----------------------------------+\n",
      "|Percentage of users that visit|Percentage of users that convert|Percentage of visitors that convert|\n",
      "+------------------------------+--------------------------------+-----------------------------------+\n",
      "|          0.046992000911042324|            0.002916680257907384|                0.06206759025709019|\n",
      "+------------------------------+--------------------------------+-----------------------------------+\n",
      "\n"
     ]
    }
   ],
   "source": [
    "raw_df.select(\n",
    "    F.mean(\"visit\").alias(\"Percentage of users that visit\"),\n",
    "    F.mean(\"conversion\").alias(\"Percentage of users that convert\"),\n",
    "    (F.sum(\"conversion\") / F.sum(\"visit\")).alias(\"Percentage of visitors that convert\"),\n",
    ").show()\n"
   ]
  },
  {
   "cell_type": "markdown",
   "id": "37ad065d-2341-4e68-9c57-50911d7fc0c3",
   "metadata": {
    "nteract": {
     "transient": {
      "deleting": false
     }
    }
   },
   "source": [
    "The above analysis indicates that 4.7% of all users visited the online store and only 0.29% converted (i.e., made a purchase). As a result, the conversion rate of visitors is 6.2%."
   ]
  },
  {
   "cell_type": "markdown",
   "id": "0d5be3f7-ac9c-4927-b81b-a53f673a64a6",
   "metadata": {
    "nteract": {
     "transient": {
      "deleting": false
     }
    }
   },
   "source": [
    "We also examine the overall average treatment effect on visits and conversions, where a treatment of 1 indicates the user offered or exposed to advertising (i.e., discount coupons, gifts, or other privileges), and a treatment of 0 indicates the user is not offered or exposed to any form of advertising."
   ]
  },
  {
   "cell_type": "code",
   "execution_count": null,
   "id": "18807dbf-51a4-4c11-a914-5cc48f9766d4",
   "metadata": {
    "jupyter": {
     "outputs_hidden": false,
     "source_hidden": false
    },
    "nteract": {
     "transient": {
      "deleting": false
     }
    }
   },
   "outputs": [
    {
     "data": {
      "application/vnd.livy.statement-meta+json": {
       "execution_finish_time": "2023-08-04T03:04:44.933973Z",
       "execution_start_time": "2023-08-04T03:04:43.3918763Z",
       "livy_statement_state": "available",
       "parent_msg_id": "57b75cc0-c2ab-4dbe-b593-4db442065202",
       "queued_time": "2023-08-04T03:03:10.9792601Z",
       "session_id": "d1896701-7cf5-4a6d-86ac-123d32475b40",
       "session_start_time": null,
       "spark_jobs": {
        "jobs": [
         {
          "completionTime": "2023-08-04T03:04:44.739GMT",
          "dataRead": 2755,
          "dataWritten": 0,
          "description": "Job group for statement 11:\nraw_df.groupby(\"treatment\").agg(\n    F.mean(\"visit\").alias(\"Percentage of users that visit\"),\n    F.mean(\"conversion\").alias(\"Percentage of users that convert\"),\n    (F.sum(\"conversion\") / F.sum(\"visit\")).alias(\"Percentage of visitors that convert\"),\n).show()\n",
          "displayName": "showString at NativeMethodAccessorImpl.java:0",
          "jobGroup": "11",
          "jobId": 15,
          "killedTasksSummary": {},
          "name": "showString at NativeMethodAccessorImpl.java:0",
          "numActiveStages": 0,
          "numActiveTasks": 0,
          "numCompletedIndices": 1,
          "numCompletedStages": 1,
          "numCompletedTasks": 1,
          "numFailedStages": 0,
          "numFailedTasks": 0,
          "numKilledTasks": 0,
          "numSkippedStages": 1,
          "numSkippedTasks": 25,
          "numTasks": 26,
          "rowCount": 32,
          "stageIds": [
           21,
           22
          ],
          "status": "SUCCEEDED",
          "submissionTime": "2023-08-04T03:04:44.652GMT",
          "usageDescription": ""
         },
         {
          "completionTime": "2023-08-04T03:04:44.573GMT",
          "dataRead": 1361805488,
          "dataWritten": 2755,
          "description": "Job group for statement 11:\nraw_df.groupby(\"treatment\").agg(\n    F.mean(\"visit\").alias(\"Percentage of users that visit\"),\n    F.mean(\"conversion\").alias(\"Percentage of users that convert\"),\n    (F.sum(\"conversion\") / F.sum(\"visit\")).alias(\"Percentage of visitors that convert\"),\n).show()\n",
          "displayName": "showString at NativeMethodAccessorImpl.java:0",
          "jobGroup": "11",
          "jobId": 14,
          "killedTasksSummary": {},
          "name": "showString at NativeMethodAccessorImpl.java:0",
          "numActiveStages": 0,
          "numActiveTasks": 0,
          "numCompletedIndices": 25,
          "numCompletedStages": 1,
          "numCompletedTasks": 25,
          "numFailedStages": 0,
          "numFailedTasks": 0,
          "numKilledTasks": 0,
          "numSkippedStages": 0,
          "numSkippedTasks": 0,
          "numTasks": 25,
          "rowCount": 1436,
          "stageIds": [
           20
          ],
          "status": "SUCCEEDED",
          "submissionTime": "2023-08-04T03:04:43.503GMT",
          "usageDescription": ""
         }
        ],
        "limit": 20,
        "numbers": {
         "FAILED": 0,
         "RUNNING": 0,
         "SUCCEEDED": 2,
         "UNKNOWN": 0
        },
        "rule": "ALL_DESC"
       },
       "spark_pool": null,
       "state": "finished",
       "statement_id": 11
      },
      "text/plain": [
       "StatementMeta(, d1896701-7cf5-4a6d-86ac-123d32475b40, 11, Finished, Available)"
      ]
     },
     "metadata": {},
     "output_type": "display_data"
    },
    {
     "name": "stdout",
     "output_type": "stream",
     "text": [
      "+---------+------------------------------+--------------------------------+-----------------------------------+\n",
      "|treatment|Percentage of users that visit|Percentage of users that convert|Percentage of visitors that convert|\n",
      "+---------+------------------------------+--------------------------------+-----------------------------------+\n",
      "|        1|          0.048543360048743316|            0.003089461067412...|                0.06364332968115058|\n",
      "|        0|           0.03820095691954503|            0.001937588015281...|                0.05072092878097497|\n",
      "+---------+------------------------------+--------------------------------+-----------------------------------+\n",
      "\n"
     ]
    }
   ],
   "source": [
    "raw_df.groupby(\"treatment\").agg(\n",
    "    F.mean(\"visit\").alias(\"Percentage of users that visit\"),\n",
    "    F.mean(\"conversion\").alias(\"Percentage of users that convert\"),\n",
    "    (F.sum(\"conversion\") / F.sum(\"visit\")).alias(\"Percentage of visitors that convert\"),\n",
    ").show()\n"
   ]
  },
  {
   "cell_type": "markdown",
   "id": "769f766e-8e17-4ecc-9f19-72efb7cb44e7",
   "metadata": {
    "nteract": {
     "transient": {
      "deleting": false
     }
    }
   },
   "source": [
    "The analysis suggests that 4.9% of users from the treatment group (that have received the treatment (i.e., advertising)) visited the online store, while only 3.8% of users from the control group (that did not receive the treatment (i.e., not offered or exposed to advertising)) did the same. Additionally, 0.31% of all users from the treatment group converted (i.e., made a purchase), while only 0.19% of users from the control group did so. As a result, the conversion rate (i.e., made a purchase) for visitors that were users of treatment group is 6.36%, compared to only 5.07% for users of the control group. This means that the treatment can potentially improve the visit rate by about 1% and the conversion rate of visitors by about 1.3%, which is a significant improvement."
   ]
  },
  {
   "cell_type": "markdown",
   "id": "bed56605-0882-4cf0-8731-3830a912b990",
   "metadata": {
    "nteract": {
     "transient": {
      "deleting": false
     }
    }
   },
   "source": [
    "## Step 3: Define the Model for Training"
   ]
  },
  {
   "cell_type": "markdown",
   "id": "6db58b1e-5b13-4751-91cd-bb33efce0b3c",
   "metadata": {
    "nteract": {
     "transient": {
      "deleting": false
     }
    }
   },
   "source": [
    "#### Prepare training and test datasets"
   ]
  },
  {
   "cell_type": "markdown",
   "id": "f1fc1b3c-d3d6-4422-b12d-48d627805aa1",
   "metadata": {
    "nteract": {
     "transient": {
      "deleting": false
     }
    }
   },
   "source": [
    "We fit a Featurize transformer to the `raw_df` DataFrame to extract features from the specified input columns and output them to a new column named `features`.\n",
    "\n",
    "The resulting DataFrame is stored in a new DataFrame named `df`."
   ]
  },
  {
   "cell_type": "code",
   "execution_count": null,
   "id": "88aa91c1-149c-47f3-9385-1eb3e0fc3db4",
   "metadata": {
    "jupyter": {
     "outputs_hidden": false,
     "source_hidden": false
    },
    "nteract": {
     "transient": {
      "deleting": false
     }
    }
   },
   "outputs": [
    {
     "data": {
      "application/vnd.livy.statement-meta+json": {
       "execution_finish_time": "2023-08-04T03:04:49.0540499Z",
       "execution_start_time": "2023-08-04T03:04:45.4499026Z",
       "livy_statement_state": "available",
       "parent_msg_id": "32fd2c10-48d5-4875-90ae-e528c55ece71",
       "queued_time": "2023-08-04T03:03:10.9832846Z",
       "session_id": "d1896701-7cf5-4a6d-86ac-123d32475b40",
       "session_start_time": null,
       "spark_jobs": {
        "jobs": [
         {
          "completionTime": "2023-08-04T03:04:47.108GMT",
          "dataRead": 4514,
          "dataWritten": 0,
          "description": "Job group for statement 12:\ntransformer = Featurize().setOutputCol(\"features\").setInputCols(FEATURE_COLUMNS).fit(raw_df)\ndf = transformer.transform(raw_df)",
          "displayName": "collect at CleanMissingData.scala:124",
          "jobGroup": "12",
          "jobId": 17,
          "killedTasksSummary": {},
          "name": "collect at CleanMissingData.scala:124",
          "numActiveStages": 0,
          "numActiveTasks": 0,
          "numCompletedIndices": 1,
          "numCompletedStages": 1,
          "numCompletedTasks": 1,
          "numFailedStages": 0,
          "numFailedTasks": 0,
          "numKilledTasks": 0,
          "numSkippedStages": 1,
          "numSkippedTasks": 25,
          "numTasks": 26,
          "rowCount": 25,
          "stageIds": [
           24,
           25
          ],
          "status": "SUCCEEDED",
          "submissionTime": "2023-08-04T03:04:47.055GMT",
          "usageDescription": ""
         },
         {
          "completionTime": "2023-08-04T03:04:47.000GMT",
          "dataRead": 1361805488,
          "dataWritten": 4514,
          "description": "Job group for statement 12:\ntransformer = Featurize().setOutputCol(\"features\").setInputCols(FEATURE_COLUMNS).fit(raw_df)\ndf = transformer.transform(raw_df)",
          "displayName": "collect at CleanMissingData.scala:124",
          "jobGroup": "12",
          "jobId": 16,
          "killedTasksSummary": {},
          "name": "collect at CleanMissingData.scala:124",
          "numActiveStages": 0,
          "numActiveTasks": 0,
          "numCompletedIndices": 25,
          "numCompletedStages": 1,
          "numCompletedTasks": 25,
          "numFailedStages": 0,
          "numFailedTasks": 0,
          "numKilledTasks": 0,
          "numSkippedStages": 0,
          "numSkippedTasks": 0,
          "numTasks": 25,
          "rowCount": 1429,
          "stageIds": [
           23
          ],
          "status": "SUCCEEDED",
          "submissionTime": "2023-08-04T03:04:45.871GMT",
          "usageDescription": ""
         }
        ],
        "limit": 20,
        "numbers": {
         "FAILED": 0,
         "RUNNING": 0,
         "SUCCEEDED": 2,
         "UNKNOWN": 0
        },
        "rule": "ALL_DESC"
       },
       "spark_pool": null,
       "state": "finished",
       "statement_id": 12
      },
      "text/plain": [
       "StatementMeta(, d1896701-7cf5-4a6d-86ac-123d32475b40, 12, Finished, Available)"
      ]
     },
     "metadata": {},
     "output_type": "display_data"
    }
   ],
   "source": [
    "transformer = Featurize().setOutputCol(\"features\").setInputCols(FEATURE_COLUMNS).fit(raw_df)\n",
    "df = transformer.transform(raw_df)"
   ]
  },
  {
   "cell_type": "code",
   "execution_count": null,
   "id": "5fcc0e16-0f6b-49ba-9d0b-0f7647d163d3",
   "metadata": {
    "jupyter": {
     "outputs_hidden": false,
     "source_hidden": false
    },
    "nteract": {
     "transient": {
      "deleting": false
     }
    }
   },
   "outputs": [
    {
     "data": {
      "application/vnd.livy.statement-meta+json": {
       "execution_finish_time": "2023-08-04T03:05:19.1149944Z",
       "execution_start_time": "2023-08-04T03:04:49.4777042Z",
       "livy_statement_state": "available",
       "parent_msg_id": "563a7129-bfb2-4ec2-8765-5994ff5cc0fd",
       "queued_time": "2023-08-04T03:03:10.9838955Z",
       "session_id": "d1896701-7cf5-4a6d-86ac-123d32475b40",
       "session_start_time": null,
       "spark_jobs": {
        "jobs": [
         {
          "completionTime": "2023-08-04T03:05:16.845GMT",
          "dataRead": 1983,
          "dataWritten": 0,
          "description": "Job group for statement 13:\n# Split the DataFrame into training and test sets with a 80/20 ratio and a seed of 42\ntrain_df, test_df = df.randomSplit([0.8, 0.2], seed=42)\n\n# Print the size of the training and test datasets\nprint(\"Size of train dataset: %d\" % train_df.count())\nprint(\"Size of test dataset: %d\" % test_df.count())\n\n# Group the training dataset by the treatment column and count the number of occurrences of each value\ntrain_df.groupby(TREATMENT_COLUMN).count().show()",
          "displayName": "showString at NativeMethodAccessorImpl.java:0",
          "jobGroup": "13",
          "jobId": 23,
          "killedTasksSummary": {},
          "name": "showString at NativeMethodAccessorImpl.java:0",
          "numActiveStages": 0,
          "numActiveTasks": 0,
          "numCompletedIndices": 1,
          "numCompletedStages": 1,
          "numCompletedTasks": 1,
          "numFailedStages": 0,
          "numFailedTasks": 0,
          "numKilledTasks": 0,
          "numSkippedStages": 1,
          "numSkippedTasks": 25,
          "numTasks": 26,
          "rowCount": 32,
          "stageIds": [
           33,
           34
          ],
          "status": "SUCCEEDED",
          "submissionTime": "2023-08-04T03:05:16.795GMT",
          "usageDescription": ""
         },
         {
          "completionTime": "2023-08-04T03:05:16.737GMT",
          "dataRead": 1361805488,
          "dataWritten": 1983,
          "description": "Job group for statement 13:\n# Split the DataFrame into training and test sets with a 80/20 ratio and a seed of 42\ntrain_df, test_df = df.randomSplit([0.8, 0.2], seed=42)\n\n# Print the size of the training and test datasets\nprint(\"Size of train dataset: %d\" % train_df.count())\nprint(\"Size of test dataset: %d\" % test_df.count())\n\n# Group the training dataset by the treatment column and count the number of occurrences of each value\ntrain_df.groupby(TREATMENT_COLUMN).count().show()",
          "displayName": "showString at NativeMethodAccessorImpl.java:0",
          "jobGroup": "13",
          "jobId": 22,
          "killedTasksSummary": {},
          "name": "showString at NativeMethodAccessorImpl.java:0",
          "numActiveStages": 0,
          "numActiveTasks": 0,
          "numCompletedIndices": 25,
          "numCompletedStages": 1,
          "numCompletedTasks": 25,
          "numFailedStages": 0,
          "numFailedTasks": 0,
          "numKilledTasks": 0,
          "numSkippedStages": 0,
          "numSkippedTasks": 0,
          "numTasks": 25,
          "rowCount": 1436,
          "stageIds": [
           32
          ],
          "status": "SUCCEEDED",
          "submissionTime": "2023-08-04T03:05:07.453GMT",
          "usageDescription": ""
         },
         {
          "completionTime": "2023-08-04T03:05:07.343GMT",
          "dataRead": 1475,
          "dataWritten": 0,
          "description": "Job group for statement 13:\n# Split the DataFrame into training and test sets with a 80/20 ratio and a seed of 42\ntrain_df, test_df = df.randomSplit([0.8, 0.2], seed=42)\n\n# Print the size of the training and test datasets\nprint(\"Size of train dataset: %d\" % train_df.count())\nprint(\"Size of test dataset: %d\" % test_df.count())\n\n# Group the training dataset by the treatment column and count the number of occurrences of each value\ntrain_df.groupby(TREATMENT_COLUMN).count().show()",
          "displayName": "count at NativeMethodAccessorImpl.java:0",
          "jobGroup": "13",
          "jobId": 21,
          "killedTasksSummary": {},
          "name": "count at NativeMethodAccessorImpl.java:0",
          "numActiveStages": 0,
          "numActiveTasks": 0,
          "numCompletedIndices": 1,
          "numCompletedStages": 1,
          "numCompletedTasks": 1,
          "numFailedStages": 0,
          "numFailedTasks": 0,
          "numKilledTasks": 0,
          "numSkippedStages": 1,
          "numSkippedTasks": 25,
          "numTasks": 26,
          "rowCount": 25,
          "stageIds": [
           30,
           31
          ],
          "status": "SUCCEEDED",
          "submissionTime": "2023-08-04T03:05:07.325GMT",
          "usageDescription": ""
         },
         {
          "completionTime": "2023-08-04T03:05:07.304GMT",
          "dataRead": 1361805488,
          "dataWritten": 1475,
          "description": "Job group for statement 13:\n# Split the DataFrame into training and test sets with a 80/20 ratio and a seed of 42\ntrain_df, test_df = df.randomSplit([0.8, 0.2], seed=42)\n\n# Print the size of the training and test datasets\nprint(\"Size of train dataset: %d\" % train_df.count())\nprint(\"Size of test dataset: %d\" % test_df.count())\n\n# Group the training dataset by the treatment column and count the number of occurrences of each value\ntrain_df.groupby(TREATMENT_COLUMN).count().show()",
          "displayName": "count at NativeMethodAccessorImpl.java:0",
          "jobGroup": "13",
          "jobId": 20,
          "killedTasksSummary": {},
          "name": "count at NativeMethodAccessorImpl.java:0",
          "numActiveStages": 0,
          "numActiveTasks": 0,
          "numCompletedIndices": 25,
          "numCompletedStages": 1,
          "numCompletedTasks": 25,
          "numFailedStages": 0,
          "numFailedTasks": 0,
          "numKilledTasks": 0,
          "numSkippedStages": 0,
          "numSkippedTasks": 0,
          "numTasks": 25,
          "rowCount": 1429,
          "stageIds": [
           29
          ],
          "status": "SUCCEEDED",
          "submissionTime": "2023-08-04T03:04:59.010GMT",
          "usageDescription": ""
         },
         {
          "completionTime": "2023-08-04T03:04:58.895GMT",
          "dataRead": 1475,
          "dataWritten": 0,
          "description": "Job group for statement 13:\n# Split the DataFrame into training and test sets with a 80/20 ratio and a seed of 42\ntrain_df, test_df = df.randomSplit([0.8, 0.2], seed=42)\n\n# Print the size of the training and test datasets\nprint(\"Size of train dataset: %d\" % train_df.count())\nprint(\"Size of test dataset: %d\" % test_df.count())\n\n# Group the training dataset by the treatment column and count the number of occurrences of each value\ntrain_df.groupby(TREATMENT_COLUMN).count().show()",
          "displayName": "count at NativeMethodAccessorImpl.java:0",
          "jobGroup": "13",
          "jobId": 19,
          "killedTasksSummary": {},
          "name": "count at NativeMethodAccessorImpl.java:0",
          "numActiveStages": 0,
          "numActiveTasks": 0,
          "numCompletedIndices": 1,
          "numCompletedStages": 1,
          "numCompletedTasks": 1,
          "numFailedStages": 0,
          "numFailedTasks": 0,
          "numKilledTasks": 0,
          "numSkippedStages": 1,
          "numSkippedTasks": 25,
          "numTasks": 26,
          "rowCount": 25,
          "stageIds": [
           27,
           28
          ],
          "status": "SUCCEEDED",
          "submissionTime": "2023-08-04T03:04:58.865GMT",
          "usageDescription": ""
         },
         {
          "completionTime": "2023-08-04T03:04:58.833GMT",
          "dataRead": 1361805488,
          "dataWritten": 1475,
          "description": "Job group for statement 13:\n# Split the DataFrame into training and test sets with a 80/20 ratio and a seed of 42\ntrain_df, test_df = df.randomSplit([0.8, 0.2], seed=42)\n\n# Print the size of the training and test datasets\nprint(\"Size of train dataset: %d\" % train_df.count())\nprint(\"Size of test dataset: %d\" % test_df.count())\n\n# Group the training dataset by the treatment column and count the number of occurrences of each value\ntrain_df.groupby(TREATMENT_COLUMN).count().show()",
          "displayName": "count at NativeMethodAccessorImpl.java:0",
          "jobGroup": "13",
          "jobId": 18,
          "killedTasksSummary": {},
          "name": "count at NativeMethodAccessorImpl.java:0",
          "numActiveStages": 0,
          "numActiveTasks": 0,
          "numCompletedIndices": 25,
          "numCompletedStages": 1,
          "numCompletedTasks": 25,
          "numFailedStages": 0,
          "numFailedTasks": 0,
          "numKilledTasks": 0,
          "numSkippedStages": 0,
          "numSkippedTasks": 0,
          "numTasks": 25,
          "rowCount": 1429,
          "stageIds": [
           26
          ],
          "status": "SUCCEEDED",
          "submissionTime": "2023-08-04T03:04:49.575GMT",
          "usageDescription": ""
         }
        ],
        "limit": 20,
        "numbers": {
         "FAILED": 0,
         "RUNNING": 0,
         "SUCCEEDED": 6,
         "UNKNOWN": 0
        },
        "rule": "ALL_DESC"
       },
       "spark_pool": null,
       "state": "finished",
       "statement_id": 13
      },
      "text/plain": [
       "StatementMeta(, d1896701-7cf5-4a6d-86ac-123d32475b40, 13, Finished, Available)"
      ]
     },
     "metadata": {},
     "output_type": "display_data"
    },
    {
     "name": "stdout",
     "output_type": "stream",
     "text": [
      "Size of train dataset: 11182965\n",
      "Size of test dataset: 2796627\n",
      "+---------+-------+\n",
      "|treatment|  count|\n",
      "+---------+-------+\n",
      "|        1|9505415|\n",
      "|        0|1677550|\n",
      "+---------+-------+\n",
      "\n"
     ]
    }
   ],
   "source": [
    "# Split the DataFrame into training and test sets with a 80/20 ratio and a seed of 42\n",
    "train_df, test_df = df.randomSplit([0.8, 0.2], seed=42)\n",
    "\n",
    "# Print the size of the training and test datasets\n",
    "print(\"Size of train dataset: %d\" % train_df.count())\n",
    "print(\"Size of test dataset: %d\" % test_df.count())\n",
    "\n",
    "# Group the training dataset by the treatment column and count the number of occurrences of each value\n",
    "train_df.groupby(TREATMENT_COLUMN).count().show()"
   ]
  },
  {
   "cell_type": "markdown",
   "id": "af7aa060-edbd-4bca-9d89-14e25df92d42",
   "metadata": {
    "nteract": {
     "transient": {
      "deleting": false
     }
    }
   },
   "source": [
    "#### Prepare treatment and control datasets\n",
    "\n",
    "Once we have created the training and test datasets, we also need to form the treatment and control datasets in order to train machine learning models to measure the uplift."
   ]
  },
  {
   "cell_type": "code",
   "execution_count": null,
   "id": "3dd54f60-4e77-479e-ac91-89e68fbfaa4a",
   "metadata": {
    "jupyter": {
     "outputs_hidden": false,
     "source_hidden": false
    },
    "nteract": {
     "transient": {
      "deleting": false
     }
    }
   },
   "outputs": [
    {
     "data": {
      "application/vnd.livy.statement-meta+json": {
       "execution_finish_time": "2023-08-04T03:05:19.851344Z",
       "execution_start_time": "2023-08-04T03:05:19.5514001Z",
       "livy_statement_state": "available",
       "parent_msg_id": "70763be8-5dc3-4470-bc7f-92dd06072bdf",
       "queued_time": "2023-08-04T03:03:10.9845013Z",
       "session_id": "d1896701-7cf5-4a6d-86ac-123d32475b40",
       "session_start_time": null,
       "spark_jobs": {
        "jobs": [],
        "limit": 20,
        "numbers": {
         "FAILED": 0,
         "RUNNING": 0,
         "SUCCEEDED": 0,
         "UNKNOWN": 0
        },
        "rule": "ALL_DESC"
       },
       "spark_pool": null,
       "state": "finished",
       "statement_id": 14
      },
      "text/plain": [
       "StatementMeta(, d1896701-7cf5-4a6d-86ac-123d32475b40, 14, Finished, Available)"
      ]
     },
     "metadata": {},
     "output_type": "display_data"
    }
   ],
   "source": [
    "# Extract treatment and control DataFrames\n",
    "treatment_train_df = train_df.where(f\"{TREATMENT_COLUMN} > 0\")\n",
    "control_train_df = train_df.where(f\"{TREATMENT_COLUMN} = 0\")"
   ]
  },
  {
   "cell_type": "markdown",
   "id": "97a88ea8-1981-403c-b0e0-c8a67392d1c8",
   "metadata": {
    "nteract": {
     "transient": {
      "deleting": false
     }
    }
   },
   "source": [
    "Now that we have prepared our data we will continue with training a model using LightGBM.\n"
   ]
  },
  {
   "cell_type": "markdown",
   "id": "30553ba4-005b-4c4f-8723-a4b8b7822645",
   "metadata": {
    "nteract": {
     "transient": {
      "deleting": false
     }
    }
   },
   "source": [
    "#### Uplift Modeling: T-Learner with LightGBM"
   ]
  },
  {
   "cell_type": "markdown",
   "id": "3328c276-86f9-4b3b-802c-33b19d76b78e",
   "metadata": {
    "nteract": {
     "transient": {
      "deleting": false
     }
    }
   },
   "source": [
    "Meta learners are a set of algorithms that are built on top of machine learning algorithms like LightGBM, Xgboost, etc. to help estimate conditional average treatment effect (CATE).\n",
    "T-learner is a meta-learner that uses multiple machine learning models to overcome the problem of discarding the treatment entirely by forcing the learner to first split on it. Instead of using a single model, T-learner uses one model per treatment variable, therefore, two models are developed and hence the name T-learner."
   ]
  },
  {
   "cell_type": "code",
   "execution_count": null,
   "id": "3b7e2bef-b1f2-4a98-9b02-394f09c89f2c",
   "metadata": {
    "jupyter": {
     "outputs_hidden": false,
     "source_hidden": false
    },
    "nteract": {
     "transient": {
      "deleting": false
     }
    }
   },
   "outputs": [
    {
     "data": {
      "application/vnd.livy.statement-meta+json": {
       "execution_finish_time": "2023-08-04T03:05:21.0634222Z",
       "execution_start_time": "2023-08-04T03:05:20.2504802Z",
       "livy_statement_state": "available",
       "parent_msg_id": "cd70d49c-2ac5-4e2d-aabd-735d848b2da2",
       "queued_time": "2023-08-04T03:03:10.9850893Z",
       "session_id": "d1896701-7cf5-4a6d-86ac-123d32475b40",
       "session_start_time": null,
       "spark_jobs": {
        "jobs": [],
        "limit": 20,
        "numbers": {
         "FAILED": 0,
         "RUNNING": 0,
         "SUCCEEDED": 0,
         "UNKNOWN": 0
        },
        "rule": "ALL_DESC"
       },
       "spark_pool": null,
       "state": "finished",
       "statement_id": 15
      },
      "text/plain": [
       "StatementMeta(, d1896701-7cf5-4a6d-86ac-123d32475b40, 15, Finished, Available)"
      ]
     },
     "metadata": {},
     "output_type": "display_data"
    },
    {
     "name": "stderr",
     "output_type": "stream",
     "text": [
      "2023/08/04 03:05:20 INFO mlflow.tracking.fluent: Autologging successfully enabled for statsmodels.\n",
      "2023/08/04 03:05:20 INFO mlflow.tracking.fluent: Autologging successfully enabled for pyspark.ml.\n"
     ]
    }
   ],
   "source": [
    "mlflow.autolog(exclusive=False)"
   ]
  },
  {
   "cell_type": "code",
   "execution_count": null,
   "id": "f1586aff-d7de-4569-b250-949d40076f29",
   "metadata": {
    "jupyter": {
     "outputs_hidden": false,
     "source_hidden": false
    },
    "nteract": {
     "transient": {
      "deleting": false
     }
    }
   },
   "outputs": [
    {
     "data": {
      "application/vnd.livy.statement-meta+json": {
       "execution_finish_time": "2023-08-04T03:07:47.6964712Z",
       "execution_start_time": "2023-08-04T03:05:21.4419503Z",
       "livy_statement_state": "available",
       "parent_msg_id": "85f83872-8da9-44a5-b4ae-e39cfe741bb3",
       "queued_time": "2023-08-04T03:03:10.9857297Z",
       "session_id": "d1896701-7cf5-4a6d-86ac-123d32475b40",
       "session_start_time": null,
       "spark_jobs": {
        "jobs": [
         {
          "completionTime": "2023-08-04T03:07:41.741GMT",
          "dataRead": 0,
          "dataWritten": 816,
          "description": "Job group for statement 16:\nclassifier = (\n    LightGBMClassifier()\n    .setFeaturesCol(\"features\")  # Set the column name for features\n    .setNumLeaves(10)  # Set the number of leaves in each decision tree\n    .setNumIterations(100)  # Set the number of boosting iterations\n    .setObjective(\"binary\")  # Set the objective function for binary classification\n    .setLabelCol(LABEL_COLUMN)  # Set the column name for the label\n)\n\n# Start a new MLflow run with the name \"uplift\"\nactive_run = mlflow.start_run(run_name=\"uplift\")\n\n# Start a new nested MLflow run with the name \"treatment\"\nwith mlflow.start_run(run_name=\"treatment\", nested=True) as treatment_run:\n    treatment_run_id = treatment_run.info.run_id  # Get the ID of the treatment run\n    treatment_model = classifier.fit(treatment_train_df)  # Fit the classifier on the treatment training data\n\n# Start a new nested MLflow run with the name \"control\"\nwith mlflow.start_run(run_name=\"control\", nested=True) as control_run:\n    control_run_id = control_run.info.run_id  # Get the ID of the co...",
          "displayName": "runJob at SparkHadoopWriter.scala:85",
          "jobGroup": "16",
          "jobId": 32,
          "killedTasksSummary": {},
          "name": "runJob at SparkHadoopWriter.scala:85",
          "numActiveStages": 0,
          "numActiveTasks": 0,
          "numCompletedIndices": 1,
          "numCompletedStages": 1,
          "numCompletedTasks": 1,
          "numFailedStages": 0,
          "numFailedTasks": 0,
          "numKilledTasks": 0,
          "numSkippedStages": 0,
          "numSkippedTasks": 0,
          "numTasks": 1,
          "rowCount": 1,
          "stageIds": [
           43
          ],
          "status": "SUCCEEDED",
          "submissionTime": "2023-08-04T03:07:41.423GMT",
          "usageDescription": ""
         },
         {
          "completionTime": "2023-08-04T03:07:41.113GMT",
          "dataRead": 0,
          "dataWritten": 225,
          "description": "Job group for statement 16:\nclassifier = (\n    LightGBMClassifier()\n    .setFeaturesCol(\"features\")  # Set the column name for features\n    .setNumLeaves(10)  # Set the number of leaves in each decision tree\n    .setNumIterations(100)  # Set the number of boosting iterations\n    .setObjective(\"binary\")  # Set the objective function for binary classification\n    .setLabelCol(LABEL_COLUMN)  # Set the column name for the label\n)\n\n# Start a new MLflow run with the name \"uplift\"\nactive_run = mlflow.start_run(run_name=\"uplift\")\n\n# Start a new nested MLflow run with the name \"treatment\"\nwith mlflow.start_run(run_name=\"treatment\", nested=True) as treatment_run:\n    treatment_run_id = treatment_run.info.run_id  # Get the ID of the treatment run\n    treatment_model = classifier.fit(treatment_train_df)  # Fit the classifier on the treatment training data\n\n# Start a new nested MLflow run with the name \"control\"\nwith mlflow.start_run(run_name=\"control\", nested=True) as control_run:\n    control_run_id = control_run.info.run_id  # Get the ID of the co...",
          "displayName": "runJob at SparkHadoopWriter.scala:85",
          "jobGroup": "16",
          "jobId": 31,
          "killedTasksSummary": {},
          "name": "runJob at SparkHadoopWriter.scala:85",
          "numActiveStages": 0,
          "numActiveTasks": 0,
          "numCompletedIndices": 1,
          "numCompletedStages": 1,
          "numCompletedTasks": 1,
          "numFailedStages": 0,
          "numFailedTasks": 0,
          "numKilledTasks": 0,
          "numSkippedStages": 0,
          "numSkippedTasks": 0,
          "numTasks": 1,
          "rowCount": 1,
          "stageIds": [
           42
          ],
          "status": "SUCCEEDED",
          "submissionTime": "2023-08-04T03:07:40.776GMT",
          "usageDescription": ""
         },
         {
          "completionTime": "2023-08-04T03:07:40.090GMT",
          "dataRead": 1519089012,
          "dataWritten": 0,
          "description": "Job group for statement 16:\nclassifier = (\n    LightGBMClassifier()\n    .setFeaturesCol(\"features\")  # Set the column name for features\n    .setNumLeaves(10)  # Set the number of leaves in each decision tree\n    .setNumIterations(100)  # Set the number of boosting iterations\n    .setObjective(\"binary\")  # Set the objective function for binary classification\n    .setLabelCol(LABEL_COLUMN)  # Set the column name for the label\n)\n\n# Start a new MLflow run with the name \"uplift\"\nactive_run = mlflow.start_run(run_name=\"uplift\")\n\n# Start a new nested MLflow run with the name \"treatment\"\nwith mlflow.start_run(run_name=\"treatment\", nested=True) as treatment_run:\n    treatment_run_id = treatment_run.info.run_id  # Get the ID of the treatment run\n    treatment_model = classifier.fit(treatment_train_df)  # Fit the classifier on the treatment training data\n\n# Start a new nested MLflow run with the name \"control\"\nwith mlflow.start_run(run_name=\"control\", nested=True) as control_run:\n    control_run_id = control_run.info.run_id  # Get the ID of the co...",
          "displayName": "collect at LightGBMBase.scala:599",
          "jobGroup": "16",
          "jobId": 30,
          "killedTasksSummary": {},
          "name": "collect at LightGBMBase.scala:599",
          "numActiveStages": 0,
          "numActiveTasks": 0,
          "numCompletedIndices": 8,
          "numCompletedStages": 1,
          "numCompletedTasks": 8,
          "numFailedStages": 0,
          "numFailedTasks": 0,
          "numKilledTasks": 0,
          "numSkippedStages": 0,
          "numSkippedTasks": 0,
          "numTasks": 8,
          "rowCount": 6466059,
          "stageIds": [
           41
          ],
          "status": "SUCCEEDED",
          "submissionTime": "2023-08-04T03:07:15.863GMT",
          "usageDescription": ""
         },
         {
          "completionTime": "2023-08-04T03:07:15.815GMT",
          "dataRead": 1342832640,
          "dataWritten": 0,
          "description": "Job group for statement 16:\nclassifier = (\n    LightGBMClassifier()\n    .setFeaturesCol(\"features\")  # Set the column name for features\n    .setNumLeaves(10)  # Set the number of leaves in each decision tree\n    .setNumIterations(100)  # Set the number of boosting iterations\n    .setObjective(\"binary\")  # Set the objective function for binary classification\n    .setLabelCol(LABEL_COLUMN)  # Set the column name for the label\n)\n\n# Start a new MLflow run with the name \"uplift\"\nactive_run = mlflow.start_run(run_name=\"uplift\")\n\n# Start a new nested MLflow run with the name \"treatment\"\nwith mlflow.start_run(run_name=\"treatment\", nested=True) as treatment_run:\n    treatment_run_id = treatment_run.info.run_id  # Get the ID of the treatment run\n    treatment_model = classifier.fit(treatment_train_df)  # Fit the classifier on the treatment training data\n\n# Start a new nested MLflow run with the name \"control\"\nwith mlflow.start_run(run_name=\"control\", nested=True) as control_run:\n    control_run_id = control_run.info.run_id  # Get the ID of the co...",
          "displayName": "first at LightGBMBase.scala:471",
          "jobGroup": "16",
          "jobId": 29,
          "killedTasksSummary": {},
          "name": "first at LightGBMBase.scala:471",
          "numActiveStages": 0,
          "numActiveTasks": 0,
          "numCompletedIndices": 4,
          "numCompletedStages": 1,
          "numCompletedTasks": 4,
          "numFailedStages": 0,
          "numFailedTasks": 0,
          "numKilledTasks": 0,
          "numSkippedStages": 0,
          "numSkippedTasks": 0,
          "numTasks": 4,
          "rowCount": 5778805,
          "stageIds": [
           40
          ],
          "status": "SUCCEEDED",
          "submissionTime": "2023-08-04T03:06:58.359GMT",
          "usageDescription": ""
         },
         {
          "completionTime": "2023-08-04T03:06:58.355GMT",
          "dataRead": 402849792,
          "dataWritten": 0,
          "description": "Job group for statement 16:\nclassifier = (\n    LightGBMClassifier()\n    .setFeaturesCol(\"features\")  # Set the column name for features\n    .setNumLeaves(10)  # Set the number of leaves in each decision tree\n    .setNumIterations(100)  # Set the number of boosting iterations\n    .setObjective(\"binary\")  # Set the objective function for binary classification\n    .setLabelCol(LABEL_COLUMN)  # Set the column name for the label\n)\n\n# Start a new MLflow run with the name \"uplift\"\nactive_run = mlflow.start_run(run_name=\"uplift\")\n\n# Start a new nested MLflow run with the name \"treatment\"\nwith mlflow.start_run(run_name=\"treatment\", nested=True) as treatment_run:\n    treatment_run_id = treatment_run.info.run_id  # Get the ID of the treatment run\n    treatment_model = classifier.fit(treatment_train_df)  # Fit the classifier on the treatment training data\n\n# Start a new nested MLflow run with the name \"control\"\nwith mlflow.start_run(run_name=\"control\", nested=True) as control_run:\n    control_run_id = control_run.info.run_id  # Get the ID of the co...",
          "displayName": "first at LightGBMBase.scala:471",
          "jobGroup": "16",
          "jobId": 28,
          "killedTasksSummary": {},
          "name": "first at LightGBMBase.scala:471",
          "numActiveStages": 0,
          "numActiveTasks": 0,
          "numCompletedIndices": 1,
          "numCompletedStages": 1,
          "numCompletedTasks": 1,
          "numFailedStages": 0,
          "numFailedTasks": 0,
          "numKilledTasks": 0,
          "numSkippedStages": 0,
          "numSkippedTasks": 0,
          "numTasks": 1,
          "rowCount": 1734770,
          "stageIds": [
           39
          ],
          "status": "SUCCEEDED",
          "submissionTime": "2023-08-04T03:06:40.157GMT",
          "usageDescription": ""
         },
         {
          "completionTime": "2023-08-04T03:06:31.116GMT",
          "dataRead": 0,
          "dataWritten": 816,
          "description": "Job group for statement 16:\nclassifier = (\n    LightGBMClassifier()\n    .setFeaturesCol(\"features\")  # Set the column name for features\n    .setNumLeaves(10)  # Set the number of leaves in each decision tree\n    .setNumIterations(100)  # Set the number of boosting iterations\n    .setObjective(\"binary\")  # Set the objective function for binary classification\n    .setLabelCol(LABEL_COLUMN)  # Set the column name for the label\n)\n\n# Start a new MLflow run with the name \"uplift\"\nactive_run = mlflow.start_run(run_name=\"uplift\")\n\n# Start a new nested MLflow run with the name \"treatment\"\nwith mlflow.start_run(run_name=\"treatment\", nested=True) as treatment_run:\n    treatment_run_id = treatment_run.info.run_id  # Get the ID of the treatment run\n    treatment_model = classifier.fit(treatment_train_df)  # Fit the classifier on the treatment training data\n\n# Start a new nested MLflow run with the name \"control\"\nwith mlflow.start_run(run_name=\"control\", nested=True) as control_run:\n    control_run_id = control_run.info.run_id  # Get the ID of the co...",
          "displayName": "runJob at SparkHadoopWriter.scala:85",
          "jobGroup": "16",
          "jobId": 27,
          "killedTasksSummary": {},
          "name": "runJob at SparkHadoopWriter.scala:85",
          "numActiveStages": 0,
          "numActiveTasks": 0,
          "numCompletedIndices": 1,
          "numCompletedStages": 1,
          "numCompletedTasks": 1,
          "numFailedStages": 0,
          "numFailedTasks": 0,
          "numKilledTasks": 0,
          "numSkippedStages": 0,
          "numSkippedTasks": 0,
          "numTasks": 1,
          "rowCount": 1,
          "stageIds": [
           38
          ],
          "status": "SUCCEEDED",
          "submissionTime": "2023-08-04T03:06:30.766GMT",
          "usageDescription": ""
         },
         {
          "completionTime": "2023-08-04T03:06:30.399GMT",
          "dataRead": 0,
          "dataWritten": 225,
          "description": "Job group for statement 16:\nclassifier = (\n    LightGBMClassifier()\n    .setFeaturesCol(\"features\")  # Set the column name for features\n    .setNumLeaves(10)  # Set the number of leaves in each decision tree\n    .setNumIterations(100)  # Set the number of boosting iterations\n    .setObjective(\"binary\")  # Set the objective function for binary classification\n    .setLabelCol(LABEL_COLUMN)  # Set the column name for the label\n)\n\n# Start a new MLflow run with the name \"uplift\"\nactive_run = mlflow.start_run(run_name=\"uplift\")\n\n# Start a new nested MLflow run with the name \"treatment\"\nwith mlflow.start_run(run_name=\"treatment\", nested=True) as treatment_run:\n    treatment_run_id = treatment_run.info.run_id  # Get the ID of the treatment run\n    treatment_model = classifier.fit(treatment_train_df)  # Fit the classifier on the treatment training data\n\n# Start a new nested MLflow run with the name \"control\"\nwith mlflow.start_run(run_name=\"control\", nested=True) as control_run:\n    control_run_id = control_run.info.run_id  # Get the ID of the co...",
          "displayName": "runJob at SparkHadoopWriter.scala:85",
          "jobGroup": "16",
          "jobId": 26,
          "killedTasksSummary": {},
          "name": "runJob at SparkHadoopWriter.scala:85",
          "numActiveStages": 0,
          "numActiveTasks": 0,
          "numCompletedIndices": 1,
          "numCompletedStages": 1,
          "numCompletedTasks": 1,
          "numFailedStages": 0,
          "numFailedTasks": 0,
          "numKilledTasks": 0,
          "numSkippedStages": 0,
          "numSkippedTasks": 0,
          "numTasks": 1,
          "rowCount": 1,
          "stageIds": [
           37
          ],
          "status": "SUCCEEDED",
          "submissionTime": "2023-08-04T03:06:12.892GMT",
          "usageDescription": ""
         },
         {
          "completionTime": "2023-08-04T03:06:12.029GMT",
          "dataRead": 1320160872,
          "dataWritten": 0,
          "description": "Job group for statement 16:\nclassifier = (\n    LightGBMClassifier()\n    .setFeaturesCol(\"features\")  # Set the column name for features\n    .setNumLeaves(10)  # Set the number of leaves in each decision tree\n    .setNumIterations(100)  # Set the number of boosting iterations\n    .setObjective(\"binary\")  # Set the objective function for binary classification\n    .setLabelCol(LABEL_COLUMN)  # Set the column name for the label\n)\n\n# Start a new MLflow run with the name \"uplift\"\nactive_run = mlflow.start_run(run_name=\"uplift\")\n\n# Start a new nested MLflow run with the name \"treatment\"\nwith mlflow.start_run(run_name=\"treatment\", nested=True) as treatment_run:\n    treatment_run_id = treatment_run.info.run_id  # Get the ID of the treatment run\n    treatment_model = classifier.fit(treatment_train_df)  # Fit the classifier on the treatment training data\n\n# Start a new nested MLflow run with the name \"control\"\nwith mlflow.start_run(run_name=\"control\", nested=True) as control_run:\n    control_run_id = control_run.info.run_id  # Get the ID of the co...",
          "displayName": "collect at LightGBMBase.scala:599",
          "jobGroup": "16",
          "jobId": 25,
          "killedTasksSummary": {},
          "name": "collect at LightGBMBase.scala:599",
          "numActiveStages": 0,
          "numActiveTasks": 0,
          "numCompletedIndices": 8,
          "numCompletedStages": 1,
          "numCompletedTasks": 8,
          "numFailedStages": 0,
          "numFailedTasks": 0,
          "numKilledTasks": 0,
          "numSkippedStages": 0,
          "numSkippedTasks": 0,
          "numTasks": 8,
          "rowCount": 1393,
          "stageIds": [
           36
          ],
          "status": "SUCCEEDED",
          "submissionTime": "2023-08-04T03:05:26.218GMT",
          "usageDescription": ""
         },
         {
          "completionTime": "2023-08-04T03:05:26.098GMT",
          "dataRead": 56187832,
          "dataWritten": 0,
          "description": "Job group for statement 16:\nclassifier = (\n    LightGBMClassifier()\n    .setFeaturesCol(\"features\")  # Set the column name for features\n    .setNumLeaves(10)  # Set the number of leaves in each decision tree\n    .setNumIterations(100)  # Set the number of boosting iterations\n    .setObjective(\"binary\")  # Set the objective function for binary classification\n    .setLabelCol(LABEL_COLUMN)  # Set the column name for the label\n)\n\n# Start a new MLflow run with the name \"uplift\"\nactive_run = mlflow.start_run(run_name=\"uplift\")\n\n# Start a new nested MLflow run with the name \"treatment\"\nwith mlflow.start_run(run_name=\"treatment\", nested=True) as treatment_run:\n    treatment_run_id = treatment_run.info.run_id  # Get the ID of the treatment run\n    treatment_model = classifier.fit(treatment_train_df)  # Fit the classifier on the treatment training data\n\n# Start a new nested MLflow run with the name \"control\"\nwith mlflow.start_run(run_name=\"control\", nested=True) as control_run:\n    control_run_id = control_run.info.run_id  # Get the ID of the co...",
          "displayName": "first at LightGBMBase.scala:471",
          "jobGroup": "16",
          "jobId": 24,
          "killedTasksSummary": {},
          "name": "first at LightGBMBase.scala:471",
          "numActiveStages": 0,
          "numActiveTasks": 0,
          "numCompletedIndices": 1,
          "numCompletedStages": 1,
          "numCompletedTasks": 1,
          "numFailedStages": 0,
          "numFailedTasks": 0,
          "numKilledTasks": 0,
          "numSkippedStages": 0,
          "numSkippedTasks": 0,
          "numTasks": 1,
          "rowCount": 58,
          "stageIds": [
           35
          ],
          "status": "SUCCEEDED",
          "submissionTime": "2023-08-04T03:05:23.811GMT",
          "usageDescription": ""
         }
        ],
        "limit": 20,
        "numbers": {
         "FAILED": 0,
         "RUNNING": 0,
         "SUCCEEDED": 9,
         "UNKNOWN": 0
        },
        "rule": "ALL_DESC"
       },
       "spark_pool": null,
       "state": "finished",
       "statement_id": 16
      },
      "text/plain": [
       "StatementMeta(, d1896701-7cf5-4a6d-86ac-123d32475b40, 16, Finished, Available)"
      ]
     },
     "metadata": {},
     "output_type": "display_data"
    },
    {
     "name": "stderr",
     "output_type": "stream",
     "text": [
      "2023/08/04 03:06:12 WARNING mlflow.pyspark.ml: Model inputs contain unsupported Spark data types: [StructField('features', VectorUDT(), True)]. Model signature is not logged.\n",
      "2023/08/04 03:06:36 WARNING mlflow.utils.environment: Encountered an unexpected error while inferring pip requirements (model URI: /tmp/tmpg3v6y9lb/model, flavor: spark), fall back to return ['pyspark==3.3.1']. Set logging level to DEBUG to see the full traceback.\n",
      "2023/08/04 03:06:36 WARNING mlflow.utils.autologging_utils: MLflow autologging encountered a warning: \"/home/trusted-service-user/cluster-env/trident_env/lib/python3.10/site-packages/_distutils_hack/__init__.py:33: UserWarning: Setuptools is replacing distutils.\"\n",
      "2023/08/04 03:07:44 WARNING mlflow.utils.environment: Encountered an unexpected error while inferring pip requirements (model URI: /tmp/tmpai91ab6e/model, flavor: spark), fall back to return ['pyspark==3.3.1']. Set logging level to DEBUG to see the full traceback.\n"
     ]
    }
   ],
   "source": [
    "classifier = (\n",
    "    LightGBMClassifier()\n",
    "    .setFeaturesCol(\"features\")  # Set the column name for features\n",
    "    .setNumLeaves(10)  # Set the number of leaves in each decision tree\n",
    "    .setNumIterations(100)  # Set the number of boosting iterations\n",
    "    .setObjective(\"binary\")  # Set the objective function for binary classification\n",
    "    .setLabelCol(LABEL_COLUMN)  # Set the column name for the label\n",
    ")\n",
    "\n",
    "# Start a new MLflow run with the name \"uplift\"\n",
    "active_run = mlflow.start_run(run_name=\"uplift\")\n",
    "\n",
    "# Start a new nested MLflow run with the name \"treatment\"\n",
    "with mlflow.start_run(run_name=\"treatment\", nested=True) as treatment_run:\n",
    "    treatment_run_id = treatment_run.info.run_id  # Get the ID of the treatment run\n",
    "    treatment_model = classifier.fit(treatment_train_df)  # Fit the classifier on the treatment training data\n",
    "\n",
    "# Start a new nested MLflow run with the name \"control\"\n",
    "with mlflow.start_run(run_name=\"control\", nested=True) as control_run:\n",
    "    control_run_id = control_run.info.run_id  # Get the ID of the control run\n",
    "    control_model = classifier.fit(control_train_df)  # Fit the classifier on the control training data\n",
    "\n"
   ]
  },
  {
   "cell_type": "markdown",
   "id": "41aeeb3b-05ed-47c8-bd27-16717c8fc9b4",
   "metadata": {
    "nteract": {
     "transient": {
      "deleting": false
     }
    }
   },
   "source": [
    "#### Predict using the test dataset\n",
    "\n",
    "We transform the test dataset `test_df` using the `treatment_model` and `control_model` defined above, and calculate the predicted uplift. Note that the predicted uplift is the difference between the predicted treatment outcome and the predicted control outcome, and the larger the predicted uplift difference, the more effective the treatment (i.e., advertising) has been on an individual or a sub-group.\n"
   ]
  },
  {
   "cell_type": "code",
   "execution_count": null,
   "id": "37ee9071-8119-4ca0-b213-78f6b47e12a9",
   "metadata": {
    "jupyter": {
     "outputs_hidden": false,
     "source_hidden": false
    },
    "nteract": {
     "transient": {
      "deleting": false
     }
    }
   },
   "outputs": [
    {
     "data": {
      "application/vnd.livy.statement-meta+json": {
       "execution_finish_time": "2023-08-04T03:08:26.4183715Z",
       "execution_start_time": "2023-08-04T03:07:48.0622421Z",
       "livy_statement_state": "available",
       "parent_msg_id": "13173708-2fa9-406f-9d91-d07b04bcec91",
       "queued_time": "2023-08-04T03:03:10.9863354Z",
       "session_id": "d1896701-7cf5-4a6d-86ac-123d32475b40",
       "session_start_time": null,
       "spark_jobs": {
        "jobs": [
         {
          "completionTime": "2023-08-04T03:08:25.939GMT",
          "dataRead": 0,
          "dataWritten": 0,
          "description": "Job group for statement 17:\ngetPred = F.udf(lambda v: float(v[1]), FloatType())\n\n# The resulting DataFrame is cached for easier access\ntest_pred_df = (\n    test_df.mlTransform(treatment_model)\n    .withColumn(\"treatment_pred\", getPred(\"probability\"))\n    .drop(\"rawPrediction\", \"probability\", \"prediction\")\n    .mlTransform(control_model)\n    .withColumn(\"control_pred\", getPred(\"probability\"))\n    .drop(\"rawPrediction\", \"probability\", \"prediction\")\n    .withColumn(\"pred_uplift\", F.col(\"treatment_pred\") - F.col(\"control_pred\"))\n    .select(TREATMENT_COLUMN, LABEL_COLUMN, \"treatment_pred\", \"control_pred\", \"pred_uplift\")\n    .cache()\n)\n\n# Display the first 20 rows of the resulting DataFrame\ndisplay(test_pred_df.limit(20))",
          "displayName": "getRowsInJsonString at Display.scala:452",
          "jobGroup": "17",
          "jobId": 34,
          "killedTasksSummary": {},
          "name": "getRowsInJsonString at Display.scala:452",
          "numActiveStages": 0,
          "numActiveTasks": 0,
          "numCompletedIndices": 1,
          "numCompletedStages": 1,
          "numCompletedTasks": 1,
          "numFailedStages": 0,
          "numFailedTasks": 0,
          "numKilledTasks": 0,
          "numSkippedStages": 1,
          "numSkippedTasks": 25,
          "numTasks": 26,
          "rowCount": 0,
          "stageIds": [
           45,
           46
          ],
          "status": "SUCCEEDED",
          "submissionTime": "2023-08-04T03:08:25.731GMT",
          "usageDescription": ""
         },
         {
          "completionTime": "2023-08-04T03:08:25.629GMT",
          "dataRead": 1361805488,
          "dataWritten": 4994,
          "description": "Job group for statement 17:\ngetPred = F.udf(lambda v: float(v[1]), FloatType())\n\n# The resulting DataFrame is cached for easier access\ntest_pred_df = (\n    test_df.mlTransform(treatment_model)\n    .withColumn(\"treatment_pred\", getPred(\"probability\"))\n    .drop(\"rawPrediction\", \"probability\", \"prediction\")\n    .mlTransform(control_model)\n    .withColumn(\"control_pred\", getPred(\"probability\"))\n    .drop(\"rawPrediction\", \"probability\", \"prediction\")\n    .withColumn(\"pred_uplift\", F.col(\"treatment_pred\") - F.col(\"control_pred\"))\n    .select(TREATMENT_COLUMN, LABEL_COLUMN, \"treatment_pred\", \"control_pred\", \"pred_uplift\")\n    .cache()\n)\n\n# Display the first 20 rows of the resulting DataFrame\ndisplay(test_pred_df.limit(20))",
          "displayName": "getRowsInJsonString at Display.scala:452",
          "jobGroup": "17",
          "jobId": 33,
          "killedTasksSummary": {},
          "name": "getRowsInJsonString at Display.scala:452",
          "numActiveStages": 0,
          "numActiveTasks": 0,
          "numCompletedIndices": 25,
          "numCompletedStages": 1,
          "numCompletedTasks": 25,
          "numFailedStages": 0,
          "numFailedTasks": 0,
          "numKilledTasks": 0,
          "numSkippedStages": 0,
          "numSkippedTasks": 0,
          "numTasks": 25,
          "rowCount": 1904,
          "stageIds": [
           44
          ],
          "status": "SUCCEEDED",
          "submissionTime": "2023-08-04T03:07:48.415GMT",
          "usageDescription": ""
         }
        ],
        "limit": 20,
        "numbers": {
         "FAILED": 0,
         "RUNNING": 0,
         "SUCCEEDED": 2,
         "UNKNOWN": 0
        },
        "rule": "ALL_DESC"
       },
       "spark_pool": null,
       "state": "finished",
       "statement_id": 17
      },
      "text/plain": [
       "StatementMeta(, d1896701-7cf5-4a6d-86ac-123d32475b40, 17, Finished, Available)"
      ]
     },
     "metadata": {},
     "output_type": "display_data"
    },
    {
     "data": {
      "application/vnd.synapse.widget-view+json": {
       "widget_id": "f0583bc6-dd96-407e-81e5-e5531a923672",
       "widget_type": "Synapse.DataFrame"
      },
      "text/plain": [
       "SynapseWidget(Synapse.DataFrame, f0583bc6-dd96-407e-81e5-e5531a923672)"
      ]
     },
     "metadata": {},
     "output_type": "display_data"
    }
   ],
   "source": [
    "getPred = F.udf(lambda v: float(v[1]), FloatType())\n",
    "\n",
    "# The resulting DataFrame is cached for easier access\n",
    "test_pred_df = (\n",
    "    test_df.mlTransform(treatment_model)\n",
    "    .withColumn(\"treatment_pred\", getPred(\"probability\"))\n",
    "    .drop(\"rawPrediction\", \"probability\", \"prediction\")\n",
    "    .mlTransform(control_model)\n",
    "    .withColumn(\"control_pred\", getPred(\"probability\"))\n",
    "    .drop(\"rawPrediction\", \"probability\", \"prediction\")\n",
    "    .withColumn(\"pred_uplift\", F.col(\"treatment_pred\") - F.col(\"control_pred\"))\n",
    "    .select(TREATMENT_COLUMN, LABEL_COLUMN, \"treatment_pred\", \"control_pred\", \"pred_uplift\")\n",
    "    .cache()\n",
    ")\n",
    "\n",
    "# Display the first 20 rows of the resulting DataFrame\n",
    "display(test_pred_df.limit(20))"
   ]
  },
  {
   "cell_type": "markdown",
   "id": "6f783613-8e24-4cda-b6d9-3a06aad7b650",
   "metadata": {
    "nteract": {
     "transient": {
      "deleting": false
     }
    }
   },
   "source": [
    "#### Perform Model Evaluation\n",
    "\n",
    "Since actual uplift cannot be observed for each individual, we measure the uplift over a group of individuals. We will use an Uplift Curve that plots the real cumulative uplift across the population.\n",
    "\n",
    "![criteo_uplift_curve.jpeg](https://mmlspark.blob.core.windows.net/graphics/notebooks/criteo_uplift_curve.jpeg)\n",
    "\n",
    "The x-axis represents the ratio of population that have been selected for the treatment, with 0 and 1 suggesting no treatment group (no one is offered or exposed to the treatment) and full treatment group (everyone is offered or exposed to the treatment), respectively. The y-axis shows the uplift measure. The objective is to determine the size of the treatment group (the percentage of the population that would be offered or exposed to the treatment (i.e., advertising)) in order to optimize the target selection to maximize its impact.\n",
    "\n",
    "There are several steps involved in creating the plot that will be explained below. \n",
    "\n",
    "First, we rank the test DataFrame order by the predict uplift which is the difference between the predicted treatment outcome and the predicted control outcome."
   ]
  },
  {
   "cell_type": "code",
   "execution_count": null,
   "id": "78061a75-5f32-422b-9555-314d4a638306",
   "metadata": {
    "jupyter": {
     "outputs_hidden": false,
     "source_hidden": false
    },
    "nteract": {
     "transient": {
      "deleting": false
     }
    }
   },
   "outputs": [
    {
     "data": {
      "application/vnd.livy.statement-meta+json": {
       "execution_finish_time": "2023-08-04T03:08:29.460951Z",
       "execution_start_time": "2023-08-04T03:08:26.9000325Z",
       "livy_statement_state": "available",
       "parent_msg_id": "5332a9dc-b42b-479f-bf10-0c1509eb7ace",
       "queued_time": "2023-08-04T03:03:10.9892223Z",
       "session_id": "d1896701-7cf5-4a6d-86ac-123d32475b40",
       "session_start_time": null,
       "spark_jobs": {
        "jobs": [
         {
          "completionTime": "2023-08-04T03:08:28.576GMT",
          "dataRead": 24436102,
          "dataWritten": 0,
          "description": "Job group for statement 18:\n# Compute the percentage rank of the predicted uplift values in descending order and display the top 20 rows\ntest_ranked_df = test_pred_df.withColumn(\"percent_rank\", F.percent_rank().over(Window.orderBy(F.desc(\"pred_uplift\"))))\n\ndisplay(test_ranked_df.limit(20))",
          "displayName": "getRowsInJsonString at Display.scala:452",
          "jobGroup": "18",
          "jobId": 36,
          "killedTasksSummary": {},
          "name": "getRowsInJsonString at Display.scala:452",
          "numActiveStages": 0,
          "numActiveTasks": 0,
          "numCompletedIndices": 1,
          "numCompletedStages": 1,
          "numCompletedTasks": 1,
          "numFailedStages": 0,
          "numFailedTasks": 0,
          "numKilledTasks": 0,
          "numSkippedStages": 1,
          "numSkippedTasks": 25,
          "numTasks": 26,
          "rowCount": 2796627,
          "stageIds": [
           48,
           49
          ],
          "status": "SUCCEEDED",
          "submissionTime": "2023-08-04T03:08:27.314GMT",
          "usageDescription": ""
         },
         {
          "completionTime": "2023-08-04T03:08:27.253GMT",
          "dataRead": 35972800,
          "dataWritten": 24436102,
          "description": "Job group for statement 18:\n# Compute the percentage rank of the predicted uplift values in descending order and display the top 20 rows\ntest_ranked_df = test_pred_df.withColumn(\"percent_rank\", F.percent_rank().over(Window.orderBy(F.desc(\"pred_uplift\"))))\n\ndisplay(test_ranked_df.limit(20))",
          "displayName": "getRowsInJsonString at Display.scala:452",
          "jobGroup": "18",
          "jobId": 35,
          "killedTasksSummary": {},
          "name": "getRowsInJsonString at Display.scala:452",
          "numActiveStages": 0,
          "numActiveTasks": 0,
          "numCompletedIndices": 25,
          "numCompletedStages": 1,
          "numCompletedTasks": 25,
          "numFailedStages": 0,
          "numFailedTasks": 0,
          "numKilledTasks": 0,
          "numSkippedStages": 0,
          "numSkippedTasks": 0,
          "numTasks": 25,
          "rowCount": 2796918,
          "stageIds": [
           47
          ],
          "status": "SUCCEEDED",
          "submissionTime": "2023-08-04T03:08:26.959GMT",
          "usageDescription": ""
         }
        ],
        "limit": 20,
        "numbers": {
         "FAILED": 0,
         "RUNNING": 0,
         "SUCCEEDED": 2,
         "UNKNOWN": 0
        },
        "rule": "ALL_DESC"
       },
       "spark_pool": null,
       "state": "finished",
       "statement_id": 18
      },
      "text/plain": [
       "StatementMeta(, d1896701-7cf5-4a6d-86ac-123d32475b40, 18, Finished, Available)"
      ]
     },
     "metadata": {},
     "output_type": "display_data"
    },
    {
     "data": {
      "application/vnd.synapse.widget-view+json": {
       "widget_id": "9897f0a5-644d-4cef-9fdb-7a6ad1625ee7",
       "widget_type": "Synapse.DataFrame"
      },
      "text/plain": [
       "SynapseWidget(Synapse.DataFrame, 9897f0a5-644d-4cef-9fdb-7a6ad1625ee7)"
      ]
     },
     "metadata": {},
     "output_type": "display_data"
    }
   ],
   "source": [
    "# Compute the percentage rank of the predicted uplift values in descending order and display the top 20 rows\n",
    "test_ranked_df = test_pred_df.withColumn(\"percent_rank\", F.percent_rank().over(Window.orderBy(F.desc(\"pred_uplift\"))))\n",
    "\n",
    "display(test_ranked_df.limit(20))"
   ]
  },
  {
   "cell_type": "markdown",
   "id": "1ba35815-5909-4feb-bb9f-25fc03c44a62",
   "metadata": {},
   "source": [
    "Second, we calculate the cumulative percentage of visits in each of the treatment and control groups."
   ]
  },
  {
   "cell_type": "code",
   "execution_count": null,
   "id": "40f3209a-647b-4047-a204-22971b41d7f5",
   "metadata": {},
   "outputs": [
    {
     "data": {
      "application/vnd.livy.statement-meta+json": {
       "execution_finish_time": "2023-08-04T03:08:33.484981Z",
       "execution_start_time": "2023-08-04T03:08:29.8476616Z",
       "livy_statement_state": "available",
       "parent_msg_id": "cfad1bd3-d620-4da0-8cc2-12f3d877f69b",
       "queued_time": "2023-08-04T03:03:10.9901726Z",
       "session_id": "d1896701-7cf5-4a6d-86ac-123d32475b40",
       "session_start_time": null,
       "spark_jobs": {
        "jobs": [
         {
          "completionTime": "2023-08-04T03:08:32.761GMT",
          "dataRead": 24436102,
          "dataWritten": 0,
          "description": "Job group for statement 19:\n# Calculate the number of control and treatment samples\nC = test_ranked_df.where(f\"{TREATMENT_COLUMN} == 0\").count()\nT = test_ranked_df.where(f\"{TREATMENT_COLUMN} != 0\").count()\n\n# Add columns to the DataFrame to calculate the control and treatment cumulative sum\ntest_ranked_df = (\n    test_ranked_df.withColumn(\n        \"control_label\",\n        F.when(F.col(TREATMENT_COLUMN) == 0, F.col(LABEL_COLUMN)).otherwise(0),\n    )\n    .withColumn(\n        \"treatment_label\",\n        F.when(F.col(TREATMENT_COLUMN) != 0, F.col(LABEL_COLUMN)).otherwise(0),\n    )\n    .withColumn(\n        \"control_cumsum\",\n        F.sum(\"control_label\").over(Window.orderBy(\"percent_rank\")) / C,\n    )\n    .withColumn(\n        \"treatment_cumsum\",\n        F.sum(\"treatment_label\").over(Window.orderBy(\"percent_rank\")) / T,\n    )\n)\n\n# Display the first 20 rows of the dataframe\ndisplay(test_ranked_df.limit(20))",
          "displayName": "getRowsInJsonString at Display.scala:452",
          "jobGroup": "19",
          "jobId": 42,
          "killedTasksSummary": {},
          "name": "getRowsInJsonString at Display.scala:452",
          "numActiveStages": 0,
          "numActiveTasks": 0,
          "numCompletedIndices": 1,
          "numCompletedStages": 1,
          "numCompletedTasks": 1,
          "numFailedStages": 0,
          "numFailedTasks": 0,
          "numKilledTasks": 0,
          "numSkippedStages": 1,
          "numSkippedTasks": 25,
          "numTasks": 26,
          "rowCount": 2796627,
          "stageIds": [
           57,
           58
          ],
          "status": "SUCCEEDED",
          "submissionTime": "2023-08-04T03:08:30.832GMT",
          "usageDescription": ""
         },
         {
          "completionTime": "2023-08-04T03:08:30.770GMT",
          "dataRead": 35972800,
          "dataWritten": 24436102,
          "description": "Job group for statement 19:\n# Calculate the number of control and treatment samples\nC = test_ranked_df.where(f\"{TREATMENT_COLUMN} == 0\").count()\nT = test_ranked_df.where(f\"{TREATMENT_COLUMN} != 0\").count()\n\n# Add columns to the DataFrame to calculate the control and treatment cumulative sum\ntest_ranked_df = (\n    test_ranked_df.withColumn(\n        \"control_label\",\n        F.when(F.col(TREATMENT_COLUMN) == 0, F.col(LABEL_COLUMN)).otherwise(0),\n    )\n    .withColumn(\n        \"treatment_label\",\n        F.when(F.col(TREATMENT_COLUMN) != 0, F.col(LABEL_COLUMN)).otherwise(0),\n    )\n    .withColumn(\n        \"control_cumsum\",\n        F.sum(\"control_label\").over(Window.orderBy(\"percent_rank\")) / C,\n    )\n    .withColumn(\n        \"treatment_cumsum\",\n        F.sum(\"treatment_label\").over(Window.orderBy(\"percent_rank\")) / T,\n    )\n)\n\n# Display the first 20 rows of the dataframe\ndisplay(test_ranked_df.limit(20))",
          "displayName": "getRowsInJsonString at Display.scala:452",
          "jobGroup": "19",
          "jobId": 41,
          "killedTasksSummary": {},
          "name": "getRowsInJsonString at Display.scala:452",
          "numActiveStages": 0,
          "numActiveTasks": 0,
          "numCompletedIndices": 25,
          "numCompletedStages": 1,
          "numCompletedTasks": 25,
          "numFailedStages": 0,
          "numFailedTasks": 0,
          "numKilledTasks": 0,
          "numSkippedStages": 0,
          "numSkippedTasks": 0,
          "numTasks": 25,
          "rowCount": 2796918,
          "stageIds": [
           56
          ],
          "status": "SUCCEEDED",
          "submissionTime": "2023-08-04T03:08:30.604GMT",
          "usageDescription": ""
         },
         {
          "completionTime": "2023-08-04T03:08:30.449GMT",
          "dataRead": 1472,
          "dataWritten": 0,
          "description": "Job group for statement 19:\n# Calculate the number of control and treatment samples\nC = test_ranked_df.where(f\"{TREATMENT_COLUMN} == 0\").count()\nT = test_ranked_df.where(f\"{TREATMENT_COLUMN} != 0\").count()\n\n# Add columns to the DataFrame to calculate the control and treatment cumulative sum\ntest_ranked_df = (\n    test_ranked_df.withColumn(\n        \"control_label\",\n        F.when(F.col(TREATMENT_COLUMN) == 0, F.col(LABEL_COLUMN)).otherwise(0),\n    )\n    .withColumn(\n        \"treatment_label\",\n        F.when(F.col(TREATMENT_COLUMN) != 0, F.col(LABEL_COLUMN)).otherwise(0),\n    )\n    .withColumn(\n        \"control_cumsum\",\n        F.sum(\"control_label\").over(Window.orderBy(\"percent_rank\")) / C,\n    )\n    .withColumn(\n        \"treatment_cumsum\",\n        F.sum(\"treatment_label\").over(Window.orderBy(\"percent_rank\")) / T,\n    )\n)\n\n# Display the first 20 rows of the dataframe\ndisplay(test_ranked_df.limit(20))",
          "displayName": "count at NativeMethodAccessorImpl.java:0",
          "jobGroup": "19",
          "jobId": 40,
          "killedTasksSummary": {},
          "name": "count at NativeMethodAccessorImpl.java:0",
          "numActiveStages": 0,
          "numActiveTasks": 0,
          "numCompletedIndices": 1,
          "numCompletedStages": 1,
          "numCompletedTasks": 1,
          "numFailedStages": 0,
          "numFailedTasks": 0,
          "numKilledTasks": 0,
          "numSkippedStages": 1,
          "numSkippedTasks": 25,
          "numTasks": 26,
          "rowCount": 25,
          "stageIds": [
           54,
           55
          ],
          "status": "SUCCEEDED",
          "submissionTime": "2023-08-04T03:08:30.431GMT",
          "usageDescription": ""
         },
         {
          "completionTime": "2023-08-04T03:08:30.415GMT",
          "dataRead": 35972800,
          "dataWritten": 1472,
          "description": "Job group for statement 19:\n# Calculate the number of control and treatment samples\nC = test_ranked_df.where(f\"{TREATMENT_COLUMN} == 0\").count()\nT = test_ranked_df.where(f\"{TREATMENT_COLUMN} != 0\").count()\n\n# Add columns to the DataFrame to calculate the control and treatment cumulative sum\ntest_ranked_df = (\n    test_ranked_df.withColumn(\n        \"control_label\",\n        F.when(F.col(TREATMENT_COLUMN) == 0, F.col(LABEL_COLUMN)).otherwise(0),\n    )\n    .withColumn(\n        \"treatment_label\",\n        F.when(F.col(TREATMENT_COLUMN) != 0, F.col(LABEL_COLUMN)).otherwise(0),\n    )\n    .withColumn(\n        \"control_cumsum\",\n        F.sum(\"control_label\").over(Window.orderBy(\"percent_rank\")) / C,\n    )\n    .withColumn(\n        \"treatment_cumsum\",\n        F.sum(\"treatment_label\").over(Window.orderBy(\"percent_rank\")) / T,\n    )\n)\n\n# Display the first 20 rows of the dataframe\ndisplay(test_ranked_df.limit(20))",
          "displayName": "count at NativeMethodAccessorImpl.java:0",
          "jobGroup": "19",
          "jobId": 39,
          "killedTasksSummary": {},
          "name": "count at NativeMethodAccessorImpl.java:0",
          "numActiveStages": 0,
          "numActiveTasks": 0,
          "numCompletedIndices": 25,
          "numCompletedStages": 1,
          "numCompletedTasks": 25,
          "numFailedStages": 0,
          "numFailedTasks": 0,
          "numKilledTasks": 0,
          "numSkippedStages": 0,
          "numSkippedTasks": 0,
          "numTasks": 25,
          "rowCount": 316,
          "stageIds": [
           53
          ],
          "status": "SUCCEEDED",
          "submissionTime": "2023-08-04T03:08:30.182GMT",
          "usageDescription": ""
         },
         {
          "completionTime": "2023-08-04T03:08:30.129GMT",
          "dataRead": 1424,
          "dataWritten": 0,
          "description": "Job group for statement 19:\n# Calculate the number of control and treatment samples\nC = test_ranked_df.where(f\"{TREATMENT_COLUMN} == 0\").count()\nT = test_ranked_df.where(f\"{TREATMENT_COLUMN} != 0\").count()\n\n# Add columns to the DataFrame to calculate the control and treatment cumulative sum\ntest_ranked_df = (\n    test_ranked_df.withColumn(\n        \"control_label\",\n        F.when(F.col(TREATMENT_COLUMN) == 0, F.col(LABEL_COLUMN)).otherwise(0),\n    )\n    .withColumn(\n        \"treatment_label\",\n        F.when(F.col(TREATMENT_COLUMN) != 0, F.col(LABEL_COLUMN)).otherwise(0),\n    )\n    .withColumn(\n        \"control_cumsum\",\n        F.sum(\"control_label\").over(Window.orderBy(\"percent_rank\")) / C,\n    )\n    .withColumn(\n        \"treatment_cumsum\",\n        F.sum(\"treatment_label\").over(Window.orderBy(\"percent_rank\")) / T,\n    )\n)\n\n# Display the first 20 rows of the dataframe\ndisplay(test_ranked_df.limit(20))",
          "displayName": "count at NativeMethodAccessorImpl.java:0",
          "jobGroup": "19",
          "jobId": 38,
          "killedTasksSummary": {},
          "name": "count at NativeMethodAccessorImpl.java:0",
          "numActiveStages": 0,
          "numActiveTasks": 0,
          "numCompletedIndices": 1,
          "numCompletedStages": 1,
          "numCompletedTasks": 1,
          "numFailedStages": 0,
          "numFailedTasks": 0,
          "numKilledTasks": 0,
          "numSkippedStages": 1,
          "numSkippedTasks": 25,
          "numTasks": 26,
          "rowCount": 25,
          "stageIds": [
           51,
           52
          ],
          "status": "SUCCEEDED",
          "submissionTime": "2023-08-04T03:08:30.101GMT",
          "usageDescription": ""
         },
         {
          "completionTime": "2023-08-04T03:08:30.088GMT",
          "dataRead": 35972800,
          "dataWritten": 1424,
          "description": "Job group for statement 19:\n# Calculate the number of control and treatment samples\nC = test_ranked_df.where(f\"{TREATMENT_COLUMN} == 0\").count()\nT = test_ranked_df.where(f\"{TREATMENT_COLUMN} != 0\").count()\n\n# Add columns to the DataFrame to calculate the control and treatment cumulative sum\ntest_ranked_df = (\n    test_ranked_df.withColumn(\n        \"control_label\",\n        F.when(F.col(TREATMENT_COLUMN) == 0, F.col(LABEL_COLUMN)).otherwise(0),\n    )\n    .withColumn(\n        \"treatment_label\",\n        F.when(F.col(TREATMENT_COLUMN) != 0, F.col(LABEL_COLUMN)).otherwise(0),\n    )\n    .withColumn(\n        \"control_cumsum\",\n        F.sum(\"control_label\").over(Window.orderBy(\"percent_rank\")) / C,\n    )\n    .withColumn(\n        \"treatment_cumsum\",\n        F.sum(\"treatment_label\").over(Window.orderBy(\"percent_rank\")) / T,\n    )\n)\n\n# Display the first 20 rows of the dataframe\ndisplay(test_ranked_df.limit(20))",
          "displayName": "count at NativeMethodAccessorImpl.java:0",
          "jobGroup": "19",
          "jobId": 37,
          "killedTasksSummary": {},
          "name": "count at NativeMethodAccessorImpl.java:0",
          "numActiveStages": 0,
          "numActiveTasks": 0,
          "numCompletedIndices": 25,
          "numCompletedStages": 1,
          "numCompletedTasks": 25,
          "numFailedStages": 0,
          "numFailedTasks": 0,
          "numKilledTasks": 0,
          "numSkippedStages": 0,
          "numSkippedTasks": 0,
          "numTasks": 25,
          "rowCount": 316,
          "stageIds": [
           50
          ],
          "status": "SUCCEEDED",
          "submissionTime": "2023-08-04T03:08:29.859GMT",
          "usageDescription": ""
         }
        ],
        "limit": 20,
        "numbers": {
         "FAILED": 0,
         "RUNNING": 0,
         "SUCCEEDED": 6,
         "UNKNOWN": 0
        },
        "rule": "ALL_DESC"
       },
       "spark_pool": null,
       "state": "finished",
       "statement_id": 19
      },
      "text/plain": [
       "StatementMeta(, d1896701-7cf5-4a6d-86ac-123d32475b40, 19, Finished, Available)"
      ]
     },
     "metadata": {},
     "output_type": "display_data"
    },
    {
     "data": {
      "application/vnd.synapse.widget-view+json": {
       "widget_id": "04ae56f4-494b-4076-bffe-fd7ddcf8ada0",
       "widget_type": "Synapse.DataFrame"
      },
      "text/plain": [
       "SynapseWidget(Synapse.DataFrame, 04ae56f4-494b-4076-bffe-fd7ddcf8ada0)"
      ]
     },
     "metadata": {},
     "output_type": "display_data"
    }
   ],
   "source": [
    "# Calculate the number of control and treatment samples\n",
    "C = test_ranked_df.where(f\"{TREATMENT_COLUMN} == 0\").count()\n",
    "T = test_ranked_df.where(f\"{TREATMENT_COLUMN} != 0\").count()\n",
    "\n",
    "# Add columns to the DataFrame to calculate the control and treatment cumulative sum\n",
    "test_ranked_df = (\n",
    "    test_ranked_df.withColumn(\n",
    "        \"control_label\",\n",
    "        F.when(F.col(TREATMENT_COLUMN) == 0, F.col(LABEL_COLUMN)).otherwise(0),\n",
    "    )\n",
    "    .withColumn(\n",
    "        \"treatment_label\",\n",
    "        F.when(F.col(TREATMENT_COLUMN) != 0, F.col(LABEL_COLUMN)).otherwise(0),\n",
    "    )\n",
    "    .withColumn(\n",
    "        \"control_cumsum\",\n",
    "        F.sum(\"control_label\").over(Window.orderBy(\"percent_rank\")) / C,\n",
    "    )\n",
    "    .withColumn(\n",
    "        \"treatment_cumsum\",\n",
    "        F.sum(\"treatment_label\").over(Window.orderBy(\"percent_rank\")) / T,\n",
    "    )\n",
    ")\n",
    "\n",
    "# Display the first 20 rows of the dataframe\n",
    "display(test_ranked_df.limit(20))"
   ]
  },
  {
   "cell_type": "markdown",
   "id": "e3564e70-25e8-4aa1-baf6-19bb0fa683e1",
   "metadata": {},
   "source": [
    "Finally, we calculate the group's uplift at each percentage as the difference between cumulative percentage of visits between the treatment and control groups."
   ]
  },
  {
   "cell_type": "code",
   "execution_count": null,
   "id": "b4fa91d5-da05-4269-b42f-05fd8dfbe9b3",
   "metadata": {},
   "outputs": [
    {
     "data": {
      "application/vnd.livy.statement-meta+json": {
       "execution_finish_time": "2023-08-04T03:08:38.6645194Z",
       "execution_start_time": "2023-08-04T03:08:33.8665713Z",
       "livy_statement_state": "available",
       "parent_msg_id": "c4f75150-88f4-4fc4-aa55-6ef6447ca36c",
       "queued_time": "2023-08-04T03:03:10.9908966Z",
       "session_id": "d1896701-7cf5-4a6d-86ac-123d32475b40",
       "session_start_time": null,
       "spark_jobs": {
        "jobs": [
         {
          "completionTime": "2023-08-04T03:08:37.922GMT",
          "dataRead": 60408902,
          "dataWritten": 24436102,
          "description": "Job group for statement 20:\ntest_ranked_df = test_ranked_df.withColumn(\"group_uplift\", F.col(\"treatment_cumsum\") - F.col(\"control_cumsum\")).cache()\ndisplay(test_ranked_df.limit(20))",
          "displayName": "getRowsInJsonString at Display.scala:452",
          "jobGroup": "20",
          "jobId": 43,
          "killedTasksSummary": {},
          "name": "getRowsInJsonString at Display.scala:452",
          "numActiveStages": 0,
          "numActiveTasks": 0,
          "numCompletedIndices": 26,
          "numCompletedStages": 2,
          "numCompletedTasks": 26,
          "numFailedStages": 0,
          "numFailedTasks": 0,
          "numKilledTasks": 0,
          "numSkippedStages": 0,
          "numSkippedTasks": 0,
          "numTasks": 26,
          "rowCount": 5593545,
          "stageIds": [
           60,
           59
          ],
          "status": "SUCCEEDED",
          "submissionTime": "2023-08-04T03:08:33.967GMT",
          "usageDescription": ""
         }
        ],
        "limit": 20,
        "numbers": {
         "FAILED": 0,
         "RUNNING": 0,
         "SUCCEEDED": 1,
         "UNKNOWN": 0
        },
        "rule": "ALL_DESC"
       },
       "spark_pool": null,
       "state": "finished",
       "statement_id": 20
      },
      "text/plain": [
       "StatementMeta(, d1896701-7cf5-4a6d-86ac-123d32475b40, 20, Finished, Available)"
      ]
     },
     "metadata": {},
     "output_type": "display_data"
    },
    {
     "data": {
      "application/vnd.synapse.widget-view+json": {
       "widget_id": "9c45dccf-9e99-40ae-bf45-7d3b0e638a5d",
       "widget_type": "Synapse.DataFrame"
      },
      "text/plain": [
       "SynapseWidget(Synapse.DataFrame, 9c45dccf-9e99-40ae-bf45-7d3b0e638a5d)"
      ]
     },
     "metadata": {},
     "output_type": "display_data"
    }
   ],
   "source": [
    "test_ranked_df = test_ranked_df.withColumn(\"group_uplift\", F.col(\"treatment_cumsum\") - F.col(\"control_cumsum\")).cache()\n",
    "display(test_ranked_df.limit(20))"
   ]
  },
  {
   "cell_type": "markdown",
   "id": "0e9bac10-1ae6-4051-b1ad-97ab170190d3",
   "metadata": {
    "nteract": {
     "transient": {
      "deleting": false
     }
    }
   },
   "source": [
    "We can plot the uplift curve for the test dataset prediction. Note that we need to convert the pyspark DataFrame to pandas DataFrame before plotting."
   ]
  },
  {
   "cell_type": "code",
   "execution_count": null,
   "id": "09c53ccf-b86b-421b-aa67-63f15f767202",
   "metadata": {
    "jupyter": {
     "outputs_hidden": false,
     "source_hidden": false
    },
    "nteract": {
     "transient": {
      "deleting": false
     }
    }
   },
   "outputs": [
    {
     "data": {
      "application/vnd.livy.statement-meta+json": {
       "execution_finish_time": "2023-08-04T03:08:45.3245554Z",
       "execution_start_time": "2023-08-04T03:08:39.0465508Z",
       "livy_statement_state": "available",
       "parent_msg_id": "a6095628-8640-4b3c-9ef4-2b8ca57fac47",
       "queued_time": "2023-08-04T03:03:10.9915651Z",
       "session_id": "d1896701-7cf5-4a6d-86ac-123d32475b40",
       "session_start_time": null,
       "spark_jobs": {
        "jobs": [
         {
          "completionTime": "2023-08-04T03:08:40.305GMT",
          "dataRead": 127725856,
          "dataWritten": 0,
          "description": "Job group for statement 21:\ndef uplift_plot(uplift_df):\n    \"\"\"\n    Plot the uplift curve\n    \"\"\"\n    gain_x = uplift_df.percent_rank\n    gain_y = uplift_df.group_uplift\n    # Plot the data\n    fig = plt.figure(figsize=(10, 6))\n    mpl.rcParams[\"font.size\"] = 8\n\n    ax = plt.plot(gain_x, gain_y, color=\"#2077B4\", label=\"Normalized Uplift Model\")\n\n    plt.plot(\n        [0, gain_x.max()],\n        [0, gain_y.max()],\n        \"--\",\n        color=\"tab:orange\",\n        label=\"Random Treatment\",\n    )\n    plt.legend()\n    plt.xlabel(\"Porportion Targeted\")\n    plt.ylabel(\"Uplift\")\n    plt.grid(b=True, which=\"major\")\n\n    return fig, ax\n\n\ntest_ranked_pd_df = test_ranked_df.select([\"pred_uplift\", \"percent_rank\", \"group_uplift\"]).toPandas()\nfig, ax = uplift_plot(test_ranked_pd_df)\n\nmlflow.log_figure(fig, \"UpliftCurve.png\")\n",
          "displayName": "toPandas at /tmp/ipykernel_9949/3726734023.py:28",
          "jobGroup": "21",
          "jobId": 44,
          "killedTasksSummary": {},
          "name": "toPandas at /tmp/ipykernel_9949/3726734023.py:28",
          "numActiveStages": 0,
          "numActiveTasks": 0,
          "numCompletedIndices": 1,
          "numCompletedStages": 1,
          "numCompletedTasks": 1,
          "numFailedStages": 0,
          "numFailedTasks": 0,
          "numKilledTasks": 0,
          "numSkippedStages": 1,
          "numSkippedTasks": 25,
          "numTasks": 26,
          "rowCount": 280,
          "stageIds": [
           61,
           62
          ],
          "status": "SUCCEEDED",
          "submissionTime": "2023-08-04T03:08:39.141GMT",
          "usageDescription": ""
         }
        ],
        "limit": 20,
        "numbers": {
         "FAILED": 0,
         "RUNNING": 0,
         "SUCCEEDED": 1,
         "UNKNOWN": 0
        },
        "rule": "ALL_DESC"
       },
       "spark_pool": null,
       "state": "finished",
       "statement_id": 21
      },
      "text/plain": [
       "StatementMeta(, d1896701-7cf5-4a6d-86ac-123d32475b40, 21, Finished, Available)"
      ]
     },
     "metadata": {},
     "output_type": "display_data"
    },
    {
     "name": "stderr",
     "output_type": "stream",
     "text": [
      "/tmp/ipykernel_9949/3726734023.py:23: MatplotlibDeprecationWarning: The 'b' parameter of grid() has been renamed 'visible' since Matplotlib 3.5; support for the old name will be dropped two minor releases later.\n",
      "  plt.grid(b=True, which=\"major\")\n"
     ]
    },
    {
     "data": {
      "image/png": "[encoded data removed]",
      "text/plain": [
       "<Figure size 1000x600 with 1 Axes>"
      ]
     },
     "metadata": {},
     "output_type": "display_data"
    }
   ],
   "source": [
    "def uplift_plot(uplift_df):\n",
    "    \"\"\"\n",
    "    Plot the uplift curve\n",
    "    \"\"\"\n",
    "    gain_x = uplift_df.percent_rank\n",
    "    gain_y = uplift_df.group_uplift\n",
    "    # Plot the data\n",
    "    fig = plt.figure(figsize=(10, 6))\n",
    "    mpl.rcParams[\"font.size\"] = 8\n",
    "\n",
    "    ax = plt.plot(gain_x, gain_y, color=\"#2077B4\", label=\"Normalized Uplift Model\")\n",
    "\n",
    "    plt.plot(\n",
    "        [0, gain_x.max()],\n",
    "        [0, gain_y.max()],\n",
    "        \"--\",\n",
    "        color=\"tab:orange\",\n",
    "        label=\"Random Treatment\",\n",
    "    )\n",
    "    plt.legend()\n",
    "    plt.xlabel(\"Porportion Targeted\")\n",
    "    plt.ylabel(\"Uplift\")\n",
    "    plt.grid(b=True, which=\"major\")\n",
    "\n",
    "    return fig, ax\n",
    "\n",
    "\n",
    "test_ranked_pd_df = test_ranked_df.select([\"pred_uplift\", \"percent_rank\", \"group_uplift\"]).toPandas()\n",
    "fig, ax = uplift_plot(test_ranked_pd_df)\n",
    "\n",
    "mlflow.log_figure(fig, \"UpliftCurve.png\")\n"
   ]
  },
  {
   "cell_type": "markdown",
   "id": "a37345c8-bc29-4ccd-a6d6-5d71d26cdc70",
   "metadata": {
    "nteract": {
     "transient": {
      "deleting": false
     }
    }
   },
   "source": [
    "From the above analysis and the uplift curve, we can realize that the top 20% population ranked by the prediction would have a drastic gain if they were given the treatment. This indicates that the top 20% population represents the **persuadables** group. Therefore, we can set the cutoff score for the desired size of treatment group at 20% to identify the target selection customers for optimum impact."
   ]
  },
  {
   "cell_type": "code",
   "execution_count": null,
   "id": "044c8efc-6d02-42c1-914e-407118c34939",
   "metadata": {
    "jupyter": {
     "outputs_hidden": false,
     "source_hidden": false
    },
    "nteract": {
     "transient": {
      "deleting": false
     }
    }
   },
   "outputs": [
    {
     "data": {
      "application/vnd.livy.statement-meta+json": {
       "execution_finish_time": "2023-08-04T03:08:48.1496487Z",
       "execution_start_time": "2023-08-04T03:08:45.7252918Z",
       "livy_statement_state": "available",
       "parent_msg_id": "d11dc1fa-3316-47b0-a616-f2176f2ad2fb",
       "queued_time": "2023-08-04T03:03:10.9922318Z",
       "session_id": "d1896701-7cf5-4a6d-86ac-123d32475b40",
       "session_start_time": null,
       "spark_jobs": {
        "jobs": [],
        "limit": 20,
        "numbers": {
         "FAILED": 0,
         "RUNNING": 0,
         "SUCCEEDED": 0,
         "UNKNOWN": 0
        },
        "rule": "ALL_DESC"
       },
       "spark_pool": null,
       "state": "finished",
       "statement_id": 22
      },
      "text/plain": [
       "StatementMeta(, d1896701-7cf5-4a6d-86ac-123d32475b40, 22, Finished, Available)"
      ]
     },
     "metadata": {},
     "output_type": "display_data"
    },
    {
     "name": "stdout",
     "output_type": "stream",
     "text": [
      "Uplift score higher than 0.0038 are Persuadables.\n"
     ]
    }
   ],
   "source": [
    "cutoff_percentage = 0.2\n",
    "cutoff_score = test_ranked_pd_df.iloc[int(len(test_ranked_pd_df) * cutoff_percentage)][\n",
    "    \"pred_uplift\"\n",
    "]\n",
    "\n",
    "print(\"Uplift score higher than {:.4f} are Persuadables.\".format(cutoff_score))\n",
    "mlflow.log_metrics(\n",
    "    {\"cutoff_score\": cutoff_score, \"cutoff_percentage\": cutoff_percentage}\n",
    ")"
   ]
  },
  {
   "cell_type": "markdown",
   "id": "adcc9678-b7fe-4cd8-b559-76b5606eb1a1",
   "metadata": {
    "nteract": {
     "transient": {
      "deleting": false
     }
    }
   },
   "source": [
    "## Step 4: Register the final ML Model\n",
    "\n",
    "We demonstrate how to generate and log an experiment and save the best trained model for later use in the workspace."
   ]
  },
  {
   "cell_type": "code",
   "execution_count": null,
   "id": "71a0f059-0f53-42e7-a80f-5db480644fb1",
   "metadata": {},
   "outputs": [
    {
     "data": {
      "application/vnd.livy.statement-meta+json": {
       "execution_finish_time": "2023-08-04T03:08:58.8262928Z",
       "execution_start_time": "2023-08-04T03:08:48.5428604Z",
       "livy_statement_state": "available",
       "parent_msg_id": "d7d22a98-8ea5-45aa-84aa-ef3afe8aedf2",
       "queued_time": "2023-08-04T03:03:10.9928967Z",
       "session_id": "d1896701-7cf5-4a6d-86ac-123d32475b40",
       "session_start_time": null,
       "spark_jobs": {
        "jobs": [],
        "limit": 20,
        "numbers": {
         "FAILED": 0,
         "RUNNING": 0,
         "SUCCEEDED": 0,
         "UNKNOWN": 0
        },
        "rule": "ALL_DESC"
       },
       "spark_pool": null,
       "state": "finished",
       "statement_id": 23
      },
      "text/plain": [
       "StatementMeta(, d1896701-7cf5-4a6d-86ac-123d32475b40, 23, Finished, Available)"
      ]
     },
     "metadata": {},
     "output_type": "display_data"
    },
    {
     "name": "stderr",
     "output_type": "stream",
     "text": [
      "Successfully registered model 'aisample-upliftmodelling-treatmentmodel'.\n",
      "2023/08/04 03:08:53 INFO mlflow.tracking._model_registry.client: Waiting up to 300 seconds for model version to finish creation.                     Model name: aisample-upliftmodelling-treatmentmodel, version 3\n",
      "Created version '3' of model 'aisample-upliftmodelling-treatmentmodel'.\n",
      "Successfully registered model 'aisample-upliftmodelling-controlmodel'.\n",
      "2023/08/04 03:08:56 INFO mlflow.tracking._model_registry.client: Waiting up to 300 seconds for model version to finish creation.                     Model name: aisample-upliftmodelling-controlmodel, version 3\n",
      "Created version '3' of model 'aisample-upliftmodelling-controlmodel'.\n"
     ]
    }
   ],
   "source": [
    "# Register the model\n",
    "treatment_model_uri = \"runs:/{}/model\".format(treatment_run_id)\n",
    "mlflow.register_model(treatment_model_uri, f\"{EXPERIMENT_NAME}-treatmentmodel\")\n",
    "\n",
    "control_model_uri = \"runs:/{}/model\".format(control_run_id)\n",
    "mlflow.register_model(control_model_uri, f\"{EXPERIMENT_NAME}-controlmodel\")\n",
    "\n",
    "mlflow.end_run()"
   ]
  },
  {
   "cell_type": "markdown",
   "id": "fd88fb36-8929-4976-8c3f-93d61d8a47e7",
   "metadata": {
    "nteract": {
     "transient": {
      "deleting": false
     }
    }
   },
   "source": [
    "\n",
    "<img style=\"float: left;\" src=\"https://synapseaisolutionsa.blob.core.windows.net/public/Uplift-experiment.png\"  width=\"75%\" height=\"30%\">\n"
   ]
  },
  {
   "cell_type": "markdown",
   "id": "7a987e7f-db47-4ef6-9bec-60b50c448eba",
   "metadata": {},
   "source": [
    "## Step 5: Save Prediction Results\n",
    "Microsoft Fabric offers a scalable function called PREDICT that supports batch scoring in any compute engine and enables customers to operationalize machine learning models. Users can create batch predictions straight from a notebook or the item page for a particular model. Learn more [here](https://aka.ms/fabric-predict) about PREDICT and how to utilize it in Microsoft Fabric."
   ]
  },
  {
   "cell_type": "code",
   "execution_count": null,
   "id": "7ae39e12-f39e-4cfb-bfab-4b25e3f7b53f",
   "metadata": {},
   "outputs": [
    {
     "data": {
      "application/vnd.livy.statement-meta+json": {
       "execution_finish_time": "2023-08-04T03:09:07.3540123Z",
       "execution_start_time": "2023-08-04T03:08:59.1759457Z",
       "livy_statement_state": "available",
       "parent_msg_id": "ecf5b787-b41c-4d23-90d3-9e0dc1d9ce46",
       "queued_time": "2023-08-04T03:03:10.9935832Z",
       "session_id": "d1896701-7cf5-4a6d-86ac-123d32475b40",
       "session_start_time": null,
       "spark_jobs": {
        "jobs": [
         {
          "completionTime": "2023-08-04T03:09:06.182GMT",
          "dataRead": 56187832,
          "dataWritten": 0,
          "description": "Job group for statement 24:\n# Load the model back\nloaded_treatmentmodel = mlflow.spark.load_model(treatment_model_uri, dfs_tmpdir=\"Files/spark\")\nloaded_controlmodel = mlflow.spark.load_model(control_model_uri, dfs_tmpdir=\"Files/spark\")\n\n# Make predictions\nbatch_predictions_treatment = loaded_treatmentmodel.transform(test_df)\nbatch_predictions_control = loaded_controlmodel.transform(test_df)\nbatch_predictions_treatment.show(5)\n",
          "displayName": "showString at NativeMethodAccessorImpl.java:0",
          "jobGroup": "24",
          "jobId": 53,
          "killedTasksSummary": {},
          "name": "showString at NativeMethodAccessorImpl.java:0",
          "numActiveStages": 0,
          "numActiveTasks": 0,
          "numCompletedIndices": 1,
          "numCompletedStages": 1,
          "numCompletedTasks": 1,
          "numFailedStages": 0,
          "numFailedTasks": 0,
          "numKilledTasks": 0,
          "numSkippedStages": 0,
          "numSkippedTasks": 0,
          "numTasks": 1,
          "rowCount": 58,
          "stageIds": [
           71
          ],
          "status": "SUCCEEDED",
          "submissionTime": "2023-08-04T03:09:04.622GMT",
          "usageDescription": ""
         },
         {
          "completionTime": "2023-08-04T03:09:04.267GMT",
          "dataRead": 816,
          "dataWritten": 0,
          "description": "Job group for statement 24:\n# Load the model back\nloaded_treatmentmodel = mlflow.spark.load_model(treatment_model_uri, dfs_tmpdir=\"Files/spark\")\nloaded_controlmodel = mlflow.spark.load_model(control_model_uri, dfs_tmpdir=\"Files/spark\")\n\n# Make predictions\nbatch_predictions_treatment = loaded_treatmentmodel.transform(test_df)\nbatch_predictions_control = loaded_controlmodel.transform(test_df)\nbatch_predictions_treatment.show(5)\n",
          "displayName": "first at ReadWrite.scala:587",
          "jobGroup": "24",
          "jobId": 52,
          "killedTasksSummary": {},
          "name": "first at ReadWrite.scala:587",
          "numActiveStages": 0,
          "numActiveTasks": 0,
          "numCompletedIndices": 1,
          "numCompletedStages": 1,
          "numCompletedTasks": 1,
          "numFailedStages": 0,
          "numFailedTasks": 0,
          "numKilledTasks": 0,
          "numSkippedStages": 0,
          "numSkippedTasks": 0,
          "numTasks": 1,
          "rowCount": 1,
          "stageIds": [
           70
          ],
          "status": "SUCCEEDED",
          "submissionTime": "2023-08-04T03:09:04.232GMT",
          "usageDescription": ""
         },
         {
          "completionTime": "2023-08-04T03:09:04.156GMT",
          "dataRead": 816,
          "dataWritten": 0,
          "description": "Job group for statement 24:\n# Load the model back\nloaded_treatmentmodel = mlflow.spark.load_model(treatment_model_uri, dfs_tmpdir=\"Files/spark\")\nloaded_controlmodel = mlflow.spark.load_model(control_model_uri, dfs_tmpdir=\"Files/spark\")\n\n# Make predictions\nbatch_predictions_treatment = loaded_treatmentmodel.transform(test_df)\nbatch_predictions_control = loaded_controlmodel.transform(test_df)\nbatch_predictions_treatment.show(5)\n",
          "displayName": "first at ReadWrite.scala:587",
          "jobGroup": "24",
          "jobId": 51,
          "killedTasksSummary": {},
          "name": "first at ReadWrite.scala:587",
          "numActiveStages": 0,
          "numActiveTasks": 0,
          "numCompletedIndices": 1,
          "numCompletedStages": 1,
          "numCompletedTasks": 1,
          "numFailedStages": 0,
          "numFailedTasks": 0,
          "numKilledTasks": 0,
          "numSkippedStages": 0,
          "numSkippedTasks": 0,
          "numTasks": 1,
          "rowCount": 1,
          "stageIds": [
           69
          ],
          "status": "SUCCEEDED",
          "submissionTime": "2023-08-04T03:09:04.116GMT",
          "usageDescription": ""
         },
         {
          "completionTime": "2023-08-04T03:09:04.037GMT",
          "dataRead": 225,
          "dataWritten": 0,
          "description": "Job group for statement 24:\n# Load the model back\nloaded_treatmentmodel = mlflow.spark.load_model(treatment_model_uri, dfs_tmpdir=\"Files/spark\")\nloaded_controlmodel = mlflow.spark.load_model(control_model_uri, dfs_tmpdir=\"Files/spark\")\n\n# Make predictions\nbatch_predictions_treatment = loaded_treatmentmodel.transform(test_df)\nbatch_predictions_control = loaded_controlmodel.transform(test_df)\nbatch_predictions_treatment.show(5)\n",
          "displayName": "first at ReadWrite.scala:587",
          "jobGroup": "24",
          "jobId": 50,
          "killedTasksSummary": {},
          "name": "first at ReadWrite.scala:587",
          "numActiveStages": 0,
          "numActiveTasks": 0,
          "numCompletedIndices": 1,
          "numCompletedStages": 1,
          "numCompletedTasks": 1,
          "numFailedStages": 0,
          "numFailedTasks": 0,
          "numKilledTasks": 0,
          "numSkippedStages": 0,
          "numSkippedTasks": 0,
          "numTasks": 1,
          "rowCount": 1,
          "stageIds": [
           68
          ],
          "status": "SUCCEEDED",
          "submissionTime": "2023-08-04T03:09:04.000GMT",
          "usageDescription": ""
         },
         {
          "completionTime": "2023-08-04T03:09:03.921GMT",
          "dataRead": 225,
          "dataWritten": 0,
          "description": "Job group for statement 24:\n# Load the model back\nloaded_treatmentmodel = mlflow.spark.load_model(treatment_model_uri, dfs_tmpdir=\"Files/spark\")\nloaded_controlmodel = mlflow.spark.load_model(control_model_uri, dfs_tmpdir=\"Files/spark\")\n\n# Make predictions\nbatch_predictions_treatment = loaded_treatmentmodel.transform(test_df)\nbatch_predictions_control = loaded_controlmodel.transform(test_df)\nbatch_predictions_treatment.show(5)\n",
          "displayName": "runJob at PythonRDD.scala:172",
          "jobGroup": "24",
          "jobId": 49,
          "killedTasksSummary": {},
          "name": "runJob at PythonRDD.scala:172",
          "numActiveStages": 0,
          "numActiveTasks": 0,
          "numCompletedIndices": 1,
          "numCompletedStages": 1,
          "numCompletedTasks": 1,
          "numFailedStages": 0,
          "numFailedTasks": 0,
          "numKilledTasks": 0,
          "numSkippedStages": 0,
          "numSkippedTasks": 0,
          "numTasks": 1,
          "rowCount": 1,
          "stageIds": [
           67
          ],
          "status": "SUCCEEDED",
          "submissionTime": "2023-08-04T03:09:03.830GMT",
          "usageDescription": ""
         },
         {
          "completionTime": "2023-08-04T03:09:02.205GMT",
          "dataRead": 816,
          "dataWritten": 0,
          "description": "Job group for statement 24:\n# Load the model back\nloaded_treatmentmodel = mlflow.spark.load_model(treatment_model_uri, dfs_tmpdir=\"Files/spark\")\nloaded_controlmodel = mlflow.spark.load_model(control_model_uri, dfs_tmpdir=\"Files/spark\")\n\n# Make predictions\nbatch_predictions_treatment = loaded_treatmentmodel.transform(test_df)\nbatch_predictions_control = loaded_controlmodel.transform(test_df)\nbatch_predictions_treatment.show(5)\n",
          "displayName": "first at ReadWrite.scala:587",
          "jobGroup": "24",
          "jobId": 48,
          "killedTasksSummary": {},
          "name": "first at ReadWrite.scala:587",
          "numActiveStages": 0,
          "numActiveTasks": 0,
          "numCompletedIndices": 1,
          "numCompletedStages": 1,
          "numCompletedTasks": 1,
          "numFailedStages": 0,
          "numFailedTasks": 0,
          "numKilledTasks": 0,
          "numSkippedStages": 0,
          "numSkippedTasks": 0,
          "numTasks": 1,
          "rowCount": 1,
          "stageIds": [
           66
          ],
          "status": "SUCCEEDED",
          "submissionTime": "2023-08-04T03:09:02.167GMT",
          "usageDescription": ""
         },
         {
          "completionTime": "2023-08-04T03:09:01.842GMT",
          "dataRead": 816,
          "dataWritten": 0,
          "description": "Job group for statement 24:\n# Load the model back\nloaded_treatmentmodel = mlflow.spark.load_model(treatment_model_uri, dfs_tmpdir=\"Files/spark\")\nloaded_controlmodel = mlflow.spark.load_model(control_model_uri, dfs_tmpdir=\"Files/spark\")\n\n# Make predictions\nbatch_predictions_treatment = loaded_treatmentmodel.transform(test_df)\nbatch_predictions_control = loaded_controlmodel.transform(test_df)\nbatch_predictions_treatment.show(5)\n",
          "displayName": "first at ReadWrite.scala:587",
          "jobGroup": "24",
          "jobId": 47,
          "killedTasksSummary": {},
          "name": "first at ReadWrite.scala:587",
          "numActiveStages": 0,
          "numActiveTasks": 0,
          "numCompletedIndices": 1,
          "numCompletedStages": 1,
          "numCompletedTasks": 1,
          "numFailedStages": 0,
          "numFailedTasks": 0,
          "numKilledTasks": 0,
          "numSkippedStages": 0,
          "numSkippedTasks": 0,
          "numTasks": 1,
          "rowCount": 1,
          "stageIds": [
           65
          ],
          "status": "SUCCEEDED",
          "submissionTime": "2023-08-04T03:09:01.804GMT",
          "usageDescription": ""
         },
         {
          "completionTime": "2023-08-04T03:09:01.714GMT",
          "dataRead": 225,
          "dataWritten": 0,
          "description": "Job group for statement 24:\n# Load the model back\nloaded_treatmentmodel = mlflow.spark.load_model(treatment_model_uri, dfs_tmpdir=\"Files/spark\")\nloaded_controlmodel = mlflow.spark.load_model(control_model_uri, dfs_tmpdir=\"Files/spark\")\n\n# Make predictions\nbatch_predictions_treatment = loaded_treatmentmodel.transform(test_df)\nbatch_predictions_control = loaded_controlmodel.transform(test_df)\nbatch_predictions_treatment.show(5)\n",
          "displayName": "first at ReadWrite.scala:587",
          "jobGroup": "24",
          "jobId": 46,
          "killedTasksSummary": {},
          "name": "first at ReadWrite.scala:587",
          "numActiveStages": 0,
          "numActiveTasks": 0,
          "numCompletedIndices": 1,
          "numCompletedStages": 1,
          "numCompletedTasks": 1,
          "numFailedStages": 0,
          "numFailedTasks": 0,
          "numKilledTasks": 0,
          "numSkippedStages": 0,
          "numSkippedTasks": 0,
          "numTasks": 1,
          "rowCount": 1,
          "stageIds": [
           64
          ],
          "status": "SUCCEEDED",
          "submissionTime": "2023-08-04T03:09:01.676GMT",
          "usageDescription": ""
         },
         {
          "completionTime": "2023-08-04T03:09:01.587GMT",
          "dataRead": 225,
          "dataWritten": 0,
          "description": "Job group for statement 24:\n# Load the model back\nloaded_treatmentmodel = mlflow.spark.load_model(treatment_model_uri, dfs_tmpdir=\"Files/spark\")\nloaded_controlmodel = mlflow.spark.load_model(control_model_uri, dfs_tmpdir=\"Files/spark\")\n\n# Make predictions\nbatch_predictions_treatment = loaded_treatmentmodel.transform(test_df)\nbatch_predictions_control = loaded_controlmodel.transform(test_df)\nbatch_predictions_treatment.show(5)\n",
          "displayName": "runJob at PythonRDD.scala:172",
          "jobGroup": "24",
          "jobId": 45,
          "killedTasksSummary": {},
          "name": "runJob at PythonRDD.scala:172",
          "numActiveStages": 0,
          "numActiveTasks": 0,
          "numCompletedIndices": 1,
          "numCompletedStages": 1,
          "numCompletedTasks": 1,
          "numFailedStages": 0,
          "numFailedTasks": 0,
          "numKilledTasks": 0,
          "numSkippedStages": 0,
          "numSkippedTasks": 0,
          "numTasks": 1,
          "rowCount": 1,
          "stageIds": [
           63
          ],
          "status": "SUCCEEDED",
          "submissionTime": "2023-08-04T03:09:00.944GMT",
          "usageDescription": ""
         }
        ],
        "limit": 20,
        "numbers": {
         "FAILED": 0,
         "RUNNING": 0,
         "SUCCEEDED": 9,
         "UNKNOWN": 0
        },
        "rule": "ALL_DESC"
       },
       "spark_pool": null,
       "state": "finished",
       "statement_id": 24
      },
      "text/plain": [
       "StatementMeta(, d1896701-7cf5-4a6d-86ac-123d32475b40, 24, Finished, Available)"
      ]
     },
     "metadata": {},
     "output_type": "display_data"
    },
    {
     "name": "stderr",
     "output_type": "stream",
     "text": [
      "2023/08/04 03:08:59 INFO mlflow.spark: 'runs:/fb371d3f-9738-4616-a842-c815ee3253ab/model' resolved as 'sds://lake.trident.com/d2a85142-94be-4d6a-b988-13da340ac6b3/a3ed4027-b7ad-4e61-ae21-481ecdb58075/fb371d3f-9738-4616-a842-c815ee3253ab/artifacts/model'\n",
      "2023/08/04 03:08:59 INFO mlflow.spark: File 'sds://lake.trident.com/d2a85142-94be-4d6a-b988-13da340ac6b3/a3ed4027-b7ad-4e61-ae21-481ecdb58075/fb371d3f-9738-4616-a842-c815ee3253ab/artifacts/model/sparkml' not found on DFS. Will attempt to upload the file.\n",
      "2023/08/04 03:09:00 INFO mlflow.spark: Copied SparkML model to Files/spark/f71fd704-8740-4d09-96f9-37cbda875c66\n",
      "2023/08/04 03:09:02 INFO mlflow.spark: 'runs:/2dc203a2-f6de-4217-87fd-fbd2a2f7f89a/model' resolved as 'sds://lake.trident.com/d2a85142-94be-4d6a-b988-13da340ac6b3/a3ed4027-b7ad-4e61-ae21-481ecdb58075/2dc203a2-f6de-4217-87fd-fbd2a2f7f89a/artifacts/model'\n",
      "2023/08/04 03:09:03 INFO mlflow.spark: File 'sds://lake.trident.com/d2a85142-94be-4d6a-b988-13da340ac6b3/a3ed4027-b7ad-4e61-ae21-481ecdb58075/2dc203a2-f6de-4217-87fd-fbd2a2f7f89a/artifacts/model/sparkml' not found on DFS. Will attempt to upload the file.\n",
      "2023/08/04 03:09:03 INFO mlflow.spark: Copied SparkML model to Files/spark/3a273220-dde1-4c95-900d-284af33d4262\n"
     ]
    },
    {
     "name": "stdout",
     "output_type": "stream",
     "text": [
      "+------------------+------------------+-----------------+-----------------+------------------+------------------+-------------------+------------------+-----------------+------------------+-----------------+--------------------+---------+----------+-----+--------+--------------------+--------------------+--------------------+----------+\n",
      "|                f0|                f1|               f2|               f3|                f4|                f5|                 f6|                f7|               f8|                f9|              f10|                 f11|treatment|conversion|visit|exposure|            features|       rawPrediction|         probability|prediction|\n",
      "+------------------+------------------+-----------------+-----------------+------------------+------------------+-------------------+------------------+-----------------+------------------+-----------------+--------------------+---------+----------+-----+--------+--------------------+--------------------+--------------------+----------+\n",
      "|12.616364906986497|10.059654474774547|8.214382844395335|4.679881620097284|10.280525225748212|0.3463602638335841|0.29444271125560606| 10.65526759211423|3.971857989350875|13.190055934673358|5.300374864042156|-0.16867922100056124|        1|         0|    0|       0|[-0.1686792210005...|[6.57403697245921...|[0.99860579671475...|       0.0|\n",
      "|12.616364906986497|10.059654474774547|8.214382844395335|4.679881620097284|10.280525225748212|1.1285177631409207|0.29444271125560606| 9.703094148526326|3.971857989350875|13.190055934673358|5.300374864042156|-0.16867922100056124|        1|         0|    0|       0|[-0.1686792210005...|[6.64070365171077...|[0.9986955958172,...|       0.0|\n",
      "|12.616364906986497|10.059654474774547|8.214382844395335|4.679881620097284|10.280525225748212|1.1285177631409207|0.29444271125560606|11.151218312552132|3.971857989350875|13.190055934673358|5.300374864042156|-0.16867922100056124|        1|         0|    0|       0|[-0.1686792210005...|[6.57403697245921...|[0.99860579671475...|       0.0|\n",
      "|12.616364906986497|10.059654474774547|8.214382844395335|4.679881620097284|10.280525225748212|1.6242183527412077|0.29444271125560606|10.705732371502856|3.971857989350875|13.190055934673358|5.300374864042156|-0.16867922100056124|        1|         0|    0|       0|[-0.1686792210005...|[6.57403697245921...|[0.99860579671475...|       0.0|\n",
      "|12.616364906986497|10.059654474774547|8.214382844395335|4.679881620097284|10.280525225748212|2.2309068425557226|0.29444271125560606|  9.32342987847462|3.971857989350875|13.190055934673358|5.300374864042156|-0.16867922100056124|        1|         0|    0|       0|[-0.1686792210005...|[6.64070365171077...|[0.9986955958172,...|       0.0|\n",
      "+------------------+------------------+-----------------+-----------------+------------------+------------------+-------------------+------------------+-----------------+------------------+-----------------+--------------------+---------+----------+-----+--------+--------------------+--------------------+--------------------+----------+\n",
      "only showing top 5 rows\n",
      "\n"
     ]
    }
   ],
   "source": [
    "# Load the model back\n",
    "loaded_treatmentmodel = mlflow.spark.load_model(treatment_model_uri, dfs_tmpdir=\"Files/spark\")\n",
    "loaded_controlmodel = mlflow.spark.load_model(control_model_uri, dfs_tmpdir=\"Files/spark\")\n",
    "\n",
    "# Make predictions\n",
    "batch_predictions_treatment = loaded_treatmentmodel.transform(test_df)\n",
    "batch_predictions_control = loaded_controlmodel.transform(test_df)\n",
    "batch_predictions_treatment.show(5)\n"
   ]
  },
  {
   "cell_type": "code",
   "execution_count": null,
   "id": "92cfe364-aa31-44e8-ad74-28036cc83e0b",
   "metadata": {},
   "outputs": [
    {
     "data": {
      "application/vnd.livy.statement-meta+json": {
       "execution_finish_time": "2023-08-04T03:10:10.2886893Z",
       "execution_start_time": "2023-08-04T03:09:07.6929807Z",
       "livy_statement_state": "available",
       "parent_msg_id": "aab5e33f-2b96-4839-baba-bcaad88d839f",
       "queued_time": "2023-08-04T03:03:10.9942822Z",
       "session_id": "d1896701-7cf5-4a6d-86ac-123d32475b40",
       "session_start_time": null,
       "spark_jobs": {
        "jobs": [
         {
          "completionTime": "2023-08-04T03:10:08.437GMT",
          "dataRead": 4866,
          "dataWritten": 0,
          "description": "Delta: Job group for statement 25:\n# Save the predictions into the lakehouse\nbatch_predictions_treatment.write.format(\"delta\").mode(\"overwrite\").save(\n    f\"{DATA_FOLDER}/predictions/batch_predictions_treatment\"\n)\nbatch_predictions_control.write.format(\"delta\").mode(\"overwrite\").save(\n    f\"{DATA_FOLDER}/predictions/batch_predictions_control\"\n)\n: Compute snapshot for version: 0",
          "displayName": "toString at String.java:2994",
          "jobGroup": "25",
          "jobId": 65,
          "killedTasksSummary": {},
          "name": "toString at String.java:2994",
          "numActiveStages": 0,
          "numActiveTasks": 0,
          "numCompletedIndices": 1,
          "numCompletedStages": 1,
          "numCompletedTasks": 1,
          "numFailedStages": 0,
          "numFailedTasks": 0,
          "numKilledTasks": 0,
          "numSkippedStages": 2,
          "numSkippedTasks": 51,
          "numTasks": 52,
          "rowCount": 50,
          "stageIds": [
           88,
           89,
           87
          ],
          "status": "SUCCEEDED",
          "submissionTime": "2023-08-04T03:10:08.401GMT",
          "usageDescription": ""
         },
         {
          "completionTime": "2023-08-04T03:10:08.380GMT",
          "dataRead": 2692,
          "dataWritten": 4866,
          "description": "Delta: Job group for statement 25:\n# Save the predictions into the lakehouse\nbatch_predictions_treatment.write.format(\"delta\").mode(\"overwrite\").save(\n    f\"{DATA_FOLDER}/predictions/batch_predictions_treatment\"\n)\nbatch_predictions_control.write.format(\"delta\").mode(\"overwrite\").save(\n    f\"{DATA_FOLDER}/predictions/batch_predictions_control\"\n)\n: Compute snapshot for version: 0",
          "displayName": "toString at String.java:2994",
          "jobGroup": "25",
          "jobId": 64,
          "killedTasksSummary": {},
          "name": "toString at String.java:2994",
          "numActiveStages": 0,
          "numActiveTasks": 0,
          "numCompletedIndices": 50,
          "numCompletedStages": 1,
          "numCompletedTasks": 50,
          "numFailedStages": 0,
          "numFailedTasks": 0,
          "numKilledTasks": 0,
          "numSkippedStages": 1,
          "numSkippedTasks": 1,
          "numTasks": 51,
          "rowCount": 54,
          "stageIds": [
           85,
           86
          ],
          "status": "SUCCEEDED",
          "submissionTime": "2023-08-04T03:10:07.993GMT",
          "usageDescription": ""
         },
         {
          "completionTime": "2023-08-04T03:10:07.810GMT",
          "dataRead": 5865,
          "dataWritten": 2692,
          "description": "Delta: Job group for statement 25:\n# Save the predictions into the lakehouse\nbatch_predictions_treatment.write.format(\"delta\").mode(\"overwrite\").save(\n    f\"{DATA_FOLDER}/predictions/batch_predictions_treatment\"\n)\nbatch_predictions_control.write.format(\"delta\").mode(\"overwrite\").save(\n    f\"{DATA_FOLDER}/predictions/batch_predictions_control\"\n)\n: Compute snapshot for version: 0",
          "displayName": "toString at String.java:2994",
          "jobGroup": "25",
          "jobId": 63,
          "killedTasksSummary": {},
          "name": "toString at String.java:2994",
          "numActiveStages": 0,
          "numActiveTasks": 0,
          "numCompletedIndices": 1,
          "numCompletedStages": 1,
          "numCompletedTasks": 1,
          "numFailedStages": 0,
          "numFailedTasks": 0,
          "numKilledTasks": 0,
          "numSkippedStages": 0,
          "numSkippedTasks": 0,
          "numTasks": 1,
          "rowCount": 8,
          "stageIds": [
           84
          ],
          "status": "SUCCEEDED",
          "submissionTime": "2023-08-04T03:10:07.761GMT",
          "usageDescription": ""
         },
         {
          "completionTime": "2023-08-04T03:10:07.285GMT",
          "dataRead": 0,
          "dataWritten": 0,
          "description": "Job group for statement 25:\n# Save the predictions into the lakehouse\nbatch_predictions_treatment.write.format(\"delta\").mode(\"overwrite\").save(\n    f\"{DATA_FOLDER}/predictions/batch_predictions_treatment\"\n)\nbatch_predictions_control.write.format(\"delta\").mode(\"overwrite\").save(\n    f\"{DATA_FOLDER}/predictions/batch_predictions_control\"\n)\n",
          "displayName": "Job group for statement 25:\n# Save the predictions into the lakehouse\nbatch_predictions_treatment.write.format(\"delta\").mode(\"overwrite\").save(\n    f\"{DATA_FOLDER}/predictions/batch_predictions_treatment\"\n)\nbatch_predictions_control.write.format(\"delta\").mode(\"overwrite\").save(\n    f\"{DATA_FOLDER}/predictions/batch_predictions_control\"\n)\n",
          "jobGroup": "25",
          "jobId": 62,
          "killedTasksSummary": {},
          "name": "",
          "numActiveStages": 0,
          "numActiveTasks": 0,
          "numCompletedIndices": 0,
          "numCompletedStages": 0,
          "numCompletedTasks": 0,
          "numFailedStages": 0,
          "numFailedTasks": 0,
          "numKilledTasks": 0,
          "numSkippedStages": 0,
          "numSkippedTasks": 0,
          "numTasks": 0,
          "rowCount": 0,
          "stageIds": [],
          "status": "SUCCEEDED",
          "submissionTime": "2023-08-04T03:10:07.285GMT",
          "usageDescription": ""
         },
         {
          "completionTime": "2023-08-04T03:10:07.152GMT",
          "dataRead": 159698841,
          "dataWritten": 111885460,
          "description": "Job group for statement 25:\n# Save the predictions into the lakehouse\nbatch_predictions_treatment.write.format(\"delta\").mode(\"overwrite\").save(\n    f\"{DATA_FOLDER}/predictions/batch_predictions_treatment\"\n)\nbatch_predictions_control.write.format(\"delta\").mode(\"overwrite\").save(\n    f\"{DATA_FOLDER}/predictions/batch_predictions_control\"\n)\n",
          "displayName": "save at NativeMethodAccessorImpl.java:0",
          "jobGroup": "25",
          "jobId": 61,
          "killedTasksSummary": {},
          "name": "save at NativeMethodAccessorImpl.java:0",
          "numActiveStages": 0,
          "numActiveTasks": 0,
          "numCompletedIndices": 1,
          "numCompletedStages": 1,
          "numCompletedTasks": 1,
          "numFailedStages": 0,
          "numFailedTasks": 0,
          "numKilledTasks": 0,
          "numSkippedStages": 1,
          "numSkippedTasks": 25,
          "numTasks": 26,
          "rowCount": 5593254,
          "stageIds": [
           82,
           83
          ],
          "status": "SUCCEEDED",
          "submissionTime": "2023-08-04T03:09:58.896GMT",
          "usageDescription": ""
         },
         {
          "completionTime": "2023-08-04T03:09:58.845GMT",
          "dataRead": 1361805488,
          "dataWritten": 159698841,
          "description": "Job group for statement 25:\n# Save the predictions into the lakehouse\nbatch_predictions_treatment.write.format(\"delta\").mode(\"overwrite\").save(\n    f\"{DATA_FOLDER}/predictions/batch_predictions_treatment\"\n)\nbatch_predictions_control.write.format(\"delta\").mode(\"overwrite\").save(\n    f\"{DATA_FOLDER}/predictions/batch_predictions_control\"\n)\n",
          "displayName": "save at NativeMethodAccessorImpl.java:0",
          "jobGroup": "25",
          "jobId": 60,
          "killedTasksSummary": {},
          "name": "save at NativeMethodAccessorImpl.java:0",
          "numActiveStages": 0,
          "numActiveTasks": 0,
          "numCompletedIndices": 25,
          "numCompletedStages": 1,
          "numCompletedTasks": 25,
          "numFailedStages": 0,
          "numFailedTasks": 0,
          "numKilledTasks": 0,
          "numSkippedStages": 0,
          "numSkippedTasks": 0,
          "numTasks": 25,
          "rowCount": 2798031,
          "stageIds": [
           81
          ],
          "status": "SUCCEEDED",
          "submissionTime": "2023-08-04T03:09:40.339GMT",
          "usageDescription": ""
         },
         {
          "completionTime": "2023-08-04T03:09:40.113GMT",
          "dataRead": 4866,
          "dataWritten": 0,
          "description": "Delta: Job group for statement 25:\n# Save the predictions into the lakehouse\nbatch_predictions_treatment.write.format(\"delta\").mode(\"overwrite\").save(\n    f\"{DATA_FOLDER}/predictions/batch_predictions_treatment\"\n)\nbatch_predictions_control.write.format(\"delta\").mode(\"overwrite\").save(\n    f\"{DATA_FOLDER}/predictions/batch_predictions_control\"\n)\n: Compute snapshot for version: 0",
          "displayName": "toString at String.java:2994",
          "jobGroup": "25",
          "jobId": 59,
          "killedTasksSummary": {},
          "name": "toString at String.java:2994",
          "numActiveStages": 0,
          "numActiveTasks": 0,
          "numCompletedIndices": 1,
          "numCompletedStages": 1,
          "numCompletedTasks": 1,
          "numFailedStages": 0,
          "numFailedTasks": 0,
          "numKilledTasks": 0,
          "numSkippedStages": 2,
          "numSkippedTasks": 51,
          "numTasks": 52,
          "rowCount": 50,
          "stageIds": [
           78,
           79,
           80
          ],
          "status": "SUCCEEDED",
          "submissionTime": "2023-08-04T03:09:40.057GMT",
          "usageDescription": ""
         },
         {
          "completionTime": "2023-08-04T03:09:40.040GMT",
          "dataRead": 2683,
          "dataWritten": 4866,
          "description": "Delta: Job group for statement 25:\n# Save the predictions into the lakehouse\nbatch_predictions_treatment.write.format(\"delta\").mode(\"overwrite\").save(\n    f\"{DATA_FOLDER}/predictions/batch_predictions_treatment\"\n)\nbatch_predictions_control.write.format(\"delta\").mode(\"overwrite\").save(\n    f\"{DATA_FOLDER}/predictions/batch_predictions_control\"\n)\n: Compute snapshot for version: 0",
          "displayName": "toString at String.java:2994",
          "jobGroup": "25",
          "jobId": 58,
          "killedTasksSummary": {},
          "name": "toString at String.java:2994",
          "numActiveStages": 0,
          "numActiveTasks": 0,
          "numCompletedIndices": 50,
          "numCompletedStages": 1,
          "numCompletedTasks": 50,
          "numFailedStages": 0,
          "numFailedTasks": 0,
          "numKilledTasks": 0,
          "numSkippedStages": 1,
          "numSkippedTasks": 1,
          "numTasks": 51,
          "rowCount": 54,
          "stageIds": [
           76,
           77
          ],
          "status": "SUCCEEDED",
          "submissionTime": "2023-08-04T03:09:39.171GMT",
          "usageDescription": ""
         },
         {
          "completionTime": "2023-08-04T03:09:39.025GMT",
          "dataRead": 5865,
          "dataWritten": 2683,
          "description": "Delta: Job group for statement 25:\n# Save the predictions into the lakehouse\nbatch_predictions_treatment.write.format(\"delta\").mode(\"overwrite\").save(\n    f\"{DATA_FOLDER}/predictions/batch_predictions_treatment\"\n)\nbatch_predictions_control.write.format(\"delta\").mode(\"overwrite\").save(\n    f\"{DATA_FOLDER}/predictions/batch_predictions_control\"\n)\n: Compute snapshot for version: 0",
          "displayName": "toString at String.java:2994",
          "jobGroup": "25",
          "jobId": 57,
          "killedTasksSummary": {},
          "name": "toString at String.java:2994",
          "numActiveStages": 0,
          "numActiveTasks": 0,
          "numCompletedIndices": 1,
          "numCompletedStages": 1,
          "numCompletedTasks": 1,
          "numFailedStages": 0,
          "numFailedTasks": 0,
          "numKilledTasks": 0,
          "numSkippedStages": 0,
          "numSkippedTasks": 0,
          "numTasks": 1,
          "rowCount": 8,
          "stageIds": [
           75
          ],
          "status": "SUCCEEDED",
          "submissionTime": "2023-08-04T03:09:38.657GMT",
          "usageDescription": ""
         },
         {
          "completionTime": "2023-08-04T03:09:38.135GMT",
          "dataRead": 0,
          "dataWritten": 0,
          "description": "Job group for statement 25:\n# Save the predictions into the lakehouse\nbatch_predictions_treatment.write.format(\"delta\").mode(\"overwrite\").save(\n    f\"{DATA_FOLDER}/predictions/batch_predictions_treatment\"\n)\nbatch_predictions_control.write.format(\"delta\").mode(\"overwrite\").save(\n    f\"{DATA_FOLDER}/predictions/batch_predictions_control\"\n)\n",
          "displayName": "Job group for statement 25:\n# Save the predictions into the lakehouse\nbatch_predictions_treatment.write.format(\"delta\").mode(\"overwrite\").save(\n    f\"{DATA_FOLDER}/predictions/batch_predictions_treatment\"\n)\nbatch_predictions_control.write.format(\"delta\").mode(\"overwrite\").save(\n    f\"{DATA_FOLDER}/predictions/batch_predictions_control\"\n)\n",
          "jobGroup": "25",
          "jobId": 56,
          "killedTasksSummary": {},
          "name": "",
          "numActiveStages": 0,
          "numActiveTasks": 0,
          "numCompletedIndices": 0,
          "numCompletedStages": 0,
          "numCompletedTasks": 0,
          "numFailedStages": 0,
          "numFailedTasks": 0,
          "numKilledTasks": 0,
          "numSkippedStages": 0,
          "numSkippedTasks": 0,
          "numTasks": 0,
          "rowCount": 0,
          "stageIds": [],
          "status": "SUCCEEDED",
          "submissionTime": "2023-08-04T03:09:38.135GMT",
          "usageDescription": ""
         },
         {
          "completionTime": "2023-08-04T03:09:37.937GMT",
          "dataRead": 162000111,
          "dataWritten": 113578701,
          "description": "Job group for statement 25:\n# Save the predictions into the lakehouse\nbatch_predictions_treatment.write.format(\"delta\").mode(\"overwrite\").save(\n    f\"{DATA_FOLDER}/predictions/batch_predictions_treatment\"\n)\nbatch_predictions_control.write.format(\"delta\").mode(\"overwrite\").save(\n    f\"{DATA_FOLDER}/predictions/batch_predictions_control\"\n)\n",
          "displayName": "save at NativeMethodAccessorImpl.java:0",
          "jobGroup": "25",
          "jobId": 55,
          "killedTasksSummary": {},
          "name": "save at NativeMethodAccessorImpl.java:0",
          "numActiveStages": 0,
          "numActiveTasks": 0,
          "numCompletedIndices": 1,
          "numCompletedStages": 1,
          "numCompletedTasks": 1,
          "numFailedStages": 0,
          "numFailedTasks": 0,
          "numKilledTasks": 0,
          "numSkippedStages": 1,
          "numSkippedTasks": 25,
          "numTasks": 26,
          "rowCount": 5593254,
          "stageIds": [
           74,
           73
          ],
          "status": "SUCCEEDED",
          "submissionTime": "2023-08-04T03:09:27.185GMT",
          "usageDescription": ""
         },
         {
          "completionTime": "2023-08-04T03:09:27.120GMT",
          "dataRead": 1361805488,
          "dataWritten": 162000111,
          "description": "Job group for statement 25:\n# Save the predictions into the lakehouse\nbatch_predictions_treatment.write.format(\"delta\").mode(\"overwrite\").save(\n    f\"{DATA_FOLDER}/predictions/batch_predictions_treatment\"\n)\nbatch_predictions_control.write.format(\"delta\").mode(\"overwrite\").save(\n    f\"{DATA_FOLDER}/predictions/batch_predictions_control\"\n)\n",
          "displayName": "save at NativeMethodAccessorImpl.java:0",
          "jobGroup": "25",
          "jobId": 54,
          "killedTasksSummary": {},
          "name": "save at NativeMethodAccessorImpl.java:0",
          "numActiveStages": 0,
          "numActiveTasks": 0,
          "numCompletedIndices": 25,
          "numCompletedStages": 1,
          "numCompletedTasks": 25,
          "numFailedStages": 0,
          "numFailedTasks": 0,
          "numKilledTasks": 0,
          "numSkippedStages": 0,
          "numSkippedTasks": 0,
          "numTasks": 25,
          "rowCount": 2798031,
          "stageIds": [
           72
          ],
          "status": "SUCCEEDED",
          "submissionTime": "2023-08-04T03:09:07.920GMT",
          "usageDescription": ""
         }
        ],
        "limit": 20,
        "numbers": {
         "FAILED": 0,
         "RUNNING": 0,
         "SUCCEEDED": 12,
         "UNKNOWN": 0
        },
        "rule": "ALL_DESC"
       },
       "spark_pool": null,
       "state": "finished",
       "statement_id": 25
      },
      "text/plain": [
       "StatementMeta(, d1896701-7cf5-4a6d-86ac-123d32475b40, 25, Finished, Available)"
      ]
     },
     "metadata": {},
     "output_type": "display_data"
    }
   ],
   "source": [
    "# Save the predictions into the lakehouse\n",
    "batch_predictions_treatment.write.format(\"delta\").mode(\"overwrite\").save(\n",
    "    f\"{DATA_FOLDER}/predictions/batch_predictions_treatment\"\n",
    ")\n",
    "batch_predictions_control.write.format(\"delta\").mode(\"overwrite\").save(\n",
    "    f\"{DATA_FOLDER}/predictions/batch_predictions_control\"\n",
    ")\n"
   ]
  },
  {
   "cell_type": "code",
   "execution_count": null,
   "id": "7e31c67e-c44a-407a-b365-bf07cc6363ee",
   "metadata": {},
   "outputs": [
    {
     "data": {
      "application/vnd.livy.statement-meta+json": {
       "execution_finish_time": "2023-08-04T03:10:10.9861884Z",
       "execution_start_time": "2023-08-04T03:10:10.7046199Z",
       "livy_statement_state": "available",
       "parent_msg_id": "568e43b5-2f60-494b-b3b9-70e8337fcb1a",
       "queued_time": "2023-08-04T03:03:10.9992282Z",
       "session_id": "d1896701-7cf5-4a6d-86ac-123d32475b40",
       "session_start_time": null,
       "spark_jobs": {
        "jobs": [],
        "limit": 20,
        "numbers": {
         "FAILED": 0,
         "RUNNING": 0,
         "SUCCEEDED": 0,
         "UNKNOWN": 0
        },
        "rule": "ALL_DESC"
       },
       "spark_pool": null,
       "state": "finished",
       "statement_id": 26
      },
      "text/plain": [
       "StatementMeta(, d1896701-7cf5-4a6d-86ac-123d32475b40, 26, Finished, Available)"
      ]
     },
     "metadata": {},
     "output_type": "display_data"
    },
    {
     "name": "stdout",
     "output_type": "stream",
     "text": [
      "Full run cost 398 seconds.\n"
     ]
    }
   ],
   "source": [
    "print(f\"Full run cost {int(time.time() - ts)} seconds.\")\n"
   ]
  }
 ],
 "metadata": {
  "kernel_info": {
   "name": "synapse_pyspark"
  },
  "kernelspec": {
   "display_name": "Synapse PySpark",
   "language": "Python",
   "name": "synapse_pyspark"
  },
  "language_info": {
   "name": "python"
  },
  "notebook_environment": {},
  "nteract": {
   "version": "nteract-front-end@1.0.0"
  },
  "save_output": true,
  "spark_compute": {
   "compute_id": "/trident/default",
   "session_options": {
    "conf": {},
    "enableDebugMode": false
   }
  }
 },
 "nbformat": 4,
 "nbformat_minor": 5
}
