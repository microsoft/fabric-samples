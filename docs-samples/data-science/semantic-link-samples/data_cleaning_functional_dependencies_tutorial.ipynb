{
    "cells": [
        {
            "cell_type": "markdown",
            "id": "3e197789-8439-4f1e-bf59-cf42d0d8408a",
            "metadata": {},
            "source": [
                "# Tutorial: Clean Data with Functional Dependencies\n",
                "\n",
                "In this notebook, you'll learn to use functional dependencies for data cleaning. A functional dependency exists when one column in a dataset is a function of another column. For example, the Zip Code might determine the City. A functional dependency manifests itself as a one-to-many relationship between the values in two (or more) columns within a DataFrame (which does not occur if the dataset adheres to 3rd normal form). This tutorial uses the SYNTHEA dataset to show how functional relationships can be instrumental in the automatic detection of data quality problems.\n"
            ]
        },
        {
            "cell_type": "markdown",
            "id": "a7ae010c-fc84-407f-9fbb-6f2c7a3fcc26",
            "metadata": {
                "nteract": {
                    "transient": {
                        "deleting": false
                    }
                }
            },
            "source": [
                "### In this tutorial, you learn how to:\n",
                "- Apply domain knowledge to formulate hypotheses about functional dependencies in a dataset;\n",
                "- Get familiarized with components of Semantic Link's Python library ([SemPy](https://learn.microsoft.com/en-us/python/api/semantic-link-sempy)) that helps to automate data quality analysis. These components include:\n",
                "    - FabricDataFrame - a pandas-like structure enhanced with additional semantic information;\n",
                "    - Useful functions that automate the evaluation of hypothesis about functional dependencies and that identify violations of relationships in your datasets."
            ]
        },
        {
            "cell_type": "markdown",
            "id": "d95b104c-b5bf-4727-b8b8-7f4f4918a9d0",
            "metadata": {
                "nteract": {
                    "transient": {
                        "deleting": false
                    }
                }
            },
            "source": [
                "### Prerequisites\n",
                "1.    A Premium Power BI subscription.   \n",
                "2.    A Power BI Workspace with assigned premium capacity.\n",
                "3.    An existing lakehouse attached to the workspace.\n",
                "\n",
                "* A [Microsoft Fabric subscription](https://learn.microsoft.com/fabric/enterprise/licenses). Or sign up for a free [Microsoft Fabric (Preview) trial](https://learn.microsoft.com/fabric/get-started/fabric-trial).\n",
                "* Sign in to [Microsoft Fabric](https://fabric.microsoft.com/).\n",
                "* Go to the Data Science experience in Microsoft Fabric.\n",
                "* Create [a new notebook](https://learn.microsoft.com/fabric/data-engineering/how-to-use-notebook#create-notebooks) to copy/paste code into cells."
            ]
        },
        {
            "cell_type": "markdown",
            "id": "b8e0ab94-358c-4b5f-9e76-9b735ab9452f",
            "metadata": {
                "nteract": {
                    "transient": {
                        "deleting": false
                    }
                }
            },
            "source": [
                "## Set up the notebook\n",
                "\n",
                "In this section, you'll set up a notebook environment with the necessary modules and data."
            ]
        },
        {
            "cell_type": "markdown",
            "id": "c3b6e2b5-78f6-4174-969f-2615fa22e635",
            "metadata": {
                "nteract": {
                    "transient": {
                        "deleting": false
                    }
                }
            },
            "source": [
                "First, install `SemPy` from PyPI using pip magic command:"
            ]
        },
        {
            "cell_type": "code",
            "execution_count": 2,
            "id": "b0c9d190-ad49-4049-a33f-64b65e95b680",
            "metadata": {
                "jupyter": {
                    "outputs_hidden": false,
                    "source_hidden": false
                },
                "nteract": {
                    "transient": {
                        "deleting": false
                    }
                }
            },
            "outputs": [
                {
                    "data": {
                        "application/vnd.livy.statement-meta+json": {
                            "execution_finish_time": "2023-08-30T06:56:21.5862779Z",
                            "execution_start_time": "2023-08-30T06:56:21.5861118Z",
                            "livy_statement_state": "available",
                            "parent_msg_id": "fde2cb5e-b665-4a43-96a7-78d6984299fc",
                            "queued_time": "2023-08-30T06:55:49.8322544Z",
                            "session_id": "9afa62c0-2f41-4e2f-beee-d9693947e160",
                            "session_start_time": null,
                            "spark_jobs": {
                                "jobs": [],
                                "limit": 20,
                                "numbers": {
                                    "FAILED": 0,
                                    "RUNNING": 0,
                                    "SUCCEEDED": 0,
                                    "UNKNOWN": 0
                                },
                                "rule": "ALL_DESC"
                            },
                            "spark_pool": null,
                            "state": "finished",
                            "statement_id": -1
                        },
                        "text/plain": [
                            "StatementMeta(, 9afa62c0-2f41-4e2f-beee-d9693947e160, -1, Finished, Available)"
                        ]
                    },
                    "metadata": {},
                    "output_type": "display_data"
                },
                {
                    "data": {},
                    "execution_count": 2,
                    "metadata": {},
                    "output_type": "execute_result"
                },
                {
                    "name": "stdout",
                    "output_type": "stream",
                    "text": [
                        "Collecting semantic-link\n",
                        "  Downloading semantic_link-0.3.0-py3-none-any.whl (7.2 kB)\n",
                        "Collecting semantic-link-sempy==0.3.0\n",
                        "  Downloading semantic_link_sempy-0.3.0-py3-none-any.whl (2.8 MB)\n",
                        "\u001b[2K     \u001b[90m━━━━━━━━━━━━━━━━━━━━━━━━━━━━━━━━━━━━━━━━\u001b[0m \u001b[32m2.8/2.8 MB\u001b[0m \u001b[31m15.9 MB/s\u001b[0m eta \u001b[36m0:00:00\u001b[0m00:01\u001b[0m0:01\u001b[0m\n",
                        "\u001b[?25hCollecting semantic-link-functions-phonenumbers==0.3.0\n",
                        "  Downloading semantic_link_functions_phonenumbers-0.3.0-py3-none-any.whl (4.3 kB)\n",
                        "Collecting semantic-link-functions-validators==0.3.0\n",
                        "  Downloading semantic_link_functions_validators-0.3.0-py3-none-any.whl (4.7 kB)\n",
                        "Collecting semantic-link-functions-geopandas==0.3.0\n",
                        "  Downloading semantic_link_functions_geopandas-0.3.0-py3-none-any.whl (4.0 kB)\n",
                        "Collecting semantic-link-functions-holidays==0.3.0\n",
                        "  Downloading semantic_link_functions_holidays-0.3.0-py3-none-any.whl (4.2 kB)\n",
                        "Collecting semantic-link-functions-meteostat==0.3.0\n",
                        "  Downloading semantic_link_functions_meteostat-0.3.0-py3-none-any.whl (4.5 kB)\n",
                        "Collecting folium\n",
                        "  Downloading folium-0.14.0-py2.py3-none-any.whl (102 kB)\n",
                        "\u001b[2K     \u001b[90m━━━━━━━━━━━━━━━━━━━━━━━━━━━━━━━━━━━━━━\u001b[0m \u001b[32m102.3/102.3 kB\u001b[0m \u001b[31m41.1 MB/s\u001b[0m eta \u001b[36m0:00:00\u001b[0m\n",
                        "\u001b[?25hCollecting geopandas\n",
                        "  Downloading geopandas-0.13.2-py3-none-any.whl (1.1 MB)\n",
                        "\u001b[2K     \u001b[90m━━━━━━━━━━━━━━━━━━━━━━━━━━━━━━━━━━━━━━━━\u001b[0m \u001b[32m1.1/1.1 MB\u001b[0m \u001b[31m144.9 MB/s\u001b[0m eta \u001b[36m0:00:00\u001b[0m\n",
                        "\u001b[?25hCollecting mapclassify\n",
                        "  Downloading mapclassify-2.6.0-py3-none-any.whl (40 kB)\n",
                        "\u001b[2K     \u001b[90m━━━━━━━━━━━━━━━━━━━━━━━━━━━━━━━━━━━━━━━━\u001b[0m \u001b[32m40.8/40.8 kB\u001b[0m \u001b[31m21.6 MB/s\u001b[0m eta \u001b[36m0:00:00\u001b[0m\n",
                        "\u001b[?25hCollecting holidays\n",
                        "  Downloading holidays-0.31-py3-none-any.whl (754 kB)\n",
                        "\u001b[2K     \u001b[90m━━━━━━━━━━━━━━━━━━━━━━━━━━━━━━━━━━━━━\u001b[0m \u001b[32m754.3/754.3 kB\u001b[0m \u001b[31m142.1 MB/s\u001b[0m eta \u001b[36m0:00:00\u001b[0m\n",
                        "\u001b[?25hCollecting meteostat\n",
                        "  Downloading meteostat-1.6.5-py3-none-any.whl (31 kB)\n",
                        "Collecting phonenumbers\n",
                        "  Downloading phonenumbers-8.13.19-py2.py3-none-any.whl (2.6 MB)\n",
                        "\u001b[2K     \u001b[90m━━━━━━━━━━━━━━━━━━━━━━━━━━━━━━━━━━━━━━━━\u001b[0m \u001b[32m2.6/2.6 MB\u001b[0m \u001b[31m156.1 MB/s\u001b[0m eta \u001b[36m0:00:00\u001b[0m\n",
                        "\u001b[?25hCollecting validators\n",
                        "  Downloading validators-0.21.2-py3-none-any.whl (25 kB)\n",
                        "Requirement already satisfied: pythonnet==3.0.1 in /home/trusted-service-user/cluster-env/trident_env/lib/python3.10/site-packages (from semantic-link-sempy==0.3.0->semantic-link) (3.0.1)\n",
                        "Requirement already satisfied: clr-loader<0.3.0,>=0.2.2 in /home/trusted-service-user/cluster-env/trident_env/lib/python3.10/site-packages (from pythonnet==3.0.1->semantic-link-sempy==0.3.0->semantic-link) (0.2.6)\n",
                        "Requirement already satisfied: jinja2>=2.9 in /home/trusted-service-user/cluster-env/trident_env/lib/python3.10/site-packages (from folium->semantic-link-functions-geopandas==0.3.0->semantic-link) (3.1.2)\n",
                        "Collecting branca>=0.6.0\n",
                        "  Downloading branca-0.6.0-py3-none-any.whl (24 kB)\n",
                        "Requirement already satisfied: requests in /home/trusted-service-user/cluster-env/trident_env/lib/python3.10/site-packages (from folium->semantic-link-functions-geopandas==0.3.0->semantic-link) (2.28.2)\n",
                        "Requirement already satisfied: numpy in /home/trusted-service-user/cluster-env/trident_env/lib/python3.10/site-packages (from folium->semantic-link-functions-geopandas==0.3.0->semantic-link) (1.23.5)\n",
                        "Requirement already satisfied: packaging in /home/trusted-service-user/cluster-env/trident_env/lib/python3.10/site-packages (from geopandas->semantic-link-functions-geopandas==0.3.0->semantic-link) (22.0)\n",
                        "Collecting fiona>=1.8.19\n",
                        "  Downloading Fiona-1.9.4.post1-cp310-cp310-manylinux_2_17_x86_64.manylinux2014_x86_64.whl (16.4 MB)\n",
                        "\u001b[2K     \u001b[90m━━━━━━━━━━━━━━━━━━━━━━━━━━━━━━━━━━━━━━━━\u001b[0m \u001b[32m16.4/16.4 MB\u001b[0m \u001b[31m76.4 MB/s\u001b[0m eta \u001b[36m0:00:00\u001b[0m00:01\u001b[0m00:01\u001b[0m\n",
                        "\u001b[?25hRequirement already satisfied: pandas>=1.1.0 in /home/trusted-service-user/cluster-env/trident_env/lib/python3.10/site-packages (from geopandas->semantic-link-functions-geopandas==0.3.0->semantic-link) (1.5.3)\n",
                        "Collecting shapely>=1.7.1\n",
                        "  Downloading shapely-2.0.1-cp310-cp310-manylinux_2_17_x86_64.manylinux2014_x86_64.whl (2.3 MB)\n",
                        "\u001b[2K     \u001b[90m━━━━━━━━━━━━━━━━━━━━━━━━━━━━━━━━━━━━━━━━\u001b[0m \u001b[32m2.3/2.3 MB\u001b[0m \u001b[31m92.0 MB/s\u001b[0m eta \u001b[36m0:00:00\u001b[0m\n",
                        "\u001b[?25hCollecting pyproj>=3.0.1\n",
                        "  Downloading pyproj-3.6.0-cp310-cp310-manylinux_2_17_x86_64.manylinux2014_x86_64.whl (7.9 MB)\n",
                        "\u001b[2K     \u001b[90m━━━━━━━━━━━━━━━━━━━━━━━━━━━━━━━━━━━━━━━━\u001b[0m \u001b[32m7.9/7.9 MB\u001b[0m \u001b[31m99.3 MB/s\u001b[0m eta \u001b[36m0:00:00\u001b[0m:00:01\u001b[0m00:01\u001b[0m\n",
                        "\u001b[?25hRequirement already satisfied: python-dateutil in /home/trusted-service-user/cluster-env/trident_env/lib/python3.10/site-packages (from holidays->semantic-link-functions-holidays==0.3.0->semantic-link) (2.8.2)\n",
                        "Requirement already satisfied: scikit-learn in /home/trusted-service-user/cluster-env/trident_env/lib/python3.10/site-packages (from mapclassify->semantic-link-functions-geopandas==0.3.0->semantic-link) (1.2.0)\n",
                        "Collecting networkx\n",
                        "  Downloading networkx-3.1-py3-none-any.whl (2.1 MB)\n",
                        "\u001b[2K     \u001b[90m━━━━━━━━━━━━━━━━━━━━━━━━━━━━━━━━━━━━━━━━\u001b[0m \u001b[32m2.1/2.1 MB\u001b[0m \u001b[31m174.3 MB/s\u001b[0m eta \u001b[36m0:00:00\u001b[0m\n",
                        "\u001b[?25hRequirement already satisfied: scipy>=1.0 in /home/trusted-service-user/cluster-env/trident_env/lib/python3.10/site-packages (from mapclassify->semantic-link-functions-geopandas==0.3.0->semantic-link) (1.10.1)\n",
                        "Requirement already satisfied: pytz in /home/trusted-service-user/cluster-env/trident_env/lib/python3.10/site-packages (from meteostat->semantic-link-functions-meteostat==0.3.0->semantic-link) (2022.7.1)\n",
                        "Requirement already satisfied: cffi>=1.13 in /home/trusted-service-user/cluster-env/trident_env/lib/python3.10/site-packages (from clr-loader<0.3.0,>=0.2.2->pythonnet==3.0.1->semantic-link-sempy==0.3.0->semantic-link) (1.15.1)\n",
                        "Collecting click-plugins>=1.0\n",
                        "  Downloading click_plugins-1.1.1-py2.py3-none-any.whl (7.5 kB)\n",
                        "Requirement already satisfied: attrs>=19.2.0 in /home/trusted-service-user/cluster-env/trident_env/lib/python3.10/site-packages (from fiona>=1.8.19->geopandas->semantic-link-functions-geopandas==0.3.0->semantic-link) (22.2.0)\n",
                        "Requirement already satisfied: click~=8.0 in /home/trusted-service-user/cluster-env/trident_env/lib/python3.10/site-packages (from fiona>=1.8.19->geopandas->semantic-link-functions-geopandas==0.3.0->semantic-link) (8.1.3)\n",
                        "Requirement already satisfied: six in /home/trusted-service-user/cluster-env/trident_env/lib/python3.10/site-packages (from fiona>=1.8.19->geopandas->semantic-link-functions-geopandas==0.3.0->semantic-link) (1.16.0)\n",
                        "Requirement already satisfied: certifi in /home/trusted-service-user/cluster-env/trident_env/lib/python3.10/site-packages (from fiona>=1.8.19->geopandas->semantic-link-functions-geopandas==0.3.0->semantic-link) (2022.12.7)\n",
                        "Collecting cligj>=0.5\n",
                        "  Downloading cligj-0.7.2-py3-none-any.whl (7.1 kB)\n",
                        "Requirement already satisfied: MarkupSafe>=2.0 in /home/trusted-service-user/cluster-env/trident_env/lib/python3.10/site-packages (from jinja2>=2.9->folium->semantic-link-functions-geopandas==0.3.0->semantic-link) (2.1.2)\n",
                        "Requirement already satisfied: charset-normalizer<4,>=2 in /home/trusted-service-user/cluster-env/trident_env/lib/python3.10/site-packages (from requests->folium->semantic-link-functions-geopandas==0.3.0->semantic-link) (2.1.1)\n",
                        "Requirement already satisfied: urllib3<1.27,>=1.21.1 in /home/trusted-service-user/cluster-env/trident_env/lib/python3.10/site-packages (from requests->folium->semantic-link-functions-geopandas==0.3.0->semantic-link) (1.26.14)\n",
                        "Requirement already satisfied: idna<4,>=2.5 in /home/trusted-service-user/cluster-env/trident_env/lib/python3.10/site-packages (from requests->folium->semantic-link-functions-geopandas==0.3.0->semantic-link) (3.4)\n",
                        "Requirement already satisfied: threadpoolctl>=2.0.0 in /home/trusted-service-user/cluster-env/trident_env/lib/python3.10/site-packages (from scikit-learn->mapclassify->semantic-link-functions-geopandas==0.3.0->semantic-link) (3.1.0)\n",
                        "Requirement already satisfied: joblib>=1.1.1 in /home/trusted-service-user/cluster-env/trident_env/lib/python3.10/site-packages (from scikit-learn->mapclassify->semantic-link-functions-geopandas==0.3.0->semantic-link) (1.2.0)\n",
                        "Requirement already satisfied: pycparser in /home/trusted-service-user/cluster-env/trident_env/lib/python3.10/site-packages (from cffi>=1.13->clr-loader<0.3.0,>=0.2.2->pythonnet==3.0.1->semantic-link-sempy==0.3.0->semantic-link) (2.21)\n",
                        "Installing collected packages: phonenumbers, validators, shapely, pyproj, networkx, cligj, click-plugins, holidays, fiona, branca, meteostat, mapclassify, geopandas, folium, semantic-link-sempy, semantic-link-functions-validators, semantic-link-functions-phonenumbers, semantic-link-functions-meteostat, semantic-link-functions-holidays, semantic-link-functions-geopandas, semantic-link\n",
                        "Successfully installed branca-0.6.0 click-plugins-1.1.1 cligj-0.7.2 fiona-1.9.4.post1 folium-0.14.0 geopandas-0.13.2 holidays-0.31 mapclassify-2.6.0 meteostat-1.6.5 networkx-3.1 phonenumbers-8.13.19 pyproj-3.6.0 semantic-link-0.3.0 semantic-link-functions-geopandas-0.3.0 semantic-link-functions-holidays-0.3.0 semantic-link-functions-meteostat-0.3.0 semantic-link-functions-phonenumbers-0.3.0 semantic-link-functions-validators-0.3.0 semantic-link-sempy-0.3.0 shapely-2.0.1 validators-0.21.2\n",
                        "\n",
                        "\u001b[1m[\u001b[0m\u001b[34;49mnotice\u001b[0m\u001b[1;39;49m]\u001b[0m\u001b[39;49m A new release of pip is available: \u001b[0m\u001b[31;49m23.0\u001b[0m\u001b[39;49m -> \u001b[0m\u001b[32;49m23.2.1\u001b[0m\n",
                        "\u001b[1m[\u001b[0m\u001b[34;49mnotice\u001b[0m\u001b[1;39;49m]\u001b[0m\u001b[39;49m To update, run: \u001b[0m\u001b[32;49m/nfs4/pyenv-154c9fb6-48a9-4646-a02c-29344d3c978e/bin/python -m pip install --upgrade pip\u001b[0m\n",
                        "Note: you may need to restart the kernel to use updated packages.\n"
                    ]
                },
                {
                    "data": {},
                    "execution_count": 2,
                    "metadata": {},
                    "output_type": "execute_result"
                },
                {
                    "name": "stdout",
                    "output_type": "stream",
                    "text": [
                        "Warning: PySpark kernel has been restarted to use updated packages.\n",
                        "\n"
                    ]
                }
            ],
            "source": [
                "%pip install semantic-link"
            ]
        },
        {
            "cell_type": "markdown",
            "id": "e46fe955-0443-4574-89a3-03113b635a7f",
            "metadata": {
                "nteract": {
                    "transient": {
                        "deleting": false
                    }
                }
            },
            "source": [
                "Then, perform necessary imports of modules that you'll need later on:"
            ]
        },
        {
            "cell_type": "code",
            "execution_count": 3,
            "id": "7dc385b5-4a3c-45e2-a4cd-354d63d9d5b3",
            "metadata": {},
            "outputs": [
                {
                    "data": {
                        "application/vnd.livy.statement-meta+json": {
                            "execution_finish_time": "2023-08-30T06:58:44.9427182Z",
                            "execution_start_time": "2023-08-30T06:58:38.3018422Z",
                            "livy_statement_state": "available",
                            "parent_msg_id": "a68cf3ca-0c27-498d-bcb1-47c5a8263ba4",
                            "queued_time": "2023-08-30T06:58:34.6126075Z",
                            "session_id": "9afa62c0-2f41-4e2f-beee-d9693947e160",
                            "session_start_time": null,
                            "spark_jobs": {
                                "jobs": [],
                                "limit": 20,
                                "numbers": {
                                    "FAILED": 0,
                                    "RUNNING": 0,
                                    "SUCCEEDED": 0,
                                    "UNKNOWN": 0
                                },
                                "rule": "ALL_DESC"
                            },
                            "spark_pool": null,
                            "state": "finished",
                            "statement_id": 12
                        },
                        "text/plain": [
                            "StatementMeta(, 9afa62c0-2f41-4e2f-beee-d9693947e160, 12, Finished, Available)"
                        ]
                    },
                    "metadata": {},
                    "output_type": "display_data"
                }
            ],
            "source": [
                "import pandas as pd\n",
                "import sempy.fabric as fabric\n",
                "from sempy.fabric import FabricDataFrame\n",
                "from sempy.dependencies import plot_dependency_metadata\n",
                "from sempy.samples import download_synthea"
            ]
        },
        {
            "cell_type": "markdown",
            "id": "bc4d430b-f8a2-4563-a778-c8837a7eab4b",
            "metadata": {
                "nteract": {
                    "transient": {
                        "deleting": false
                    }
                }
            },
            "source": [
                "Lastly, pull the sample data - for this tutorial, you'll use the SYNTHEA dataset of synthetic medical records (small version for simplicity):"
            ]
        },
        {
            "cell_type": "code",
            "execution_count": 4,
            "id": "fd0b4e0f",
            "metadata": {},
            "outputs": [
                {
                    "data": {
                        "application/vnd.livy.statement-meta+json": {
                            "execution_finish_time": "2023-08-30T06:58:47.9280901Z",
                            "execution_start_time": "2023-08-30T06:58:45.319433Z",
                            "livy_statement_state": "available",
                            "parent_msg_id": "2fd3f78b-4bc3-42b8-8170-17d6f6a83c64",
                            "queued_time": "2023-08-30T06:58:37.3236845Z",
                            "session_id": "9afa62c0-2f41-4e2f-beee-d9693947e160",
                            "session_start_time": null,
                            "spark_jobs": {
                                "jobs": [],
                                "limit": 20,
                                "numbers": {
                                    "FAILED": 0,
                                    "RUNNING": 0,
                                    "SUCCEEDED": 0,
                                    "UNKNOWN": 0
                                },
                                "rule": "ALL_DESC"
                            },
                            "spark_pool": null,
                            "state": "finished",
                            "statement_id": 13
                        },
                        "text/plain": [
                            "StatementMeta(, 9afa62c0-2f41-4e2f-beee-d9693947e160, 13, Finished, Available)"
                        ]
                    },
                    "metadata": {},
                    "output_type": "display_data"
                },
                {
                    "data": {
                        "text/plain": [
                            "'abfss://1895b289-58e6-4ccb-8548-b5ef3dc312b3@msit-onelake.dfs.fabric.microsoft.com/11631641-5456-4f90-90b3-431e0cf03650/Files/synthea/csv'"
                        ]
                    },
                    "execution_count": 10,
                    "metadata": {},
                    "output_type": "execute_result"
                }
            ],
            "source": [
                "download_synthea(which='small')"
            ]
        },
        {
            "cell_type": "markdown",
            "id": "ca06eeaf-4229-48ba-952d-3d5f66880fa7",
            "metadata": {
                "nteract": {
                    "transient": {
                        "deleting": false
                    }
                }
            },
            "source": [
                "## Explore data"
            ]
        },
        {
            "cell_type": "markdown",
            "id": "c829af0a-f265-4d84-81c7-731af1febb4c",
            "metadata": {},
            "source": [
                "Initialize a ``FabricDataFrame`` with the dataframe corresponding to 'providers':"
            ]
        },
        {
            "cell_type": "code",
            "execution_count": 5,
            "id": "ee0516c6-0259-4b8c-ae2a-fe18a701d02f",
            "metadata": {},
            "outputs": [
                {
                    "data": {
                        "application/vnd.livy.statement-meta+json": {
                            "execution_finish_time": "2023-08-30T06:59:05.7872548Z",
                            "execution_start_time": "2023-08-30T06:59:04.8525709Z",
                            "livy_statement_state": "available",
                            "parent_msg_id": "334beae8-c7b5-47a3-936f-e66644ac0f9f",
                            "queued_time": "2023-08-30T06:59:04.4980287Z",
                            "session_id": "9afa62c0-2f41-4e2f-beee-d9693947e160",
                            "session_start_time": null,
                            "spark_jobs": {
                                "jobs": [],
                                "limit": 20,
                                "numbers": {
                                    "FAILED": 0,
                                    "RUNNING": 0,
                                    "SUCCEEDED": 0,
                                    "UNKNOWN": 0
                                },
                                "rule": "ALL_DESC"
                            },
                            "spark_pool": null,
                            "state": "finished",
                            "statement_id": 14
                        },
                        "text/plain": [
                            "StatementMeta(, 9afa62c0-2f41-4e2f-beee-d9693947e160, 14, Finished, Available)"
                        ]
                    },
                    "metadata": {},
                    "output_type": "display_data"
                },
                {
                    "data": {
                        "text/html": [
                            "<div>\n",
                            "<style scoped>\n",
                            "    .dataframe tbody tr th:only-of-type {\n",
                            "        vertical-align: middle;\n",
                            "    }\n",
                            "\n",
                            "    .dataframe tbody tr th {\n",
                            "        vertical-align: top;\n",
                            "    }\n",
                            "\n",
                            "    .dataframe thead th {\n",
                            "        text-align: right;\n",
                            "    }\n",
                            "</style>\n",
                            "<table border=\"1\" class=\"dataframe\">\n",
                            "  <thead>\n",
                            "    <tr style=\"text-align: right;\">\n",
                            "      <th></th>\n",
                            "      <th>Id</th>\n",
                            "      <th>ORGANIZATION</th>\n",
                            "      <th>NAME</th>\n",
                            "      <th>GENDER</th>\n",
                            "      <th>SPECIALITY</th>\n",
                            "      <th>ADDRESS</th>\n",
                            "      <th>CITY</th>\n",
                            "      <th>STATE</th>\n",
                            "      <th>ZIP</th>\n",
                            "      <th>LAT</th>\n",
                            "      <th>LON</th>\n",
                            "      <th>UTILIZATION</th>\n",
                            "    </tr>\n",
                            "  </thead>\n",
                            "  <tbody>\n",
                            "    <tr>\n",
                            "      <th>0</th>\n",
                            "      <td>3421aa75-dec7-378d-a9e0-0bc764e4cb0d</td>\n",
                            "      <td>ef58ea08-d883-3957-8300-150554edc8fb</td>\n",
                            "      <td>Tomas436 Sauer652</td>\n",
                            "      <td>M</td>\n",
                            "      <td>GENERAL PRACTICE</td>\n",
                            "      <td>60 HOSPITAL ROAD</td>\n",
                            "      <td>LEOMINSTER</td>\n",
                            "      <td>MA</td>\n",
                            "      <td>01453</td>\n",
                            "      <td>42.520838</td>\n",
                            "      <td>-71.770876</td>\n",
                            "      <td>1557</td>\n",
                            "    </tr>\n",
                            "    <tr>\n",
                            "      <th>1</th>\n",
                            "      <td>c9b3c857-2e24-320c-a79a-87b8a60de63c</td>\n",
                            "      <td>69176529-fd1f-3b3f-abce-a0a3626769eb</td>\n",
                            "      <td>Suzette512 Monahan736</td>\n",
                            "      <td>F</td>\n",
                            "      <td>GENERAL PRACTICE</td>\n",
                            "      <td>330 MOUNT AUBURN STREET</td>\n",
                            "      <td>CAMBRIDGE</td>\n",
                            "      <td>MA</td>\n",
                            "      <td>02138</td>\n",
                            "      <td>42.375967</td>\n",
                            "      <td>-71.118275</td>\n",
                            "      <td>2296</td>\n",
                            "    </tr>\n",
                            "    <tr>\n",
                            "      <th>2</th>\n",
                            "      <td>0359f968-d1a6-30eb-b1cc-e6cc0b4d3513</td>\n",
                            "      <td>5e765f2b-e908-3888-9fc7-df2cb87beb58</td>\n",
                            "      <td>Gaynell126 Streich926</td>\n",
                            "      <td>F</td>\n",
                            "      <td>GENERAL PRACTICE</td>\n",
                            "      <td>211 PARK STREET</td>\n",
                            "      <td>ATTLEBORO</td>\n",
                            "      <td>MA</td>\n",
                            "      <td>02703</td>\n",
                            "      <td>41.931653</td>\n",
                            "      <td>-71.294503</td>\n",
                            "      <td>2287</td>\n",
                            "    </tr>\n",
                            "    <tr>\n",
                            "      <th>3</th>\n",
                            "      <td>446d1609-858f-3a54-8a52-0c4eacedd00e</td>\n",
                            "      <td>f1fbcbfb-fcfa-3bd2-b7f4-df20f1b3c3a4</td>\n",
                            "      <td>Patricia625 Salgado989</td>\n",
                            "      <td>F</td>\n",
                            "      <td>GENERAL PRACTICE</td>\n",
                            "      <td>ONE GENERAL STREET</td>\n",
                            "      <td>LAWRENCE</td>\n",
                            "      <td>MA</td>\n",
                            "      <td>01842</td>\n",
                            "      <td>42.700273</td>\n",
                            "      <td>-71.161357</td>\n",
                            "      <td>1327</td>\n",
                            "    </tr>\n",
                            "    <tr>\n",
                            "      <th>4</th>\n",
                            "      <td>e6283e46-fd81-3611-9459-0edb1c3da357</td>\n",
                            "      <td>e002090d-4e92-300e-b41e-7d1f21dee4c6</td>\n",
                            "      <td>Jeanmarie510 Beatty507</td>\n",
                            "      <td>F</td>\n",
                            "      <td>GENERAL PRACTICE</td>\n",
                            "      <td>1493 CAMBRIDGE STREET</td>\n",
                            "      <td>CAMBRIDGE</td>\n",
                            "      <td>MA</td>\n",
                            "      <td>02138</td>\n",
                            "      <td>42.375967</td>\n",
                            "      <td>-71.118275</td>\n",
                            "      <td>3199</td>\n",
                            "    </tr>\n",
                            "  </tbody>\n",
                            "</table>\n",
                            "</div>"
                        ],
                        "text/plain": [
                            "                                     Id                          ORGANIZATION  \\\n",
                            "0  3421aa75-dec7-378d-a9e0-0bc764e4cb0d  ef58ea08-d883-3957-8300-150554edc8fb   \n",
                            "1  c9b3c857-2e24-320c-a79a-87b8a60de63c  69176529-fd1f-3b3f-abce-a0a3626769eb   \n",
                            "2  0359f968-d1a6-30eb-b1cc-e6cc0b4d3513  5e765f2b-e908-3888-9fc7-df2cb87beb58   \n",
                            "3  446d1609-858f-3a54-8a52-0c4eacedd00e  f1fbcbfb-fcfa-3bd2-b7f4-df20f1b3c3a4   \n",
                            "4  e6283e46-fd81-3611-9459-0edb1c3da357  e002090d-4e92-300e-b41e-7d1f21dee4c6   \n",
                            "\n",
                            "                     NAME GENDER        SPECIALITY                  ADDRESS  \\\n",
                            "0       Tomas436 Sauer652      M  GENERAL PRACTICE         60 HOSPITAL ROAD   \n",
                            "1   Suzette512 Monahan736      F  GENERAL PRACTICE  330 MOUNT AUBURN STREET   \n",
                            "2   Gaynell126 Streich926      F  GENERAL PRACTICE          211 PARK STREET   \n",
                            "3  Patricia625 Salgado989      F  GENERAL PRACTICE       ONE GENERAL STREET   \n",
                            "4  Jeanmarie510 Beatty507      F  GENERAL PRACTICE    1493 CAMBRIDGE STREET   \n",
                            "\n",
                            "         CITY STATE    ZIP        LAT        LON  UTILIZATION  \n",
                            "0  LEOMINSTER    MA  01453  42.520838 -71.770876         1557  \n",
                            "1   CAMBRIDGE    MA  02138  42.375967 -71.118275         2296  \n",
                            "2   ATTLEBORO    MA  02703  41.931653 -71.294503         2287  \n",
                            "3    LAWRENCE    MA  01842  42.700273 -71.161357         1327  \n",
                            "4   CAMBRIDGE    MA  02138  42.375967 -71.118275         3199  "
                        ]
                    },
                    "execution_count": 13,
                    "metadata": {},
                    "output_type": "execute_result"
                }
            ],
            "source": [
                "providers = FabricDataFrame(pd.read_csv(\"synthea/csv/providers.csv\"))\n",
                "providers.head()"
            ]
        },
        {
            "cell_type": "markdown",
            "id": "b8004832-e739-459e-90aa-c5f016d596c7",
            "metadata": {
                "nteract": {
                    "transient": {
                        "deleting": false
                    }
                }
            },
            "source": [
                "To check for data quality issues with SemPy's ``find_dependencies`` function, plot a graph of auto-detected functional dependencies:"
            ]
        },
        {
            "cell_type": "code",
            "execution_count": 6,
            "id": "0d204c6b-79e3-4224-af67-96c4a948a4fe",
            "metadata": {},
            "outputs": [
                {
                    "data": {
                        "application/vnd.livy.statement-meta+json": {
                            "execution_finish_time": "2023-08-30T07:00:46.7479857Z",
                            "execution_start_time": "2023-08-30T07:00:45.8194311Z",
                            "livy_statement_state": "available",
                            "parent_msg_id": "ff561c38-26ad-4556-899a-5b6afc8eb6b7",
                            "queued_time": "2023-08-30T07:00:45.3355437Z",
                            "session_id": "9afa62c0-2f41-4e2f-beee-d9693947e160",
                            "session_start_time": null,
                            "spark_jobs": {
                                "jobs": [],
                                "limit": 20,
                                "numbers": {
                                    "FAILED": 0,
                                    "RUNNING": 0,
                                    "SUCCEEDED": 0,
                                    "UNKNOWN": 0
                                },
                                "rule": "ALL_DESC"
                            },
                            "spark_pool": null,
                            "state": "finished",
                            "statement_id": 15
                        },
                        "text/plain": [
                            "StatementMeta(, 9afa62c0-2f41-4e2f-beee-d9693947e160, 15, Finished, Available)"
                        ]
                    },
                    "metadata": {},
                    "output_type": "display_data"
                },
                {
                    "data": {
                        "image/svg+xml": [
                            "<?xml version=\"1.0\" encoding=\"UTF-8\" standalone=\"no\"?>\n",
                            "<!DOCTYPE svg PUBLIC \"-//W3C//DTD SVG 1.1//EN\"\n",
                            " \"http://www.w3.org/Graphics/SVG/1.1/DTD/svg11.dtd\">\n",
                            "<!-- Generated by graphviz version 2.50.0 (20220708.1628)\n",
                            " -->\n",
                            "<!-- Pages: 1 -->\n",
                            "<svg width=\"612pt\" height=\"404pt\"\n",
                            " viewBox=\"0.00 0.00 612.00 404.00\" xmlns=\"http://www.w3.org/2000/svg\" xmlns:xlink=\"http://www.w3.org/1999/xlink\">\n",
                            "<g id=\"graph0\" class=\"graph\" transform=\"scale(1 1) rotate(0) translate(4 400)\">\n",
                            "<polygon fill=\"white\" stroke=\"transparent\" points=\"-4,4 -4,-400 608,-400 608,4 -4,4\"/>\n",
                            "<!-- 0 -->\n",
                            "<g id=\"node1\" class=\"node\">\n",
                            "<title>0</title>\n",
                            "<polygon fill=\"none\" stroke=\"black\" points=\"213,-367 213,-388 235,-388 235,-367 213,-367\"/>\n",
                            "<text text-anchor=\"start\" x=\"216\" y=\"-373.8\" font-family=\"Times,serif\" font-size=\"14.00\">Id</text>\n",
                            "</g>\n",
                            "<!-- 1 -->\n",
                            "<g id=\"node2\" class=\"node\">\n",
                            "<title>1</title>\n",
                            "<polygon fill=\"none\" stroke=\"black\" points=\"197,-295 197,-316 252,-316 252,-295 197,-295\"/>\n",
                            "<text text-anchor=\"start\" x=\"200\" y=\"-301.8\" font-family=\"Times,serif\" font-size=\"14.00\">NAME</text>\n",
                            "</g>\n",
                            "<!-- 0&#45;&gt;1 -->\n",
                            "<g id=\"edge1\" class=\"edge\">\n",
                            "<title>0&#45;&gt;1</title>\n",
                            "<path fill=\"none\" stroke=\"black\" d=\"M224,-359.7C224,-351.98 224,-342.71 224,-334.11\"/>\n",
                            "<polygon fill=\"black\" stroke=\"black\" points=\"227.5,-334.1 224,-324.1 220.5,-334.1 227.5,-334.1\"/>\n",
                            "</g>\n",
                            "<!-- 2 -->\n",
                            "<g id=\"node3\" class=\"node\">\n",
                            "<title>2</title>\n",
                            "<polygon fill=\"none\" stroke=\"black\" points=\"381,-295 381,-316 511,-316 511,-295 381,-295\"/>\n",
                            "<text text-anchor=\"start\" x=\"384\" y=\"-301.8\" font-family=\"Times,serif\" font-size=\"14.00\">ORGANIZATION</text>\n",
                            "</g>\n",
                            "<!-- 0&#45;&gt;2 -->\n",
                            "<g id=\"edge2\" class=\"edge\">\n",
                            "<title>0&#45;&gt;2</title>\n",
                            "<path fill=\"none\" stroke=\"black\" d=\"M251.22,-368.42C283.62,-358.2 338.79,-340.81 382.16,-327.13\"/>\n",
                            "<polygon fill=\"black\" stroke=\"black\" points=\"383.3,-330.44 391.78,-324.1 381.19,-323.77 383.3,-330.44\"/>\n",
                            "</g>\n",
                            "<!-- 3 -->\n",
                            "<g id=\"node4\" class=\"node\">\n",
                            "<title>3</title>\n",
                            "<polygon fill=\"none\" stroke=\"black\" points=\"8,-79 8,-100 118,-100 118,-79 8,-79\"/>\n",
                            "<text text-anchor=\"start\" x=\"11\" y=\"-85.8\" font-family=\"Times,serif\" font-size=\"14.00\">UTILIZATION</text>\n",
                            "</g>\n",
                            "<!-- 0&#45;&gt;3 -->\n",
                            "<g id=\"edge3\" class=\"edge\">\n",
                            "<title>0&#45;&gt;3</title>\n",
                            "<path fill=\"none\" stroke=\"black\" d=\"M196.96,-364.19C160.74,-345.35 97.89,-306.43 71,-252 49.75,-208.98 53.37,-151.37 58.09,-118.01\"/>\n",
                            "<polygon fill=\"black\" stroke=\"black\" points=\"61.55,-118.5 59.63,-108.08 54.64,-117.43 61.55,-118.5\"/>\n",
                            "</g>\n",
                            "<!-- 4 -->\n",
                            "<g id=\"node5\" class=\"node\">\n",
                            "<title>4</title>\n",
                            "<polygon fill=\"none\" stroke=\"black\" points=\"88,-223 88,-244 188,-244 188,-223 88,-223\"/>\n",
                            "<text text-anchor=\"start\" x=\"91\" y=\"-229.8\" font-family=\"Times,serif\" font-size=\"14.00\">SPECIALITY</text>\n",
                            "</g>\n",
                            "<!-- 0&#45;&gt;4 -->\n",
                            "<g id=\"edge4\" class=\"edge\">\n",
                            "<title>0&#45;&gt;4</title>\n",
                            "<path fill=\"none\" stroke=\"black\" d=\"M207.3,-359.8C198.21,-349.86 187.18,-336.82 179,-324 166.34,-304.15 155.39,-279.76 147.99,-261.53\"/>\n",
                            "<polygon fill=\"black\" stroke=\"black\" points=\"151.2,-260.12 144.27,-252.11 144.69,-262.69 151.2,-260.12\"/>\n",
                            "</g>\n",
                            "<!-- 5 -->\n",
                            "<g id=\"node6\" class=\"node\">\n",
                            "<title>5</title>\n",
                            "<polygon fill=\"none\" stroke=\"black\" points=\"261,-223 261,-244 334,-244 334,-223 261,-223\"/>\n",
                            "<text text-anchor=\"start\" x=\"264\" y=\"-229.8\" font-family=\"Times,serif\" font-size=\"14.00\">GENDER</text>\n",
                            "</g>\n",
                            "<!-- 0&#45;&gt;5 -->\n",
                            "<g id=\"edge5\" class=\"edge\">\n",
                            "<title>0&#45;&gt;5</title>\n",
                            "<path fill=\"none\" stroke=\"black\" d=\"M241.32,-359.62C250.29,-349.83 260.84,-336.99 268,-324 278.76,-304.49 286.31,-280.35 291.01,-262.14\"/>\n",
                            "<polygon fill=\"black\" stroke=\"black\" points=\"294.47,-262.72 293.44,-252.18 287.67,-261.06 294.47,-262.72\"/>\n",
                            "</g>\n",
                            "<!-- 1&#45;&gt;4 -->\n",
                            "<g id=\"edge6\" class=\"edge\">\n",
                            "<title>1&#45;&gt;4</title>\n",
                            "<path fill=\"none\" stroke=\"black\" stroke-dasharray=\"5,2\" d=\"M202.74,-287.7C191.91,-278.88 178.58,-268.03 166.84,-258.47\"/>\n",
                            "<polygon fill=\"black\" stroke=\"black\" points=\"168.98,-255.7 159.01,-252.1 164.56,-261.13 168.98,-255.7\"/>\n",
                            "</g>\n",
                            "<!-- 1&#45;&gt;5 -->\n",
                            "<g id=\"edge7\" class=\"edge\">\n",
                            "<title>1&#45;&gt;5</title>\n",
                            "<path fill=\"none\" stroke=\"black\" stroke-dasharray=\"5,2\" d=\"M242.04,-287.7C251.06,-279.05 262.12,-268.45 271.94,-259.03\"/>\n",
                            "<polygon fill=\"black\" stroke=\"black\" points=\"274.37,-261.55 279.16,-252.1 269.52,-256.5 274.37,-261.55\"/>\n",
                            "</g>\n",
                            "<!-- 6 -->\n",
                            "<g id=\"node7\" class=\"node\">\n",
                            "<title>6</title>\n",
                            "<polygon fill=\"none\" stroke=\"black\" points=\"305,-7 305,-28 360,-28 360,-7 305,-7\"/>\n",
                            "<text text-anchor=\"start\" x=\"308\" y=\"-13.8\" font-family=\"Times,serif\" font-size=\"14.00\">STATE</text>\n",
                            "</g>\n",
                            "<!-- 1&#45;&gt;6 -->\n",
                            "<g id=\"edge8\" class=\"edge\">\n",
                            "<title>1&#45;&gt;6</title>\n",
                            "<path fill=\"none\" stroke=\"black\" d=\"M226.52,-287.98C229.46,-269.86 234.96,-240.47 243,-216 263.8,-152.67 298.58,-82.38 317.93,-45.28\"/>\n",
                            "<polygon fill=\"black\" stroke=\"black\" points=\"321.17,-46.64 322.73,-36.16 314.98,-43.38 321.17,-46.64\"/>\n",
                            "</g>\n",
                            "<!-- 7 -->\n",
                            "<g id=\"node8\" class=\"node\">\n",
                            "<title>7</title>\n",
                            "<polygon fill=\"none\" stroke=\"black\" points=\"406,-223 406,-244 486,-244 486,-223 406,-223\"/>\n",
                            "<text text-anchor=\"start\" x=\"409\" y=\"-229.8\" font-family=\"Times,serif\" font-size=\"14.00\">ADDRESS</text>\n",
                            "</g>\n",
                            "<!-- 2&#45;&gt;7 -->\n",
                            "<g id=\"edge9\" class=\"edge\">\n",
                            "<title>2&#45;&gt;7</title>\n",
                            "<path fill=\"none\" stroke=\"black\" d=\"M446,-287.7C446,-279.98 446,-270.71 446,-262.11\"/>\n",
                            "<polygon fill=\"black\" stroke=\"black\" points=\"449.5,-262.1 446,-252.1 442.5,-262.1 449.5,-262.1\"/>\n",
                            "</g>\n",
                            "<!-- 8 -->\n",
                            "<g id=\"node9\" class=\"node\">\n",
                            "<title>8</title>\n",
                            "<polygon fill=\"none\" stroke=\"black\" points=\"561,-223 561,-244 593,-244 593,-223 561,-223\"/>\n",
                            "<text text-anchor=\"start\" x=\"564\" y=\"-229.8\" font-family=\"Times,serif\" font-size=\"14.00\">ZIP</text>\n",
                            "</g>\n",
                            "<!-- 2&#45;&gt;8 -->\n",
                            "<g id=\"edge10\" class=\"edge\">\n",
                            "<title>2&#45;&gt;8</title>\n",
                            "<path fill=\"none\" stroke=\"black\" d=\"M478.05,-287.88C497.01,-277.74 521.09,-264.88 540.74,-254.37\"/>\n",
                            "<polygon fill=\"black\" stroke=\"black\" points=\"542.54,-257.38 549.71,-249.58 539.24,-251.21 542.54,-257.38\"/>\n",
                            "</g>\n",
                            "<!-- 9 -->\n",
                            "<g id=\"node10\" class=\"node\">\n",
                            "<title>9</title>\n",
                            "<polygon fill=\"none\" stroke=\"black\" points=\"497,-151 497,-172 538,-172 538,-151 497,-151\"/>\n",
                            "<text text-anchor=\"start\" x=\"500\" y=\"-157.8\" font-family=\"Times,serif\" font-size=\"14.00\">LON</text>\n",
                            "</g>\n",
                            "<!-- 2&#45;&gt;9 -->\n",
                            "<g id=\"edge11\" class=\"edge\">\n",
                            "<title>2&#45;&gt;9</title>\n",
                            "<path fill=\"none\" stroke=\"black\" d=\"M471.01,-287.91C482.6,-278.65 495.45,-266.2 503,-252 513.13,-232.95 516.41,-208.59 517.28,-190.18\"/>\n",
                            "<polygon fill=\"black\" stroke=\"black\" points=\"520.78,-190.19 517.55,-180.11 513.78,-190.01 520.78,-190.19\"/>\n",
                            "</g>\n",
                            "<!-- 10 -->\n",
                            "<g id=\"node11\" class=\"node\">\n",
                            "<title>10</title>\n",
                            "<polygon fill=\"none\" stroke=\"black\" points=\"343,-151 343,-172 386,-172 386,-151 343,-151\"/>\n",
                            "<text text-anchor=\"start\" x=\"346\" y=\"-157.8\" font-family=\"Times,serif\" font-size=\"14.00\">CITY</text>\n",
                            "</g>\n",
                            "<!-- 2&#45;&gt;10 -->\n",
                            "<g id=\"edge12\" class=\"edge\">\n",
                            "<title>2&#45;&gt;10</title>\n",
                            "<path fill=\"none\" stroke=\"black\" d=\"M422.27,-287.97C410.72,-278.56 397.52,-265.96 389,-252 377.47,-233.1 371.11,-208.73 367.69,-190.27\"/>\n",
                            "<polygon fill=\"black\" stroke=\"black\" points=\"371.1,-189.46 366,-180.17 364.2,-190.61 371.1,-189.46\"/>\n",
                            "</g>\n",
                            "<!-- 3&#45;&gt;6 -->\n",
                            "<g id=\"edge24\" class=\"edge\">\n",
                            "<title>3&#45;&gt;6</title>\n",
                            "<path fill=\"none\" stroke=\"black\" d=\"M126.07,-72.59C175.2,-59.8 242.23,-42.36 286.29,-30.89\"/>\n",
                            "<polygon fill=\"black\" stroke=\"black\" points=\"287.36,-34.23 296.15,-28.33 285.59,-27.46 287.36,-34.23\"/>\n",
                            "</g>\n",
                            "<!-- 4&#45;&gt;6 -->\n",
                            "<g id=\"edge25\" class=\"edge\">\n",
                            "<title>4&#45;&gt;6</title>\n",
                            "<path fill=\"none\" stroke=\"black\" d=\"M141.41,-215.6C148.6,-183.24 168.21,-113.35 210,-72 230.94,-51.28 261.31,-38.05 286.5,-29.99\"/>\n",
                            "<polygon fill=\"black\" stroke=\"black\" points=\"287.67,-33.29 296.23,-27.05 285.64,-26.59 287.67,-33.29\"/>\n",
                            "</g>\n",
                            "<!-- 5&#45;&gt;6 -->\n",
                            "<g id=\"edge26\" class=\"edge\">\n",
                            "<title>5&#45;&gt;6</title>\n",
                            "<path fill=\"none\" stroke=\"black\" d=\"M299.81,-215.85C305.87,-178.75 320.26,-90.81 327.57,-46.1\"/>\n",
                            "<polygon fill=\"black\" stroke=\"black\" points=\"331.02,-46.67 329.18,-36.23 324.11,-45.54 331.02,-46.67\"/>\n",
                            "</g>\n",
                            "<!-- 7&#45;&gt;6 -->\n",
                            "<g id=\"edge16\" class=\"edge\">\n",
                            "<title>7&#45;&gt;6</title>\n",
                            "<path fill=\"none\" stroke=\"black\" d=\"M437.81,-215.82C429.15,-197.8 414.97,-168.73 402,-144 384.99,-111.58 379.91,-103.93 362,-72 357.06,-63.2 351.64,-53.59 346.77,-45\"/>\n",
                            "<polygon fill=\"black\" stroke=\"black\" points=\"349.74,-43.14 341.76,-36.17 343.65,-46.59 349.74,-43.14\"/>\n",
                            "</g>\n",
                            "<!-- 7&#45;&gt;9 -->\n",
                            "<g id=\"edge13\" class=\"edge\">\n",
                            "<title>7&#45;&gt;9</title>\n",
                            "<path fill=\"none\" stroke=\"black\" stroke-dasharray=\"5,2\" d=\"M463.55,-215.7C472.23,-207.14 482.86,-196.66 492.35,-187.3\"/>\n",
                            "<polygon fill=\"black\" stroke=\"black\" points=\"494.99,-189.62 499.65,-180.1 490.07,-184.63 494.99,-189.62\"/>\n",
                            "</g>\n",
                            "<!-- 7&#45;&gt;10 -->\n",
                            "<g id=\"edge15\" class=\"edge\">\n",
                            "<title>7&#45;&gt;10</title>\n",
                            "<path fill=\"none\" stroke=\"black\" stroke-dasharray=\"5,2\" d=\"M425.73,-215.7C415.5,-206.97 402.94,-196.24 391.82,-186.75\"/>\n",
                            "<polygon fill=\"black\" stroke=\"black\" points=\"393.91,-183.94 384.04,-180.1 389.37,-189.26 393.91,-183.94\"/>\n",
                            "</g>\n",
                            "<!-- 11 -->\n",
                            "<g id=\"node12\" class=\"node\">\n",
                            "<title>11</title>\n",
                            "<polygon fill=\"none\" stroke=\"black\" points=\"479,-79 479,-100 515,-100 515,-79 479,-79\"/>\n",
                            "<text text-anchor=\"start\" x=\"482\" y=\"-85.8\" font-family=\"Times,serif\" font-size=\"14.00\">LAT</text>\n",
                            "</g>\n",
                            "<!-- 7&#45;&gt;11 -->\n",
                            "<g id=\"edge14\" class=\"edge\">\n",
                            "<title>7&#45;&gt;11</title>\n",
                            "<path fill=\"none\" stroke=\"black\" stroke-dasharray=\"5,2\" d=\"M452.15,-215.87C460.92,-191.46 477.09,-146.43 487.43,-117.64\"/>\n",
                            "<polygon fill=\"black\" stroke=\"black\" points=\"490.74,-118.78 490.83,-108.19 484.15,-116.42 490.74,-118.78\"/>\n",
                            "</g>\n",
                            "<!-- 8&#45;&gt;6 -->\n",
                            "<g id=\"edge20\" class=\"edge\">\n",
                            "<title>8&#45;&gt;6</title>\n",
                            "<path fill=\"none\" stroke=\"black\" d=\"M579.11,-215.9C580.79,-197.7 581.85,-168.24 575,-144 564.93,-108.35 562.49,-94.43 533,-72 487.53,-37.41 421.43,-25.33 377.61,-21.15\"/>\n",
                            "<polygon fill=\"black\" stroke=\"black\" points=\"377.78,-17.66 367.52,-20.29 377.18,-24.63 377.78,-17.66\"/>\n",
                            "</g>\n",
                            "<!-- 8&#45;&gt;9 -->\n",
                            "<g id=\"edge17\" class=\"edge\">\n",
                            "<title>8&#45;&gt;9</title>\n",
                            "<path fill=\"none\" stroke=\"black\" stroke-dasharray=\"5,2\" d=\"M562.17,-215.7C554.98,-207.3 546.2,-197.07 538.31,-187.86\"/>\n",
                            "<polygon fill=\"black\" stroke=\"black\" points=\"540.83,-185.42 531.66,-180.1 535.51,-189.97 540.83,-185.42\"/>\n",
                            "</g>\n",
                            "<!-- 8&#45;&gt;10 -->\n",
                            "<g id=\"edge19\" class=\"edge\">\n",
                            "<title>8&#45;&gt;10</title>\n",
                            "<path fill=\"none\" stroke=\"black\" stroke-dasharray=\"5,2\" d=\"M549.59,-223.99C512.45,-211.79 445.93,-189.92 403.43,-175.96\"/>\n",
                            "<polygon fill=\"black\" stroke=\"black\" points=\"404.29,-172.56 393.7,-172.76 402.11,-179.21 404.29,-172.56\"/>\n",
                            "</g>\n",
                            "<!-- 8&#45;&gt;11 -->\n",
                            "<g id=\"edge18\" class=\"edge\">\n",
                            "<title>8&#45;&gt;11</title>\n",
                            "<path fill=\"none\" stroke=\"black\" stroke-dasharray=\"5,2\" d=\"M575.72,-215.81C573.68,-197.02 568.42,-166.57 555,-144 548.47,-133.01 538.94,-122.96 529.49,-114.64\"/>\n",
                            "<polygon fill=\"black\" stroke=\"black\" points=\"531.55,-111.8 521.63,-108.07 527.06,-117.17 531.55,-111.8\"/>\n",
                            "</g>\n",
                            "<!-- 9&#45;&gt;11 -->\n",
                            "<g id=\"edge21\" class=\"edge\">\n",
                            "<title>9&#45;&gt;11</title>\n",
                            "<path fill=\"none\" stroke=\"black\" d=\"M512.06,-143.7C509.83,-135.9 507.15,-126.51 504.67,-117.83\"/>\n",
                            "<polygon fill=\"black\" stroke=\"black\" points=\"508,-116.76 501.89,-108.1 501.27,-118.68 508,-116.76\"/>\n",
                            "</g>\n",
                            "<!-- 10&#45;&gt;6 -->\n",
                            "<g id=\"edge23\" class=\"edge\">\n",
                            "<title>10&#45;&gt;6</title>\n",
                            "<path fill=\"none\" stroke=\"black\" d=\"M360.14,-143.87C354.66,-119.56 344.58,-74.82 338.09,-46.01\"/>\n",
                            "<polygon fill=\"black\" stroke=\"black\" points=\"341.49,-45.18 335.87,-36.19 334.66,-46.71 341.49,-45.18\"/>\n",
                            "</g>\n",
                            "<!-- 11&#45;&gt;6 -->\n",
                            "<g id=\"edge22\" class=\"edge\">\n",
                            "<title>11&#45;&gt;6</title>\n",
                            "<path fill=\"none\" stroke=\"black\" d=\"M469.75,-77.44C444.56,-66.75 406.65,-50.67 376.97,-38.08\"/>\n",
                            "<polygon fill=\"black\" stroke=\"black\" points=\"378.23,-34.81 367.65,-34.13 375.49,-41.25 378.23,-34.81\"/>\n",
                            "</g>\n",
                            "</g>\n",
                            "</svg>\n"
                        ],
                        "text/plain": [
                            "<graphviz.graphs.Digraph at 0x7fdc5a394040>"
                        ]
                    },
                    "execution_count": 16,
                    "metadata": {},
                    "output_type": "execute_result"
                }
            ],
            "source": [
                "deps = providers.find_dependencies()\n",
                "plot_dependency_metadata(deps)"
            ]
        },
        {
            "cell_type": "markdown",
            "id": "9823e09b-d4c8-44ef-9c76-df0a32235fc5",
            "metadata": {},
            "source": [
                "The graph of functional dependencies shows that **Id** determines **NAME** and  **ORGANIZATION** (indicated by the solid arrows), which makes sense, since **Id** is unique:"
            ]
        },
        {
            "cell_type": "code",
            "execution_count": 7,
            "id": "98ce329c-fccf-4308-94c4-bca08de3ab00",
            "metadata": {},
            "outputs": [
                {
                    "data": {
                        "application/vnd.livy.statement-meta+json": {
                            "execution_finish_time": "2023-08-30T07:11:59.9164715Z",
                            "execution_start_time": "2023-08-30T07:11:59.5733876Z",
                            "livy_statement_state": "available",
                            "parent_msg_id": "48fb6c4b-04d3-473f-a54d-75268188a554",
                            "queued_time": "2023-08-30T07:11:59.2731493Z",
                            "session_id": "9afa62c0-2f41-4e2f-beee-d9693947e160",
                            "session_start_time": null,
                            "spark_jobs": {
                                "jobs": [],
                                "limit": 20,
                                "numbers": {
                                    "FAILED": 0,
                                    "RUNNING": 0,
                                    "SUCCEEDED": 0,
                                    "UNKNOWN": 0
                                },
                                "rule": "ALL_DESC"
                            },
                            "spark_pool": null,
                            "state": "finished",
                            "statement_id": 16
                        },
                        "text/plain": [
                            "StatementMeta(, 9afa62c0-2f41-4e2f-beee-d9693947e160, 16, Finished, Available)"
                        ]
                    },
                    "metadata": {},
                    "output_type": "display_data"
                },
                {
                    "data": {
                        "text/plain": [
                            "True"
                        ]
                    },
                    "execution_count": 19,
                    "metadata": {},
                    "output_type": "execute_result"
                }
            ],
            "source": [
                "providers.Id.is_unique"
            ]
        },
        {
            "cell_type": "markdown",
            "id": "b85a6933-7986-421f-a8f7-a6dd4d40b914",
            "metadata": {
                "nteract": {
                    "transient": {
                        "deleting": false
                    }
                }
            },
            "source": [
                "## Analyze functional dependencies in depth"
            ]
        },
        {
            "cell_type": "markdown",
            "id": "9d0b6571-ab83-4c6e-8f06-23b0882329b2",
            "metadata": {},
            "source": [
                "The functional dependencies graph also shows that **ORGANIZATION** determines **ADDRESS** and **ZIP**, as expected. However, you might expect **ZIP** to also determine **CITY**, but the dashed arrow indicates that the dependency is only approximate, pointing towards a data quality issue.\n",
                "\n",
                "There are other peculiarities in the graph. For example, **NAME** does not determine **GENDER**, **Id**, **SPECIALITY** or **ORGANIZATION**. Each of these might be worth investigating.\n",
                "\n",
                "Take an in-depth look at the approximate relationship between **ZIP** and **CITY** by using SemPy's ``list_dependency_violations`` function to see a tabular list of violations:"
            ]
        },
        {
            "cell_type": "code",
            "execution_count": 8,
            "id": "f762a4d2-064f-4be8-98a6-6feacd7c395e",
            "metadata": {},
            "outputs": [
                {
                    "data": {
                        "application/vnd.livy.statement-meta+json": {
                            "execution_finish_time": "2023-08-30T07:12:06.3758432Z",
                            "execution_start_time": "2023-08-30T07:12:06.0527058Z",
                            "livy_statement_state": "available",
                            "parent_msg_id": "81c0e83a-fe51-4165-8e17-1188ab3ba979",
                            "queued_time": "2023-08-30T07:12:05.7425Z",
                            "session_id": "9afa62c0-2f41-4e2f-beee-d9693947e160",
                            "session_start_time": null,
                            "spark_jobs": {
                                "jobs": [],
                                "limit": 20,
                                "numbers": {
                                    "FAILED": 0,
                                    "RUNNING": 0,
                                    "SUCCEEDED": 0,
                                    "UNKNOWN": 0
                                },
                                "rule": "ALL_DESC"
                            },
                            "spark_pool": null,
                            "state": "finished",
                            "statement_id": 17
                        },
                        "text/plain": [
                            "StatementMeta(, 9afa62c0-2f41-4e2f-beee-d9693947e160, 17, Finished, Available)"
                        ]
                    },
                    "metadata": {},
                    "output_type": "display_data"
                },
                {
                    "data": {
                        "text/html": [
                            "<div>\n",
                            "<style scoped>\n",
                            "    .dataframe tbody tr th:only-of-type {\n",
                            "        vertical-align: middle;\n",
                            "    }\n",
                            "\n",
                            "    .dataframe tbody tr th {\n",
                            "        vertical-align: top;\n",
                            "    }\n",
                            "\n",
                            "    .dataframe thead th {\n",
                            "        text-align: right;\n",
                            "    }\n",
                            "</style>\n",
                            "<table border=\"1\" class=\"dataframe\">\n",
                            "  <thead>\n",
                            "    <tr style=\"text-align: right;\">\n",
                            "      <th></th>\n",
                            "      <th>ZIP</th>\n",
                            "      <th>CITY</th>\n",
                            "      <th>count</th>\n",
                            "    </tr>\n",
                            "  </thead>\n",
                            "  <tbody>\n",
                            "    <tr>\n",
                            "      <th>0</th>\n",
                            "      <td>02135-3514</td>\n",
                            "      <td>BOSTON</td>\n",
                            "      <td>53</td>\n",
                            "    </tr>\n",
                            "    <tr>\n",
                            "      <th>1</th>\n",
                            "      <td>02135-3514</td>\n",
                            "      <td>BRIGHTON</td>\n",
                            "      <td>2</td>\n",
                            "    </tr>\n",
                            "    <tr>\n",
                            "      <th>2</th>\n",
                            "      <td>02747-1262</td>\n",
                            "      <td>DARTMOUTH</td>\n",
                            "      <td>9</td>\n",
                            "    </tr>\n",
                            "    <tr>\n",
                            "      <th>3</th>\n",
                            "      <td>02747-1262</td>\n",
                            "      <td>NORTH DARTMOUTH</td>\n",
                            "      <td>1</td>\n",
                            "    </tr>\n",
                            "    <tr>\n",
                            "      <th>4</th>\n",
                            "      <td>01950</td>\n",
                            "      <td>NEWBURGPORT</td>\n",
                            "      <td>3</td>\n",
                            "    </tr>\n",
                            "    <tr>\n",
                            "      <th>5</th>\n",
                            "      <td>01950</td>\n",
                            "      <td>NEWBURYPORT</td>\n",
                            "      <td>1</td>\n",
                            "    </tr>\n",
                            "    <tr>\n",
                            "      <th>6</th>\n",
                            "      <td>02114</td>\n",
                            "      <td>BOSTON</td>\n",
                            "      <td>3</td>\n",
                            "    </tr>\n",
                            "    <tr>\n",
                            "      <th>7</th>\n",
                            "      <td>02114</td>\n",
                            "      <td>Boston</td>\n",
                            "      <td>1</td>\n",
                            "    </tr>\n",
                            "    <tr>\n",
                            "      <th>8</th>\n",
                            "      <td>02190-2314</td>\n",
                            "      <td>SOUTH WEYMOUTH</td>\n",
                            "      <td>3</td>\n",
                            "    </tr>\n",
                            "    <tr>\n",
                            "      <th>9</th>\n",
                            "      <td>02190-2314</td>\n",
                            "      <td>WEYMOUTH</td>\n",
                            "      <td>1</td>\n",
                            "    </tr>\n",
                            "    <tr>\n",
                            "      <th>10</th>\n",
                            "      <td>02668-1142</td>\n",
                            "      <td>W BARNSTABLE</td>\n",
                            "      <td>3</td>\n",
                            "    </tr>\n",
                            "    <tr>\n",
                            "      <th>11</th>\n",
                            "      <td>02668-1142</td>\n",
                            "      <td>WEST BARNSTABLE</td>\n",
                            "      <td>2</td>\n",
                            "    </tr>\n",
                            "    <tr>\n",
                            "      <th>12</th>\n",
                            "      <td>02747-2537</td>\n",
                            "      <td>DARTMOUTH</td>\n",
                            "      <td>3</td>\n",
                            "    </tr>\n",
                            "    <tr>\n",
                            "      <th>13</th>\n",
                            "      <td>02747-2537</td>\n",
                            "      <td>NORTH DARTMOUTH</td>\n",
                            "      <td>1</td>\n",
                            "    </tr>\n",
                            "    <tr>\n",
                            "      <th>14</th>\n",
                            "      <td>01104</td>\n",
                            "      <td>SPRINGFIELD</td>\n",
                            "      <td>2</td>\n",
                            "    </tr>\n",
                            "    <tr>\n",
                            "      <th>15</th>\n",
                            "      <td>01104</td>\n",
                            "      <td>Springfield</td>\n",
                            "      <td>1</td>\n",
                            "    </tr>\n",
                            "    <tr>\n",
                            "      <th>16</th>\n",
                            "      <td>01930</td>\n",
                            "      <td>GLOUCESTER</td>\n",
                            "      <td>2</td>\n",
                            "    </tr>\n",
                            "    <tr>\n",
                            "      <th>17</th>\n",
                            "      <td>01930</td>\n",
                            "      <td>Gloucester</td>\n",
                            "      <td>1</td>\n",
                            "    </tr>\n",
                            "    <tr>\n",
                            "      <th>18</th>\n",
                            "      <td>02169</td>\n",
                            "      <td>QUINCY</td>\n",
                            "      <td>2</td>\n",
                            "    </tr>\n",
                            "    <tr>\n",
                            "      <th>19</th>\n",
                            "      <td>02169</td>\n",
                            "      <td>Quincy</td>\n",
                            "      <td>1</td>\n",
                            "    </tr>\n",
                            "    <tr>\n",
                            "      <th>20</th>\n",
                            "      <td>02301</td>\n",
                            "      <td>Brockton</td>\n",
                            "      <td>2</td>\n",
                            "    </tr>\n",
                            "    <tr>\n",
                            "      <th>21</th>\n",
                            "      <td>02301</td>\n",
                            "      <td>BROCKTON</td>\n",
                            "      <td>1</td>\n",
                            "    </tr>\n",
                            "    <tr>\n",
                            "      <th>22</th>\n",
                            "      <td>02576-1208</td>\n",
                            "      <td>W WAREHAM</td>\n",
                            "      <td>2</td>\n",
                            "    </tr>\n",
                            "    <tr>\n",
                            "      <th>23</th>\n",
                            "      <td>02576-1208</td>\n",
                            "      <td>WEST WAREHAM</td>\n",
                            "      <td>1</td>\n",
                            "    </tr>\n",
                            "    <tr>\n",
                            "      <th>24</th>\n",
                            "      <td>01201</td>\n",
                            "      <td>PITTSFIELD</td>\n",
                            "      <td>1</td>\n",
                            "    </tr>\n",
                            "    <tr>\n",
                            "      <th>25</th>\n",
                            "      <td>01201</td>\n",
                            "      <td>PITTSFILED</td>\n",
                            "      <td>1</td>\n",
                            "    </tr>\n",
                            "    <tr>\n",
                            "      <th>26</th>\n",
                            "      <td>01605</td>\n",
                            "      <td>WORCESTER</td>\n",
                            "      <td>1</td>\n",
                            "    </tr>\n",
                            "    <tr>\n",
                            "      <th>27</th>\n",
                            "      <td>01605</td>\n",
                            "      <td>Worcester</td>\n",
                            "      <td>1</td>\n",
                            "    </tr>\n",
                            "    <tr>\n",
                            "      <th>28</th>\n",
                            "      <td>02130</td>\n",
                            "      <td>BOSTON</td>\n",
                            "      <td>1</td>\n",
                            "    </tr>\n",
                            "    <tr>\n",
                            "      <th>29</th>\n",
                            "      <td>02130</td>\n",
                            "      <td>Jamaica Plain</td>\n",
                            "      <td>1</td>\n",
                            "    </tr>\n",
                            "    <tr>\n",
                            "      <th>30</th>\n",
                            "      <td>02360</td>\n",
                            "      <td>PLYMOUTH</td>\n",
                            "      <td>1</td>\n",
                            "    </tr>\n",
                            "    <tr>\n",
                            "      <th>31</th>\n",
                            "      <td>02360</td>\n",
                            "      <td>Plymouth</td>\n",
                            "      <td>1</td>\n",
                            "    </tr>\n",
                            "    <tr>\n",
                            "      <th>32</th>\n",
                            "      <td>02601</td>\n",
                            "      <td>HYANNIS</td>\n",
                            "      <td>1</td>\n",
                            "    </tr>\n",
                            "    <tr>\n",
                            "      <th>33</th>\n",
                            "      <td>02601</td>\n",
                            "      <td>Hyannis</td>\n",
                            "      <td>1</td>\n",
                            "    </tr>\n",
                            "    <tr>\n",
                            "      <th>34</th>\n",
                            "      <td>02747-1242</td>\n",
                            "      <td>DARTMOUTH</td>\n",
                            "      <td>1</td>\n",
                            "    </tr>\n",
                            "    <tr>\n",
                            "      <th>35</th>\n",
                            "      <td>02747-1242</td>\n",
                            "      <td>NORTH DARTMOUTH</td>\n",
                            "      <td>1</td>\n",
                            "    </tr>\n",
                            "    <tr>\n",
                            "      <th>36</th>\n",
                            "      <td>2128</td>\n",
                            "      <td>BOSTON</td>\n",
                            "      <td>1</td>\n",
                            "    </tr>\n",
                            "    <tr>\n",
                            "      <th>37</th>\n",
                            "      <td>2128</td>\n",
                            "      <td>EAST BOSTON</td>\n",
                            "      <td>1</td>\n",
                            "    </tr>\n",
                            "  </tbody>\n",
                            "</table>\n",
                            "</div>"
                        ],
                        "text/plain": [
                            "           ZIP             CITY  count\n",
                            "0   02135-3514           BOSTON     53\n",
                            "1   02135-3514         BRIGHTON      2\n",
                            "2   02747-1262        DARTMOUTH      9\n",
                            "3   02747-1262  NORTH DARTMOUTH      1\n",
                            "4        01950      NEWBURGPORT      3\n",
                            "5        01950      NEWBURYPORT      1\n",
                            "6        02114           BOSTON      3\n",
                            "7        02114           Boston      1\n",
                            "8   02190-2314   SOUTH WEYMOUTH      3\n",
                            "9   02190-2314         WEYMOUTH      1\n",
                            "10  02668-1142     W BARNSTABLE      3\n",
                            "11  02668-1142  WEST BARNSTABLE      2\n",
                            "12  02747-2537        DARTMOUTH      3\n",
                            "13  02747-2537  NORTH DARTMOUTH      1\n",
                            "14       01104      SPRINGFIELD      2\n",
                            "15       01104      Springfield      1\n",
                            "16       01930       GLOUCESTER      2\n",
                            "17       01930       Gloucester      1\n",
                            "18       02169           QUINCY      2\n",
                            "19       02169           Quincy      1\n",
                            "20       02301         Brockton      2\n",
                            "21       02301         BROCKTON      1\n",
                            "22  02576-1208        W WAREHAM      2\n",
                            "23  02576-1208     WEST WAREHAM      1\n",
                            "24       01201       PITTSFIELD      1\n",
                            "25       01201       PITTSFILED      1\n",
                            "26       01605        WORCESTER      1\n",
                            "27       01605        Worcester      1\n",
                            "28       02130           BOSTON      1\n",
                            "29       02130    Jamaica Plain      1\n",
                            "30       02360         PLYMOUTH      1\n",
                            "31       02360         Plymouth      1\n",
                            "32       02601          HYANNIS      1\n",
                            "33       02601          Hyannis      1\n",
                            "34  02747-1242        DARTMOUTH      1\n",
                            "35  02747-1242  NORTH DARTMOUTH      1\n",
                            "36        2128           BOSTON      1\n",
                            "37        2128      EAST BOSTON      1"
                        ]
                    },
                    "execution_count": 22,
                    "metadata": {},
                    "output_type": "execute_result"
                }
            ],
            "source": [
                "providers.list_dependency_violations('ZIP', 'CITY')"
            ]
        },
        {
            "cell_type": "markdown",
            "id": "7dcb88ad-2989-4087-b7cb-e5566eb56dc5",
            "metadata": {},
            "source": [
                "If the number of violations is small, it may be helpful to draw a graph with SemPy's visualization function called ``plot_dependency_violations``:"
            ]
        },
        {
            "cell_type": "code",
            "execution_count": 9,
            "id": "e45c2a07-a876-4f47-ba3b-afa2041a5637",
            "metadata": {},
            "outputs": [
                {
                    "data": {
                        "application/vnd.livy.statement-meta+json": {
                            "execution_finish_time": "2023-08-30T07:13:03.1490586Z",
                            "execution_start_time": "2023-08-30T07:13:02.8145094Z",
                            "livy_statement_state": "available",
                            "parent_msg_id": "97540f70-6595-4779-baa0-d1d9b14ba858",
                            "queued_time": "2023-08-30T07:13:02.5114864Z",
                            "session_id": "9afa62c0-2f41-4e2f-beee-d9693947e160",
                            "session_start_time": null,
                            "spark_jobs": {
                                "jobs": [],
                                "limit": 20,
                                "numbers": {
                                    "FAILED": 0,
                                    "RUNNING": 0,
                                    "SUCCEEDED": 0,
                                    "UNKNOWN": 0
                                },
                                "rule": "ALL_DESC"
                            },
                            "spark_pool": null,
                            "state": "finished",
                            "statement_id": 18
                        },
                        "text/plain": [
                            "StatementMeta(, 9afa62c0-2f41-4e2f-beee-d9693947e160, 18, Finished, Available)"
                        ]
                    },
                    "metadata": {},
                    "output_type": "display_data"
                },
                {
                    "data": {
                        "image/svg+xml": [
                            "<?xml version=\"1.0\" encoding=\"UTF-8\" standalone=\"no\"?>\n",
                            "<!DOCTYPE svg PUBLIC \"-//W3C//DTD SVG 1.1//EN\"\n",
                            " \"http://www.w3.org/Graphics/SVG/1.1/DTD/svg11.dtd\">\n",
                            "<!-- Generated by graphviz version 2.50.0 (20220708.1628)\n",
                            " -->\n",
                            "<!-- Title: ZIP&#45;&gt;CITY Pages: 1 -->\n",
                            "<svg width=\"336pt\" height=\"1438pt\"\n",
                            " viewBox=\"0.00 0.00 336.00 1438.00\" xmlns=\"http://www.w3.org/2000/svg\" xmlns:xlink=\"http://www.w3.org/1999/xlink\">\n",
                            "<g id=\"graph0\" class=\"graph\" transform=\"scale(1 1) rotate(0) translate(4 1434)\">\n",
                            "<title>ZIP&#45;&gt;CITY</title>\n",
                            "<polygon fill=\"white\" stroke=\"transparent\" points=\"-4,4 -4,-1434 332,-1434 332,4 -4,4\"/>\n",
                            "<!-- title -->\n",
                            "<g id=\"node1\" class=\"node\">\n",
                            "<title>title</title>\n",
                            "<text text-anchor=\"middle\" x=\"55.5\" y=\"-6\" font-family=\"Times,serif\" font-size=\"20.00\">ZIP&#45;&gt;CITY</text>\n",
                            "</g>\n",
                            "<!-- 02135&#45;3514 -->\n",
                            "<g id=\"node2\" class=\"node\">\n",
                            "<title>02135&#45;3514</title>\n",
                            "<polygon fill=\"none\" stroke=\"black\" points=\"106.5,-174 4.5,-174 4.5,-138 106.5,-138 106.5,-174\"/>\n",
                            "<text text-anchor=\"middle\" x=\"55.5\" y=\"-152.3\" font-family=\"Times,serif\" font-size=\"14.00\">02135&#45;3514</text>\n",
                            "</g>\n",
                            "<!-- BOSTON -->\n",
                            "<g id=\"node3\" class=\"node\">\n",
                            "<title>BOSTON</title>\n",
                            "<polygon fill=\"none\" stroke=\"black\" points=\"278.5,-148 195.5,-148 195.5,-112 278.5,-112 278.5,-148\"/>\n",
                            "<text text-anchor=\"middle\" x=\"237\" y=\"-126.3\" font-family=\"Times,serif\" font-size=\"14.00\">BOSTON</text>\n",
                            "</g>\n",
                            "<!-- 02135&#45;3514&#45;&#45;BOSTON -->\n",
                            "<g id=\"edge1\" class=\"edge\">\n",
                            "<title>02135&#45;3514&#45;&#45;BOSTON</title>\n",
                            "<path fill=\"none\" stroke=\"black\" d=\"M106.63,-147.88C110.81,-147.23 114.98,-146.6 119,-146 144.35,-142.24 172.84,-138.34 195.36,-135.33\"/>\n",
                            "<text text-anchor=\"middle\" x=\"128.5\" y=\"-149.8\" font-family=\"Times,serif\" font-size=\"14.00\">53</text>\n",
                            "</g>\n",
                            "<!-- BRIGHTON -->\n",
                            "<g id=\"node4\" class=\"node\">\n",
                            "<title>BRIGHTON</title>\n",
                            "<polygon fill=\"none\" stroke=\"black\" points=\"288,-191 186,-191 186,-155 288,-155 288,-191\"/>\n",
                            "<text text-anchor=\"middle\" x=\"237\" y=\"-169.3\" font-family=\"Times,serif\" font-size=\"14.00\">BRIGHTON</text>\n",
                            "</g>\n",
                            "<!-- 02135&#45;3514&#45;&#45;BRIGHTON -->\n",
                            "<g id=\"edge2\" class=\"edge\">\n",
                            "<title>02135&#45;3514&#45;&#45;BRIGHTON</title>\n",
                            "<path fill=\"none\" stroke=\"black\" d=\"M106.5,-160.74C131.29,-163.08 161.16,-165.91 185.96,-168.26\"/>\n",
                            "<text text-anchor=\"middle\" x=\"128.5\" y=\"-167.8\" font-family=\"Times,serif\" font-size=\"14.00\">2</text>\n",
                            "</g>\n",
                            "<!-- 02747&#45;1262 -->\n",
                            "<g id=\"node5\" class=\"node\">\n",
                            "<title>02747&#45;1262</title>\n",
                            "<polygon fill=\"none\" stroke=\"black\" points=\"106.5,-338 4.5,-338 4.5,-302 106.5,-302 106.5,-338\"/>\n",
                            "<text text-anchor=\"middle\" x=\"55.5\" y=\"-316.3\" font-family=\"Times,serif\" font-size=\"14.00\">02747&#45;1262</text>\n",
                            "</g>\n",
                            "<!-- DARTMOUTH -->\n",
                            "<g id=\"node6\" class=\"node\">\n",
                            "<title>DARTMOUTH</title>\n",
                            "<polygon fill=\"none\" stroke=\"black\" points=\"296.5,-298 177.5,-298 177.5,-262 296.5,-262 296.5,-298\"/>\n",
                            "<text text-anchor=\"middle\" x=\"237\" y=\"-276.3\" font-family=\"Times,serif\" font-size=\"14.00\">DARTMOUTH</text>\n",
                            "</g>\n",
                            "<!-- 02747&#45;1262&#45;&#45;DARTMOUTH -->\n",
                            "<g id=\"edge3\" class=\"edge\">\n",
                            "<title>02747&#45;1262&#45;&#45;DARTMOUTH</title>\n",
                            "<path fill=\"none\" stroke=\"black\" d=\"M81.38,-301.92C92.35,-294.96 105.76,-287.79 119,-284 137.56,-278.69 158.46,-276.78 177.41,-276.46\"/>\n",
                            "<text text-anchor=\"middle\" x=\"128.5\" y=\"-287.8\" font-family=\"Times,serif\" font-size=\"14.00\">9</text>\n",
                            "</g>\n",
                            "<!-- NORTH DARTMOUTH -->\n",
                            "<g id=\"node7\" class=\"node\">\n",
                            "<title>NORTH DARTMOUTH</title>\n",
                            "<polygon fill=\"none\" stroke=\"black\" points=\"328,-352 146,-352 146,-316 328,-316 328,-352\"/>\n",
                            "<text text-anchor=\"middle\" x=\"237\" y=\"-330.3\" font-family=\"Times,serif\" font-size=\"14.00\">NORTH DARTMOUTH</text>\n",
                            "</g>\n",
                            "<!-- 02747&#45;1262&#45;&#45;NORTH DARTMOUTH -->\n",
                            "<g id=\"edge4\" class=\"edge\">\n",
                            "<title>02747&#45;1262&#45;&#45;NORTH DARTMOUTH</title>\n",
                            "<path fill=\"none\" stroke=\"black\" d=\"M106.5,-323.9C118.74,-324.85 132.22,-325.91 145.71,-326.96\"/>\n",
                            "<text text-anchor=\"middle\" x=\"128.5\" y=\"-330.8\" font-family=\"Times,serif\" font-size=\"14.00\">1</text>\n",
                            "</g>\n",
                            "<!-- 01950 -->\n",
                            "<g id=\"node8\" class=\"node\">\n",
                            "<title>01950</title>\n",
                            "<polygon fill=\"none\" stroke=\"black\" points=\"86.5,-449 24.5,-449 24.5,-413 86.5,-413 86.5,-449\"/>\n",
                            "<text text-anchor=\"middle\" x=\"55.5\" y=\"-427.3\" font-family=\"Times,serif\" font-size=\"14.00\">01950</text>\n",
                            "</g>\n",
                            "<!-- NEWBURGPORT -->\n",
                            "<g id=\"node9\" class=\"node\">\n",
                            "<title>NEWBURGPORT</title>\n",
                            "<polygon fill=\"none\" stroke=\"black\" points=\"307.5,-484 166.5,-484 166.5,-448 307.5,-448 307.5,-484\"/>\n",
                            "<text text-anchor=\"middle\" x=\"237\" y=\"-462.3\" font-family=\"Times,serif\" font-size=\"14.00\">NEWBURGPORT</text>\n",
                            "</g>\n",
                            "<!-- 01950&#45;&#45;NEWBURGPORT -->\n",
                            "<g id=\"edge5\" class=\"edge\">\n",
                            "<title>01950&#45;&#45;NEWBURGPORT</title>\n",
                            "<path fill=\"none\" stroke=\"black\" d=\"M86.68,-437.4C96.93,-439.54 108.45,-441.91 119,-444 134.31,-447.03 150.76,-450.19 166.36,-453.13\"/>\n",
                            "<text text-anchor=\"middle\" x=\"128.5\" y=\"-450.8\" font-family=\"Times,serif\" font-size=\"14.00\">3</text>\n",
                            "</g>\n",
                            "<!-- NEWBURYPORT -->\n",
                            "<g id=\"node10\" class=\"node\">\n",
                            "<title>NEWBURYPORT</title>\n",
                            "<polygon fill=\"none\" stroke=\"black\" points=\"306.5,-441 167.5,-441 167.5,-405 306.5,-405 306.5,-441\"/>\n",
                            "<text text-anchor=\"middle\" x=\"237\" y=\"-419.3\" font-family=\"Times,serif\" font-size=\"14.00\">NEWBURYPORT</text>\n",
                            "</g>\n",
                            "<!-- 01950&#45;&#45;NEWBURYPORT -->\n",
                            "<g id=\"edge6\" class=\"edge\">\n",
                            "<title>01950&#45;&#45;NEWBURYPORT</title>\n",
                            "<path fill=\"none\" stroke=\"black\" d=\"M86.54,-429.66C108.6,-428.68 139.46,-427.3 167.42,-426.06\"/>\n",
                            "<text text-anchor=\"middle\" x=\"128.5\" y=\"-431.8\" font-family=\"Times,serif\" font-size=\"14.00\">1</text>\n",
                            "</g>\n",
                            "<!-- 02114 -->\n",
                            "<g id=\"node11\" class=\"node\">\n",
                            "<title>02114</title>\n",
                            "<polygon fill=\"none\" stroke=\"black\" points=\"86.5,-221 24.5,-221 24.5,-185 86.5,-185 86.5,-221\"/>\n",
                            "<text text-anchor=\"middle\" x=\"55.5\" y=\"-199.3\" font-family=\"Times,serif\" font-size=\"14.00\">02114</text>\n",
                            "</g>\n",
                            "<!-- 02114&#45;&#45;BOSTON -->\n",
                            "<g id=\"edge7\" class=\"edge\">\n",
                            "<title>02114&#45;&#45;BOSTON</title>\n",
                            "<path fill=\"none\" stroke=\"black\" d=\"M86.85,-201.52C103.98,-199.12 124.57,-193.39 138,-180 147.17,-170.86 136.67,-160.97 146,-152 159.1,-139.4 178.17,-133.63 195.39,-131.13\"/>\n",
                            "<text text-anchor=\"middle\" x=\"128.5\" y=\"-196.8\" font-family=\"Times,serif\" font-size=\"14.00\">3</text>\n",
                            "</g>\n",
                            "<!-- Boston -->\n",
                            "<g id=\"node12\" class=\"node\">\n",
                            "<title>Boston</title>\n",
                            "<polygon fill=\"none\" stroke=\"black\" points=\"270,-244 204,-244 204,-208 270,-208 270,-244\"/>\n",
                            "<text text-anchor=\"middle\" x=\"237\" y=\"-222.3\" font-family=\"Times,serif\" font-size=\"14.00\">Boston</text>\n",
                            "</g>\n",
                            "<!-- 02114&#45;&#45;Boston -->\n",
                            "<g id=\"edge8\" class=\"edge\">\n",
                            "<title>02114&#45;&#45;Boston</title>\n",
                            "<path fill=\"none\" stroke=\"black\" d=\"M86.6,-209.39C96.85,-211.4 108.39,-213.49 119,-215 147.48,-219.06 180.08,-221.99 203.62,-223.79\"/>\n",
                            "<text text-anchor=\"middle\" x=\"128.5\" y=\"-221.8\" font-family=\"Times,serif\" font-size=\"14.00\">1</text>\n",
                            "</g>\n",
                            "<!-- 02190&#45;2314 -->\n",
                            "<g id=\"node13\" class=\"node\">\n",
                            "<title>02190&#45;2314</title>\n",
                            "<polygon fill=\"none\" stroke=\"black\" points=\"106.5,-548 4.5,-548 4.5,-512 106.5,-512 106.5,-548\"/>\n",
                            "<text text-anchor=\"middle\" x=\"55.5\" y=\"-526.3\" font-family=\"Times,serif\" font-size=\"14.00\">02190&#45;2314</text>\n",
                            "</g>\n",
                            "<!-- SOUTH WEYMOUTH -->\n",
                            "<g id=\"node14\" class=\"node\">\n",
                            "<title>SOUTH WEYMOUTH</title>\n",
                            "<polygon fill=\"none\" stroke=\"black\" points=\"323.5,-570 150.5,-570 150.5,-534 323.5,-534 323.5,-570\"/>\n",
                            "<text text-anchor=\"middle\" x=\"237\" y=\"-548.3\" font-family=\"Times,serif\" font-size=\"14.00\">SOUTH WEYMOUTH</text>\n",
                            "</g>\n",
                            "<!-- 02190&#45;2314&#45;&#45;SOUTH WEYMOUTH -->\n",
                            "<g id=\"edge9\" class=\"edge\">\n",
                            "<title>02190&#45;2314&#45;&#45;SOUTH WEYMOUTH</title>\n",
                            "<path fill=\"none\" stroke=\"black\" d=\"M106.64,-536.45C110.82,-536.98 114.98,-537.5 119,-538 129.15,-539.26 139.8,-540.56 150.37,-541.84\"/>\n",
                            "<text text-anchor=\"middle\" x=\"128.5\" y=\"-542.8\" font-family=\"Times,serif\" font-size=\"14.00\">3</text>\n",
                            "</g>\n",
                            "<!-- WEYMOUTH -->\n",
                            "<g id=\"node15\" class=\"node\">\n",
                            "<title>WEYMOUTH</title>\n",
                            "<polygon fill=\"none\" stroke=\"black\" points=\"293.5,-527 180.5,-527 180.5,-491 293.5,-491 293.5,-527\"/>\n",
                            "<text text-anchor=\"middle\" x=\"237\" y=\"-505.3\" font-family=\"Times,serif\" font-size=\"14.00\">WEYMOUTH</text>\n",
                            "</g>\n",
                            "<!-- 02190&#45;2314&#45;&#45;WEYMOUTH -->\n",
                            "<g id=\"edge10\" class=\"edge\">\n",
                            "<title>02190&#45;2314&#45;&#45;WEYMOUTH</title>\n",
                            "<path fill=\"none\" stroke=\"black\" d=\"M106.5,-524.15C129.43,-521.47 156.69,-518.28 180.27,-515.52\"/>\n",
                            "<text text-anchor=\"middle\" x=\"128.5\" y=\"-525.8\" font-family=\"Times,serif\" font-size=\"14.00\">1</text>\n",
                            "</g>\n",
                            "<!-- 02668&#45;1142 -->\n",
                            "<g id=\"node16\" class=\"node\">\n",
                            "<title>02668&#45;1142</title>\n",
                            "<polygon fill=\"none\" stroke=\"black\" points=\"106.5,-635 4.5,-635 4.5,-599 106.5,-599 106.5,-635\"/>\n",
                            "<text text-anchor=\"middle\" x=\"55.5\" y=\"-613.3\" font-family=\"Times,serif\" font-size=\"14.00\">02668&#45;1142</text>\n",
                            "</g>\n",
                            "<!-- W BARNSTABLE -->\n",
                            "<g id=\"node17\" class=\"node\">\n",
                            "<title>W BARNSTABLE</title>\n",
                            "<polygon fill=\"none\" stroke=\"black\" points=\"307,-656 167,-656 167,-620 307,-620 307,-656\"/>\n",
                            "<text text-anchor=\"middle\" x=\"237\" y=\"-634.3\" font-family=\"Times,serif\" font-size=\"14.00\">W BARNSTABLE</text>\n",
                            "</g>\n",
                            "<!-- 02668&#45;1142&#45;&#45;W BARNSTABLE -->\n",
                            "<g id=\"edge11\" class=\"edge\">\n",
                            "<title>02668&#45;1142&#45;&#45;W BARNSTABLE</title>\n",
                            "<path fill=\"none\" stroke=\"black\" d=\"M106.5,-622.85C125.17,-625.03 146.72,-627.56 166.82,-629.91\"/>\n",
                            "<text text-anchor=\"middle\" x=\"128.5\" y=\"-629.8\" font-family=\"Times,serif\" font-size=\"14.00\">3</text>\n",
                            "</g>\n",
                            "<!-- WEST BARNSTABLE -->\n",
                            "<g id=\"node18\" class=\"node\">\n",
                            "<title>WEST BARNSTABLE</title>\n",
                            "<polygon fill=\"none\" stroke=\"black\" points=\"322,-613 152,-613 152,-577 322,-577 322,-613\"/>\n",
                            "<text text-anchor=\"middle\" x=\"237\" y=\"-591.3\" font-family=\"Times,serif\" font-size=\"14.00\">WEST BARNSTABLE</text>\n",
                            "</g>\n",
                            "<!-- 02668&#45;1142&#45;&#45;WEST BARNSTABLE -->\n",
                            "<g id=\"edge12\" class=\"edge\">\n",
                            "<title>02668&#45;1142&#45;&#45;WEST BARNSTABLE</title>\n",
                            "<path fill=\"none\" stroke=\"black\" d=\"M106.63,-609.64C110.81,-609.07 114.98,-608.51 119,-608 129.64,-606.64 140.84,-605.3 151.92,-604.01\"/>\n",
                            "<text text-anchor=\"middle\" x=\"128.5\" y=\"-611.8\" font-family=\"Times,serif\" font-size=\"14.00\">2</text>\n",
                            "</g>\n",
                            "<!-- 02747&#45;2537 -->\n",
                            "<g id=\"node19\" class=\"node\">\n",
                            "<title>02747&#45;2537</title>\n",
                            "<polygon fill=\"none\" stroke=\"black\" points=\"106.5,-397 4.5,-397 4.5,-361 106.5,-361 106.5,-397\"/>\n",
                            "<text text-anchor=\"middle\" x=\"55.5\" y=\"-375.3\" font-family=\"Times,serif\" font-size=\"14.00\">02747&#45;2537</text>\n",
                            "</g>\n",
                            "<!-- 02747&#45;2537&#45;&#45;DARTMOUTH -->\n",
                            "<g id=\"edge13\" class=\"edge\">\n",
                            "<title>02747&#45;2537&#45;&#45;DARTMOUTH</title>\n",
                            "<path fill=\"none\" stroke=\"black\" d=\"M106.9,-365.12C118.48,-359.84 129.79,-352.67 138,-343 147.21,-332.15 136.4,-322.5 146,-312 154.39,-302.82 165.59,-296.28 177.24,-291.61\"/>\n",
                            "<text text-anchor=\"middle\" x=\"128.5\" y=\"-362.8\" font-family=\"Times,serif\" font-size=\"14.00\">3</text>\n",
                            "</g>\n",
                            "<!-- 02747&#45;2537&#45;&#45;NORTH DARTMOUTH -->\n",
                            "<g id=\"edge14\" class=\"edge\">\n",
                            "<title>02747&#45;2537&#45;&#45;NORTH DARTMOUTH</title>\n",
                            "<path fill=\"none\" stroke=\"black\" d=\"M106.87,-380.82C117.25,-380.34 128.05,-379.21 138,-377 160.85,-371.91 184.95,-361.42 203.53,-352.07\"/>\n",
                            "<text text-anchor=\"middle\" x=\"128.5\" y=\"-383.8\" font-family=\"Times,serif\" font-size=\"14.00\">1</text>\n",
                            "</g>\n",
                            "<!-- 01104 -->\n",
                            "<g id=\"node20\" class=\"node\">\n",
                            "<title>01104</title>\n",
                            "<polygon fill=\"none\" stroke=\"black\" points=\"86.5,-720 24.5,-720 24.5,-684 86.5,-684 86.5,-720\"/>\n",
                            "<text text-anchor=\"middle\" x=\"55.5\" y=\"-698.3\" font-family=\"Times,serif\" font-size=\"14.00\">01104</text>\n",
                            "</g>\n",
                            "<!-- SPRINGFIELD -->\n",
                            "<g id=\"node21\" class=\"node\">\n",
                            "<title>SPRINGFIELD</title>\n",
                            "<polygon fill=\"none\" stroke=\"black\" points=\"299,-742 175,-742 175,-706 299,-706 299,-742\"/>\n",
                            "<text text-anchor=\"middle\" x=\"237\" y=\"-720.3\" font-family=\"Times,serif\" font-size=\"14.00\">SPRINGFIELD</text>\n",
                            "</g>\n",
                            "<!-- 01104&#45;&#45;SPRINGFIELD -->\n",
                            "<g id=\"edge15\" class=\"edge\">\n",
                            "<title>01104&#45;&#45;SPRINGFIELD</title>\n",
                            "<path fill=\"none\" stroke=\"black\" d=\"M86.69,-705.92C96.95,-707.23 108.47,-708.7 119,-710 137.17,-712.25 156.94,-714.64 174.96,-716.79\"/>\n",
                            "<text text-anchor=\"middle\" x=\"128.5\" y=\"-714.8\" font-family=\"Times,serif\" font-size=\"14.00\">2</text>\n",
                            "</g>\n",
                            "<!-- Springfield -->\n",
                            "<g id=\"node22\" class=\"node\">\n",
                            "<title>Springfield</title>\n",
                            "<polygon fill=\"none\" stroke=\"black\" points=\"285,-699 189,-699 189,-663 285,-663 285,-699\"/>\n",
                            "<text text-anchor=\"middle\" x=\"237\" y=\"-677.3\" font-family=\"Times,serif\" font-size=\"14.00\">Springfield</text>\n",
                            "</g>\n",
                            "<!-- 01104&#45;&#45;Springfield -->\n",
                            "<g id=\"edge16\" class=\"edge\">\n",
                            "<title>01104&#45;&#45;Springfield</title>\n",
                            "<path fill=\"none\" stroke=\"black\" d=\"M86.54,-698.49C114.49,-695.22 156.57,-690.29 188.96,-686.5\"/>\n",
                            "<text text-anchor=\"middle\" x=\"128.5\" y=\"-697.8\" font-family=\"Times,serif\" font-size=\"14.00\">1</text>\n",
                            "</g>\n",
                            "<!-- 01930 -->\n",
                            "<g id=\"node23\" class=\"node\">\n",
                            "<title>01930</title>\n",
                            "<polygon fill=\"none\" stroke=\"black\" points=\"86.5,-807 24.5,-807 24.5,-771 86.5,-771 86.5,-807\"/>\n",
                            "<text text-anchor=\"middle\" x=\"55.5\" y=\"-785.3\" font-family=\"Times,serif\" font-size=\"14.00\">01930</text>\n",
                            "</g>\n",
                            "<!-- GLOUCESTER -->\n",
                            "<g id=\"node24\" class=\"node\">\n",
                            "<title>GLOUCESTER</title>\n",
                            "<polygon fill=\"none\" stroke=\"black\" points=\"299,-828 175,-828 175,-792 299,-792 299,-828\"/>\n",
                            "<text text-anchor=\"middle\" x=\"237\" y=\"-806.3\" font-family=\"Times,serif\" font-size=\"14.00\">GLOUCESTER</text>\n",
                            "</g>\n",
                            "<!-- 01930&#45;&#45;GLOUCESTER -->\n",
                            "<g id=\"edge17\" class=\"edge\">\n",
                            "<title>01930&#45;&#45;GLOUCESTER</title>\n",
                            "<path fill=\"none\" stroke=\"black\" d=\"M86.54,-792.51C110.6,-795.33 145.12,-799.37 174.93,-802.85\"/>\n",
                            "<text text-anchor=\"middle\" x=\"128.5\" y=\"-801.8\" font-family=\"Times,serif\" font-size=\"14.00\">2</text>\n",
                            "</g>\n",
                            "<!-- Gloucester -->\n",
                            "<g id=\"node25\" class=\"node\">\n",
                            "<title>Gloucester</title>\n",
                            "<polygon fill=\"none\" stroke=\"black\" points=\"284.5,-785 189.5,-785 189.5,-749 284.5,-749 284.5,-785\"/>\n",
                            "<text text-anchor=\"middle\" x=\"237\" y=\"-763.3\" font-family=\"Times,serif\" font-size=\"14.00\">Gloucester</text>\n",
                            "</g>\n",
                            "<!-- 01930&#45;&#45;Gloucester -->\n",
                            "<g id=\"edge18\" class=\"edge\">\n",
                            "<title>01930&#45;&#45;Gloucester</title>\n",
                            "<path fill=\"none\" stroke=\"black\" d=\"M86.67,-784.45C96.92,-782.96 108.45,-781.35 119,-780 142.11,-777.05 167.84,-774.15 189.27,-771.84\"/>\n",
                            "<text text-anchor=\"middle\" x=\"128.5\" y=\"-783.8\" font-family=\"Times,serif\" font-size=\"14.00\">1</text>\n",
                            "</g>\n",
                            "<!-- 02169 -->\n",
                            "<g id=\"node26\" class=\"node\">\n",
                            "<title>02169</title>\n",
                            "<polygon fill=\"none\" stroke=\"black\" points=\"86.5,-892 24.5,-892 24.5,-856 86.5,-856 86.5,-892\"/>\n",
                            "<text text-anchor=\"middle\" x=\"55.5\" y=\"-870.3\" font-family=\"Times,serif\" font-size=\"14.00\">02169</text>\n",
                            "</g>\n",
                            "<!-- QUINCY -->\n",
                            "<g id=\"node27\" class=\"node\">\n",
                            "<title>QUINCY</title>\n",
                            "<polygon fill=\"none\" stroke=\"black\" points=\"277,-914 197,-914 197,-878 277,-878 277,-914\"/>\n",
                            "<text text-anchor=\"middle\" x=\"237\" y=\"-892.3\" font-family=\"Times,serif\" font-size=\"14.00\">QUINCY</text>\n",
                            "</g>\n",
                            "<!-- 02169&#45;&#45;QUINCY -->\n",
                            "<g id=\"edge19\" class=\"edge\">\n",
                            "<title>02169&#45;&#45;QUINCY</title>\n",
                            "<path fill=\"none\" stroke=\"black\" d=\"M86.69,-877.92C96.95,-879.23 108.47,-880.7 119,-882 144.99,-885.22 174.24,-888.72 196.99,-891.41\"/>\n",
                            "<text text-anchor=\"middle\" x=\"128.5\" y=\"-886.8\" font-family=\"Times,serif\" font-size=\"14.00\">2</text>\n",
                            "</g>\n",
                            "<!-- Quincy -->\n",
                            "<g id=\"node28\" class=\"node\">\n",
                            "<title>Quincy</title>\n",
                            "<polygon fill=\"none\" stroke=\"black\" points=\"271,-871 203,-871 203,-835 271,-835 271,-871\"/>\n",
                            "<text text-anchor=\"middle\" x=\"237\" y=\"-849.3\" font-family=\"Times,serif\" font-size=\"14.00\">Quincy</text>\n",
                            "</g>\n",
                            "<!-- 02169&#45;&#45;Quincy -->\n",
                            "<g id=\"edge20\" class=\"edge\">\n",
                            "<title>02169&#45;&#45;Quincy</title>\n",
                            "<path fill=\"none\" stroke=\"black\" d=\"M86.54,-870.49C118.68,-866.73 169.51,-860.78 202.81,-856.88\"/>\n",
                            "<text text-anchor=\"middle\" x=\"128.5\" y=\"-869.8\" font-family=\"Times,serif\" font-size=\"14.00\">1</text>\n",
                            "</g>\n",
                            "<!-- 02301 -->\n",
                            "<g id=\"node29\" class=\"node\">\n",
                            "<title>02301</title>\n",
                            "<polygon fill=\"none\" stroke=\"black\" points=\"86.5,-978 24.5,-978 24.5,-942 86.5,-942 86.5,-978\"/>\n",
                            "<text text-anchor=\"middle\" x=\"55.5\" y=\"-956.3\" font-family=\"Times,serif\" font-size=\"14.00\">02301</text>\n",
                            "</g>\n",
                            "<!-- Brockton -->\n",
                            "<g id=\"node30\" class=\"node\">\n",
                            "<title>Brockton</title>\n",
                            "<polygon fill=\"none\" stroke=\"black\" points=\"278.5,-1000 195.5,-1000 195.5,-964 278.5,-964 278.5,-1000\"/>\n",
                            "<text text-anchor=\"middle\" x=\"237\" y=\"-978.3\" font-family=\"Times,serif\" font-size=\"14.00\">Brockton</text>\n",
                            "</g>\n",
                            "<!-- 02301&#45;&#45;Brockton -->\n",
                            "<g id=\"edge21\" class=\"edge\">\n",
                            "<title>02301&#45;&#45;Brockton</title>\n",
                            "<path fill=\"none\" stroke=\"black\" d=\"M86.69,-963.92C96.95,-965.23 108.47,-966.7 119,-968 144.38,-971.14 172.87,-974.55 195.38,-977.22\"/>\n",
                            "<text text-anchor=\"middle\" x=\"128.5\" y=\"-972.8\" font-family=\"Times,serif\" font-size=\"14.00\">2</text>\n",
                            "</g>\n",
                            "<!-- BROCKTON -->\n",
                            "<g id=\"node31\" class=\"node\">\n",
                            "<title>BROCKTON</title>\n",
                            "<polygon fill=\"none\" stroke=\"black\" points=\"290,-957 184,-957 184,-921 290,-921 290,-957\"/>\n",
                            "<text text-anchor=\"middle\" x=\"237\" y=\"-935.3\" font-family=\"Times,serif\" font-size=\"14.00\">BROCKTON</text>\n",
                            "</g>\n",
                            "<!-- 02301&#45;&#45;BROCKTON -->\n",
                            "<g id=\"edge22\" class=\"edge\">\n",
                            "<title>02301&#45;&#45;BROCKTON</title>\n",
                            "<path fill=\"none\" stroke=\"black\" d=\"M86.54,-956.49C112.99,-953.39 152.1,-948.82 183.68,-945.12\"/>\n",
                            "<text text-anchor=\"middle\" x=\"128.5\" y=\"-955.8\" font-family=\"Times,serif\" font-size=\"14.00\">1</text>\n",
                            "</g>\n",
                            "<!-- 02576&#45;1208 -->\n",
                            "<g id=\"node32\" class=\"node\">\n",
                            "<title>02576&#45;1208</title>\n",
                            "<polygon fill=\"none\" stroke=\"black\" points=\"106.5,-1064 4.5,-1064 4.5,-1028 106.5,-1028 106.5,-1064\"/>\n",
                            "<text text-anchor=\"middle\" x=\"55.5\" y=\"-1042.3\" font-family=\"Times,serif\" font-size=\"14.00\">02576&#45;1208</text>\n",
                            "</g>\n",
                            "<!-- W WAREHAM -->\n",
                            "<g id=\"node33\" class=\"node\">\n",
                            "<title>W WAREHAM</title>\n",
                            "<polygon fill=\"none\" stroke=\"black\" points=\"296.5,-1086 177.5,-1086 177.5,-1050 296.5,-1050 296.5,-1086\"/>\n",
                            "<text text-anchor=\"middle\" x=\"237\" y=\"-1064.3\" font-family=\"Times,serif\" font-size=\"14.00\">W WAREHAM</text>\n",
                            "</g>\n",
                            "<!-- 02576&#45;1208&#45;&#45;W WAREHAM -->\n",
                            "<g id=\"edge23\" class=\"edge\">\n",
                            "<title>02576&#45;1208&#45;&#45;W WAREHAM</title>\n",
                            "<path fill=\"none\" stroke=\"black\" d=\"M106.64,-1052.45C110.82,-1052.98 114.98,-1053.5 119,-1054 137.98,-1056.35 158.71,-1058.85 177.37,-1061.08\"/>\n",
                            "<text text-anchor=\"middle\" x=\"128.5\" y=\"-1058.8\" font-family=\"Times,serif\" font-size=\"14.00\">2</text>\n",
                            "</g>\n",
                            "<!-- WEST WAREHAM -->\n",
                            "<g id=\"node34\" class=\"node\">\n",
                            "<title>WEST WAREHAM</title>\n",
                            "<polygon fill=\"none\" stroke=\"black\" points=\"311.5,-1043 162.5,-1043 162.5,-1007 311.5,-1007 311.5,-1043\"/>\n",
                            "<text text-anchor=\"middle\" x=\"237\" y=\"-1021.3\" font-family=\"Times,serif\" font-size=\"14.00\">WEST WAREHAM</text>\n",
                            "</g>\n",
                            "<!-- 02576&#45;1208&#45;&#45;WEST WAREHAM -->\n",
                            "<g id=\"edge24\" class=\"edge\">\n",
                            "<title>02576&#45;1208&#45;&#45;WEST WAREHAM</title>\n",
                            "<path fill=\"none\" stroke=\"black\" d=\"M106.5,-1040.15C123.82,-1038.12 143.62,-1035.81 162.44,-1033.61\"/>\n",
                            "<text text-anchor=\"middle\" x=\"128.5\" y=\"-1041.8\" font-family=\"Times,serif\" font-size=\"14.00\">1</text>\n",
                            "</g>\n",
                            "<!-- 01201 -->\n",
                            "<g id=\"node35\" class=\"node\">\n",
                            "<title>01201</title>\n",
                            "<polygon fill=\"none\" stroke=\"black\" points=\"86.5,-1150 24.5,-1150 24.5,-1114 86.5,-1114 86.5,-1150\"/>\n",
                            "<text text-anchor=\"middle\" x=\"55.5\" y=\"-1128.3\" font-family=\"Times,serif\" font-size=\"14.00\">01201</text>\n",
                            "</g>\n",
                            "<!-- PITTSFIELD -->\n",
                            "<g id=\"node36\" class=\"node\">\n",
                            "<title>PITTSFIELD</title>\n",
                            "<polygon fill=\"none\" stroke=\"black\" points=\"291.5,-1172 182.5,-1172 182.5,-1136 291.5,-1136 291.5,-1172\"/>\n",
                            "<text text-anchor=\"middle\" x=\"237\" y=\"-1150.3\" font-family=\"Times,serif\" font-size=\"14.00\">PITTSFIELD</text>\n",
                            "</g>\n",
                            "<!-- 01201&#45;&#45;PITTSFIELD -->\n",
                            "<g id=\"edge25\" class=\"edge\">\n",
                            "<title>01201&#45;&#45;PITTSFIELD</title>\n",
                            "<path fill=\"none\" stroke=\"black\" d=\"M86.69,-1135.92C96.95,-1137.23 108.47,-1138.7 119,-1140 139.71,-1142.56 162.49,-1145.31 182.4,-1147.68\"/>\n",
                            "<text text-anchor=\"middle\" x=\"128.5\" y=\"-1144.8\" font-family=\"Times,serif\" font-size=\"14.00\">1</text>\n",
                            "</g>\n",
                            "<!-- PITTSFILED -->\n",
                            "<g id=\"node37\" class=\"node\">\n",
                            "<title>PITTSFILED</title>\n",
                            "<polygon fill=\"none\" stroke=\"black\" points=\"291.5,-1129 182.5,-1129 182.5,-1093 291.5,-1093 291.5,-1129\"/>\n",
                            "<text text-anchor=\"middle\" x=\"237\" y=\"-1107.3\" font-family=\"Times,serif\" font-size=\"14.00\">PITTSFILED</text>\n",
                            "</g>\n",
                            "<!-- 01201&#45;&#45;PITTSFILED -->\n",
                            "<g id=\"edge26\" class=\"edge\">\n",
                            "<title>01201&#45;&#45;PITTSFILED</title>\n",
                            "<path fill=\"none\" stroke=\"black\" d=\"M86.54,-1128.49C112.59,-1125.44 150.92,-1120.95 182.24,-1117.29\"/>\n",
                            "<text text-anchor=\"middle\" x=\"128.5\" y=\"-1127.8\" font-family=\"Times,serif\" font-size=\"14.00\">1</text>\n",
                            "</g>\n",
                            "<!-- 01605 -->\n",
                            "<g id=\"node38\" class=\"node\">\n",
                            "<title>01605</title>\n",
                            "<polygon fill=\"none\" stroke=\"black\" points=\"86.5,-1236 24.5,-1236 24.5,-1200 86.5,-1200 86.5,-1236\"/>\n",
                            "<text text-anchor=\"middle\" x=\"55.5\" y=\"-1214.3\" font-family=\"Times,serif\" font-size=\"14.00\">01605</text>\n",
                            "</g>\n",
                            "<!-- WORCESTER -->\n",
                            "<g id=\"node39\" class=\"node\">\n",
                            "<title>WORCESTER</title>\n",
                            "<polygon fill=\"none\" stroke=\"black\" points=\"295,-1258 179,-1258 179,-1222 295,-1222 295,-1258\"/>\n",
                            "<text text-anchor=\"middle\" x=\"237\" y=\"-1236.3\" font-family=\"Times,serif\" font-size=\"14.00\">WORCESTER</text>\n",
                            "</g>\n",
                            "<!-- 01605&#45;&#45;WORCESTER -->\n",
                            "<g id=\"edge27\" class=\"edge\">\n",
                            "<title>01605&#45;&#45;WORCESTER</title>\n",
                            "<path fill=\"none\" stroke=\"black\" d=\"M86.69,-1221.92C96.95,-1223.23 108.47,-1224.7 119,-1226 138.49,-1228.41 159.82,-1230.99 178.86,-1233.26\"/>\n",
                            "<text text-anchor=\"middle\" x=\"128.5\" y=\"-1230.8\" font-family=\"Times,serif\" font-size=\"14.00\">1</text>\n",
                            "</g>\n",
                            "<!-- Worcester -->\n",
                            "<g id=\"node40\" class=\"node\">\n",
                            "<title>Worcester</title>\n",
                            "<polygon fill=\"none\" stroke=\"black\" points=\"282.5,-1215 191.5,-1215 191.5,-1179 282.5,-1179 282.5,-1215\"/>\n",
                            "<text text-anchor=\"middle\" x=\"237\" y=\"-1193.3\" font-family=\"Times,serif\" font-size=\"14.00\">Worcester</text>\n",
                            "</g>\n",
                            "<!-- 01605&#45;&#45;Worcester -->\n",
                            "<g id=\"edge28\" class=\"edge\">\n",
                            "<title>01605&#45;&#45;Worcester</title>\n",
                            "<path fill=\"none\" stroke=\"black\" d=\"M86.54,-1214.49C115.19,-1211.13 158.68,-1206.05 191.37,-1202.22\"/>\n",
                            "<text text-anchor=\"middle\" x=\"128.5\" y=\"-1213.8\" font-family=\"Times,serif\" font-size=\"14.00\">1</text>\n",
                            "</g>\n",
                            "<!-- 02130 -->\n",
                            "<g id=\"node41\" class=\"node\">\n",
                            "<title>02130</title>\n",
                            "<polygon fill=\"none\" stroke=\"black\" points=\"86.5,-65 24.5,-65 24.5,-29 86.5,-29 86.5,-65\"/>\n",
                            "<text text-anchor=\"middle\" x=\"55.5\" y=\"-43.3\" font-family=\"Times,serif\" font-size=\"14.00\">02130</text>\n",
                            "</g>\n",
                            "<!-- 02130&#45;&#45;BOSTON -->\n",
                            "<g id=\"edge29\" class=\"edge\">\n",
                            "<title>02130&#45;&#45;BOSTON</title>\n",
                            "<path fill=\"none\" stroke=\"black\" d=\"M86.87,-54.29C103.99,-59.83 124.58,-69.11 138,-84 145.52,-92.35 137.73,-100.38 146,-108 159.25,-120.21 178.13,-125.94 195.18,-128.53\"/>\n",
                            "<text text-anchor=\"middle\" x=\"128.5\" y=\"-87.8\" font-family=\"Times,serif\" font-size=\"14.00\">1</text>\n",
                            "</g>\n",
                            "<!-- Jamaica Plain -->\n",
                            "<g id=\"node42\" class=\"node\">\n",
                            "<title>Jamaica Plain</title>\n",
                            "<polygon fill=\"none\" stroke=\"black\" points=\"294,-51 180,-51 180,-15 294,-15 294,-51\"/>\n",
                            "<text text-anchor=\"middle\" x=\"237\" y=\"-29.3\" font-family=\"Times,serif\" font-size=\"14.00\">Jamaica Plain</text>\n",
                            "</g>\n",
                            "<!-- 02130&#45;&#45;Jamaica Plain -->\n",
                            "<g id=\"edge30\" class=\"edge\">\n",
                            "<title>02130&#45;&#45;Jamaica Plain</title>\n",
                            "<path fill=\"none\" stroke=\"black\" d=\"M86.6,-41.41C96.85,-39.71 108.39,-38.03 119,-37 138.83,-35.08 160.62,-34.05 179.97,-33.5\"/>\n",
                            "<text text-anchor=\"middle\" x=\"128.5\" y=\"-40.8\" font-family=\"Times,serif\" font-size=\"14.00\">1</text>\n",
                            "</g>\n",
                            "<!-- 02360 -->\n",
                            "<g id=\"node43\" class=\"node\">\n",
                            "<title>02360</title>\n",
                            "<polygon fill=\"none\" stroke=\"black\" points=\"86.5,-1322 24.5,-1322 24.5,-1286 86.5,-1286 86.5,-1322\"/>\n",
                            "<text text-anchor=\"middle\" x=\"55.5\" y=\"-1300.3\" font-family=\"Times,serif\" font-size=\"14.00\">02360</text>\n",
                            "</g>\n",
                            "<!-- PLYMOUTH -->\n",
                            "<g id=\"node44\" class=\"node\">\n",
                            "<title>PLYMOUTH</title>\n",
                            "<polygon fill=\"none\" stroke=\"black\" points=\"290,-1344 184,-1344 184,-1308 290,-1308 290,-1344\"/>\n",
                            "<text text-anchor=\"middle\" x=\"237\" y=\"-1322.3\" font-family=\"Times,serif\" font-size=\"14.00\">PLYMOUTH</text>\n",
                            "</g>\n",
                            "<!-- 02360&#45;&#45;PLYMOUTH -->\n",
                            "<g id=\"edge31\" class=\"edge\">\n",
                            "<title>02360&#45;&#45;PLYMOUTH</title>\n",
                            "<path fill=\"none\" stroke=\"black\" d=\"M86.69,-1307.92C96.95,-1309.23 108.47,-1310.7 119,-1312 140.22,-1314.63 163.61,-1317.44 183.86,-1319.85\"/>\n",
                            "<text text-anchor=\"middle\" x=\"128.5\" y=\"-1316.8\" font-family=\"Times,serif\" font-size=\"14.00\">1</text>\n",
                            "</g>\n",
                            "<!-- Plymouth -->\n",
                            "<g id=\"node45\" class=\"node\">\n",
                            "<title>Plymouth</title>\n",
                            "<polygon fill=\"none\" stroke=\"black\" points=\"279.5,-1301 194.5,-1301 194.5,-1265 279.5,-1265 279.5,-1301\"/>\n",
                            "<text text-anchor=\"middle\" x=\"237\" y=\"-1279.3\" font-family=\"Times,serif\" font-size=\"14.00\">Plymouth</text>\n",
                            "</g>\n",
                            "<!-- 02360&#45;&#45;Plymouth -->\n",
                            "<g id=\"edge32\" class=\"edge\">\n",
                            "<title>02360&#45;&#45;Plymouth</title>\n",
                            "<path fill=\"none\" stroke=\"black\" d=\"M86.54,-1300.49C116.09,-1297.03 161.42,-1291.72 194.42,-1287.86\"/>\n",
                            "<text text-anchor=\"middle\" x=\"128.5\" y=\"-1299.8\" font-family=\"Times,serif\" font-size=\"14.00\">1</text>\n",
                            "</g>\n",
                            "<!-- 02601 -->\n",
                            "<g id=\"node46\" class=\"node\">\n",
                            "<title>02601</title>\n",
                            "<polygon fill=\"none\" stroke=\"black\" points=\"86.5,-1408 24.5,-1408 24.5,-1372 86.5,-1372 86.5,-1408\"/>\n",
                            "<text text-anchor=\"middle\" x=\"55.5\" y=\"-1386.3\" font-family=\"Times,serif\" font-size=\"14.00\">02601</text>\n",
                            "</g>\n",
                            "<!-- HYANNIS -->\n",
                            "<g id=\"node47\" class=\"node\">\n",
                            "<title>HYANNIS</title>\n",
                            "<polygon fill=\"none\" stroke=\"black\" points=\"282,-1430 192,-1430 192,-1394 282,-1394 282,-1430\"/>\n",
                            "<text text-anchor=\"middle\" x=\"237\" y=\"-1408.3\" font-family=\"Times,serif\" font-size=\"14.00\">HYANNIS</text>\n",
                            "</g>\n",
                            "<!-- 02601&#45;&#45;HYANNIS -->\n",
                            "<g id=\"edge33\" class=\"edge\">\n",
                            "<title>02601&#45;&#45;HYANNIS</title>\n",
                            "<path fill=\"none\" stroke=\"black\" d=\"M86.69,-1393.92C96.95,-1395.23 108.47,-1396.7 119,-1398 143.06,-1400.98 169.91,-1404.2 191.82,-1406.8\"/>\n",
                            "<text text-anchor=\"middle\" x=\"128.5\" y=\"-1402.8\" font-family=\"Times,serif\" font-size=\"14.00\">1</text>\n",
                            "</g>\n",
                            "<!-- Hyannis -->\n",
                            "<g id=\"node48\" class=\"node\">\n",
                            "<title>Hyannis</title>\n",
                            "<polygon fill=\"none\" stroke=\"black\" points=\"275,-1387 199,-1387 199,-1351 275,-1351 275,-1387\"/>\n",
                            "<text text-anchor=\"middle\" x=\"237\" y=\"-1365.3\" font-family=\"Times,serif\" font-size=\"14.00\">Hyannis</text>\n",
                            "</g>\n",
                            "<!-- 02601&#45;&#45;Hyannis -->\n",
                            "<g id=\"edge34\" class=\"edge\">\n",
                            "<title>02601&#45;&#45;Hyannis</title>\n",
                            "<path fill=\"none\" stroke=\"black\" d=\"M86.54,-1386.49C117.38,-1382.88 165.44,-1377.26 198.69,-1373.36\"/>\n",
                            "<text text-anchor=\"middle\" x=\"128.5\" y=\"-1385.8\" font-family=\"Times,serif\" font-size=\"14.00\">1</text>\n",
                            "</g>\n",
                            "<!-- 02747&#45;1242 -->\n",
                            "<g id=\"node49\" class=\"node\">\n",
                            "<title>02747&#45;1242</title>\n",
                            "<polygon fill=\"none\" stroke=\"black\" points=\"106.5,-279 4.5,-279 4.5,-243 106.5,-243 106.5,-279\"/>\n",
                            "<text text-anchor=\"middle\" x=\"55.5\" y=\"-257.3\" font-family=\"Times,serif\" font-size=\"14.00\">02747&#45;1242</text>\n",
                            "</g>\n",
                            "<!-- 02747&#45;1242&#45;&#45;DARTMOUTH -->\n",
                            "<g id=\"edge35\" class=\"edge\">\n",
                            "<title>02747&#45;1242&#45;&#45;DARTMOUTH</title>\n",
                            "<path fill=\"none\" stroke=\"black\" d=\"M106.63,-257.51C110.81,-257.3 114.98,-257.13 119,-257 127.44,-256.73 129.61,-256.03 138,-257 150.85,-258.49 164.45,-261.04 177.31,-263.91\"/>\n",
                            "<text text-anchor=\"middle\" x=\"128.5\" y=\"-260.8\" font-family=\"Times,serif\" font-size=\"14.00\">1</text>\n",
                            "</g>\n",
                            "<!-- 02747&#45;1242&#45;&#45;NORTH DARTMOUTH -->\n",
                            "<g id=\"edge36\" class=\"edge\">\n",
                            "<title>02747&#45;1242&#45;&#45;NORTH DARTMOUTH</title>\n",
                            "<path fill=\"none\" stroke=\"black\" d=\"M86.09,-279.14C96.3,-284.97 107.95,-291.17 119,-296 136.02,-303.44 154.99,-310.22 172.61,-315.92\"/>\n",
                            "<text text-anchor=\"middle\" x=\"128.5\" y=\"-307.8\" font-family=\"Times,serif\" font-size=\"14.00\">1</text>\n",
                            "</g>\n",
                            "<!-- 2128 -->\n",
                            "<g id=\"node50\" class=\"node\">\n",
                            "<title>2128</title>\n",
                            "<polygon fill=\"none\" stroke=\"black\" points=\"82.5,-129 28.5,-129 28.5,-93 82.5,-93 82.5,-129\"/>\n",
                            "<text text-anchor=\"middle\" x=\"55.5\" y=\"-107.3\" font-family=\"Times,serif\" font-size=\"14.00\">2128</text>\n",
                            "</g>\n",
                            "<!-- 2128&#45;&#45;BOSTON -->\n",
                            "<g id=\"edge37\" class=\"edge\">\n",
                            "<title>2128&#45;&#45;BOSTON</title>\n",
                            "<path fill=\"none\" stroke=\"black\" d=\"M82.6,-113.76C112.16,-116.89 160.7,-122.03 195.25,-125.69\"/>\n",
                            "<text text-anchor=\"middle\" x=\"128.5\" y=\"-123.8\" font-family=\"Times,serif\" font-size=\"14.00\">1</text>\n",
                            "</g>\n",
                            "<!-- EAST BOSTON -->\n",
                            "<g id=\"node51\" class=\"node\">\n",
                            "<title>EAST BOSTON</title>\n",
                            "<polygon fill=\"none\" stroke=\"black\" points=\"301,-105 173,-105 173,-69 301,-69 301,-105\"/>\n",
                            "<text text-anchor=\"middle\" x=\"237\" y=\"-83.3\" font-family=\"Times,serif\" font-size=\"14.00\">EAST BOSTON</text>\n",
                            "</g>\n",
                            "<!-- 2128&#45;&#45;EAST BOSTON -->\n",
                            "<g id=\"edge38\" class=\"edge\">\n",
                            "<title>2128&#45;&#45;EAST BOSTON</title>\n",
                            "<path fill=\"none\" stroke=\"black\" d=\"M82.64,-107.14C93.83,-105.52 107.05,-103.63 119,-102 136.45,-99.63 155.38,-97.15 172.83,-94.92\"/>\n",
                            "<text text-anchor=\"middle\" x=\"128.5\" y=\"-105.8\" font-family=\"Times,serif\" font-size=\"14.00\">1</text>\n",
                            "</g>\n",
                            "</g>\n",
                            "</svg>\n"
                        ],
                        "text/plain": [
                            "<graphviz.graphs.Graph at 0x7fdc59d00a90>"
                        ]
                    },
                    "execution_count": 25,
                    "metadata": {},
                    "output_type": "execute_result"
                }
            ],
            "source": [
                "providers.plot_dependency_violations('ZIP', 'CITY')"
            ]
        },
        {
            "cell_type": "markdown",
            "id": "6ed628a3-3b83-4318-83c7-e55e10033306",
            "metadata": {},
            "source": [
                "The plot of dependency violations shows values for **ZIP** on the left hand side, and values for **CITY** on the right hand side. An edge connects a **ZIP** on the left with a **CITY** on the right if there is a row that contains these two respective values. The edges are annotated with the count of such rows. For example, there are two rows with ZIP code 02747-1242, one with CITY \"NORTH DARTHMOUTH\" and one with CITY \"DARTHMOUTH\":"
            ]
        },
        {
            "cell_type": "code",
            "execution_count": 10,
            "id": "b6a96071-ae4d-4095-97f9-af5b18c966c3",
            "metadata": {},
            "outputs": [
                {
                    "data": {
                        "application/vnd.livy.statement-meta+json": {
                            "execution_finish_time": "2023-08-30T07:13:18.1570073Z",
                            "execution_start_time": "2023-08-30T07:13:17.8171325Z",
                            "livy_statement_state": "available",
                            "parent_msg_id": "5f3da602-2b99-4f13-b5d7-82e6576dbcc8",
                            "queued_time": "2023-08-30T07:13:17.5192211Z",
                            "session_id": "9afa62c0-2f41-4e2f-beee-d9693947e160",
                            "session_start_time": null,
                            "spark_jobs": {
                                "jobs": [],
                                "limit": 20,
                                "numbers": {
                                    "FAILED": 0,
                                    "RUNNING": 0,
                                    "SUCCEEDED": 0,
                                    "UNKNOWN": 0
                                },
                                "rule": "ALL_DESC"
                            },
                            "spark_pool": null,
                            "state": "finished",
                            "statement_id": 19
                        },
                        "text/plain": [
                            "StatementMeta(, 9afa62c0-2f41-4e2f-beee-d9693947e160, 19, Finished, Available)"
                        ]
                    },
                    "metadata": {},
                    "output_type": "display_data"
                },
                {
                    "data": {
                        "text/plain": [
                            "NORTH DARTMOUTH    1\n",
                            "DARTMOUTH          1\n",
                            "Name: CITY, dtype: int64"
                        ]
                    },
                    "execution_count": 28,
                    "metadata": {},
                    "output_type": "execute_result"
                }
            ],
            "source": [
                "providers[providers.ZIP == '02747-1242'].CITY.value_counts()"
            ]
        },
        {
            "cell_type": "markdown",
            "id": "a4375800-218e-4acc-9c84-26e96092e1ed",
            "metadata": {},
            "source": [
                "The plot also shows that among the rows that have CITY as \"DARTHMOUTH\", nine rows have a ZIP of 02747-1262, one row has a ZIP of 02747-1242 and one row has a ZIP of 02747-2537:"
            ]
        },
        {
            "cell_type": "code",
            "execution_count": null,
            "id": "12bd0b49-68c9-43d6-874f-3365592546ae",
            "metadata": {},
            "outputs": [],
            "source": [
                "providers[providers.CITY == 'DARTMOUTH'].ZIP.value_counts()"
            ]
        },
        {
            "cell_type": "markdown",
            "id": "7dbbf06f-6833-44f2-a40c-1125e074f730",
            "metadata": {},
            "source": [
                "There are other ZIP codes associated with \"DARTMOUTH\", but these aren't shown in the graph of dependency violations, as they don't hint at data quality issues. An example is \"02747-4302\" that is uniquely associated to \"DARTMOUTH\":"
            ]
        },
        {
            "cell_type": "code",
            "execution_count": null,
            "id": "5d390dd3-2c72-418e-8368-96537f04d09e",
            "metadata": {},
            "outputs": [],
            "source": [
                "providers[providers.ZIP == '02747-4302'].CITY.value_counts()"
            ]
        },
        {
            "cell_type": "markdown",
            "id": "bd42a79a-1ec5-4a3b-95f2-1bfd0667dd56",
            "metadata": {
                "nteract": {
                    "transient": {
                        "deleting": false
                    }
                }
            },
            "source": [
                "## Summarize data quality issues detected with SemPy"
            ]
        },
        {
            "cell_type": "markdown",
            "id": "4783d3d6-52eb-4def-8390-f8200df8ea2b",
            "metadata": {},
            "source": [
                "Going back to the graph of dependency violations, you can see that there are actually several interesting data quality issues present in this dataset:\n",
                "\n",
                "- Some city names are all-caps. This is an easy to fix using string methods.\n",
                "- Some city names have qualifiers, with \"2128\" mapping to \"EAST BOSTON\" once and to \"BOSTON\" once. A similar issue happens between \"NORTH DARTHMOUTH\" and \"DARTHMOUTH\". You could try to drop these qualifiers or map to the most common occurrence.\n",
                "- There are typos in some cities, such as \"PITTSFIELD\" vs \"PITTSFILED\" and \"NEWBURGPORT vs \"NEWBURYPORT\". In the case of \"NEWBURGPORT\" this typo could be fixed by using the most common occurrence. In the case of \"PITTSFIELD\", having only one occurrence each makes it much harder for automatic disambiguation without external knowledge or a language model.\n",
                "- Sometimes, prefixes like \"West\" are abbreviated to a single letter \"W\". This could potentially be fixed with a simple replace, if all occurrences of \"W\" stand for \"West\".\n",
                "- \"02130\" maps to \"BOSTON\" once and \"Jamaica Plain\" once. This issue is not easy to fix, but if there was more data, mapping to the most common occurrence might be useful."
            ]
        },
        {
            "cell_type": "markdown",
            "id": "e5b30852-1ebe-4e3e-9502-1cb97c667cd2",
            "metadata": {
                "nteract": {
                    "transient": {
                        "deleting": false
                    }
                }
            },
            "source": [
                "## Clean data"
            ]
        },
        {
            "cell_type": "markdown",
            "id": "a5bdc11a-0304-4b94-aa93-763919afe9eb",
            "metadata": {
                "nteract": {
                    "transient": {
                        "deleting": false
                    }
                }
            },
            "source": [
                "Fix the capitalization issues by changing all capitalization to \"title\":"
            ]
        },
        {
            "cell_type": "code",
            "execution_count": 11,
            "id": "6fccf412-bb86-4c8e-8284-762cb3112cac",
            "metadata": {},
            "outputs": [
                {
                    "data": {
                        "application/vnd.livy.statement-meta+json": {
                            "execution_finish_time": "2023-08-30T07:16:59.7478055Z",
                            "execution_start_time": "2023-08-30T07:16:59.1153332Z",
                            "livy_statement_state": "available",
                            "parent_msg_id": "68df735c-60af-4121-ba16-2e2b2d79b808",
                            "queued_time": "2023-08-30T07:16:58.699454Z",
                            "session_id": "9afa62c0-2f41-4e2f-beee-d9693947e160",
                            "session_start_time": null,
                            "spark_jobs": {
                                "jobs": [],
                                "limit": 20,
                                "numbers": {
                                    "FAILED": 0,
                                    "RUNNING": 0,
                                    "SUCCEEDED": 0,
                                    "UNKNOWN": 0
                                },
                                "rule": "ALL_DESC"
                            },
                            "spark_pool": null,
                            "state": "finished",
                            "statement_id": 20
                        },
                        "text/plain": [
                            "StatementMeta(, 9afa62c0-2f41-4e2f-beee-d9693947e160, 20, Finished, Available)"
                        ]
                    },
                    "metadata": {},
                    "output_type": "display_data"
                }
            ],
            "source": [
                "providers['CITY'] = providers.CITY.str.title()"
            ]
        },
        {
            "cell_type": "markdown",
            "id": "59015b9a-15f9-4077-8721-bb3dc1140623",
            "metadata": {},
            "source": [
                "Now, running the violation detection again to see that some of the ambiguities have been removed (the number of violations is smaller):"
            ]
        },
        {
            "cell_type": "code",
            "execution_count": 12,
            "id": "21bab59d-5972-40bc-bdfa-78e61c488325",
            "metadata": {},
            "outputs": [
                {
                    "data": {
                        "application/vnd.livy.statement-meta+json": {
                            "execution_finish_time": "2023-08-30T07:17:15.4576553Z",
                            "execution_start_time": "2023-08-30T07:17:15.1054726Z",
                            "livy_statement_state": "available",
                            "parent_msg_id": "7ffcc932-a1d3-4d62-8a5b-e1639f2ea695",
                            "queued_time": "2023-08-30T07:17:14.7493036Z",
                            "session_id": "9afa62c0-2f41-4e2f-beee-d9693947e160",
                            "session_start_time": null,
                            "spark_jobs": {
                                "jobs": [],
                                "limit": 20,
                                "numbers": {
                                    "FAILED": 0,
                                    "RUNNING": 0,
                                    "SUCCEEDED": 0,
                                    "UNKNOWN": 0
                                },
                                "rule": "ALL_DESC"
                            },
                            "spark_pool": null,
                            "state": "finished",
                            "statement_id": 21
                        },
                        "text/plain": [
                            "StatementMeta(, 9afa62c0-2f41-4e2f-beee-d9693947e160, 21, Finished, Available)"
                        ]
                    },
                    "metadata": {},
                    "output_type": "display_data"
                },
                {
                    "data": {
                        "text/html": [
                            "<div>\n",
                            "<style scoped>\n",
                            "    .dataframe tbody tr th:only-of-type {\n",
                            "        vertical-align: middle;\n",
                            "    }\n",
                            "\n",
                            "    .dataframe tbody tr th {\n",
                            "        vertical-align: top;\n",
                            "    }\n",
                            "\n",
                            "    .dataframe thead th {\n",
                            "        text-align: right;\n",
                            "    }\n",
                            "</style>\n",
                            "<table border=\"1\" class=\"dataframe\">\n",
                            "  <thead>\n",
                            "    <tr style=\"text-align: right;\">\n",
                            "      <th></th>\n",
                            "      <th>ZIP</th>\n",
                            "      <th>CITY</th>\n",
                            "      <th>count</th>\n",
                            "    </tr>\n",
                            "  </thead>\n",
                            "  <tbody>\n",
                            "    <tr>\n",
                            "      <th>0</th>\n",
                            "      <td>02135-3514</td>\n",
                            "      <td>Boston</td>\n",
                            "      <td>53</td>\n",
                            "    </tr>\n",
                            "    <tr>\n",
                            "      <th>1</th>\n",
                            "      <td>02135-3514</td>\n",
                            "      <td>Brighton</td>\n",
                            "      <td>2</td>\n",
                            "    </tr>\n",
                            "    <tr>\n",
                            "      <th>2</th>\n",
                            "      <td>02747-1262</td>\n",
                            "      <td>Dartmouth</td>\n",
                            "      <td>9</td>\n",
                            "    </tr>\n",
                            "    <tr>\n",
                            "      <th>3</th>\n",
                            "      <td>02747-1262</td>\n",
                            "      <td>North Dartmouth</td>\n",
                            "      <td>1</td>\n",
                            "    </tr>\n",
                            "    <tr>\n",
                            "      <th>4</th>\n",
                            "      <td>01950</td>\n",
                            "      <td>Newburgport</td>\n",
                            "      <td>3</td>\n",
                            "    </tr>\n",
                            "    <tr>\n",
                            "      <th>5</th>\n",
                            "      <td>01950</td>\n",
                            "      <td>Newburyport</td>\n",
                            "      <td>1</td>\n",
                            "    </tr>\n",
                            "    <tr>\n",
                            "      <th>6</th>\n",
                            "      <td>02190-2314</td>\n",
                            "      <td>South Weymouth</td>\n",
                            "      <td>3</td>\n",
                            "    </tr>\n",
                            "    <tr>\n",
                            "      <th>7</th>\n",
                            "      <td>02190-2314</td>\n",
                            "      <td>Weymouth</td>\n",
                            "      <td>1</td>\n",
                            "    </tr>\n",
                            "    <tr>\n",
                            "      <th>8</th>\n",
                            "      <td>02668-1142</td>\n",
                            "      <td>W Barnstable</td>\n",
                            "      <td>3</td>\n",
                            "    </tr>\n",
                            "    <tr>\n",
                            "      <th>9</th>\n",
                            "      <td>02668-1142</td>\n",
                            "      <td>West Barnstable</td>\n",
                            "      <td>2</td>\n",
                            "    </tr>\n",
                            "    <tr>\n",
                            "      <th>10</th>\n",
                            "      <td>02747-2537</td>\n",
                            "      <td>Dartmouth</td>\n",
                            "      <td>3</td>\n",
                            "    </tr>\n",
                            "    <tr>\n",
                            "      <th>11</th>\n",
                            "      <td>02747-2537</td>\n",
                            "      <td>North Dartmouth</td>\n",
                            "      <td>1</td>\n",
                            "    </tr>\n",
                            "    <tr>\n",
                            "      <th>12</th>\n",
                            "      <td>02576-1208</td>\n",
                            "      <td>W Wareham</td>\n",
                            "      <td>2</td>\n",
                            "    </tr>\n",
                            "    <tr>\n",
                            "      <th>13</th>\n",
                            "      <td>02576-1208</td>\n",
                            "      <td>West Wareham</td>\n",
                            "      <td>1</td>\n",
                            "    </tr>\n",
                            "    <tr>\n",
                            "      <th>14</th>\n",
                            "      <td>01201</td>\n",
                            "      <td>Pittsfield</td>\n",
                            "      <td>1</td>\n",
                            "    </tr>\n",
                            "    <tr>\n",
                            "      <th>15</th>\n",
                            "      <td>01201</td>\n",
                            "      <td>Pittsfiled</td>\n",
                            "      <td>1</td>\n",
                            "    </tr>\n",
                            "    <tr>\n",
                            "      <th>16</th>\n",
                            "      <td>02130</td>\n",
                            "      <td>Boston</td>\n",
                            "      <td>1</td>\n",
                            "    </tr>\n",
                            "    <tr>\n",
                            "      <th>17</th>\n",
                            "      <td>02130</td>\n",
                            "      <td>Jamaica Plain</td>\n",
                            "      <td>1</td>\n",
                            "    </tr>\n",
                            "    <tr>\n",
                            "      <th>18</th>\n",
                            "      <td>02747-1242</td>\n",
                            "      <td>Dartmouth</td>\n",
                            "      <td>1</td>\n",
                            "    </tr>\n",
                            "    <tr>\n",
                            "      <th>19</th>\n",
                            "      <td>02747-1242</td>\n",
                            "      <td>North Dartmouth</td>\n",
                            "      <td>1</td>\n",
                            "    </tr>\n",
                            "    <tr>\n",
                            "      <th>20</th>\n",
                            "      <td>2128</td>\n",
                            "      <td>Boston</td>\n",
                            "      <td>1</td>\n",
                            "    </tr>\n",
                            "    <tr>\n",
                            "      <th>21</th>\n",
                            "      <td>2128</td>\n",
                            "      <td>East Boston</td>\n",
                            "      <td>1</td>\n",
                            "    </tr>\n",
                            "  </tbody>\n",
                            "</table>\n",
                            "</div>"
                        ],
                        "text/plain": [
                            "           ZIP             CITY  count\n",
                            "0   02135-3514           Boston     53\n",
                            "1   02135-3514         Brighton      2\n",
                            "2   02747-1262        Dartmouth      9\n",
                            "3   02747-1262  North Dartmouth      1\n",
                            "4        01950      Newburgport      3\n",
                            "5        01950      Newburyport      1\n",
                            "6   02190-2314   South Weymouth      3\n",
                            "7   02190-2314         Weymouth      1\n",
                            "8   02668-1142     W Barnstable      3\n",
                            "9   02668-1142  West Barnstable      2\n",
                            "10  02747-2537        Dartmouth      3\n",
                            "11  02747-2537  North Dartmouth      1\n",
                            "12  02576-1208        W Wareham      2\n",
                            "13  02576-1208     West Wareham      1\n",
                            "14       01201       Pittsfield      1\n",
                            "15       01201       Pittsfiled      1\n",
                            "16       02130           Boston      1\n",
                            "17       02130    Jamaica Plain      1\n",
                            "18  02747-1242        Dartmouth      1\n",
                            "19  02747-1242  North Dartmouth      1\n",
                            "20        2128           Boston      1\n",
                            "21        2128      East Boston      1"
                        ]
                    },
                    "execution_count": 34,
                    "metadata": {},
                    "output_type": "execute_result"
                }
            ],
            "source": [
                "providers.list_dependency_violations('ZIP', 'CITY')"
            ]
        },
        {
            "cell_type": "markdown",
            "id": "3d55f86a-84dd-4fef-8973-96e16352aaef",
            "metadata": {},
            "source": [
                "At this point, you could refine your data more manually, but one potential data cleanup task is to drop rows that violate functional constraints between columns in the data, by using SemPy's ``drop_dependency_violations`` function. For each value of the determinant, this function works by picking the most common value of the dependent and dropping all rows with other values. You should apply this operation only if you're confident that this statistical heuristic would lead to the correct results for your data. Otherwise you should write your own code to handle the detected violations as needed."
            ]
        },
        {
            "cell_type": "code",
            "execution_count": 13,
            "id": "4dfb40ff-4a63-46dc-8000-e2cb1719c1c8",
            "metadata": {},
            "outputs": [
                {
                    "data": {
                        "application/vnd.livy.statement-meta+json": {
                            "execution_finish_time": "2023-08-30T07:17:46.6925252Z",
                            "execution_start_time": "2023-08-30T07:17:46.3669669Z",
                            "livy_statement_state": "available",
                            "parent_msg_id": "5b2dfef3-6619-4ce7-83aa-0dd5d387f337",
                            "queued_time": "2023-08-30T07:17:46.0273702Z",
                            "session_id": "9afa62c0-2f41-4e2f-beee-d9693947e160",
                            "session_start_time": null,
                            "spark_jobs": {
                                "jobs": [],
                                "limit": 20,
                                "numbers": {
                                    "FAILED": 0,
                                    "RUNNING": 0,
                                    "SUCCEEDED": 0,
                                    "UNKNOWN": 0
                                },
                                "rule": "ALL_DESC"
                            },
                            "spark_pool": null,
                            "state": "finished",
                            "statement_id": 22
                        },
                        "text/plain": [
                            "StatementMeta(, 9afa62c0-2f41-4e2f-beee-d9693947e160, 22, Finished, Available)"
                        ]
                    },
                    "metadata": {},
                    "output_type": "display_data"
                },
                {
                    "name": "stdout",
                    "output_type": "stream",
                    "text": [
                        "No violations\n"
                    ]
                },
                {
                    "data": {
                        "text/html": [
                            "<div>\n",
                            "<style scoped>\n",
                            "    .dataframe tbody tr th:only-of-type {\n",
                            "        vertical-align: middle;\n",
                            "    }\n",
                            "\n",
                            "    .dataframe tbody tr th {\n",
                            "        vertical-align: top;\n",
                            "    }\n",
                            "\n",
                            "    .dataframe thead th {\n",
                            "        text-align: right;\n",
                            "    }\n",
                            "</style>\n",
                            "<table border=\"1\" class=\"dataframe\">\n",
                            "  <thead>\n",
                            "    <tr style=\"text-align: right;\">\n",
                            "      <th></th>\n",
                            "      <th>ZIP</th>\n",
                            "      <th>CITY</th>\n",
                            "      <th>count</th>\n",
                            "    </tr>\n",
                            "  </thead>\n",
                            "  <tbody>\n",
                            "  </tbody>\n",
                            "</table>\n",
                            "</div>"
                        ],
                        "text/plain": [
                            "Empty FabricDataFrame\n",
                            "Columns: [ZIP, CITY, count]\n",
                            "Index: []"
                        ]
                    },
                    "execution_count": 37,
                    "metadata": {},
                    "output_type": "execute_result"
                }
            ],
            "source": [
                "providers_clean = providers.drop_dependency_violations('ZIP', 'CITY')\n",
                "providers_clean.list_dependency_violations('ZIP', 'CITY')"
            ]
        },
        {
            "cell_type": "markdown",
            "id": "1e1cdda2-f94e-4738-b51c-f9022c830ecf",
            "metadata": {},
            "source": [
                "After this operation, there are no more violations of the functional constraint **CITY -> ZIP**, as shown with the help of the ``list_dependency_violations`` function."
            ]
        },
        {
            "cell_type": "markdown",
            "id": "5fb2e185-5e4d-45ac-b7b3-ae0221507423",
            "metadata": {
                "nteract": {
                    "transient": {
                        "deleting": false
                    }
                }
            },
            "source": [
                "## Next step\n",
                "\n",
                "Try using the learned ways of detecting data quality issues on your data and get amazed with the discoveries!"
            ]
        },
        {
            "cell_type": "markdown",
            "id": "0e0b57cf-b152-43bc-b2c6-568d6e108a53",
            "metadata": {
                "nteract": {
                    "transient": {
                        "deleting": false
                    }
                }
            },
            "source": [
                "## Related content\n",
                "\n",
                "Check out other tutorials for Semantic Link / SemPy:\n",
                "1. Analyze Functional Dependencies in a PowerBI Sample Dataset\n",
                "1. Detect Relationships in SYNTHEA dataset\n",
                "1. Detect Relationships in a PowerBI Sample Dataset\n",
                "1. Extract and Calculate PowerBI Measures from Jupyter Notebook"
            ]
        },
        {
            "cell_type": "code",
            "execution_count": null,
            "id": "5c82583e-8e2a-4529-8463-746af371c30b",
            "metadata": {
                "jupyter": {
                    "outputs_hidden": false,
                    "source_hidden": false
                },
                "nteract": {
                    "transient": {
                        "deleting": false
                    }
                }
            },
            "outputs": [],
            "source": []
        }
    ],
    "metadata": {
        "kernel_info": {
            "name": "synapse_pyspark"
        },
        "kernelspec": {
            "display_name": "Synapse PySpark",
            "name": "synapse_pyspark"
        },
        "language_info": {
            "name": "python"
        },
        "microsoft": {
            "host": {},
            "language": "python",
            "ms_spell_check": {
                "ms_spell_check_language": "en"
            }
        },
        "nbsphinx": {
            "execute": "always"
        },
        "notebook_environment": {},
        "nteract": {
            "version": "nteract-front-end@1.0.0"
        },
        "save_output": true,
        "spark_compute": {
            "compute_id": "/trident/default",
            "session_options": {
                "conf": {},
                "enableDebugMode": false
            }
        },
        "synapse_widget": {
            "state": {},
            "version": "0.1"
        },
        "trident": {
            "lakehouse": {
                "default_lakehouse": "11631641-5456-4f90-90b3-431e0cf03650",
                "default_lakehouse_name": "foo",
                "default_lakehouse_workspace_id": "1895b289-58e6-4ccb-8548-b5ef3dc312b3",
                "known_lakehouses": [
                    {
                        "id": "11631641-5456-4f90-90b3-431e0cf03650"
                    }
                ]
            }
        },
        "vscode": {
            "interpreter": {
                "hash": "c0b0f2a33ff5d8c93ae4bacc4655fa76e802a6b7ccfde6a2f377a49527fbc8e5"
            }
        },
        "widgets": {}
    },
    "nbformat": 4,
    "nbformat_minor": 5
}
