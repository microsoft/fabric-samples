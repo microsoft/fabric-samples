{
    "cells": [{
            "cell_type": "markdown",
            "source": ["# Tutorial: Clean Data with Functional Dependencies\n", "\n", "In this notebook, we will use functional dependencies for data cleaning. A functional dependency exists when one column in a dataset is a function of another column. For example, the Zip Code might determine the City. A functional dependency manifests itself as a one-to-many relationship between the values in two (or more) columns within a DataFrame (which does not occur if the dataset adheres to 3rd normal form). This tutorial uses the SYNTHEA dataset to show how functional relationships can be instrumental in the automatic detection of data quality problems.\n"],
            "metadata": {},
            "id": "3e197789-8439-4f1e-bf59-cf42d0d8408a"
        }, {
            "cell_type": "markdown",
            "source": ["### In this tutorial, you learn how to:\n", "- Apply domain knowledge to formulate hypotheses about functional dependencies in a dataset;\n", "- Get familiarized with components of Semantic Link's Python library ([SemPy](https://learn.microsoft.com/en-us/python/api/semantic-link-sempy)) that helps to automate data quality analysis. These components include:\n", "    - FabricDataFrame - a pandas-like structure enhanced with additional semantic information;\n", "    - Useful functions that automate the evaluation of hypothesis about functional dependencies and that identify violations of relationships in your datasets."],
            "metadata": {
                "nteract": {
                    "transient": {
                        "deleting": false
                    }
                }
            },
            "id": "a7ae010c-fc84-407f-9fbb-6f2c7a3fcc26"
        }, {
            "cell_type": "markdown",
            "source": ["### Prerequisites\n", "\n", "* A [Microsoft Fabric subscription](https://learn.microsoft.com/fabric/enterprise/licenses). Or sign up for a free [Microsoft Fabric (Preview) trial](https://learn.microsoft.com/fabric/get-started/fabric-trial).\n", "* Sign in to [Microsoft Fabric](https://fabric.microsoft.com/).\n", "* Go to the Data Science experience in Microsoft Fabric.\n", "* Select **Workspaces** from the left navigation pane to find and select your workspace. This workspace becomes your current workspace.\n", "* Open your notebook. You have two options:\n", "    * [Import this notebook into your workspace](https://learn.microsoft.com/en-us/fabric/data-engineering/how-to-use-notebook#import-existing-notebooks). You can import from the Data Science homepage.\n", "    * Alternatively, you can create [a new notebook](https://learn.microsoft.com/fabric/data-engineering/how-to-use-notebook#create-notebooks) to copy/paste code into cells.\n", "* In the Lakehouse explorer section of your notebook, add a new or existing lakehouse to your notebook. For more information on how to add a lakehouse, see [Attach a lakehouse to your notebook](https://learn.microsoft.com/en-us/fabric/data-science/tutorial-data-science-prepare-system#attach-a-lakehouse-to-the-notebooks)."],
            "metadata": {
                "nteract": {
                    "transient": {
                        "deleting": false
                    }
                }
            },
            "id": "d95b104c-b5bf-4727-b8b8-7f4f4918a9d0"
        }, {
            "cell_type": "markdown",
            "source": ["## Set up the notebook\n", "\n", "In this section, you'll set up a notebook environment with the necessary modules and data."],
            "metadata": {
                "nteract": {
                    "transient": {
                        "deleting": false
                    }
                }
            },
            "id": "b8e0ab94-358c-4b5f-9e76-9b735ab9452f"
        }, {
            "cell_type": "markdown",
            "source": ["First, install `SemPy` from PyPI using pip magic command:"],
            "metadata": {
                "nteract": {
                    "transient": {
                        "deleting": false
                    }
                }
            },
            "id": "c3b6e2b5-78f6-4174-969f-2615fa22e635"
        }, {
            "cell_type": "code",
            "source": ["%pip install semantic-link"],
            "outputs": [{
                    "output_type": "display_data",
                    "data": {
                        "application/vnd.livy.statement-meta+json": {
                            "spark_pool": null,
                            "session_id": "f2c4993a-3758-48f6-980e-8ba43ff0f957",
                            "statement_id": -1,
                            "state": "finished",
                            "livy_statement_state": "available",
                            "queued_time": "2023-09-13T03:52:19.516603Z",
                            "session_start_time": null,
                            "execution_start_time": "2023-09-13T03:52:52.4005078Z",
                            "execution_finish_time": "2023-09-13T03:52:52.4007042Z",
                            "spark_jobs": {
                                "numbers": {
                                    "FAILED": 0,
                                    "RUNNING": 0,
                                    "SUCCEEDED": 0,
                                    "UNKNOWN": 0
                                },
                                "jobs": [],
                                "limit": 20,
                                "rule": "ALL_DESC"
                            },
                            "parent_msg_id": "b77de37c-f534-4694-99e7-e60e39431b3d"
                        },
                        "text/plain": "StatementMeta(, f2c4993a-3758-48f6-980e-8ba43ff0f957, -1, Finished, Available)"
                    },
                    "metadata": {}
                }, {
                    "output_type": "execute_result",
                    "execution_count": 1,
                    "data": {},
                    "metadata": {}
                }, {
                    "output_type": "stream",
                    "name": "stdout",
                    "text": ["Collecting semantic-link\n  Downloading semantic_link-0.3.1-py3-none-any.whl (8.1 kB)\nCollecting semantic-link-sempy==0.3.1\n  Downloading semantic_link_sempy-0.3.1-py3-none-any.whl (2.8 MB)\n\u001b[2K     \u001b[90m━━━━━━━━━━━━━━━━━━━━━━━━━━━━━━━━━━━━━━━━\u001b[0m \u001b[32m2.8/2.8 MB\u001b[0m \u001b[31m63.0 MB/s\u001b[0m eta \u001b[36m0:00:00\u001b[0ma \u001b[36m0:00:01\u001b[0m\n\u001b[?25hCollecting semantic-link-functions-phonenumbers==0.3.1\n  Downloading semantic_link_functions_phonenumbers-0.3.1-py3-none-any.whl (4.3 kB)\nCollecting semantic-link-functions-meteostat==0.3.1\n  Downloading semantic_link_functions_meteostat-0.3.1-py3-none-any.whl (4.5 kB)\nCollecting semantic-link-functions-validators==0.3.1\n  Downloading semantic_link_functions_validators-0.3.1-py3-none-any.whl (4.7 kB)\nCollecting semantic-link-functions-geopandas==0.3.1\n  Downloading semantic_link_functions_geopandas-0.3.1-py3-none-any.whl (4.0 kB)\nCollecting semantic-link-functions-holidays==0.3.1\n  Downloading semantic_link_functions_holidays-0.3.1-py3-none-any.whl (4.2 kB)\nCollecting mapclassify\n  Downloading mapclassify-2.6.0-py3-none-any.whl (40 kB)\n\u001b[2K     \u001b[90m━━━━━━━━━━━━━━━━━━━━━━━━━━━━━━━━━━━━━━━━\u001b[0m \u001b[32m40.8/40.8 kB\u001b[0m \u001b[31m21.3 MB/s\u001b[0m eta \u001b[36m0:00:00\u001b[0m\n\u001b[?25hCollecting geopandas\n  Downloading geopandas-0.13.2-py3-none-any.whl (1.1 MB)\n\u001b[2K     \u001b[90m━━━━━━━━━━━━━━━━━━━━━━━━━━━━━━━━━━━━━━━━\u001b[0m \u001b[32m1.1/1.1 MB\u001b[0m \u001b[31m157.7 MB/s\u001b[0m eta \u001b[36m0:00:00\u001b[0m\n\u001b[?25hCollecting folium\n  Downloading folium-0.14.0-py2.py3-none-any.whl (102 kB)\n\u001b[2K     \u001b[90m━━━━━━━━━━━━━━━━━━━━━━━━━━━━━━━━━━━━━━\u001b[0m \u001b[32m102.3/102.3 kB\u001b[0m \u001b[31m48.1 MB/s\u001b[0m eta \u001b[36m0:00:00\u001b[0m\n\u001b[?25hCollecting holidays\n  Downloading holidays-0.32-py3-none-any.whl (754 kB)\n\u001b[2K     \u001b[90m━━━━━━━━━━━━━━━━━━━━━━━━━━━━━━━━━━━━━\u001b[0m \u001b[32m754.4/754.4 kB\u001b[0m \u001b[31m149.8 MB/s\u001b[0m eta \u001b[36m0:00:00\u001b[0m\n\u001b[?25hCollecting meteostat\n  Downloading meteostat-1.6.5-py3-none-any.whl (31 kB)\nCollecting phonenumbers\n  Downloading phonenumbers-8.13.20-py2.py3-none-any.whl (2.6 MB)\n\u001b[2K     \u001b[90m━━━━━━━━━━━━━━━━━━━━━━━━━━━━━━━━━━━━━━━━\u001b[0m \u001b[32m2.6/2.6 MB\u001b[0m \u001b[31m169.8 MB/s\u001b[0m eta \u001b[36m0:00:00\u001b[0m\n\u001b[?25hCollecting validators\n  Downloading validators-0.22.0-py3-none-any.whl (26 kB)\nCollecting pythonnet==3.0.1\n  Downloading pythonnet-3.0.1-py3-none-any.whl (284 kB)\n\u001b[2K     \u001b[90m━━━━━━━━━━━━━━━━━━━━━━━━━━━━━━━━━━━━━\u001b[0m \u001b[32m284.5/284.5 kB\u001b[0m \u001b[31m106.7 MB/s\u001b[0m eta \u001b[36m0:00:00\u001b[0m\n\u001b[?25hCollecting clr-loader<0.3.0,>=0.2.2\n  Downloading clr_loader-0.2.6-py3-none-any.whl (51 kB)\n\u001b[2K     \u001b[90m━━━━━━━━━━━━━━━━━━━━━━━━━━━━━━━━━━━━━━━━\u001b[0m \u001b[32m51.3/51.3 kB\u001b[0m \u001b[31m28.9 MB/s\u001b[0m eta \u001b[36m0:00:00\u001b[0m\n\u001b[?25hRequirement already satisfied: jinja2>=2.9 in /home/trusted-service-user/cluster-env/trident_env/lib/python3.10/site-packages (from folium->semantic-link-functions-geopandas==0.3.1->semantic-link) (3.1.2)\nRequirement already satisfied: numpy in /home/trusted-service-user/cluster-env/trident_env/lib/python3.10/site-packages (from folium->semantic-link-functions-geopandas==0.3.1->semantic-link) (1.23.5)\nCollecting branca>=0.6.0\n  Downloading branca-0.6.0-py3-none-any.whl (24 kB)\nRequirement already satisfied: requests in /home/trusted-service-user/cluster-env/trident_env/lib/python3.10/site-packages (from folium->semantic-link-functions-geopandas==0.3.1->semantic-link) (2.28.2)\nCollecting pyproj>=3.0.1\n  Downloading pyproj-3.6.0-cp310-cp310-manylinux_2_17_x86_64.manylinux2014_x86_64.whl (7.9 MB)\n\u001b[2K     \u001b[90m━━━━━━━━━━━━━━━━━━━━━━━━━━━━━━━━━━━━━━━━\u001b[0m \u001b[32m7.9/7.9 MB\u001b[0m \u001b[31m175.2 MB/s\u001b[0m eta \u001b[36m0:00:00\u001b[0m00:01\u001b[0m\n\u001b[?25hRequirement already satisfied: pandas>=1.1.0 in /home/trusted-service-user/cluster-env/trident_env/lib/python3.10/site-packages (from geopandas->semantic-link-functions-geopandas==0.3.1->semantic-link) (1.5.3)\nCollecting fiona>=1.8.19\n  Downloading Fiona-1.9.4.post1-cp310-cp310-manylinux_2_17_x86_64.manylinux2014_x86_64.whl (16.4 MB)\n\u001b[2K     \u001b[90m━━━━━━━━━━━━━━━━━━━━━━━━━━━━━━━━━━━━━━━\u001b[0m \u001b[32m16.4/16.4 MB\u001b[0m \u001b[31m119.1 MB/s\u001b[0m eta \u001b[36m0:00:00\u001b[0m00:01\u001b[0m00:01\u001b[0m\n\u001b[?25hCollecting shapely>=1.7.1\n  Downloading shapely-2.0.1-cp310-cp310-manylinux_2_17_x86_64.manylinux2014_x86_64.whl (2.3 MB)\n\u001b[2K     \u001b[90m━━━━━━━━━━━━━━━━━━━━━━━━━━━━━━━━━━━━━━━━\u001b[0m \u001b[32m2.3/2.3 MB\u001b[0m \u001b[31m168.5 MB/s\u001b[0m eta \u001b[36m0:00:00\u001b[0m\n\u001b[?25hRequirement already satisfied: packaging in /home/trusted-service-user/cluster-env/trident_env/lib/python3.10/site-packages (from geopandas->semantic-link-functions-geopandas==0.3.1->semantic-link) (21.3)\nRequirement already satisfied: python-dateutil in /home/trusted-service-user/cluster-env/trident_env/lib/python3.10/site-packages (from holidays->semantic-link-functions-holidays==0.3.1->semantic-link) (2.8.2)\nCollecting networkx\n  Downloading networkx-3.1-py3-none-any.whl (2.1 MB)\n\u001b[2K     \u001b[90m━━━━━━━━━━━━━━━━━━━━━━━━━━━━━━━━━━━━━━━━\u001b[0m \u001b[32m2.1/2.1 MB\u001b[0m \u001b[31m187.2 MB/s\u001b[0m eta \u001b[36m0:00:00\u001b[0m\n\u001b[?25hRequirement already satisfied: scikit-learn in /home/trusted-service-user/cluster-env/trident_env/lib/python3.10/site-packages (from mapclassify->semantic-link-functions-geopandas==0.3.1->semantic-link) (1.2.0)\nRequirement already satisfied: scipy>=1.0 in /home/trusted-service-user/cluster-env/trident_env/lib/python3.10/site-packages (from mapclassify->semantic-link-functions-geopandas==0.3.1->semantic-link) (1.10.1)\nRequirement already satisfied: pytz in /home/trusted-service-user/cluster-env/trident_env/lib/python3.10/site-packages (from meteostat->semantic-link-functions-meteostat==0.3.1->semantic-link) (2022.7.1)\nRequirement already satisfied: cffi>=1.13 in /home/trusted-service-user/cluster-env/trident_env/lib/python3.10/site-packages (from clr-loader<0.3.0,>=0.2.2->pythonnet==3.0.1->semantic-link-sempy==0.3.1->semantic-link) (1.15.1)\nCollecting cligj>=0.5\n  Downloading cligj-0.7.2-py3-none-any.whl (7.1 kB)\nCollecting click-plugins>=1.0\n  Downloading click_plugins-1.1.1-py2.py3-none-any.whl (7.5 kB)\nRequirement already satisfied: click~=8.0 in /home/trusted-service-user/cluster-env/trident_env/lib/python3.10/site-packages (from fiona>=1.8.19->geopandas->semantic-link-functions-geopandas==0.3.1->semantic-link) (8.1.3)\nRequirement already satisfied: attrs>=19.2.0 in /home/trusted-service-user/cluster-env/trident_env/lib/python3.10/site-packages (from fiona>=1.8.19->geopandas->semantic-link-functions-geopandas==0.3.1->semantic-link) (22.2.0)\nRequirement already satisfied: certifi in /home/trusted-service-user/cluster-env/trident_env/lib/python3.10/site-packages (from fiona>=1.8.19->geopandas->semantic-link-functions-geopandas==0.3.1->semantic-link) (2022.12.7)\nRequirement already satisfied: six in /home/trusted-service-user/cluster-env/trident_env/lib/python3.10/site-packages (from fiona>=1.8.19->geopandas->semantic-link-functions-geopandas==0.3.1->semantic-link) (1.16.0)\nRequirement already satisfied: MarkupSafe>=2.0 in /home/trusted-service-user/cluster-env/trident_env/lib/python3.10/site-packages (from jinja2>=2.9->folium->semantic-link-functions-geopandas==0.3.1->semantic-link) (2.1.2)\nRequirement already satisfied: pyparsing!=3.0.5,>=2.0.2 in /home/trusted-service-user/cluster-env/trident_env/lib/python3.10/site-packages (from packaging->geopandas->semantic-link-functions-geopandas==0.3.1->semantic-link) (3.0.9)\nRequirement already satisfied: urllib3<1.27,>=1.21.1 in /home/trusted-service-user/cluster-env/trident_env/lib/python3.10/site-packages (from requests->folium->semantic-link-functions-geopandas==0.3.1->semantic-link) (1.26.14)\nRequirement already satisfied: idna<4,>=2.5 in /home/trusted-service-user/cluster-env/trident_env/lib/python3.10/site-packages (from requests->folium->semantic-link-functions-geopandas==0.3.1->semantic-link) (3.4)\nRequirement already satisfied: charset-normalizer<4,>=2 in /home/trusted-service-user/cluster-env/trident_env/lib/python3.10/site-packages (from requests->folium->semantic-link-functions-geopandas==0.3.1->semantic-link) (2.1.1)\nRequirement already satisfied: threadpoolctl>=2.0.0 in /home/trusted-service-user/cluster-env/trident_env/lib/python3.10/site-packages (from scikit-learn->mapclassify->semantic-link-functions-geopandas==0.3.1->semantic-link) (3.1.0)\nRequirement already satisfied: joblib>=1.1.1 in /home/trusted-service-user/cluster-env/trident_env/lib/python3.10/site-packages (from scikit-learn->mapclassify->semantic-link-functions-geopandas==0.3.1->semantic-link) (1.2.0)\nRequirement already satisfied: pycparser in /home/trusted-service-user/cluster-env/trident_env/lib/python3.10/site-packages (from cffi>=1.13->clr-loader<0.3.0,>=0.2.2->pythonnet==3.0.1->semantic-link-sempy==0.3.1->semantic-link) (2.21)\nInstalling collected packages: phonenumbers, validators, shapely, pyproj, networkx, cligj, click-plugins, holidays, fiona, clr-loader, branca, pythonnet, meteostat, mapclassify, geopandas, folium, semantic-link-sempy, semantic-link-functions-validators, semantic-link-functions-phonenumbers, semantic-link-functions-meteostat, semantic-link-functions-holidays, semantic-link-functions-geopandas, semantic-link\nSuccessfully installed branca-0.6.0 click-plugins-1.1.1 cligj-0.7.2 clr-loader-0.2.6 fiona-1.9.4.post1 folium-0.14.0 geopandas-0.13.2 holidays-0.32 mapclassify-2.6.0 meteostat-1.6.5 networkx-3.1 phonenumbers-8.13.20 pyproj-3.6.0 pythonnet-3.0.1 semantic-link-0.3.1 semantic-link-functions-geopandas-0.3.1 semantic-link-functions-holidays-0.3.1 semantic-link-functions-meteostat-0.3.1 semantic-link-functions-phonenumbers-0.3.1 semantic-link-functions-validators-0.3.1 semantic-link-sempy-0.3.1 shapely-2.0.1 validators-0.22.0\n\n\u001b[1m[\u001b[0m\u001b[34;49mnotice\u001b[0m\u001b[1;39;49m]\u001b[0m\u001b[39;49m A new release of pip is available: \u001b[0m\u001b[31;49m23.0\u001b[0m\u001b[39;49m -> \u001b[0m\u001b[32;49m23.2.1\u001b[0m\n\u001b[1m[\u001b[0m\u001b[34;49mnotice\u001b[0m\u001b[1;39;49m]\u001b[0m\u001b[39;49m To update, run: \u001b[0m\u001b[32;49m/nfs4/pyenv-4edfee52-b0a5-4505-9354-903a1382c021/bin/python -m pip install --upgrade pip\u001b[0m\nNote: you may need to restart the kernel to use updated packages.\n"]
                }, {
                    "output_type": "execute_result",
                    "execution_count": 1,
                    "data": {},
                    "metadata": {}
                }, {
                    "output_type": "stream",
                    "name": "stdout",
                    "text": ["Warning: PySpark kernel has been restarted to use updated packages.\n\n"]
                }
            ],
            "execution_count": 1,
            "metadata": {
                "jupyter": {
                    "outputs_hidden": false,
                    "source_hidden": false
                },
                "nteract": {
                    "transient": {
                        "deleting": false
                    }
                }
            },
            "id": "b0c9d190-ad49-4049-a33f-64b65e95b680"
        }, {
            "cell_type": "markdown",
            "source": ["Then, perform necessary imports of modules that you'll need later on:"],
            "metadata": {
                "nteract": {
                    "transient": {
                        "deleting": false
                    }
                }
            },
            "id": "e46fe955-0443-4574-89a3-03113b635a7f"
        }, {
            "cell_type": "code",
            "source": ["import pandas as pd\n", "import sempy.fabric as fabric\n", "from sempy.fabric import FabricDataFrame\n", "from sempy.dependencies import plot_dependency_metadata\n", "from sempy.samples import download_synthea"],
            "outputs": [{
                    "output_type": "display_data",
                    "data": {
                        "application/vnd.livy.statement-meta+json": {
                            "spark_pool": null,
                            "session_id": "f2c4993a-3758-48f6-980e-8ba43ff0f957",
                            "statement_id": 9,
                            "state": "finished",
                            "livy_statement_state": "available",
                            "queued_time": "2023-09-13T03:52:19.5186054Z",
                            "session_start_time": null,
                            "execution_start_time": "2023-09-13T03:52:58.2316683Z",
                            "execution_finish_time": "2023-09-13T03:53:07.7569635Z",
                            "spark_jobs": {
                                "numbers": {
                                    "FAILED": 0,
                                    "RUNNING": 0,
                                    "SUCCEEDED": 0,
                                    "UNKNOWN": 0
                                },
                                "jobs": [],
                                "limit": 20,
                                "rule": "ALL_DESC"
                            },
                            "parent_msg_id": "3ac84452-e25e-43fd-80c6-84ee4514f08f"
                        },
                        "text/plain": "StatementMeta(, f2c4993a-3758-48f6-980e-8ba43ff0f957, 9, Finished, Available)"
                    },
                    "metadata": {}
                }
            ],
            "execution_count": 2,
            "metadata": {},
            "id": "7dc385b5-4a3c-45e2-a4cd-354d63d9d5b3"
        }, {
            "cell_type": "markdown",
            "source": ["Lastly, pull the sample data - for this tutorial, you'll use the SYNTHEA dataset of synthetic medical records (small version for simplicity):"],
            "metadata": {
                "nteract": {
                    "transient": {
                        "deleting": false
                    }
                }
            },
            "id": "bc4d430b-f8a2-4563-a778-c8837a7eab4b"
        }, {
            "cell_type": "code",
            "source": ["download_synthea(which='small')"],
            "outputs": [{
                    "output_type": "display_data",
                    "data": {
                        "application/vnd.livy.statement-meta+json": {
                            "spark_pool": null,
                            "session_id": "f2c4993a-3758-48f6-980e-8ba43ff0f957",
                            "statement_id": 10,
                            "state": "finished",
                            "livy_statement_state": "available",
                            "queued_time": "2023-09-13T03:52:19.5206108Z",
                            "session_start_time": null,
                            "execution_start_time": "2023-09-13T03:53:08.2351922Z",
                            "execution_finish_time": "2023-09-13T03:53:12.6761274Z",
                            "spark_jobs": {
                                "numbers": {
                                    "FAILED": 0,
                                    "RUNNING": 0,
                                    "SUCCEEDED": 0,
                                    "UNKNOWN": 0
                                },
                                "jobs": [],
                                "limit": 20,
                                "rule": "ALL_DESC"
                            },
                            "parent_msg_id": "9a997b57-309e-4ff9-9469-feb9df981c0b"
                        },
                        "text/plain": "StatementMeta(, f2c4993a-3758-48f6-980e-8ba43ff0f957, 10, Finished, Available)"
                    },
                    "metadata": {}
                }, {
                    "output_type": "execute_result",
                    "execution_count": 10,
                    "data": {
                        "text/plain": "'abfss://5e55da45-5dd1-4f29-b623-7d354da08c18@daily-onelake.dfs.fabric.microsoft.com/317f6e81-9147-4d61-8db3-becab65cf7c3/Files/synthea/csv'"
                    },
                    "metadata": {}
                }
            ],
            "execution_count": 3,
            "metadata": {},
            "id": "fd0b4e0f"
        }, {
            "cell_type": "markdown",
            "source": ["## Explore data"],
            "metadata": {
                "nteract": {
                    "transient": {
                        "deleting": false
                    }
                }
            },
            "id": "ca06eeaf-4229-48ba-952d-3d5f66880fa7"
        }, {
            "cell_type": "markdown",
            "source": ["Initialize a ``FabricDataFrame`` with the dataframe corresponding to 'providers':"],
            "metadata": {},
            "id": "c829af0a-f265-4d84-81c7-731af1febb4c"
        }, {
            "cell_type": "code",
            "source": ["providers = FabricDataFrame(pd.read_csv(\"synthea/csv/providers.csv\"))\n", "providers.head()"],
            "outputs": [{
                    "output_type": "display_data",
                    "data": {
                        "application/vnd.livy.statement-meta+json": {
                            "spark_pool": null,
                            "session_id": "f2c4993a-3758-48f6-980e-8ba43ff0f957",
                            "statement_id": 11,
                            "state": "finished",
                            "livy_statement_state": "available",
                            "queued_time": "2023-09-13T03:52:19.5271233Z",
                            "session_start_time": null,
                            "execution_start_time": "2023-09-13T03:53:13.141567Z",
                            "execution_finish_time": "2023-09-13T03:53:15.2864616Z",
                            "spark_jobs": {
                                "numbers": {
                                    "FAILED": 0,
                                    "RUNNING": 0,
                                    "SUCCEEDED": 0,
                                    "UNKNOWN": 0
                                },
                                "jobs": [],
                                "limit": 20,
                                "rule": "ALL_DESC"
                            },
                            "parent_msg_id": "ac1e2a42-6aee-46a3-9877-1109181c2673"
                        },
                        "text/plain": "StatementMeta(, f2c4993a-3758-48f6-980e-8ba43ff0f957, 11, Finished, Available)"
                    },
                    "metadata": {}
                }, {
                    "output_type": "execute_result",
                    "execution_count": 13,
                    "data": {
                        "text/plain": "                                     Id                          ORGANIZATION  \\\n0  3421aa75-dec7-378d-a9e0-0bc764e4cb0d  ef58ea08-d883-3957-8300-150554edc8fb   \n1  c9b3c857-2e24-320c-a79a-87b8a60de63c  69176529-fd1f-3b3f-abce-a0a3626769eb   \n2  0359f968-d1a6-30eb-b1cc-e6cc0b4d3513  5e765f2b-e908-3888-9fc7-df2cb87beb58   \n3  446d1609-858f-3a54-8a52-0c4eacedd00e  f1fbcbfb-fcfa-3bd2-b7f4-df20f1b3c3a4   \n4  e6283e46-fd81-3611-9459-0edb1c3da357  e002090d-4e92-300e-b41e-7d1f21dee4c6   \n\n                     NAME GENDER        SPECIALITY                  ADDRESS  \\\n0       Tomas436 Sauer652      M  GENERAL PRACTICE         60 HOSPITAL ROAD   \n1   Suzette512 Monahan736      F  GENERAL PRACTICE  330 MOUNT AUBURN STREET   \n2   Gaynell126 Streich926      F  GENERAL PRACTICE          211 PARK STREET   \n3  Patricia625 Salgado989      F  GENERAL PRACTICE       ONE GENERAL STREET   \n4  Jeanmarie510 Beatty507      F  GENERAL PRACTICE    1493 CAMBRIDGE STREET   \n\n         CITY STATE    ZIP        LAT        LON  UTILIZATION  \n0  LEOMINSTER    MA  01453  42.520838 -71.770876         1557  \n1   CAMBRIDGE    MA  02138  42.375967 -71.118275         2296  \n2   ATTLEBORO    MA  02703  41.931653 -71.294503         2287  \n3    LAWRENCE    MA  01842  42.700273 -71.161357         1327  \n4   CAMBRIDGE    MA  02138  42.375967 -71.118275         3199  ",
                        "text/html": "<div>\n<style scoped>\n    .dataframe tbody tr th:only-of-type {\n        vertical-align: middle;\n    }\n\n    .dataframe tbody tr th {\n        vertical-align: top;\n    }\n\n    .dataframe thead th {\n        text-align: right;\n    }\n</style>\n<table border=\"1\" class=\"dataframe\">\n  <thead>\n    <tr style=\"text-align: right;\">\n      <th></th>\n      <th>Id</th>\n      <th>ORGANIZATION</th>\n      <th>NAME</th>\n      <th>GENDER</th>\n      <th>SPECIALITY</th>\n      <th>ADDRESS</th>\n      <th>CITY</th>\n      <th>STATE</th>\n      <th>ZIP</th>\n      <th>LAT</th>\n      <th>LON</th>\n      <th>UTILIZATION</th>\n    </tr>\n  </thead>\n  <tbody>\n    <tr>\n      <th>0</th>\n      <td>3421aa75-dec7-378d-a9e0-0bc764e4cb0d</td>\n      <td>ef58ea08-d883-3957-8300-150554edc8fb</td>\n      <td>Tomas436 Sauer652</td>\n      <td>M</td>\n      <td>GENERAL PRACTICE</td>\n      <td>60 HOSPITAL ROAD</td>\n      <td>LEOMINSTER</td>\n      <td>MA</td>\n      <td>01453</td>\n      <td>42.520838</td>\n      <td>-71.770876</td>\n      <td>1557</td>\n    </tr>\n    <tr>\n      <th>1</th>\n      <td>c9b3c857-2e24-320c-a79a-87b8a60de63c</td>\n      <td>69176529-fd1f-3b3f-abce-a0a3626769eb</td>\n      <td>Suzette512 Monahan736</td>\n      <td>F</td>\n      <td>GENERAL PRACTICE</td>\n      <td>330 MOUNT AUBURN STREET</td>\n      <td>CAMBRIDGE</td>\n      <td>MA</td>\n      <td>02138</td>\n      <td>42.375967</td>\n      <td>-71.118275</td>\n      <td>2296</td>\n    </tr>\n    <tr>\n      <th>2</th>\n      <td>0359f968-d1a6-30eb-b1cc-e6cc0b4d3513</td>\n      <td>5e765f2b-e908-3888-9fc7-df2cb87beb58</td>\n      <td>Gaynell126 Streich926</td>\n      <td>F</td>\n      <td>GENERAL PRACTICE</td>\n      <td>211 PARK STREET</td>\n      <td>ATTLEBORO</td>\n      <td>MA</td>\n      <td>02703</td>\n      <td>41.931653</td>\n      <td>-71.294503</td>\n      <td>2287</td>\n    </tr>\n    <tr>\n      <th>3</th>\n      <td>446d1609-858f-3a54-8a52-0c4eacedd00e</td>\n      <td>f1fbcbfb-fcfa-3bd2-b7f4-df20f1b3c3a4</td>\n      <td>Patricia625 Salgado989</td>\n      <td>F</td>\n      <td>GENERAL PRACTICE</td>\n      <td>ONE GENERAL STREET</td>\n      <td>LAWRENCE</td>\n      <td>MA</td>\n      <td>01842</td>\n      <td>42.700273</td>\n      <td>-71.161357</td>\n      <td>1327</td>\n    </tr>\n    <tr>\n      <th>4</th>\n      <td>e6283e46-fd81-3611-9459-0edb1c3da357</td>\n      <td>e002090d-4e92-300e-b41e-7d1f21dee4c6</td>\n      <td>Jeanmarie510 Beatty507</td>\n      <td>F</td>\n      <td>GENERAL PRACTICE</td>\n      <td>1493 CAMBRIDGE STREET</td>\n      <td>CAMBRIDGE</td>\n      <td>MA</td>\n      <td>02138</td>\n      <td>42.375967</td>\n      <td>-71.118275</td>\n      <td>3199</td>\n    </tr>\n  </tbody>\n</table>\n</div>"
                    },
                    "metadata": {}
                }
            ],
            "execution_count": 4,
            "metadata": {},
            "id": "ee0516c6-0259-4b8c-ae2a-fe18a701d02f"
        }, {
            "cell_type": "markdown",
            "source": ["To check for data quality issues with SemPy's ``find_dependencies`` function, plot a graph of auto-detected functional dependencies:"],
            "metadata": {
                "nteract": {
                    "transient": {
                        "deleting": false
                    }
                }
            },
            "id": "b8004832-e739-459e-90aa-c5f016d596c7"
        }, {
            "cell_type": "code",
            "source": ["deps = providers.find_dependencies()\n", "plot_dependency_metadata(deps)"],
            "outputs": [{
                    "output_type": "display_data",
                    "data": {
                        "application/vnd.livy.statement-meta+json": {
                            "spark_pool": null,
                            "session_id": "f2c4993a-3758-48f6-980e-8ba43ff0f957",
                            "statement_id": 12,
                            "state": "finished",
                            "livy_statement_state": "available",
                            "queued_time": "2023-09-13T03:52:19.528034Z",
                            "session_start_time": null,
                            "execution_start_time": "2023-09-13T03:53:15.7407725Z",
                            "execution_finish_time": "2023-09-13T03:53:18.8165666Z",
                            "spark_jobs": {
                                "numbers": {
                                    "FAILED": 0,
                                    "RUNNING": 0,
                                    "SUCCEEDED": 0,
                                    "UNKNOWN": 0
                                },
                                "jobs": [],
                                "limit": 20,
                                "rule": "ALL_DESC"
                            },
                            "parent_msg_id": "1ffafc0b-4d7c-434d-88a6-5d23b7c23641"
                        },
                        "text/plain": "StatementMeta(, f2c4993a-3758-48f6-980e-8ba43ff0f957, 12, Finished, Available)"
                    },
                    "metadata": {}
                }, {
                    "output_type": "execute_result",
                    "execution_count": 16,
                    "data": {
                        "image/svg+xml": "<?xml version=\"1.0\" encoding=\"UTF-8\" standalone=\"no\"?>\n<!DOCTYPE svg PUBLIC \"-//W3C//DTD SVG 1.1//EN\"\n \"http://www.w3.org/Graphics/SVG/1.1/DTD/svg11.dtd\">\n<!-- Generated by graphviz version 2.50.0 (20220708.1628)\n -->\n<!-- Pages: 1 -->\n<svg width=\"604pt\" height=\"404pt\"\n viewBox=\"0.00 0.00 603.50 404.00\" xmlns=\"http://www.w3.org/2000/svg\" xmlns:xlink=\"http://www.w3.org/1999/xlink\">\n<g id=\"graph0\" class=\"graph\" transform=\"scale(1 1) rotate(0) translate(4 400)\">\n<polygon fill=\"white\" stroke=\"transparent\" points=\"-4,4 -4,-400 599.5,-400 599.5,4 -4,4\"/>\n<!-- 0 -->\n<g id=\"node1\" class=\"node\">\n<title>0</title>\n<polygon fill=\"none\" stroke=\"black\" points=\"205.5,-367 205.5,-388 226.5,-388 226.5,-367 205.5,-367\"/>\n<text text-anchor=\"start\" x=\"208.5\" y=\"-373.8\" font-family=\"Times,serif\" font-size=\"14.00\">Id</text>\n</g>\n<!-- 1 -->\n<g id=\"node2\" class=\"node\">\n<title>1</title>\n<polygon fill=\"none\" stroke=\"black\" points=\"189.5,-295 189.5,-316 242.5,-316 242.5,-295 189.5,-295\"/>\n<text text-anchor=\"start\" x=\"192.5\" y=\"-301.8\" font-family=\"Times,serif\" font-size=\"14.00\">NAME</text>\n</g>\n<!-- 0&#45;&gt;1 -->\n<g id=\"edge1\" class=\"edge\">\n<title>0&#45;&gt;1</title>\n<path fill=\"none\" stroke=\"black\" d=\"M215.5,-359.7C215.5,-351.98 215.5,-342.71 215.5,-334.11\"/>\n<polygon fill=\"black\" stroke=\"black\" points=\"219,-334.1 215.5,-324.1 212,-334.1 219,-334.1\"/>\n</g>\n<!-- 2 -->\n<g id=\"node3\" class=\"node\">\n<title>2</title>\n<polygon fill=\"none\" stroke=\"black\" points=\"376.5,-295 376.5,-316 499.5,-316 499.5,-295 376.5,-295\"/>\n<text text-anchor=\"start\" x=\"379.5\" y=\"-301.8\" font-family=\"Times,serif\" font-size=\"14.00\">ORGANIZATION</text>\n</g>\n<!-- 0&#45;&gt;2 -->\n<g id=\"edge2\" class=\"edge\">\n<title>0&#45;&gt;2</title>\n<path fill=\"none\" stroke=\"black\" d=\"M242.72,-368.42C275.12,-358.2 330.29,-340.81 373.66,-327.13\"/>\n<polygon fill=\"black\" stroke=\"black\" points=\"374.8,-330.44 383.28,-324.1 372.69,-323.77 374.8,-330.44\"/>\n</g>\n<!-- 3 -->\n<g id=\"node4\" class=\"node\">\n<title>3</title>\n<polygon fill=\"none\" stroke=\"black\" points=\"8.5,-79 8.5,-100 111.5,-100 111.5,-79 8.5,-79\"/>\n<text text-anchor=\"start\" x=\"11.5\" y=\"-85.8\" font-family=\"Times,serif\" font-size=\"14.00\">UTILIZATION</text>\n</g>\n<!-- 0&#45;&gt;3 -->\n<g id=\"edge3\" class=\"edge\">\n<title>0&#45;&gt;3</title>\n<path fill=\"none\" stroke=\"black\" d=\"M188.32,-363.23C153.33,-343.82 94,-304.79 68.5,-252 47.62,-208.78 50.67,-151.24 54.96,-117.95\"/>\n<polygon fill=\"black\" stroke=\"black\" points=\"58.43,-118.43 56.37,-108.04 51.5,-117.44 58.43,-118.43\"/>\n</g>\n<!-- 4 -->\n<g id=\"node5\" class=\"node\">\n<title>4</title>\n<polygon fill=\"none\" stroke=\"black\" points=\"85.5,-223 85.5,-244 179.5,-244 179.5,-223 85.5,-223\"/>\n<text text-anchor=\"start\" x=\"88.5\" y=\"-229.8\" font-family=\"Times,serif\" font-size=\"14.00\">SPECIALITY</text>\n</g>\n<!-- 0&#45;&gt;4 -->\n<g id=\"edge4\" class=\"edge\">\n<title>0&#45;&gt;4</title>\n<path fill=\"none\" stroke=\"black\" d=\"M199.11,-359.8C190.2,-349.86 179.41,-336.82 171.5,-324 159.24,-304.13 148.84,-279.74 141.87,-261.52\"/>\n<polygon fill=\"black\" stroke=\"black\" points=\"145.13,-260.25 138.36,-252.1 138.57,-262.69 145.13,-260.25\"/>\n</g>\n<!-- 5 -->\n<g id=\"node6\" class=\"node\">\n<title>5</title>\n<polygon fill=\"none\" stroke=\"black\" points=\"252.5,-223 252.5,-244 325.5,-244 325.5,-223 252.5,-223\"/>\n<text text-anchor=\"start\" x=\"255.5\" y=\"-229.8\" font-family=\"Times,serif\" font-size=\"14.00\">GENDER</text>\n</g>\n<!-- 0&#45;&gt;5 -->\n<g id=\"edge5\" class=\"edge\">\n<title>0&#45;&gt;5</title>\n<path fill=\"none\" stroke=\"black\" d=\"M231.93,-360C240.77,-350.12 251.3,-337.08 258.5,-324 269.33,-304.33 277.19,-280.06 282.14,-261.84\"/>\n<polygon fill=\"black\" stroke=\"black\" points=\"285.53,-262.7 284.66,-252.15 278.76,-260.95 285.53,-262.7\"/>\n</g>\n<!-- 1&#45;&gt;4 -->\n<g id=\"edge6\" class=\"edge\">\n<title>1&#45;&gt;4</title>\n<path fill=\"none\" stroke=\"black\" stroke-dasharray=\"5,2\" d=\"M194.98,-287.7C184.63,-278.97 171.91,-268.24 160.66,-258.75\"/>\n<polygon fill=\"black\" stroke=\"black\" points=\"162.68,-255.88 152.78,-252.1 158.17,-261.23 162.68,-255.88\"/>\n</g>\n<!-- 1&#45;&gt;5 -->\n<g id=\"edge7\" class=\"edge\">\n<title>1&#45;&gt;5</title>\n<path fill=\"none\" stroke=\"black\" stroke-dasharray=\"5,2\" d=\"M233.54,-287.7C242.56,-279.05 253.62,-268.45 263.44,-259.03\"/>\n<polygon fill=\"black\" stroke=\"black\" points=\"265.87,-261.55 270.66,-252.1 261.02,-256.5 265.87,-261.55\"/>\n</g>\n<!-- 6 -->\n<g id=\"node7\" class=\"node\">\n<title>6</title>\n<polygon fill=\"none\" stroke=\"black\" points=\"298.5,-7 298.5,-28 351.5,-28 351.5,-7 298.5,-7\"/>\n<text text-anchor=\"start\" x=\"301.5\" y=\"-13.8\" font-family=\"Times,serif\" font-size=\"14.00\">STATE</text>\n</g>\n<!-- 1&#45;&gt;6 -->\n<g id=\"edge8\" class=\"edge\">\n<title>1&#45;&gt;6</title>\n<path fill=\"none\" stroke=\"black\" d=\"M218,-287.98C220.92,-269.85 226.41,-240.45 234.5,-216 255.47,-152.59 290.67,-82.33 310.26,-45.26\"/>\n<polygon fill=\"black\" stroke=\"black\" points=\"313.5,-46.61 315.11,-36.14 307.32,-43.32 313.5,-46.61\"/>\n</g>\n<!-- 7 -->\n<g id=\"node8\" class=\"node\">\n<title>7</title>\n<polygon fill=\"none\" stroke=\"black\" points=\"398.5,-223 398.5,-244 477.5,-244 477.5,-223 398.5,-223\"/>\n<text text-anchor=\"start\" x=\"401.5\" y=\"-229.8\" font-family=\"Times,serif\" font-size=\"14.00\">ADDRESS</text>\n</g>\n<!-- 2&#45;&gt;7 -->\n<g id=\"edge9\" class=\"edge\">\n<title>2&#45;&gt;7</title>\n<path fill=\"none\" stroke=\"black\" d=\"M437.5,-287.7C437.5,-279.98 437.5,-270.71 437.5,-262.11\"/>\n<polygon fill=\"black\" stroke=\"black\" points=\"441,-262.1 437.5,-252.1 434,-262.1 441,-262.1\"/>\n</g>\n<!-- 8 -->\n<g id=\"node9\" class=\"node\">\n<title>8</title>\n<polygon fill=\"none\" stroke=\"black\" points=\"553.5,-223 553.5,-244 584.5,-244 584.5,-223 553.5,-223\"/>\n<text text-anchor=\"start\" x=\"556.5\" y=\"-229.8\" font-family=\"Times,serif\" font-size=\"14.00\">ZIP</text>\n</g>\n<!-- 2&#45;&gt;8 -->\n<g id=\"edge10\" class=\"edge\">\n<title>2&#45;&gt;8</title>\n<path fill=\"none\" stroke=\"black\" d=\"M469.55,-287.88C488.51,-277.74 512.59,-264.88 532.24,-254.37\"/>\n<polygon fill=\"black\" stroke=\"black\" points=\"534.04,-257.38 541.21,-249.58 530.74,-251.21 534.04,-257.38\"/>\n</g>\n<!-- 9 -->\n<g id=\"node10\" class=\"node\">\n<title>9</title>\n<polygon fill=\"none\" stroke=\"black\" points=\"487.5,-151 487.5,-172 526.5,-172 526.5,-151 487.5,-151\"/>\n<text text-anchor=\"start\" x=\"490.5\" y=\"-157.8\" font-family=\"Times,serif\" font-size=\"14.00\">LON</text>\n</g>\n<!-- 2&#45;&gt;9 -->\n<g id=\"edge11\" class=\"edge\">\n<title>2&#45;&gt;9</title>\n<path fill=\"none\" stroke=\"black\" d=\"M462.65,-287.98C474.27,-278.73 487.1,-266.28 494.5,-252 504.39,-232.9 507.11,-208.55 507.51,-190.15\"/>\n<polygon fill=\"black\" stroke=\"black\" points=\"511.01,-190.09 507.51,-180.08 504.01,-190.08 511.01,-190.09\"/>\n</g>\n<!-- 10 -->\n<g id=\"node11\" class=\"node\">\n<title>10</title>\n<polygon fill=\"none\" stroke=\"black\" points=\"336.5,-151 336.5,-172 376.5,-172 376.5,-151 336.5,-151\"/>\n<text text-anchor=\"start\" x=\"339.5\" y=\"-157.8\" font-family=\"Times,serif\" font-size=\"14.00\">CITY</text>\n</g>\n<!-- 2&#45;&gt;10 -->\n<g id=\"edge12\" class=\"edge\">\n<title>2&#45;&gt;10</title>\n<path fill=\"none\" stroke=\"black\" d=\"M413.42,-287.78C401.92,-278.4 388.87,-265.89 380.5,-252 369.1,-233.1 363.02,-208.73 359.83,-190.27\"/>\n<polygon fill=\"black\" stroke=\"black\" points=\"363.26,-189.52 358.27,-180.17 356.34,-190.59 363.26,-189.52\"/>\n</g>\n<!-- 3&#45;&gt;6 -->\n<g id=\"edge24\" class=\"edge\">\n<title>3&#45;&gt;6</title>\n<path fill=\"none\" stroke=\"black\" d=\"M119.3,-73.2C168.02,-60.33 235.73,-42.45 279.83,-30.8\"/>\n<polygon fill=\"black\" stroke=\"black\" points=\"280.91,-34.14 289.68,-28.2 279.12,-27.37 280.91,-34.14\"/>\n</g>\n<!-- 4&#45;&gt;6 -->\n<g id=\"edge25\" class=\"edge\">\n<title>4&#45;&gt;6</title>\n<path fill=\"none\" stroke=\"black\" d=\"M135.55,-215.59C142.06,-183.23 160.25,-113.33 201.5,-72 222.82,-50.64 254.13,-37.32 279.83,-29.37\"/>\n<polygon fill=\"black\" stroke=\"black\" points=\"281.1,-32.64 289.72,-26.49 279.14,-25.92 281.1,-32.64\"/>\n</g>\n<!-- 5&#45;&gt;6 -->\n<g id=\"edge26\" class=\"edge\">\n<title>5&#45;&gt;6</title>\n<path fill=\"none\" stroke=\"black\" d=\"M291.39,-215.85C297.63,-178.75 312.42,-90.81 319.94,-46.1\"/>\n<polygon fill=\"black\" stroke=\"black\" points=\"323.39,-46.67 321.6,-36.23 316.49,-45.51 323.39,-46.67\"/>\n</g>\n<!-- 7&#45;&gt;6 -->\n<g id=\"edge16\" class=\"edge\">\n<title>7&#45;&gt;6</title>\n<path fill=\"none\" stroke=\"black\" d=\"M429.25,-215.84C420.55,-197.85 406.34,-168.8 393.5,-144 376.77,-111.68 372.13,-103.84 354.5,-72 349.61,-63.17 344.19,-53.55 339.33,-44.97\"/>\n<polygon fill=\"black\" stroke=\"black\" points=\"342.29,-43.1 334.31,-36.14 336.21,-46.56 342.29,-43.1\"/>\n</g>\n<!-- 7&#45;&gt;9 -->\n<g id=\"edge13\" class=\"edge\">\n<title>7&#45;&gt;9</title>\n<path fill=\"none\" stroke=\"black\" stroke-dasharray=\"5,2\" d=\"M454.56,-215.7C463,-207.14 473.32,-196.66 482.54,-187.3\"/>\n<polygon fill=\"black\" stroke=\"black\" points=\"485.11,-189.68 489.64,-180.1 480.13,-184.77 485.11,-189.68\"/>\n</g>\n<!-- 7&#45;&gt;10 -->\n<g id=\"edge15\" class=\"edge\">\n<title>7&#45;&gt;10</title>\n<path fill=\"none\" stroke=\"black\" stroke-dasharray=\"5,2\" d=\"M417.48,-215.7C407.37,-206.97 394.96,-196.24 383.98,-186.75\"/>\n<polygon fill=\"black\" stroke=\"black\" points=\"386.15,-183.99 376.29,-180.1 381.57,-189.29 386.15,-183.99\"/>\n</g>\n<!-- 11 -->\n<g id=\"node12\" class=\"node\">\n<title>11</title>\n<polygon fill=\"none\" stroke=\"black\" points=\"470.5,-79 470.5,-100 504.5,-100 504.5,-79 470.5,-79\"/>\n<text text-anchor=\"start\" x=\"473.5\" y=\"-85.8\" font-family=\"Times,serif\" font-size=\"14.00\">LAT</text>\n</g>\n<!-- 7&#45;&gt;11 -->\n<g id=\"edge14\" class=\"edge\">\n<title>7&#45;&gt;11</title>\n<path fill=\"none\" stroke=\"black\" stroke-dasharray=\"5,2\" d=\"M443.53,-215.87C452.13,-191.46 467.98,-146.43 478.12,-117.64\"/>\n<polygon fill=\"black\" stroke=\"black\" points=\"481.43,-118.78 481.45,-108.19 474.82,-116.46 481.43,-118.78\"/>\n</g>\n<!-- 8&#45;&gt;6 -->\n<g id=\"edge20\" class=\"edge\">\n<title>8&#45;&gt;6</title>\n<path fill=\"none\" stroke=\"black\" d=\"M570.07,-215.89C571.21,-197.68 571.5,-168.22 564.5,-144 554.28,-108.62 552.67,-94.48 523.5,-72 478.54,-37.34 412.8,-25.29 369.36,-21.13\"/>\n<polygon fill=\"black\" stroke=\"black\" points=\"369.62,-17.64 359.36,-20.28 369.02,-24.62 369.62,-17.64\"/>\n</g>\n<!-- 8&#45;&gt;9 -->\n<g id=\"edge17\" class=\"edge\">\n<title>8&#45;&gt;9</title>\n<path fill=\"none\" stroke=\"black\" stroke-dasharray=\"5,2\" d=\"M553.17,-215.7C545.74,-207.3 536.68,-197.07 528.52,-187.86\"/>\n<polygon fill=\"black\" stroke=\"black\" points=\"530.9,-185.27 521.65,-180.1 525.66,-189.91 530.9,-185.27\"/>\n</g>\n<!-- 8&#45;&gt;10 -->\n<g id=\"edge19\" class=\"edge\">\n<title>8&#45;&gt;10</title>\n<path fill=\"none\" stroke=\"black\" stroke-dasharray=\"5,2\" d=\"M541.22,-223.99C503.84,-211.65 436.56,-189.43 394.33,-175.49\"/>\n<polygon fill=\"black\" stroke=\"black\" points=\"395.28,-172.12 384.69,-172.31 393.09,-178.77 395.28,-172.12\"/>\n</g>\n<!-- 8&#45;&gt;11 -->\n<g id=\"edge18\" class=\"edge\">\n<title>8&#45;&gt;11</title>\n<path fill=\"none\" stroke=\"black\" stroke-dasharray=\"5,2\" d=\"M566.46,-215.85C563.62,-197.09 557.19,-166.67 543.5,-144 536.96,-133.17 527.61,-123.11 518.42,-114.73\"/>\n<polygon fill=\"black\" stroke=\"black\" points=\"520.65,-112.03 510.81,-108.11 516.06,-117.31 520.65,-112.03\"/>\n</g>\n<!-- 9&#45;&gt;11 -->\n<g id=\"edge21\" class=\"edge\">\n<title>9&#45;&gt;11</title>\n<path fill=\"none\" stroke=\"black\" d=\"M501.8,-143.7C499.69,-135.9 497.14,-126.51 494.78,-117.83\"/>\n<polygon fill=\"black\" stroke=\"black\" points=\"498.14,-116.84 492.14,-108.1 491.38,-118.67 498.14,-116.84\"/>\n</g>\n<!-- 10&#45;&gt;6 -->\n<g id=\"edge23\" class=\"edge\">\n<title>10&#45;&gt;6</title>\n<path fill=\"none\" stroke=\"black\" d=\"M352.64,-143.87C347.16,-119.56 337.08,-74.82 330.59,-46.01\"/>\n<polygon fill=\"black\" stroke=\"black\" points=\"333.99,-45.18 328.37,-36.19 327.16,-46.71 333.99,-45.18\"/>\n</g>\n<!-- 11&#45;&gt;6 -->\n<g id=\"edge22\" class=\"edge\">\n<title>11&#45;&gt;6</title>\n<path fill=\"none\" stroke=\"black\" d=\"M460.22,-77.28C435.3,-66.58 398.01,-50.57 368.82,-38.03\"/>\n<polygon fill=\"black\" stroke=\"black\" points=\"369.83,-34.66 359.26,-33.93 367.07,-41.09 369.83,-34.66\"/>\n</g>\n</g>\n</svg>\n",
                        "text/plain": "<graphviz.graphs.Digraph at 0x7ffab3d66ce0>"
                    },
                    "metadata": {}
                }
            ],
            "execution_count": 5,
            "metadata": {},
            "id": "0d204c6b-79e3-4224-af67-96c4a948a4fe"
        }, {
            "cell_type": "markdown",
            "source": ["The graph of functional dependencies shows that **Id** determines **NAME** and  **ORGANIZATION** (indicated by the solid arrows), which makes sense, since **Id** is unique:"],
            "metadata": {},
            "id": "9823e09b-d4c8-44ef-9c76-df0a32235fc5"
        }, {
            "cell_type": "code",
            "source": ["providers.Id.is_unique"],
            "outputs": [{
                    "output_type": "display_data",
                    "data": {
                        "application/vnd.livy.statement-meta+json": {
                            "spark_pool": null,
                            "session_id": "f2c4993a-3758-48f6-980e-8ba43ff0f957",
                            "statement_id": 13,
                            "state": "finished",
                            "livy_statement_state": "available",
                            "queued_time": "2023-09-13T03:52:19.5323893Z",
                            "session_start_time": null,
                            "execution_start_time": "2023-09-13T03:53:19.3003064Z",
                            "execution_finish_time": "2023-09-13T03:53:19.7805592Z",
                            "spark_jobs": {
                                "numbers": {
                                    "FAILED": 0,
                                    "RUNNING": 0,
                                    "SUCCEEDED": 0,
                                    "UNKNOWN": 0
                                },
                                "jobs": [],
                                "limit": 20,
                                "rule": "ALL_DESC"
                            },
                            "parent_msg_id": "a9f09d47-6378-40f6-a6c7-abd5051436b3"
                        },
                        "text/plain": "StatementMeta(, f2c4993a-3758-48f6-980e-8ba43ff0f957, 13, Finished, Available)"
                    },
                    "metadata": {}
                }, {
                    "output_type": "execute_result",
                    "execution_count": 19,
                    "data": {
                        "text/plain": "True"
                    },
                    "metadata": {}
                }
            ],
            "execution_count": 6,
            "metadata": {},
            "id": "98ce329c-fccf-4308-94c4-bca08de3ab00"
        }, {
            "cell_type": "markdown",
            "source": ["## Analyze functional dependencies in depth"],
            "metadata": {
                "nteract": {
                    "transient": {
                        "deleting": false
                    }
                }
            },
            "id": "b85a6933-7986-421f-a8f7-a6dd4d40b914"
        }, {
            "cell_type": "markdown",
            "source": ["The functional dependencies graph also shows that **ORGANIZATION** determines **ADDRESS** and **ZIP**, as expected. However, you might expect **ZIP** to also determine **CITY**, but the dashed arrow indicates that the dependency is only approximate, pointing towards a data quality issue.\n", "\n", "There are other peculiarities in the graph. For example, **NAME** does not determine **GENDER**, **Id**, **SPECIALITY** or **ORGANIZATION**. Each of these might be worth investigating.\n", "\n", "Take an in-depth look at the approximate relationship between **ZIP** and **CITY** by using SemPy's ``list_dependency_violations`` function to see a tabular list of violations:"],
            "metadata": {},
            "id": "9d0b6571-ab83-4c6e-8f06-23b0882329b2"
        }, {
            "cell_type": "code",
            "source": ["providers.list_dependency_violations('ZIP', 'CITY')"],
            "outputs": [{
                    "output_type": "display_data",
                    "data": {
                        "application/vnd.livy.statement-meta+json": {
                            "spark_pool": null,
                            "session_id": "f2c4993a-3758-48f6-980e-8ba43ff0f957",
                            "statement_id": 14,
                            "state": "finished",
                            "livy_statement_state": "available",
                            "queued_time": "2023-09-13T03:52:19.5386793Z",
                            "session_start_time": null,
                            "execution_start_time": "2023-09-13T03:53:20.2805906Z",
                            "execution_finish_time": "2023-09-13T03:53:20.7459256Z",
                            "spark_jobs": {
                                "numbers": {
                                    "FAILED": 0,
                                    "RUNNING": 0,
                                    "SUCCEEDED": 0,
                                    "UNKNOWN": 0
                                },
                                "jobs": [],
                                "limit": 20,
                                "rule": "ALL_DESC"
                            },
                            "parent_msg_id": "25008008-a622-41ef-a9ea-0671749c1397"
                        },
                        "text/plain": "StatementMeta(, f2c4993a-3758-48f6-980e-8ba43ff0f957, 14, Finished, Available)"
                    },
                    "metadata": {}
                }, {
                    "output_type": "execute_result",
                    "execution_count": 22,
                    "data": {
                        "text/plain": "           ZIP             CITY  count\n0   02135-3514           BOSTON     53\n1   02135-3514         BRIGHTON      2\n2   02747-1262        DARTMOUTH      9\n3   02747-1262  NORTH DARTMOUTH      1\n4        01950      NEWBURGPORT      3\n5        01950      NEWBURYPORT      1\n6        02114           BOSTON      3\n7        02114           Boston      1\n8   02190-2314   SOUTH WEYMOUTH      3\n9   02190-2314         WEYMOUTH      1\n10  02668-1142     W BARNSTABLE      3\n11  02668-1142  WEST BARNSTABLE      2\n12  02747-2537        DARTMOUTH      3\n13  02747-2537  NORTH DARTMOUTH      1\n14       01104      SPRINGFIELD      2\n15       01104      Springfield      1\n16       01930       GLOUCESTER      2\n17       01930       Gloucester      1\n18       02169           QUINCY      2\n19       02169           Quincy      1\n20       02301         Brockton      2\n21       02301         BROCKTON      1\n22  02576-1208        W WAREHAM      2\n23  02576-1208     WEST WAREHAM      1\n24       01201       PITTSFIELD      1\n25       01201       PITTSFILED      1\n26       01605        WORCESTER      1\n27       01605        Worcester      1\n28       02130           BOSTON      1\n29       02130    Jamaica Plain      1\n30       02360         PLYMOUTH      1\n31       02360         Plymouth      1\n32       02601          HYANNIS      1\n33       02601          Hyannis      1\n34  02747-1242        DARTMOUTH      1\n35  02747-1242  NORTH DARTMOUTH      1\n36        2128           BOSTON      1\n37        2128      EAST BOSTON      1",
                        "text/html": "<div>\n<style scoped>\n    .dataframe tbody tr th:only-of-type {\n        vertical-align: middle;\n    }\n\n    .dataframe tbody tr th {\n        vertical-align: top;\n    }\n\n    .dataframe thead th {\n        text-align: right;\n    }\n</style>\n<table border=\"1\" class=\"dataframe\">\n  <thead>\n    <tr style=\"text-align: right;\">\n      <th></th>\n      <th>ZIP</th>\n      <th>CITY</th>\n      <th>count</th>\n    </tr>\n  </thead>\n  <tbody>\n    <tr>\n      <th>0</th>\n      <td>02135-3514</td>\n      <td>BOSTON</td>\n      <td>53</td>\n    </tr>\n    <tr>\n      <th>1</th>\n      <td>02135-3514</td>\n      <td>BRIGHTON</td>\n      <td>2</td>\n    </tr>\n    <tr>\n      <th>2</th>\n      <td>02747-1262</td>\n      <td>DARTMOUTH</td>\n      <td>9</td>\n    </tr>\n    <tr>\n      <th>3</th>\n      <td>02747-1262</td>\n      <td>NORTH DARTMOUTH</td>\n      <td>1</td>\n    </tr>\n    <tr>\n      <th>4</th>\n      <td>01950</td>\n      <td>NEWBURGPORT</td>\n      <td>3</td>\n    </tr>\n    <tr>\n      <th>5</th>\n      <td>01950</td>\n      <td>NEWBURYPORT</td>\n      <td>1</td>\n    </tr>\n    <tr>\n      <th>6</th>\n      <td>02114</td>\n      <td>BOSTON</td>\n      <td>3</td>\n    </tr>\n    <tr>\n      <th>7</th>\n      <td>02114</td>\n      <td>Boston</td>\n      <td>1</td>\n    </tr>\n    <tr>\n      <th>8</th>\n      <td>02190-2314</td>\n      <td>SOUTH WEYMOUTH</td>\n      <td>3</td>\n    </tr>\n    <tr>\n      <th>9</th>\n      <td>02190-2314</td>\n      <td>WEYMOUTH</td>\n      <td>1</td>\n    </tr>\n    <tr>\n      <th>10</th>\n      <td>02668-1142</td>\n      <td>W BARNSTABLE</td>\n      <td>3</td>\n    </tr>\n    <tr>\n      <th>11</th>\n      <td>02668-1142</td>\n      <td>WEST BARNSTABLE</td>\n      <td>2</td>\n    </tr>\n    <tr>\n      <th>12</th>\n      <td>02747-2537</td>\n      <td>DARTMOUTH</td>\n      <td>3</td>\n    </tr>\n    <tr>\n      <th>13</th>\n      <td>02747-2537</td>\n      <td>NORTH DARTMOUTH</td>\n      <td>1</td>\n    </tr>\n    <tr>\n      <th>14</th>\n      <td>01104</td>\n      <td>SPRINGFIELD</td>\n      <td>2</td>\n    </tr>\n    <tr>\n      <th>15</th>\n      <td>01104</td>\n      <td>Springfield</td>\n      <td>1</td>\n    </tr>\n    <tr>\n      <th>16</th>\n      <td>01930</td>\n      <td>GLOUCESTER</td>\n      <td>2</td>\n    </tr>\n    <tr>\n      <th>17</th>\n      <td>01930</td>\n      <td>Gloucester</td>\n      <td>1</td>\n    </tr>\n    <tr>\n      <th>18</th>\n      <td>02169</td>\n      <td>QUINCY</td>\n      <td>2</td>\n    </tr>\n    <tr>\n      <th>19</th>\n      <td>02169</td>\n      <td>Quincy</td>\n      <td>1</td>\n    </tr>\n    <tr>\n      <th>20</th>\n      <td>02301</td>\n      <td>Brockton</td>\n      <td>2</td>\n    </tr>\n    <tr>\n      <th>21</th>\n      <td>02301</td>\n      <td>BROCKTON</td>\n      <td>1</td>\n    </tr>\n    <tr>\n      <th>22</th>\n      <td>02576-1208</td>\n      <td>W WAREHAM</td>\n      <td>2</td>\n    </tr>\n    <tr>\n      <th>23</th>\n      <td>02576-1208</td>\n      <td>WEST WAREHAM</td>\n      <td>1</td>\n    </tr>\n    <tr>\n      <th>24</th>\n      <td>01201</td>\n      <td>PITTSFIELD</td>\n      <td>1</td>\n    </tr>\n    <tr>\n      <th>25</th>\n      <td>01201</td>\n      <td>PITTSFILED</td>\n      <td>1</td>\n    </tr>\n    <tr>\n      <th>26</th>\n      <td>01605</td>\n      <td>WORCESTER</td>\n      <td>1</td>\n    </tr>\n    <tr>\n      <th>27</th>\n      <td>01605</td>\n      <td>Worcester</td>\n      <td>1</td>\n    </tr>\n    <tr>\n      <th>28</th>\n      <td>02130</td>\n      <td>BOSTON</td>\n      <td>1</td>\n    </tr>\n    <tr>\n      <th>29</th>\n      <td>02130</td>\n      <td>Jamaica Plain</td>\n      <td>1</td>\n    </tr>\n    <tr>\n      <th>30</th>\n      <td>02360</td>\n      <td>PLYMOUTH</td>\n      <td>1</td>\n    </tr>\n    <tr>\n      <th>31</th>\n      <td>02360</td>\n      <td>Plymouth</td>\n      <td>1</td>\n    </tr>\n    <tr>\n      <th>32</th>\n      <td>02601</td>\n      <td>HYANNIS</td>\n      <td>1</td>\n    </tr>\n    <tr>\n      <th>33</th>\n      <td>02601</td>\n      <td>Hyannis</td>\n      <td>1</td>\n    </tr>\n    <tr>\n      <th>34</th>\n      <td>02747-1242</td>\n      <td>DARTMOUTH</td>\n      <td>1</td>\n    </tr>\n    <tr>\n      <th>35</th>\n      <td>02747-1242</td>\n      <td>NORTH DARTMOUTH</td>\n      <td>1</td>\n    </tr>\n    <tr>\n      <th>36</th>\n      <td>2128</td>\n      <td>BOSTON</td>\n      <td>1</td>\n    </tr>\n    <tr>\n      <th>37</th>\n      <td>2128</td>\n      <td>EAST BOSTON</td>\n      <td>1</td>\n    </tr>\n  </tbody>\n</table>\n</div>"
                    },
                    "metadata": {}
                }
            ],
            "execution_count": 7,
            "metadata": {},
            "id": "f762a4d2-064f-4be8-98a6-6feacd7c395e"
        }, {
            "cell_type": "markdown",
            "source": ["If the number of violations is small, it may be helpful to draw a graph with SemPy's visualization function called ``plot_dependency_violations``:"],
            "metadata": {},
            "id": "7dcb88ad-2989-4087-b7cb-e5566eb56dc5"
        }, {
            "cell_type": "code",
            "source": ["providers.plot_dependency_violations('ZIP', 'CITY')"],
            "outputs": [{
                    "output_type": "display_data",
                    "data": {
                        "application/vnd.livy.statement-meta+json": {
                            "spark_pool": null,
                            "session_id": "f2c4993a-3758-48f6-980e-8ba43ff0f957",
                            "statement_id": 15,
                            "state": "finished",
                            "livy_statement_state": "available",
                            "queued_time": "2023-09-13T03:52:19.5447542Z",
                            "session_start_time": null,
                            "execution_start_time": "2023-09-13T03:53:21.2059122Z",
                            "execution_finish_time": "2023-09-13T03:53:21.6593315Z",
                            "spark_jobs": {
                                "numbers": {
                                    "FAILED": 0,
                                    "RUNNING": 0,
                                    "SUCCEEDED": 0,
                                    "UNKNOWN": 0
                                },
                                "jobs": [],
                                "limit": 20,
                                "rule": "ALL_DESC"
                            },
                            "parent_msg_id": "1a029063-029f-4f2b-8fa8-8121c9a5fec9"
                        },
                        "text/plain": "StatementMeta(, f2c4993a-3758-48f6-980e-8ba43ff0f957, 15, Finished, Available)"
                    },
                    "metadata": {}
                }, {
                    "output_type": "execute_result",
                    "execution_count": 25,
                    "data": {
                        "image/svg+xml": "<?xml version=\"1.0\" encoding=\"UTF-8\" standalone=\"no\"?>\n<!DOCTYPE svg PUBLIC \"-//W3C//DTD SVG 1.1//EN\"\n \"http://www.w3.org/Graphics/SVG/1.1/DTD/svg11.dtd\">\n<!-- Generated by graphviz version 2.50.0 (20220708.1628)\n -->\n<!-- Title: ZIP&#45;&gt;CITY Pages: 1 -->\n<svg width=\"327pt\" height=\"1438pt\"\n viewBox=\"0.00 0.00 327.00 1438.00\" xmlns=\"http://www.w3.org/2000/svg\" xmlns:xlink=\"http://www.w3.org/1999/xlink\">\n<g id=\"graph0\" class=\"graph\" transform=\"scale(1 1) rotate(0) translate(4 1434)\">\n<title>ZIP&#45;&gt;CITY</title>\n<polygon fill=\"white\" stroke=\"transparent\" points=\"-4,4 -4,-1434 323,-1434 323,4 -4,4\"/>\n<!-- title -->\n<g id=\"node1\" class=\"node\">\n<title>title</title>\n<text text-anchor=\"middle\" x=\"54.5\" y=\"-6\" font-family=\"Times,serif\" font-size=\"20.00\">ZIP&#45;&gt;CITY</text>\n</g>\n<!-- 02135&#45;3514 -->\n<g id=\"node2\" class=\"node\">\n<title>02135&#45;3514</title>\n<polygon fill=\"none\" stroke=\"black\" points=\"105.5,-174 3.5,-174 3.5,-138 105.5,-138 105.5,-174\"/>\n<text text-anchor=\"middle\" x=\"54.5\" y=\"-152.3\" font-family=\"Times,serif\" font-size=\"14.00\">02135&#45;3514</text>\n</g>\n<!-- BOSTON -->\n<g id=\"node3\" class=\"node\">\n<title>BOSTON</title>\n<polygon fill=\"none\" stroke=\"black\" points=\"271.5,-148 191.5,-148 191.5,-112 271.5,-112 271.5,-148\"/>\n<text text-anchor=\"middle\" x=\"231.5\" y=\"-126.3\" font-family=\"Times,serif\" font-size=\"14.00\">BOSTON</text>\n</g>\n<!-- 02135&#45;3514&#45;&#45;BOSTON -->\n<g id=\"edge1\" class=\"edge\">\n<title>02135&#45;3514&#45;&#45;BOSTON</title>\n<path fill=\"none\" stroke=\"black\" d=\"M105.83,-147.73C109.61,-147.13 113.36,-146.55 117,-146 141.69,-142.25 169.45,-138.33 191.34,-135.31\"/>\n<text text-anchor=\"middle\" x=\"126.5\" y=\"-149.8\" font-family=\"Times,serif\" font-size=\"14.00\">53</text>\n</g>\n<!-- BRIGHTON -->\n<g id=\"node4\" class=\"node\">\n<title>BRIGHTON</title>\n<polygon fill=\"none\" stroke=\"black\" points=\"280.5,-191 182.5,-191 182.5,-155 280.5,-155 280.5,-191\"/>\n<text text-anchor=\"middle\" x=\"231.5\" y=\"-169.3\" font-family=\"Times,serif\" font-size=\"14.00\">BRIGHTON</text>\n</g>\n<!-- 02135&#45;3514&#45;&#45;BRIGHTON -->\n<g id=\"edge2\" class=\"edge\">\n<title>02135&#45;3514&#45;&#45;BRIGHTON</title>\n<path fill=\"none\" stroke=\"black\" d=\"M105.65,-160.87C129.79,-163.22 158.6,-166.01 182.45,-168.33\"/>\n<text text-anchor=\"middle\" x=\"126.5\" y=\"-167.8\" font-family=\"Times,serif\" font-size=\"14.00\">2</text>\n</g>\n<!-- 02747&#45;1262 -->\n<g id=\"node5\" class=\"node\">\n<title>02747&#45;1262</title>\n<polygon fill=\"none\" stroke=\"black\" points=\"105.5,-338 3.5,-338 3.5,-302 105.5,-302 105.5,-338\"/>\n<text text-anchor=\"middle\" x=\"54.5\" y=\"-316.3\" font-family=\"Times,serif\" font-size=\"14.00\">02747&#45;1262</text>\n</g>\n<!-- DARTMOUTH -->\n<g id=\"node6\" class=\"node\">\n<title>DARTMOUTH</title>\n<polygon fill=\"none\" stroke=\"black\" points=\"289.5,-298 173.5,-298 173.5,-262 289.5,-262 289.5,-298\"/>\n<text text-anchor=\"middle\" x=\"231.5\" y=\"-276.3\" font-family=\"Times,serif\" font-size=\"14.00\">DARTMOUTH</text>\n</g>\n<!-- 02747&#45;1262&#45;&#45;DARTMOUTH -->\n<g id=\"edge3\" class=\"edge\">\n<title>02747&#45;1262&#45;&#45;DARTMOUTH</title>\n<path fill=\"none\" stroke=\"black\" d=\"M79.94,-301.93C90.74,-294.97 103.93,-287.79 117,-284 134.89,-278.81 155.04,-276.9 173.35,-276.57\"/>\n<text text-anchor=\"middle\" x=\"126.5\" y=\"-287.8\" font-family=\"Times,serif\" font-size=\"14.00\">9</text>\n</g>\n<!-- NORTH DARTMOUTH -->\n<g id=\"node7\" class=\"node\">\n<title>NORTH DARTMOUTH</title>\n<polygon fill=\"none\" stroke=\"black\" points=\"319,-352 144,-352 144,-316 319,-316 319,-352\"/>\n<text text-anchor=\"middle\" x=\"231.5\" y=\"-330.3\" font-family=\"Times,serif\" font-size=\"14.00\">NORTH DARTMOUTH</text>\n</g>\n<!-- 02747&#45;1262&#45;&#45;NORTH DARTMOUTH -->\n<g id=\"edge4\" class=\"edge\">\n<title>02747&#45;1262&#45;&#45;NORTH DARTMOUTH</title>\n<path fill=\"none\" stroke=\"black\" d=\"M105.65,-324.01C117.67,-324.97 130.84,-326.03 143.99,-327.08\"/>\n<text text-anchor=\"middle\" x=\"126.5\" y=\"-330.8\" font-family=\"Times,serif\" font-size=\"14.00\">1</text>\n</g>\n<!-- 01950 -->\n<g id=\"node8\" class=\"node\">\n<title>01950</title>\n<polygon fill=\"none\" stroke=\"black\" points=\"85.5,-449 23.5,-449 23.5,-413 85.5,-413 85.5,-449\"/>\n<text text-anchor=\"middle\" x=\"54.5\" y=\"-427.3\" font-family=\"Times,serif\" font-size=\"14.00\">01950</text>\n</g>\n<!-- NEWBURGPORT -->\n<g id=\"node9\" class=\"node\">\n<title>NEWBURGPORT</title>\n<polygon fill=\"none\" stroke=\"black\" points=\"300.5,-484 162.5,-484 162.5,-448 300.5,-448 300.5,-484\"/>\n<text text-anchor=\"middle\" x=\"231.5\" y=\"-462.3\" font-family=\"Times,serif\" font-size=\"14.00\">NEWBURGPORT</text>\n</g>\n<!-- 01950&#45;&#45;NEWBURGPORT -->\n<g id=\"edge5\" class=\"edge\">\n<title>01950&#45;&#45;NEWBURGPORT</title>\n<path fill=\"none\" stroke=\"black\" d=\"M85.51,-437.45C95.52,-439.57 106.73,-441.92 117,-444 131.66,-446.97 147.39,-450.07 162.34,-452.98\"/>\n<text text-anchor=\"middle\" x=\"126.5\" y=\"-450.8\" font-family=\"Times,serif\" font-size=\"14.00\">3</text>\n</g>\n<!-- NEWBURYPORT -->\n<g id=\"node10\" class=\"node\">\n<title>NEWBURYPORT</title>\n<polygon fill=\"none\" stroke=\"black\" points=\"299,-441 164,-441 164,-405 299,-405 299,-441\"/>\n<text text-anchor=\"middle\" x=\"231.5\" y=\"-419.3\" font-family=\"Times,serif\" font-size=\"14.00\">NEWBURYPORT</text>\n</g>\n<!-- 01950&#45;&#45;NEWBURYPORT -->\n<g id=\"edge6\" class=\"edge\">\n<title>01950&#45;&#45;NEWBURYPORT</title>\n<path fill=\"none\" stroke=\"black\" d=\"M85.58,-429.62C107.08,-428.64 136.86,-427.28 163.84,-426.05\"/>\n<text text-anchor=\"middle\" x=\"126.5\" y=\"-431.8\" font-family=\"Times,serif\" font-size=\"14.00\">1</text>\n</g>\n<!-- 02114 -->\n<g id=\"node11\" class=\"node\">\n<title>02114</title>\n<polygon fill=\"none\" stroke=\"black\" points=\"85.5,-221 23.5,-221 23.5,-185 85.5,-185 85.5,-221\"/>\n<text text-anchor=\"middle\" x=\"54.5\" y=\"-199.3\" font-family=\"Times,serif\" font-size=\"14.00\">02114</text>\n</g>\n<!-- 02114&#45;&#45;BOSTON -->\n<g id=\"edge7\" class=\"edge\">\n<title>02114&#45;&#45;BOSTON</title>\n<path fill=\"none\" stroke=\"black\" d=\"M85.88,-201.37C102.72,-198.91 122.84,-193.16 136,-180 145.15,-170.85 134.72,-161.02 144,-152 156.56,-139.8 174.89,-134.08 191.44,-131.51\"/>\n<text text-anchor=\"middle\" x=\"126.5\" y=\"-196.8\" font-family=\"Times,serif\" font-size=\"14.00\">3</text>\n</g>\n<!-- Boston -->\n<g id=\"node12\" class=\"node\">\n<title>Boston</title>\n<polygon fill=\"none\" stroke=\"black\" points=\"264.5,-244 198.5,-244 198.5,-208 264.5,-208 264.5,-244\"/>\n<text text-anchor=\"middle\" x=\"231.5\" y=\"-222.3\" font-family=\"Times,serif\" font-size=\"14.00\">Boston</text>\n</g>\n<!-- 02114&#45;&#45;Boston -->\n<g id=\"edge8\" class=\"edge\">\n<title>02114&#45;&#45;Boston</title>\n<path fill=\"none\" stroke=\"black\" d=\"M85.74,-209.5C95.67,-211.47 106.77,-213.51 117,-215 144.23,-218.97 175.35,-221.87 198.11,-223.69\"/>\n<text text-anchor=\"middle\" x=\"126.5\" y=\"-221.8\" font-family=\"Times,serif\" font-size=\"14.00\">1</text>\n</g>\n<!-- 02190&#45;2314 -->\n<g id=\"node13\" class=\"node\">\n<title>02190&#45;2314</title>\n<polygon fill=\"none\" stroke=\"black\" points=\"105.5,-548 3.5,-548 3.5,-512 105.5,-512 105.5,-548\"/>\n<text text-anchor=\"middle\" x=\"54.5\" y=\"-526.3\" font-family=\"Times,serif\" font-size=\"14.00\">02190&#45;2314</text>\n</g>\n<!-- SOUTH WEYMOUTH -->\n<g id=\"node14\" class=\"node\">\n<title>SOUTH WEYMOUTH</title>\n<polygon fill=\"none\" stroke=\"black\" points=\"315,-570 148,-570 148,-534 315,-534 315,-570\"/>\n<text text-anchor=\"middle\" x=\"231.5\" y=\"-548.3\" font-family=\"Times,serif\" font-size=\"14.00\">SOUTH WEYMOUTH</text>\n</g>\n<!-- 02190&#45;2314&#45;&#45;SOUTH WEYMOUTH -->\n<g id=\"edge9\" class=\"edge\">\n<title>02190&#45;2314&#45;&#45;SOUTH WEYMOUTH</title>\n<path fill=\"none\" stroke=\"black\" d=\"M105.51,-536.53C109.4,-537.03 113.26,-537.53 117,-538 126.95,-539.26 137.39,-540.57 147.74,-541.86\"/>\n<text text-anchor=\"middle\" x=\"126.5\" y=\"-543.8\" font-family=\"Times,serif\" font-size=\"14.00\">3</text>\n</g>\n<!-- WEYMOUTH -->\n<g id=\"node15\" class=\"node\">\n<title>WEYMOUTH</title>\n<polygon fill=\"none\" stroke=\"black\" points=\"286,-527 177,-527 177,-491 286,-491 286,-527\"/>\n<text text-anchor=\"middle\" x=\"231.5\" y=\"-505.3\" font-family=\"Times,serif\" font-size=\"14.00\">WEYMOUTH</text>\n</g>\n<!-- 02190&#45;2314&#45;&#45;WEYMOUTH -->\n<g id=\"edge10\" class=\"edge\">\n<title>02190&#45;2314&#45;&#45;WEYMOUTH</title>\n<path fill=\"none\" stroke=\"black\" d=\"M105.65,-523.98C127.97,-521.3 154.28,-518.15 176.98,-515.42\"/>\n<text text-anchor=\"middle\" x=\"126.5\" y=\"-525.8\" font-family=\"Times,serif\" font-size=\"14.00\">1</text>\n</g>\n<!-- 02668&#45;1142 -->\n<g id=\"node16\" class=\"node\">\n<title>02668&#45;1142</title>\n<polygon fill=\"none\" stroke=\"black\" points=\"105.5,-635 3.5,-635 3.5,-599 105.5,-599 105.5,-635\"/>\n<text text-anchor=\"middle\" x=\"54.5\" y=\"-613.3\" font-family=\"Times,serif\" font-size=\"14.00\">02668&#45;1142</text>\n</g>\n<!-- W BARNSTABLE -->\n<g id=\"node17\" class=\"node\">\n<title>W BARNSTABLE</title>\n<polygon fill=\"none\" stroke=\"black\" points=\"299.5,-656 163.5,-656 163.5,-620 299.5,-620 299.5,-656\"/>\n<text text-anchor=\"middle\" x=\"231.5\" y=\"-634.3\" font-family=\"Times,serif\" font-size=\"14.00\">W BARNSTABLE</text>\n</g>\n<!-- 02668&#45;1142&#45;&#45;W BARNSTABLE -->\n<g id=\"edge11\" class=\"edge\">\n<title>02668&#45;1142&#45;&#45;W BARNSTABLE</title>\n<path fill=\"none\" stroke=\"black\" d=\"M105.65,-623.02C123.63,-625.18 144.19,-627.64 163.38,-629.95\"/>\n<text text-anchor=\"middle\" x=\"126.5\" y=\"-629.8\" font-family=\"Times,serif\" font-size=\"14.00\">3</text>\n</g>\n<!-- WEST BARNSTABLE -->\n<g id=\"node18\" class=\"node\">\n<title>WEST BARNSTABLE</title>\n<polygon fill=\"none\" stroke=\"black\" points=\"314,-613 149,-613 149,-577 314,-577 314,-613\"/>\n<text text-anchor=\"middle\" x=\"231.5\" y=\"-591.3\" font-family=\"Times,serif\" font-size=\"14.00\">WEST BARNSTABLE</text>\n</g>\n<!-- 02668&#45;1142&#45;&#45;WEST BARNSTABLE -->\n<g id=\"edge12\" class=\"edge\">\n<title>02668&#45;1142&#45;&#45;WEST BARNSTABLE</title>\n<path fill=\"none\" stroke=\"black\" d=\"M105.83,-609.5C109.61,-608.98 113.36,-608.47 117,-608 127.33,-606.65 138.19,-605.31 148.94,-604.03\"/>\n<text text-anchor=\"middle\" x=\"126.5\" y=\"-611.8\" font-family=\"Times,serif\" font-size=\"14.00\">2</text>\n</g>\n<!-- 02747&#45;2537 -->\n<g id=\"node19\" class=\"node\">\n<title>02747&#45;2537</title>\n<polygon fill=\"none\" stroke=\"black\" points=\"105.5,-397 3.5,-397 3.5,-361 105.5,-361 105.5,-397\"/>\n<text text-anchor=\"middle\" x=\"54.5\" y=\"-375.3\" font-family=\"Times,serif\" font-size=\"14.00\">02747&#45;2537</text>\n</g>\n<!-- 02747&#45;2537&#45;&#45;DARTMOUTH -->\n<g id=\"edge13\" class=\"edge\">\n<title>02747&#45;2537&#45;&#45;DARTMOUTH</title>\n<path fill=\"none\" stroke=\"black\" d=\"M105.7,-364.81C117,-359.56 128,-352.47 136,-343 145.18,-332.13 134.46,-322.56 144,-312 151.83,-303.33 162.23,-297 173.1,-292.38\"/>\n<text text-anchor=\"middle\" x=\"126.5\" y=\"-362.8\" font-family=\"Times,serif\" font-size=\"14.00\">3</text>\n</g>\n<!-- 02747&#45;2537&#45;&#45;NORTH DARTMOUTH -->\n<g id=\"edge14\" class=\"edge\">\n<title>02747&#45;2537&#45;&#45;NORTH DARTMOUTH</title>\n<path fill=\"none\" stroke=\"black\" d=\"M105.7,-380.86C115.83,-380.37 126.33,-379.22 136,-377 158.13,-371.91 181.37,-361.42 199.27,-352.07\"/>\n<text text-anchor=\"middle\" x=\"126.5\" y=\"-383.8\" font-family=\"Times,serif\" font-size=\"14.00\">1</text>\n</g>\n<!-- 01104 -->\n<g id=\"node20\" class=\"node\">\n<title>01104</title>\n<polygon fill=\"none\" stroke=\"black\" points=\"85.5,-720 23.5,-720 23.5,-684 85.5,-684 85.5,-720\"/>\n<text text-anchor=\"middle\" x=\"54.5\" y=\"-698.3\" font-family=\"Times,serif\" font-size=\"14.00\">01104</text>\n</g>\n<!-- SPRINGFIELD -->\n<g id=\"node21\" class=\"node\">\n<title>SPRINGFIELD</title>\n<polygon fill=\"none\" stroke=\"black\" points=\"292,-742 171,-742 171,-706 292,-706 292,-742\"/>\n<text text-anchor=\"middle\" x=\"231.5\" y=\"-720.3\" font-family=\"Times,serif\" font-size=\"14.00\">SPRINGFIELD</text>\n</g>\n<!-- 01104&#45;&#45;SPRINGFIELD -->\n<g id=\"edge15\" class=\"edge\">\n<title>01104&#45;&#45;SPRINGFIELD</title>\n<path fill=\"none\" stroke=\"black\" d=\"M85.52,-705.95C95.53,-707.25 106.75,-708.7 117,-710 134.53,-712.22 153.59,-714.59 171,-716.74\"/>\n<text text-anchor=\"middle\" x=\"126.5\" y=\"-715.8\" font-family=\"Times,serif\" font-size=\"14.00\">2</text>\n</g>\n<!-- Springfield -->\n<g id=\"node22\" class=\"node\">\n<title>Springfield</title>\n<polygon fill=\"none\" stroke=\"black\" points=\"279,-699 184,-699 184,-663 279,-663 279,-699\"/>\n<text text-anchor=\"middle\" x=\"231.5\" y=\"-677.3\" font-family=\"Times,serif\" font-size=\"14.00\">Springfield</text>\n</g>\n<!-- 01104&#45;&#45;Springfield -->\n<g id=\"edge16\" class=\"edge\">\n<title>01104&#45;&#45;Springfield</title>\n<path fill=\"none\" stroke=\"black\" d=\"M85.58,-698.39C112.56,-695.15 152.56,-690.35 183.71,-686.62\"/>\n<text text-anchor=\"middle\" x=\"126.5\" y=\"-697.8\" font-family=\"Times,serif\" font-size=\"14.00\">1</text>\n</g>\n<!-- 01930 -->\n<g id=\"node23\" class=\"node\">\n<title>01930</title>\n<polygon fill=\"none\" stroke=\"black\" points=\"85.5,-807 23.5,-807 23.5,-771 85.5,-771 85.5,-807\"/>\n<text text-anchor=\"middle\" x=\"54.5\" y=\"-785.3\" font-family=\"Times,serif\" font-size=\"14.00\">01930</text>\n</g>\n<!-- GLOUCESTER -->\n<g id=\"node24\" class=\"node\">\n<title>GLOUCESTER</title>\n<polygon fill=\"none\" stroke=\"black\" points=\"292,-828 171,-828 171,-792 292,-792 292,-828\"/>\n<text text-anchor=\"middle\" x=\"231.5\" y=\"-806.3\" font-family=\"Times,serif\" font-size=\"14.00\">GLOUCESTER</text>\n</g>\n<!-- 01930&#45;&#45;GLOUCESTER -->\n<g id=\"edge17\" class=\"edge\">\n<title>01930&#45;&#45;GLOUCESTER</title>\n<path fill=\"none\" stroke=\"black\" d=\"M85.58,-792.61C108.94,-795.41 142.07,-799.39 170.76,-802.83\"/>\n<text text-anchor=\"middle\" x=\"126.5\" y=\"-801.8\" font-family=\"Times,serif\" font-size=\"14.00\">2</text>\n</g>\n<!-- Gloucester -->\n<g id=\"node25\" class=\"node\">\n<title>Gloucester</title>\n<polygon fill=\"none\" stroke=\"black\" points=\"278.5,-785 184.5,-785 184.5,-749 278.5,-749 278.5,-785\"/>\n<text text-anchor=\"middle\" x=\"231.5\" y=\"-763.3\" font-family=\"Times,serif\" font-size=\"14.00\">Gloucester</text>\n</g>\n<!-- 01930&#45;&#45;Gloucester -->\n<g id=\"edge18\" class=\"edge\">\n<title>01930&#45;&#45;Gloucester</title>\n<path fill=\"none\" stroke=\"black\" d=\"M85.5,-784.42C95.51,-782.94 106.73,-781.34 117,-780 139.13,-777.11 163.72,-774.25 184.35,-771.96\"/>\n<text text-anchor=\"middle\" x=\"126.5\" y=\"-783.8\" font-family=\"Times,serif\" font-size=\"14.00\">1</text>\n</g>\n<!-- 02169 -->\n<g id=\"node26\" class=\"node\">\n<title>02169</title>\n<polygon fill=\"none\" stroke=\"black\" points=\"85.5,-892 23.5,-892 23.5,-856 85.5,-856 85.5,-892\"/>\n<text text-anchor=\"middle\" x=\"54.5\" y=\"-870.3\" font-family=\"Times,serif\" font-size=\"14.00\">02169</text>\n</g>\n<!-- QUINCY -->\n<g id=\"node27\" class=\"node\">\n<title>QUINCY</title>\n<polygon fill=\"none\" stroke=\"black\" points=\"270,-914 193,-914 193,-878 270,-878 270,-914\"/>\n<text text-anchor=\"middle\" x=\"231.5\" y=\"-892.3\" font-family=\"Times,serif\" font-size=\"14.00\">QUINCY</text>\n</g>\n<!-- 02169&#45;&#45;QUINCY -->\n<g id=\"edge19\" class=\"edge\">\n<title>02169&#45;&#45;QUINCY</title>\n<path fill=\"none\" stroke=\"black\" d=\"M85.52,-877.95C95.53,-879.25 106.75,-880.7 117,-882 142.31,-885.21 170.81,-888.72 192.92,-891.43\"/>\n<text text-anchor=\"middle\" x=\"126.5\" y=\"-887.8\" font-family=\"Times,serif\" font-size=\"14.00\">2</text>\n</g>\n<!-- Quincy -->\n<g id=\"node28\" class=\"node\">\n<title>Quincy</title>\n<polygon fill=\"none\" stroke=\"black\" points=\"264.5,-871 198.5,-871 198.5,-835 264.5,-835 264.5,-871\"/>\n<text text-anchor=\"middle\" x=\"231.5\" y=\"-849.3\" font-family=\"Times,serif\" font-size=\"14.00\">Quincy</text>\n</g>\n<!-- 02169&#45;&#45;Quincy -->\n<g id=\"edge20\" class=\"edge\">\n<title>02169&#45;&#45;Quincy</title>\n<path fill=\"none\" stroke=\"black\" d=\"M85.58,-870.39C117.05,-866.61 166.26,-860.71 198.44,-856.85\"/>\n<text text-anchor=\"middle\" x=\"126.5\" y=\"-869.8\" font-family=\"Times,serif\" font-size=\"14.00\">1</text>\n</g>\n<!-- 02301 -->\n<g id=\"node29\" class=\"node\">\n<title>02301</title>\n<polygon fill=\"none\" stroke=\"black\" points=\"85.5,-978 23.5,-978 23.5,-942 85.5,-942 85.5,-978\"/>\n<text text-anchor=\"middle\" x=\"54.5\" y=\"-956.3\" font-family=\"Times,serif\" font-size=\"14.00\">02301</text>\n</g>\n<!-- Brockton -->\n<g id=\"node30\" class=\"node\">\n<title>Brockton</title>\n<polygon fill=\"none\" stroke=\"black\" points=\"272,-1000 191,-1000 191,-964 272,-964 272,-1000\"/>\n<text text-anchor=\"middle\" x=\"231.5\" y=\"-978.3\" font-family=\"Times,serif\" font-size=\"14.00\">Brockton</text>\n</g>\n<!-- 02301&#45;&#45;Brockton -->\n<g id=\"edge21\" class=\"edge\">\n<title>02301&#45;&#45;Brockton</title>\n<path fill=\"none\" stroke=\"black\" d=\"M85.52,-963.95C95.53,-965.25 106.75,-966.7 117,-968 141.52,-971.11 169.04,-974.5 190.83,-977.17\"/>\n<text text-anchor=\"middle\" x=\"126.5\" y=\"-973.8\" font-family=\"Times,serif\" font-size=\"14.00\">2</text>\n</g>\n<!-- BROCKTON -->\n<g id=\"node31\" class=\"node\">\n<title>BROCKTON</title>\n<polygon fill=\"none\" stroke=\"black\" points=\"282.5,-957 180.5,-957 180.5,-921 282.5,-921 282.5,-957\"/>\n<text text-anchor=\"middle\" x=\"231.5\" y=\"-935.3\" font-family=\"Times,serif\" font-size=\"14.00\">BROCKTON</text>\n</g>\n<!-- 02301&#45;&#45;BROCKTON -->\n<g id=\"edge22\" class=\"edge\">\n<title>02301&#45;&#45;BROCKTON</title>\n<path fill=\"none\" stroke=\"black\" d=\"M85.58,-956.39C111.58,-953.27 149.68,-948.7 180.29,-945.03\"/>\n<text text-anchor=\"middle\" x=\"126.5\" y=\"-955.8\" font-family=\"Times,serif\" font-size=\"14.00\">1</text>\n</g>\n<!-- 02576&#45;1208 -->\n<g id=\"node32\" class=\"node\">\n<title>02576&#45;1208</title>\n<polygon fill=\"none\" stroke=\"black\" points=\"105.5,-1064 3.5,-1064 3.5,-1028 105.5,-1028 105.5,-1064\"/>\n<text text-anchor=\"middle\" x=\"54.5\" y=\"-1042.3\" font-family=\"Times,serif\" font-size=\"14.00\">02576&#45;1208</text>\n</g>\n<!-- W WAREHAM -->\n<g id=\"node33\" class=\"node\">\n<title>W WAREHAM</title>\n<polygon fill=\"none\" stroke=\"black\" points=\"289.5,-1086 173.5,-1086 173.5,-1050 289.5,-1050 289.5,-1086\"/>\n<text text-anchor=\"middle\" x=\"231.5\" y=\"-1064.3\" font-family=\"Times,serif\" font-size=\"14.00\">W WAREHAM</text>\n</g>\n<!-- 02576&#45;1208&#45;&#45;W WAREHAM -->\n<g id=\"edge23\" class=\"edge\">\n<title>02576&#45;1208&#45;&#45;W WAREHAM</title>\n<path fill=\"none\" stroke=\"black\" d=\"M105.51,-1052.53C109.4,-1053.03 113.26,-1053.53 117,-1054 135.32,-1056.32 155.31,-1058.8 173.33,-1061.02\"/>\n<text text-anchor=\"middle\" x=\"126.5\" y=\"-1059.8\" font-family=\"Times,serif\" font-size=\"14.00\">2</text>\n</g>\n<!-- WEST WAREHAM -->\n<g id=\"node34\" class=\"node\">\n<title>WEST WAREHAM</title>\n<polygon fill=\"none\" stroke=\"black\" points=\"304,-1043 159,-1043 159,-1007 304,-1007 304,-1043\"/>\n<text text-anchor=\"middle\" x=\"231.5\" y=\"-1021.3\" font-family=\"Times,serif\" font-size=\"14.00\">WEST WAREHAM</text>\n</g>\n<!-- 02576&#45;1208&#45;&#45;WEST WAREHAM -->\n<g id=\"edge24\" class=\"edge\">\n<title>02576&#45;1208&#45;&#45;WEST WAREHAM</title>\n<path fill=\"none\" stroke=\"black\" d=\"M105.65,-1039.98C122.21,-1037.99 140.97,-1035.74 158.83,-1033.6\"/>\n<text text-anchor=\"middle\" x=\"126.5\" y=\"-1041.8\" font-family=\"Times,serif\" font-size=\"14.00\">1</text>\n</g>\n<!-- 01201 -->\n<g id=\"node35\" class=\"node\">\n<title>01201</title>\n<polygon fill=\"none\" stroke=\"black\" points=\"85.5,-1150 23.5,-1150 23.5,-1114 85.5,-1114 85.5,-1150\"/>\n<text text-anchor=\"middle\" x=\"54.5\" y=\"-1128.3\" font-family=\"Times,serif\" font-size=\"14.00\">01201</text>\n</g>\n<!-- PITTSFIELD -->\n<g id=\"node36\" class=\"node\">\n<title>PITTSFIELD</title>\n<polygon fill=\"none\" stroke=\"black\" points=\"284.5,-1172 178.5,-1172 178.5,-1136 284.5,-1136 284.5,-1172\"/>\n<text text-anchor=\"middle\" x=\"231.5\" y=\"-1150.3\" font-family=\"Times,serif\" font-size=\"14.00\">PITTSFIELD</text>\n</g>\n<!-- 01201&#45;&#45;PITTSFIELD -->\n<g id=\"edge25\" class=\"edge\">\n<title>01201&#45;&#45;PITTSFIELD</title>\n<path fill=\"none\" stroke=\"black\" d=\"M85.52,-1135.95C95.53,-1137.25 106.75,-1138.7 117,-1140 136.99,-1142.53 158.97,-1145.26 178.22,-1147.63\"/>\n<text text-anchor=\"middle\" x=\"126.5\" y=\"-1145.8\" font-family=\"Times,serif\" font-size=\"14.00\">1</text>\n</g>\n<!-- PITTSFILED -->\n<g id=\"node37\" class=\"node\">\n<title>PITTSFILED</title>\n<polygon fill=\"none\" stroke=\"black\" points=\"284.5,-1129 178.5,-1129 178.5,-1093 284.5,-1093 284.5,-1129\"/>\n<text text-anchor=\"middle\" x=\"231.5\" y=\"-1107.3\" font-family=\"Times,serif\" font-size=\"14.00\">PITTSFILED</text>\n</g>\n<!-- 01201&#45;&#45;PITTSFILED -->\n<g id=\"edge26\" class=\"edge\">\n<title>01201&#45;&#45;PITTSFILED</title>\n<path fill=\"none\" stroke=\"black\" d=\"M85.58,-1128.39C110.99,-1125.34 147.97,-1120.9 178.21,-1117.28\"/>\n<text text-anchor=\"middle\" x=\"126.5\" y=\"-1127.8\" font-family=\"Times,serif\" font-size=\"14.00\">1</text>\n</g>\n<!-- 01605 -->\n<g id=\"node38\" class=\"node\">\n<title>01605</title>\n<polygon fill=\"none\" stroke=\"black\" points=\"85.5,-1236 23.5,-1236 23.5,-1200 85.5,-1200 85.5,-1236\"/>\n<text text-anchor=\"middle\" x=\"54.5\" y=\"-1214.3\" font-family=\"Times,serif\" font-size=\"14.00\">01605</text>\n</g>\n<!-- WORCESTER -->\n<g id=\"node39\" class=\"node\">\n<title>WORCESTER</title>\n<polygon fill=\"none\" stroke=\"black\" points=\"288,-1258 175,-1258 175,-1222 288,-1222 288,-1258\"/>\n<text text-anchor=\"middle\" x=\"231.5\" y=\"-1236.3\" font-family=\"Times,serif\" font-size=\"14.00\">WORCESTER</text>\n</g>\n<!-- 01605&#45;&#45;WORCESTER -->\n<g id=\"edge27\" class=\"edge\">\n<title>01605&#45;&#45;WORCESTER</title>\n<path fill=\"none\" stroke=\"black\" d=\"M85.52,-1221.95C95.53,-1223.25 106.75,-1224.7 117,-1226 135.81,-1228.38 156.38,-1230.94 174.78,-1233.2\"/>\n<text text-anchor=\"middle\" x=\"126.5\" y=\"-1231.8\" font-family=\"Times,serif\" font-size=\"14.00\">1</text>\n</g>\n<!-- Worcester -->\n<g id=\"node40\" class=\"node\">\n<title>Worcester</title>\n<polygon fill=\"none\" stroke=\"black\" points=\"276,-1215 187,-1215 187,-1179 276,-1179 276,-1215\"/>\n<text text-anchor=\"middle\" x=\"231.5\" y=\"-1193.3\" font-family=\"Times,serif\" font-size=\"14.00\">Worcester</text>\n</g>\n<!-- 01605&#45;&#45;Worcester -->\n<g id=\"edge28\" class=\"edge\">\n<title>01605&#45;&#45;Worcester</title>\n<path fill=\"none\" stroke=\"black\" d=\"M85.58,-1214.39C113.44,-1211.05 155.18,-1206.04 186.73,-1202.25\"/>\n<text text-anchor=\"middle\" x=\"126.5\" y=\"-1213.8\" font-family=\"Times,serif\" font-size=\"14.00\">1</text>\n</g>\n<!-- 02130 -->\n<g id=\"node41\" class=\"node\">\n<title>02130</title>\n<polygon fill=\"none\" stroke=\"black\" points=\"85.5,-65 23.5,-65 23.5,-29 85.5,-29 85.5,-65\"/>\n<text text-anchor=\"middle\" x=\"54.5\" y=\"-43.3\" font-family=\"Times,serif\" font-size=\"14.00\">02130</text>\n</g>\n<!-- 02130&#45;&#45;BOSTON -->\n<g id=\"edge29\" class=\"edge\">\n<title>02130&#45;&#45;BOSTON</title>\n<path fill=\"none\" stroke=\"black\" d=\"M85.89,-54.51C102.73,-60.09 122.86,-69.34 136,-84 143.51,-92.37 135.77,-100.34 144,-108 156.71,-119.82 174.85,-125.51 191.25,-128.17\"/>\n<text text-anchor=\"middle\" x=\"126.5\" y=\"-87.8\" font-family=\"Times,serif\" font-size=\"14.00\">1</text>\n</g>\n<!-- Jamaica Plain -->\n<g id=\"node42\" class=\"node\">\n<title>Jamaica Plain</title>\n<polygon fill=\"none\" stroke=\"black\" points=\"288,-51 175,-51 175,-15 288,-15 288,-51\"/>\n<text text-anchor=\"middle\" x=\"231.5\" y=\"-29.3\" font-family=\"Times,serif\" font-size=\"14.00\">Jamaica Plain</text>\n</g>\n<!-- 02130&#45;&#45;Jamaica Plain -->\n<g id=\"edge30\" class=\"edge\">\n<title>02130&#45;&#45;Jamaica Plain</title>\n<path fill=\"none\" stroke=\"black\" d=\"M85.74,-41.3C95.67,-39.64 106.77,-38.01 117,-37 135.84,-35.14 156.51,-34.12 174.99,-33.56\"/>\n<text text-anchor=\"middle\" x=\"126.5\" y=\"-40.8\" font-family=\"Times,serif\" font-size=\"14.00\">1</text>\n</g>\n<!-- 02360 -->\n<g id=\"node43\" class=\"node\">\n<title>02360</title>\n<polygon fill=\"none\" stroke=\"black\" points=\"85.5,-1322 23.5,-1322 23.5,-1286 85.5,-1286 85.5,-1322\"/>\n<text text-anchor=\"middle\" x=\"54.5\" y=\"-1300.3\" font-family=\"Times,serif\" font-size=\"14.00\">02360</text>\n</g>\n<!-- PLYMOUTH -->\n<g id=\"node44\" class=\"node\">\n<title>PLYMOUTH</title>\n<polygon fill=\"none\" stroke=\"black\" points=\"282.5,-1344 180.5,-1344 180.5,-1308 282.5,-1308 282.5,-1344\"/>\n<text text-anchor=\"middle\" x=\"231.5\" y=\"-1322.3\" font-family=\"Times,serif\" font-size=\"14.00\">PLYMOUTH</text>\n</g>\n<!-- 02360&#45;&#45;PLYMOUTH -->\n<g id=\"edge31\" class=\"edge\">\n<title>02360&#45;&#45;PLYMOUTH</title>\n<path fill=\"none\" stroke=\"black\" d=\"M85.52,-1307.95C95.53,-1309.25 106.75,-1310.7 117,-1312 137.78,-1314.63 160.71,-1317.47 180.49,-1319.9\"/>\n<text text-anchor=\"middle\" x=\"126.5\" y=\"-1317.8\" font-family=\"Times,serif\" font-size=\"14.00\">1</text>\n</g>\n<!-- Plymouth -->\n<g id=\"node45\" class=\"node\">\n<title>Plymouth</title>\n<polygon fill=\"none\" stroke=\"black\" points=\"274,-1301 189,-1301 189,-1265 274,-1265 274,-1301\"/>\n<text text-anchor=\"middle\" x=\"231.5\" y=\"-1279.3\" font-family=\"Times,serif\" font-size=\"14.00\">Plymouth</text>\n</g>\n<!-- 02360&#45;&#45;Plymouth -->\n<g id=\"edge32\" class=\"edge\">\n<title>02360&#45;&#45;Plymouth</title>\n<path fill=\"none\" stroke=\"black\" d=\"M85.58,-1300.39C114.02,-1296.98 156.95,-1291.83 188.7,-1288.02\"/>\n<text text-anchor=\"middle\" x=\"126.5\" y=\"-1299.8\" font-family=\"Times,serif\" font-size=\"14.00\">1</text>\n</g>\n<!-- 02601 -->\n<g id=\"node46\" class=\"node\">\n<title>02601</title>\n<polygon fill=\"none\" stroke=\"black\" points=\"85.5,-1408 23.5,-1408 23.5,-1372 85.5,-1372 85.5,-1408\"/>\n<text text-anchor=\"middle\" x=\"54.5\" y=\"-1386.3\" font-family=\"Times,serif\" font-size=\"14.00\">02601</text>\n</g>\n<!-- HYANNIS -->\n<g id=\"node47\" class=\"node\">\n<title>HYANNIS</title>\n<polygon fill=\"none\" stroke=\"black\" points=\"274.5,-1430 188.5,-1430 188.5,-1394 274.5,-1394 274.5,-1430\"/>\n<text text-anchor=\"middle\" x=\"231.5\" y=\"-1408.3\" font-family=\"Times,serif\" font-size=\"14.00\">HYANNIS</text>\n</g>\n<!-- 02601&#45;&#45;HYANNIS -->\n<g id=\"edge33\" class=\"edge\">\n<title>02601&#45;&#45;HYANNIS</title>\n<path fill=\"none\" stroke=\"black\" d=\"M85.52,-1393.95C95.53,-1395.25 106.75,-1396.7 117,-1398 140.64,-1400.99 167.05,-1404.26 188.45,-1406.88\"/>\n<text text-anchor=\"middle\" x=\"126.5\" y=\"-1403.8\" font-family=\"Times,serif\" font-size=\"14.00\">1</text>\n</g>\n<!-- Hyannis -->\n<g id=\"node48\" class=\"node\">\n<title>Hyannis</title>\n<polygon fill=\"none\" stroke=\"black\" points=\"269,-1387 194,-1387 194,-1351 269,-1351 269,-1387\"/>\n<text text-anchor=\"middle\" x=\"231.5\" y=\"-1365.3\" font-family=\"Times,serif\" font-size=\"14.00\">Hyannis</text>\n</g>\n<!-- 02601&#45;&#45;Hyannis -->\n<g id=\"edge34\" class=\"edge\">\n<title>02601&#45;&#45;Hyannis</title>\n<path fill=\"none\" stroke=\"black\" d=\"M85.58,-1386.39C115.59,-1382.79 161.71,-1377.25 193.84,-1373.4\"/>\n<text text-anchor=\"middle\" x=\"126.5\" y=\"-1385.8\" font-family=\"Times,serif\" font-size=\"14.00\">1</text>\n</g>\n<!-- 02747&#45;1242 -->\n<g id=\"node49\" class=\"node\">\n<title>02747&#45;1242</title>\n<polygon fill=\"none\" stroke=\"black\" points=\"105.5,-279 3.5,-279 3.5,-243 105.5,-243 105.5,-279\"/>\n<text text-anchor=\"middle\" x=\"54.5\" y=\"-257.3\" font-family=\"Times,serif\" font-size=\"14.00\">02747&#45;1242</text>\n</g>\n<!-- 02747&#45;1242&#45;&#45;DARTMOUTH -->\n<g id=\"edge35\" class=\"edge\">\n<title>02747&#45;1242&#45;&#45;DARTMOUTH</title>\n<path fill=\"none\" stroke=\"black\" d=\"M105.83,-257.46C109.61,-257.28 113.36,-257.12 117,-257 125.44,-256.73 127.62,-255.99 136,-257 148.24,-258.47 161.18,-260.97 173.43,-263.79\"/>\n<text text-anchor=\"middle\" x=\"126.5\" y=\"-260.8\" font-family=\"Times,serif\" font-size=\"14.00\">1</text>\n</g>\n<!-- 02747&#45;1242&#45;&#45;NORTH DARTMOUTH -->\n<g id=\"edge36\" class=\"edge\">\n<title>02747&#45;1242&#45;&#45;NORTH DARTMOUTH</title>\n<path fill=\"none\" stroke=\"black\" d=\"M84.61,-279.11C94.66,-284.94 106.12,-291.14 117,-296 133.6,-303.42 152.11,-310.2 169.29,-315.92\"/>\n<text text-anchor=\"middle\" x=\"126.5\" y=\"-307.8\" font-family=\"Times,serif\" font-size=\"14.00\">1</text>\n</g>\n<!-- 2128 -->\n<g id=\"node50\" class=\"node\">\n<title>2128</title>\n<polygon fill=\"none\" stroke=\"black\" points=\"81.5,-129 27.5,-129 27.5,-93 81.5,-93 81.5,-129\"/>\n<text text-anchor=\"middle\" x=\"54.5\" y=\"-107.3\" font-family=\"Times,serif\" font-size=\"14.00\">2128</text>\n</g>\n<!-- 2128&#45;&#45;BOSTON -->\n<g id=\"edge37\" class=\"edge\">\n<title>2128&#45;&#45;BOSTON</title>\n<path fill=\"none\" stroke=\"black\" d=\"M81.7,-113.84C110.78,-117 158.02,-122.13 191.46,-125.76\"/>\n<text text-anchor=\"middle\" x=\"126.5\" y=\"-123.8\" font-family=\"Times,serif\" font-size=\"14.00\">1</text>\n</g>\n<!-- EAST BOSTON -->\n<g id=\"node51\" class=\"node\">\n<title>EAST BOSTON</title>\n<polygon fill=\"none\" stroke=\"black\" points=\"293.5,-105 169.5,-105 169.5,-69 293.5,-69 293.5,-105\"/>\n<text text-anchor=\"middle\" x=\"231.5\" y=\"-83.3\" font-family=\"Times,serif\" font-size=\"14.00\">EAST BOSTON</text>\n</g>\n<!-- 2128&#45;&#45;EAST BOSTON -->\n<g id=\"edge38\" class=\"edge\">\n<title>2128&#45;&#45;EAST BOSTON</title>\n<path fill=\"none\" stroke=\"black\" d=\"M81.52,-107.11C92.47,-105.49 105.35,-103.62 117,-102 133.93,-99.64 152.29,-97.18 169.22,-94.94\"/>\n<text text-anchor=\"middle\" x=\"126.5\" y=\"-105.8\" font-family=\"Times,serif\" font-size=\"14.00\">1</text>\n</g>\n</g>\n</svg>\n",
                        "text/plain": "<graphviz.graphs.Graph at 0x7ffac3a9efe0>"
                    },
                    "metadata": {}
                }
            ],
            "execution_count": 8,
            "metadata": {},
            "id": "e45c2a07-a876-4f47-ba3b-afa2041a5637"
        }, {
            "cell_type": "markdown",
            "source": ["The plot of dependency violations shows values for **ZIP** on the left hand side, and values for **CITY** on the right hand side. An edge connects a **ZIP** on the left with a **CITY** on the right if there is a row that contains these two respective values. The edges are annotated with the count of such rows. For example, there are two rows with ZIP code 02747-1242, one with CITY \"NORTH DARTHMOUTH\" and one with CITY \"DARTHMOUTH\":"],
            "metadata": {},
            "id": "6ed628a3-3b83-4318-83c7-e55e10033306"
        }, {
            "cell_type": "code",
            "source": ["providers[providers.ZIP == '02747-1242'].CITY.value_counts()"],
            "outputs": [{
                    "output_type": "display_data",
                    "data": {
                        "application/vnd.livy.statement-meta+json": {
                            "spark_pool": null,
                            "session_id": "f2c4993a-3758-48f6-980e-8ba43ff0f957",
                            "statement_id": 16,
                            "state": "finished",
                            "livy_statement_state": "available",
                            "queued_time": "2023-09-13T03:52:19.5471309Z",
                            "session_start_time": null,
                            "execution_start_time": "2023-09-13T03:53:22.1390946Z",
                            "execution_finish_time": "2023-09-13T03:53:22.6074558Z",
                            "spark_jobs": {
                                "numbers": {
                                    "FAILED": 0,
                                    "RUNNING": 0,
                                    "SUCCEEDED": 0,
                                    "UNKNOWN": 0
                                },
                                "jobs": [],
                                "limit": 20,
                                "rule": "ALL_DESC"
                            },
                            "parent_msg_id": "4d55446f-439f-48c9-8cca-189f0e4f6fd3"
                        },
                        "text/plain": "StatementMeta(, f2c4993a-3758-48f6-980e-8ba43ff0f957, 16, Finished, Available)"
                    },
                    "metadata": {}
                }, {
                    "output_type": "execute_result",
                    "execution_count": 28,
                    "data": {
                        "text/plain": "NORTH DARTMOUTH    1\nDARTMOUTH          1\nName: CITY, dtype: int64"
                    },
                    "metadata": {}
                }
            ],
            "execution_count": 9,
            "metadata": {},
            "id": "b6a96071-ae4d-4095-97f9-af5b18c966c3"
        }, {
            "cell_type": "markdown",
            "source": ["The plot also shows that among the rows that have CITY as \"DARTHMOUTH\", nine rows have a ZIP of 02747-1262, one row has a ZIP of 02747-1242 and one row has a ZIP of 02747-2537:"],
            "metadata": {},
            "id": "a4375800-218e-4acc-9c84-26e96092e1ed"
        }, {
            "cell_type": "code",
            "source": ["providers[providers.CITY == 'DARTMOUTH'].ZIP.value_counts()"],
            "outputs": [{
                    "output_type": "display_data",
                    "data": {
                        "application/vnd.livy.statement-meta+json": {
                            "spark_pool": null,
                            "session_id": "f2c4993a-3758-48f6-980e-8ba43ff0f957",
                            "statement_id": 17,
                            "state": "finished",
                            "livy_statement_state": "available",
                            "queued_time": "2023-09-13T03:52:19.5530874Z",
                            "session_start_time": null,
                            "execution_start_time": "2023-09-13T03:53:23.0557544Z",
                            "execution_finish_time": "2023-09-13T03:53:23.548128Z",
                            "spark_jobs": {
                                "numbers": {
                                    "FAILED": 0,
                                    "RUNNING": 0,
                                    "SUCCEEDED": 0,
                                    "UNKNOWN": 0
                                },
                                "jobs": [],
                                "limit": 20,
                                "rule": "ALL_DESC"
                            },
                            "parent_msg_id": "e3151296-b91b-4b08-82fe-cf1f95c5d2c1"
                        },
                        "text/plain": "StatementMeta(, f2c4993a-3758-48f6-980e-8ba43ff0f957, 17, Finished, Available)"
                    },
                    "metadata": {}
                }, {
                    "output_type": "execute_result",
                    "execution_count": 31,
                    "data": {
                        "text/plain": "02747-4302    13\n02747-1262     9\n02747-3717     4\n02747-2537     3\n02747-1242     1\nName: ZIP, dtype: int64"
                    },
                    "metadata": {}
                }
            ],
            "execution_count": 10,
            "metadata": {},
            "id": "12bd0b49-68c9-43d6-874f-3365592546ae"
        }, {
            "cell_type": "markdown",
            "source": ["There are other ZIP codes associated with \"DARTMOUTH\", but these aren't shown in the graph of dependency violations, as they don't hint at data quality issues. An example is \"02747-4302\" that is uniquely associated to \"DARTMOUTH\":"],
            "metadata": {},
            "id": "7dbbf06f-6833-44f2-a40c-1125e074f730"
        }, {
            "cell_type": "code",
            "source": ["providers[providers.ZIP == '02747-4302'].CITY.value_counts()"],
            "outputs": [{
                    "output_type": "display_data",
                    "data": {
                        "application/vnd.livy.statement-meta+json": {
                            "spark_pool": null,
                            "session_id": "f2c4993a-3758-48f6-980e-8ba43ff0f957",
                            "statement_id": 18,
                            "state": "finished",
                            "livy_statement_state": "available",
                            "queued_time": "2023-09-13T03:52:19.5604082Z",
                            "session_start_time": null,
                            "execution_start_time": "2023-09-13T03:53:24.0477918Z",
                            "execution_finish_time": "2023-09-13T03:53:24.5811952Z",
                            "spark_jobs": {
                                "numbers": {
                                    "FAILED": 0,
                                    "RUNNING": 0,
                                    "SUCCEEDED": 0,
                                    "UNKNOWN": 0
                                },
                                "jobs": [],
                                "limit": 20,
                                "rule": "ALL_DESC"
                            },
                            "parent_msg_id": "9b87cb44-741f-42bd-9e99-1c48643d4fd0"
                        },
                        "text/plain": "StatementMeta(, f2c4993a-3758-48f6-980e-8ba43ff0f957, 18, Finished, Available)"
                    },
                    "metadata": {}
                }, {
                    "output_type": "execute_result",
                    "execution_count": 34,
                    "data": {
                        "text/plain": "DARTMOUTH    13\nName: CITY, dtype: int64"
                    },
                    "metadata": {}
                }
            ],
            "execution_count": 11,
            "metadata": {},
            "id": "5d390dd3-2c72-418e-8368-96537f04d09e"
        }, {
            "cell_type": "markdown",
            "source": ["## Summarize data quality issues detected with SemPy"],
            "metadata": {
                "nteract": {
                    "transient": {
                        "deleting": false
                    }
                }
            },
            "id": "bd42a79a-1ec5-4a3b-95f2-1bfd0667dd56"
        }, {
            "cell_type": "markdown",
            "source": ["Going back to the graph of dependency violations, you can see that there are actually several interesting data quality issues present in this dataset:\n", "\n", "- Some city names are all-caps. This is an easy to fix using string methods.\n", "- Some city names have qualifiers, with \"2128\" mapping to \"EAST BOSTON\" once and to \"BOSTON\" once. A similar issue happens between \"NORTH DARTHMOUTH\" and \"DARTHMOUTH\". You could try to drop these qualifiers or map to the most common occurrence.\n", "- There are typos in some cities, such as \"PITTSFIELD\" vs \"PITTSFILED\" and \"NEWBURGPORT vs \"NEWBURYPORT\". In the case of \"NEWBURGPORT\" this typo could be fixed by using the most common occurrence. In the case of \"PITTSFIELD\", having only one occurrence each makes it much harder for automatic disambiguation without external knowledge or a language model.\n", "- Sometimes, prefixes like \"West\" are abbreviated to a single letter \"W\". This could potentially be fixed with a simple replace, if all occurrences of \"W\" stand for \"West\".\n", "- \"02130\" maps to \"BOSTON\" once and \"Jamaica Plain\" once. This issue is not easy to fix, but if there was more data, mapping to the most common occurrence might be useful."],
            "metadata": {},
            "id": "4783d3d6-52eb-4def-8390-f8200df8ea2b"
        }, {
            "cell_type": "markdown",
            "source": ["## Clean data"],
            "metadata": {
                "nteract": {
                    "transient": {
                        "deleting": false
                    }
                }
            },
            "id": "e5b30852-1ebe-4e3e-9502-1cb97c667cd2"
        }, {
            "cell_type": "markdown",
            "source": ["Fix the capitalization issues by changing all capitalization to \"title\":"],
            "metadata": {
                "nteract": {
                    "transient": {
                        "deleting": false
                    }
                }
            },
            "id": "a5bdc11a-0304-4b94-aa93-763919afe9eb"
        }, {
            "cell_type": "code",
            "source": ["providers['CITY'] = providers.CITY.str.title()"],
            "outputs": [{
                    "output_type": "display_data",
                    "data": {
                        "application/vnd.livy.statement-meta+json": {
                            "spark_pool": null,
                            "session_id": "f2c4993a-3758-48f6-980e-8ba43ff0f957",
                            "statement_id": 19,
                            "state": "finished",
                            "livy_statement_state": "available",
                            "queued_time": "2023-09-13T03:52:19.5662638Z",
                            "session_start_time": null,
                            "execution_start_time": "2023-09-13T03:53:25.0597997Z",
                            "execution_finish_time": "2023-09-13T03:53:25.5644315Z",
                            "spark_jobs": {
                                "numbers": {
                                    "FAILED": 0,
                                    "RUNNING": 0,
                                    "SUCCEEDED": 0,
                                    "UNKNOWN": 0
                                },
                                "jobs": [],
                                "limit": 20,
                                "rule": "ALL_DESC"
                            },
                            "parent_msg_id": "88fb2cc8-7c46-4fd3-ac57-83ce33fcac84"
                        },
                        "text/plain": "StatementMeta(, f2c4993a-3758-48f6-980e-8ba43ff0f957, 19, Finished, Available)"
                    },
                    "metadata": {}
                }
            ],
            "execution_count": 12,
            "metadata": {},
            "id": "6fccf412-bb86-4c8e-8284-762cb3112cac"
        }, {
            "cell_type": "markdown",
            "source": ["Now, run the violation detection again to see that some of the ambiguities have been removed (the number of violations is smaller):"],
            "metadata": {},
            "id": "59015b9a-15f9-4077-8721-bb3dc1140623"
        }, {
            "cell_type": "code",
            "source": ["providers.list_dependency_violations('ZIP', 'CITY')"],
            "outputs": [{
                    "output_type": "display_data",
                    "data": {
                        "application/vnd.livy.statement-meta+json": {
                            "spark_pool": null,
                            "session_id": "f2c4993a-3758-48f6-980e-8ba43ff0f957",
                            "statement_id": 20,
                            "state": "finished",
                            "livy_statement_state": "available",
                            "queued_time": "2023-09-13T03:52:19.5673833Z",
                            "session_start_time": null,
                            "execution_start_time": "2023-09-13T03:53:26.0422123Z",
                            "execution_finish_time": "2023-09-13T03:53:26.5427395Z",
                            "spark_jobs": {
                                "numbers": {
                                    "FAILED": 0,
                                    "RUNNING": 0,
                                    "SUCCEEDED": 0,
                                    "UNKNOWN": 0
                                },
                                "jobs": [],
                                "limit": 20,
                                "rule": "ALL_DESC"
                            },
                            "parent_msg_id": "3c64d89a-2b6c-48ff-b170-b06c1db57d92"
                        },
                        "text/plain": "StatementMeta(, f2c4993a-3758-48f6-980e-8ba43ff0f957, 20, Finished, Available)"
                    },
                    "metadata": {}
                }, {
                    "output_type": "execute_result",
                    "execution_count": 40,
                    "data": {
                        "text/plain": "           ZIP             CITY  count\n0   02135-3514           Boston     53\n1   02135-3514         Brighton      2\n2   02747-1262        Dartmouth      9\n3   02747-1262  North Dartmouth      1\n4        01950      Newburgport      3\n5        01950      Newburyport      1\n6   02190-2314   South Weymouth      3\n7   02190-2314         Weymouth      1\n8   02668-1142     W Barnstable      3\n9   02668-1142  West Barnstable      2\n10  02747-2537        Dartmouth      3\n11  02747-2537  North Dartmouth      1\n12  02576-1208        W Wareham      2\n13  02576-1208     West Wareham      1\n14       01201       Pittsfield      1\n15       01201       Pittsfiled      1\n16       02130           Boston      1\n17       02130    Jamaica Plain      1\n18  02747-1242        Dartmouth      1\n19  02747-1242  North Dartmouth      1\n20        2128           Boston      1\n21        2128      East Boston      1",
                        "text/html": "<div>\n<style scoped>\n    .dataframe tbody tr th:only-of-type {\n        vertical-align: middle;\n    }\n\n    .dataframe tbody tr th {\n        vertical-align: top;\n    }\n\n    .dataframe thead th {\n        text-align: right;\n    }\n</style>\n<table border=\"1\" class=\"dataframe\">\n  <thead>\n    <tr style=\"text-align: right;\">\n      <th></th>\n      <th>ZIP</th>\n      <th>CITY</th>\n      <th>count</th>\n    </tr>\n  </thead>\n  <tbody>\n    <tr>\n      <th>0</th>\n      <td>02135-3514</td>\n      <td>Boston</td>\n      <td>53</td>\n    </tr>\n    <tr>\n      <th>1</th>\n      <td>02135-3514</td>\n      <td>Brighton</td>\n      <td>2</td>\n    </tr>\n    <tr>\n      <th>2</th>\n      <td>02747-1262</td>\n      <td>Dartmouth</td>\n      <td>9</td>\n    </tr>\n    <tr>\n      <th>3</th>\n      <td>02747-1262</td>\n      <td>North Dartmouth</td>\n      <td>1</td>\n    </tr>\n    <tr>\n      <th>4</th>\n      <td>01950</td>\n      <td>Newburgport</td>\n      <td>3</td>\n    </tr>\n    <tr>\n      <th>5</th>\n      <td>01950</td>\n      <td>Newburyport</td>\n      <td>1</td>\n    </tr>\n    <tr>\n      <th>6</th>\n      <td>02190-2314</td>\n      <td>South Weymouth</td>\n      <td>3</td>\n    </tr>\n    <tr>\n      <th>7</th>\n      <td>02190-2314</td>\n      <td>Weymouth</td>\n      <td>1</td>\n    </tr>\n    <tr>\n      <th>8</th>\n      <td>02668-1142</td>\n      <td>W Barnstable</td>\n      <td>3</td>\n    </tr>\n    <tr>\n      <th>9</th>\n      <td>02668-1142</td>\n      <td>West Barnstable</td>\n      <td>2</td>\n    </tr>\n    <tr>\n      <th>10</th>\n      <td>02747-2537</td>\n      <td>Dartmouth</td>\n      <td>3</td>\n    </tr>\n    <tr>\n      <th>11</th>\n      <td>02747-2537</td>\n      <td>North Dartmouth</td>\n      <td>1</td>\n    </tr>\n    <tr>\n      <th>12</th>\n      <td>02576-1208</td>\n      <td>W Wareham</td>\n      <td>2</td>\n    </tr>\n    <tr>\n      <th>13</th>\n      <td>02576-1208</td>\n      <td>West Wareham</td>\n      <td>1</td>\n    </tr>\n    <tr>\n      <th>14</th>\n      <td>01201</td>\n      <td>Pittsfield</td>\n      <td>1</td>\n    </tr>\n    <tr>\n      <th>15</th>\n      <td>01201</td>\n      <td>Pittsfiled</td>\n      <td>1</td>\n    </tr>\n    <tr>\n      <th>16</th>\n      <td>02130</td>\n      <td>Boston</td>\n      <td>1</td>\n    </tr>\n    <tr>\n      <th>17</th>\n      <td>02130</td>\n      <td>Jamaica Plain</td>\n      <td>1</td>\n    </tr>\n    <tr>\n      <th>18</th>\n      <td>02747-1242</td>\n      <td>Dartmouth</td>\n      <td>1</td>\n    </tr>\n    <tr>\n      <th>19</th>\n      <td>02747-1242</td>\n      <td>North Dartmouth</td>\n      <td>1</td>\n    </tr>\n    <tr>\n      <th>20</th>\n      <td>2128</td>\n      <td>Boston</td>\n      <td>1</td>\n    </tr>\n    <tr>\n      <th>21</th>\n      <td>2128</td>\n      <td>East Boston</td>\n      <td>1</td>\n    </tr>\n  </tbody>\n</table>\n</div>"
                    },
                    "metadata": {}
                }
            ],
            "execution_count": 13,
            "metadata": {},
            "id": "21bab59d-5972-40bc-bdfa-78e61c488325"
        }, {
            "cell_type": "markdown",
            "source": ["At this point, you could refine your data more manually, but one potential data cleanup task is to drop rows that violate functional constraints between columns in the data, by using SemPy's ``drop_dependency_violations`` function. For each value of the determinant, this function works by picking the most common value of the dependent and dropping all rows with other values. You should apply this operation only if you're confident that this statistical heuristic would lead to the correct results for your data. Otherwise you should write your own code to handle the detected violations as needed."],
            "metadata": {},
            "id": "3d55f86a-84dd-4fef-8973-96e16352aaef"
        }, {
            "cell_type": "code",
            "source": ["providers_clean = providers.drop_dependency_violations('ZIP', 'CITY')\n", "providers_clean.list_dependency_violations('ZIP', 'CITY')"],
            "outputs": [{
                    "output_type": "display_data",
                    "data": {
                        "application/vnd.livy.statement-meta+json": {
                            "spark_pool": null,
                            "session_id": "f2c4993a-3758-48f6-980e-8ba43ff0f957",
                            "statement_id": 21,
                            "state": "finished",
                            "livy_statement_state": "available",
                            "queued_time": "2023-09-13T03:52:19.5686016Z",
                            "session_start_time": null,
                            "execution_start_time": "2023-09-13T03:53:26.9914763Z",
                            "execution_finish_time": "2023-09-13T03:53:27.5356235Z",
                            "spark_jobs": {
                                "numbers": {
                                    "FAILED": 0,
                                    "RUNNING": 0,
                                    "SUCCEEDED": 0,
                                    "UNKNOWN": 0
                                },
                                "jobs": [],
                                "limit": 20,
                                "rule": "ALL_DESC"
                            },
                            "parent_msg_id": "d5370101-4b99-4784-acc2-8ea75872b526"
                        },
                        "text/plain": "StatementMeta(, f2c4993a-3758-48f6-980e-8ba43ff0f957, 21, Finished, Available)"
                    },
                    "metadata": {}
                }, {
                    "output_type": "stream",
                    "name": "stdout",
                    "text": ["No violations\n"]
                }, {
                    "output_type": "execute_result",
                    "execution_count": 43,
                    "data": {
                        "text/plain": "Empty FabricDataFrame\nColumns: [ZIP, CITY, count]\nIndex: []",
                        "text/html": "<div>\n<style scoped>\n    .dataframe tbody tr th:only-of-type {\n        vertical-align: middle;\n    }\n\n    .dataframe tbody tr th {\n        vertical-align: top;\n    }\n\n    .dataframe thead th {\n        text-align: right;\n    }\n</style>\n<table border=\"1\" class=\"dataframe\">\n  <thead>\n    <tr style=\"text-align: right;\">\n      <th></th>\n      <th>ZIP</th>\n      <th>CITY</th>\n      <th>count</th>\n    </tr>\n  </thead>\n  <tbody>\n  </tbody>\n</table>\n</div>"
                    },
                    "metadata": {}
                }
            ],
            "execution_count": 14,
            "metadata": {},
            "id": "4dfb40ff-4a63-46dc-8000-e2cb1719c1c8"
        }, {
            "cell_type": "markdown",
            "source": ["After this operation, there are no more violations of the functional constraint **CITY -> ZIP**, as shown with the help of the ``list_dependency_violations`` function."],
            "metadata": {},
            "id": "1e1cdda2-f94e-4738-b51c-f9022c830ecf"
        }, {
            "cell_type": "markdown",
            "source": ["## Next step\n", "\n", "Try using the learned ways of detecting data quality issues on your data and get amazed with the discoveries!"],
            "metadata": {
                "nteract": {
                    "transient": {
                        "deleting": false
                    }
                }
            },
            "id": "5fb2e185-5e4d-45ac-b7b3-ae0221507423"
        }, {
            "cell_type": "markdown",
            "source": ["## Related content\n", "\n", "Check out other tutorials for Semantic Link / SemPy:\n", "1. Analyze Functional Dependencies in a PowerBI Sample Dataset\n", "1. Discover Relationships in SYNTHEA dataset Using Semantic Link\n", "1. Discover Relationships in a PowerBI Dataset Using Semantic Link\n", "1. Extract and Calculate PowerBI Measures from Jupyter Notebook"],
            "metadata": {
                "nteract": {
                    "transient": {
                        "deleting": false
                    }
                }
            },
            "id": "0e0b57cf-b152-43bc-b2c6-568d6e108a53"
        }
    ],
    "metadata": {
        "vscode": {
            "interpreter": {
                "hash": "c0b0f2a33ff5d8c93ae4bacc4655fa76e802a6b7ccfde6a2f377a49527fbc8e5"
            }
        },
        "microsoft": {
            "host": {
                "trident": {
                    "lakehouse": {
                        "default_lakehouse": "317f6e81-9147-4d61-8db3-becab65cf7c3",
                        "known_lakehouses": "[{\"id\":\"317f6e81-9147-4d61-8db3-becab65cf7c3\"}]"
                    }
                }
            },
            "language": "python",
            "ms_spell_check": {
                "ms_spell_check_language": "en"
            }
        },
        "widgets": {},
        "kernel_info": {
            "name": "synapse_pyspark"
        },
        "language_info": {
            "name": "python"
        },
        "kernelspec": {
            "name": "synapse_pyspark",
            "language": "Python",
            "display_name": "Synapse PySpark"
        },
        "nbsphinx": {
            "execute": "always"
        },
        "nteract": {
            "version": "nteract-front-end@1.0.0"
        },
        "save_output": true,
        "spark_compute": {
            "compute_id": "/trident/default",
            "session_options": {
                "conf": {},
                "enableDebugMode": false
            }
        },
        "notebook_environment": {},
        "synapse_widget": {
            "version": "0.1",
            "state": {}
        },
        "trident": {
            "lakehouse": {
                "default_lakehouse": "317f6e81-9147-4d61-8db3-becab65cf7c3",
                "known_lakehouses": [{
                        "id": "317f6e81-9147-4d61-8db3-becab65cf7c3"
                    }
                ],
                "default_lakehouse_name": "NewLakehouse",
                "default_lakehouse_workspace_id": "5e55da45-5dd1-4f29-b623-7d354da08c18"
            }
        }
    },
    "nbformat": 4,
    "nbformat_minor": 5
}
