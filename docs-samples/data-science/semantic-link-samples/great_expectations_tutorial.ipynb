{
  "cells": [
    {
      "cell_type": "markdown",
      "id": "2c8b374e-9883-4f6f-9df8-d068ee21d8e5",
      "metadata": {},
      "source": [
        "# Tutorial: Use Great Expectations to validate Power BI datasets\n",
        "This tutorial illustrates how to use SemPy together with [Great Expectations](https://greatexpectations.io/) (GX) to perform data validation on Power BI datasets."
      ]
    },
    {
      "cell_type": "markdown",
      "id": "33c46a9a-09e8-4109-b9fc-ce6a9083db3f",
      "metadata": {
        "nteract": {
          "transient": {
            "deleting": false
          }
        }
      },
      "source": [
        "### In this tutorial, you learn how to:\n",
        "- Leverage Great Expectation's Fabric Data Source (built on semantic link) to validate constraints on datasets in your Fabric workspace. \n",
        "    - Configure a GX Data Context, Data Assets, and Expectations.\n",
        "    - Run a GX Checkpoint to view validation results. \n",
        "- Use semantic link to analyze raw data."
      ]
    },
    {
      "cell_type": "markdown",
      "id": "060a6d9f-49c6-4840-b843-152379377515",
      "metadata": {
        "nteract": {
          "transient": {
            "deleting": false
          }
        }
      },
      "source": [
        "### Prerequisites\n",
        "\n",
        "* A [Microsoft Fabric subscription](https://learn.microsoft.com/fabric/enterprise/licenses). Or sign up for a free [Microsoft Fabric (Preview) trial](https://learn.microsoft.com/fabric/get-started/fabric-trial).\n",
        "* Sign in to [Microsoft Fabric](https://fabric.microsoft.com/).\n",
        "* Go to the Data Science experience in Microsoft Fabric.\n",
        "* Select **Workspaces** from the left navigation pane to find and select your workspace. This workspace becomes your current workspace.\n",
        "* Download the [_Retail Analysis Sample PBIX.pbix_](https://download.microsoft.com/download/9/6/D/96DDC2FF-2568-491D-AAFA-AFDD6F763AE3/Retail%20Analysis%20Sample%20PBIX.pbix) dataset and upload it to your workspace.\n",
        "* Open your notebook. You have two options:\n",
        "    * [Import this notebook into your workspace](https://learn.microsoft.com/en-us/fabric/data-engineering/how-to-use-notebook#import-existing-notebooks). You can import from the Data Science homepage.\n",
        "    * Alternatively, you can create [a new notebook](https://learn.microsoft.com/fabric/data-engineering/how-to-use-notebook#create-notebooks) to copy/paste code into cells."
      ]
    },
    {
      "cell_type": "markdown",
      "id": "f003ff81-c3e0-4f14-9336-6bd21629a860",
      "metadata": {
        "nteract": {
          "transient": {
            "deleting": false
          }
        }
      },
      "source": [
        "## Set up the notebook\n",
        "\n",
        "In this section, you set up a notebook environment with the necessary modules and data.\n",
        "\n",
        "1. Install `SemPy` and the relevant `Great Expectations` libraries from PyPI using the `%pip` in-line installation capability within the notebook."
      ]
    },
    {
      "cell_type": "code",
      "execution_count": 1,
      "id": "450c8f7b-6896-4349-8101-014057015aa8",
      "metadata": {
        "jupyter": {
          "outputs_hidden": true,
          "source_hidden": false
        },
        "nteract": {
          "transient": {
            "deleting": false
          }
        },
        "tags": [
          "fabric_skip_execution"
        ]
      },
      "outputs": [
        {
          "data": {
            "application/vnd.livy.statement-meta+json": {
              "execution_finish_time": "2023-10-19T21:13:47.151513Z",
              "execution_start_time": "2023-10-19T21:13:35.9788777Z",
              "livy_statement_state": "available",
              "parent_msg_id": "8a4c201a-aba1-4285-90cb-979aeee5099d",
              "queued_time": "2023-10-19T21:12:50.8830196Z",
              "session_id": "08d25d22-0b34-42cf-af42-326548d01c94",
              "session_start_time": null,
              "spark_jobs": {
                "jobs": [],
                "limit": 20,
                "numbers": {
                  "FAILED": 0,
                  "RUNNING": 0,
                  "SUCCEEDED": 0,
                  "UNKNOWN": 0
                },
                "rule": "ALL_DESC"
              },
              "spark_pool": null,
              "state": "finished",
              "statement_id": 8
            },
            "text/plain": [
              "StatementMeta(, 08d25d22-0b34-42cf-af42-326548d01c94, 8, Finished, Available)"
            ]
          },
          "metadata": {},
          "output_type": "display_data"
        },
        {
          "data": {},
          "execution_count": 1,
          "metadata": {},
          "output_type": "execute_result"
        },
        {
          "name": "stdout",
          "output_type": "stream",
          "text": [
            "Collecting semantic-link\n",
            "  Downloading semantic_link-0.3.4-py3-none-any.whl (8.2 kB)\n",
            "Collecting great-expectations\n",
            "  Downloading great_expectations-0.17.22-py3-none-any.whl (5.4 MB)\n",
            "\u001b[2K     \u001b[90m━━━━━━━━━━━━━━━━━━━━━━━━━━━━━━━━━━━━━━━━\u001b[0m \u001b[32m5.4/5.4 MB\u001b[0m \u001b[31m96.6 MB/s\u001b[0m eta \u001b[36m0:00:00\u001b[0mta \u001b[36m0:00:01\u001b[0m\n",
            "\u001b[?25hCollecting great_expectations_experimental\n",
            "  Downloading great_expectations_experimental-0.1.20231006018-py3-none-any.whl (174 kB)\n",
            "\u001b[2K     \u001b[90m━━━━━━━━━━━━━━━━━━━━━━━━━━━━━━━━━━━━━━\u001b[0m \u001b[32m174.4/174.4 kB\u001b[0m \u001b[31m75.1 MB/s\u001b[0m eta \u001b[36m0:00:00\u001b[0m\n",
            "\u001b[?25hCollecting great_expectations_zipcode_expectations\n",
            "  Downloading great_expectations_zipcode_expectations-0.1.0-py3-none-any.whl (125 kB)\n",
            "\u001b[2K     \u001b[90m━━━━━━━━━━━━━━━━━━━━━━━━━━━━━━━━━━━━━━\u001b[0m \u001b[32m125.2/125.2 kB\u001b[0m \u001b[31m68.9 MB/s\u001b[0m eta \u001b[36m0:00:00\u001b[0m\n",
            "\u001b[?25hCollecting semantic-link-functions-phonenumbers==0.3.4\n",
            "  Downloading semantic_link_functions_phonenumbers-0.3.4-py3-none-any.whl (4.3 kB)\n",
            "Collecting semantic-link-functions-validators==0.3.4\n",
            "  Downloading semantic_link_functions_validators-0.3.4-py3-none-any.whl (4.8 kB)\n",
            "Collecting semantic-link-sempy==0.3.4\n",
            "  Downloading semantic_link_sempy-0.3.4-py3-none-any.whl (2.9 MB)\n",
            "\u001b[2K     \u001b[90m━━━━━━━━━━━━━━━━━━━━━━━━━━━━━━━━━━━━━━━━\u001b[0m \u001b[32m2.9/2.9 MB\u001b[0m \u001b[31m132.0 MB/s\u001b[0m eta \u001b[36m0:00:00\u001b[0m\n",
            "\u001b[?25hCollecting semantic-link-functions-meteostat==0.3.4\n",
            "  Downloading semantic_link_functions_meteostat-0.3.4-py3-none-any.whl (4.5 kB)\n",
            "Collecting semantic-link-functions-holidays==0.3.4\n",
            "  Downloading semantic_link_functions_holidays-0.3.4-py3-none-any.whl (4.2 kB)\n",
            "Collecting semantic-link-functions-geopandas==0.3.4\n",
            "  Downloading semantic_link_functions_geopandas-0.3.4-py3-none-any.whl (4.0 kB)\n",
            "Collecting geopandas\n",
            "  Downloading geopandas-0.14.0-py3-none-any.whl (1.1 MB)\n",
            "\u001b[2K     \u001b[90m━━━━━━━━━━━━━━━━━━━━━━━━━━━━━━━━━━━━━━━━\u001b[0m \u001b[32m1.1/1.1 MB\u001b[0m \u001b[31m154.2 MB/s\u001b[0m eta \u001b[36m0:00:00\u001b[0m\n",
            "\u001b[?25hCollecting mapclassify\n",
            "  Downloading mapclassify-2.6.1-py3-none-any.whl (38 kB)\n",
            "Collecting folium\n",
            "  Downloading folium-0.14.0-py2.py3-none-any.whl (102 kB)\n",
            "\u001b[2K     \u001b[90m━━━━━━━━━━━━━━━━━━━━━━━━━━━━━━━━━━━━━━\u001b[0m \u001b[32m102.3/102.3 kB\u001b[0m \u001b[31m51.1 MB/s\u001b[0m eta \u001b[36m0:00:00\u001b[0m\n",
            "\u001b[?25hCollecting holidays\n",
            "  Downloading holidays-0.35-py3-none-any.whl (800 kB)\n",
            "\u001b[2K     \u001b[90m━━━━━━━━━━━━━━━━━━━━━━━━━━━━━━━━━━━━━\u001b[0m \u001b[32m801.0/801.0 kB\u001b[0m \u001b[31m141.7 MB/s\u001b[0m eta \u001b[36m0:00:00\u001b[0m\n",
            "\u001b[?25hCollecting meteostat\n",
            "  Downloading meteostat-1.6.7-py3-none-any.whl (31 kB)\n",
            "Collecting phonenumbers\n",
            "  Downloading phonenumbers-8.13.23-py2.py3-none-any.whl (2.6 MB)\n",
            "\u001b[2K     \u001b[90m━━━━━━━━━━━━━━━━━━━━━━━━━━━━━━━━━━━━━━━━\u001b[0m \u001b[32m2.6/2.6 MB\u001b[0m \u001b[31m177.2 MB/s\u001b[0m eta \u001b[36m0:00:00\u001b[0m\n",
            "\u001b[?25hCollecting validators\n",
            "  Downloading validators-0.22.0-py3-none-any.whl (26 kB)\n",
            "Collecting pythonnet==3.0.1\n",
            "  Downloading pythonnet-3.0.1-py3-none-any.whl (284 kB)\n",
            "\u001b[2K     \u001b[90m━━━━━━━━━━━━━━━━━━━━━━━━━━━━━━━━━━━━━━\u001b[0m \u001b[32m284.5/284.5 kB\u001b[0m \u001b[31m86.8 MB/s\u001b[0m eta \u001b[36m0:00:00\u001b[0m\n",
            "\u001b[?25hCollecting clr-loader<0.3.0,>=0.2.2\n",
            "  Downloading clr_loader-0.2.6-py3-none-any.whl (51 kB)\n",
            "\u001b[2K     \u001b[90m━━━━━━━━━━━━━━━━━━━━━━━━━━━━━━━━━━━━━━━━\u001b[0m \u001b[32m51.3/51.3 kB\u001b[0m \u001b[31m24.8 MB/s\u001b[0m eta \u001b[36m0:00:00\u001b[0m\n",
            "\u001b[?25hRequirement already satisfied: scipy>=1.6.0 in /home/trusted-service-user/cluster-env/trident_env/lib/python3.10/site-packages (from great-expectations) (1.10.1)\n",
            "Requirement already satisfied: Ipython>=7.16.3 in /home/trusted-service-user/cluster-env/trident_env/lib/python3.10/site-packages (from great-expectations) (8.9.0)\n",
            "Requirement already satisfied: requests>=2.20 in /home/trusted-service-user/cluster-env/trident_env/lib/python3.10/site-packages (from great-expectations) (2.28.2)\n",
            "Requirement already satisfied: jsonschema>=2.5.1 in /home/trusted-service-user/cluster-env/trident_env/lib/python3.10/site-packages (from great-expectations) (4.17.3)\n",
            "Requirement already satisfied: numpy>=1.22.4 in /home/trusted-service-user/cluster-env/trident_env/lib/python3.10/site-packages (from great-expectations) (1.23.5)\n",
            "Collecting tzlocal>=1.2\n",
            "  Downloading tzlocal-5.1-py3-none-any.whl (21 kB)\n",
            "Requirement already satisfied: typing-extensions>=3.10.0.0 in /home/trusted-service-user/cluster-env/trident_env/lib/python3.10/site-packages (from great-expectations) (4.5.0)\n",
            "Collecting notebook>=6.4.10\n",
            "  Downloading notebook-7.0.6-py3-none-any.whl (4.0 MB)\n",
            "\u001b[2K     \u001b[90m━━━━━━━━━━━━━━━━━━━━━━━━━━━━━━━━━━━━━━━━\u001b[0m \u001b[32m4.0/4.0 MB\u001b[0m \u001b[31m151.3 MB/s\u001b[0m eta \u001b[36m0:00:00\u001b[0m\n",
            "\u001b[?25hRequirement already satisfied: pytz>=2021.3 in /home/trusted-service-user/cluster-env/trident_env/lib/python3.10/site-packages (from great-expectations) (2022.7.1)\n",
            "Collecting pydantic>=1.9.2\n",
            "  Downloading pydantic-2.4.2-py3-none-any.whl (395 kB)\n",
            "\u001b[2K     \u001b[90m━━━━━━━━━━━━━━━━━━━━━━━━━━━━━━━━━━━━━\u001b[0m \u001b[32m395.8/395.8 kB\u001b[0m \u001b[31m104.9 MB/s\u001b[0m eta \u001b[36m0:00:00\u001b[0m\n",
            "\u001b[?25hRequirement already satisfied: mistune>=0.8.4 in /home/trusted-service-user/cluster-env/trident_env/lib/python3.10/site-packages (from great-expectations) (2.0.5)\n",
            "Collecting ruamel.yaml<0.17.18,>=0.16\n",
            "  Downloading ruamel.yaml-0.17.17-py3-none-any.whl (109 kB)\n",
            "\u001b[2K     \u001b[90m━━━━━━━━━━━━━━━━━━━━━━━━━━━━━━━━━━━━━━\u001b[0m \u001b[32m109.1/109.1 kB\u001b[0m \u001b[31m41.5 MB/s\u001b[0m eta \u001b[36m0:00:00\u001b[0m\n",
            "\u001b[?25hRequirement already satisfied: nbformat>=5.0 in /home/trusted-service-user/cluster-env/trident_env/lib/python3.10/site-packages (from great-expectations) (5.8.0)\n",
            "Collecting altair<5.0.0,>=4.2.1\n",
            "  Downloading altair-4.2.2-py3-none-any.whl (813 kB)\n",
            "\u001b[2K     \u001b[90m━━━━━━━━━━━━━━━━━━━━━━━━━━━━━━━━━━━━━\u001b[0m \u001b[32m813.6/813.6 kB\u001b[0m \u001b[31m156.5 MB/s\u001b[0m eta \u001b[36m0:00:00\u001b[0m\n",
            "\u001b[?25hCollecting jsonpatch>=1.22\n",
            "  Downloading jsonpatch-1.33-py2.py3-none-any.whl (12 kB)\n",
            "Requirement already satisfied: cryptography>=3.2 in /home/trusted-service-user/cluster-env/trident_env/lib/python3.10/site-packages (from great-expectations) (40.0.1)\n",
            "Requirement already satisfied: urllib3>=1.26 in /home/trusted-service-user/cluster-env/trident_env/lib/python3.10/site-packages (from great-expectations) (1.26.14)\n",
            "Collecting marshmallow<4.0.0,>=3.7.1\n",
            "  Downloading marshmallow-3.20.1-py3-none-any.whl (49 kB)\n",
            "\u001b[2K     \u001b[90m━━━━━━━━━━━━━━━━━━━━━━━━━━━━━━━━━━━━━━━━\u001b[0m \u001b[32m49.4/49.4 kB\u001b[0m \u001b[31m24.8 MB/s\u001b[0m eta \u001b[36m0:00:00\u001b[0m\n",
            "\u001b[?25hRequirement already satisfied: ipywidgets>=7.5.1 in /home/trusted-service-user/cluster-env/trident_env/lib/python3.10/site-packages (from great-expectations) (8.0.4)\n",
            "Requirement already satisfied: python-dateutil>=2.8.1 in /home/trusted-service-user/cluster-env/trident_env/lib/python3.10/site-packages (from great-expectations) (2.8.2)\n",
            "Collecting makefun<2,>=1.7.0\n",
            "  Downloading makefun-1.15.1-py2.py3-none-any.whl (22 kB)\n",
            "Requirement already satisfied: pandas>=1.3.0 in /home/trusted-service-user/cluster-env/trident_env/lib/python3.10/site-packages (from great-expectations) (1.5.3)\n",
            "Requirement already satisfied: packaging in /home/trusted-service-user/cluster-env/trident_env/lib/python3.10/site-packages (from great-expectations) (22.0)\n",
            "Requirement already satisfied: Click!=8.1.4,>=7.1.2 in /home/trusted-service-user/cluster-env/trident_env/lib/python3.10/site-packages (from great-expectations) (8.1.3)\n",
            "Requirement already satisfied: jinja2>=2.10 in /home/trusted-service-user/cluster-env/trident_env/lib/python3.10/site-packages (from great-expectations) (3.1.2)\n",
            "Requirement already satisfied: tqdm>=4.59.0 in /home/trusted-service-user/cluster-env/trident_env/lib/python3.10/site-packages (from great-expectations) (4.65.0)\n",
            "Requirement already satisfied: colorama>=0.4.3 in /home/trusted-service-user/cluster-env/trident_env/lib/python3.10/site-packages (from great-expectations) (0.4.6)\n",
            "Requirement already satisfied: pyparsing>=2.4 in /home/trusted-service-user/cluster-env/trident_env/lib/python3.10/site-packages (from great-expectations) (3.0.9)\n",
            "Requirement already satisfied: setuptools in /home/trusted-service-user/cluster-env/trident_env/lib/python3.10/site-packages (from great_expectations_zipcode_expectations) (67.6.1)\n",
            "Collecting zipcodes\n",
            "  Downloading zipcodes-1.2.0-py2.py3-none-any.whl (719 kB)\n",
            "\u001b[2K     \u001b[90m━━━━━━━━━━━━━━━━━━━━━━━━━━━━━━━━━━━━━━\u001b[0m \u001b[32m719.6/719.6 kB\u001b[0m \u001b[31m67.6 MB/s\u001b[0m eta \u001b[36m0:00:00\u001b[0m\n",
            "\u001b[?25hCollecting uszipcode\n",
            "  Downloading uszipcode-1.0.1-py2.py3-none-any.whl (35 kB)\n",
            "Collecting pgeocode\n",
            "  Downloading pgeocode-0.4.1-py3-none-any.whl (9.8 kB)\n",
            "Requirement already satisfied: toolz in /home/trusted-service-user/cluster-env/trident_env/lib/python3.10/site-packages (from altair<5.0.0,>=4.2.1->great-expectations) (0.12.0)\n",
            "Requirement already satisfied: entrypoints in /home/trusted-service-user/cluster-env/trident_env/lib/python3.10/site-packages (from altair<5.0.0,>=4.2.1->great-expectations) (0.4)\n",
            "Requirement already satisfied: cffi>=1.12 in /home/trusted-service-user/cluster-env/trident_env/lib/python3.10/site-packages (from cryptography>=3.2->great-expectations) (1.15.1)\n",
            "Requirement already satisfied: pexpect>4.3 in /home/trusted-service-user/cluster-env/trident_env/lib/python3.10/site-packages (from Ipython>=7.16.3->great-expectations) (4.8.0)\n",
            "Requirement already satisfied: backcall in /home/trusted-service-user/cluster-env/trident_env/lib/python3.10/site-packages (from Ipython>=7.16.3->great-expectations) (0.2.0)\n",
            "Requirement already satisfied: decorator in /home/trusted-service-user/cluster-env/trident_env/lib/python3.10/site-packages (from Ipython>=7.16.3->great-expectations) (5.1.1)\n",
            "Requirement already satisfied: pickleshare in /home/trusted-service-user/cluster-env/trident_env/lib/python3.10/site-packages (from Ipython>=7.16.3->great-expectations) (0.7.5)\n",
            "Requirement already satisfied: pygments>=2.4.0 in /home/trusted-service-user/cluster-env/trident_env/lib/python3.10/site-packages (from Ipython>=7.16.3->great-expectations) (2.14.0)\n",
            "Requirement already satisfied: prompt-toolkit<3.1.0,>=3.0.30 in /home/trusted-service-user/cluster-env/trident_env/lib/python3.10/site-packages (from Ipython>=7.16.3->great-expectations) (3.0.38)\n",
            "Requirement already satisfied: matplotlib-inline in /home/trusted-service-user/cluster-env/trident_env/lib/python3.10/site-packages (from Ipython>=7.16.3->great-expectations) (0.1.6)\n",
            "Requirement already satisfied: traitlets>=5 in /home/trusted-service-user/cluster-env/trident_env/lib/python3.10/site-packages (from Ipython>=7.16.3->great-expectations) (5.9.0)\n",
            "Requirement already satisfied: stack-data in /home/trusted-service-user/cluster-env/trident_env/lib/python3.10/site-packages (from Ipython>=7.16.3->great-expectations) (0.6.2)\n",
            "Requirement already satisfied: jedi>=0.16 in /home/trusted-service-user/cluster-env/trident_env/lib/python3.10/site-packages (from Ipython>=7.16.3->great-expectations) (0.18.2)\n",
            "Requirement already satisfied: jupyterlab-widgets~=3.0 in /home/trusted-service-user/cluster-env/trident_env/lib/python3.10/site-packages (from ipywidgets>=7.5.1->great-expectations) (3.0.7)\n",
            "Requirement already satisfied: ipykernel>=4.5.1 in /home/trusted-service-user/cluster-env/trident_env/lib/python3.10/site-packages (from ipywidgets>=7.5.1->great-expectations) (6.22.0)\n",
            "Requirement already satisfied: widgetsnbextension~=4.0 in /home/trusted-service-user/cluster-env/trident_env/lib/python3.10/site-packages (from ipywidgets>=7.5.1->great-expectations) (4.0.7)\n",
            "Requirement already satisfied: MarkupSafe>=2.0 in /home/trusted-service-user/cluster-env/trident_env/lib/python3.10/site-packages (from jinja2>=2.10->great-expectations) (2.1.2)\n",
            "Collecting jsonpointer>=1.9\n",
            "  Downloading jsonpointer-2.4-py2.py3-none-any.whl (7.8 kB)\n",
            "Requirement already satisfied: pyrsistent!=0.17.0,!=0.17.1,!=0.17.2,>=0.14.0 in /home/trusted-service-user/cluster-env/trident_env/lib/python3.10/site-packages (from jsonschema>=2.5.1->great-expectations) (0.19.3)\n",
            "Requirement already satisfied: attrs>=17.4.0 in /home/trusted-service-user/cluster-env/trident_env/lib/python3.10/site-packages (from jsonschema>=2.5.1->great-expectations) (22.2.0)\n",
            "Requirement already satisfied: jupyter-core in /home/trusted-service-user/cluster-env/trident_env/lib/python3.10/site-packages (from nbformat>=5.0->great-expectations) (5.3.0)\n",
            "Requirement already satisfied: fastjsonschema in /home/trusted-service-user/cluster-env/trident_env/lib/python3.10/site-packages (from nbformat>=5.0->great-expectations) (2.16.3)\n",
            "Collecting jupyterlab-server<3,>=2.22.1\n",
            "  Downloading jupyterlab_server-2.25.0-py3-none-any.whl (57 kB)\n",
            "\u001b[2K     \u001b[90m━━━━━━━━━━━━━━━━━━━━━━━━━━━━━━━━━━━━━━━━\u001b[0m \u001b[32m57.2/57.2 kB\u001b[0m \u001b[31m28.3 MB/s\u001b[0m eta \u001b[36m0:00:00\u001b[0m\n",
            "\u001b[?25hCollecting jupyterlab<5,>=4.0.2\n",
            "  Downloading jupyterlab-4.0.7-py3-none-any.whl (9.2 MB)\n",
            "\u001b[2K     \u001b[90m━━━━━━━━━━━━━━━━━━━━━━━━━━━━━━━━━━━━━━━━\u001b[0m \u001b[32m9.2/9.2 MB\u001b[0m \u001b[31m156.7 MB/s\u001b[0m eta \u001b[36m0:00:00\u001b[0ma \u001b[36m0:00:01\u001b[0m\n",
            "\u001b[?25hCollecting jupyter-server<3,>=2.4.0\n",
            "  Downloading jupyter_server-2.8.0-py3-none-any.whl (377 kB)\n",
            "\u001b[2K     \u001b[90m━━━━━━━━━━━━━━━━━━━━━━━━━━━━━━━━━━━━━\u001b[0m \u001b[32m377.6/377.6 kB\u001b[0m \u001b[31m104.5 MB/s\u001b[0m eta \u001b[36m0:00:00\u001b[0m\n",
            "\u001b[?25hCollecting notebook-shim<0.3,>=0.2\n",
            "  Downloading notebook_shim-0.2.3-py3-none-any.whl (13 kB)\n",
            "Requirement already satisfied: tornado>=6.2.0 in /home/trusted-service-user/cluster-env/trident_env/lib/python3.10/site-packages (from notebook>=6.4.10->great-expectations) (6.2)\n",
            "Collecting pydantic-core==2.10.1\n",
            "  Downloading pydantic_core-2.10.1-cp310-cp310-manylinux_2_17_x86_64.manylinux2014_x86_64.whl (2.0 MB)\n",
            "\u001b[2K     \u001b[90m━━━━━━━━━━━━━━━━━━━━━━━━━━━━━━━━━━━━━━━━\u001b[0m \u001b[32m2.0/2.0 MB\u001b[0m \u001b[31m182.4 MB/s\u001b[0m eta \u001b[36m0:00:00\u001b[0m\n",
            "\u001b[?25hCollecting typing-extensions>=3.10.0.0\n",
            "  Using cached typing_extensions-4.8.0-py3-none-any.whl (31 kB)\n",
            "Collecting annotated-types>=0.4.0\n",
            "  Downloading annotated_types-0.6.0-py3-none-any.whl (12 kB)\n",
            "Requirement already satisfied: six>=1.5 in /home/trusted-service-user/cluster-env/trident_env/lib/python3.10/site-packages (from python-dateutil>=2.8.1->great-expectations) (1.16.0)\n",
            "Requirement already satisfied: charset-normalizer<4,>=2 in /home/trusted-service-user/cluster-env/trident_env/lib/python3.10/site-packages (from requests>=2.20->great-expectations) (2.1.1)\n",
            "Requirement already satisfied: certifi>=2017.4.17 in /home/trusted-service-user/cluster-env/trident_env/lib/python3.10/site-packages (from requests>=2.20->great-expectations) (2022.12.7)\n",
            "Requirement already satisfied: idna<4,>=2.5 in /home/trusted-service-user/cluster-env/trident_env/lib/python3.10/site-packages (from requests>=2.20->great-expectations) (3.4)\n",
            "Collecting pathlib-mate\n",
            "  Downloading pathlib_mate-1.2.1-py2.py3-none-any.whl (121 kB)\n",
            "\u001b[2K     \u001b[90m━━━━━━━━━━━━━━━━━━━━━━━━━━━━━━━━━━━━━━\u001b[0m \u001b[32m121.5/121.5 kB\u001b[0m \u001b[31m55.6 MB/s\u001b[0m eta \u001b[36m0:00:00\u001b[0m\n",
            "\u001b[?25hCollecting haversine>=2.5.0\n",
            "  Downloading haversine-2.8.0-py2.py3-none-any.whl (7.7 kB)\n",
            "Collecting atomicwrites\n",
            "  Downloading atomicwrites-1.4.1.tar.gz (14 kB)\n",
            "  Preparing metadata (setup.py) ... \u001b[?25l-\b \bdone\n",
            "\u001b[?25hCollecting sqlalchemy-mate>=1.4.28.3\n",
            "  Downloading sqlalchemy_mate-1.4.28.4-py2.py3-none-any.whl (77 kB)\n",
            "\u001b[2K     \u001b[90m━━━━━━━━━━━━━━━━━━━━━━━━━━━━━━━━━━━━━━━━\u001b[0m \u001b[32m77.1/77.1 kB\u001b[0m \u001b[31m36.8 MB/s\u001b[0m eta \u001b[36m0:00:00\u001b[0m\n",
            "\u001b[?25hCollecting fuzzywuzzy\n",
            "  Downloading fuzzywuzzy-0.18.0-py2.py3-none-any.whl (18 kB)\n",
            "Requirement already satisfied: SQLAlchemy>=1.4.0 in /home/trusted-service-user/cluster-env/trident_env/lib/python3.10/site-packages (from uszipcode->great_expectations_zipcode_expectations) (2.0.9)\n",
            "Requirement already satisfied: pycparser in /home/trusted-service-user/cluster-env/trident_env/lib/python3.10/site-packages (from cffi>=1.12->cryptography>=3.2->great-expectations) (2.21)\n",
            "Requirement already satisfied: pyzmq>=20 in /home/trusted-service-user/cluster-env/trident_env/lib/python3.10/site-packages (from ipykernel>=4.5.1->ipywidgets>=7.5.1->great-expectations) (25.0.2)\n",
            "Requirement already satisfied: jupyter-client>=6.1.12 in /home/trusted-service-user/cluster-env/trident_env/lib/python3.10/site-packages (from ipykernel>=4.5.1->ipywidgets>=7.5.1->great-expectations) (8.1.0)\n",
            "Requirement already satisfied: debugpy>=1.6.5 in /home/trusted-service-user/cluster-env/trident_env/lib/python3.10/site-packages (from ipykernel>=4.5.1->ipywidgets>=7.5.1->great-expectations) (1.6.7)\n",
            "Requirement already satisfied: comm>=0.1.1 in /home/trusted-service-user/cluster-env/trident_env/lib/python3.10/site-packages (from ipykernel>=4.5.1->ipywidgets>=7.5.1->great-expectations) (0.1.3)\n",
            "Requirement already satisfied: nest-asyncio in /home/trusted-service-user/cluster-env/trident_env/lib/python3.10/site-packages (from ipykernel>=4.5.1->ipywidgets>=7.5.1->great-expectations) (1.5.6)\n",
            "Requirement already satisfied: psutil in /home/trusted-service-user/cluster-env/trident_env/lib/python3.10/site-packages (from ipykernel>=4.5.1->ipywidgets>=7.5.1->great-expectations) (5.9.4)\n",
            "Requirement already satisfied: parso<0.9.0,>=0.8.0 in /home/trusted-service-user/cluster-env/trident_env/lib/python3.10/site-packages (from jedi>=0.16->Ipython>=7.16.3->great-expectations) (0.8.3)\n",
            "Requirement already satisfied: platformdirs>=2.5 in /home/trusted-service-user/cluster-env/trident_env/lib/python3.10/site-packages (from jupyter-core->nbformat>=5.0->great-expectations) (3.2.0)\n",
            "Requirement already satisfied: nbconvert>=6.4.4 in /home/trusted-service-user/cluster-env/trident_env/lib/python3.10/site-packages (from jupyter-server<3,>=2.4.0->notebook>=6.4.10->great-expectations) (7.3.0)\n",
            "Requirement already satisfied: jupyter-events>=0.6.0 in /home/trusted-service-user/cluster-env/trident_env/lib/python3.10/site-packages (from jupyter-server<3,>=2.4.0->notebook>=6.4.10->great-expectations) (0.6.3)\n",
            "Requirement already satisfied: argon2-cffi in /home/trusted-service-user/cluster-env/trident_env/lib/python3.10/site-packages (from jupyter-server<3,>=2.4.0->notebook>=6.4.10->great-expectations) (21.3.0)\n",
            "Requirement already satisfied: anyio>=3.1.0 in /home/trusted-service-user/cluster-env/trident_env/lib/python3.10/site-packages (from jupyter-server<3,>=2.4.0->notebook>=6.4.10->great-expectations) (3.6.2)\n",
            "Requirement already satisfied: jupyter-server-terminals in /home/trusted-service-user/cluster-env/trident_env/lib/python3.10/site-packages (from jupyter-server<3,>=2.4.0->notebook>=6.4.10->great-expectations) (0.4.4)\n",
            "Collecting overrides\n",
            "  Downloading overrides-7.4.0-py3-none-any.whl (17 kB)\n",
            "Collecting send2trash>=1.8.2\n",
            "  Downloading Send2Trash-1.8.2-py3-none-any.whl (18 kB)\n",
            "Requirement already satisfied: websocket-client in /home/trusted-service-user/cluster-env/trident_env/lib/python3.10/site-packages (from jupyter-server<3,>=2.4.0->notebook>=6.4.10->great-expectations) (1.5.1)\n",
            "Requirement already satisfied: prometheus-client in /home/trusted-service-user/cluster-env/trident_env/lib/python3.10/site-packages (from jupyter-server<3,>=2.4.0->notebook>=6.4.10->great-expectations) (0.16.0)\n",
            "Requirement already satisfied: terminado>=0.8.3 in /home/trusted-service-user/cluster-env/trident_env/lib/python3.10/site-packages (from jupyter-server<3,>=2.4.0->notebook>=6.4.10->great-expectations) (0.17.1)\n",
            "Collecting async-lru>=1.0.0\n",
            "  Downloading async_lru-2.0.4-py3-none-any.whl (6.1 kB)\n",
            "Collecting tomli\n",
            "  Downloading tomli-2.0.1-py3-none-any.whl (12 kB)\n",
            "Collecting jupyter-lsp>=2.0.0\n",
            "  Downloading jupyter_lsp-2.2.0-py3-none-any.whl (65 kB)\n",
            "\u001b[2K     \u001b[90m━━━━━━━━━━━━━━━━━━━━━━━━━━━━━━━━━━━━━━━━\u001b[0m \u001b[32m66.0/66.0 kB\u001b[0m \u001b[31m35.1 MB/s\u001b[0m eta \u001b[36m0:00:00\u001b[0m\n",
            "\u001b[?25hCollecting requests>=2.20\n",
            "  Downloading requests-2.31.0-py3-none-any.whl (62 kB)\n",
            "\u001b[2K     \u001b[90m━━━━━━━━━━━━━━━━━━━━━━━━━━━━━━━━━━━━━━━━\u001b[0m \u001b[32m62.6/62.6 kB\u001b[0m \u001b[31m35.1 MB/s\u001b[0m eta \u001b[36m0:00:00\u001b[0m\n",
            "\u001b[?25hCollecting babel>=2.10\n",
            "  Downloading Babel-2.13.0-py3-none-any.whl (10.1 MB)\n",
            "\u001b[2K     \u001b[90m━━━━━━━━━━━━━━━━━━━━━━━━━━━━━━━━━━━━━━━\u001b[0m \u001b[32m10.1/10.1 MB\u001b[0m \u001b[31m153.8 MB/s\u001b[0m eta \u001b[36m0:00:00\u001b[0ma \u001b[36m0:00:01\u001b[0m\n",
            "\u001b[?25hCollecting json5>=0.9.0\n",
            "  Downloading json5-0.9.14-py2.py3-none-any.whl (19 kB)\n",
            "Collecting jsonschema>=2.5.1\n",
            "  Downloading jsonschema-4.19.1-py3-none-any.whl (83 kB)\n",
            "\u001b[2K     \u001b[90m━━━━━━━━━━━━━━━━━━━━━━━━━━━━━━━━━━━━━━━━\u001b[0m \u001b[32m83.3/83.3 kB\u001b[0m \u001b[31m42.4 MB/s\u001b[0m eta \u001b[36m0:00:00\u001b[0m\n",
            "\u001b[?25hCollecting rpds-py>=0.7.1\n",
            "  Downloading rpds_py-0.10.6-cp310-cp310-manylinux_2_17_x86_64.manylinux2014_x86_64.whl (1.2 MB)\n",
            "\u001b[2K     \u001b[90m━━━━━━━━━━━━━━━━━━━━━━━━━━━━━━━━━━━━━━━━\u001b[0m \u001b[32m1.2/1.2 MB\u001b[0m \u001b[31m165.3 MB/s\u001b[0m eta \u001b[36m0:00:00\u001b[0m\n",
            "\u001b[?25hCollecting jsonschema-specifications>=2023.03.6\n",
            "  Downloading jsonschema_specifications-2023.7.1-py3-none-any.whl (17 kB)\n",
            "Collecting referencing>=0.28.4\n",
            "  Downloading referencing-0.30.2-py3-none-any.whl (25 kB)\n",
            "Requirement already satisfied: ptyprocess>=0.5 in /home/trusted-service-user/cluster-env/trident_env/lib/python3.10/site-packages (from pexpect>4.3->Ipython>=7.16.3->great-expectations) (0.7.0)\n",
            "Requirement already satisfied: wcwidth in /home/trusted-service-user/cluster-env/trident_env/lib/python3.10/site-packages (from prompt-toolkit<3.1.0,>=3.0.30->Ipython>=7.16.3->great-expectations) (0.2.6)\n",
            "Requirement already satisfied: greenlet!=0.4.17 in /home/trusted-service-user/cluster-env/trident_env/lib/python3.10/site-packages (from SQLAlchemy>=1.4.0->uszipcode->great_expectations_zipcode_expectations) (2.0.2)\n",
            "Requirement already satisfied: prettytable in /home/trusted-service-user/cluster-env/trident_env/lib/python3.10/site-packages (from sqlalchemy-mate>=1.4.28.3->uszipcode->great_expectations_zipcode_expectations) (3.6.0)\n",
            "Collecting SQLAlchemy>=1.4.0\n",
            "  Downloading SQLAlchemy-1.4.49-cp310-cp310-manylinux_2_5_x86_64.manylinux1_x86_64.manylinux_2_17_x86_64.manylinux2014_x86_64.whl (1.6 MB)\n",
            "\u001b[2K     \u001b[90m━━━━━━━━━━━━━━━━━━━━━━━━━━━━━━━━━━━━━━━━\u001b[0m \u001b[32m1.6/1.6 MB\u001b[0m \u001b[31m172.5 MB/s\u001b[0m eta \u001b[36m0:00:00\u001b[0m\n",
            "\u001b[?25hCollecting branca>=0.6.0\n",
            "  Downloading branca-0.6.0-py3-none-any.whl (24 kB)\n",
            "Collecting fiona>=1.8.21\n",
            "  Downloading fiona-1.9.5-cp310-cp310-manylinux2014_x86_64.whl (15.7 MB)\n",
            "\u001b[2K     \u001b[90m━━━━━━━━━━━━━━━━━━━━━━━━━━━━━━━━━━━━━━━\u001b[0m \u001b[32m15.7/15.7 MB\u001b[0m \u001b[31m101.2 MB/s\u001b[0m eta \u001b[36m0:00:00\u001b[0m00:01\u001b[0m00:01\u001b[0m\n",
            "\u001b[?25hCollecting pyproj>=3.3.0\n",
            "  Downloading pyproj-3.6.1-cp310-cp310-manylinux_2_17_x86_64.manylinux2014_x86_64.whl (8.3 MB)\n",
            "\u001b[2K     \u001b[90m━━━━━━━━━━━━━━━━━━━━━━━━━━━━━━━━━━━━━━━━\u001b[0m \u001b[32m8.3/8.3 MB\u001b[0m \u001b[31m170.3 MB/s\u001b[0m eta \u001b[36m0:00:00\u001b[0m00:01\u001b[0m\n",
            "\u001b[?25hCollecting shapely>=1.8.0\n",
            "  Downloading shapely-2.0.2-cp310-cp310-manylinux_2_17_x86_64.manylinux2014_x86_64.whl (2.5 MB)\n",
            "\u001b[2K     \u001b[90m━━━━━━━━━━━━━━━━━━━━━━━━━━━━━━━━━━━━━━━━\u001b[0m \u001b[32m2.5/2.5 MB\u001b[0m \u001b[31m127.4 MB/s\u001b[0m eta \u001b[36m0:00:00\u001b[0m\n",
            "\u001b[?25hCollecting networkx>=2.7\n",
            "  Downloading networkx-3.2-py3-none-any.whl (1.6 MB)\n",
            "\u001b[2K     \u001b[90m━━━━━━━━━━━━━━━━━━━━━━━━━━━━━━━━━━━━━━━━\u001b[0m \u001b[32m1.6/1.6 MB\u001b[0m \u001b[31m174.6 MB/s\u001b[0m eta \u001b[36m0:00:00\u001b[0m\n",
            "\u001b[?25hRequirement already satisfied: scikit-learn>=1.0 in /home/trusted-service-user/cluster-env/trident_env/lib/python3.10/site-packages (from mapclassify->semantic-link-functions-geopandas==0.3.4->semantic-link) (1.2.0)\n",
            "Requirement already satisfied: asttokens>=2.1.0 in /home/trusted-service-user/cluster-env/trident_env/lib/python3.10/site-packages (from stack-data->Ipython>=7.16.3->great-expectations) (2.2.1)\n",
            "Requirement already satisfied: pure-eval in /home/trusted-service-user/cluster-env/trident_env/lib/python3.10/site-packages (from stack-data->Ipython>=7.16.3->great-expectations) (0.2.2)\n",
            "Requirement already satisfied: executing>=1.2.0 in /home/trusted-service-user/cluster-env/trident_env/lib/python3.10/site-packages (from stack-data->Ipython>=7.16.3->great-expectations) (1.2.0)\n",
            "Requirement already satisfied: sniffio>=1.1 in /home/trusted-service-user/cluster-env/trident_env/lib/python3.10/site-packages (from anyio>=3.1.0->jupyter-server<3,>=2.4.0->notebook>=6.4.10->great-expectations) (1.3.0)\n",
            "Collecting cligj>=0.5\n",
            "  Downloading cligj-0.7.2-py3-none-any.whl (7.1 kB)\n",
            "Collecting click-plugins>=1.0\n",
            "  Downloading click_plugins-1.1.1-py2.py3-none-any.whl (7.5 kB)\n",
            "Requirement already satisfied: rfc3986-validator>=0.1.1 in /home/trusted-service-user/cluster-env/trident_env/lib/python3.10/site-packages (from jupyter-events>=0.6.0->jupyter-server<3,>=2.4.0->notebook>=6.4.10->great-expectations) (0.1.1)\n",
            "Requirement already satisfied: python-json-logger>=2.0.4 in /home/trusted-service-user/cluster-env/trident_env/lib/python3.10/site-packages (from jupyter-events>=0.6.0->jupyter-server<3,>=2.4.0->notebook>=6.4.10->great-expectations) (2.0.7)\n",
            "Requirement already satisfied: rfc3339-validator in /home/trusted-service-user/cluster-env/trident_env/lib/python3.10/site-packages (from jupyter-events>=0.6.0->jupyter-server<3,>=2.4.0->notebook>=6.4.10->great-expectations) (0.1.4)\n",
            "Requirement already satisfied: pyyaml>=5.3 in /home/trusted-service-user/cluster-env/trident_env/lib/python3.10/site-packages (from jupyter-events>=0.6.0->jupyter-server<3,>=2.4.0->notebook>=6.4.10->great-expectations) (6.0)\n",
            "Requirement already satisfied: nbclient>=0.5.0 in /home/trusted-service-user/cluster-env/trident_env/lib/python3.10/site-packages (from nbconvert>=6.4.4->jupyter-server<3,>=2.4.0->notebook>=6.4.10->great-expectations) (0.7.3)\n",
            "Requirement already satisfied: beautifulsoup4 in /home/trusted-service-user/cluster-env/trident_env/lib/python3.10/site-packages (from nbconvert>=6.4.4->jupyter-server<3,>=2.4.0->notebook>=6.4.10->great-expectations) (4.11.2)\n",
            "Requirement already satisfied: tinycss2 in /home/trusted-service-user/cluster-env/trident_env/lib/python3.10/site-packages (from nbconvert>=6.4.4->jupyter-server<3,>=2.4.0->notebook>=6.4.10->great-expectations) (1.2.1)\n",
            "Requirement already satisfied: defusedxml in /home/trusted-service-user/cluster-env/trident_env/lib/python3.10/site-packages (from nbconvert>=6.4.4->jupyter-server<3,>=2.4.0->notebook>=6.4.10->great-expectations) (0.7.1)\n",
            "Requirement already satisfied: jupyterlab-pygments in /home/trusted-service-user/cluster-env/trident_env/lib/python3.10/site-packages (from nbconvert>=6.4.4->jupyter-server<3,>=2.4.0->notebook>=6.4.10->great-expectations) (0.2.2)\n",
            "Requirement already satisfied: pandocfilters>=1.4.1 in /home/trusted-service-user/cluster-env/trident_env/lib/python3.10/site-packages (from nbconvert>=6.4.4->jupyter-server<3,>=2.4.0->notebook>=6.4.10->great-expectations) (1.5.0)\n",
            "Requirement already satisfied: bleach in /home/trusted-service-user/cluster-env/trident_env/lib/python3.10/site-packages (from nbconvert>=6.4.4->jupyter-server<3,>=2.4.0->notebook>=6.4.10->great-expectations) (6.0.0)\n",
            "Requirement already satisfied: threadpoolctl>=2.0.0 in /home/trusted-service-user/cluster-env/trident_env/lib/python3.10/site-packages (from scikit-learn>=1.0->mapclassify->semantic-link-functions-geopandas==0.3.4->semantic-link) (3.1.0)\n",
            "Requirement already satisfied: joblib>=1.1.1 in /home/trusted-service-user/cluster-env/trident_env/lib/python3.10/site-packages (from scikit-learn>=1.0->mapclassify->semantic-link-functions-geopandas==0.3.4->semantic-link) (1.2.0)\n",
            "Requirement already satisfied: argon2-cffi-bindings in /home/trusted-service-user/cluster-env/trident_env/lib/python3.10/site-packages (from argon2-cffi->jupyter-server<3,>=2.4.0->notebook>=6.4.10->great-expectations) (21.2.0)\n",
            "Collecting isoduration\n",
            "  Downloading isoduration-20.11.0-py3-none-any.whl (11 kB)\n",
            "Collecting webcolors>=1.11\n",
            "  Downloading webcolors-1.13-py3-none-any.whl (14 kB)\n",
            "Collecting uri-template\n",
            "  Downloading uri_template-1.3.0-py3-none-any.whl (11 kB)\n",
            "Collecting fqdn\n",
            "  Downloading fqdn-1.5.1-py3-none-any.whl (9.1 kB)\n",
            "Requirement already satisfied: soupsieve>1.2 in /home/trusted-service-user/cluster-env/trident_env/lib/python3.10/site-packages (from beautifulsoup4->nbconvert>=6.4.4->jupyter-server<3,>=2.4.0->notebook>=6.4.10->great-expectations) (2.3.2.post1)\n",
            "Requirement already satisfied: webencodings in /home/trusted-service-user/cluster-env/trident_env/lib/python3.10/site-packages (from bleach->nbconvert>=6.4.4->jupyter-server<3,>=2.4.0->notebook>=6.4.10->great-expectations) (0.5.1)\n",
            "Collecting arrow>=0.15.0\n",
            "  Downloading arrow-1.3.0-py3-none-any.whl (66 kB)\n",
            "\u001b[2K     \u001b[90m━━━━━━━━━━━━━━━━━━━━━━━━━━━━━━━━━━━━━━━━\u001b[0m \u001b[32m66.4/66.4 kB\u001b[0m \u001b[31m30.3 MB/s\u001b[0m eta \u001b[36m0:00:00\u001b[0m\n",
            "\u001b[?25hCollecting types-python-dateutil>=2.8.10\n",
            "  Downloading types_python_dateutil-2.8.19.14-py3-none-any.whl (9.4 kB)\n",
            "Building wheels for collected packages: atomicwrites\n",
            "  Building wheel for atomicwrites (setup.py) ... \u001b[?25l-\b \b\\\b \bdone\n",
            "\u001b[?25h  Created wheel for atomicwrites: filename=atomicwrites-1.4.1-py2.py3-none-any.whl size=6943 sha256=aaa785e4a3885b4e6608bee93cfd2e8bd3739bbf09c3c6622ed1494836e3509f\n",
            "  Stored in directory: /home/trusted-service-user/.cache/pip/wheels/34/07/0b/33b15f68736109f72ea0bb2499521d87312b932620737447a2\n",
            "Successfully built atomicwrites\n",
            "Installing collected packages: zipcodes, types-python-dateutil, phonenumbers, makefun, json5, fuzzywuzzy, webcolors, validators, uri-template, tzlocal, typing-extensions, tomli, SQLAlchemy, shapely, send2trash, ruamel.yaml, rpds-py, requests, pyproj, overrides, networkx, marshmallow, jsonpointer, haversine, fqdn, cligj, click-plugins, babel, atomicwrites, annotated-types, sqlalchemy-mate, referencing, pydantic-core, pathlib-mate, jsonpatch, holidays, fiona, clr-loader, branca, async-lru, arrow, uszipcode, pythonnet, pydantic, pgeocode, meteostat, mapclassify, jsonschema-specifications, isoduration, geopandas, folium, semantic-link-sempy, jsonschema, semantic-link-functions-validators, semantic-link-functions-phonenumbers, semantic-link-functions-meteostat, semantic-link-functions-holidays, semantic-link-functions-geopandas, altair, semantic-link, jupyter-server, notebook-shim, jupyterlab-server, jupyter-lsp, jupyterlab, notebook, great-expectations, great_expectations_zipcode_expectations, great_expectations_experimental\n",
            "  Attempting uninstall: typing-extensions\n",
            "    Found existing installation: typing_extensions 4.5.0\n",
            "    Not uninstalling typing-extensions at /home/trusted-service-user/cluster-env/trident_env/lib/python3.10/site-packages, outside environment /nfs4/pyenv-9fb1ecaa-9d79-40cb-a1d3-1aea8133675e\n",
            "    Can't uninstall 'typing_extensions'. No files were found to uninstall.\n",
            "  Attempting uninstall: SQLAlchemy\n",
            "    Found existing installation: SQLAlchemy 2.0.9\n",
            "    Not uninstalling sqlalchemy at /home/trusted-service-user/cluster-env/trident_env/lib/python3.10/site-packages, outside environment /nfs4/pyenv-9fb1ecaa-9d79-40cb-a1d3-1aea8133675e\n",
            "    Can't uninstall 'SQLAlchemy'. No files were found to uninstall.\n",
            "  Attempting uninstall: send2trash\n",
            "    Found existing installation: Send2Trash 1.8.0\n",
            "    Not uninstalling send2trash at /home/trusted-service-user/cluster-env/trident_env/lib/python3.10/site-packages, outside environment /nfs4/pyenv-9fb1ecaa-9d79-40cb-a1d3-1aea8133675e\n",
            "    Can't uninstall 'Send2Trash'. No files were found to uninstall.\n",
            "  Attempting uninstall: ruamel.yaml\n",
            "    Found existing installation: ruamel.yaml 0.17.21\n",
            "    Not uninstalling ruamel-yaml at /home/trusted-service-user/cluster-env/trident_env/lib/python3.10/site-packages, outside environment /nfs4/pyenv-9fb1ecaa-9d79-40cb-a1d3-1aea8133675e\n",
            "    Can't uninstall 'ruamel.yaml'. No files were found to uninstall.\n",
            "  Attempting uninstall: requests\n",
            "    Found existing installation: requests 2.28.2\n",
            "    Not uninstalling requests at /home/trusted-service-user/cluster-env/trident_env/lib/python3.10/site-packages, outside environment /nfs4/pyenv-9fb1ecaa-9d79-40cb-a1d3-1aea8133675e\n",
            "    Can't uninstall 'requests'. No files were found to uninstall.\n",
            "  Attempting uninstall: jsonschema\n",
            "    Found existing installation: jsonschema 4.17.3\n",
            "    Not uninstalling jsonschema at /home/trusted-service-user/cluster-env/trident_env/lib/python3.10/site-packages, outside environment /nfs4/pyenv-9fb1ecaa-9d79-40cb-a1d3-1aea8133675e\n",
            "    Can't uninstall 'jsonschema'. No files were found to uninstall.\n",
            "  Attempting uninstall: jupyter-server\n",
            "    Found existing installation: jupyter_server 2.2.1\n",
            "    Not uninstalling jupyter-server at /home/trusted-service-user/cluster-env/trident_env/lib/python3.10/site-packages, outside environment /nfs4/pyenv-9fb1ecaa-9d79-40cb-a1d3-1aea8133675e\n",
            "    Can't uninstall 'jupyter_server'. No files were found to uninstall.\n",
            "\u001b[31mERROR: pip's dependency resolver does not currently take into account all the packages that are installed. This behaviour is the source of the following dependency conflicts.\n",
            "azureml-core 1.49.0 requires packaging<22.0,>=20.0, but you have packaging 22.0 which is incompatible.\n",
            "azureml-core 1.49.0 requires paramiko<3.0.0,>=2.0.8, but you have paramiko 3.3.1 which is incompatible.\u001b[0m\u001b[31m\n",
            "\u001b[0mSuccessfully installed SQLAlchemy-1.4.49 altair-4.2.2 annotated-types-0.6.0 arrow-1.3.0 async-lru-2.0.4 atomicwrites-1.4.1 babel-2.13.0 branca-0.6.0 click-plugins-1.1.1 cligj-0.7.2 clr-loader-0.2.6 fiona-1.9.5 folium-0.14.0 fqdn-1.5.1 fuzzywuzzy-0.18.0 geopandas-0.14.0 great-expectations-0.17.22 great_expectations_experimental-0.1.20231006018 great_expectations_zipcode_expectations-0.1.0 haversine-2.8.0 holidays-0.35 isoduration-20.11.0 json5-0.9.14 jsonpatch-1.33 jsonpointer-2.4 jsonschema-4.19.1 jsonschema-specifications-2023.7.1 jupyter-lsp-2.2.0 jupyter-server-2.8.0 jupyterlab-4.0.7 jupyterlab-server-2.25.0 makefun-1.15.1 mapclassify-2.6.1 marshmallow-3.20.1 meteostat-1.6.7 networkx-3.2 notebook-7.0.6 notebook-shim-0.2.3 overrides-7.4.0 pathlib-mate-1.2.1 pgeocode-0.4.1 phonenumbers-8.13.23 pydantic-2.4.2 pydantic-core-2.10.1 pyproj-3.6.1 pythonnet-3.0.1 referencing-0.30.2 requests-2.31.0 rpds-py-0.10.6 ruamel.yaml-0.17.17 semantic-link-0.3.4 semantic-link-functions-geopandas-0.3.4 semantic-link-functions-holidays-0.3.4 semantic-link-functions-meteostat-0.3.4 semantic-link-functions-phonenumbers-0.3.4 semantic-link-functions-validators-0.3.4 semantic-link-sempy-0.3.4 send2trash-1.8.2 shapely-2.0.2 sqlalchemy-mate-1.4.28.4 tomli-2.0.1 types-python-dateutil-2.8.19.14 typing-extensions-4.8.0 tzlocal-5.1 uri-template-1.3.0 uszipcode-1.0.1 validators-0.22.0 webcolors-1.13 zipcodes-1.2.0\n",
            "\n",
            "\u001b[1m[\u001b[0m\u001b[34;49mnotice\u001b[0m\u001b[1;39;49m]\u001b[0m\u001b[39;49m A new release of pip is available: \u001b[0m\u001b[31;49m23.0\u001b[0m\u001b[39;49m -> \u001b[0m\u001b[32;49m23.3\u001b[0m\n",
            "\u001b[1m[\u001b[0m\u001b[34;49mnotice\u001b[0m\u001b[1;39;49m]\u001b[0m\u001b[39;49m To update, run: \u001b[0m\u001b[32;49m/nfs4/pyenv-9fb1ecaa-9d79-40cb-a1d3-1aea8133675e/bin/python -m pip install --upgrade pip\u001b[0m\n",
            "Note: you may need to restart the kernel to use updated packages.\n"
          ]
        },
        {
          "data": {},
          "execution_count": 1,
          "metadata": {},
          "output_type": "execute_result"
        },
        {
          "name": "stdout",
          "output_type": "stream",
          "text": [
            "Warning: PySpark kernel has been restarted to use updated packages.\n",
            "\n"
          ]
        }
      ],
      "source": [
        "# install libraries\n",
        "%pip install semantic-link great-expectations great_expectations_experimental great_expectations_zipcode_expectations\n",
        "\n",
        "# load %%dax cell magic\n",
        "%load_ext sempy"
      ]
    },
    {
      "cell_type": "markdown",
      "id": "b2eeffb5-e381-4c0d-93b7-06c94f6e80da",
      "metadata": {},
      "source": [
        "2. Perform necessary imports of modules that you'll need later: "
      ]
    },
    {
      "cell_type": "code",
      "execution_count": 2,
      "id": "9fb2ad54-6b22-4180-8959-43f47ed36e58",
      "metadata": {
        "jupyter": {
          "outputs_hidden": false,
          "source_hidden": false
        },
        "nteract": {
          "transient": {
            "deleting": false
          }
        }
      },
      "outputs": [
        {
          "data": {
            "application/vnd.livy.statement-meta+json": {
              "execution_finish_time": "2023-10-19T21:14:07.7666603Z",
              "execution_start_time": "2023-10-19T21:13:54.4101427Z",
              "livy_statement_state": "available",
              "parent_msg_id": "3155cbf3-cfff-4465-a621-d1d1d53392e4",
              "queued_time": "2023-10-19T21:12:50.8836119Z",
              "session_id": "08d25d22-0b34-42cf-af42-326548d01c94",
              "session_start_time": null,
              "spark_jobs": {
                "jobs": [],
                "limit": 20,
                "numbers": {
                  "FAILED": 0,
                  "RUNNING": 0,
                  "SUCCEEDED": 0,
                  "UNKNOWN": 0
                },
                "rule": "ALL_DESC"
              },
              "spark_pool": null,
              "state": "finished",
              "statement_id": 10
            },
            "text/plain": [
              "StatementMeta(, 08d25d22-0b34-42cf-af42-326548d01c94, 10, Finished, Available)"
            ]
          },
          "metadata": {},
          "output_type": "display_data"
        },
        {
          "name": "stdout",
          "output_type": "stream",
          "text": [
            "/nfs4/pyenv-9fb1ecaa-9d79-40cb-a1d3-1aea8133675e/lib/python3.10/site-packages/fuzzywuzzy/fuzz.py:11: UserWarning: Using slow pure-python SequenceMatcher. Install python-Levenshtein to remove this warning\n",
            "  warnings.warn('Using slow pure-python SequenceMatcher. Install python-Levenshtein to remove this warning')\n",
            "\n"
          ]
        }
      ],
      "source": [
        "import great_expectations as gx\n",
        "from great_expectations.expectations.expectation import ExpectationConfiguration\n",
        "from great_expectations_zipcode_expectations.expectations import expect_column_values_to_be_valid_zip5"
      ]
    },
    {
      "cell_type": "markdown",
      "id": "56e558dd-2c75-4966-ac27-33fc7b08d129",
      "metadata": {
        "nteract": {
          "transient": {
            "deleting": false
          }
        }
      },
      "source": [
        "## Set up GX Data Context and Data Source\n",
        "\n",
        "In order to get started with Great Expectations, you first have to set up a GX [Data Context](https://docs.greatexpectations.io/docs/terms/data_context/). This serves as an entry point for GX operations and holds all relevant configurations."
      ]
    },
    {
      "cell_type": "code",
      "execution_count": 3,
      "id": "8ce91d3c-5a6d-4337-9ae1-bbfb04aebc04",
      "metadata": {
        "jupyter": {
          "outputs_hidden": false,
          "source_hidden": false
        },
        "nteract": {
          "transient": {
            "deleting": false
          }
        }
      },
      "outputs": [
        {
          "data": {
            "application/vnd.livy.statement-meta+json": {
              "execution_finish_time": "2023-10-19T21:14:08.6410676Z",
              "execution_start_time": "2023-10-19T21:14:08.2190346Z",
              "livy_statement_state": "available",
              "parent_msg_id": "6e3c2881-19fe-4780-a927-96880ee60251",
              "queued_time": "2023-10-19T21:12:50.8845707Z",
              "session_id": "08d25d22-0b34-42cf-af42-326548d01c94",
              "session_start_time": null,
              "spark_jobs": {
                "jobs": [],
                "limit": 20,
                "numbers": {
                  "FAILED": 0,
                  "RUNNING": 0,
                  "SUCCEEDED": 0,
                  "UNKNOWN": 0
                },
                "rule": "ALL_DESC"
              },
              "spark_pool": null,
              "state": "finished",
              "statement_id": 11
            },
            "text/plain": [
              "StatementMeta(, 08d25d22-0b34-42cf-af42-326548d01c94, 11, Finished, Available)"
            ]
          },
          "metadata": {},
          "output_type": "display_data"
        },
        {
          "name": "stdout",
          "output_type": "stream",
          "text": [
            "Created temporary directory '/tmp/tmpq_662et6' for ephemeral docs site\n"
          ]
        }
      ],
      "source": [
        "context = gx.get_context()"
      ]
    },
    {
      "cell_type": "markdown",
      "id": "b8706404-81ce-4353-a3e3-68e3e4a10df6",
      "metadata": {
        "nteract": {
          "transient": {
            "deleting": false
          }
        }
      },
      "source": [
        "You can then add your Fabric dataset to this context as a [Data Source](https://docs.greatexpectations.io/docs/terms/datasource) to start interacting with the data. This tutorial uses a standard Power BI sample dataset [Retail Analysis Sample PBIX](https://learn.microsoft.com/en-us/power-bi/create-reports/sample-retail-analysis)."
      ]
    },
    {
      "cell_type": "code",
      "execution_count": 4,
      "id": "39ab4697-9e19-411c-9144-1e751ff6bc6f",
      "metadata": {
        "jupyter": {
          "outputs_hidden": false,
          "source_hidden": false
        },
        "nteract": {
          "transient": {
            "deleting": false
          }
        }
      },
      "outputs": [
        {
          "data": {
            "application/vnd.livy.statement-meta+json": {
              "execution_finish_time": "2023-10-19T21:14:09.486218Z",
              "execution_start_time": "2023-10-19T21:14:09.073742Z",
              "livy_statement_state": "available",
              "parent_msg_id": "345709a4-35b1-4d20-b822-e9feac5f64de",
              "queued_time": "2023-10-19T21:12:50.88666Z",
              "session_id": "08d25d22-0b34-42cf-af42-326548d01c94",
              "session_start_time": null,
              "spark_jobs": {
                "jobs": [],
                "limit": 20,
                "numbers": {
                  "FAILED": 0,
                  "RUNNING": 0,
                  "SUCCEEDED": 0,
                  "UNKNOWN": 0
                },
                "rule": "ALL_DESC"
              },
              "spark_pool": null,
              "state": "finished",
              "statement_id": 12
            },
            "text/plain": [
              "StatementMeta(, 08d25d22-0b34-42cf-af42-326548d01c94, 12, Finished, Available)"
            ]
          },
          "metadata": {},
          "output_type": "display_data"
        }
      ],
      "source": [
        "ds = context.sources.add_fabric_powerbi(\"Retail Analysis Data Source\", dataset=\"Retail Analysis Sample PBIX\")"
      ]
    },
    {
      "cell_type": "markdown",
      "id": "d29cc78a-ba34-472e-a5cd-e024f7f25645",
      "metadata": {
        "nteract": {
          "transient": {
            "deleting": false
          }
        }
      },
      "source": [
        "## Specify Data Assets\n",
        "\n",
        "You can now define [Data Assets](https://docs.greatexpectations.io/docs/terms/data_asset) to define the subset of data you'd like to work with. These can be as simple as full tables, or be as complex as a custom DAX query."
      ]
    },
    {
      "cell_type": "markdown",
      "id": "b6089586-a700-4bc3-a6d6-ef6e01b7ec09",
      "metadata": {
        "nteract": {
          "transient": {
            "deleting": false
          }
        }
      },
      "source": [
        "##### Power BI Table"
      ]
    },
    {
      "cell_type": "code",
      "execution_count": 5,
      "id": "804ef10b-9098-40c8-8bcc-db71858015ad",
      "metadata": {
        "jupyter": {
          "outputs_hidden": true,
          "source_hidden": false
        },
        "nteract": {
          "transient": {
            "deleting": false
          }
        }
      },
      "outputs": [
        {
          "data": {
            "application/vnd.livy.statement-meta+json": {
              "execution_finish_time": "2023-10-19T21:14:10.3646848Z",
              "execution_start_time": "2023-10-19T21:14:09.9084543Z",
              "livy_statement_state": "available",
              "parent_msg_id": "f0a79e74-7008-4b65-81ea-de55f0ee7812",
              "queued_time": "2023-10-19T21:12:50.8879319Z",
              "session_id": "08d25d22-0b34-42cf-af42-326548d01c94",
              "session_start_time": null,
              "spark_jobs": {
                "jobs": [],
                "limit": 20,
                "numbers": {
                  "FAILED": 0,
                  "RUNNING": 0,
                  "SUCCEEDED": 0,
                  "UNKNOWN": 0
                },
                "rule": "ALL_DESC"
              },
              "spark_pool": null,
              "state": "finished",
              "statement_id": 13
            },
            "text/plain": [
              "StatementMeta(, 08d25d22-0b34-42cf-af42-326548d01c94, 13, Finished, Available)"
            ]
          },
          "metadata": {},
          "output_type": "display_data"
        },
        {
          "data": {
            "text/plain": [
              "PowerBITable(name='Store Asset', type='powerbi_table', id=None, order_by=[], batch_metadata={}, table='Store', fully_qualified_columns=False, num_rows=None, multiindex_hierarchies=False, pandas_convert_dtypes=True)"
            ]
          },
          "execution_count": 19,
          "metadata": {},
          "output_type": "execute_result"
        }
      ],
      "source": [
        "ds.add_powerbi_table_asset(\"Store Asset\", table=\"Store\")"
      ]
    },
    {
      "cell_type": "markdown",
      "id": "a959824c-328b-4e6e-bccf-deb867abe3b1",
      "metadata": {
        "nteract": {
          "transient": {
            "deleting": false
          }
        }
      },
      "source": [
        "##### Power BI Measure\n",
        "If your dataset contains preconfigured measures, you can add these as assets following a similar API to SemPy's `evaluate_measure`. "
      ]
    },
    {
      "cell_type": "code",
      "execution_count": 6,
      "id": "279f29c4-d386-4e9e-8379-1c3208e9fc84",
      "metadata": {
        "jupyter": {
          "outputs_hidden": true,
          "source_hidden": false
        },
        "nteract": {
          "transient": {
            "deleting": false
          }
        }
      },
      "outputs": [
        {
          "data": {
            "application/vnd.livy.statement-meta+json": {
              "execution_finish_time": "2023-10-19T21:14:11.264264Z",
              "execution_start_time": "2023-10-19T21:14:10.7720412Z",
              "livy_statement_state": "available",
              "parent_msg_id": "b9dfaa00-2d34-44f5-95e4-666e53efa6a2",
              "queued_time": "2023-10-19T21:12:50.8923821Z",
              "session_id": "08d25d22-0b34-42cf-af42-326548d01c94",
              "session_start_time": null,
              "spark_jobs": {
                "jobs": [],
                "limit": 20,
                "numbers": {
                  "FAILED": 0,
                  "RUNNING": 0,
                  "SUCCEEDED": 0,
                  "UNKNOWN": 0
                },
                "rule": "ALL_DESC"
              },
              "spark_pool": null,
              "state": "finished",
              "statement_id": 14
            },
            "text/plain": [
              "StatementMeta(, 08d25d22-0b34-42cf-af42-326548d01c94, 14, Finished, Available)"
            ]
          },
          "metadata": {},
          "output_type": "display_data"
        },
        {
          "data": {
            "text/plain": [
              "PowerBIMeasure(name='Total Units Asset', type='powerbi_measure', id=None, order_by=[], batch_metadata={}, measure='TotalUnits', groupby_columns=['Time[FiscalYear]', 'Time[FiscalMonth]'], filters=None, fully_qualified_columns=None, num_rows=None, pandas_convert_dtypes=True, use_xmla=False)"
            ]
          },
          "execution_count": 22,
          "metadata": {},
          "output_type": "execute_result"
        }
      ],
      "source": [
        "ds.add_powerbi_measure_asset(\n",
        "    \"Total Units Asset\",\n",
        "    measure=\"TotalUnits\",\n",
        "    groupby_columns=[\"Time[FiscalYear]\", \"Time[FiscalMonth]\"]\n",
        ")"
      ]
    },
    {
      "cell_type": "markdown",
      "id": "fa5a5971-c065-4a7e-bfac-231d8b68f259",
      "metadata": {
        "nteract": {
          "transient": {
            "deleting": false
          }
        }
      },
      "source": [
        "##### DAX\n",
        "If you'd like to define your own measures or have more control over specific rows, you can add a DAX asset with a custom DAX query. Here, we define a `Total Units Ratio` measure by dividing two existing measures."
      ]
    },
    {
      "cell_type": "code",
      "execution_count": 7,
      "id": "ad5f7668-5a73-4849-9742-f1813df08467",
      "metadata": {
        "jupyter": {
          "outputs_hidden": true,
          "source_hidden": false
        },
        "nteract": {
          "transient": {
            "deleting": false
          }
        }
      },
      "outputs": [
        {
          "data": {
            "application/vnd.livy.statement-meta+json": {
              "execution_finish_time": "2023-10-19T21:14:12.0885909Z",
              "execution_start_time": "2023-10-19T21:14:11.670411Z",
              "livy_statement_state": "available",
              "parent_msg_id": "f2b84f96-fe16-4007-92da-c90da749b73e",
              "queued_time": "2023-10-19T21:12:50.8929149Z",
              "session_id": "08d25d22-0b34-42cf-af42-326548d01c94",
              "session_start_time": null,
              "spark_jobs": {
                "jobs": [],
                "limit": 20,
                "numbers": {
                  "FAILED": 0,
                  "RUNNING": 0,
                  "SUCCEEDED": 0,
                  "UNKNOWN": 0
                },
                "rule": "ALL_DESC"
              },
              "spark_pool": null,
              "state": "finished",
              "statement_id": 15
            },
            "text/plain": [
              "StatementMeta(, 08d25d22-0b34-42cf-af42-326548d01c94, 15, Finished, Available)"
            ]
          },
          "metadata": {},
          "output_type": "display_data"
        },
        {
          "data": {
            "text/plain": [
              "PowerBIDax(name='Total Units YoY Asset', type='powerbi_dax', id=None, order_by=[], batch_metadata={}, dax_string='\\n    EVALUATE SUMMARIZECOLUMNS(\\n        \\'Time\\'[FiscalYear],\\n        \\'Time\\'[FiscalMonth],\\n        \"Total Units Ratio\", DIVIDE([Total Units This Year], [Total Units Last Year])\\n    )    \\n    ', pandas_convert_dtypes=True)"
            ]
          },
          "execution_count": 25,
          "metadata": {},
          "output_type": "execute_result"
        }
      ],
      "source": [
        "ds.add_powerbi_dax_asset(\n",
        "    \"Total Units YoY Asset\",\n",
        "    dax_string=\n",
        "    \"\"\"\n",
        "    EVALUATE SUMMARIZECOLUMNS(\n",
        "        'Time'[FiscalYear],\n",
        "        'Time'[FiscalMonth],\n",
        "        \"Total Units Ratio\", DIVIDE([Total Units This Year], [Total Units Last Year])\n",
        "    )    \n",
        "    \"\"\"\n",
        ")"
      ]
    },
    {
      "cell_type": "markdown",
      "id": "64fa7244-fa06-47d4-91f0-36b331fdc561",
      "metadata": {
        "nteract": {
          "transient": {
            "deleting": false
          }
        }
      },
      "source": [
        "##### DMV Query\n",
        "In some cases, it may be helpful to leverage [Dynamic Management View](https://learn.microsoft.com/en-us/analysis-services/instances/use-dynamic-management-views-dmvs-to-monitor-analysis-services?view=asallproducts-allversions) (DMV) calculations as part of the data validation process. For example, you can keep track of the number of referential integrity violations within your dataset. See \"[Clean data = faster reports](https://dax.tips/2019/11/28/clean-data-faster-reports/)\" for more information."
      ]
    },
    {
      "cell_type": "code",
      "execution_count": 8,
      "id": "f5294f71-b569-4146-aa50-4d05c45591f3",
      "metadata": {
        "jupyter": {
          "outputs_hidden": true,
          "source_hidden": false
        },
        "nteract": {
          "transient": {
            "deleting": false
          }
        }
      },
      "outputs": [
        {
          "data": {
            "application/vnd.livy.statement-meta+json": {
              "execution_finish_time": "2023-10-19T21:14:12.9205801Z",
              "execution_start_time": "2023-10-19T21:14:12.495003Z",
              "livy_statement_state": "available",
              "parent_msg_id": "b84ca295-9920-43a3-8cda-c72b10d41fe0",
              "queued_time": "2023-10-19T21:12:50.8934277Z",
              "session_id": "08d25d22-0b34-42cf-af42-326548d01c94",
              "session_start_time": null,
              "spark_jobs": {
                "jobs": [],
                "limit": 20,
                "numbers": {
                  "FAILED": 0,
                  "RUNNING": 0,
                  "SUCCEEDED": 0,
                  "UNKNOWN": 0
                },
                "rule": "ALL_DESC"
              },
              "spark_pool": null,
              "state": "finished",
              "statement_id": 16
            },
            "text/plain": [
              "StatementMeta(, 08d25d22-0b34-42cf-af42-326548d01c94, 16, Finished, Available)"
            ]
          },
          "metadata": {},
          "output_type": "display_data"
        },
        {
          "data": {
            "text/plain": [
              "PowerBIDax(name='Referential Integrity Violation', type='powerbi_dax', id=None, order_by=[], batch_metadata={}, dax_string='\\n    SELECT\\n        [Database_name],\\n        [Dimension_Name],\\n        [RIVIOLATION_COUNT]\\n    FROM $SYSTEM.DISCOVER_STORAGE_TABLES\\n    ', pandas_convert_dtypes=True)"
            ]
          },
          "execution_count": 28,
          "metadata": {},
          "output_type": "execute_result"
        }
      ],
      "source": [
        "ds.add_powerbi_dax_asset(\n",
        "    \"Referential Integrity Violation\",\n",
        "    dax_string=\n",
        "    \"\"\"\n",
        "    SELECT\n",
        "        [Database_name],\n",
        "        [Dimension_Name],\n",
        "        [RIVIOLATION_COUNT]\n",
        "    FROM $SYSTEM.DISCOVER_STORAGE_TABLES\n",
        "    \"\"\"\n",
        ")"
      ]
    },
    {
      "cell_type": "markdown",
      "id": "a88e5f55-194d-43ff-8d25-5e0d93ac2852",
      "metadata": {
        "nteract": {
          "transient": {
            "deleting": false
          }
        }
      },
      "source": [
        "## Expectations\n",
        "\n",
        "In order to add specific constraints to the assets defined above, you first have to configure [Expectation Suites](https://docs.greatexpectations.io/docs/terms/expectation_suite). After adding individual [Expectations](https://docs.greatexpectations.io/docs/terms/expectation) to each suite, you can then update the Data Context set up in the beginning with the new suite. For a full list of available expectations, see the [GX Expectation Gallery](https://greatexpectations.io/expectations/)"
      ]
    },
    {
      "cell_type": "markdown",
      "id": "27f01a94-a81b-465d-b074-6f8a3caaa3b5",
      "metadata": {
        "nteract": {
          "transient": {
            "deleting": false
          }
        }
      },
      "source": [
        "##### `Store` Table"
      ]
    },
    {
      "cell_type": "code",
      "execution_count": 9,
      "id": "5637d4f9-4cd8-4f8c-99bb-f8d6157770ba",
      "metadata": {
        "jupyter": {
          "outputs_hidden": true,
          "source_hidden": false
        },
        "nteract": {
          "transient": {
            "deleting": false
          }
        }
      },
      "outputs": [
        {
          "data": {
            "application/vnd.livy.statement-meta+json": {
              "execution_finish_time": "2023-10-19T21:14:13.7809599Z",
              "execution_start_time": "2023-10-19T21:14:13.3115399Z",
              "livy_statement_state": "available",
              "parent_msg_id": "4991716a-de43-4741-a502-cd770cb0d595",
              "queued_time": "2023-10-19T21:12:50.9012039Z",
              "session_id": "08d25d22-0b34-42cf-af42-326548d01c94",
              "session_start_time": null,
              "spark_jobs": {
                "jobs": [],
                "limit": 20,
                "numbers": {
                  "FAILED": 0,
                  "RUNNING": 0,
                  "SUCCEEDED": 0,
                  "UNKNOWN": 0
                },
                "rule": "ALL_DESC"
              },
              "spark_pool": null,
              "state": "finished",
              "statement_id": 17
            },
            "text/plain": [
              "StatementMeta(, 08d25d22-0b34-42cf-af42-326548d01c94, 17, Finished, Available)"
            ]
          },
          "metadata": {},
          "output_type": "display_data"
        },
        {
          "data": {
            "text/plain": [
              "{\n",
              "  \"expectation_suite_name\": \"Retail Store Suite\",\n",
              "  \"ge_cloud_id\": null,\n",
              "  \"expectations\": [\n",
              "    {\n",
              "      \"expectation_type\": \"expect_column_values_to_be_valid_zip5\",\n",
              "      \"kwargs\": {\n",
              "        \"column\": \"PostalCode\"\n",
              "      },\n",
              "      \"meta\": {}\n",
              "    },\n",
              "    {\n",
              "      \"expectation_type\": \"expect_table_row_count_to_be_between\",\n",
              "      \"kwargs\": {\n",
              "        \"min_value\": 80,\n",
              "        \"max_value\": 200\n",
              "      },\n",
              "      \"meta\": {}\n",
              "    }\n",
              "  ],\n",
              "  \"data_asset_type\": null,\n",
              "  \"meta\": {\n",
              "    \"great_expectations_version\": \"0.17.22\"\n",
              "  }\n",
              "}"
            ]
          },
          "execution_count": 31,
          "metadata": {},
          "output_type": "execute_result"
        }
      ],
      "source": [
        "suite_store = context.add_expectation_suite(\"Retail Store Suite\")\n",
        "\n",
        "suite_store.add_expectation(ExpectationConfiguration(\"expect_column_values_to_be_valid_zip5\", { \"column\": \"PostalCode\" }))\n",
        "suite_store.add_expectation(ExpectationConfiguration(\"expect_table_row_count_to_be_between\", { \"min_value\": 80, \"max_value\": 200 }))\n",
        "\n",
        "context.add_or_update_expectation_suite(expectation_suite=suite_store)"
      ]
    },
    {
      "cell_type": "markdown",
      "id": "ba513df5-314c-49c5-ac2c-adb3b2dfc58f",
      "metadata": {
        "nteract": {
          "transient": {
            "deleting": false
          }
        }
      },
      "source": [
        "##### `TotalUnits` Measure"
      ]
    },
    {
      "cell_type": "code",
      "execution_count": 10,
      "id": "98cbb69b-86cf-4460-b71e-89d3df564eb6",
      "metadata": {
        "jupyter": {
          "outputs_hidden": true,
          "source_hidden": false
        },
        "nteract": {
          "transient": {
            "deleting": false
          }
        }
      },
      "outputs": [
        {
          "data": {
            "application/vnd.livy.statement-meta+json": {
              "execution_finish_time": "2023-10-19T21:14:14.6339775Z",
              "execution_start_time": "2023-10-19T21:14:14.1917148Z",
              "livy_statement_state": "available",
              "parent_msg_id": "5cee144a-29ac-4841-ab32-285b9bb014c0",
              "queued_time": "2023-10-19T21:12:50.901935Z",
              "session_id": "08d25d22-0b34-42cf-af42-326548d01c94",
              "session_start_time": null,
              "spark_jobs": {
                "jobs": [],
                "limit": 20,
                "numbers": {
                  "FAILED": 0,
                  "RUNNING": 0,
                  "SUCCEEDED": 0,
                  "UNKNOWN": 0
                },
                "rule": "ALL_DESC"
              },
              "spark_pool": null,
              "state": "finished",
              "statement_id": 18
            },
            "text/plain": [
              "StatementMeta(, 08d25d22-0b34-42cf-af42-326548d01c94, 18, Finished, Available)"
            ]
          },
          "metadata": {},
          "output_type": "display_data"
        },
        {
          "data": {
            "text/plain": [
              "{\n",
              "  \"expectation_suite_name\": \"Retail Measure Suite\",\n",
              "  \"ge_cloud_id\": null,\n",
              "  \"expectations\": [\n",
              "    {\n",
              "      \"expectation_type\": \"expect_column_values_to_be_between\",\n",
              "      \"kwargs\": {\n",
              "        \"column\": \"TotalUnits\",\n",
              "        \"min_value\": 50000\n",
              "      },\n",
              "      \"meta\": {}\n",
              "    }\n",
              "  ],\n",
              "  \"data_asset_type\": null,\n",
              "  \"meta\": {\n",
              "    \"great_expectations_version\": \"0.17.22\"\n",
              "  }\n",
              "}"
            ]
          },
          "execution_count": 34,
          "metadata": {},
          "output_type": "execute_result"
        }
      ],
      "source": [
        "suite_measure = context.add_expectation_suite(\"Retail Measure Suite\")\n",
        "suite_measure.add_expectation(ExpectationConfiguration(\n",
        "    \"expect_column_values_to_be_between\", \n",
        "    {\n",
        "        \"column\": \"TotalUnits\",\n",
        "        \"min_value\": 50000\n",
        "    }\n",
        "))\n",
        "\n",
        "context.add_or_update_expectation_suite(expectation_suite=suite_measure)"
      ]
    },
    {
      "cell_type": "markdown",
      "id": "2da347b3-0675-4ff4-8bef-11de53b0d5b9",
      "metadata": {
        "nteract": {
          "transient": {
            "deleting": false
          }
        }
      },
      "source": [
        "##### `Total Units Ratio` DAX"
      ]
    },
    {
      "cell_type": "code",
      "execution_count": 11,
      "id": "1ec9ec2d-23d0-4d42-979a-0194b7c06962",
      "metadata": {
        "jupyter": {
          "outputs_hidden": true,
          "source_hidden": false
        },
        "nteract": {
          "transient": {
            "deleting": false
          }
        }
      },
      "outputs": [
        {
          "data": {
            "application/vnd.livy.statement-meta+json": {
              "execution_finish_time": "2023-10-19T21:14:15.5919537Z",
              "execution_start_time": "2023-10-19T21:14:15.1494654Z",
              "livy_statement_state": "available",
              "parent_msg_id": "c3615a9c-1c10-4e2f-a588-64d4be9389b5",
              "queued_time": "2023-10-19T21:12:50.9025176Z",
              "session_id": "08d25d22-0b34-42cf-af42-326548d01c94",
              "session_start_time": null,
              "spark_jobs": {
                "jobs": [],
                "limit": 20,
                "numbers": {
                  "FAILED": 0,
                  "RUNNING": 0,
                  "SUCCEEDED": 0,
                  "UNKNOWN": 0
                },
                "rule": "ALL_DESC"
              },
              "spark_pool": null,
              "state": "finished",
              "statement_id": 19
            },
            "text/plain": [
              "StatementMeta(, 08d25d22-0b34-42cf-af42-326548d01c94, 19, Finished, Available)"
            ]
          },
          "metadata": {},
          "output_type": "display_data"
        },
        {
          "data": {
            "text/plain": [
              "{\n",
              "  \"expectation_suite_name\": \"Retail DAX Suite\",\n",
              "  \"ge_cloud_id\": null,\n",
              "  \"expectations\": [\n",
              "    {\n",
              "      \"expectation_type\": \"expect_column_values_to_be_between\",\n",
              "      \"kwargs\": {\n",
              "        \"column\": \"[Total Units Ratio]\",\n",
              "        \"min_value\": 0.8,\n",
              "        \"max_value\": 1.5\n",
              "      },\n",
              "      \"meta\": {}\n",
              "    }\n",
              "  ],\n",
              "  \"data_asset_type\": null,\n",
              "  \"meta\": {\n",
              "    \"great_expectations_version\": \"0.17.22\"\n",
              "  }\n",
              "}"
            ]
          },
          "execution_count": 37,
          "metadata": {},
          "output_type": "execute_result"
        }
      ],
      "source": [
        "suite_dax = context.add_expectation_suite(\"Retail DAX Suite\")\n",
        "suite_dax.add_expectation(ExpectationConfiguration(\n",
        "    \"expect_column_values_to_be_between\", \n",
        "    {\n",
        "        \"column\": \"[Total Units Ratio]\",\n",
        "        \"min_value\": 0.8,\n",
        "        \"max_value\": 1.5\n",
        "    }\n",
        "))\n",
        "\n",
        "context.add_or_update_expectation_suite(expectation_suite=suite_dax)"
      ]
    },
    {
      "cell_type": "markdown",
      "id": "f7cd617d-9d01-45e9-985a-453701583ea2",
      "metadata": {
        "nteract": {
          "transient": {
            "deleting": false
          }
        }
      },
      "source": [
        "##### Referential Integrity Violations (DMV)"
      ]
    },
    {
      "cell_type": "code",
      "execution_count": 12,
      "id": "457fddfe-1bb1-4d2b-86fd-4ae8f376bc17",
      "metadata": {
        "jupyter": {
          "outputs_hidden": true,
          "source_hidden": false
        },
        "nteract": {
          "transient": {
            "deleting": false
          }
        }
      },
      "outputs": [
        {
          "data": {
            "application/vnd.livy.statement-meta+json": {
              "execution_finish_time": "2023-10-19T21:14:16.3972118Z",
              "execution_start_time": "2023-10-19T21:14:15.9973136Z",
              "livy_statement_state": "available",
              "parent_msg_id": "0d073017-fda4-4e76-8cbf-717b7fe43deb",
              "queued_time": "2023-10-19T21:12:50.9030784Z",
              "session_id": "08d25d22-0b34-42cf-af42-326548d01c94",
              "session_start_time": null,
              "spark_jobs": {
                "jobs": [],
                "limit": 20,
                "numbers": {
                  "FAILED": 0,
                  "RUNNING": 0,
                  "SUCCEEDED": 0,
                  "UNKNOWN": 0
                },
                "rule": "ALL_DESC"
              },
              "spark_pool": null,
              "state": "finished",
              "statement_id": 20
            },
            "text/plain": [
              "StatementMeta(, 08d25d22-0b34-42cf-af42-326548d01c94, 20, Finished, Available)"
            ]
          },
          "metadata": {},
          "output_type": "display_data"
        },
        {
          "data": {
            "text/plain": [
              "{\n",
              "  \"expectation_suite_name\": \"Retail DMV Suite\",\n",
              "  \"ge_cloud_id\": null,\n",
              "  \"expectations\": [\n",
              "    {\n",
              "      \"expectation_type\": \"expect_column_values_to_be_in_set\",\n",
              "      \"kwargs\": {\n",
              "        \"column\": \"RIVIOLATION_COUNT\",\n",
              "        \"value_set\": [\n",
              "          0\n",
              "        ]\n",
              "      },\n",
              "      \"meta\": {}\n",
              "    }\n",
              "  ],\n",
              "  \"data_asset_type\": null,\n",
              "  \"meta\": {\n",
              "    \"great_expectations_version\": \"0.17.22\"\n",
              "  }\n",
              "}"
            ]
          },
          "execution_count": 40,
          "metadata": {},
          "output_type": "execute_result"
        }
      ],
      "source": [
        "suite_dmv = context.add_expectation_suite(\"Retail DMV Suite\")\n",
        "# There should be no RI violations\n",
        "suite_dmv.add_expectation(ExpectationConfiguration(\n",
        "    \"expect_column_values_to_be_in_set\", \n",
        "    {\n",
        "        \"column\": \"RIVIOLATION_COUNT\",\n",
        "        \"value_set\": [0]\n",
        "    }\n",
        "))\n",
        "context.add_or_update_expectation_suite(expectation_suite=suite_dmv)"
      ]
    },
    {
      "cell_type": "markdown",
      "id": "f2ee7351-a2ad-47dd-99b3-b762b573493c",
      "metadata": {
        "nteract": {
          "transient": {
            "deleting": false
          }
        }
      },
      "source": [
        "## Validation\n",
        "\n",
        "To actually run the specified expectations against the data, you need to create a [Checkpoint](https://docs.greatexpectations.io/docs/terms/checkpoint) and add it to the context. For more information on Checkpoint configuration, see [Data Validation workflow](https://docs.greatexpectations.io/docs/guides/validation/validate_data_overview)."
      ]
    },
    {
      "cell_type": "code",
      "execution_count": 13,
      "id": "0563e117-7075-4386-963a-fb038cf6c813",
      "metadata": {
        "jupyter": {
          "outputs_hidden": false,
          "source_hidden": false
        },
        "nteract": {
          "transient": {
            "deleting": false
          }
        }
      },
      "outputs": [
        {
          "data": {
            "application/vnd.livy.statement-meta+json": {
              "execution_finish_time": "2023-10-19T21:14:17.2365249Z",
              "execution_start_time": "2023-10-19T21:14:16.7823337Z",
              "livy_statement_state": "available",
              "parent_msg_id": "bad79341-6011-4d32-91fd-8bb012ba8c10",
              "queued_time": "2023-10-19T21:12:50.9036492Z",
              "session_id": "08d25d22-0b34-42cf-af42-326548d01c94",
              "session_start_time": null,
              "spark_jobs": {
                "jobs": [],
                "limit": 20,
                "numbers": {
                  "FAILED": 0,
                  "RUNNING": 0,
                  "SUCCEEDED": 0,
                  "UNKNOWN": 0
                },
                "rule": "ALL_DESC"
              },
              "spark_pool": null,
              "state": "finished",
              "statement_id": 21
            },
            "text/plain": [
              "StatementMeta(, 08d25d22-0b34-42cf-af42-326548d01c94, 21, Finished, Available)"
            ]
          },
          "metadata": {},
          "output_type": "display_data"
        }
      ],
      "source": [
        "checkpoint_config = {\n",
        "    \"name\": f\"Retail Analysis Checkpoint\",\n",
        "    \"validations\": [\n",
        "        {\n",
        "            \"expectation_suite_name\": \"Retail Store Suite\",\n",
        "            \"batch_request\": {\n",
        "                \"datasource_name\": \"Retail Analysis Data Source\",\n",
        "                \"data_asset_name\": \"Store Asset\",\n",
        "            },\n",
        "        },\n",
        "        {\n",
        "            \"expectation_suite_name\": \"Retail Measure Suite\",\n",
        "            \"batch_request\": {\n",
        "                \"datasource_name\": \"Retail Analysis Data Source\",\n",
        "                \"data_asset_name\": \"Total Units Asset\",\n",
        "            },\n",
        "        },\n",
        "        {\n",
        "            \"expectation_suite_name\": \"Retail DAX Suite\",\n",
        "            \"batch_request\": {\n",
        "                \"datasource_name\": \"Retail Analysis Data Source\",\n",
        "                \"data_asset_name\": \"Total Units YoY Asset\",\n",
        "            },\n",
        "        },\n",
        "        {\n",
        "            \"expectation_suite_name\": \"Retail DMV Suite\",\n",
        "            \"batch_request\": {\n",
        "                \"datasource_name\": \"Retail Analysis Data Source\",\n",
        "                \"data_asset_name\": \"Referential Integrity Violation\",\n",
        "            },\n",
        "        },\n",
        "    ],\n",
        "}\n",
        "checkpoint = context.add_checkpoint(\n",
        "    **checkpoint_config\n",
        ")"
      ]
    },
    {
      "cell_type": "markdown",
      "id": "afad6356-c009-4917-ba47-4dc87c301437",
      "metadata": {
        "nteract": {
          "transient": {
            "deleting": false
          }
        }
      },
      "source": [
        "You can now run the checkpoint and extract the results as a pandas DataFrame for simple formatting."
      ]
    },
    {
      "cell_type": "code",
      "execution_count": 14,
      "id": "01b57cda-d900-4c64-9698-483dcbbbf4e3",
      "metadata": {
        "jupyter": {
          "outputs_hidden": false,
          "source_hidden": false
        },
        "nteract": {
          "transient": {
            "deleting": false
          }
        }
      },
      "outputs": [
        {
          "data": {
            "application/vnd.livy.statement-meta+json": {
              "execution_finish_time": "2023-10-19T21:14:56.9763381Z",
              "execution_start_time": "2023-10-19T21:14:17.6370001Z",
              "livy_statement_state": "available",
              "parent_msg_id": "c437b67d-8907-495e-bbfb-5951eaec9976",
              "queued_time": "2023-10-19T21:12:50.9042399Z",
              "session_id": "08d25d22-0b34-42cf-af42-326548d01c94",
              "session_start_time": null,
              "spark_jobs": {
                "jobs": [],
                "limit": 20,
                "numbers": {
                  "FAILED": 0,
                  "RUNNING": 0,
                  "SUCCEEDED": 0,
                  "UNKNOWN": 0
                },
                "rule": "ALL_DESC"
              },
              "spark_pool": null,
              "state": "finished",
              "statement_id": 22
            },
            "text/plain": [
              "StatementMeta(, 08d25d22-0b34-42cf-af42-326548d01c94, 22, Finished, Available)"
            ]
          },
          "metadata": {},
          "output_type": "display_data"
        },
        {
          "name": "stdout",
          "output_type": "stream",
          "text": [
            "<frozen importlib._bootstrap>:283: DeprecationWarning: the load_module() method is deprecated and slated for removal in Python 3.12; use exec_module() instead\n",
            "\n",
            "<frozen importlib._bootstrap>:283: DeprecationWarning: the load_module() method is deprecated and slated for removal in Python 3.12; use exec_module() instead\n",
            "\n",
            "/home/trusted-service-user/cluster-env/trident_env/lib/python3.10/site-packages/ipykernel/comm/comm.py:79: DeprecationWarning: The `ipykernel.comm.Comm` class has been deprecated. Please use the `comm` module instead.For creating comms, use the function `from comm import create_comm`.\n",
            "  warn(\n",
            "\n"
          ]
        },
        {
          "data": {
            "application/vnd.jupyter.widget-view+json": {
              "model_id": "e9b6bfdc235c43de8bc74e9fc32d77c2",
              "version_major": 2,
              "version_minor": 0
            },
            "text/plain": [
              "Calculating Metrics:   0%|          | 0/10 [00:00<?, ?it/s]"
            ]
          },
          "metadata": {},
          "output_type": "display_data"
        },
        {
          "name": "stdout",
          "output_type": "stream",
          "text": [
            "/home/trusted-service-user/cluster-env/trident_env/lib/python3.10/site-packages/ipykernel/comm/comm.py:79: DeprecationWarning: The `ipykernel.comm.Comm` class has been deprecated. Please use the `comm` module instead.For creating comms, use the function `from comm import create_comm`.\n",
            "  warn(\n",
            "\n"
          ]
        },
        {
          "data": {
            "application/vnd.jupyter.widget-view+json": {
              "model_id": "d9eb2e5c266d4536b22029da0ecb9fec",
              "version_major": 2,
              "version_minor": 0
            },
            "text/plain": [
              "Calculating Metrics:   0%|          | 0/10 [00:00<?, ?it/s]"
            ]
          },
          "metadata": {},
          "output_type": "display_data"
        },
        {
          "name": "stdout",
          "output_type": "stream",
          "text": [
            "/home/trusted-service-user/cluster-env/trident_env/lib/python3.10/site-packages/ipykernel/comm/comm.py:79: DeprecationWarning: The `ipykernel.comm.Comm` class has been deprecated. Please use the `comm` module instead.For creating comms, use the function `from comm import create_comm`.\n",
            "  warn(\n",
            "\n"
          ]
        },
        {
          "data": {
            "application/vnd.jupyter.widget-view+json": {
              "model_id": "9a6af0207fb34cb8a46ba8446040ed0e",
              "version_major": 2,
              "version_minor": 0
            },
            "text/plain": [
              "Calculating Metrics:   0%|          | 0/10 [00:00<?, ?it/s]"
            ]
          },
          "metadata": {},
          "output_type": "display_data"
        },
        {
          "name": "stdout",
          "output_type": "stream",
          "text": [
            "/home/trusted-service-user/cluster-env/trident_env/lib/python3.10/site-packages/ipykernel/comm/comm.py:79: DeprecationWarning: The `ipykernel.comm.Comm` class has been deprecated. Please use the `comm` module instead.For creating comms, use the function `from comm import create_comm`.\n",
            "  warn(\n",
            "\n"
          ]
        },
        {
          "data": {
            "application/vnd.jupyter.widget-view+json": {
              "model_id": "5d855ca0c5734f9593841c29dddf0115",
              "version_major": 2,
              "version_minor": 0
            },
            "text/plain": [
              "Calculating Metrics:   0%|          | 0/10 [00:00<?, ?it/s]"
            ]
          },
          "metadata": {},
          "output_type": "display_data"
        },
        {
          "data": {
            "application/vnd.livy.statement-meta+json": {
              "execution_finish_time": "2023-10-19T21:15:28.1743285Z",
              "execution_start_time": "2023-10-19T21:15:27.7332616Z",
              "livy_statement_state": "available",
              "parent_msg_id": "bb6c04eb-d82f-4df6-8285-98fc7703cc10",
              "queued_time": "2023-10-19T21:14:40.7478793Z",
              "session_id": "08d25d22-0b34-42cf-af42-326548d01c94",
              "session_start_time": null,
              "spark_jobs": {
                "jobs": [],
                "limit": 20,
                "numbers": {
                  "FAILED": 0,
                  "RUNNING": 0,
                  "SUCCEEDED": 0,
                  "UNKNOWN": 0
                },
                "rule": "ALL_DESC"
              },
              "spark_pool": null,
              "state": "finished",
              "statement_id": 30
            },
            "text/plain": [
              "StatementMeta(, 08d25d22-0b34-42cf-af42-326548d01c94, 30, Finished, Available)"
            ]
          },
          "metadata": {},
          "output_type": "display_data"
        }
      ],
      "source": [
        "result = checkpoint.run()"
      ]
    },
    {
      "cell_type": "code",
      "execution_count": 15,
      "id": "f56e3d93-86c8-4446-aaa5-202bbabb1494",
      "metadata": {
        "jupyter": {
          "outputs_hidden": false,
          "source_hidden": false
        },
        "nteract": {
          "transient": {
            "deleting": false
          }
        }
      },
      "outputs": [
        {
          "data": {
            "application/vnd.livy.statement-meta+json": {
              "execution_finish_time": "2023-10-19T21:14:57.8600548Z",
              "execution_start_time": "2023-10-19T21:14:57.4084881Z",
              "livy_statement_state": "available",
              "parent_msg_id": "be44da1d-e517-4a71-9d8e-9e18881b24dc",
              "queued_time": "2023-10-19T21:12:50.90486Z",
              "session_id": "08d25d22-0b34-42cf-af42-326548d01c94",
              "session_start_time": null,
              "spark_jobs": {
                "jobs": [],
                "limit": 20,
                "numbers": {
                  "FAILED": 0,
                  "RUNNING": 0,
                  "SUCCEEDED": 0,
                  "UNKNOWN": 0
                },
                "rule": "ALL_DESC"
              },
              "spark_pool": null,
              "state": "finished",
              "statement_id": 23
            },
            "text/plain": [
              "StatementMeta(, 08d25d22-0b34-42cf-af42-326548d01c94, 23, Finished, Available)"
            ]
          },
          "metadata": {},
          "output_type": "display_data"
        },
        {
          "name": "stdout",
          "output_type": "stream",
          "text": [
            "<frozen importlib._bootstrap>:283: DeprecationWarning: the load_module() method is deprecated and slated for removal in Python 3.12; use exec_module() instead\n",
            "\n",
            "<frozen importlib._bootstrap>:283: DeprecationWarning: the load_module() method is deprecated and slated for removal in Python 3.12; use exec_module() instead\n",
            "\n"
          ]
        },
        {
          "data": {
            "text/html": [
              "<div>\n",
              "<style scoped>\n",
              "    .dataframe tbody tr th:only-of-type {\n",
              "        vertical-align: middle;\n",
              "    }\n",
              "\n",
              "    .dataframe tbody tr th {\n",
              "        vertical-align: top;\n",
              "    }\n",
              "\n",
              "    .dataframe thead th {\n",
              "        text-align: right;\n",
              "    }\n",
              "</style>\n",
              "<table border=\"1\" class=\"dataframe\">\n",
              "  <thead>\n",
              "    <tr style=\"text-align: right;\">\n",
              "      <th></th>\n",
              "      <th>Batch ID</th>\n",
              "      <th>type</th>\n",
              "      <th>success</th>\n",
              "      <th>element_count</th>\n",
              "      <th>unexpected_count</th>\n",
              "      <th>partial_unexpected_list</th>\n",
              "    </tr>\n",
              "  </thead>\n",
              "  <tbody>\n",
              "    <tr>\n",
              "      <th>0</th>\n",
              "      <td>Retail Analysis Data Source-Store Asset</td>\n",
              "      <td>expect_column_values_to_be_valid_zip5</td>\n",
              "      <td>True</td>\n",
              "      <td>104.0</td>\n",
              "      <td>0.0</td>\n",
              "      <td>[]</td>\n",
              "    </tr>\n",
              "    <tr>\n",
              "      <th>1</th>\n",
              "      <td>Retail Analysis Data Source-Store Asset</td>\n",
              "      <td>expect_table_row_count_to_be_between</td>\n",
              "      <td>True</td>\n",
              "      <td>NaN</td>\n",
              "      <td>NaN</td>\n",
              "      <td>NaN</td>\n",
              "    </tr>\n",
              "    <tr>\n",
              "      <th>2</th>\n",
              "      <td>Retail Analysis Data Source-Total Units Asset</td>\n",
              "      <td>expect_column_values_to_be_between</td>\n",
              "      <td>True</td>\n",
              "      <td>8.0</td>\n",
              "      <td>0.0</td>\n",
              "      <td>[]</td>\n",
              "    </tr>\n",
              "    <tr>\n",
              "      <th>3</th>\n",
              "      <td>Retail Analysis Data Source-Total Units YoY Asset</td>\n",
              "      <td>expect_column_values_to_be_between</td>\n",
              "      <td>False</td>\n",
              "      <td>8.0</td>\n",
              "      <td>3.0</td>\n",
              "      <td>[0.7972605895837893, 0.7302630613281353, 0.663...</td>\n",
              "    </tr>\n",
              "    <tr>\n",
              "      <th>4</th>\n",
              "      <td>Retail Analysis Data Source-Referential Integr...</td>\n",
              "      <td>expect_column_values_to_be_in_set</td>\n",
              "      <td>True</td>\n",
              "      <td>84.0</td>\n",
              "      <td>0.0</td>\n",
              "      <td>[]</td>\n",
              "    </tr>\n",
              "  </tbody>\n",
              "</table>\n",
              "</div>"
            ],
            "text/plain": [
              "                                            Batch ID  \\\n",
              "0            Retail Analysis Data Source-Store Asset   \n",
              "1            Retail Analysis Data Source-Store Asset   \n",
              "2      Retail Analysis Data Source-Total Units Asset   \n",
              "3  Retail Analysis Data Source-Total Units YoY Asset   \n",
              "4  Retail Analysis Data Source-Referential Integr...   \n",
              "\n",
              "                                    type  success  element_count  \\\n",
              "0  expect_column_values_to_be_valid_zip5     True          104.0   \n",
              "1   expect_table_row_count_to_be_between     True            NaN   \n",
              "2     expect_column_values_to_be_between     True            8.0   \n",
              "3     expect_column_values_to_be_between    False            8.0   \n",
              "4      expect_column_values_to_be_in_set     True           84.0   \n",
              "\n",
              "   unexpected_count                            partial_unexpected_list  \n",
              "0               0.0                                                 []  \n",
              "1               NaN                                                NaN  \n",
              "2               0.0                                                 []  \n",
              "3               3.0  [0.7972605895837893, 0.7302630613281353, 0.663...  \n",
              "4               0.0                                                 []  "
            ]
          },
          "execution_count": 49,
          "metadata": {},
          "output_type": "execute_result"
        }
      ],
      "source": [
        "import pandas as pd\n",
        "\n",
        "data = []\n",
        "\n",
        "for run_result in result.run_results:\n",
        "    for validation_result in result.run_results[run_result][\"validation_result\"][\"results\"]:\n",
        "        row = {\n",
        "            \"Batch ID\": run_result.batch_identifier,\n",
        "            \"type\": validation_result.expectation_config.expectation_type,\n",
        "            \"success\": validation_result.success\n",
        "        }\n",
        "\n",
        "        row.update(dict(validation_result.result))\n",
        "        \n",
        "        data.append(row)\n",
        "\n",
        "result_df = pd.DataFrame.from_records(data)    \n",
        "\n",
        "result_df[[\"Batch ID\", \"type\", \"success\", \"element_count\", \"unexpected_count\", \"partial_unexpected_list\"]]"
      ]
    },
    {
      "cell_type": "markdown",
      "id": "364be09f-926d-4ce8-a571-a60994038680",
      "metadata": {
        "nteract": {
          "transient": {
            "deleting": false
          }
        }
      },
      "source": [
        "From these results we can see that all our our expectations have passed the validation, except for the \"Total Units YoY Asset\" that we defined through a custom DAX query. "
      ]
    },
    {
      "cell_type": "markdown",
      "id": "78468979-e58c-4d54-961d-f74280a56e2f",
      "metadata": {
        "nteract": {
          "transient": {
            "deleting": false
          }
        }
      },
      "source": [
        "## Diagnostics\n",
        "\n",
        "Using semantic link, you can fetch the source data to understand which exact years are out of range. Semantic link provides an inline magic for executing DAX queries, which we can use to execute the same query we passed into the GX Data Asset and visualize the resulting values."
      ]
    },
    {
      "cell_type": "code",
      "execution_count": 16,
      "id": "6e418e72-3f62-4db9-8601-8163b77fe969",
      "metadata": {
        "jupyter": {
          "outputs_hidden": false,
          "source_hidden": false
        },
        "nteract": {
          "transient": {
            "deleting": false
          }
        }
      },
      "outputs": [
        {
          "data": {
            "application/vnd.livy.statement-meta+json": {
              "execution_finish_time": "2023-10-19T21:15:04.0057699Z",
              "execution_start_time": "2023-10-19T21:14:58.2640021Z",
              "livy_statement_state": "available",
              "parent_msg_id": "e33f2d59-04c9-4638-8cd4-ba61edccc071",
              "queued_time": "2023-10-19T21:12:50.905467Z",
              "session_id": "08d25d22-0b34-42cf-af42-326548d01c94",
              "session_start_time": null,
              "spark_jobs": {
                "jobs": [],
                "limit": 20,
                "numbers": {
                  "FAILED": 0,
                  "RUNNING": 0,
                  "SUCCEEDED": 0,
                  "UNKNOWN": 0
                },
                "rule": "ALL_DESC"
              },
              "spark_pool": null,
              "state": "finished",
              "statement_id": 24
            },
            "text/plain": [
              "StatementMeta(, 08d25d22-0b34-42cf-af42-326548d01c94, 24, Finished, Available)"
            ]
          },
          "metadata": {},
          "output_type": "display_data"
        },
        {
          "data": {
            "text/html": [
              "<div>\n",
              "<style scoped>\n",
              "    .dataframe tbody tr th:only-of-type {\n",
              "        vertical-align: middle;\n",
              "    }\n",
              "\n",
              "    .dataframe tbody tr th {\n",
              "        vertical-align: top;\n",
              "    }\n",
              "\n",
              "    .dataframe thead th {\n",
              "        text-align: right;\n",
              "    }\n",
              "</style>\n",
              "<table border=\"1\" class=\"dataframe\">\n",
              "  <thead>\n",
              "    <tr style=\"text-align: right;\">\n",
              "      <th></th>\n",
              "      <th>Time[FiscalYear]</th>\n",
              "      <th>Time[FiscalMonth]</th>\n",
              "      <th>[Total Units Ratio]</th>\n",
              "    </tr>\n",
              "  </thead>\n",
              "  <tbody>\n",
              "    <tr>\n",
              "      <th>0</th>\n",
              "      <td>2014</td>\n",
              "      <td>Jan</td>\n",
              "      <td>0.797261</td>\n",
              "    </tr>\n",
              "    <tr>\n",
              "      <th>1</th>\n",
              "      <td>2014</td>\n",
              "      <td>Feb</td>\n",
              "      <td>0.95912</td>\n",
              "    </tr>\n",
              "    <tr>\n",
              "      <th>2</th>\n",
              "      <td>2014</td>\n",
              "      <td>Mar</td>\n",
              "      <td>1.282908</td>\n",
              "    </tr>\n",
              "    <tr>\n",
              "      <th>3</th>\n",
              "      <td>2014</td>\n",
              "      <td>Apr</td>\n",
              "      <td>0.730263</td>\n",
              "    </tr>\n",
              "    <tr>\n",
              "      <th>4</th>\n",
              "      <td>2014</td>\n",
              "      <td>May</td>\n",
              "      <td>1.084064</td>\n",
              "    </tr>\n",
              "    <tr>\n",
              "      <th>5</th>\n",
              "      <td>2014</td>\n",
              "      <td>Jun</td>\n",
              "      <td>0.969717</td>\n",
              "    </tr>\n",
              "    <tr>\n",
              "      <th>6</th>\n",
              "      <td>2014</td>\n",
              "      <td>Jul</td>\n",
              "      <td>0.663352</td>\n",
              "    </tr>\n",
              "    <tr>\n",
              "      <th>7</th>\n",
              "      <td>2014</td>\n",
              "      <td>Aug</td>\n",
              "      <td>0.810861</td>\n",
              "    </tr>\n",
              "  </tbody>\n",
              "</table>\n",
              "</div>"
            ],
            "text/plain": [
              "   Time[FiscalYear] Time[FiscalMonth]  [Total Units Ratio]\n",
              "0              2014               Jan             0.797261\n",
              "1              2014               Feb              0.95912\n",
              "2              2014               Mar             1.282908\n",
              "3              2014               Apr             0.730263\n",
              "4              2014               May             1.084064\n",
              "5              2014               Jun             0.969717\n",
              "6              2014               Jul             0.663352\n",
              "7              2014               Aug             0.810861"
            ]
          },
          "execution_count": 52,
          "metadata": {},
          "output_type": "execute_result"
        }
      ],
      "source": [
        "%%dax \"Retail Analysis Sample PBIX\"\n",
        "\n",
        "EVALUATE SUMMARIZECOLUMNS(\n",
        "    'Time'[FiscalYear],\n",
        "    'Time'[FiscalMonth],\n",
        "    \"Total Units Ratio\", DIVIDE([Total Units This Year], [Total Units Last Year])\n",
        ")"
      ]
    },
    {
      "cell_type": "code",
      "execution_count": 17,
      "id": "c92ace40-860a-46d9-aaae-6a6961dc9492",
      "metadata": {
        "jupyter": {
          "outputs_hidden": false,
          "source_hidden": false
        },
        "nteract": {
          "transient": {
            "deleting": false
          }
        }
      },
      "outputs": [
        {
          "data": {
            "application/vnd.livy.statement-meta+json": {
              "execution_finish_time": "2023-10-19T21:15:04.8589824Z",
              "execution_start_time": "2023-10-19T21:15:04.4130963Z",
              "livy_statement_state": "available",
              "parent_msg_id": "80e52b66-76ba-49bd-b110-08461e4c9ec6",
              "queued_time": "2023-10-19T21:12:52.828728Z",
              "session_id": "08d25d22-0b34-42cf-af42-326548d01c94",
              "session_start_time": null,
              "spark_jobs": {
                "jobs": [],
                "limit": 20,
                "numbers": {
                  "FAILED": 0,
                  "RUNNING": 0,
                  "SUCCEEDED": 0,
                  "UNKNOWN": 0
                },
                "rule": "ALL_DESC"
              },
              "spark_pool": null,
              "state": "finished",
              "statement_id": 25
            },
            "text/plain": [
              "StatementMeta(, 08d25d22-0b34-42cf-af42-326548d01c94, 25, Finished, Available)"
            ]
          },
          "metadata": {},
          "output_type": "display_data"
        }
      ],
      "source": [
        "df = _"
      ]
    },
    {
      "cell_type": "code",
      "execution_count": 18,
      "id": "4038027b-7a54-41e5-944a-e0fe6fb3c00a",
      "metadata": {
        "jupyter": {
          "outputs_hidden": false,
          "source_hidden": false
        },
        "nteract": {
          "transient": {
            "deleting": false
          }
        }
      },
      "outputs": [
        {
          "data": {
            "application/vnd.livy.statement-meta+json": {
              "execution_finish_time": "2023-10-19T21:15:06.4451619Z",
              "execution_start_time": "2023-10-19T21:15:05.3158804Z",
              "livy_statement_state": "available",
              "parent_msg_id": "cd973526-782a-4856-a9fa-fae422732416",
              "queued_time": "2023-10-19T21:12:53.7399382Z",
              "session_id": "08d25d22-0b34-42cf-af42-326548d01c94",
              "session_start_time": null,
              "spark_jobs": {
                "jobs": [],
                "limit": 20,
                "numbers": {
                  "FAILED": 0,
                  "RUNNING": 0,
                  "SUCCEEDED": 0,
                  "UNKNOWN": 0
                },
                "rule": "ALL_DESC"
              },
              "spark_pool": null,
              "state": "finished",
              "statement_id": 26
            },
            "text/plain": [
              "StatementMeta(, 08d25d22-0b34-42cf-af42-326548d01c94, 26, Finished, Available)"
            ]
          },
          "metadata": {},
          "output_type": "display_data"
        },
        {
          "name": "stdout",
          "output_type": "stream",
          "text": [
            "<frozen importlib._bootstrap>:283: DeprecationWarning: the load_module() method is deprecated and slated for removal in Python 3.12; use exec_module() instead\n",
            "\n"
          ]
        },
        {
          "data": {
            "image/png": "[encoded data removed]",
            "text/plain": [
              "<Figure size 640x480 with 1 Axes>"
            ]
          },
          "metadata": {},
          "output_type": "display_data"
        }
      ],
      "source": [
        "import matplotlib.pyplot as plt\n",
        "\n",
        "df[\"Total Units % Change YoY\"] = (df[\"[Total Units Ratio]\"] - 1)\n",
        "\n",
        "df.set_index([\"Time[FiscalYear]\", \"Time[FiscalMonth]\"]).plot.bar(y=\"Total Units % Change YoY\")\n",
        "\n",
        "plt.axhline(0)\n",
        "\n",
        "plt.axhline(-0.2, color=\"red\", linestyle=\"dotted\")\n",
        "plt.axhline( 0.5, color=\"red\", linestyle=\"dotted\")\n",
        "\n",
        "None"
      ]
    },
    {
      "cell_type": "markdown",
      "id": "d5b087ab-cff4-45d7-9203-fb5d4aa92675",
      "metadata": {
        "nteract": {
          "transient": {
            "deleting": false
          }
        }
      },
      "source": [
        "From this, we can see that April and July were slightly out of range and can then take further steps to investigate."
      ]
    },
    {
      "cell_type": "markdown",
      "id": "e61a7259-39fc-435c-9f4d-6797364608e2",
      "metadata": {
        "nteract": {
          "transient": {
            "deleting": false
          }
        }
      },
      "source": [
        "## Storing GX Configuration\n",
        "\n",
        "As the data in your dataset changes over time, you may want to rerun the GX validations you just performed. Currently, the Data Context (containing the connected Data Assets, Expectation Suites, and Checkpoint) lives ephemerally, but it can be converted to a File Context for future use. Alternatively, the conext could have been instatiated as a File Conext (see [Instantiate a Data Context](https://docs.greatexpectations.io/docs/guides/setup/configuring_data_contexts/instantiating_data_contexts/instantiate_data_context#specify-a-folder-containing-a-previously-initialized-filesystem-data-context))"
      ]
    },
    {
      "cell_type": "code",
      "execution_count": 19,
      "id": "ecfecd54-c3b5-4604-8faf-7225f1af86b8",
      "metadata": {
        "jupyter": {
          "outputs_hidden": false,
          "source_hidden": false
        },
        "nteract": {
          "transient": {
            "deleting": false
          }
        }
      },
      "outputs": [
        {
          "data": {
            "application/vnd.livy.statement-meta+json": {
              "execution_finish_time": "2023-10-19T21:15:07.9663994Z",
              "execution_start_time": "2023-10-19T21:15:06.8537425Z",
              "livy_statement_state": "available",
              "parent_msg_id": "55145e36-ead4-4c77-9466-f51ee7f9f9ea",
              "queued_time": "2023-10-19T21:12:53.9806115Z",
              "session_id": "08d25d22-0b34-42cf-af42-326548d01c94",
              "session_start_time": null,
              "spark_jobs": {
                "jobs": [],
                "limit": 20,
                "numbers": {
                  "FAILED": 0,
                  "RUNNING": 0,
                  "SUCCEEDED": 0,
                  "UNKNOWN": 0
                },
                "rule": "ALL_DESC"
              },
              "spark_pool": null,
              "state": "finished",
              "statement_id": 27
            },
            "text/plain": [
              "StatementMeta(, 08d25d22-0b34-42cf-af42-326548d01c94, 27, Finished, Available)"
            ]
          },
          "metadata": {},
          "output_type": "display_data"
        },
        {
          "name": "stdout",
          "output_type": "stream",
          "text": [
            "Successfully migrated to FileDataContext!\n"
          ]
        }
      ],
      "source": [
        "context = context.convert_to_file_context()"
      ]
    },
    {
      "cell_type": "code",
      "execution_count": 20,
      "id": "f8eec23f-575a-4890-aac6-881a7bf1d4d7",
      "metadata": {
        "jupyter": {
          "outputs_hidden": false,
          "source_hidden": false
        },
        "nteract": {
          "transient": {
            "deleting": false
          }
        }
      },
      "outputs": [
        {
          "data": {
            "application/vnd.livy.statement-meta+json": {
              "execution_finish_time": "2023-10-19T21:15:26.3625559Z",
              "execution_start_time": "2023-10-19T21:15:08.3781534Z",
              "livy_statement_state": "available",
              "parent_msg_id": "1411aedc-e58f-45e0-bd41-4fe0a1d7349c",
              "queued_time": "2023-10-19T21:12:54.1919337Z",
              "session_id": "08d25d22-0b34-42cf-af42-326548d01c94",
              "session_start_time": null,
              "spark_jobs": {
                "jobs": [],
                "limit": 20,
                "numbers": {
                  "FAILED": 0,
                  "RUNNING": 0,
                  "SUCCEEDED": 0,
                  "UNKNOWN": 0
                },
                "rule": "ALL_DESC"
              },
              "spark_pool": null,
              "state": "finished",
              "statement_id": 28
            },
            "text/plain": [
              "StatementMeta(, 08d25d22-0b34-42cf-af42-326548d01c94, 28, Finished, Available)"
            ]
          },
          "metadata": {},
          "output_type": "display_data"
        }
      ],
      "source": [
        "# copy GX directory to attached lakehouse\n",
        "!cp -r gx/ /lakehouse/default/Files/gx"
      ]
    },
    {
      "cell_type": "markdown",
      "id": "ae6679cf-56a6-4847-9bcc-14dba07bb04c",
      "metadata": {
        "nteract": {
          "transient": {
            "deleting": false
          }
        }
      },
      "source": [
        "Now, future contexts can be created with `context = gx.get_context(project_root_dir=\"<your path here>\")` and will contain all the configurations from above."
      ]
    }
  ],
  "metadata": {
    "kernel_info": {
      "name": "synapse_pyspark"
    },
    "kernelspec": {
      "display_name": "Synapse PySpark",
      "language": "Python",
      "name": "synapse_pyspark"
    },
    "language_info": {
      "name": "python"
    },
    "microsoft": {
      "host": {},
      "language": "python",
      "ms_spell_check": {
        "ms_spell_check_language": "en"
      }
    },
    "notebook_environment": {},
    "nteract": {
      "version": "nteract-front-end@1.0.0"
    },
    "save_output": true,
    "spark_compute": {
      "compute_id": "/trident/default",
      "session_options": {
        "conf": {},
        "enableDebugMode": false
      }
    },
    "synapse_widget": {
      "state": {},
      "version": "0.1"
    },
    "trident": {
      "lakehouse": {
        "default_lakehouse": "2195fac0-76f8-4ea0-b47b-65188b13e929",
        "default_lakehouse_name": "GX_Lake",
        "default_lakehouse_workspace_id": "17e47d3d-67fa-46c6-8d32-fc85e4f808ad",
        "known_lakehouses": [
          {
            "id": "2195fac0-76f8-4ea0-b47b-65188b13e929"
          }
        ]
      }
    },
    "widgets": {
      "application/vnd.jupyter.widget-state+json": {
        "state": {
          "0158996d44f745cc84f3857bc09f01be": {
            "model_module": "@jupyter-widgets/base",
            "model_module_version": "2.0.0",
            "model_name": "LayoutModel",
            "state": {}
          },
          "09ae302dd2524b73a2f76563c1889059": {
            "model_module": "@jupyter-widgets/controls",
            "model_module_version": "2.0.0",
            "model_name": "HTMLStyleModel",
            "state": {
              "description_width": "",
              "font_size": null,
              "text_color": null
            }
          },
          "0dee6ce7b9e7443dacf3150f18694047": {
            "model_module": "@jupyter-widgets/controls",
            "model_module_version": "2.0.0",
            "model_name": "FloatProgressModel",
            "state": {
              "bar_style": "success",
              "layout": "IPY_MODEL_51abeed987df4164a6eded6287b635d6",
              "max": 10,
              "style": "IPY_MODEL_9c829af1509a4824ba943a93037e9be3",
              "value": 10
            }
          },
          "0e0860f0414140dfb0e043a053d1e44f": {
            "model_module": "@jupyter-widgets/controls",
            "model_module_version": "2.0.0",
            "model_name": "ProgressStyleModel",
            "state": {
              "description_width": ""
            }
          },
          "1201d8f5fa334c969f3b64704fdd9b1b": {
            "model_module": "@jupyter-widgets/base",
            "model_module_version": "2.0.0",
            "model_name": "LayoutModel",
            "state": {}
          },
          "1577470e549846e3a4e03fb14c861781": {
            "model_module": "@jupyter-widgets/base",
            "model_module_version": "2.0.0",
            "model_name": "LayoutModel",
            "state": {}
          },
          "15c1c5d2eba24a028b897b8321cc8369": {
            "model_module": "@jupyter-widgets/controls",
            "model_module_version": "2.0.0",
            "model_name": "HTMLStyleModel",
            "state": {
              "description_width": "",
              "font_size": null,
              "text_color": null
            }
          },
          "16f1c9a905514d38a402a97a7969d3a8": {
            "model_module": "@jupyter-widgets/base",
            "model_module_version": "2.0.0",
            "model_name": "LayoutModel",
            "state": {}
          },
          "1718d6710daf411caa56376229516016": {
            "model_module": "@jupyter-widgets/base",
            "model_module_version": "2.0.0",
            "model_name": "LayoutModel",
            "state": {}
          },
          "1902c6eba24741b293d4435f2b2007cc": {
            "model_module": "@jupyter-widgets/controls",
            "model_module_version": "2.0.0",
            "model_name": "FloatProgressModel",
            "state": {
              "bar_style": "success",
              "layout": "IPY_MODEL_f52ad57b29e74260bb2b72c51f42eb00",
              "max": 10,
              "style": "IPY_MODEL_b4dccbbd8f164386a120c61ddf6a926f",
              "value": 10
            }
          },
          "19043daa61ce4f53aa30cdd953501b04": {
            "model_module": "@jupyter-widgets/controls",
            "model_module_version": "2.0.0",
            "model_name": "HTMLStyleModel",
            "state": {
              "description_width": "",
              "font_size": null,
              "text_color": null
            }
          },
          "19be08f4f97e481c915774771e43de1f": {
            "model_module": "@jupyter-widgets/controls",
            "model_module_version": "2.0.0",
            "model_name": "FloatProgressModel",
            "state": {
              "bar_style": "success",
              "layout": "IPY_MODEL_44d738b6bc9d41a8a50fa266408cec08",
              "max": 10,
              "style": "IPY_MODEL_0e0860f0414140dfb0e043a053d1e44f",
              "value": 10
            }
          },
          "1d419e67b7fb414dab2e22d5a64efd3b": {
            "model_module": "@jupyter-widgets/base",
            "model_module_version": "2.0.0",
            "model_name": "LayoutModel",
            "state": {}
          },
          "2810d6c8a6f848c19bd5c3a58eb69481": {
            "model_module": "@jupyter-widgets/base",
            "model_module_version": "2.0.0",
            "model_name": "LayoutModel",
            "state": {}
          },
          "2a877257d7c1409a825b08a9f03a52fc": {
            "model_module": "@jupyter-widgets/base",
            "model_module_version": "2.0.0",
            "model_name": "LayoutModel",
            "state": {}
          },
          "2b0b3fb34d30427f9c541b04494e3dff": {
            "model_module": "@jupyter-widgets/controls",
            "model_module_version": "2.0.0",
            "model_name": "HTMLModel",
            "state": {
              "layout": "IPY_MODEL_0158996d44f745cc84f3857bc09f01be",
              "style": "IPY_MODEL_3d079b4cbdc84f689eac3cfeebe135dc",
              "value": "Calculating Metrics: 100%"
            }
          },
          "2bd53d713e0544b19438c53f89df4951": {
            "model_module": "@jupyter-widgets/base",
            "model_module_version": "2.0.0",
            "model_name": "LayoutModel",
            "state": {}
          },
          "2c1390dca04b46899684c9f7f8691356": {
            "model_module": "@jupyter-widgets/controls",
            "model_module_version": "2.0.0",
            "model_name": "ProgressStyleModel",
            "state": {
              "description_width": ""
            }
          },
          "2c679510ef274b33b2fec3776fe74b7f": {
            "model_module": "@jupyter-widgets/controls",
            "model_module_version": "2.0.0",
            "model_name": "HTMLModel",
            "state": {
              "layout": "IPY_MODEL_fb6e068da32140ecbfd41339fe68eaf5",
              "style": "IPY_MODEL_467e0408d9b34eeaa93f48cd2e1ce7c5",
              "value": " 10/10 [00:00&lt;00:00, 11.49it/s]"
            }
          },
          "2fd504cf90b64990bb1d75e6aeb214c5": {
            "model_module": "@jupyter-widgets/base",
            "model_module_version": "2.0.0",
            "model_name": "LayoutModel",
            "state": {}
          },
          "3035c52a82964f85977dcc470432d4ca": {
            "model_module": "@jupyter-widgets/base",
            "model_module_version": "2.0.0",
            "model_name": "LayoutModel",
            "state": {}
          },
          "30a43f51d57f421d86e850ddbf088450": {
            "model_module": "@jupyter-widgets/base",
            "model_module_version": "2.0.0",
            "model_name": "LayoutModel",
            "state": {}
          },
          "3862703a00f7441d93dc33a186a13259": {
            "model_module": "@jupyter-widgets/controls",
            "model_module_version": "2.0.0",
            "model_name": "HTMLModel",
            "state": {
              "layout": "IPY_MODEL_1718d6710daf411caa56376229516016",
              "style": "IPY_MODEL_3e69e8b68dfa416ebf22aaab7486f28d",
              "value": "Calculating Metrics: 100%"
            }
          },
          "3c83590aa8df4fc896b4dd40b08d1738": {
            "model_module": "@jupyter-widgets/controls",
            "model_module_version": "2.0.0",
            "model_name": "HTMLModel",
            "state": {
              "layout": "IPY_MODEL_face18545bec40bf990847b203b9a102",
              "style": "IPY_MODEL_840d66a982eb474b812760703a5d5387",
              "value": " 10/10 [00:00&lt;00:00, 256.77it/s]"
            }
          },
          "3d079b4cbdc84f689eac3cfeebe135dc": {
            "model_module": "@jupyter-widgets/controls",
            "model_module_version": "2.0.0",
            "model_name": "HTMLStyleModel",
            "state": {
              "description_width": "",
              "font_size": null,
              "text_color": null
            }
          },
          "3e69e8b68dfa416ebf22aaab7486f28d": {
            "model_module": "@jupyter-widgets/controls",
            "model_module_version": "2.0.0",
            "model_name": "HTMLStyleModel",
            "state": {
              "description_width": "",
              "font_size": null,
              "text_color": null
            }
          },
          "44774ddaab5e4d63afd3678dbd7a0c8c": {
            "model_module": "@jupyter-widgets/base",
            "model_module_version": "2.0.0",
            "model_name": "LayoutModel",
            "state": {}
          },
          "44d738b6bc9d41a8a50fa266408cec08": {
            "model_module": "@jupyter-widgets/base",
            "model_module_version": "2.0.0",
            "model_name": "LayoutModel",
            "state": {}
          },
          "458f605fcc96401f9a2c6f7393d4370b": {
            "model_module": "@jupyter-widgets/controls",
            "model_module_version": "2.0.0",
            "model_name": "HTMLStyleModel",
            "state": {
              "description_width": "",
              "font_size": null,
              "text_color": null
            }
          },
          "467e0408d9b34eeaa93f48cd2e1ce7c5": {
            "model_module": "@jupyter-widgets/controls",
            "model_module_version": "2.0.0",
            "model_name": "HTMLStyleModel",
            "state": {
              "description_width": "",
              "font_size": null,
              "text_color": null
            }
          },
          "49e9aa2b2b9843f9b5a6ec97c5bfa361": {
            "model_module": "@jupyter-widgets/base",
            "model_module_version": "2.0.0",
            "model_name": "LayoutModel",
            "state": {}
          },
          "4b39fb22ba7a47609dcd754d67ee3a5b": {
            "model_module": "@jupyter-widgets/controls",
            "model_module_version": "2.0.0",
            "model_name": "HTMLStyleModel",
            "state": {
              "description_width": "",
              "font_size": null,
              "text_color": null
            }
          },
          "4f531bacf3f449aea7172cf9ab822555": {
            "model_module": "@jupyter-widgets/controls",
            "model_module_version": "2.0.0",
            "model_name": "HTMLModel",
            "state": {
              "layout": "IPY_MODEL_5811bfbd80794ab687fe1d58e43367f2",
              "style": "IPY_MODEL_19043daa61ce4f53aa30cdd953501b04",
              "value": " 10/10 [00:00&lt;00:00, 339.75it/s]"
            }
          },
          "4fa3507b294043b8beeb0886328726e4": {
            "model_module": "@jupyter-widgets/base",
            "model_module_version": "2.0.0",
            "model_name": "LayoutModel",
            "state": {}
          },
          "51abeed987df4164a6eded6287b635d6": {
            "model_module": "@jupyter-widgets/base",
            "model_module_version": "2.0.0",
            "model_name": "LayoutModel",
            "state": {}
          },
          "5335d32ee19d4db1a99d6e6545679996": {
            "model_module": "@jupyter-widgets/controls",
            "model_module_version": "2.0.0",
            "model_name": "HBoxModel",
            "state": {
              "children": [
                "IPY_MODEL_95c54b97728e4013b41d163e6c0ad836",
                "IPY_MODEL_ad3c58a1b1114ad79598e6a5c651de82",
                "IPY_MODEL_fc4df061bc064c99af66dda1c09a2fc5"
              ],
              "layout": "IPY_MODEL_5a0439469bf040e88e2cd152347cc00c"
            }
          },
          "5458d7f8126f41f4ae463f0decbc0363": {
            "model_module": "@jupyter-widgets/base",
            "model_module_version": "2.0.0",
            "model_name": "LayoutModel",
            "state": {}
          },
          "57034c0a10b348f389daf8792cdb2a8a": {
            "model_module": "@jupyter-widgets/controls",
            "model_module_version": "2.0.0",
            "model_name": "HBoxModel",
            "state": {
              "children": [
                "IPY_MODEL_e0e6df0f9e1b41b4beec0fac25c07127",
                "IPY_MODEL_1902c6eba24741b293d4435f2b2007cc",
                "IPY_MODEL_2c679510ef274b33b2fec3776fe74b7f"
              ],
              "layout": "IPY_MODEL_b7ad8fc69d894b768cfb91d30017e79c"
            }
          },
          "5722d178308f4e8cb62f823dec6a6eea": {
            "model_module": "@jupyter-widgets/controls",
            "model_module_version": "2.0.0",
            "model_name": "HTMLModel",
            "state": {
              "layout": "IPY_MODEL_2bd53d713e0544b19438c53f89df4951",
              "style": "IPY_MODEL_9f9e6a2eaebc4bc3ae791212653ee544",
              "value": "Calculating Metrics: 100%"
            }
          },
          "57761282ab05403e80d08e00ffdad386": {
            "model_module": "@jupyter-widgets/controls",
            "model_module_version": "2.0.0",
            "model_name": "HTMLStyleModel",
            "state": {
              "description_width": "",
              "font_size": null,
              "text_color": null
            }
          },
          "5811bfbd80794ab687fe1d58e43367f2": {
            "model_module": "@jupyter-widgets/base",
            "model_module_version": "2.0.0",
            "model_name": "LayoutModel",
            "state": {}
          },
          "5a0439469bf040e88e2cd152347cc00c": {
            "model_module": "@jupyter-widgets/base",
            "model_module_version": "2.0.0",
            "model_name": "LayoutModel",
            "state": {}
          },
          "5d855ca0c5734f9593841c29dddf0115": {
            "model_module": "@jupyter-widgets/controls",
            "model_module_version": "2.0.0",
            "model_name": "HBoxModel",
            "state": {
              "children": [
                "IPY_MODEL_3862703a00f7441d93dc33a186a13259",
                "IPY_MODEL_783546215d1f4079a7a305ca1b915811",
                "IPY_MODEL_b50882e239b84f028b07e663adb754f9"
              ],
              "layout": "IPY_MODEL_30a43f51d57f421d86e850ddbf088450"
            }
          },
          "61d341342c4e44aa90ef5bf627584276": {
            "model_module": "@jupyter-widgets/controls",
            "model_module_version": "2.0.0",
            "model_name": "FloatProgressModel",
            "state": {
              "bar_style": "success",
              "layout": "IPY_MODEL_e351936b245241bfad417b72810c1267",
              "max": 10,
              "style": "IPY_MODEL_deec73d81b064a2e86e4757300843a35",
              "value": 10
            }
          },
          "6b4d50d00b9e44bfb38b577f7e77ed81": {
            "model_module": "@jupyter-widgets/base",
            "model_module_version": "2.0.0",
            "model_name": "LayoutModel",
            "state": {}
          },
          "76422609fbfa407c956515eed99359a9": {
            "model_module": "@jupyter-widgets/controls",
            "model_module_version": "2.0.0",
            "model_name": "ProgressStyleModel",
            "state": {
              "description_width": ""
            }
          },
          "783546215d1f4079a7a305ca1b915811": {
            "model_module": "@jupyter-widgets/controls",
            "model_module_version": "2.0.0",
            "model_name": "FloatProgressModel",
            "state": {
              "bar_style": "success",
              "layout": "IPY_MODEL_ef944ab1d21141f8959b66a9d2dac2d9",
              "max": 10,
              "style": "IPY_MODEL_7f21181c376d4601976be92a5e4bfdd1",
              "value": 10
            }
          },
          "799de80c17d54d6293f1a629e8d1a009": {
            "model_module": "@jupyter-widgets/controls",
            "model_module_version": "2.0.0",
            "model_name": "HTMLStyleModel",
            "state": {
              "description_width": "",
              "font_size": null,
              "text_color": null
            }
          },
          "7a297a518aa14c7f8a774235a710c057": {
            "model_module": "@jupyter-widgets/controls",
            "model_module_version": "2.0.0",
            "model_name": "ProgressStyleModel",
            "state": {
              "description_width": ""
            }
          },
          "7cc9687df7b24ccb98479ec7a45f0028": {
            "model_module": "@jupyter-widgets/base",
            "model_module_version": "2.0.0",
            "model_name": "LayoutModel",
            "state": {}
          },
          "7d071e120cdb4b74b0d3d06ed717c9a1": {
            "model_module": "@jupyter-widgets/controls",
            "model_module_version": "2.0.0",
            "model_name": "HTMLModel",
            "state": {
              "layout": "IPY_MODEL_6b4d50d00b9e44bfb38b577f7e77ed81",
              "style": "IPY_MODEL_8f84bc87fffc49d5bc1044f654dd3d58",
              "value": " 10/10 [00:00&lt;00:00, 297.03it/s]"
            }
          },
          "7f21181c376d4601976be92a5e4bfdd1": {
            "model_module": "@jupyter-widgets/controls",
            "model_module_version": "2.0.0",
            "model_name": "ProgressStyleModel",
            "state": {
              "description_width": ""
            }
          },
          "840d66a982eb474b812760703a5d5387": {
            "model_module": "@jupyter-widgets/controls",
            "model_module_version": "2.0.0",
            "model_name": "HTMLStyleModel",
            "state": {
              "description_width": "",
              "font_size": null,
              "text_color": null
            }
          },
          "8e86012181cc4b6da1520cf0e3e31554": {
            "model_module": "@jupyter-widgets/controls",
            "model_module_version": "2.0.0",
            "model_name": "HTMLModel",
            "state": {
              "layout": "IPY_MODEL_2fd504cf90b64990bb1d75e6aeb214c5",
              "style": "IPY_MODEL_f1435cce3b2341fb99d99f45bb90d815",
              "value": "Calculating Metrics: 100%"
            }
          },
          "8f84bc87fffc49d5bc1044f654dd3d58": {
            "model_module": "@jupyter-widgets/controls",
            "model_module_version": "2.0.0",
            "model_name": "HTMLStyleModel",
            "state": {
              "description_width": "",
              "font_size": null,
              "text_color": null
            }
          },
          "93560fa2f70f4ee08ce6ce1d5b5f2503": {
            "model_module": "@jupyter-widgets/controls",
            "model_module_version": "2.0.0",
            "model_name": "HTMLStyleModel",
            "state": {
              "description_width": "",
              "font_size": null,
              "text_color": null
            }
          },
          "95c54b97728e4013b41d163e6c0ad836": {
            "model_module": "@jupyter-widgets/controls",
            "model_module_version": "2.0.0",
            "model_name": "HTMLModel",
            "state": {
              "layout": "IPY_MODEL_4fa3507b294043b8beeb0886328726e4",
              "style": "IPY_MODEL_4b39fb22ba7a47609dcd754d67ee3a5b",
              "value": "Calculating Metrics: 100%"
            }
          },
          "984cb8508a6649d09b3d6220ac09c483": {
            "model_module": "@jupyter-widgets/controls",
            "model_module_version": "2.0.0",
            "model_name": "FloatProgressModel",
            "state": {
              "bar_style": "success",
              "layout": "IPY_MODEL_1201d8f5fa334c969f3b64704fdd9b1b",
              "max": 10,
              "style": "IPY_MODEL_2c1390dca04b46899684c9f7f8691356",
              "value": 10
            }
          },
          "9a6af0207fb34cb8a46ba8446040ed0e": {
            "model_module": "@jupyter-widgets/controls",
            "model_module_version": "2.0.0",
            "model_name": "HBoxModel",
            "state": {
              "children": [
                "IPY_MODEL_a72916e5ca2e45d0826247e7cd7f148b",
                "IPY_MODEL_984cb8508a6649d09b3d6220ac09c483",
                "IPY_MODEL_a46c9af698244f82ac83c0d189494721"
              ],
              "layout": "IPY_MODEL_44774ddaab5e4d63afd3678dbd7a0c8c"
            }
          },
          "9c829af1509a4824ba943a93037e9be3": {
            "model_module": "@jupyter-widgets/controls",
            "model_module_version": "2.0.0",
            "model_name": "ProgressStyleModel",
            "state": {
              "description_width": ""
            }
          },
          "9f9e6a2eaebc4bc3ae791212653ee544": {
            "model_module": "@jupyter-widgets/controls",
            "model_module_version": "2.0.0",
            "model_name": "HTMLStyleModel",
            "state": {
              "description_width": "",
              "font_size": null,
              "text_color": null
            }
          },
          "a1b9a8c4b298413ab7f3c831744ddef1": {
            "model_module": "@jupyter-widgets/controls",
            "model_module_version": "2.0.0",
            "model_name": "HTMLModel",
            "state": {
              "layout": "IPY_MODEL_b375f669aa9740d3bfc4eb0101e92a45",
              "style": "IPY_MODEL_799de80c17d54d6293f1a629e8d1a009",
              "value": "Calculating Metrics: 100%"
            }
          },
          "a46c9af698244f82ac83c0d189494721": {
            "model_module": "@jupyter-widgets/controls",
            "model_module_version": "2.0.0",
            "model_name": "HTMLModel",
            "state": {
              "layout": "IPY_MODEL_c731d888ed0f430f875419b04314e512",
              "style": "IPY_MODEL_57761282ab05403e80d08e00ffdad386",
              "value": " 10/10 [00:00&lt;00:00, 272.10it/s]"
            }
          },
          "a524afca385d44d6bacb02b91328b257": {
            "model_module": "@jupyter-widgets/controls",
            "model_module_version": "2.0.0",
            "model_name": "HBoxModel",
            "state": {
              "children": [
                "IPY_MODEL_8e86012181cc4b6da1520cf0e3e31554",
                "IPY_MODEL_0dee6ce7b9e7443dacf3150f18694047",
                "IPY_MODEL_7d071e120cdb4b74b0d3d06ed717c9a1"
              ],
              "layout": "IPY_MODEL_1d419e67b7fb414dab2e22d5a64efd3b"
            }
          },
          "a65dfeb806e14d35b9457fbcf88d53a5": {
            "model_module": "@jupyter-widgets/controls",
            "model_module_version": "2.0.0",
            "model_name": "HBoxModel",
            "state": {
              "children": [
                "IPY_MODEL_a1b9a8c4b298413ab7f3c831744ddef1",
                "IPY_MODEL_cff569b53ed242f49e6e387cd9df6087",
                "IPY_MODEL_3c83590aa8df4fc896b4dd40b08d1738"
              ],
              "layout": "IPY_MODEL_eb3d7d1ddb934f708126ba725ee1bf67"
            }
          },
          "a72916e5ca2e45d0826247e7cd7f148b": {
            "model_module": "@jupyter-widgets/controls",
            "model_module_version": "2.0.0",
            "model_name": "HTMLModel",
            "state": {
              "layout": "IPY_MODEL_16f1c9a905514d38a402a97a7969d3a8",
              "style": "IPY_MODEL_458f605fcc96401f9a2c6f7393d4370b",
              "value": "Calculating Metrics: 100%"
            }
          },
          "a940d5da7c854827a74532d5fe2e4950": {
            "model_module": "@jupyter-widgets/controls",
            "model_module_version": "2.0.0",
            "model_name": "HTMLStyleModel",
            "state": {
              "description_width": "",
              "font_size": null,
              "text_color": null
            }
          },
          "ad3c58a1b1114ad79598e6a5c651de82": {
            "model_module": "@jupyter-widgets/controls",
            "model_module_version": "2.0.0",
            "model_name": "FloatProgressModel",
            "state": {
              "bar_style": "success",
              "layout": "IPY_MODEL_5458d7f8126f41f4ae463f0decbc0363",
              "max": 10,
              "style": "IPY_MODEL_76422609fbfa407c956515eed99359a9",
              "value": 10
            }
          },
          "b375f669aa9740d3bfc4eb0101e92a45": {
            "model_module": "@jupyter-widgets/base",
            "model_module_version": "2.0.0",
            "model_name": "LayoutModel",
            "state": {}
          },
          "b4dccbbd8f164386a120c61ddf6a926f": {
            "model_module": "@jupyter-widgets/controls",
            "model_module_version": "2.0.0",
            "model_name": "ProgressStyleModel",
            "state": {
              "description_width": ""
            }
          },
          "b50882e239b84f028b07e663adb754f9": {
            "model_module": "@jupyter-widgets/controls",
            "model_module_version": "2.0.0",
            "model_name": "HTMLModel",
            "state": {
              "layout": "IPY_MODEL_1577470e549846e3a4e03fb14c861781",
              "style": "IPY_MODEL_a940d5da7c854827a74532d5fe2e4950",
              "value": " 10/10 [00:00&lt;00:00, 214.45it/s]"
            }
          },
          "b7ad8fc69d894b768cfb91d30017e79c": {
            "model_module": "@jupyter-widgets/base",
            "model_module_version": "2.0.0",
            "model_name": "LayoutModel",
            "state": {}
          },
          "c731d888ed0f430f875419b04314e512": {
            "model_module": "@jupyter-widgets/base",
            "model_module_version": "2.0.0",
            "model_name": "LayoutModel",
            "state": {}
          },
          "cff569b53ed242f49e6e387cd9df6087": {
            "model_module": "@jupyter-widgets/controls",
            "model_module_version": "2.0.0",
            "model_name": "FloatProgressModel",
            "state": {
              "bar_style": "success",
              "layout": "IPY_MODEL_7cc9687df7b24ccb98479ec7a45f0028",
              "max": 10,
              "style": "IPY_MODEL_7a297a518aa14c7f8a774235a710c057",
              "value": 10
            }
          },
          "d9e5e2db3fb44b64bd7492b31233b496": {
            "model_module": "@jupyter-widgets/controls",
            "model_module_version": "2.0.0",
            "model_name": "HTMLModel",
            "state": {
              "layout": "IPY_MODEL_49e9aa2b2b9843f9b5a6ec97c5bfa361",
              "style": "IPY_MODEL_15c1c5d2eba24a028b897b8321cc8369",
              "value": " 10/10 [00:00&lt;00:00, 15.99it/s]"
            }
          },
          "d9eb2e5c266d4536b22029da0ecb9fec": {
            "model_module": "@jupyter-widgets/controls",
            "model_module_version": "2.0.0",
            "model_name": "HBoxModel",
            "state": {
              "children": [
                "IPY_MODEL_5722d178308f4e8cb62f823dec6a6eea",
                "IPY_MODEL_61d341342c4e44aa90ef5bf627584276",
                "IPY_MODEL_4f531bacf3f449aea7172cf9ab822555"
              ],
              "layout": "IPY_MODEL_2a877257d7c1409a825b08a9f03a52fc"
            }
          },
          "deec73d81b064a2e86e4757300843a35": {
            "model_module": "@jupyter-widgets/controls",
            "model_module_version": "2.0.0",
            "model_name": "ProgressStyleModel",
            "state": {
              "description_width": ""
            }
          },
          "e0c42a9118aa41cbb53b0fea9545706b": {
            "model_module": "@jupyter-widgets/base",
            "model_module_version": "2.0.0",
            "model_name": "LayoutModel",
            "state": {}
          },
          "e0e6df0f9e1b41b4beec0fac25c07127": {
            "model_module": "@jupyter-widgets/controls",
            "model_module_version": "2.0.0",
            "model_name": "HTMLModel",
            "state": {
              "layout": "IPY_MODEL_2810d6c8a6f848c19bd5c3a58eb69481",
              "style": "IPY_MODEL_93560fa2f70f4ee08ce6ce1d5b5f2503",
              "value": "Calculating Metrics: 100%"
            }
          },
          "e351936b245241bfad417b72810c1267": {
            "model_module": "@jupyter-widgets/base",
            "model_module_version": "2.0.0",
            "model_name": "LayoutModel",
            "state": {}
          },
          "e9b6bfdc235c43de8bc74e9fc32d77c2": {
            "model_module": "@jupyter-widgets/controls",
            "model_module_version": "2.0.0",
            "model_name": "HBoxModel",
            "state": {
              "children": [
                "IPY_MODEL_2b0b3fb34d30427f9c541b04494e3dff",
                "IPY_MODEL_19be08f4f97e481c915774771e43de1f",
                "IPY_MODEL_d9e5e2db3fb44b64bd7492b31233b496"
              ],
              "layout": "IPY_MODEL_3035c52a82964f85977dcc470432d4ca"
            }
          },
          "eb3d7d1ddb934f708126ba725ee1bf67": {
            "model_module": "@jupyter-widgets/base",
            "model_module_version": "2.0.0",
            "model_name": "LayoutModel",
            "state": {}
          },
          "ef944ab1d21141f8959b66a9d2dac2d9": {
            "model_module": "@jupyter-widgets/base",
            "model_module_version": "2.0.0",
            "model_name": "LayoutModel",
            "state": {}
          },
          "f1435cce3b2341fb99d99f45bb90d815": {
            "model_module": "@jupyter-widgets/controls",
            "model_module_version": "2.0.0",
            "model_name": "HTMLStyleModel",
            "state": {
              "description_width": "",
              "font_size": null,
              "text_color": null
            }
          },
          "f52ad57b29e74260bb2b72c51f42eb00": {
            "model_module": "@jupyter-widgets/base",
            "model_module_version": "2.0.0",
            "model_name": "LayoutModel",
            "state": {}
          },
          "face18545bec40bf990847b203b9a102": {
            "model_module": "@jupyter-widgets/base",
            "model_module_version": "2.0.0",
            "model_name": "LayoutModel",
            "state": {}
          },
          "fb6e068da32140ecbfd41339fe68eaf5": {
            "model_module": "@jupyter-widgets/base",
            "model_module_version": "2.0.0",
            "model_name": "LayoutModel",
            "state": {}
          },
          "fc4df061bc064c99af66dda1c09a2fc5": {
            "model_module": "@jupyter-widgets/controls",
            "model_module_version": "2.0.0",
            "model_name": "HTMLModel",
            "state": {
              "layout": "IPY_MODEL_e0c42a9118aa41cbb53b0fea9545706b",
              "style": "IPY_MODEL_09ae302dd2524b73a2f76563c1889059",
              "value": " 10/10 [00:00&lt;00:00, 229.35it/s]"
            }
          }
        },
        "version_major": 2,
        "version_minor": 0
      }
    }
  },
  "nbformat": 4,
  "nbformat_minor": 5
}
