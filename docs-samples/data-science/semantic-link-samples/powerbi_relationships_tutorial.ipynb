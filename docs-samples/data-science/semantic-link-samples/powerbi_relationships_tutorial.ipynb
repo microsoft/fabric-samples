{
    "cells": [{
            "cell_type": "markdown",
            "source": ["# Tutorial: Discover Relationships in a PowerBI Dataset Using Semantic Link\n", "This tutorial is designed to help you explore Azure Fabric data science capabilities, focusing on interaction with PowerBI from Jupyter notebook with the help of SemPy library. "],
            "metadata": {
                "nteract": {
                    "transient": {
                        "deleting": false
                    }
                }
            },
            "id": "7b7c2f74-e8ce-493f-bb37-0a403b55272c"
        }, {
            "cell_type": "markdown",
            "source": ["### In this tutorial, you learn how to:\n", "- Apply domain knowledge to formulate hypotheses about functional dependencies in a dataset;\n", "- Use components of Semantic Link's Python library (SemPy) that supports integration with Power BI and helps to automate data quality analysis. These components include:\n", "    - FabricDataFrame - a pandas-like structure enhanced with additional semantic information;\n", "    - Functions for pulling Power BI datasets from a Fabric workspace into your notebook;\n", "    - Functions that automate the evaluation of hypothesis about functional dependencies and that identify violations of relationships in your datasets."],
            "metadata": {
                "nteract": {
                    "transient": {
                        "deleting": false
                    }
                }
            },
            "id": "463a4a9a-c6ff-47f7-a4a9-c847e6e2758d"
        }, {
            "cell_type": "markdown",
            "source": ["### Prerequisites\n", "\n", "* A [Microsoft Fabric subscription](https://learn.microsoft.com/fabric/enterprise/licenses). Or sign up for a free [Microsoft Fabric (Preview) trial](https://learn.microsoft.com/fabric/get-started/fabric-trial).\n", "* Sign in to [Microsoft Fabric](https://fabric.microsoft.com/).\n", "* Go to the Data Science experience in Microsoft Fabric.\n", "* Select **Workspaces** from the left navigation pane to find and select your workspace. This workspace becomes your current workspace.\n", "* Download the _Customer Profitability Sample.pbix_ and _'Customer Profitability Sample PBIX (auto)_ datasets from the [fabric-samples GitHub repository](https://github.com/microsoft/fabric-samples/blob/09cb40f1ffe0a7cfec67ec0ba2fcfdc95ba750a8/docs-samples/data-science/datasets/Customer%20Profitability%20Sample.pbix) and upload them to your workspace.\n", "* Open your notebook. You have two options:\n", "    * [Import this notebook into your workspace](https://learn.microsoft.com/en-us/fabric/data-engineering/how-to-use-notebook#import-existing-notebooks). You can import from the Data Science homepage.\n", "    * Alternatively, you can create [a new notebook](https://learn.microsoft.com/fabric/data-engineering/how-to-use-notebook#create-notebooks) to copy/paste code into cells.\n", "* In the Lakehouse explorer section of your notebook, add a new or existing lakehouse to your notebook. For more information on how to add a lakehouse, see [Attach a lakehouse to your notebook](https://learn.microsoft.com/en-us/fabric/data-science/tutorial-data-science-prepare-system#attach-a-lakehouse-to-the-notebooks)."],
            "metadata": {
                "nteract": {
                    "transient": {
                        "deleting": false
                    }
                }
            },
            "id": "b7396096-3629-49e5-aa52-c3a3439c973f"
        }, {
            "cell_type": "markdown",
            "source": ["## Set up the notebook\n", "\n", "In this section, you'll set up a notebook environment with the necessary modules and data.\n", "\n", "First, install `SemPy` from PyPI using pip magic command:"],
            "metadata": {
                "nteract": {
                    "transient": {
                        "deleting": false
                    }
                }
            },
            "id": "cdad9dc8-e832-4e06-8ce5-58f2b036d93b"
        }, {
            "cell_type": "code",
            "source": ["%pip install semantic-link"],
            "outputs": [{
                    "output_type": "display_data",
                    "data": {
                        "application/vnd.livy.statement-meta+json": {
                            "spark_pool": null,
                            "session_id": "a32763e8-955f-4644-a1ca-b314213819d2",
                            "statement_id": -1,
                            "state": "finished",
                            "livy_statement_state": "available",
                            "queued_time": "2023-09-06T03:50:20.4888371Z",
                            "session_start_time": null,
                            "execution_start_time": "2023-09-06T03:51:00.2188959Z",
                            "execution_finish_time": "2023-09-06T03:51:00.2190635Z",
                            "spark_jobs": {
                                "numbers": {
                                    "FAILED": 0,
                                    "RUNNING": 0,
                                    "SUCCEEDED": 0,
                                    "UNKNOWN": 0
                                },
                                "jobs": [],
                                "limit": 20,
                                "rule": "ALL_DESC"
                            },
                            "parent_msg_id": "3147e474-238e-4a77-ac9b-10bbb1450db8"
                        },
                        "text/plain": "StatementMeta(, a32763e8-955f-4644-a1ca-b314213819d2, -1, Finished, Available)"
                    },
                    "metadata": {}
                }, {
                    "output_type": "execute_result",
                    "execution_count": 1,
                    "data": {},
                    "metadata": {}
                }, {
                    "output_type": "stream",
                    "name": "stdout",
                    "text": ["Collecting semantic-link\n  Downloading semantic_link-0.3.1-py3-none-any.whl (8.1 kB)\nCollecting semantic-link-functions-meteostat==0.3.1\n  Downloading semantic_link_functions_meteostat-0.3.1-py3-none-any.whl (4.5 kB)\nCollecting semantic-link-functions-geopandas==0.3.1\n  Downloading semantic_link_functions_geopandas-0.3.1-py3-none-any.whl (4.0 kB)\nCollecting semantic-link-functions-phonenumbers==0.3.1\n  Downloading semantic_link_functions_phonenumbers-0.3.1-py3-none-any.whl (4.3 kB)\nCollecting semantic-link-functions-validators==0.3.1\n  Downloading semantic_link_functions_validators-0.3.1-py3-none-any.whl (4.7 kB)\nCollecting semantic-link-functions-holidays==0.3.1\n  Downloading semantic_link_functions_holidays-0.3.1-py3-none-any.whl (4.2 kB)\nCollecting semantic-link-sempy==0.3.1\n  Downloading semantic_link_sempy-0.3.1-py3-none-any.whl (2.8 MB)\n\u001b[2K     \u001b[90m━━━━━━━━━━━━━━━━━━━━━━━━━━━━━━━━━━━━━━━━\u001b[0m \u001b[32m2.8/2.8 MB\u001b[0m \u001b[31m16.0 MB/s\u001b[0m eta \u001b[36m0:00:00\u001b[0m00:01\u001b[0m0:01\u001b[0m\n\u001b[?25hCollecting geopandas\n  Downloading geopandas-0.13.2-py3-none-any.whl (1.1 MB)\n\u001b[2K     \u001b[90m━━━━━━━━━━━━━━━━━━━━━━━━━━━━━━━━━━━━━━━━\u001b[0m \u001b[32m1.1/1.1 MB\u001b[0m \u001b[31m151.3 MB/s\u001b[0m eta \u001b[36m0:00:00\u001b[0m\n\u001b[?25hCollecting folium\n  Downloading folium-0.14.0-py2.py3-none-any.whl (102 kB)\n\u001b[2K     \u001b[90m━━━━━━━━━━━━━━━━━━━━━━━━━━━━━━━━━━━━━━\u001b[0m \u001b[32m102.3/102.3 kB\u001b[0m \u001b[31m48.3 MB/s\u001b[0m eta \u001b[36m0:00:00\u001b[0m\n\u001b[?25hCollecting mapclassify\n  Downloading mapclassify-2.6.0-py3-none-any.whl (40 kB)\n\u001b[2K     \u001b[90m━━━━━━━━━━━━━━━━━━━━━━━━━━━━━━━━━━━━━━━━\u001b[0m \u001b[32m40.8/40.8 kB\u001b[0m \u001b[31m21.6 MB/s\u001b[0m eta \u001b[36m0:00:00\u001b[0m\n\u001b[?25hCollecting holidays\n  Downloading holidays-0.32-py3-none-any.whl (754 kB)\n\u001b[2K     \u001b[90m━━━━━━━━━━━━━━━━━━━━━━━━━━━━━━━━━━━━━\u001b[0m \u001b[32m754.4/754.4 kB\u001b[0m \u001b[31m152.5 MB/s\u001b[0m eta \u001b[36m0:00:00\u001b[0m\n\u001b[?25hCollecting meteostat\n  Downloading meteostat-1.6.5-py3-none-any.whl (31 kB)\nCollecting phonenumbers\n  Downloading phonenumbers-8.13.19-py2.py3-none-any.whl (2.6 MB)\n\u001b[2K     \u001b[90m━━━━━━━━━━━━━━━━━━━━━━━━━━━━━━━━━━━━━━━━\u001b[0m \u001b[32m2.6/2.6 MB\u001b[0m \u001b[31m80.7 MB/s\u001b[0m eta \u001b[36m0:00:00\u001b[0m\n\u001b[?25hCollecting validators\n  Downloading validators-0.22.0-py3-none-any.whl (26 kB)\nCollecting pythonnet==3.0.1\n  Downloading pythonnet-3.0.1-py3-none-any.whl (284 kB)\n\u001b[2K     \u001b[90m━━━━━━━━━━━━━━━━━━━━━━━━━━━━━━━━━━━━━━\u001b[0m \u001b[32m284.5/284.5 kB\u001b[0m \u001b[31m98.6 MB/s\u001b[0m eta \u001b[36m0:00:00\u001b[0m\n\u001b[?25hCollecting clr-loader<0.3.0,>=0.2.2\n  Downloading clr_loader-0.2.6-py3-none-any.whl (51 kB)\n\u001b[2K     \u001b[90m━━━━━━━━━━━━━━━━━━━━━━━━━━━━━━━━━━━━━━━━\u001b[0m \u001b[32m51.3/51.3 kB\u001b[0m \u001b[31m19.6 MB/s\u001b[0m eta \u001b[36m0:00:00\u001b[0m\n\u001b[?25hRequirement already satisfied: numpy in /home/trusted-service-user/cluster-env/trident_env/lib/python3.10/site-packages (from folium->semantic-link-functions-geopandas==0.3.1->semantic-link) (1.23.5)\nRequirement already satisfied: jinja2>=2.9 in /home/trusted-service-user/cluster-env/trident_env/lib/python3.10/site-packages (from folium->semantic-link-functions-geopandas==0.3.1->semantic-link) (3.1.2)\nCollecting branca>=0.6.0\n  Downloading branca-0.6.0-py3-none-any.whl (24 kB)\nRequirement already satisfied: requests in /home/trusted-service-user/cluster-env/trident_env/lib/python3.10/site-packages (from folium->semantic-link-functions-geopandas==0.3.1->semantic-link) (2.28.2)\nCollecting fiona>=1.8.19\n  Downloading Fiona-1.9.4.post1-cp310-cp310-manylinux_2_17_x86_64.manylinux2014_x86_64.whl (16.4 MB)\n\u001b[2K     \u001b[90m━━━━━━━━━━━━━━━━━━━━━━━━━━━━━━━━━━━━━━━━\u001b[0m \u001b[32m16.4/16.4 MB\u001b[0m \u001b[31m77.7 MB/s\u001b[0m eta \u001b[36m0:00:00\u001b[0m00:01\u001b[0m00:01\u001b[0m\n\u001b[?25hRequirement already satisfied: packaging in /home/trusted-service-user/cluster-env/trident_env/lib/python3.10/site-packages (from geopandas->semantic-link-functions-geopandas==0.3.1->semantic-link) (21.3)\nCollecting pyproj>=3.0.1\n  Downloading pyproj-3.6.0-cp310-cp310-manylinux_2_17_x86_64.manylinux2014_x86_64.whl (7.9 MB)\n\u001b[2K     \u001b[90m━━━━━━━━━━━━━━━━━━━━━━━━━━━━━━━━━━━━━━━━\u001b[0m \u001b[32m7.9/7.9 MB\u001b[0m \u001b[31m90.1 MB/s\u001b[0m eta \u001b[36m0:00:00\u001b[0m:00:01\u001b[0m00:01\u001b[0m\n\u001b[?25hRequirement already satisfied: pandas>=1.1.0 in /home/trusted-service-user/cluster-env/trident_env/lib/python3.10/site-packages (from geopandas->semantic-link-functions-geopandas==0.3.1->semantic-link) (1.5.3)\nCollecting shapely>=1.7.1\n  Downloading shapely-2.0.1-cp310-cp310-manylinux_2_17_x86_64.manylinux2014_x86_64.whl (2.3 MB)\n\u001b[2K     \u001b[90m━━━━━━━━━━━━━━━━━━━━━━━━━━━━━━━━━━━━━━━━\u001b[0m \u001b[32m2.3/2.3 MB\u001b[0m \u001b[31m103.6 MB/s\u001b[0m eta \u001b[36m0:00:00\u001b[0m\n\u001b[?25hRequirement already satisfied: python-dateutil in /home/trusted-service-user/cluster-env/trident_env/lib/python3.10/site-packages (from holidays->semantic-link-functions-holidays==0.3.1->semantic-link) (2.8.2)\nCollecting networkx\n  Downloading networkx-3.1-py3-none-any.whl (2.1 MB)\n\u001b[2K     \u001b[90m━━━━━━━━━━━━━━━━━━━━━━━━━━━━━━━━━━━━━━━━\u001b[0m \u001b[32m2.1/2.1 MB\u001b[0m \u001b[31m175.9 MB/s\u001b[0m eta \u001b[36m0:00:00\u001b[0m\n\u001b[?25hRequirement already satisfied: scipy>=1.0 in /home/trusted-service-user/cluster-env/trident_env/lib/python3.10/site-packages (from mapclassify->semantic-link-functions-geopandas==0.3.1->semantic-link) (1.10.1)\nRequirement already satisfied: scikit-learn in /home/trusted-service-user/cluster-env/trident_env/lib/python3.10/site-packages (from mapclassify->semantic-link-functions-geopandas==0.3.1->semantic-link) (1.2.0)\nRequirement already satisfied: pytz in /home/trusted-service-user/cluster-env/trident_env/lib/python3.10/site-packages (from meteostat->semantic-link-functions-meteostat==0.3.1->semantic-link) (2022.7.1)\nRequirement already satisfied: cffi>=1.13 in /home/trusted-service-user/cluster-env/trident_env/lib/python3.10/site-packages (from clr-loader<0.3.0,>=0.2.2->pythonnet==3.0.1->semantic-link-sempy==0.3.1->semantic-link) (1.15.1)\nRequirement already satisfied: attrs>=19.2.0 in /home/trusted-service-user/cluster-env/trident_env/lib/python3.10/site-packages (from fiona>=1.8.19->geopandas->semantic-link-functions-geopandas==0.3.1->semantic-link) (22.2.0)\nRequirement already satisfied: six in /home/trusted-service-user/cluster-env/trident_env/lib/python3.10/site-packages (from fiona>=1.8.19->geopandas->semantic-link-functions-geopandas==0.3.1->semantic-link) (1.16.0)\nRequirement already satisfied: certifi in /home/trusted-service-user/cluster-env/trident_env/lib/python3.10/site-packages (from fiona>=1.8.19->geopandas->semantic-link-functions-geopandas==0.3.1->semantic-link) (2022.12.7)\nRequirement already satisfied: click~=8.0 in /home/trusted-service-user/cluster-env/trident_env/lib/python3.10/site-packages (from fiona>=1.8.19->geopandas->semantic-link-functions-geopandas==0.3.1->semantic-link) (8.1.3)\nCollecting cligj>=0.5\n  Downloading cligj-0.7.2-py3-none-any.whl (7.1 kB)\nCollecting click-plugins>=1.0\n  Downloading click_plugins-1.1.1-py2.py3-none-any.whl (7.5 kB)\nRequirement already satisfied: MarkupSafe>=2.0 in /home/trusted-service-user/cluster-env/trident_env/lib/python3.10/site-packages (from jinja2>=2.9->folium->semantic-link-functions-geopandas==0.3.1->semantic-link) (2.1.2)\nRequirement already satisfied: pyparsing!=3.0.5,>=2.0.2 in /home/trusted-service-user/cluster-env/trident_env/lib/python3.10/site-packages (from packaging->geopandas->semantic-link-functions-geopandas==0.3.1->semantic-link) (3.0.9)\nRequirement already satisfied: urllib3<1.27,>=1.21.1 in /home/trusted-service-user/cluster-env/trident_env/lib/python3.10/site-packages (from requests->folium->semantic-link-functions-geopandas==0.3.1->semantic-link) (1.26.14)\nRequirement already satisfied: idna<4,>=2.5 in /home/trusted-service-user/cluster-env/trident_env/lib/python3.10/site-packages (from requests->folium->semantic-link-functions-geopandas==0.3.1->semantic-link) (3.4)\nRequirement already satisfied: charset-normalizer<4,>=2 in /home/trusted-service-user/cluster-env/trident_env/lib/python3.10/site-packages (from requests->folium->semantic-link-functions-geopandas==0.3.1->semantic-link) (2.1.1)\nRequirement already satisfied: joblib>=1.1.1 in /home/trusted-service-user/cluster-env/trident_env/lib/python3.10/site-packages (from scikit-learn->mapclassify->semantic-link-functions-geopandas==0.3.1->semantic-link) (1.2.0)\nRequirement already satisfied: threadpoolctl>=2.0.0 in /home/trusted-service-user/cluster-env/trident_env/lib/python3.10/site-packages (from scikit-learn->mapclassify->semantic-link-functions-geopandas==0.3.1->semantic-link) (3.1.0)\nRequirement already satisfied: pycparser in /home/trusted-service-user/cluster-env/trident_env/lib/python3.10/site-packages (from cffi>=1.13->clr-loader<0.3.0,>=0.2.2->pythonnet==3.0.1->semantic-link-sempy==0.3.1->semantic-link) (2.21)\nInstalling collected packages: phonenumbers, validators, shapely, pyproj, networkx, cligj, click-plugins, holidays, fiona, clr-loader, branca, pythonnet, meteostat, mapclassify, geopandas, folium, semantic-link-sempy, semantic-link-functions-validators, semantic-link-functions-phonenumbers, semantic-link-functions-meteostat, semantic-link-functions-holidays, semantic-link-functions-geopandas, semantic-link\nSuccessfully installed branca-0.6.0 click-plugins-1.1.1 cligj-0.7.2 clr-loader-0.2.6 fiona-1.9.4.post1 folium-0.14.0 geopandas-0.13.2 holidays-0.32 mapclassify-2.6.0 meteostat-1.6.5 networkx-3.1 phonenumbers-8.13.19 pyproj-3.6.0 pythonnet-3.0.1 semantic-link-0.3.1 semantic-link-functions-geopandas-0.3.1 semantic-link-functions-holidays-0.3.1 semantic-link-functions-meteostat-0.3.1 semantic-link-functions-phonenumbers-0.3.1 semantic-link-functions-validators-0.3.1 semantic-link-sempy-0.3.1 shapely-2.0.1 validators-0.22.0\n\n\u001b[1m[\u001b[0m\u001b[34;49mnotice\u001b[0m\u001b[1;39;49m]\u001b[0m\u001b[39;49m A new release of pip is available: \u001b[0m\u001b[31;49m23.0\u001b[0m\u001b[39;49m -> \u001b[0m\u001b[32;49m23.2.1\u001b[0m\n\u001b[1m[\u001b[0m\u001b[34;49mnotice\u001b[0m\u001b[1;39;49m]\u001b[0m\u001b[39;49m To update, run: \u001b[0m\u001b[32;49m/nfs4/pyenv-a4eea7b5-02c8-4f62-acec-9bb02fab53e3/bin/python -m pip install --upgrade pip\u001b[0m\nNote: you may need to restart the kernel to use updated packages.\n"]
                }, {
                    "output_type": "execute_result",
                    "execution_count": 1,
                    "data": {},
                    "metadata": {}
                }, {
                    "output_type": "stream",
                    "name": "stdout",
                    "text": ["Warning: PySpark kernel has been restarted to use updated packages.\n\n"]
                }
            ],
            "execution_count": 1,
            "metadata": {
                "jupyter": {
                    "outputs_hidden": false,
                    "source_hidden": false
                },
                "nteract": {
                    "transient": {
                        "deleting": false
                    }
                }
            },
            "id": "afa4929c-43a6-4d6d-935c-f2b5b5067643"
        }, {
            "cell_type": "markdown",
            "source": ["Then, perform necessary imports of SemPy modules that will be needed later on:"],
            "metadata": {
                "nteract": {
                    "transient": {
                        "deleting": false
                    }
                }
            },
            "id": "96481428-f8ce-405a-89c4-df278ac0cae5"
        }, {
            "cell_type": "code",
            "source": ["import sempy.fabric as fabric\n", "\n", "from sempy.relationships import plot_relationship_metadata\n", "from sempy.relationships import find_relationships\n", "from sempy.fabric import list_relationship_violations"],
            "outputs": [{
                    "output_type": "display_data",
                    "data": {
                        "application/vnd.livy.statement-meta+json": {
                            "spark_pool": null,
                            "session_id": "a32763e8-955f-4644-a1ca-b314213819d2",
                            "statement_id": 26,
                            "state": "finished",
                            "livy_statement_state": "available",
                            "queued_time": "2023-09-06T04:10:01.8207582Z",
                            "session_start_time": null,
                            "execution_start_time": "2023-09-06T04:10:02.1583007Z",
                            "execution_finish_time": "2023-09-06T04:10:02.6037055Z",
                            "spark_jobs": {
                                "numbers": {
                                    "FAILED": 0,
                                    "RUNNING": 0,
                                    "SUCCEEDED": 0,
                                    "UNKNOWN": 0
                                },
                                "jobs": [],
                                "limit": 20,
                                "rule": "ALL_DESC"
                            },
                            "parent_msg_id": "e692a833-300e-47aa-94be-eb38161b64ba"
                        },
                        "text/plain": "StatementMeta(, a32763e8-955f-4644-a1ca-b314213819d2, 26, Finished, Available)"
                    },
                    "metadata": {}
                }
            ],
            "execution_count": 19,
            "metadata": {
                "jupyter": {
                    "source_hidden": false,
                    "outputs_hidden": false
                },
                "nteract": {
                    "transient": {
                        "deleting": false
                    }
                }
            },
            "id": "579e2fc0-f6ed-43ad-b4a7-b3130e401c01"
        }, {
            "cell_type": "markdown",
            "source": ["Also import pandas for enforcing a configuration option that will help with output formatting:"],
            "metadata": {
                "nteract": {
                    "transient": {
                        "deleting": false
                    }
                }
            },
            "id": "ea65ef0a-1808-4cdd-8c8e-e49b5478ba22"
        }, {
            "cell_type": "code",
            "source": ["import pandas as pd\n", "pd.set_option('display.max_colwidth', None)"],
            "outputs": [],
            "execution_count": null,
            "metadata": {
                "jupyter": {
                    "source_hidden": false,
                    "outputs_hidden": false
                },
                "nteract": {
                    "transient": {
                        "deleting": false
                    }
                }
            },
            "id": "342c9801-c136-41f4-86a7-909ab52e137d"
        }, {
            "cell_type": "markdown",
            "source": ["## Explore PowerBI Datasets"],
            "metadata": {
                "nteract": {
                    "transient": {
                        "deleting": false
                    }
                }
            },
            "id": "b84bc1c8-7401-4cd1-ade7-4732930c9d40"
        }, {
            "cell_type": "markdown",
            "source": ["This tutorial uses a standard Power BI sample dataset [Customer Profitability Sample.pbix](https://github.com/microsoft/fabric-samples/tree/09cb40f1ffe0a7cfec67ec0ba2fcfdc95ba750a8/docs-samples/data-science/datasets). For a description of the dataset, see [Customer Profitability sample for Power BI](https://learn.microsoft.com/en-us/power-bi/create-reports/sample-customer-profitability). Start by using SemPy's _list_datasets_ function to explore datasets in your current workspace:"],
            "metadata": {
                "nteract": {
                    "transient": {
                        "deleting": false
                    }
                }
            },
            "id": "5c7be897-4a0d-4a7a-ac84-08016245dfa0"
        }, {
            "cell_type": "code",
            "source": ["fabric.list_datasets()"],
            "outputs": [{
                    "output_type": "display_data",
                    "data": {
                        "application/vnd.livy.statement-meta+json": {
                            "spark_pool": null,
                            "session_id": "a32763e8-955f-4644-a1ca-b314213819d2",
                            "statement_id": 10,
                            "state": "finished",
                            "livy_statement_state": "available",
                            "queued_time": "2023-09-06T03:52:44.7017272Z",
                            "session_start_time": null,
                            "execution_start_time": "2023-09-06T03:52:44.9935705Z",
                            "execution_finish_time": "2023-09-06T03:52:50.0754799Z",
                            "spark_jobs": {
                                "numbers": {
                                    "FAILED": 0,
                                    "RUNNING": 0,
                                    "SUCCEEDED": 0,
                                    "UNKNOWN": 0
                                },
                                "jobs": [],
                                "limit": 20,
                                "rule": "ALL_DESC"
                            },
                            "parent_msg_id": "582ac232-7650-44a2-a6b8-548841af2cc5"
                        },
                        "text/plain": "StatementMeta(, a32763e8-955f-4644-a1ca-b314213819d2, 10, Finished, Available)"
                    },
                    "metadata": {}
                }, {
                    "output_type": "execute_result",
                    "execution_count": 10,
                    "data": {
                        "text/plain": "                                Dataset Name  \\\n0                           AIMLcommunityMap   \n1                     Human Resources Sample   \n2                Retail Analysis Sample PBIX   \n3         Customer Profitability Sample PBIX   \n4  Customer Profitability Sample PBIX (auto)   \n5                      Regional Sales Sample   \n\n                             Dataset ID   Created Timestamp  \\\n0  d646d22d-f053-413e-b3d6-16f391b030d7 1699-12-31 00:00:00   \n1  556784dd-7995-4f06-b4d2-cf40acdb601b 2014-07-23 22:14:05   \n2  981bc910-afa0-45d8-bc51-cc93c4005b68 2014-05-30 20:16:22   \n3  c5b056ff-54bf-4196-bbf2-3a25d37df661 2014-07-22 03:50:22   \n4  6968ab28-3e27-4bec-ac7a-80ab844450a6 2014-07-22 03:50:22   \n5  a6738acc-09a3-4fd5-8ae7-001d118fff48 2020-02-08 22:31:17   \n\n           Last Update  \n0  0001-01-01 00:00:00  \n1  0001-01-01 00:00:00  \n2  0001-01-01 00:00:00  \n3  0001-01-01 00:00:00  \n4  0001-01-01 00:00:00  \n5  0001-01-01 00:00:00  ",
                        "text/html": "<div>\n<style scoped>\n    .dataframe tbody tr th:only-of-type {\n        vertical-align: middle;\n    }\n\n    .dataframe tbody tr th {\n        vertical-align: top;\n    }\n\n    .dataframe thead th {\n        text-align: right;\n    }\n</style>\n<table border=\"1\" class=\"dataframe\">\n  <thead>\n    <tr style=\"text-align: right;\">\n      <th></th>\n      <th>Dataset Name</th>\n      <th>Dataset ID</th>\n      <th>Created Timestamp</th>\n      <th>Last Update</th>\n    </tr>\n  </thead>\n  <tbody>\n    <tr>\n      <th>0</th>\n      <td>AIMLcommunityMap</td>\n      <td>d646d22d-f053-413e-b3d6-16f391b030d7</td>\n      <td>1699-12-31 00:00:00</td>\n      <td>0001-01-01 00:00:00</td>\n    </tr>\n    <tr>\n      <th>1</th>\n      <td>Human Resources Sample</td>\n      <td>556784dd-7995-4f06-b4d2-cf40acdb601b</td>\n      <td>2014-07-23 22:14:05</td>\n      <td>0001-01-01 00:00:00</td>\n    </tr>\n    <tr>\n      <th>2</th>\n      <td>Retail Analysis Sample PBIX</td>\n      <td>981bc910-afa0-45d8-bc51-cc93c4005b68</td>\n      <td>2014-05-30 20:16:22</td>\n      <td>0001-01-01 00:00:00</td>\n    </tr>\n    <tr>\n      <th>3</th>\n      <td>Customer Profitability Sample PBIX</td>\n      <td>c5b056ff-54bf-4196-bbf2-3a25d37df661</td>\n      <td>2014-07-22 03:50:22</td>\n      <td>0001-01-01 00:00:00</td>\n    </tr>\n    <tr>\n      <th>4</th>\n      <td>Customer Profitability Sample PBIX (auto)</td>\n      <td>6968ab28-3e27-4bec-ac7a-80ab844450a6</td>\n      <td>2014-07-22 03:50:22</td>\n      <td>0001-01-01 00:00:00</td>\n    </tr>\n    <tr>\n      <th>5</th>\n      <td>Regional Sales Sample</td>\n      <td>a6738acc-09a3-4fd5-8ae7-001d118fff48</td>\n      <td>2020-02-08 22:31:17</td>\n      <td>0001-01-01 00:00:00</td>\n    </tr>\n  </tbody>\n</table>\n</div>"
                    },
                    "metadata": {}
                }
            ],
            "execution_count": 3,
            "metadata": {
                "jupyter": {
                    "outputs_hidden": false,
                    "source_hidden": false
                },
                "nteract": {
                    "transient": {
                        "deleting": false
                    }
                }
            },
            "id": "60c1cc5c-1353-4c09-897a-43186f414568"
        }, {
            "cell_type": "markdown",
            "source": ["For the rest of this notebook we will focus on \"Customer Profitability Sample PBIX\" in two different flavours:\n", "-  **Customer Profitability Sample PBIX** - the dataset as it comes from PowerBI samples with predefined table relationships\n", "-  **Customer Profitability Sample PBIX (auto)** - the same data but relationships are limited to those that would be auto-detected by PowerBI\n", " "],
            "metadata": {
                "nteract": {
                    "transient": {
                        "deleting": false
                    }
                }
            },
            "id": "30a97504-8860-415a-9eaa-aaa210a52a19"
        }, {
            "cell_type": "markdown",
            "source": ["## Extract a sample dataset with its predefined semantic model"],
            "metadata": {
                "nteract": {
                    "transient": {
                        "deleting": false
                    }
                }
            },
            "id": "3f7c3401-f69d-4bb6-b11a-bfdb8195d61c"
        }, {
            "cell_type": "markdown",
            "source": ["Load relationships that are predefined and stored within the \"Customer Profitability Sample PBIX\" PowerBI dataset, using SemPy's ``list_relationships`` function which will list from the Tabular Object Model:"],
            "metadata": {
                "nteract": {
                    "transient": {
                        "deleting": false
                    }
                }
            },
            "id": "855f2d53-e1fa-4822-b2ae-9472f4239c3c"
        }, {
            "cell_type": "code",
            "source": ["dataset = \"Customer Profitability Sample PBIX\"\n", "relationships = fabric.list_relationships(dataset)\n", "relationships"],
            "outputs": [{
                    "output_type": "display_data",
                    "data": {
                        "application/vnd.livy.statement-meta+json": {
                            "spark_pool": null,
                            "session_id": "a32763e8-955f-4644-a1ca-b314213819d2",
                            "statement_id": 14,
                            "state": "finished",
                            "livy_statement_state": "available",
                            "queued_time": "2023-09-06T03:56:38.7401622Z",
                            "session_start_time": null,
                            "execution_start_time": "2023-09-06T03:56:39.0379483Z",
                            "execution_finish_time": "2023-09-06T03:56:40.7540699Z",
                            "spark_jobs": {
                                "numbers": {
                                    "FAILED": 0,
                                    "RUNNING": 0,
                                    "SUCCEEDED": 0,
                                    "UNKNOWN": 0
                                },
                                "jobs": [],
                                "limit": 20,
                                "rule": "ALL_DESC"
                            },
                            "parent_msg_id": "7d829db1-9ce6-49fd-be07-2205275604bd"
                        },
                        "text/plain": "StatementMeta(, a32763e8-955f-4644-a1ca-b314213819d2, 14, Finished, Available)"
                    },
                    "metadata": {}
                }, {
                    "output_type": "execute_result",
                    "execution_count": 22,
                    "data": {
                        "text/plain": "  Multiplicity From Table   From Column   To Table     To Column\n0          m:1       Fact        BU Key         BU        BU Key\n1          m:1       Fact    YearPeriod       Date    YearPeriod\n2          m:1       Fact  Scenario Key   Scenario  Scenario Key\n3          m:1       Fact   Product Key    Product   Product Key\n4          m:1       Fact  Customer Key   Customer      Customer\n5          m:1         BU  Executive_id  Executive            ID\n6          m:1   Customer   Industry ID   Industry            ID\n7          m:1   Customer         State      State     StateCode",
                        "text/html": "<div>\n<style scoped>\n    .dataframe tbody tr th:only-of-type {\n        vertical-align: middle;\n    }\n\n    .dataframe tbody tr th {\n        vertical-align: top;\n    }\n\n    .dataframe thead th {\n        text-align: right;\n    }\n</style>\n<table border=\"1\" class=\"dataframe\">\n  <thead>\n    <tr style=\"text-align: right;\">\n      <th></th>\n      <th>Multiplicity</th>\n      <th>From Table</th>\n      <th>From Column</th>\n      <th>To Table</th>\n      <th>To Column</th>\n    </tr>\n  </thead>\n  <tbody>\n    <tr>\n      <th>0</th>\n      <td>m:1</td>\n      <td>Fact</td>\n      <td>BU Key</td>\n      <td>BU</td>\n      <td>BU Key</td>\n    </tr>\n    <tr>\n      <th>1</th>\n      <td>m:1</td>\n      <td>Fact</td>\n      <td>YearPeriod</td>\n      <td>Date</td>\n      <td>YearPeriod</td>\n    </tr>\n    <tr>\n      <th>2</th>\n      <td>m:1</td>\n      <td>Fact</td>\n      <td>Scenario Key</td>\n      <td>Scenario</td>\n      <td>Scenario Key</td>\n    </tr>\n    <tr>\n      <th>3</th>\n      <td>m:1</td>\n      <td>Fact</td>\n      <td>Product Key</td>\n      <td>Product</td>\n      <td>Product Key</td>\n    </tr>\n    <tr>\n      <th>4</th>\n      <td>m:1</td>\n      <td>Fact</td>\n      <td>Customer Key</td>\n      <td>Customer</td>\n      <td>Customer</td>\n    </tr>\n    <tr>\n      <th>5</th>\n      <td>m:1</td>\n      <td>BU</td>\n      <td>Executive_id</td>\n      <td>Executive</td>\n      <td>ID</td>\n    </tr>\n    <tr>\n      <th>6</th>\n      <td>m:1</td>\n      <td>Customer</td>\n      <td>Industry ID</td>\n      <td>Industry</td>\n      <td>ID</td>\n    </tr>\n    <tr>\n      <th>7</th>\n      <td>m:1</td>\n      <td>Customer</td>\n      <td>State</td>\n      <td>State</td>\n      <td>StateCode</td>\n    </tr>\n  </tbody>\n</table>\n</div>"
                    },
                    "metadata": {}
                }
            ],
            "execution_count": 7,
            "metadata": {
                "jupyter": {
                    "outputs_hidden": false,
                    "source_hidden": false
                },
                "nteract": {
                    "transient": {
                        "deleting": false
                    }
                }
            },
            "id": "a70a7ae2-cdf5-413b-a575-6662bb6462fc"
        }, {
            "cell_type": "markdown",
            "source": ["We can visualize the relationships dataframe as a graph with another function from SemPy library called ``plot_relationship_metadata``:"],
            "metadata": {
                "nteract": {
                    "transient": {
                        "deleting": false
                    }
                }
            },
            "id": "9305dfad-d9df-44be-a0b9-d556b706290f"
        }, {
            "cell_type": "code",
            "source": ["plot_relationship_metadata(relationships)"],
            "outputs": [{
                    "output_type": "display_data",
                    "data": {
                        "application/vnd.livy.statement-meta+json": {
                            "spark_pool": null,
                            "session_id": "a32763e8-955f-4644-a1ca-b314213819d2",
                            "statement_id": 15,
                            "state": "finished",
                            "livy_statement_state": "available",
                            "queued_time": "2023-09-06T03:56:44.0293617Z",
                            "session_start_time": null,
                            "execution_start_time": "2023-09-06T03:56:44.3235087Z",
                            "execution_finish_time": "2023-09-06T03:56:45.9802488Z",
                            "spark_jobs": {
                                "numbers": {
                                    "FAILED": 0,
                                    "RUNNING": 0,
                                    "SUCCEEDED": 0,
                                    "UNKNOWN": 0
                                },
                                "jobs": [],
                                "limit": 20,
                                "rule": "ALL_DESC"
                            },
                            "parent_msg_id": "bb6ab656-9637-437c-816d-f6bd44c0d382"
                        },
                        "text/plain": "StatementMeta(, a32763e8-955f-4644-a1ca-b314213819d2, 15, Finished, Available)"
                    },
                    "metadata": {}
                }, {
                    "output_type": "execute_result",
                    "execution_count": 25,
                    "data": {
                        "image/svg+xml": "<?xml version=\"1.0\" encoding=\"UTF-8\" standalone=\"no\"?>\n<!DOCTYPE svg PUBLIC \"-//W3C//DTD SVG 1.1//EN\"\n \"http://www.w3.org/Graphics/SVG/1.1/DTD/svg11.dtd\">\n<!-- Generated by graphviz version 2.50.0 (20220708.1628)\n -->\n<!-- Pages: 1 -->\n<svg width=\"417pt\" height=\"394pt\"\n viewBox=\"0.00 0.00 417.00 393.50\" xmlns=\"http://www.w3.org/2000/svg\" xmlns:xlink=\"http://www.w3.org/1999/xlink\">\n<g id=\"graph0\" class=\"graph\" transform=\"scale(1 1) rotate(0) translate(4 389.5)\">\n<polygon fill=\"white\" stroke=\"transparent\" points=\"-4,4 -4,-389.5 413,-389.5 413,4 -4,4\"/>\n<!-- Fact -->\n<g id=\"node1\" class=\"node\">\n<title>Fact</title>\n<polygon fill=\"none\" stroke=\"black\" points=\"8.5,-203 8.5,-224 115.5,-224 115.5,-203 8.5,-203\"/>\n<text text-anchor=\"start\" x=\"45\" y=\"-210.8\" font-family=\"Times,serif\" font-weight=\"bold\" font-size=\"14.00\">Fact</text>\n<polygon fill=\"none\" stroke=\"black\" points=\"8.5,-182 8.5,-203 115.5,-203 115.5,-182 8.5,-182\"/>\n<text text-anchor=\"start\" x=\"11.5\" y=\"-188.8\" font-family=\"Times,serif\" font-size=\"14.00\">BU Key</text>\n<polygon fill=\"none\" stroke=\"black\" points=\"8.5,-161 8.5,-182 115.5,-182 115.5,-161 8.5,-161\"/>\n<text text-anchor=\"start\" x=\"11.5\" y=\"-167.8\" font-family=\"Times,serif\" font-size=\"14.00\">Customer Key</text>\n<polygon fill=\"none\" stroke=\"black\" points=\"8.5,-140 8.5,-161 115.5,-161 115.5,-140 8.5,-140\"/>\n<text text-anchor=\"start\" x=\"11.5\" y=\"-146.8\" font-family=\"Times,serif\" font-size=\"14.00\">Product Key</text>\n<polygon fill=\"none\" stroke=\"black\" points=\"8.5,-119 8.5,-140 115.5,-140 115.5,-119 8.5,-119\"/>\n<text text-anchor=\"start\" x=\"11.5\" y=\"-125.8\" font-family=\"Times,serif\" font-size=\"14.00\">Scenario Key</text>\n<polygon fill=\"none\" stroke=\"black\" points=\"8.5,-98 8.5,-119 115.5,-119 115.5,-98 8.5,-98\"/>\n<text text-anchor=\"start\" x=\"11.5\" y=\"-104.8\" font-family=\"Times,serif\" font-size=\"14.00\">YearPeriod</text>\n</g>\n<!-- BU -->\n<g id=\"node2\" class=\"node\">\n<title>BU</title>\n<polygon fill=\"none\" stroke=\"black\" points=\"169,-360 169,-381 266,-381 266,-360 169,-360\"/>\n<text text-anchor=\"start\" x=\"205\" y=\"-367.8\" font-family=\"Times,serif\" font-weight=\"bold\" font-size=\"14.00\">BU</text>\n<polygon fill=\"none\" stroke=\"black\" points=\"169,-339 169,-360 266,-360 266,-339 169,-339\"/>\n<text text-anchor=\"start\" x=\"172\" y=\"-345.8\" font-family=\"Times,serif\" font-size=\"14.00\">BU Key</text>\n<polygon fill=\"none\" stroke=\"black\" points=\"169,-318 169,-339 266,-339 266,-318 169,-318\"/>\n<text text-anchor=\"start\" x=\"172\" y=\"-324.8\" font-family=\"Times,serif\" font-size=\"14.00\">Executive_id</text>\n</g>\n<!-- Fact&#45;&gt;BU -->\n<g id=\"edge1\" class=\"edge\">\n<title>Fact:BU Key&#45;&gt;BU:BU Key</title>\n<path fill=\"none\" stroke=\"black\" d=\"M116.5,-193C185.66,-193 104.49,-332.98 157.8,-347.74\"/>\n<polygon fill=\"black\" stroke=\"black\" points=\"157.65,-351.25 168,-349 158.5,-344.3 157.65,-351.25\"/>\n</g>\n<!-- Date -->\n<g id=\"node3\" class=\"node\">\n<title>Date</title>\n<polygon fill=\"none\" stroke=\"black\" points=\"175,-25 175,-46 259,-46 259,-25 175,-25\"/>\n<text text-anchor=\"start\" x=\"198.5\" y=\"-32.8\" font-family=\"Times,serif\" font-weight=\"bold\" font-size=\"14.00\">Date</text>\n<polygon fill=\"none\" stroke=\"black\" points=\"175,-4 175,-25 259,-25 259,-4 175,-4\"/>\n<text text-anchor=\"start\" x=\"178\" y=\"-10.8\" font-family=\"Times,serif\" font-size=\"14.00\">YearPeriod</text>\n</g>\n<!-- Fact&#45;&gt;Date -->\n<g id=\"edge2\" class=\"edge\">\n<title>Fact:YearPeriod&#45;&gt;Date:YearPeriod</title>\n<path fill=\"none\" stroke=\"black\" d=\"M116.5,-108C161.65,-108 130.8,-28.11 164.07,-15.63\"/>\n<polygon fill=\"black\" stroke=\"black\" points=\"164.7,-19.08 174,-14 163.56,-12.17 164.7,-19.08\"/>\n</g>\n<!-- Scenario -->\n<g id=\"node4\" class=\"node\">\n<title>Scenario</title>\n<polygon fill=\"none\" stroke=\"black\" points=\"167,-93 167,-114 267,-114 267,-93 167,-93\"/>\n<text text-anchor=\"start\" x=\"182.5\" y=\"-100.8\" font-family=\"Times,serif\" font-weight=\"bold\" font-size=\"14.00\">Scenario</text>\n<polygon fill=\"none\" stroke=\"black\" points=\"167,-72 167,-93 267,-93 267,-72 167,-72\"/>\n<text text-anchor=\"start\" x=\"170\" y=\"-78.8\" font-family=\"Times,serif\" font-size=\"14.00\">Scenario Key</text>\n</g>\n<!-- Fact&#45;&gt;Scenario -->\n<g id=\"edge3\" class=\"edge\">\n<title>Fact:Scenario Key&#45;&gt;Scenario:Scenario Key</title>\n<path fill=\"none\" stroke=\"black\" d=\"M116.5,-129C142.81,-129 137.9,-93.66 155.91,-84.27\"/>\n<polygon fill=\"black\" stroke=\"black\" points=\"157.01,-87.61 166,-82 155.48,-80.78 157.01,-87.61\"/>\n</g>\n<!-- Product -->\n<g id=\"node5\" class=\"node\">\n<title>Product</title>\n<polygon fill=\"none\" stroke=\"black\" points=\"170,-161 170,-182 264,-182 264,-161 170,-161\"/>\n<text text-anchor=\"start\" x=\"185.5\" y=\"-168.8\" font-family=\"Times,serif\" font-weight=\"bold\" font-size=\"14.00\">Product</text>\n<polygon fill=\"none\" stroke=\"black\" points=\"170,-140 170,-161 264,-161 264,-140 170,-140\"/>\n<text text-anchor=\"start\" x=\"173\" y=\"-146.8\" font-family=\"Times,serif\" font-size=\"14.00\">Product Key</text>\n</g>\n<!-- Fact&#45;&gt;Product -->\n<g id=\"edge4\" class=\"edge\">\n<title>Fact:Product Key&#45;&gt;Product:Product Key</title>\n<path fill=\"none\" stroke=\"black\" d=\"M116.5,-150C136.01,-150 143.28,-150 158.77,-150\"/>\n<polygon fill=\"black\" stroke=\"black\" points=\"159,-153.5 169,-150 159,-146.5 159,-153.5\"/>\n</g>\n<!-- Customer -->\n<g id=\"node6\" class=\"node\">\n<title>Customer</title>\n<polygon fill=\"none\" stroke=\"black\" points=\"173,-271 173,-292 261,-292 261,-271 173,-271\"/>\n<text text-anchor=\"start\" x=\"178\" y=\"-278.8\" font-family=\"Times,serif\" font-weight=\"bold\" font-size=\"14.00\">Customer</text>\n<polygon fill=\"none\" stroke=\"black\" points=\"173,-250 173,-271 261,-271 261,-250 173,-250\"/>\n<text text-anchor=\"start\" x=\"176\" y=\"-256.8\" font-family=\"Times,serif\" font-size=\"14.00\">Customer</text>\n<polygon fill=\"none\" stroke=\"black\" points=\"173,-229 173,-250 261,-250 261,-229 173,-229\"/>\n<text text-anchor=\"start\" x=\"176\" y=\"-235.8\" font-family=\"Times,serif\" font-size=\"14.00\">Industry ID</text>\n<polygon fill=\"none\" stroke=\"black\" points=\"173,-208 173,-229 261,-229 261,-208 173,-208\"/>\n<text text-anchor=\"start\" x=\"176\" y=\"-214.8\" font-family=\"Times,serif\" font-size=\"14.00\">State</text>\n</g>\n<!-- Fact&#45;&gt;Customer -->\n<g id=\"edge5\" class=\"edge\">\n<title>Fact:Customer Key&#45;&gt;Customer:Customer</title>\n<path fill=\"none\" stroke=\"black\" d=\"M116.5,-172C159.29,-172 131.01,-247 162.14,-259.3\"/>\n<polygon fill=\"black\" stroke=\"black\" points=\"161.55,-262.75 172,-261 162.74,-255.85 161.55,-262.75\"/>\n</g>\n<!-- Executive -->\n<g id=\"node7\" class=\"node\">\n<title>Executive</title>\n<polygon fill=\"none\" stroke=\"black\" points=\"319,-339 319,-360 401,-360 401,-339 319,-339\"/>\n<text text-anchor=\"start\" x=\"322\" y=\"-346.8\" font-family=\"Times,serif\" font-weight=\"bold\" font-size=\"14.00\">Executive</text>\n<polygon fill=\"none\" stroke=\"black\" points=\"319,-318 319,-339 401,-339 401,-318 319,-318\"/>\n<text text-anchor=\"start\" x=\"322\" y=\"-324.8\" font-family=\"Times,serif\" font-size=\"14.00\">ID</text>\n</g>\n<!-- BU&#45;&gt;Executive -->\n<g id=\"edge6\" class=\"edge\">\n<title>BU:Executive_id&#45;&gt;Executive:ID</title>\n<path fill=\"none\" stroke=\"black\" d=\"M267,-328C285.77,-328 292.88,-328 307.65,-328\"/>\n<polygon fill=\"black\" stroke=\"black\" points=\"308,-331.5 318,-328 308,-324.5 308,-331.5\"/>\n</g>\n<!-- Industry -->\n<g id=\"node8\" class=\"node\">\n<title>Industry</title>\n<polygon fill=\"none\" stroke=\"black\" points=\"323,-260 323,-281 398,-281 398,-260 323,-260\"/>\n<text text-anchor=\"start\" x=\"326\" y=\"-267.8\" font-family=\"Times,serif\" font-weight=\"bold\" font-size=\"14.00\">Industry</text>\n<polygon fill=\"none\" stroke=\"black\" points=\"323,-239 323,-260 398,-260 398,-239 323,-239\"/>\n<text text-anchor=\"start\" x=\"326\" y=\"-245.8\" font-family=\"Times,serif\" font-size=\"14.00\">ID</text>\n</g>\n<!-- Customer&#45;&gt;Industry -->\n<g id=\"edge7\" class=\"edge\">\n<title>Customer:Industry ID&#45;&gt;Industry:ID</title>\n<path fill=\"none\" stroke=\"black\" d=\"M262,-239C285.34,-239 292.95,-246.45 311.99,-248.49\"/>\n<polygon fill=\"black\" stroke=\"black\" points=\"311.83,-251.99 322,-249 312.19,-245 311.83,-251.99\"/>\n</g>\n<!-- State -->\n<g id=\"node9\" class=\"node\">\n<title>State</title>\n<polygon fill=\"none\" stroke=\"black\" points=\"320,-192 320,-213 401,-213 401,-192 320,-192\"/>\n<text text-anchor=\"start\" x=\"339.5\" y=\"-199.8\" font-family=\"Times,serif\" font-weight=\"bold\" font-size=\"14.00\">State</text>\n<polygon fill=\"none\" stroke=\"black\" points=\"320,-171 320,-192 401,-192 401,-171 320,-171\"/>\n<text text-anchor=\"start\" x=\"323\" y=\"-177.8\" font-family=\"Times,serif\" font-size=\"14.00\">StateCode</text>\n</g>\n<!-- Customer&#45;&gt;State -->\n<g id=\"edge8\" class=\"edge\">\n<title>Customer:State&#45;&gt;State:StateCode</title>\n<path fill=\"none\" stroke=\"black\" d=\"M262,-218C288.43,-218 289.12,-189.67 309.12,-182.59\"/>\n<polygon fill=\"black\" stroke=\"black\" points=\"309.68,-186.04 319,-181 308.57,-179.13 309.68,-186.04\"/>\n</g>\n</g>\n</svg>\n",
                        "text/plain": "<graphviz.graphs.Digraph at 0x7fc998e3ef20>"
                    },
                    "metadata": {}
                }
            ],
            "execution_count": 8,
            "metadata": {
                "jupyter": {
                    "outputs_hidden": false,
                    "source_hidden": false
                },
                "nteract": {
                    "transient": {
                        "deleting": false
                    }
                }
            },
            "id": "211f64ac-27e3-4eeb-8c76-64a031721b83"
        }, {
            "cell_type": "markdown",
            "source": ["This is \"ground truth\" for relationships between tables in this dataset, as it reflects how they were defined by a subject matter expert in PowerBI."],
            "metadata": {
                "nteract": {
                    "transient": {
                        "deleting": false
                    }
                }
            },
            "id": "204b1c8b-9e21-4f06-8c8a-c7478b53d9d6"
        }, {
            "cell_type": "markdown",
            "source": ["## Complement relationships discovery\n", "\n", "If we started with relationships that were auto-detected by PowerBI, we would have a smaller set:"],
            "metadata": {
                "nteract": {
                    "transient": {
                        "deleting": false
                    }
                }
            },
            "id": "9346ed9b-a6e1-4a20-8aa3-dffcfd8c8b9a"
        }, {
            "cell_type": "code",
            "source": ["dataset = \"Customer Profitability Sample PBIX (auto)\"\n", "autodetected = fabric.list_relationships(dataset)\n", "plot_relationship_metadata(autodetected)"],
            "outputs": [{
                    "output_type": "display_data",
                    "data": {
                        "application/vnd.livy.statement-meta+json": {
                            "spark_pool": null,
                            "session_id": "a32763e8-955f-4644-a1ca-b314213819d2",
                            "statement_id": 16,
                            "state": "finished",
                            "livy_statement_state": "available",
                            "queued_time": "2023-09-06T03:59:47.2421055Z",
                            "session_start_time": null,
                            "execution_start_time": "2023-09-06T03:59:47.5411859Z",
                            "execution_finish_time": "2023-09-06T03:59:51.3304778Z",
                            "spark_jobs": {
                                "numbers": {
                                    "FAILED": 0,
                                    "RUNNING": 0,
                                    "SUCCEEDED": 0,
                                    "UNKNOWN": 0
                                },
                                "jobs": [],
                                "limit": 20,
                                "rule": "ALL_DESC"
                            },
                            "parent_msg_id": "b654828f-3ab9-4951-8304-53ad1d79412b"
                        },
                        "text/plain": "StatementMeta(, a32763e8-955f-4644-a1ca-b314213819d2, 16, Finished, Available)"
                    },
                    "metadata": {}
                }, {
                    "output_type": "execute_result",
                    "execution_count": 28,
                    "data": {
                        "image/svg+xml": "<?xml version=\"1.0\" encoding=\"UTF-8\" standalone=\"no\"?>\n<!DOCTYPE svg PUBLIC \"-//W3C//DTD SVG 1.1//EN\"\n \"http://www.w3.org/Graphics/SVG/1.1/DTD/svg11.dtd\">\n<!-- Generated by graphviz version 2.50.0 (20220708.1628)\n -->\n<!-- Pages: 1 -->\n<svg width=\"403pt\" height=\"284pt\"\n viewBox=\"0.00 0.00 403.00 283.50\" xmlns=\"http://www.w3.org/2000/svg\" xmlns:xlink=\"http://www.w3.org/1999/xlink\">\n<g id=\"graph0\" class=\"graph\" transform=\"scale(1 1) rotate(0) translate(4 279.5)\">\n<polygon fill=\"white\" stroke=\"transparent\" points=\"-4,4 -4,-279.5 399,-279.5 399,4 -4,4\"/>\n<!-- Fact -->\n<g id=\"node1\" class=\"node\">\n<title>Fact</title>\n<polygon fill=\"none\" stroke=\"black\" points=\"8,-182 8,-203 108,-203 108,-182 8,-182\"/>\n<text text-anchor=\"start\" x=\"41\" y=\"-189.8\" font-family=\"Times,serif\" font-weight=\"bold\" font-size=\"14.00\">Fact</text>\n<polygon fill=\"none\" stroke=\"black\" points=\"8,-161 8,-182 108,-182 108,-161 8,-161\"/>\n<text text-anchor=\"start\" x=\"11\" y=\"-167.8\" font-family=\"Times,serif\" font-size=\"14.00\">BU Key</text>\n<polygon fill=\"none\" stroke=\"black\" points=\"8,-140 8,-161 108,-161 108,-140 8,-140\"/>\n<text text-anchor=\"start\" x=\"11\" y=\"-146.8\" font-family=\"Times,serif\" font-size=\"14.00\">Scenario Key</text>\n<polygon fill=\"none\" stroke=\"black\" points=\"8,-119 8,-140 108,-140 108,-119 8,-119\"/>\n<text text-anchor=\"start\" x=\"11\" y=\"-125.8\" font-family=\"Times,serif\" font-size=\"14.00\">YearPeriod</text>\n</g>\n<!-- BU -->\n<g id=\"node2\" class=\"node\">\n<title>BU</title>\n<polygon fill=\"none\" stroke=\"black\" points=\"162,-250 162,-271 259,-271 259,-250 162,-250\"/>\n<text text-anchor=\"start\" x=\"198\" y=\"-257.8\" font-family=\"Times,serif\" font-weight=\"bold\" font-size=\"14.00\">BU</text>\n<polygon fill=\"none\" stroke=\"black\" points=\"162,-229 162,-250 259,-250 259,-229 162,-229\"/>\n<text text-anchor=\"start\" x=\"165\" y=\"-235.8\" font-family=\"Times,serif\" font-size=\"14.00\">BU Key</text>\n<polygon fill=\"none\" stroke=\"black\" points=\"162,-208 162,-229 259,-229 259,-208 162,-208\"/>\n<text text-anchor=\"start\" x=\"165\" y=\"-214.8\" font-family=\"Times,serif\" font-size=\"14.00\">Executive_id</text>\n</g>\n<!-- Fact&#45;&gt;BU -->\n<g id=\"edge1\" class=\"edge\">\n<title>Fact:BU Key&#45;&gt;BU:BU Key</title>\n<path fill=\"none\" stroke=\"black\" d=\"M109,-172C142.72,-172 127.56,-225.61 150.97,-236.92\"/>\n<polygon fill=\"black\" stroke=\"black\" points=\"150.5,-240.4 161,-239 151.92,-233.54 150.5,-240.4\"/>\n</g>\n<!-- Scenario -->\n<g id=\"node3\" class=\"node\">\n<title>Scenario</title>\n<polygon fill=\"none\" stroke=\"black\" points=\"160,-161 160,-182 260,-182 260,-161 160,-161\"/>\n<text text-anchor=\"start\" x=\"175.5\" y=\"-168.8\" font-family=\"Times,serif\" font-weight=\"bold\" font-size=\"14.00\">Scenario</text>\n<polygon fill=\"none\" stroke=\"black\" points=\"160,-140 160,-161 260,-161 260,-140 160,-140\"/>\n<text text-anchor=\"start\" x=\"163\" y=\"-146.8\" font-family=\"Times,serif\" font-size=\"14.00\">Scenario Key</text>\n</g>\n<!-- Fact&#45;&gt;Scenario -->\n<g id=\"edge2\" class=\"edge\">\n<title>Fact:Scenario Key&#45;&gt;Scenario:Scenario Key</title>\n<path fill=\"none\" stroke=\"black\" d=\"M109,-150C127.4,-150 134.38,-150 148.85,-150\"/>\n<polygon fill=\"black\" stroke=\"black\" points=\"149,-153.5 159,-150 149,-146.5 149,-153.5\"/>\n</g>\n<!-- Date -->\n<g id=\"node4\" class=\"node\">\n<title>Date</title>\n<polygon fill=\"none\" stroke=\"black\" points=\"168,-93 168,-114 252,-114 252,-93 168,-93\"/>\n<text text-anchor=\"start\" x=\"191.5\" y=\"-100.8\" font-family=\"Times,serif\" font-weight=\"bold\" font-size=\"14.00\">Date</text>\n<polygon fill=\"none\" stroke=\"black\" points=\"168,-72 168,-93 252,-93 252,-72 168,-72\"/>\n<text text-anchor=\"start\" x=\"171\" y=\"-78.8\" font-family=\"Times,serif\" font-size=\"14.00\">YearPeriod</text>\n</g>\n<!-- Fact&#45;&gt;Date -->\n<g id=\"edge3\" class=\"edge\">\n<title>Fact:YearPeriod&#45;&gt;Date:YearPeriod</title>\n<path fill=\"none\" stroke=\"black\" d=\"M109,-129C138.29,-129 135.21,-92.37 156.91,-83.79\"/>\n<polygon fill=\"black\" stroke=\"black\" points=\"157.76,-87.19 167,-82 156.54,-80.3 157.76,-87.19\"/>\n</g>\n<!-- Industry -->\n<g id=\"node6\" class=\"node\">\n<title>Industry</title>\n<polygon fill=\"none\" stroke=\"black\" points=\"312.5,-127 312.5,-148 387.5,-148 387.5,-127 312.5,-127\"/>\n<text text-anchor=\"start\" x=\"315.5\" y=\"-134.8\" font-family=\"Times,serif\" font-weight=\"bold\" font-size=\"14.00\">Industry</text>\n<polygon fill=\"none\" stroke=\"black\" points=\"312.5,-106 312.5,-127 387.5,-127 387.5,-106 312.5,-106\"/>\n<text text-anchor=\"start\" x=\"315.5\" y=\"-112.8\" font-family=\"Times,serif\" font-size=\"14.00\">ID</text>\n</g>\n<!-- BU&#45;&gt;Industry -->\n<g id=\"edge5\" class=\"edge\">\n<title>BU:Executive_id&#45;&gt;Industry:ID</title>\n<path fill=\"none\" stroke=\"black\" d=\"M260,-218C306.82,-218 267.92,-131.31 301.35,-117.77\"/>\n<polygon fill=\"black\" stroke=\"black\" points=\"302.25,-121.17 311.5,-116 301.05,-114.27 302.25,-121.17\"/>\n</g>\n<!-- Executive -->\n<g id=\"node5\" class=\"node\">\n<title>Executive</title>\n<polygon fill=\"none\" stroke=\"black\" points=\"169,-25 169,-46 251,-46 251,-25 169,-25\"/>\n<text text-anchor=\"start\" x=\"172\" y=\"-32.8\" font-family=\"Times,serif\" font-weight=\"bold\" font-size=\"14.00\">Executive</text>\n<polygon fill=\"none\" stroke=\"black\" points=\"169,-4 169,-25 251,-25 251,-4 169,-4\"/>\n<text text-anchor=\"start\" x=\"172\" y=\"-10.8\" font-family=\"Times,serif\" font-size=\"14.00\">ID</text>\n</g>\n<!-- Executive&#45;&gt;Industry -->\n<g id=\"edge4\" class=\"edge\">\n<title>Executive:ID&#45;&gt;Industry:ID</title>\n<path fill=\"none\" stroke=\"black\" d=\"M262.15,-15.6C295.45,-27.56 268,-102.79 301.58,-114.48\"/>\n<polygon fill=\"black\" stroke=\"black\" points=\"262.42,-12.1 252,-14 261.33,-19.02 262.42,-12.1\"/>\n<polygon fill=\"black\" stroke=\"black\" points=\"301.08,-117.94 311.5,-116 302.15,-111.02 301.08,-117.94\"/>\n</g>\n</g>\n</svg>\n",
                        "text/plain": "<graphviz.graphs.Digraph at 0x7fc998f58a30>"
                    },
                    "metadata": {}
                }
            ],
            "execution_count": 9,
            "metadata": {
                "jupyter": {
                    "outputs_hidden": false,
                    "source_hidden": false
                },
                "nteract": {
                    "transient": {
                        "deleting": false
                    }
                }
            },
            "id": "367133b9-dee3-49f4-be81-1c27bc1e1f24"
        }, {
            "cell_type": "markdown",
            "source": ["As we see, PowerBI autodetection missed many relationships. Morevoer, two of auto-detected relationships are semantically incorrect:\n", "\n", "* Executive[ID]->Industry[ID]\n", "* BU[Executive_id]->Industry[ID]"],
            "metadata": {
                "nteract": {
                    "transient": {
                        "deleting": false
                    }
                }
            },
            "id": "93d771b6-1142-4b6f-964a-62c0b1cda5fc"
        }, {
            "cell_type": "markdown",
            "source": ["Get rid of incorrectly identified relationships. First, print out the relationships as a table:"],
            "metadata": {
                "nteract": {
                    "transient": {
                        "deleting": false
                    }
                }
            },
            "id": "3217bd8b-54bb-42b2-950d-8ad5a4c87603"
        }, {
            "cell_type": "code",
            "source": ["autodetected"],
            "outputs": [{
                    "output_type": "display_data",
                    "data": {
                        "application/vnd.livy.statement-meta+json": {
                            "spark_pool": null,
                            "session_id": "a32763e8-955f-4644-a1ca-b314213819d2",
                            "statement_id": 17,
                            "state": "finished",
                            "livy_statement_state": "available",
                            "queued_time": "2023-09-06T04:01:52.8244019Z",
                            "session_start_time": null,
                            "execution_start_time": "2023-09-06T04:01:53.161146Z",
                            "execution_finish_time": "2023-09-06T04:01:53.5453215Z",
                            "spark_jobs": {
                                "numbers": {
                                    "FAILED": 0,
                                    "RUNNING": 0,
                                    "SUCCEEDED": 0,
                                    "UNKNOWN": 0
                                },
                                "jobs": [],
                                "limit": 20,
                                "rule": "ALL_DESC"
                            },
                            "parent_msg_id": "4506bfed-2959-4ca0-9c67-e6ac7973aaca"
                        },
                        "text/plain": "StatementMeta(, a32763e8-955f-4644-a1ca-b314213819d2, 17, Finished, Available)"
                    },
                    "metadata": {}
                }, {
                    "output_type": "execute_result",
                    "execution_count": 31,
                    "data": {
                        "text/plain": "  Multiplicity From Table   From Column  To Table     To Column\n0          m:1       Fact        BU Key        BU        BU Key\n1          m:1       Fact  Scenario Key  Scenario  Scenario Key\n2          m:1       Fact    YearPeriod      Date    YearPeriod\n3          1:1  Executive            ID  Industry            ID\n4          m:1         BU  Executive_id  Industry            ID",
                        "text/html": "<div>\n<style scoped>\n    .dataframe tbody tr th:only-of-type {\n        vertical-align: middle;\n    }\n\n    .dataframe tbody tr th {\n        vertical-align: top;\n    }\n\n    .dataframe thead th {\n        text-align: right;\n    }\n</style>\n<table border=\"1\" class=\"dataframe\">\n  <thead>\n    <tr style=\"text-align: right;\">\n      <th></th>\n      <th>Multiplicity</th>\n      <th>From Table</th>\n      <th>From Column</th>\n      <th>To Table</th>\n      <th>To Column</th>\n    </tr>\n  </thead>\n  <tbody>\n    <tr>\n      <th>0</th>\n      <td>m:1</td>\n      <td>Fact</td>\n      <td>BU Key</td>\n      <td>BU</td>\n      <td>BU Key</td>\n    </tr>\n    <tr>\n      <th>1</th>\n      <td>m:1</td>\n      <td>Fact</td>\n      <td>Scenario Key</td>\n      <td>Scenario</td>\n      <td>Scenario Key</td>\n    </tr>\n    <tr>\n      <th>2</th>\n      <td>m:1</td>\n      <td>Fact</td>\n      <td>YearPeriod</td>\n      <td>Date</td>\n      <td>YearPeriod</td>\n    </tr>\n    <tr>\n      <th>3</th>\n      <td>1:1</td>\n      <td>Executive</td>\n      <td>ID</td>\n      <td>Industry</td>\n      <td>ID</td>\n    </tr>\n    <tr>\n      <th>4</th>\n      <td>m:1</td>\n      <td>BU</td>\n      <td>Executive_id</td>\n      <td>Industry</td>\n      <td>ID</td>\n    </tr>\n  </tbody>\n</table>\n</div>"
                    },
                    "metadata": {}
                }
            ],
            "execution_count": 10,
            "metadata": {
                "jupyter": {
                    "source_hidden": false,
                    "outputs_hidden": false
                },
                "nteract": {
                    "transient": {
                        "deleting": false
                    }
                }
            },
            "id": "396774e2-0d68-4202-8680-7b792cb98b7d"
        }, {
            "cell_type": "markdown",
            "source": ["Incorrect relationships to table _Industry_ appear in rows with index 3 and 4. We can use this information to remove these rows."],
            "metadata": {
                "nteract": {
                    "transient": {
                        "deleting": false
                    }
                }
            },
            "id": "703e2efc-6b41-4cb1-9414-9b4fce351409"
        }, {
            "cell_type": "code",
            "source": ["autodetected.drop(index=[3,4], inplace=True)\n", "autodetected"],
            "outputs": [{
                    "output_type": "display_data",
                    "data": {
                        "application/vnd.livy.statement-meta+json": {
                            "spark_pool": null,
                            "session_id": "a32763e8-955f-4644-a1ca-b314213819d2",
                            "statement_id": 18,
                            "state": "finished",
                            "livy_statement_state": "available",
                            "queued_time": "2023-09-06T04:03:32.3483116Z",
                            "session_start_time": null,
                            "execution_start_time": "2023-09-06T04:03:32.7271858Z",
                            "execution_finish_time": "2023-09-06T04:03:33.0840838Z",
                            "spark_jobs": {
                                "numbers": {
                                    "FAILED": 0,
                                    "RUNNING": 0,
                                    "SUCCEEDED": 0,
                                    "UNKNOWN": 0
                                },
                                "jobs": [],
                                "limit": 20,
                                "rule": "ALL_DESC"
                            },
                            "parent_msg_id": "077b7c5c-ac57-4df0-9c35-4bd9c7bfe9f0"
                        },
                        "text/plain": "StatementMeta(, a32763e8-955f-4644-a1ca-b314213819d2, 18, Finished, Available)"
                    },
                    "metadata": {}
                }, {
                    "output_type": "execute_result",
                    "execution_count": 34,
                    "data": {
                        "text/plain": "  Multiplicity From Table   From Column  To Table     To Column\n0          m:1       Fact        BU Key        BU        BU Key\n1          m:1       Fact  Scenario Key  Scenario  Scenario Key\n2          m:1       Fact    YearPeriod      Date    YearPeriod",
                        "text/html": "<div>\n<style scoped>\n    .dataframe tbody tr th:only-of-type {\n        vertical-align: middle;\n    }\n\n    .dataframe tbody tr th {\n        vertical-align: top;\n    }\n\n    .dataframe thead th {\n        text-align: right;\n    }\n</style>\n<table border=\"1\" class=\"dataframe\">\n  <thead>\n    <tr style=\"text-align: right;\">\n      <th></th>\n      <th>Multiplicity</th>\n      <th>From Table</th>\n      <th>From Column</th>\n      <th>To Table</th>\n      <th>To Column</th>\n    </tr>\n  </thead>\n  <tbody>\n    <tr>\n      <th>0</th>\n      <td>m:1</td>\n      <td>Fact</td>\n      <td>BU Key</td>\n      <td>BU</td>\n      <td>BU Key</td>\n    </tr>\n    <tr>\n      <th>1</th>\n      <td>m:1</td>\n      <td>Fact</td>\n      <td>Scenario Key</td>\n      <td>Scenario</td>\n      <td>Scenario Key</td>\n    </tr>\n    <tr>\n      <th>2</th>\n      <td>m:1</td>\n      <td>Fact</td>\n      <td>YearPeriod</td>\n      <td>Date</td>\n      <td>YearPeriod</td>\n    </tr>\n  </tbody>\n</table>\n</div>"
                    },
                    "metadata": {}
                }
            ],
            "execution_count": 11,
            "metadata": {
                "jupyter": {
                    "outputs_hidden": false,
                    "source_hidden": false
                },
                "nteract": {
                    "transient": {
                        "deleting": false
                    }
                }
            },
            "id": "fd6b7dfe-3cd3-4683-a263-6ef82af67b16"
        }, {
            "cell_type": "markdown",
            "source": ["After this cleanup, we have correct, but incomplete relationships, as the visualization with _plot_relationship_metadata_ shows:"],
            "metadata": {
                "nteract": {
                    "transient": {
                        "deleting": false
                    }
                }
            },
            "id": "efa32241-ffd9-4291-9073-a811122756af"
        }, {
            "cell_type": "code",
            "source": ["plot_relationship_metadata(autodetected)"],
            "outputs": [{
                    "output_type": "display_data",
                    "data": {
                        "application/vnd.livy.statement-meta+json": {
                            "spark_pool": null,
                            "session_id": "a32763e8-955f-4644-a1ca-b314213819d2",
                            "statement_id": 19,
                            "state": "finished",
                            "livy_statement_state": "available",
                            "queued_time": "2023-09-06T04:04:03.0599242Z",
                            "session_start_time": null,
                            "execution_start_time": "2023-09-06T04:04:03.4105395Z",
                            "execution_finish_time": "2023-09-06T04:04:03.7356737Z",
                            "spark_jobs": {
                                "numbers": {
                                    "FAILED": 0,
                                    "RUNNING": 0,
                                    "SUCCEEDED": 0,
                                    "UNKNOWN": 0
                                },
                                "jobs": [],
                                "limit": 20,
                                "rule": "ALL_DESC"
                            },
                            "parent_msg_id": "fe5b931c-5ee0-4722-9063-b4674a772072"
                        },
                        "text/plain": "StatementMeta(, a32763e8-955f-4644-a1ca-b314213819d2, 19, Finished, Available)"
                    },
                    "metadata": {}
                }, {
                    "output_type": "execute_result",
                    "execution_count": 37,
                    "data": {
                        "image/svg+xml": "<?xml version=\"1.0\" encoding=\"UTF-8\" standalone=\"no\"?>\n<!DOCTYPE svg PUBLIC \"-//W3C//DTD SVG 1.1//EN\"\n \"http://www.w3.org/Graphics/SVG/1.1/DTD/svg11.dtd\">\n<!-- Generated by graphviz version 2.50.0 (20220708.1628)\n -->\n<!-- Pages: 1 -->\n<svg width=\"276pt\" height=\"194pt\"\n viewBox=\"0.00 0.00 276.00 194.00\" xmlns=\"http://www.w3.org/2000/svg\" xmlns:xlink=\"http://www.w3.org/1999/xlink\">\n<g id=\"graph0\" class=\"graph\" transform=\"scale(1 1) rotate(0) translate(4 190)\">\n<polygon fill=\"white\" stroke=\"transparent\" points=\"-4,4 -4,-190 272,-190 272,4 -4,4\"/>\n<!-- Fact -->\n<g id=\"node1\" class=\"node\">\n<title>Fact</title>\n<polygon fill=\"none\" stroke=\"black\" points=\"8,-114 8,-135 108,-135 108,-114 8,-114\"/>\n<text text-anchor=\"start\" x=\"41\" y=\"-121.8\" font-family=\"Times,serif\" font-weight=\"bold\" font-size=\"14.00\">Fact</text>\n<polygon fill=\"none\" stroke=\"black\" points=\"8,-93 8,-114 108,-114 108,-93 8,-93\"/>\n<text text-anchor=\"start\" x=\"11\" y=\"-99.8\" font-family=\"Times,serif\" font-size=\"14.00\">BU Key</text>\n<polygon fill=\"none\" stroke=\"black\" points=\"8,-72 8,-93 108,-93 108,-72 8,-72\"/>\n<text text-anchor=\"start\" x=\"11\" y=\"-78.8\" font-family=\"Times,serif\" font-size=\"14.00\">Scenario Key</text>\n<polygon fill=\"none\" stroke=\"black\" points=\"8,-51 8,-72 108,-72 108,-51 8,-51\"/>\n<text text-anchor=\"start\" x=\"11\" y=\"-57.8\" font-family=\"Times,serif\" font-size=\"14.00\">YearPeriod</text>\n</g>\n<!-- BU -->\n<g id=\"node2\" class=\"node\">\n<title>BU</title>\n<polygon fill=\"none\" stroke=\"black\" points=\"180,-161 180,-182 240,-182 240,-161 180,-161\"/>\n<text text-anchor=\"start\" x=\"197.5\" y=\"-168.8\" font-family=\"Times,serif\" font-weight=\"bold\" font-size=\"14.00\">BU</text>\n<polygon fill=\"none\" stroke=\"black\" points=\"180,-140 180,-161 240,-161 240,-140 180,-140\"/>\n<text text-anchor=\"start\" x=\"183\" y=\"-146.8\" font-family=\"Times,serif\" font-size=\"14.00\">BU Key</text>\n</g>\n<!-- Fact&#45;&gt;BU -->\n<g id=\"edge1\" class=\"edge\">\n<title>Fact:BU Key&#45;&gt;BU:BU Key</title>\n<path fill=\"none\" stroke=\"black\" d=\"M109,-104C142.45,-104 142.25,-141.13 168.86,-148.67\"/>\n<polygon fill=\"black\" stroke=\"black\" points=\"168.63,-152.17 179,-150 169.54,-145.23 168.63,-152.17\"/>\n</g>\n<!-- Scenario -->\n<g id=\"node3\" class=\"node\">\n<title>Scenario</title>\n<polygon fill=\"none\" stroke=\"black\" points=\"160,-93 160,-114 260,-114 260,-93 160,-93\"/>\n<text text-anchor=\"start\" x=\"175.5\" y=\"-100.8\" font-family=\"Times,serif\" font-weight=\"bold\" font-size=\"14.00\">Scenario</text>\n<polygon fill=\"none\" stroke=\"black\" points=\"160,-72 160,-93 260,-93 260,-72 160,-72\"/>\n<text text-anchor=\"start\" x=\"163\" y=\"-78.8\" font-family=\"Times,serif\" font-size=\"14.00\">Scenario Key</text>\n</g>\n<!-- Fact&#45;&gt;Scenario -->\n<g id=\"edge2\" class=\"edge\">\n<title>Fact:Scenario Key&#45;&gt;Scenario:Scenario Key</title>\n<path fill=\"none\" stroke=\"black\" d=\"M109,-82C127.4,-82 134.38,-82 148.85,-82\"/>\n<polygon fill=\"black\" stroke=\"black\" points=\"149,-85.5 159,-82 149,-78.5 149,-85.5\"/>\n</g>\n<!-- Date -->\n<g id=\"node4\" class=\"node\">\n<title>Date</title>\n<polygon fill=\"none\" stroke=\"black\" points=\"168,-25 168,-46 252,-46 252,-25 168,-25\"/>\n<text text-anchor=\"start\" x=\"191.5\" y=\"-32.8\" font-family=\"Times,serif\" font-weight=\"bold\" font-size=\"14.00\">Date</text>\n<polygon fill=\"none\" stroke=\"black\" points=\"168,-4 168,-25 252,-25 252,-4 168,-4\"/>\n<text text-anchor=\"start\" x=\"171\" y=\"-10.8\" font-family=\"Times,serif\" font-size=\"14.00\">YearPeriod</text>\n</g>\n<!-- Fact&#45;&gt;Date -->\n<g id=\"edge3\" class=\"edge\">\n<title>Fact:YearPeriod&#45;&gt;Date:YearPeriod</title>\n<path fill=\"none\" stroke=\"black\" d=\"M109,-61C138.29,-61 135.21,-24.37 156.91,-15.79\"/>\n<polygon fill=\"black\" stroke=\"black\" points=\"157.76,-19.19 167,-14 156.54,-12.3 157.76,-19.19\"/>\n</g>\n</g>\n</svg>\n",
                        "text/plain": "<graphviz.graphs.Digraph at 0x7fc998f58d00>"
                    },
                    "metadata": {}
                }
            ],
            "execution_count": 12,
            "metadata": {
                "jupyter": {
                    "outputs_hidden": false,
                    "source_hidden": false
                },
                "nteract": {
                    "transient": {
                        "deleting": false
                    }
                }
            },
            "id": "69553cb1-6db0-4143-9730-879ef893bc6a"
        }, {
            "cell_type": "markdown",
            "source": ["With SemPy's _list_tables_ and _read_table_ functions, load all the tables from the dataset:"],
            "metadata": {
                "nteract": {
                    "transient": {
                        "deleting": false
                    }
                }
            },
            "id": "439da925-794c-4b33-b4e1-b2b94d61b3b1"
        }, {
            "cell_type": "code",
            "source": ["tables = {table: fabric.read_table(dataset, table) for table in fabric.list_tables(dataset)['Name']}\n", "\n", "tables.keys()"],
            "outputs": [{
                    "output_type": "display_data",
                    "data": {
                        "application/vnd.livy.statement-meta+json": {
                            "spark_pool": null,
                            "session_id": "a32763e8-955f-4644-a1ca-b314213819d2",
                            "statement_id": 21,
                            "state": "finished",
                            "livy_statement_state": "available",
                            "queued_time": "2023-09-06T04:05:34.0590031Z",
                            "session_start_time": null,
                            "execution_start_time": "2023-09-06T04:05:34.388343Z",
                            "execution_finish_time": "2023-09-06T04:05:49.0458273Z",
                            "spark_jobs": {
                                "numbers": {
                                    "FAILED": 0,
                                    "RUNNING": 0,
                                    "SUCCEEDED": 0,
                                    "UNKNOWN": 0
                                },
                                "jobs": [],
                                "limit": 20,
                                "rule": "ALL_DESC"
                            },
                            "parent_msg_id": "858c119a-31f4-4547-b12d-30f7bbc944ce"
                        },
                        "text/plain": "StatementMeta(, a32763e8-955f-4644-a1ca-b314213819d2, 21, Finished, Available)"
                    },
                    "metadata": {}
                }, {
                    "output_type": "execute_result",
                    "execution_count": 43,
                    "data": {
                        "text/plain": "dict_keys(['Fact', 'BU', 'Date', 'Scenario', 'Product', 'Customer', 'Industry', 'Executive', 'State'])"
                    },
                    "metadata": {}
                }
            ],
            "execution_count": 14,
            "metadata": {
                "jupyter": {
                    "outputs_hidden": false,
                    "source_hidden": false
                },
                "nteract": {
                    "transient": {
                        "deleting": false
                    }
                }
            },
            "id": "b040e059-1548-4c6f-b240-97877fa5503b"
        }, {
            "cell_type": "markdown",
            "source": ["Find relationships between tables using _find_relationships_ and review log output to get some insights into how this function works:"],
            "metadata": {
                "nteract": {
                    "transient": {
                        "deleting": false
                    }
                }
            },
            "id": "9e720d97-1753-4bcb-8696-b53bde4a1a0e"
        }, {
            "cell_type": "code",
            "source": ["suggested_relationships_all = find_relationships(\n", "    tables,\n", "    name_similarity_threshold=0.7,\n", "    coverage_threshold=0.7,\n", "    verbose=2\n", ")"],
            "outputs": [{
                    "output_type": "display_data",
                    "data": {
                        "application/vnd.livy.statement-meta+json": {
                            "spark_pool": null,
                            "session_id": "a32763e8-955f-4644-a1ca-b314213819d2",
                            "statement_id": 23,
                            "state": "finished",
                            "livy_statement_state": "available",
                            "queued_time": "2023-09-06T04:07:33.2810065Z",
                            "session_start_time": null,
                            "execution_start_time": "2023-09-06T04:07:33.8621935Z",
                            "execution_finish_time": "2023-09-06T04:07:34.200877Z",
                            "spark_jobs": {
                                "numbers": {
                                    "FAILED": 0,
                                    "RUNNING": 0,
                                    "SUCCEEDED": 0,
                                    "UNKNOWN": 0
                                },
                                "jobs": [],
                                "limit": 20,
                                "rule": "ALL_DESC"
                            },
                            "parent_msg_id": "6405c91b-18b2-4583-8d05-311970bd2bda"
                        },
                        "text/plain": "StatementMeta(, a32763e8-955f-4644-a1ca-b314213819d2, 23, Finished, Available)"
                    },
                    "metadata": {}
                }, {
                    "output_type": "stream",
                    "name": "stdout",
                    "text": ["Searching for relationships between tables Fact and BU\n  Columns BU Key and BU Key\n  Columns BU Key and BU\n    Detected BU Key->BU Key coverage: (1.0, 0.15853658536585366)\nSearching for relationships between tables Fact and Date\n  Columns YearPeriod and YearPeriod\n  Columns YearPeriod and Period\n    Detected YearPeriod->YearPeriod coverage: (1.0, 0.19047619047619047)\nSearching for relationships between tables Fact and Scenario\n  Columns Scenario Key and Scenario Key\n  Columns Scenario Key and Scenario\n    Detected Scenario Key->Scenario Key coverage: (1.0, 1.0)\nSearching for relationships between tables Fact and Product\n  Columns Product Key and Product Key\n  Columns Product Key and Product\n    Detected Product Key->Product Key coverage: (0.8571428571428571, 1.0)\nSearching for relationships between tables Fact and Customer\n  Columns Customer Key and Customer\n  Columns Customer Key and Name\n    Detected Customer Key->Customer coverage: (0.7666666666666667, 0.21100917431192662)\nSearching for relationships between tables Fact and Industry\nSearching for relationships between tables Fact and Executive\nSearching for relationships between tables Fact and State\nSearching for relationships between tables BU and Date\nSearching for relationships between tables BU and Scenario\nSearching for relationships between tables BU and Product\nSearching for relationships between tables BU and Customer\nSearching for relationships between tables BU and Industry\nSearching for relationships between tables BU and Executive\n  Columns Executive_id and ID\n  Columns Executive_id and Name\n    Detected Executive_id->ID coverage: (1.0, 0.8888888888888888)\nSearching for relationships between tables BU and State\nSearching for relationships between tables Date and Scenario\nSearching for relationships between tables Date and Product\nSearching for relationships between tables Date and Customer\nSearching for relationships between tables Date and Industry\nSearching for relationships between tables Date and Executive\nSearching for relationships between tables Date and State\nSearching for relationships between tables Scenario and Product\nSearching for relationships between tables Scenario and Customer\nSearching for relationships between tables Scenario and Industry\nSearching for relationships between tables Scenario and Executive\nSearching for relationships between tables Scenario and State\nSearching for relationships between tables Product and Customer\nSearching for relationships between tables Product and Industry\nSearching for relationships between tables Product and Executive\nSearching for relationships between tables Product and State\nSearching for relationships between tables Customer and Industry\n  Columns Industry ID and ID\n  Columns Industry ID and Industry\n    Detected Industry ID->ID coverage: (0.96875, 0.9117647058823529)\nSearching for relationships between tables Customer and Executive\nSearching for relationships between tables Customer and State\n  Columns State and StateCode\n  Columns State and State\n    Detected State->StateCode coverage: (0.8918918918918919, 0.6470588235294118)\nSearching for relationships between tables Industry and Executive\n  Columns Image and Img\nSearching for relationships between tables Industry and State\nSearching for relationships between tables Executive and State\n"]
                }
            ],
            "execution_count": 16,
            "metadata": {
                "jupyter": {
                    "outputs_hidden": false,
                    "source_hidden": false
                },
                "nteract": {
                    "transient": {
                        "deleting": false
                    }
                }
            },
            "id": "92b0b4a7-2213-4dab-b6e5-129d41d43571"
        }, {
            "cell_type": "markdown",
            "source": ["Visualize newly discovered relationships:"],
            "metadata": {
                "nteract": {
                    "transient": {
                        "deleting": false
                    }
                }
            },
            "id": "78f9d440-6441-4fcc-adab-0e2e9663f2d7"
        }, {
            "cell_type": "code",
            "source": ["plot_relationship_metadata(suggested_relationships_all)"],
            "outputs": [{
                    "output_type": "display_data",
                    "data": {
                        "application/vnd.livy.statement-meta+json": {
                            "spark_pool": null,
                            "session_id": "a32763e8-955f-4644-a1ca-b314213819d2",
                            "statement_id": 24,
                            "state": "finished",
                            "livy_statement_state": "available",
                            "queued_time": "2023-09-06T04:08:17.5365942Z",
                            "session_start_time": null,
                            "execution_start_time": "2023-09-06T04:08:17.9333434Z",
                            "execution_finish_time": "2023-09-06T04:08:18.270116Z",
                            "spark_jobs": {
                                "numbers": {
                                    "FAILED": 0,
                                    "RUNNING": 0,
                                    "SUCCEEDED": 0,
                                    "UNKNOWN": 0
                                },
                                "jobs": [],
                                "limit": 20,
                                "rule": "ALL_DESC"
                            },
                            "parent_msg_id": "0c1c6d93-e0b8-4300-80d8-e1acab29ffda"
                        },
                        "text/plain": "StatementMeta(, a32763e8-955f-4644-a1ca-b314213819d2, 24, Finished, Available)"
                    },
                    "metadata": {}
                }, {
                    "output_type": "execute_result",
                    "execution_count": 52,
                    "data": {
                        "image/svg+xml": "<?xml version=\"1.0\" encoding=\"UTF-8\" standalone=\"no\"?>\n<!DOCTYPE svg PUBLIC \"-//W3C//DTD SVG 1.1//EN\"\n \"http://www.w3.org/Graphics/SVG/1.1/DTD/svg11.dtd\">\n<!-- Generated by graphviz version 2.50.0 (20220708.1628)\n -->\n<!-- Pages: 1 -->\n<svg width=\"417pt\" height=\"394pt\"\n viewBox=\"0.00 0.00 417.00 393.50\" xmlns=\"http://www.w3.org/2000/svg\" xmlns:xlink=\"http://www.w3.org/1999/xlink\">\n<g id=\"graph0\" class=\"graph\" transform=\"scale(1 1) rotate(0) translate(4 389.5)\">\n<polygon fill=\"white\" stroke=\"transparent\" points=\"-4,4 -4,-389.5 413,-389.5 413,4 -4,4\"/>\n<!-- Fact -->\n<g id=\"node1\" class=\"node\">\n<title>Fact</title>\n<polygon fill=\"none\" stroke=\"black\" points=\"8.5,-203 8.5,-224 115.5,-224 115.5,-203 8.5,-203\"/>\n<text text-anchor=\"start\" x=\"45\" y=\"-210.8\" font-family=\"Times,serif\" font-weight=\"bold\" font-size=\"14.00\">Fact</text>\n<polygon fill=\"none\" stroke=\"black\" points=\"8.5,-182 8.5,-203 115.5,-203 115.5,-182 8.5,-182\"/>\n<text text-anchor=\"start\" x=\"11.5\" y=\"-188.8\" font-family=\"Times,serif\" font-size=\"14.00\">BU Key</text>\n<polygon fill=\"none\" stroke=\"black\" points=\"8.5,-161 8.5,-182 115.5,-182 115.5,-161 8.5,-161\"/>\n<text text-anchor=\"start\" x=\"11.5\" y=\"-167.8\" font-family=\"Times,serif\" font-size=\"14.00\">Customer Key</text>\n<polygon fill=\"none\" stroke=\"black\" points=\"8.5,-140 8.5,-161 115.5,-161 115.5,-140 8.5,-140\"/>\n<text text-anchor=\"start\" x=\"11.5\" y=\"-146.8\" font-family=\"Times,serif\" font-size=\"14.00\">Product Key</text>\n<polygon fill=\"none\" stroke=\"black\" points=\"8.5,-119 8.5,-140 115.5,-140 115.5,-119 8.5,-119\"/>\n<text text-anchor=\"start\" x=\"11.5\" y=\"-125.8\" font-family=\"Times,serif\" font-size=\"14.00\">Scenario Key</text>\n<polygon fill=\"none\" stroke=\"black\" points=\"8.5,-98 8.5,-119 115.5,-119 115.5,-98 8.5,-98\"/>\n<text text-anchor=\"start\" x=\"11.5\" y=\"-104.8\" font-family=\"Times,serif\" font-size=\"14.00\">YearPeriod</text>\n</g>\n<!-- BU -->\n<g id=\"node2\" class=\"node\">\n<title>BU</title>\n<polygon fill=\"none\" stroke=\"black\" points=\"169,-360 169,-381 266,-381 266,-360 169,-360\"/>\n<text text-anchor=\"start\" x=\"205\" y=\"-367.8\" font-family=\"Times,serif\" font-weight=\"bold\" font-size=\"14.00\">BU</text>\n<polygon fill=\"none\" stroke=\"black\" points=\"169,-339 169,-360 266,-360 266,-339 169,-339\"/>\n<text text-anchor=\"start\" x=\"172\" y=\"-345.8\" font-family=\"Times,serif\" font-size=\"14.00\">BU Key</text>\n<polygon fill=\"none\" stroke=\"black\" points=\"169,-318 169,-339 266,-339 266,-318 169,-318\"/>\n<text text-anchor=\"start\" x=\"172\" y=\"-324.8\" font-family=\"Times,serif\" font-size=\"14.00\">Executive_id</text>\n</g>\n<!-- Fact&#45;&gt;BU -->\n<g id=\"edge1\" class=\"edge\">\n<title>Fact:BU Key&#45;&gt;BU:BU Key</title>\n<path fill=\"none\" stroke=\"black\" d=\"M116.5,-193C185.66,-193 104.49,-332.98 157.8,-347.74\"/>\n<polygon fill=\"black\" stroke=\"black\" points=\"157.65,-351.25 168,-349 158.5,-344.3 157.65,-351.25\"/>\n</g>\n<!-- Date -->\n<g id=\"node3\" class=\"node\">\n<title>Date</title>\n<polygon fill=\"none\" stroke=\"black\" points=\"175,-25 175,-46 259,-46 259,-25 175,-25\"/>\n<text text-anchor=\"start\" x=\"198.5\" y=\"-32.8\" font-family=\"Times,serif\" font-weight=\"bold\" font-size=\"14.00\">Date</text>\n<polygon fill=\"none\" stroke=\"black\" points=\"175,-4 175,-25 259,-25 259,-4 175,-4\"/>\n<text text-anchor=\"start\" x=\"178\" y=\"-10.8\" font-family=\"Times,serif\" font-size=\"14.00\">YearPeriod</text>\n</g>\n<!-- Fact&#45;&gt;Date -->\n<g id=\"edge2\" class=\"edge\">\n<title>Fact:YearPeriod&#45;&gt;Date:YearPeriod</title>\n<path fill=\"none\" stroke=\"black\" d=\"M116.5,-108C161.65,-108 130.8,-28.11 164.07,-15.63\"/>\n<polygon fill=\"black\" stroke=\"black\" points=\"164.7,-19.08 174,-14 163.56,-12.17 164.7,-19.08\"/>\n</g>\n<!-- Scenario -->\n<g id=\"node4\" class=\"node\">\n<title>Scenario</title>\n<polygon fill=\"none\" stroke=\"black\" points=\"167,-93 167,-114 267,-114 267,-93 167,-93\"/>\n<text text-anchor=\"start\" x=\"182.5\" y=\"-100.8\" font-family=\"Times,serif\" font-weight=\"bold\" font-size=\"14.00\">Scenario</text>\n<polygon fill=\"none\" stroke=\"black\" points=\"167,-72 167,-93 267,-93 267,-72 167,-72\"/>\n<text text-anchor=\"start\" x=\"170\" y=\"-78.8\" font-family=\"Times,serif\" font-size=\"14.00\">Scenario Key</text>\n</g>\n<!-- Fact&#45;&gt;Scenario -->\n<g id=\"edge3\" class=\"edge\">\n<title>Fact:Scenario Key&#45;&gt;Scenario:Scenario Key</title>\n<path fill=\"none\" stroke=\"black\" d=\"M116.5,-129C142.81,-129 137.9,-93.66 155.91,-84.27\"/>\n<polygon fill=\"black\" stroke=\"black\" points=\"157.01,-87.61 166,-82 155.48,-80.78 157.01,-87.61\"/>\n</g>\n<!-- Product -->\n<g id=\"node5\" class=\"node\">\n<title>Product</title>\n<polygon fill=\"none\" stroke=\"black\" points=\"170,-161 170,-182 264,-182 264,-161 170,-161\"/>\n<text text-anchor=\"start\" x=\"185.5\" y=\"-168.8\" font-family=\"Times,serif\" font-weight=\"bold\" font-size=\"14.00\">Product</text>\n<polygon fill=\"none\" stroke=\"black\" points=\"170,-140 170,-161 264,-161 264,-140 170,-140\"/>\n<text text-anchor=\"start\" x=\"173\" y=\"-146.8\" font-family=\"Times,serif\" font-size=\"14.00\">Product Key</text>\n</g>\n<!-- Fact&#45;&gt;Product -->\n<g id=\"edge4\" class=\"edge\">\n<title>Fact:Product Key&#45;&gt;Product:Product Key</title>\n<path fill=\"none\" stroke=\"black\" d=\"M116.5,-150C136.01,-150 143.28,-150 158.77,-150\"/>\n<polygon fill=\"black\" stroke=\"black\" points=\"159,-153.5 169,-150 159,-146.5 159,-153.5\"/>\n</g>\n<!-- Customer -->\n<g id=\"node6\" class=\"node\">\n<title>Customer</title>\n<polygon fill=\"none\" stroke=\"black\" points=\"173,-271 173,-292 261,-292 261,-271 173,-271\"/>\n<text text-anchor=\"start\" x=\"178\" y=\"-278.8\" font-family=\"Times,serif\" font-weight=\"bold\" font-size=\"14.00\">Customer</text>\n<polygon fill=\"none\" stroke=\"black\" points=\"173,-250 173,-271 261,-271 261,-250 173,-250\"/>\n<text text-anchor=\"start\" x=\"176\" y=\"-256.8\" font-family=\"Times,serif\" font-size=\"14.00\">Customer</text>\n<polygon fill=\"none\" stroke=\"black\" points=\"173,-229 173,-250 261,-250 261,-229 173,-229\"/>\n<text text-anchor=\"start\" x=\"176\" y=\"-235.8\" font-family=\"Times,serif\" font-size=\"14.00\">Industry ID</text>\n<polygon fill=\"none\" stroke=\"black\" points=\"173,-208 173,-229 261,-229 261,-208 173,-208\"/>\n<text text-anchor=\"start\" x=\"176\" y=\"-214.8\" font-family=\"Times,serif\" font-size=\"14.00\">State</text>\n</g>\n<!-- Fact&#45;&gt;Customer -->\n<g id=\"edge5\" class=\"edge\">\n<title>Fact:Customer Key&#45;&gt;Customer:Customer</title>\n<path fill=\"none\" stroke=\"black\" d=\"M116.5,-172C159.29,-172 131.01,-247 162.14,-259.3\"/>\n<polygon fill=\"black\" stroke=\"black\" points=\"161.55,-262.75 172,-261 162.74,-255.85 161.55,-262.75\"/>\n</g>\n<!-- Executive -->\n<g id=\"node7\" class=\"node\">\n<title>Executive</title>\n<polygon fill=\"none\" stroke=\"black\" points=\"319,-339 319,-360 401,-360 401,-339 319,-339\"/>\n<text text-anchor=\"start\" x=\"322\" y=\"-346.8\" font-family=\"Times,serif\" font-weight=\"bold\" font-size=\"14.00\">Executive</text>\n<polygon fill=\"none\" stroke=\"black\" points=\"319,-318 319,-339 401,-339 401,-318 319,-318\"/>\n<text text-anchor=\"start\" x=\"322\" y=\"-324.8\" font-family=\"Times,serif\" font-size=\"14.00\">ID</text>\n</g>\n<!-- BU&#45;&gt;Executive -->\n<g id=\"edge6\" class=\"edge\">\n<title>BU:Executive_id&#45;&gt;Executive:ID</title>\n<path fill=\"none\" stroke=\"black\" d=\"M267,-328C285.77,-328 292.88,-328 307.65,-328\"/>\n<polygon fill=\"black\" stroke=\"black\" points=\"308,-331.5 318,-328 308,-324.5 308,-331.5\"/>\n</g>\n<!-- Industry -->\n<g id=\"node8\" class=\"node\">\n<title>Industry</title>\n<polygon fill=\"none\" stroke=\"black\" points=\"323,-260 323,-281 398,-281 398,-260 323,-260\"/>\n<text text-anchor=\"start\" x=\"326\" y=\"-267.8\" font-family=\"Times,serif\" font-weight=\"bold\" font-size=\"14.00\">Industry</text>\n<polygon fill=\"none\" stroke=\"black\" points=\"323,-239 323,-260 398,-260 398,-239 323,-239\"/>\n<text text-anchor=\"start\" x=\"326\" y=\"-245.8\" font-family=\"Times,serif\" font-size=\"14.00\">ID</text>\n</g>\n<!-- Customer&#45;&gt;Industry -->\n<g id=\"edge7\" class=\"edge\">\n<title>Customer:Industry ID&#45;&gt;Industry:ID</title>\n<path fill=\"none\" stroke=\"black\" d=\"M262,-239C285.34,-239 292.95,-246.45 311.99,-248.49\"/>\n<polygon fill=\"black\" stroke=\"black\" points=\"311.83,-251.99 322,-249 312.19,-245 311.83,-251.99\"/>\n</g>\n<!-- State -->\n<g id=\"node9\" class=\"node\">\n<title>State</title>\n<polygon fill=\"none\" stroke=\"black\" points=\"320,-192 320,-213 401,-213 401,-192 320,-192\"/>\n<text text-anchor=\"start\" x=\"339.5\" y=\"-199.8\" font-family=\"Times,serif\" font-weight=\"bold\" font-size=\"14.00\">State</text>\n<polygon fill=\"none\" stroke=\"black\" points=\"320,-171 320,-192 401,-192 401,-171 320,-171\"/>\n<text text-anchor=\"start\" x=\"323\" y=\"-177.8\" font-family=\"Times,serif\" font-size=\"14.00\">StateCode</text>\n</g>\n<!-- Customer&#45;&gt;State -->\n<g id=\"edge8\" class=\"edge\">\n<title>Customer:State&#45;&gt;State:StateCode</title>\n<path fill=\"none\" stroke=\"black\" d=\"M262,-218C288.43,-218 289.12,-189.67 309.12,-182.59\"/>\n<polygon fill=\"black\" stroke=\"black\" points=\"309.68,-186.04 319,-181 308.57,-179.13 309.68,-186.04\"/>\n</g>\n</g>\n</svg>\n",
                        "text/plain": "<graphviz.graphs.Digraph at 0x7fc998e3ebf0>"
                    },
                    "metadata": {}
                }
            ],
            "execution_count": 17,
            "metadata": {
                "jupyter": {
                    "outputs_hidden": false,
                    "source_hidden": false
                },
                "nteract": {
                    "transient": {
                        "deleting": false
                    }
                }
            },
            "id": "e9bb4562-868c-468b-97bb-1e09212f58e3"
        }, {
            "cell_type": "markdown",
            "source": ["SemPy was able to detect all relationships! To limit the search to additional relationships that have not been identified previously, use \"exclude\" parameter:"],
            "metadata": {
                "nteract": {
                    "transient": {
                        "deleting": false
                    }
                }
            },
            "id": "8503bec3-5c4c-4787-8df1-81aba3ea4ca3"
        }, {
            "cell_type": "code",
            "source": ["additional_relationships = find_relationships(\n", "    tables,\n", "    exclude=autodetected,\n", "    name_similarity_threshold=0.7,\n", "    coverage_threshold=0.7\n", ")\n", "\n", "additional_relationships"],
            "outputs": [{
                    "output_type": "display_data",
                    "data": {
                        "application/vnd.livy.statement-meta+json": {
                            "spark_pool": null,
                            "session_id": "a32763e8-955f-4644-a1ca-b314213819d2",
                            "statement_id": 25,
                            "state": "finished",
                            "livy_statement_state": "available",
                            "queued_time": "2023-09-06T04:08:46.4601743Z",
                            "session_start_time": null,
                            "execution_start_time": "2023-09-06T04:08:46.7964957Z",
                            "execution_finish_time": "2023-09-06T04:08:47.115746Z",
                            "spark_jobs": {
                                "numbers": {
                                    "FAILED": 0,
                                    "RUNNING": 0,
                                    "SUCCEEDED": 0,
                                    "UNKNOWN": 0
                                },
                                "jobs": [],
                                "limit": 20,
                                "rule": "ALL_DESC"
                            },
                            "parent_msg_id": "9371b542-aee5-4164-9b43-fdb2261e0968"
                        },
                        "text/plain": "StatementMeta(, a32763e8-955f-4644-a1ca-b314213819d2, 25, Finished, Available)"
                    },
                    "metadata": {}
                }, {
                    "output_type": "execute_result",
                    "execution_count": 55,
                    "data": {
                        "text/plain": "  Multiplicity From Table   From Column   To Table    To Column  \\\n0          m:1       Fact   Product Key    Product  Product Key   \n1          m:1       Fact  Customer Key   Customer     Customer   \n2          m:1         BU  Executive_id  Executive           ID   \n3          m:1   Customer   Industry ID   Industry           ID   \n4          m:1   Customer         State      State    StateCode   \n\n   Coverage From  Coverage To  Null Count From  Null Count To  \\\n0       0.857143     1.000000                0              0   \n1       0.766667     0.211009                0              0   \n2       1.000000     0.888889                0              0   \n3       0.968750     0.911765                0              0   \n4       0.891892     0.647059                0              0   \n\n   Unique Count From  Unique Count To  Row Count From  Row Count To  \n0                  7                6           47646             6  \n1                 90              327           47646           327  \n2                  8                9             164             9  \n3                 32               34             327            34  \n4                 37               51             327            51  ",
                        "text/html": "<div>\n<style scoped>\n    .dataframe tbody tr th:only-of-type {\n        vertical-align: middle;\n    }\n\n    .dataframe tbody tr th {\n        vertical-align: top;\n    }\n\n    .dataframe thead th {\n        text-align: right;\n    }\n</style>\n<table border=\"1\" class=\"dataframe\">\n  <thead>\n    <tr style=\"text-align: right;\">\n      <th></th>\n      <th>Multiplicity</th>\n      <th>From Table</th>\n      <th>From Column</th>\n      <th>To Table</th>\n      <th>To Column</th>\n      <th>Coverage From</th>\n      <th>Coverage To</th>\n      <th>Null Count From</th>\n      <th>Null Count To</th>\n      <th>Unique Count From</th>\n      <th>Unique Count To</th>\n      <th>Row Count From</th>\n      <th>Row Count To</th>\n    </tr>\n  </thead>\n  <tbody>\n    <tr>\n      <th>0</th>\n      <td>m:1</td>\n      <td>Fact</td>\n      <td>Product Key</td>\n      <td>Product</td>\n      <td>Product Key</td>\n      <td>0.857143</td>\n      <td>1.000000</td>\n      <td>0</td>\n      <td>0</td>\n      <td>7</td>\n      <td>6</td>\n      <td>47646</td>\n      <td>6</td>\n    </tr>\n    <tr>\n      <th>1</th>\n      <td>m:1</td>\n      <td>Fact</td>\n      <td>Customer Key</td>\n      <td>Customer</td>\n      <td>Customer</td>\n      <td>0.766667</td>\n      <td>0.211009</td>\n      <td>0</td>\n      <td>0</td>\n      <td>90</td>\n      <td>327</td>\n      <td>47646</td>\n      <td>327</td>\n    </tr>\n    <tr>\n      <th>2</th>\n      <td>m:1</td>\n      <td>BU</td>\n      <td>Executive_id</td>\n      <td>Executive</td>\n      <td>ID</td>\n      <td>1.000000</td>\n      <td>0.888889</td>\n      <td>0</td>\n      <td>0</td>\n      <td>8</td>\n      <td>9</td>\n      <td>164</td>\n      <td>9</td>\n    </tr>\n    <tr>\n      <th>3</th>\n      <td>m:1</td>\n      <td>Customer</td>\n      <td>Industry ID</td>\n      <td>Industry</td>\n      <td>ID</td>\n      <td>0.968750</td>\n      <td>0.911765</td>\n      <td>0</td>\n      <td>0</td>\n      <td>32</td>\n      <td>34</td>\n      <td>327</td>\n      <td>34</td>\n    </tr>\n    <tr>\n      <th>4</th>\n      <td>m:1</td>\n      <td>Customer</td>\n      <td>State</td>\n      <td>State</td>\n      <td>StateCode</td>\n      <td>0.891892</td>\n      <td>0.647059</td>\n      <td>0</td>\n      <td>0</td>\n      <td>37</td>\n      <td>51</td>\n      <td>327</td>\n      <td>51</td>\n    </tr>\n  </tbody>\n</table>\n</div>"
                    },
                    "metadata": {}
                }
            ],
            "execution_count": 18,
            "metadata": {
                "jupyter": {
                    "outputs_hidden": false,
                    "source_hidden": false
                },
                "nteract": {
                    "transient": {
                        "deleting": false
                    }
                }
            },
            "id": "09994bc4-6705-462f-b14c-b9d8cbc85e71"
        }, {
            "cell_type": "markdown",
            "source": ["## Validate data\n", "\n", "In order to validate the relationships, we need to load the data from PowerBI \"Customer Profitability Sample PBIX\" dataset first:"],
            "metadata": {
                "nteract": {
                    "transient": {
                        "deleting": false
                    }
                }
            },
            "id": "2a2e9142-24bf-4c4d-8550-a4f4569f74d3"
        }, {
            "cell_type": "code",
            "source": ["dataset = \"Customer Profitability Sample PBIX\"\n", "tables = {table: fabric.read_table(dataset, table) for table in fabric.list_tables(dataset)['Name']}\n", "\n", "tables.keys()"],
            "outputs": [{
                    "output_type": "display_data",
                    "data": {
                        "application/vnd.livy.statement-meta+json": {
                            "spark_pool": null,
                            "session_id": "a32763e8-955f-4644-a1ca-b314213819d2",
                            "statement_id": 27,
                            "state": "finished",
                            "livy_statement_state": "available",
                            "queued_time": "2023-09-06T04:10:42.125513Z",
                            "session_start_time": null,
                            "execution_start_time": "2023-09-06T04:10:42.4565825Z",
                            "execution_finish_time": "2023-09-06T04:10:50.7280949Z",
                            "spark_jobs": {
                                "numbers": {
                                    "FAILED": 0,
                                    "RUNNING": 0,
                                    "SUCCEEDED": 0,
                                    "UNKNOWN": 0
                                },
                                "jobs": [],
                                "limit": 20,
                                "rule": "ALL_DESC"
                            },
                            "parent_msg_id": "57d1e8c9-cb11-466e-a003-2c0713806848"
                        },
                        "text/plain": "StatementMeta(, a32763e8-955f-4644-a1ca-b314213819d2, 27, Finished, Available)"
                    },
                    "metadata": {}
                }, {
                    "output_type": "execute_result",
                    "execution_count": 61,
                    "data": {
                        "text/plain": "dict_keys(['Fact', 'BU', 'Date', 'Scenario', 'Product', 'Customer', 'Industry', 'Executive', 'State'])"
                    },
                    "metadata": {}
                }
            ],
            "execution_count": 20,
            "metadata": {
                "jupyter": {
                    "outputs_hidden": false,
                    "source_hidden": false
                },
                "nteract": {
                    "transient": {
                        "deleting": false
                    }
                }
            },
            "id": "0221d40a-0431-408c-96be-96a1ae00bf1d"
        }, {
            "cell_type": "markdown",
            "source": ["Once we have the data, we can check for overlap of primary and foreign key values using `list_relationship_violations`. As an argument, we supply the output of `list_relationships` function:"],
            "metadata": {
                "nteract": {
                    "transient": {
                        "deleting": false
                    }
                }
            },
            "id": "21e515b4-a7a7-4586-a4c1-74b9d2759362"
        }, {
            "cell_type": "code",
            "source": ["list_relationship_violations(tables, fabric.list_relationships(dataset))"],
            "outputs": [{
                    "output_type": "display_data",
                    "data": {
                        "application/vnd.livy.statement-meta+json": {
                            "spark_pool": null,
                            "session_id": "a32763e8-955f-4644-a1ca-b314213819d2",
                            "statement_id": 31,
                            "state": "finished",
                            "livy_statement_state": "available",
                            "queued_time": "2023-09-06T04:12:18.5156913Z",
                            "session_start_time": null,
                            "execution_start_time": "2023-09-06T04:12:18.8194498Z",
                            "execution_finish_time": "2023-09-06T04:12:19.1571974Z",
                            "spark_jobs": {
                                "numbers": {
                                    "FAILED": 0,
                                    "RUNNING": 0,
                                    "SUCCEEDED": 0,
                                    "UNKNOWN": 0
                                },
                                "jobs": [],
                                "limit": 20,
                                "rule": "ALL_DESC"
                            },
                            "parent_msg_id": "96ec7ce0-f0e0-46b1-a8bb-516b82d1ee0f"
                        },
                        "text/plain": "StatementMeta(, a32763e8-955f-4644-a1ca-b314213819d2, 31, Finished, Available)"
                    },
                    "metadata": {}
                }, {
                    "output_type": "execute_result",
                    "execution_count": 73,
                    "data": {
                        "text/plain": "  Multiplicity From Table   From Column  To Table    To Column          Type  \\\n0          m:1       Fact  Customer Key  Customer     Customer  partial join   \n1          m:1       Fact   Product Key   Product  Product Key  partial join   \n2          m:1   Customer         State     State    StateCode  partial join   \n3          m:1   Customer   Industry ID  Industry           ID  partial join   \n\n                                                                                                                              Message  \n0  21 out of 90 values in Fact[Customer Key] not present in Customer[Customer]: 1042,1041,1044,1045,1024,1002,1000,1010,1032,1017,...  \n1                                                      1 out of 7 values in Fact[Product Key] not present in Product[Product Key]: 50  \n2                                                 4 out of 37 values in Customer[State] not present in State[StateCode]: ON,MX,MB,NSW  \n3                                                         1 out of 32 values in Customer[Industry ID] not present in Industry[ID]: 31  ",
                        "text/html": "<div>\n<style scoped>\n    .dataframe tbody tr th:only-of-type {\n        vertical-align: middle;\n    }\n\n    .dataframe tbody tr th {\n        vertical-align: top;\n    }\n\n    .dataframe thead th {\n        text-align: right;\n    }\n</style>\n<table border=\"1\" class=\"dataframe\">\n  <thead>\n    <tr style=\"text-align: right;\">\n      <th></th>\n      <th>Multiplicity</th>\n      <th>From Table</th>\n      <th>From Column</th>\n      <th>To Table</th>\n      <th>To Column</th>\n      <th>Type</th>\n      <th>Message</th>\n    </tr>\n  </thead>\n  <tbody>\n    <tr>\n      <th>0</th>\n      <td>m:1</td>\n      <td>Fact</td>\n      <td>Customer Key</td>\n      <td>Customer</td>\n      <td>Customer</td>\n      <td>partial join</td>\n      <td>21 out of 90 values in Fact[Customer Key] not present in Customer[Customer]: 1042,1041,1044,1045,1024,1002,1000,1010,1032,1017,...</td>\n    </tr>\n    <tr>\n      <th>1</th>\n      <td>m:1</td>\n      <td>Fact</td>\n      <td>Product Key</td>\n      <td>Product</td>\n      <td>Product Key</td>\n      <td>partial join</td>\n      <td>1 out of 7 values in Fact[Product Key] not present in Product[Product Key]: 50</td>\n    </tr>\n    <tr>\n      <th>2</th>\n      <td>m:1</td>\n      <td>Customer</td>\n      <td>State</td>\n      <td>State</td>\n      <td>StateCode</td>\n      <td>partial join</td>\n      <td>4 out of 37 values in Customer[State] not present in State[StateCode]: ON,MX,MB,NSW</td>\n    </tr>\n    <tr>\n      <th>3</th>\n      <td>m:1</td>\n      <td>Customer</td>\n      <td>Industry ID</td>\n      <td>Industry</td>\n      <td>ID</td>\n      <td>partial join</td>\n      <td>1 out of 32 values in Customer[Industry ID] not present in Industry[ID]: 31</td>\n    </tr>\n  </tbody>\n</table>\n</div>"
                    },
                    "metadata": {}
                }
            ],
            "execution_count": 24,
            "metadata": {
                "jupyter": {
                    "outputs_hidden": false,
                    "source_hidden": false
                },
                "nteract": {
                    "transient": {
                        "deleting": false
                    }
                }
            },
            "id": "9978abb0-4bce-4048-9da3-a35bb0c6a480"
        }, {
            "cell_type": "markdown",
            "source": ["This provides us interesting insights, such as that  one out of 7 values in Fact[Product Key] is not present in Product[Product Key], and this missing key is 50.\n", "\n", "Exploratory data analysis is an exciting process, and so is data cleaning. There's always something that the data is hiding, depending on how you look at it, what you want to ask, and so on. Semantic Link provides you with new tools that you can use to achieve more with your data. "],
            "metadata": {
                "nteract": {
                    "transient": {
                        "deleting": false
                    }
                }
            },
            "id": "f877d897-c2e7-42e1-ac30-ee00cf4a5da9"
        }, {
            "cell_type": "markdown",
            "source": ["## Next step\n", "\n", "Try using the learned ways of detecting data quality issues on your data and get amazed with the discoveries!"],
            "metadata": {
                "nteract": {
                    "transient": {
                        "deleting": false
                    }
                }
            },
            "id": "188448a4-35b4-4227-84e6-188a5272964a"
        }, {
            "cell_type": "code",
            "source": ["## Related content\n", "\n", "Check out other tutorials for Semantic Link / SemPy:\n", "1. Clean Data with Functional Dependencies\n", "1. Detect Relationships in SYNTHEA dataset\n", "1. Analyze functional dependencies in a Power BI sample dataset\n", "1. Extract and Calculate PowerBI Measures from Jupyter Notebook"],
            "outputs": [],
            "execution_count": null,
            "metadata": {
                "jupyter": {
                    "source_hidden": false,
                    "outputs_hidden": false
                },
                "nteract": {
                    "transient": {
                        "deleting": false
                    }
                }
            },
            "id": "910e4ab8-2932-4b5c-b34f-ee1af626e5ae"
        }
    ],
    "metadata": {
        "kernel_info": {
            "name": "synapse_pyspark"
        },
        "kernelspec": {
            "name": "synapse_pyspark",
            "language": "Python",
            "display_name": "Synapse PySpark"
        },
        "language_info": {
            "name": "python"
        },
        "widgets": {},
        "microsoft": {
            "host": {},
            "language": "python",
            "ms_spell_check": {
                "ms_spell_check_language": "en"
            }
        },
        "nteract": {
            "version": "nteract-front-end@1.0.0"
        },
        "save_output": true,
        "spark_compute": {
            "compute_id": "/trident/default",
            "session_options": {
                "conf": {},
                "enableDebugMode": false
            }
        },
        "notebook_environment": {},
        "synapse_widget": {
            "version": "0.1",
            "state": {}
        },
        "trident": {
            "lakehouse": {
                "default_lakehouse": "f4d39fda-3aba-4a5c-bc7b-888f6db230ed",
                "default_lakehouse_name": "richwydlakehouse2",
                "default_lakehouse_workspace_id": "8f1676df-4d08-40ab-aef2-ac0179501193",
                "known_lakehouses": [{
                        "id": "f4d39fda-3aba-4a5c-bc7b-888f6db230ed"
                    }
                ]
            }
        }
    },
    "nbformat": 4,
    "nbformat_minor": 5
}