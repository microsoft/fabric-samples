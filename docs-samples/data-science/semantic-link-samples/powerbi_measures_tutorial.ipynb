{
    "cells": [{
            "cell_type": "markdown",
            "source": ["# Tutorial: Extract and Calculate PowerBI Measures from Jupyter Notebook\n", "This notebook illustrates how to use SemPy to calculate measures in PowerBI datasets."],
            "metadata": {},
            "id": "2c8b374e-9883-4f6f-9df8-d068ee21d8e5"
        }, {
            "cell_type": "markdown",
            "source": ["### In this tutorial, you learn how to:\n", "- Apply domain knowledge to formulate hypotheses about functional dependencies in a dataset;\n", "- Get familiarized with components of Semantic Link's Python library ([SemPy](https://learn.microsoft.com/en-us/python/api/semantic-link-sempy)) that helps to bridge the gap between AI and BI. These components include:\n", "    - FabricDataFrame - a pandas-like structure enhanced with additional semantic information;\n", "    - Useful functions that allow you to fetch PowerBI datasets, including raw data, configuration and measures."],
            "metadata": {
                "nteract": {
                    "transient": {
                        "deleting": false
                    }
                }
            },
            "id": "33c46a9a-09e8-4109-b9fc-ce6a9083db3f"
        }, {
            "cell_type": "markdown",
            "source": ["### Prerequisites\n", "\n", "* A [Microsoft Fabric subscription](https://learn.microsoft.com/fabric/enterprise/licenses). Or sign up for a free [Microsoft Fabric (Preview) trial](https://learn.microsoft.com/fabric/get-started/fabric-trial).\n", "* Sign in to [Microsoft Fabric](https://fabric.microsoft.com/).\n", "* Go to the Data Science experience in Microsoft Fabric.\n", "* Select **Workspaces** from the left navigation pane to find and select your workspace. This workspace becomes your current workspace.\n", "* Download the _Retail Analysis Sample PBIX.pbix_ dataset from the [fabric-samples GitHub repository](https://github.com/microsoft/fabric-samples/blob/09cb40f1ffe0a7cfec67ec0ba2fcfdc95ba750a8/docs-samples/data-science/datasets/Customer%20Profitability%20Sample.pbix) and upload it to your workspace.\n", "* Open your notebook. You have two options:\n", "    * [Import this notebook into your workspace](https://learn.microsoft.com/en-us/fabric/data-engineering/how-to-use-notebook#import-existing-notebooks). You can import from the Data Science homepage.\n", "    * Alternatively, you can create [a new notebook](https://learn.microsoft.com/fabric/data-engineering/how-to-use-notebook#create-notebooks) to copy/paste code into cells.\n", "* In the Lakehouse explorer section of your notebook, add a new or existing lakehouse to your notebook. For more information on how to add a lakehouse, see [Attach a lakehouse to your notebook](https://learn.microsoft.com/en-us/fabric/data-science/tutorial-data-science-prepare-system#attach-a-lakehouse-to-the-notebooks)."],
            "metadata": {
                "nteract": {
                    "transient": {
                        "deleting": false
                    }
                }
            },
            "id": "060a6d9f-49c6-4840-b843-152379377515"
        }, {
            "cell_type": "markdown",
            "source": ["## Set up the notebook\n", "\n", "In this section, you'll set up a notebook environment with the necessary modules and data.\n", "\n", "First, install `SemPy` from PyPI using pip magic command:"],
            "metadata": {
                "nteract": {
                    "transient": {
                        "deleting": false
                    }
                }
            },
            "id": "f003ff81-c3e0-4f14-9336-6bd21629a860"
        }, {
            "cell_type": "code",
            "source": ["%pip install semantic-link"],
            "outputs": [{
                    "output_type": "display_data",
                    "data": {
                        "application/vnd.livy.statement-meta+json": {
                            "spark_pool": null,
                            "session_id": "8e64bec4-3b6e-4168-8043-e36dc0cc6b75",
                            "statement_id": -1,
                            "state": "finished",
                            "livy_statement_state": "available",
                            "queued_time": "2023-09-13T04:57:55.0673037Z",
                            "session_start_time": null,
                            "execution_start_time": "2023-09-13T04:58:27.016647Z",
                            "execution_finish_time": "2023-09-13T04:58:27.0170173Z",
                            "spark_jobs": {
                                "numbers": {
                                    "FAILED": 0,
                                    "RUNNING": 0,
                                    "SUCCEEDED": 0,
                                    "UNKNOWN": 0
                                },
                                "jobs": [],
                                "limit": 20,
                                "rule": "ALL_DESC"
                            },
                            "parent_msg_id": "a0fb2c96-59ff-42f5-94d8-5974588fe359"
                        },
                        "text/plain": "StatementMeta(, 8e64bec4-3b6e-4168-8043-e36dc0cc6b75, -1, Finished, Available)"
                    },
                    "metadata": {}
                }, {
                    "output_type": "execute_result",
                    "execution_count": 1,
                    "data": {},
                    "metadata": {}
                }, {
                    "output_type": "stream",
                    "name": "stdout",
                    "text": ["Collecting semantic-link\n  Downloading semantic_link-0.3.1-py3-none-any.whl (8.1 kB)\nCollecting semantic-link-functions-phonenumbers==0.3.1\n  Downloading semantic_link_functions_phonenumbers-0.3.1-py3-none-any.whl (4.3 kB)\nCollecting semantic-link-sempy==0.3.1\n  Downloading semantic_link_sempy-0.3.1-py3-none-any.whl (2.8 MB)\n\u001b[2K     \u001b[90m━━━━━━━━━━━━━━━━━━━━━━━━━━━━━━━━━━━━━━━━\u001b[0m \u001b[32m2.8/2.8 MB\u001b[0m \u001b[31m65.9 MB/s\u001b[0m eta \u001b[36m0:00:00\u001b[0ma \u001b[36m0:00:01\u001b[0m\n\u001b[?25hCollecting semantic-link-functions-meteostat==0.3.1\n  Downloading semantic_link_functions_meteostat-0.3.1-py3-none-any.whl (4.5 kB)\nCollecting semantic-link-functions-holidays==0.3.1\n  Downloading semantic_link_functions_holidays-0.3.1-py3-none-any.whl (4.2 kB)\nCollecting semantic-link-functions-validators==0.3.1\n  Downloading semantic_link_functions_validators-0.3.1-py3-none-any.whl (4.7 kB)\nCollecting semantic-link-functions-geopandas==0.3.1\n  Downloading semantic_link_functions_geopandas-0.3.1-py3-none-any.whl (4.0 kB)\nCollecting mapclassify\n  Downloading mapclassify-2.6.0-py3-none-any.whl (40 kB)\n\u001b[2K     \u001b[90m━━━━━━━━━━━━━━━━━━━━━━━━━━━━━━━━━━━━━━━━\u001b[0m \u001b[32m40.8/40.8 kB\u001b[0m \u001b[31m17.5 MB/s\u001b[0m eta \u001b[36m0:00:00\u001b[0m\n\u001b[?25hCollecting folium\n  Downloading folium-0.14.0-py2.py3-none-any.whl (102 kB)\n\u001b[2K     \u001b[90m━━━━━━━━━━━━━━━━━━━━━━━━━━━━━━━━━━━━━━\u001b[0m \u001b[32m102.3/102.3 kB\u001b[0m \u001b[31m56.4 MB/s\u001b[0m eta \u001b[36m0:00:00\u001b[0m\n\u001b[?25hCollecting geopandas\n  Downloading geopandas-0.13.2-py3-none-any.whl (1.1 MB)\n\u001b[2K     \u001b[90m━━━━━━━━━━━━━━━━━━━━━━━━━━━━━━━━━━━━━━━━\u001b[0m \u001b[32m1.1/1.1 MB\u001b[0m \u001b[31m151.6 MB/s\u001b[0m eta \u001b[36m0:00:00\u001b[0m\n\u001b[?25hCollecting holidays\n  Downloading holidays-0.32-py3-none-any.whl (754 kB)\n\u001b[2K     \u001b[90m━━━━━━━━━━━━━━━━━━━━━━━━━━━━━━━━━━━━━\u001b[0m \u001b[32m754.4/754.4 kB\u001b[0m \u001b[31m147.7 MB/s\u001b[0m eta \u001b[36m0:00:00\u001b[0m\n\u001b[?25hCollecting meteostat\n  Downloading meteostat-1.6.5-py3-none-any.whl (31 kB)\nCollecting phonenumbers\n  Downloading phonenumbers-8.13.20-py2.py3-none-any.whl (2.6 MB)\n\u001b[2K     \u001b[90m━━━━━━━━━━━━━━━━━━━━━━━━━━━━━━━━━━━━━━━━\u001b[0m \u001b[32m2.6/2.6 MB\u001b[0m \u001b[31m165.1 MB/s\u001b[0m eta \u001b[36m0:00:00\u001b[0m\n\u001b[?25hCollecting validators\n  Downloading validators-0.22.0-py3-none-any.whl (26 kB)\nCollecting pythonnet==3.0.1\n  Downloading pythonnet-3.0.1-py3-none-any.whl (284 kB)\n\u001b[2K     \u001b[90m━━━━━━━━━━━━━━━━━━━━━━━━━━━━━━━━━━━━━\u001b[0m \u001b[32m284.5/284.5 kB\u001b[0m \u001b[31m101.8 MB/s\u001b[0m eta \u001b[36m0:00:00\u001b[0m\n\u001b[?25hCollecting clr-loader<0.3.0,>=0.2.2\n  Downloading clr_loader-0.2.6-py3-none-any.whl (51 kB)\n\u001b[2K     \u001b[90m━━━━━━━━━━━━━━━━━━━━━━━━━━━━━━━━━━━━━━━━\u001b[0m \u001b[32m51.3/51.3 kB\u001b[0m \u001b[31m27.7 MB/s\u001b[0m eta \u001b[36m0:00:00\u001b[0m\n\u001b[?25hRequirement already satisfied: requests in /home/trusted-service-user/cluster-env/trident_env/lib/python3.10/site-packages (from folium->semantic-link-functions-geopandas==0.3.1->semantic-link) (2.28.2)\nRequirement already satisfied: jinja2>=2.9 in /home/trusted-service-user/cluster-env/trident_env/lib/python3.10/site-packages (from folium->semantic-link-functions-geopandas==0.3.1->semantic-link) (3.1.2)\nRequirement already satisfied: numpy in /home/trusted-service-user/cluster-env/trident_env/lib/python3.10/site-packages (from folium->semantic-link-functions-geopandas==0.3.1->semantic-link) (1.23.5)\nCollecting branca>=0.6.0\n  Downloading branca-0.6.0-py3-none-any.whl (24 kB)\nCollecting shapely>=1.7.1\n  Downloading shapely-2.0.1-cp310-cp310-manylinux_2_17_x86_64.manylinux2014_x86_64.whl (2.3 MB)\n\u001b[2K     \u001b[90m━━━━━━━━━━━━━━━━━━━━━━━━━━━━━━━━━━━━━━━━\u001b[0m \u001b[32m2.3/2.3 MB\u001b[0m \u001b[31m185.9 MB/s\u001b[0m eta \u001b[36m0:00:00\u001b[0m\n\u001b[?25hRequirement already satisfied: pandas>=1.1.0 in /home/trusted-service-user/cluster-env/trident_env/lib/python3.10/site-packages (from geopandas->semantic-link-functions-geopandas==0.3.1->semantic-link) (1.5.3)\nCollecting fiona>=1.8.19\n  Downloading Fiona-1.9.4.post1-cp310-cp310-manylinux_2_17_x86_64.manylinux2014_x86_64.whl (16.4 MB)\n\u001b[2K     \u001b[90m━━━━━━━━━━━━━━━━━━━━━━━━━━━━━━━━━━━━━━━\u001b[0m \u001b[32m16.4/16.4 MB\u001b[0m \u001b[31m132.9 MB/s\u001b[0m eta \u001b[36m0:00:00\u001b[0m00:01\u001b[0m00:01\u001b[0m\n\u001b[?25hCollecting pyproj>=3.0.1\n  Downloading pyproj-3.6.0-cp310-cp310-manylinux_2_17_x86_64.manylinux2014_x86_64.whl (7.9 MB)\n\u001b[2K     \u001b[90m━━━━━━━━━━━━━━━━━━━━━━━━━━━━━━━━━━━━━━━━\u001b[0m \u001b[32m7.9/7.9 MB\u001b[0m \u001b[31m180.5 MB/s\u001b[0m eta \u001b[36m0:00:00\u001b[0m00:01\u001b[0m\n\u001b[?25hRequirement already satisfied: packaging in /home/trusted-service-user/cluster-env/trident_env/lib/python3.10/site-packages (from geopandas->semantic-link-functions-geopandas==0.3.1->semantic-link) (21.3)\nRequirement already satisfied: python-dateutil in /home/trusted-service-user/cluster-env/trident_env/lib/python3.10/site-packages (from holidays->semantic-link-functions-holidays==0.3.1->semantic-link) (2.8.2)\nRequirement already satisfied: scikit-learn in /home/trusted-service-user/cluster-env/trident_env/lib/python3.10/site-packages (from mapclassify->semantic-link-functions-geopandas==0.3.1->semantic-link) (1.2.0)\nRequirement already satisfied: scipy>=1.0 in /home/trusted-service-user/cluster-env/trident_env/lib/python3.10/site-packages (from mapclassify->semantic-link-functions-geopandas==0.3.1->semantic-link) (1.10.1)\nCollecting networkx\n  Downloading networkx-3.1-py3-none-any.whl (2.1 MB)\n\u001b[2K     \u001b[90m━━━━━━━━━━━━━━━━━━━━━━━━━━━━━━━━━━━━━━━━\u001b[0m \u001b[32m2.1/2.1 MB\u001b[0m \u001b[31m179.1 MB/s\u001b[0m eta \u001b[36m0:00:00\u001b[0m\n\u001b[?25hRequirement already satisfied: pytz in /home/trusted-service-user/cluster-env/trident_env/lib/python3.10/site-packages (from meteostat->semantic-link-functions-meteostat==0.3.1->semantic-link) (2022.7.1)\nRequirement already satisfied: cffi>=1.13 in /home/trusted-service-user/cluster-env/trident_env/lib/python3.10/site-packages (from clr-loader<0.3.0,>=0.2.2->pythonnet==3.0.1->semantic-link-sempy==0.3.1->semantic-link) (1.15.1)\nRequirement already satisfied: certifi in /home/trusted-service-user/cluster-env/trident_env/lib/python3.10/site-packages (from fiona>=1.8.19->geopandas->semantic-link-functions-geopandas==0.3.1->semantic-link) (2022.12.7)\nRequirement already satisfied: click~=8.0 in /home/trusted-service-user/cluster-env/trident_env/lib/python3.10/site-packages (from fiona>=1.8.19->geopandas->semantic-link-functions-geopandas==0.3.1->semantic-link) (8.1.3)\nCollecting cligj>=0.5\n  Downloading cligj-0.7.2-py3-none-any.whl (7.1 kB)\nCollecting click-plugins>=1.0\n  Downloading click_plugins-1.1.1-py2.py3-none-any.whl (7.5 kB)\nRequirement already satisfied: attrs>=19.2.0 in /home/trusted-service-user/cluster-env/trident_env/lib/python3.10/site-packages (from fiona>=1.8.19->geopandas->semantic-link-functions-geopandas==0.3.1->semantic-link) (22.2.0)\nRequirement already satisfied: six in /home/trusted-service-user/cluster-env/trident_env/lib/python3.10/site-packages (from fiona>=1.8.19->geopandas->semantic-link-functions-geopandas==0.3.1->semantic-link) (1.16.0)\nRequirement already satisfied: MarkupSafe>=2.0 in /home/trusted-service-user/cluster-env/trident_env/lib/python3.10/site-packages (from jinja2>=2.9->folium->semantic-link-functions-geopandas==0.3.1->semantic-link) (2.1.2)\nRequirement already satisfied: pyparsing!=3.0.5,>=2.0.2 in /home/trusted-service-user/cluster-env/trident_env/lib/python3.10/site-packages (from packaging->geopandas->semantic-link-functions-geopandas==0.3.1->semantic-link) (3.0.9)\nRequirement already satisfied: urllib3<1.27,>=1.21.1 in /home/trusted-service-user/cluster-env/trident_env/lib/python3.10/site-packages (from requests->folium->semantic-link-functions-geopandas==0.3.1->semantic-link) (1.26.14)\nRequirement already satisfied: idna<4,>=2.5 in /home/trusted-service-user/cluster-env/trident_env/lib/python3.10/site-packages (from requests->folium->semantic-link-functions-geopandas==0.3.1->semantic-link) (3.4)\nRequirement already satisfied: charset-normalizer<4,>=2 in /home/trusted-service-user/cluster-env/trident_env/lib/python3.10/site-packages (from requests->folium->semantic-link-functions-geopandas==0.3.1->semantic-link) (2.1.1)\nRequirement already satisfied: threadpoolctl>=2.0.0 in /home/trusted-service-user/cluster-env/trident_env/lib/python3.10/site-packages (from scikit-learn->mapclassify->semantic-link-functions-geopandas==0.3.1->semantic-link) (3.1.0)\nRequirement already satisfied: joblib>=1.1.1 in /home/trusted-service-user/cluster-env/trident_env/lib/python3.10/site-packages (from scikit-learn->mapclassify->semantic-link-functions-geopandas==0.3.1->semantic-link) (1.2.0)\nRequirement already satisfied: pycparser in /home/trusted-service-user/cluster-env/trident_env/lib/python3.10/site-packages (from cffi>=1.13->clr-loader<0.3.0,>=0.2.2->pythonnet==3.0.1->semantic-link-sempy==0.3.1->semantic-link) (2.21)\nInstalling collected packages: phonenumbers, validators, shapely, pyproj, networkx, cligj, click-plugins, holidays, fiona, clr-loader, branca, pythonnet, meteostat, mapclassify, geopandas, folium, semantic-link-sempy, semantic-link-functions-validators, semantic-link-functions-phonenumbers, semantic-link-functions-meteostat, semantic-link-functions-holidays, semantic-link-functions-geopandas, semantic-link\nSuccessfully installed branca-0.6.0 click-plugins-1.1.1 cligj-0.7.2 clr-loader-0.2.6 fiona-1.9.4.post1 folium-0.14.0 geopandas-0.13.2 holidays-0.32 mapclassify-2.6.0 meteostat-1.6.5 networkx-3.1 phonenumbers-8.13.20 pyproj-3.6.0 pythonnet-3.0.1 semantic-link-0.3.1 semantic-link-functions-geopandas-0.3.1 semantic-link-functions-holidays-0.3.1 semantic-link-functions-meteostat-0.3.1 semantic-link-functions-phonenumbers-0.3.1 semantic-link-functions-validators-0.3.1 semantic-link-sempy-0.3.1 shapely-2.0.1 validators-0.22.0\n\n\u001b[1m[\u001b[0m\u001b[34;49mnotice\u001b[0m\u001b[1;39;49m]\u001b[0m\u001b[39;49m A new release of pip is available: \u001b[0m\u001b[31;49m23.0\u001b[0m\u001b[39;49m -> \u001b[0m\u001b[32;49m23.2.1\u001b[0m\n\u001b[1m[\u001b[0m\u001b[34;49mnotice\u001b[0m\u001b[1;39;49m]\u001b[0m\u001b[39;49m To update, run: \u001b[0m\u001b[32;49m/nfs4/pyenv-f9442d8d-84bc-4863-b63b-0a7794d2f95c/bin/python -m pip install --upgrade pip\u001b[0m\nNote: you may need to restart the kernel to use updated packages.\n"]
                }, {
                    "output_type": "execute_result",
                    "execution_count": 1,
                    "data": {},
                    "metadata": {}
                }, {
                    "output_type": "stream",
                    "name": "stdout",
                    "text": ["Warning: PySpark kernel has been restarted to use updated packages.\n\n"]
                }
            ],
            "execution_count": 1,
            "metadata": {
                "jupyter": {
                    "source_hidden": false,
                    "outputs_hidden": false
                },
                "nteract": {
                    "transient": {
                        "deleting": false
                    }
                }
            },
            "id": "450c8f7b-6896-4349-8101-014057015aa8"
        }, {
            "cell_type": "markdown",
            "source": ["Then, perform necessary imports of modules that you'll need later on: "],
            "metadata": {},
            "id": "b2eeffb5-e381-4c0d-93b7-06c94f6e80da"
        }, {
            "cell_type": "code",
            "source": ["import sempy.fabric as fabric"],
            "outputs": [{
                    "output_type": "display_data",
                    "data": {
                        "application/vnd.livy.statement-meta+json": {
                            "spark_pool": null,
                            "session_id": "8e64bec4-3b6e-4168-8043-e36dc0cc6b75",
                            "statement_id": 9,
                            "state": "finished",
                            "livy_statement_state": "available",
                            "queued_time": "2023-09-13T04:57:55.0722053Z",
                            "session_start_time": null,
                            "execution_start_time": "2023-09-13T04:58:32.2489902Z",
                            "execution_finish_time": "2023-09-13T04:58:41.4625155Z",
                            "spark_jobs": {
                                "numbers": {
                                    "FAILED": 0,
                                    "RUNNING": 0,
                                    "SUCCEEDED": 0,
                                    "UNKNOWN": 0
                                },
                                "jobs": [],
                                "limit": 20,
                                "rule": "ALL_DESC"
                            },
                            "parent_msg_id": "17481e20-5e5a-4b21-9639-622dd8098992"
                        },
                        "text/plain": "StatementMeta(, 8e64bec4-3b6e-4168-8043-e36dc0cc6b75, 9, Finished, Available)"
                    },
                    "metadata": {}
                }
            ],
            "execution_count": 2,
            "metadata": {},
            "id": "d07e388f-8496-4914-9784-8724c4ee4053"
        }, {
            "cell_type": "markdown",
            "source": ["We can connect to the PowerBI Workspace. "],
            "metadata": {
                "nteract": {
                    "transient": {
                        "deleting": false
                    }
                }
            },
            "id": "b6be722a-e443-4aac-b6e5-6a133ff82e13"
        }, {
            "cell_type": "code",
            "source": ["fabric.list_datasets()"],
            "outputs": [{
                    "output_type": "display_data",
                    "data": {
                        "application/vnd.livy.statement-meta+json": {
                            "spark_pool": null,
                            "session_id": "8e64bec4-3b6e-4168-8043-e36dc0cc6b75",
                            "statement_id": 10,
                            "state": "finished",
                            "livy_statement_state": "available",
                            "queued_time": "2023-09-13T04:57:55.074389Z",
                            "session_start_time": null,
                            "execution_start_time": "2023-09-13T04:58:41.9584137Z",
                            "execution_finish_time": "2023-09-13T04:58:46.4144013Z",
                            "spark_jobs": {
                                "numbers": {
                                    "FAILED": 0,
                                    "RUNNING": 0,
                                    "SUCCEEDED": 0,
                                    "UNKNOWN": 0
                                },
                                "jobs": [],
                                "limit": 20,
                                "rule": "ALL_DESC"
                            },
                            "parent_msg_id": "31442d74-4527-4c04-94ff-55bb969b5109"
                        },
                        "text/plain": "StatementMeta(, 8e64bec4-3b6e-4168-8043-e36dc0cc6b75, 10, Finished, Available)"
                    },
                    "metadata": {}
                }, {
                    "output_type": "execute_result",
                    "execution_count": 10,
                    "data": {
                        "text/plain": "                    Dataset Name                            Dataset ID  \\\n0  Customer Profitability Sample  5efc976e-272a-4f9d-a20f-8f27f4036428   \n1    Retail Analysis Sample PBIX  52f903b2-aa50-45ea-809d-d47800494464   \n\n    Created Timestamp          Last Update  \n0 2014-07-22 03:50:22  0001-01-01 00:00:00  \n1 2014-05-30 20:16:22  0001-01-01 00:00:00  ",
                        "text/html": "<div>\n<style scoped>\n    .dataframe tbody tr th:only-of-type {\n        vertical-align: middle;\n    }\n\n    .dataframe tbody tr th {\n        vertical-align: top;\n    }\n\n    .dataframe thead th {\n        text-align: right;\n    }\n</style>\n<table border=\"1\" class=\"dataframe\">\n  <thead>\n    <tr style=\"text-align: right;\">\n      <th></th>\n      <th>Dataset Name</th>\n      <th>Dataset ID</th>\n      <th>Created Timestamp</th>\n      <th>Last Update</th>\n    </tr>\n  </thead>\n  <tbody>\n    <tr>\n      <th>0</th>\n      <td>Customer Profitability Sample</td>\n      <td>5efc976e-272a-4f9d-a20f-8f27f4036428</td>\n      <td>2014-07-22 03:50:22</td>\n      <td>0001-01-01 00:00:00</td>\n    </tr>\n    <tr>\n      <th>1</th>\n      <td>Retail Analysis Sample PBIX</td>\n      <td>52f903b2-aa50-45ea-809d-d47800494464</td>\n      <td>2014-05-30 20:16:22</td>\n      <td>0001-01-01 00:00:00</td>\n    </tr>\n  </tbody>\n</table>\n</div>"
                    },
                    "metadata": {}
                }
            ],
            "execution_count": 3,
            "metadata": {
                "jupyter": {
                    "source_hidden": false,
                    "outputs_hidden": false
                },
                "nteract": {
                    "transient": {
                        "deleting": false
                    }
                }
            },
            "id": "ea419824-4ac2-4272-939e-70d3b4181e25"
        }, {
            "cell_type": "markdown",
            "source": ["In this example, we use the Retail Analysis Sample PBIX:"],
            "metadata": {
                "nteract": {
                    "transient": {
                        "deleting": false
                    }
                }
            },
            "id": "8f361492-9b89-4c7b-af83-47b58a84ad7b"
        }, {
            "cell_type": "code",
            "source": ["dataset = \"Retail Analysis Sample PBIX\""],
            "outputs": [{
                    "output_type": "display_data",
                    "data": {
                        "application/vnd.livy.statement-meta+json": {
                            "spark_pool": null,
                            "session_id": "8e64bec4-3b6e-4168-8043-e36dc0cc6b75",
                            "statement_id": 11,
                            "state": "finished",
                            "livy_statement_state": "available",
                            "queued_time": "2023-09-13T04:57:55.0845367Z",
                            "session_start_time": null,
                            "execution_start_time": "2023-09-13T04:58:47.1833369Z",
                            "execution_finish_time": "2023-09-13T04:58:47.591194Z",
                            "spark_jobs": {
                                "numbers": {
                                    "FAILED": 0,
                                    "RUNNING": 0,
                                    "SUCCEEDED": 0,
                                    "UNKNOWN": 0
                                },
                                "jobs": [],
                                "limit": 20,
                                "rule": "ALL_DESC"
                            },
                            "parent_msg_id": "ba4342df-4407-4b98-b6f6-ec00e043b001"
                        },
                        "text/plain": "StatementMeta(, 8e64bec4-3b6e-4168-8043-e36dc0cc6b75, 11, Finished, Available)"
                    },
                    "metadata": {}
                }
            ],
            "execution_count": 4,
            "metadata": {},
            "id": "4d6517ba-7697-491a-b9af-01539b91001f"
        }, {
            "cell_type": "markdown",
            "source": ["## List Workspace Measures"],
            "metadata": {},
            "id": "bc0a8c8d-489e-4156-87c6-666f9fc74e2b"
        }, {
            "cell_type": "markdown",
            "source": ["Start by listing measures in the dataset using SemPy's `list_measures` function as follows:"],
            "metadata": {
                "nteract": {
                    "transient": {
                        "deleting": false
                    }
                }
            },
            "id": "584c8c0d-70b7-47c6-957e-6591299c43a4"
        }, {
            "cell_type": "code",
            "source": ["fabric.list_measures(dataset)"],
            "outputs": [{
                    "output_type": "display_data",
                    "data": {
                        "application/vnd.livy.statement-meta+json": {
                            "spark_pool": null,
                            "session_id": "8e64bec4-3b6e-4168-8043-e36dc0cc6b75",
                            "statement_id": 12,
                            "state": "finished",
                            "livy_statement_state": "available",
                            "queued_time": "2023-09-13T04:57:55.0857749Z",
                            "session_start_time": null,
                            "execution_start_time": "2023-09-13T04:58:48.130724Z",
                            "execution_finish_time": "2023-09-13T04:58:49.3552208Z",
                            "spark_jobs": {
                                "numbers": {
                                    "FAILED": 0,
                                    "RUNNING": 0,
                                    "SUCCEEDED": 0,
                                    "UNKNOWN": 0
                                },
                                "jobs": [],
                                "limit": 20,
                                "rule": "ALL_DESC"
                            },
                            "parent_msg_id": "705f68f4-ea02-4ddb-bcb4-53a6b245c9bf"
                        },
                        "text/plain": "StatementMeta(, 8e64bec4-3b6e-4168-8043-e36dc0cc6b75, 12, Finished, Available)"
                    },
                    "metadata": {}
                }, {
                    "output_type": "execute_result",
                    "execution_count": 16,
                    "data": {
                        "text/plain": "   Table Name                  Measure Name  \\\n0       Store     Average Selling Area Size   \n1       Store                    New Stores   \n2       Store             New Stores Target   \n3       Store                  Total Stores   \n4       Store              Open Store Count   \n5       Store             Count of OpenDate   \n6       Sales         Regular_Sales_Dollars   \n7       Sales        Markdown_Sales_Dollars   \n8       Sales                    TotalSales   \n9       Sales                  TotalSalesLY   \n10      Sales        Gross Margin This Year   \n11      Sales      Gross Margin This Year %   \n12      Sales        Gross Margin Last Year   \n13      Sales      Gross Margin Last Year %   \n14      Sales           Regular_Sales_Units   \n15      Sales          Markdown_Sales_Units   \n16      Sales                    TotalUnits   \n17      Sales         Total Units Last Year   \n18      Sales         Total Units This Year   \n19      Sales                 Avg $/Unit TY   \n20      Sales                 Avg $/Unit LY   \n21      Sales               Total Sales Var   \n22      Sales             Total Sales Var %   \n23      Sales               Sales Per Sq Ft   \n24      Sales               Last Year Sales   \n25      Sales          Total Sales Variance   \n26      Sales        Total Sales Variance %   \n27      Sales                   Store Count   \n28      Sales            Average Unit Price   \n29      Sales  Average Unit Price Last Year   \n30      Sales                  TotalSalesTY   \n31      Sales               This Year Sales   \n\n                                   Measure Expression Measure Data Type  \n0                          AVERAGE([SellingAreaSize])            Double  \n1   CALCULATE(COUNTA([Store Type]), FILTER(ALL(Sto...             Int64  \n2                                                  14             Int64  \n3                           COUNTA([StoreNumberName])             Int64  \n4                                  COUNTA([OpenDate])             Int64  \n5                           COUNTA('Store'[OpenDate])             Int64  \n6                    SUM([Sum_Regular_Sales_Dollars])            Double  \n7                   SUM([Sum_Markdown_Sales_Dollars])            Double  \n8    [Regular_Sales_Dollars]+[Markdown_Sales_Dollars]            Double  \n9        CALCULATE([TotalSales], Sales[ScenarioID]=2)            Double  \n10  CALCULATE(SUM([Sum_GrossMarginAmount]), Sales[...            Double  \n11            [Gross Margin This Year]/[TotalSalesTY]            Double  \n12  CALCULATE(SUM([Sum_GrossMarginAmount]), Sales[...            Double  \n13            [Gross Margin Last Year]/[TotalSalesLY]            Double  \n14                     SUM([Sum_Regular_Sales_Units])            Double  \n15                    SUM([Sum_Markdown_Sales_Units])            Double  \n16       [Regular_Sales_Units]+[Markdown_Sales_Units]            Double  \n17       CALCULATE([TotalUnits], Sales[ScenarioID]=2)            Double  \n18       CALCULATE([TotalUnits], Sales[ScenarioID]=1)            Double  \n19  IF([Total Units This Year]<>0, [TotalSalesTY]/...            Double  \n20  IF([Total Units Last Year]<>0, [TotalSalesLY]/...            Double  \n21                      [TotalSalesTY]-[TotalSalesLY]            Double  \n22  IF([TotalSalesLY]<>0, [Total Sales Var]/[Total...            Double  \n23  ([TotalSalesTY]/(DISTINCTCOUNT([MonthID])*SUM(...            Double  \n24                                     [TotalSalesLY]            Double  \n25                                  [Total Sales Var]            Double  \n26                                [Total Sales Var %]            Double  \n27                        DISTINCTCOUNT([LocationID])             Int64  \n28                                    [Avg $/Unit TY]            Double  \n29                                    [Avg $/Unit LY]            Double  \n30       CALCULATE([TotalSales], Sales[ScenarioID]=1)            Double  \n31                                     [TotalSalesTY]            Double  ",
                        "text/html": "<div>\n<style scoped>\n    .dataframe tbody tr th:only-of-type {\n        vertical-align: middle;\n    }\n\n    .dataframe tbody tr th {\n        vertical-align: top;\n    }\n\n    .dataframe thead th {\n        text-align: right;\n    }\n</style>\n<table border=\"1\" class=\"dataframe\">\n  <thead>\n    <tr style=\"text-align: right;\">\n      <th></th>\n      <th>Table Name</th>\n      <th>Measure Name</th>\n      <th>Measure Expression</th>\n      <th>Measure Data Type</th>\n    </tr>\n  </thead>\n  <tbody>\n    <tr>\n      <th>0</th>\n      <td>Store</td>\n      <td>Average Selling Area Size</td>\n      <td>AVERAGE([SellingAreaSize])</td>\n      <td>Double</td>\n    </tr>\n    <tr>\n      <th>1</th>\n      <td>Store</td>\n      <td>New Stores</td>\n      <td>CALCULATE(COUNTA([Store Type]), FILTER(ALL(Sto...</td>\n      <td>Int64</td>\n    </tr>\n    <tr>\n      <th>2</th>\n      <td>Store</td>\n      <td>New Stores Target</td>\n      <td>14</td>\n      <td>Int64</td>\n    </tr>\n    <tr>\n      <th>3</th>\n      <td>Store</td>\n      <td>Total Stores</td>\n      <td>COUNTA([StoreNumberName])</td>\n      <td>Int64</td>\n    </tr>\n    <tr>\n      <th>4</th>\n      <td>Store</td>\n      <td>Open Store Count</td>\n      <td>COUNTA([OpenDate])</td>\n      <td>Int64</td>\n    </tr>\n    <tr>\n      <th>5</th>\n      <td>Store</td>\n      <td>Count of OpenDate</td>\n      <td>COUNTA('Store'[OpenDate])</td>\n      <td>Int64</td>\n    </tr>\n    <tr>\n      <th>6</th>\n      <td>Sales</td>\n      <td>Regular_Sales_Dollars</td>\n      <td>SUM([Sum_Regular_Sales_Dollars])</td>\n      <td>Double</td>\n    </tr>\n    <tr>\n      <th>7</th>\n      <td>Sales</td>\n      <td>Markdown_Sales_Dollars</td>\n      <td>SUM([Sum_Markdown_Sales_Dollars])</td>\n      <td>Double</td>\n    </tr>\n    <tr>\n      <th>8</th>\n      <td>Sales</td>\n      <td>TotalSales</td>\n      <td>[Regular_Sales_Dollars]+[Markdown_Sales_Dollars]</td>\n      <td>Double</td>\n    </tr>\n    <tr>\n      <th>9</th>\n      <td>Sales</td>\n      <td>TotalSalesLY</td>\n      <td>CALCULATE([TotalSales], Sales[ScenarioID]=2)</td>\n      <td>Double</td>\n    </tr>\n    <tr>\n      <th>10</th>\n      <td>Sales</td>\n      <td>Gross Margin This Year</td>\n      <td>CALCULATE(SUM([Sum_GrossMarginAmount]), Sales[...</td>\n      <td>Double</td>\n    </tr>\n    <tr>\n      <th>11</th>\n      <td>Sales</td>\n      <td>Gross Margin This Year %</td>\n      <td>[Gross Margin This Year]/[TotalSalesTY]</td>\n      <td>Double</td>\n    </tr>\n    <tr>\n      <th>12</th>\n      <td>Sales</td>\n      <td>Gross Margin Last Year</td>\n      <td>CALCULATE(SUM([Sum_GrossMarginAmount]), Sales[...</td>\n      <td>Double</td>\n    </tr>\n    <tr>\n      <th>13</th>\n      <td>Sales</td>\n      <td>Gross Margin Last Year %</td>\n      <td>[Gross Margin Last Year]/[TotalSalesLY]</td>\n      <td>Double</td>\n    </tr>\n    <tr>\n      <th>14</th>\n      <td>Sales</td>\n      <td>Regular_Sales_Units</td>\n      <td>SUM([Sum_Regular_Sales_Units])</td>\n      <td>Double</td>\n    </tr>\n    <tr>\n      <th>15</th>\n      <td>Sales</td>\n      <td>Markdown_Sales_Units</td>\n      <td>SUM([Sum_Markdown_Sales_Units])</td>\n      <td>Double</td>\n    </tr>\n    <tr>\n      <th>16</th>\n      <td>Sales</td>\n      <td>TotalUnits</td>\n      <td>[Regular_Sales_Units]+[Markdown_Sales_Units]</td>\n      <td>Double</td>\n    </tr>\n    <tr>\n      <th>17</th>\n      <td>Sales</td>\n      <td>Total Units Last Year</td>\n      <td>CALCULATE([TotalUnits], Sales[ScenarioID]=2)</td>\n      <td>Double</td>\n    </tr>\n    <tr>\n      <th>18</th>\n      <td>Sales</td>\n      <td>Total Units This Year</td>\n      <td>CALCULATE([TotalUnits], Sales[ScenarioID]=1)</td>\n      <td>Double</td>\n    </tr>\n    <tr>\n      <th>19</th>\n      <td>Sales</td>\n      <td>Avg $/Unit TY</td>\n      <td>IF([Total Units This Year]&lt;&gt;0, [TotalSalesTY]/...</td>\n      <td>Double</td>\n    </tr>\n    <tr>\n      <th>20</th>\n      <td>Sales</td>\n      <td>Avg $/Unit LY</td>\n      <td>IF([Total Units Last Year]&lt;&gt;0, [TotalSalesLY]/...</td>\n      <td>Double</td>\n    </tr>\n    <tr>\n      <th>21</th>\n      <td>Sales</td>\n      <td>Total Sales Var</td>\n      <td>[TotalSalesTY]-[TotalSalesLY]</td>\n      <td>Double</td>\n    </tr>\n    <tr>\n      <th>22</th>\n      <td>Sales</td>\n      <td>Total Sales Var %</td>\n      <td>IF([TotalSalesLY]&lt;&gt;0, [Total Sales Var]/[Total...</td>\n      <td>Double</td>\n    </tr>\n    <tr>\n      <th>23</th>\n      <td>Sales</td>\n      <td>Sales Per Sq Ft</td>\n      <td>([TotalSalesTY]/(DISTINCTCOUNT([MonthID])*SUM(...</td>\n      <td>Double</td>\n    </tr>\n    <tr>\n      <th>24</th>\n      <td>Sales</td>\n      <td>Last Year Sales</td>\n      <td>[TotalSalesLY]</td>\n      <td>Double</td>\n    </tr>\n    <tr>\n      <th>25</th>\n      <td>Sales</td>\n      <td>Total Sales Variance</td>\n      <td>[Total Sales Var]</td>\n      <td>Double</td>\n    </tr>\n    <tr>\n      <th>26</th>\n      <td>Sales</td>\n      <td>Total Sales Variance %</td>\n      <td>[Total Sales Var %]</td>\n      <td>Double</td>\n    </tr>\n    <tr>\n      <th>27</th>\n      <td>Sales</td>\n      <td>Store Count</td>\n      <td>DISTINCTCOUNT([LocationID])</td>\n      <td>Int64</td>\n    </tr>\n    <tr>\n      <th>28</th>\n      <td>Sales</td>\n      <td>Average Unit Price</td>\n      <td>[Avg $/Unit TY]</td>\n      <td>Double</td>\n    </tr>\n    <tr>\n      <th>29</th>\n      <td>Sales</td>\n      <td>Average Unit Price Last Year</td>\n      <td>[Avg $/Unit LY]</td>\n      <td>Double</td>\n    </tr>\n    <tr>\n      <th>30</th>\n      <td>Sales</td>\n      <td>TotalSalesTY</td>\n      <td>CALCULATE([TotalSales], Sales[ScenarioID]=1)</td>\n      <td>Double</td>\n    </tr>\n    <tr>\n      <th>31</th>\n      <td>Sales</td>\n      <td>This Year Sales</td>\n      <td>[TotalSalesTY]</td>\n      <td>Double</td>\n    </tr>\n  </tbody>\n</table>\n</div>"
                    },
                    "metadata": {}
                }
            ],
            "execution_count": 5,
            "metadata": {},
            "id": "a6005d93-69f9-4840-98e0-4ca422a21955"
        }, {
            "cell_type": "markdown",
            "source": ["## Evaluate Measures"],
            "metadata": {},
            "id": "7603151d-e46d-4566-86df-55ed348dc343"
        }, {
            "cell_type": "markdown",
            "source": ["### Evaluate a Raw Measure"],
            "metadata": {},
            "id": "5b47723b-ab02-4c22-85fc-9c986b19c1f1"
        }, {
            "cell_type": "markdown",
            "source": ["In the code below, we use SemPy's function `evaluate_measure` to calculate preconfigured measure that is called \"Average Selling Area Size\" (its underlying formula can be seen in the output of the cell above) by supplying its name in `measure` parameter:"],
            "metadata": {
                "nteract": {
                    "transient": {
                        "deleting": false
                    }
                }
            },
            "id": "7ba90eae-c410-4443-88bb-8ecaebbad241"
        }, {
            "cell_type": "code",
            "source": ["fabric.evaluate_measure(dataset, measure=\"Average Selling Area Size\")"],
            "outputs": [{
                    "output_type": "display_data",
                    "data": {
                        "application/vnd.livy.statement-meta+json": {
                            "spark_pool": null,
                            "session_id": "8e64bec4-3b6e-4168-8043-e36dc0cc6b75",
                            "statement_id": 13,
                            "state": "finished",
                            "livy_statement_state": "available",
                            "queued_time": "2023-09-13T04:57:55.0941403Z",
                            "session_start_time": null,
                            "execution_start_time": "2023-09-13T04:58:49.9830205Z",
                            "execution_finish_time": "2023-09-13T04:58:57.6883056Z",
                            "spark_jobs": {
                                "numbers": {
                                    "FAILED": 0,
                                    "RUNNING": 0,
                                    "SUCCEEDED": 0,
                                    "UNKNOWN": 0
                                },
                                "jobs": [],
                                "limit": 20,
                                "rule": "ALL_DESC"
                            },
                            "parent_msg_id": "aabc15cb-f342-4f4a-9820-09bced8313d1"
                        },
                        "text/plain": "StatementMeta(, 8e64bec4-3b6e-4168-8043-e36dc0cc6b75, 13, Finished, Available)"
                    },
                    "metadata": {}
                }, {
                    "output_type": "execute_result",
                    "execution_count": 19,
                    "data": {
                        "text/plain": "   Average Selling Area Size\n0               24326.923077",
                        "text/html": "<div>\n<style scoped>\n    .dataframe tbody tr th:only-of-type {\n        vertical-align: middle;\n    }\n\n    .dataframe tbody tr th {\n        vertical-align: top;\n    }\n\n    .dataframe thead th {\n        text-align: right;\n    }\n</style>\n<table border=\"1\" class=\"dataframe\">\n  <thead>\n    <tr style=\"text-align: right;\">\n      <th></th>\n      <th>Average Selling Area Size</th>\n    </tr>\n  </thead>\n  <tbody>\n    <tr>\n      <th>0</th>\n      <td>24326.923077</td>\n    </tr>\n  </tbody>\n</table>\n</div>"
                    },
                    "metadata": {}
                }
            ],
            "execution_count": 6,
            "metadata": {
                "tags": []
            },
            "id": "05136b6c-55fc-434a-9cc8-b396f5fdfe2e"
        }, {
            "cell_type": "markdown",
            "source": ["### Evaluate a Measure with GroupBy Columns"],
            "metadata": {},
            "id": "2bda16fa-50df-4f10-956a-6908429bbf7d"
        }, {
            "cell_type": "markdown",
            "source": ["We can group the measure output by certain columns by supplying additional parameter `groupby_columns`:"],
            "metadata": {},
            "id": "7e61706b-875e-441f-9c6b-b452ebc275da"
        }, {
            "cell_type": "code",
            "source": ["fabric.evaluate_measure(dataset, measure=\"Average Selling Area Size\", groupby_columns=[(\"Store\", \"Chain\"), (\"Store\", \"DistrictName\")])"],
            "outputs": [{
                    "output_type": "display_data",
                    "data": {
                        "application/vnd.livy.statement-meta+json": {
                            "spark_pool": null,
                            "session_id": "8e64bec4-3b6e-4168-8043-e36dc0cc6b75",
                            "statement_id": 14,
                            "state": "finished",
                            "livy_statement_state": "available",
                            "queued_time": "2023-09-13T04:57:55.0950338Z",
                            "session_start_time": null,
                            "execution_start_time": "2023-09-13T04:58:58.1543537Z",
                            "execution_finish_time": "2023-09-13T04:58:58.7018937Z",
                            "spark_jobs": {
                                "numbers": {
                                    "FAILED": 0,
                                    "RUNNING": 0,
                                    "SUCCEEDED": 0,
                                    "UNKNOWN": 0
                                },
                                "jobs": [],
                                "limit": 20,
                                "rule": "ALL_DESC"
                            },
                            "parent_msg_id": "775a9a26-eb38-42be-9e90-14d9b95a8399"
                        },
                        "text/plain": "StatementMeta(, 8e64bec4-3b6e-4168-8043-e36dc0cc6b75, 14, Finished, Available)"
                    },
                    "metadata": {}
                }, {
                    "output_type": "execute_result",
                    "execution_count": 22,
                    "data": {
                        "text/plain": "             Chain      DistrictName  Average Selling Area Size\n0  Fashions Direct  FD - District #1               43888.888889\n1  Fashions Direct  FD - District #2               47777.777778\n2  Fashions Direct  FD - District #3                    50000.0\n3  Fashions Direct  FD - District #4                    50500.0\n4         Lindseys  LI - District #1               10384.615385\n5         Lindseys  LI - District #2               10909.090909\n6         Lindseys  LI - District #3               10333.333333\n7         Lindseys  LI - District #4                    12500.0\n8         Lindseys  LI - District #5               11785.714286",
                        "text/html": "<div>\n<style scoped>\n    .dataframe tbody tr th:only-of-type {\n        vertical-align: middle;\n    }\n\n    .dataframe tbody tr th {\n        vertical-align: top;\n    }\n\n    .dataframe thead th {\n        text-align: right;\n    }\n</style>\n<table border=\"1\" class=\"dataframe\">\n  <thead>\n    <tr style=\"text-align: right;\">\n      <th></th>\n      <th>Chain</th>\n      <th>DistrictName</th>\n      <th>Average Selling Area Size</th>\n    </tr>\n  </thead>\n  <tbody>\n    <tr>\n      <th>0</th>\n      <td>Fashions Direct</td>\n      <td>FD - District #1</td>\n      <td>43888.888889</td>\n    </tr>\n    <tr>\n      <th>1</th>\n      <td>Fashions Direct</td>\n      <td>FD - District #2</td>\n      <td>47777.777778</td>\n    </tr>\n    <tr>\n      <th>2</th>\n      <td>Fashions Direct</td>\n      <td>FD - District #3</td>\n      <td>50000.0</td>\n    </tr>\n    <tr>\n      <th>3</th>\n      <td>Fashions Direct</td>\n      <td>FD - District #4</td>\n      <td>50500.0</td>\n    </tr>\n    <tr>\n      <th>4</th>\n      <td>Lindseys</td>\n      <td>LI - District #1</td>\n      <td>10384.615385</td>\n    </tr>\n    <tr>\n      <th>5</th>\n      <td>Lindseys</td>\n      <td>LI - District #2</td>\n      <td>10909.090909</td>\n    </tr>\n    <tr>\n      <th>6</th>\n      <td>Lindseys</td>\n      <td>LI - District #3</td>\n      <td>10333.333333</td>\n    </tr>\n    <tr>\n      <th>7</th>\n      <td>Lindseys</td>\n      <td>LI - District #4</td>\n      <td>12500.0</td>\n    </tr>\n    <tr>\n      <th>8</th>\n      <td>Lindseys</td>\n      <td>LI - District #5</td>\n      <td>11785.714286</td>\n    </tr>\n  </tbody>\n</table>\n</div>"
                    },
                    "metadata": {}
                }
            ],
            "execution_count": 7,
            "metadata": {},
            "id": "205e6dd8-54cf-4617-9d4f-ab28c93686f5"
        }, {
            "cell_type": "markdown",
            "source": ["In the above example we group by columns \"Chain\" and \"DistrictName\" of \"Store\" table in the dataset."],
            "metadata": {
                "nteract": {
                    "transient": {
                        "deleting": false
                    }
                }
            },
            "id": "be431292-a299-4dd5-a441-d4cc09b2c897"
        }, {
            "cell_type": "markdown",
            "source": ["### Evaluate a Measure with Filters"],
            "metadata": {},
            "id": "5ca11d56-7017-40f8-b53e-f6a143631d27"
        }, {
            "cell_type": "markdown",
            "source": ["We can also add filters to specify specific column values the result should be in. Parameter `filters` helps with that and can be used as follows:"],
            "metadata": {},
            "id": "30187436-6023-40c8-9660-ad59b6ad0fff"
        }, {
            "cell_type": "code",
            "source": ["fabric.evaluate_measure(dataset, \\\n", "                        measure=\"Total Units Last Year\", \\\n", "                        groupby_columns=[(\"Store\", \"Territory\")], \\\n", "                        filters={(\"Store\", \"Territory\"): [\"PA\", \"TN\", \"VA\"], (\"Store\", \"Chain\"): [\"Lindseys\"]})"],
            "outputs": [{
                    "output_type": "display_data",
                    "data": {
                        "application/vnd.livy.statement-meta+json": {
                            "spark_pool": null,
                            "session_id": "8e64bec4-3b6e-4168-8043-e36dc0cc6b75",
                            "statement_id": 19,
                            "state": "finished",
                            "livy_statement_state": "available",
                            "queued_time": "2023-09-13T05:05:48.1179007Z",
                            "session_start_time": null,
                            "execution_start_time": "2023-09-13T05:05:48.5791944Z",
                            "execution_finish_time": "2023-09-13T05:05:49.1043809Z",
                            "spark_jobs": {
                                "numbers": {
                                    "FAILED": 0,
                                    "RUNNING": 0,
                                    "SUCCEEDED": 0,
                                    "UNKNOWN": 0
                                },
                                "jobs": [],
                                "limit": 20,
                                "rule": "ALL_DESC"
                            },
                            "parent_msg_id": "cd98d4f4-0eff-454d-ae0f-e8c83127df47"
                        },
                        "text/plain": "StatementMeta(, 8e64bec4-3b6e-4168-8043-e36dc0cc6b75, 19, Finished, Available)"
                    },
                    "metadata": {}
                }, {
                    "output_type": "execute_result",
                    "execution_count": 37,
                    "data": {
                        "text/plain": "  Territory  Total Units Last Year\n0        PA                  11309\n1        TN                  81663\n2        VA                 160863",
                        "text/html": "<div>\n<style scoped>\n    .dataframe tbody tr th:only-of-type {\n        vertical-align: middle;\n    }\n\n    .dataframe tbody tr th {\n        vertical-align: top;\n    }\n\n    .dataframe thead th {\n        text-align: right;\n    }\n</style>\n<table border=\"1\" class=\"dataframe\">\n  <thead>\n    <tr style=\"text-align: right;\">\n      <th></th>\n      <th>Territory</th>\n      <th>Total Units Last Year</th>\n    </tr>\n  </thead>\n  <tbody>\n    <tr>\n      <th>0</th>\n      <td>PA</td>\n      <td>11309</td>\n    </tr>\n    <tr>\n      <th>1</th>\n      <td>TN</td>\n      <td>81663</td>\n    </tr>\n    <tr>\n      <th>2</th>\n      <td>VA</td>\n      <td>160863</td>\n    </tr>\n  </tbody>\n</table>\n</div>"
                    },
                    "metadata": {}
                }
            ],
            "execution_count": 12,
            "metadata": {},
            "id": "709bf6b1-04a5-402d-9906-6883ba7c1071"
        }, {
            "cell_type": "markdown",
            "source": ["Note that \"Store\" is the name of the table, \"Territory\" is the name of the column\", and \"PA\" is one of the values which are allowed by the filter."],
            "metadata": {
                "nteract": {
                    "transient": {
                        "deleting": false
                    }
                }
            },
            "id": "b7625ffd-447d-48f3-8052-5ab27585b23a"
        }, {
            "cell_type": "markdown",
            "source": ["### Across Multiple Tables"],
            "metadata": {},
            "id": "b6bdd2ca-967c-45f5-ab7b-5de13acd05af"
        }, {
            "cell_type": "markdown",
            "source": ["These groups can span multiple tables in the dataset."],
            "metadata": {},
            "id": "4addf34c-0108-44b6-9d99-74236a8bd87d"
        }, {
            "cell_type": "code",
            "source": ["fabric.evaluate_measure(dataset, measure=\"Total Units Last Year\", groupby_columns=[(\"Store\", \"Territory\"), (\"Sales\", \"ItemID\")])"],
            "outputs": [{
                    "output_type": "display_data",
                    "data": {
                        "application/vnd.livy.statement-meta+json": {
                            "spark_pool": null,
                            "session_id": "8e64bec4-3b6e-4168-8043-e36dc0cc6b75",
                            "statement_id": 16,
                            "state": "finished",
                            "livy_statement_state": "available",
                            "queued_time": "2023-09-13T04:57:55.0968313Z",
                            "session_start_time": null,
                            "execution_start_time": "2023-09-13T04:59:00.1382123Z",
                            "execution_finish_time": "2023-09-13T04:59:32.8552562Z",
                            "spark_jobs": {
                                "numbers": {
                                    "FAILED": 0,
                                    "RUNNING": 0,
                                    "SUCCEEDED": 0,
                                    "UNKNOWN": 0
                                },
                                "jobs": [],
                                "limit": 20,
                                "rule": "ALL_DESC"
                            },
                            "parent_msg_id": "f589e74b-2efb-421d-a77d-0a86382019bd"
                        },
                        "text/plain": "StatementMeta(, 8e64bec4-3b6e-4168-8043-e36dc0cc6b75, 16, Finished, Available)"
                    },
                    "metadata": {}
                }, {
                    "output_type": "execute_result",
                    "execution_count": 28,
                    "data": {
                        "text/plain": "       Territory  ItemID  Total Units Last Year\n0             DE   18049                      1\n1             DE   18069                      1\n2             DE   18079                      1\n3             DE   18085                      1\n4             DE   18087                      3\n...          ...     ...                    ...\n178636        WV  244167                     13\n178637        WV  244223                      4\n178638        WV  244242                      2\n178639        WV  244246                      2\n178640        WV  244277                     14\n\n[178641 rows x 3 columns]",
                        "text/html": "<div>\n<style scoped>\n    .dataframe tbody tr th:only-of-type {\n        vertical-align: middle;\n    }\n\n    .dataframe tbody tr th {\n        vertical-align: top;\n    }\n\n    .dataframe thead th {\n        text-align: right;\n    }\n</style>\n<table border=\"1\" class=\"dataframe\">\n  <thead>\n    <tr style=\"text-align: right;\">\n      <th></th>\n      <th>Territory</th>\n      <th>ItemID</th>\n      <th>Total Units Last Year</th>\n    </tr>\n  </thead>\n  <tbody>\n    <tr>\n      <th>0</th>\n      <td>DE</td>\n      <td>18049</td>\n      <td>1</td>\n    </tr>\n    <tr>\n      <th>1</th>\n      <td>DE</td>\n      <td>18069</td>\n      <td>1</td>\n    </tr>\n    <tr>\n      <th>2</th>\n      <td>DE</td>\n      <td>18079</td>\n      <td>1</td>\n    </tr>\n    <tr>\n      <th>3</th>\n      <td>DE</td>\n      <td>18085</td>\n      <td>1</td>\n    </tr>\n    <tr>\n      <th>4</th>\n      <td>DE</td>\n      <td>18087</td>\n      <td>3</td>\n    </tr>\n    <tr>\n      <th>...</th>\n      <td>...</td>\n      <td>...</td>\n      <td>...</td>\n    </tr>\n    <tr>\n      <th>178636</th>\n      <td>WV</td>\n      <td>244167</td>\n      <td>13</td>\n    </tr>\n    <tr>\n      <th>178637</th>\n      <td>WV</td>\n      <td>244223</td>\n      <td>4</td>\n    </tr>\n    <tr>\n      <th>178638</th>\n      <td>WV</td>\n      <td>244242</td>\n      <td>2</td>\n    </tr>\n    <tr>\n      <th>178639</th>\n      <td>WV</td>\n      <td>244246</td>\n      <td>2</td>\n    </tr>\n    <tr>\n      <th>178640</th>\n      <td>WV</td>\n      <td>244277</td>\n      <td>14</td>\n    </tr>\n  </tbody>\n</table>\n<p>178641 rows × 3 columns</p>\n</div>"
                    },
                    "metadata": {}
                }
            ],
            "execution_count": 9,
            "metadata": {},
            "id": "e8107b17-7a0f-4495-970d-f60b888cebe8"
        }, {
            "cell_type": "markdown",
            "source": ["### Evaluate Multiple Measures"],
            "metadata": {},
            "id": "aaf13224-53bd-4cb4-ab9b-1265f91b18fd"
        }, {
            "cell_type": "markdown",
            "source": ["The function `evaluate_measure` allows you to supply multiple identifies of measures, and output the calculated values in the same dataframe as in the self-explanatory example below:"],
            "metadata": {
                "nteract": {
                    "transient": {
                        "deleting": false
                    }
                }
            },
            "id": "361c00ac-f902-4bc5-bbf2-056df4b43209"
        }, {
            "cell_type": "code",
            "source": ["fabric.evaluate_measure(dataset, measure=[\"Average Selling Area Size\", \"Total Stores\"], groupby_columns=[(\"Store\", \"Chain\"), (\"Store\", \"DistrictName\")])"],
            "outputs": [{
                    "output_type": "display_data",
                    "data": {
                        "application/vnd.livy.statement-meta+json": {
                            "spark_pool": null,
                            "session_id": "8e64bec4-3b6e-4168-8043-e36dc0cc6b75",
                            "statement_id": 17,
                            "state": "finished",
                            "livy_statement_state": "available",
                            "queued_time": "2023-09-13T04:57:55.1011492Z",
                            "session_start_time": null,
                            "execution_start_time": "2023-09-13T04:59:33.3536006Z",
                            "execution_finish_time": "2023-09-13T04:59:33.8287748Z",
                            "spark_jobs": {
                                "numbers": {
                                    "FAILED": 0,
                                    "RUNNING": 0,
                                    "SUCCEEDED": 0,
                                    "UNKNOWN": 0
                                },
                                "jobs": [],
                                "limit": 20,
                                "rule": "ALL_DESC"
                            },
                            "parent_msg_id": "fd2114a4-7654-4b28-93c4-2c11261b3354"
                        },
                        "text/plain": "StatementMeta(, 8e64bec4-3b6e-4168-8043-e36dc0cc6b75, 17, Finished, Available)"
                    },
                    "metadata": {}
                }, {
                    "output_type": "execute_result",
                    "execution_count": 31,
                    "data": {
                        "text/plain": "             Chain      DistrictName  Average Selling Area Size  Total Stores\n0  Fashions Direct  FD - District #1               43888.888889             9\n1  Fashions Direct  FD - District #2               47777.777778             9\n2  Fashions Direct  FD - District #3                    50000.0             9\n3  Fashions Direct  FD - District #4                    50500.0            10\n4         Lindseys  LI - District #1               10384.615385            13\n5         Lindseys  LI - District #2               10909.090909            11\n6         Lindseys  LI - District #3               10333.333333            15\n7         Lindseys  LI - District #4                    12500.0            14\n8         Lindseys  LI - District #5               11785.714286            14",
                        "text/html": "<div>\n<style scoped>\n    .dataframe tbody tr th:only-of-type {\n        vertical-align: middle;\n    }\n\n    .dataframe tbody tr th {\n        vertical-align: top;\n    }\n\n    .dataframe thead th {\n        text-align: right;\n    }\n</style>\n<table border=\"1\" class=\"dataframe\">\n  <thead>\n    <tr style=\"text-align: right;\">\n      <th></th>\n      <th>Chain</th>\n      <th>DistrictName</th>\n      <th>Average Selling Area Size</th>\n      <th>Total Stores</th>\n    </tr>\n  </thead>\n  <tbody>\n    <tr>\n      <th>0</th>\n      <td>Fashions Direct</td>\n      <td>FD - District #1</td>\n      <td>43888.888889</td>\n      <td>9</td>\n    </tr>\n    <tr>\n      <th>1</th>\n      <td>Fashions Direct</td>\n      <td>FD - District #2</td>\n      <td>47777.777778</td>\n      <td>9</td>\n    </tr>\n    <tr>\n      <th>2</th>\n      <td>Fashions Direct</td>\n      <td>FD - District #3</td>\n      <td>50000.0</td>\n      <td>9</td>\n    </tr>\n    <tr>\n      <th>3</th>\n      <td>Fashions Direct</td>\n      <td>FD - District #4</td>\n      <td>50500.0</td>\n      <td>10</td>\n    </tr>\n    <tr>\n      <th>4</th>\n      <td>Lindseys</td>\n      <td>LI - District #1</td>\n      <td>10384.615385</td>\n      <td>13</td>\n    </tr>\n    <tr>\n      <th>5</th>\n      <td>Lindseys</td>\n      <td>LI - District #2</td>\n      <td>10909.090909</td>\n      <td>11</td>\n    </tr>\n    <tr>\n      <th>6</th>\n      <td>Lindseys</td>\n      <td>LI - District #3</td>\n      <td>10333.333333</td>\n      <td>15</td>\n    </tr>\n    <tr>\n      <th>7</th>\n      <td>Lindseys</td>\n      <td>LI - District #4</td>\n      <td>12500.0</td>\n      <td>14</td>\n    </tr>\n    <tr>\n      <th>8</th>\n      <td>Lindseys</td>\n      <td>LI - District #5</td>\n      <td>11785.714286</td>\n      <td>14</td>\n    </tr>\n  </tbody>\n</table>\n</div>"
                    },
                    "metadata": {}
                }
            ],
            "execution_count": 10,
            "metadata": {},
            "id": "a724a024-c57f-497a-a27d-16ecae57d6fb"
        }, {
            "cell_type": "markdown",
            "source": ["## Use XMLA Connector"],
            "metadata": {},
            "id": "5139a35a-b300-47ed-91ac-17eee5cde7ce"
        }, {
            "cell_type": "markdown",
            "source": ["The default dataset client is backed by Power BI's REST APIs. If there are any issues running queries with this client, it is possible to switch the backend to Power BI's XMLA interface using `use_xmla=True`. The SemPy parameters remain the same for measure calculation with XMLA."],
            "metadata": {},
            "id": "1ead6f8f-b3ff-48b6-aae4-d5b84a676a62"
        }, {
            "cell_type": "code",
            "source": ["fabric.evaluate_measure(dataset, \\\n", "                        measure=[\"Average Selling Area Size\", \"Total Stores\"], \\\n", "                        groupby_columns=[(\"Store\", \"Chain\"), (\"Store\", \"DistrictName\")], \\\n", "                        filters={(\"Store\", \"Territory\"): [\"PA\", \"TN\", \"VA\"], (\"Store\", \"Chain\"): [\"Lindseys\"]}, \\\n", "                        use_xmla=True)"],
            "outputs": [{
                    "output_type": "display_data",
                    "data": {
                        "application/vnd.livy.statement-meta+json": {
                            "spark_pool": null,
                            "session_id": "8e64bec4-3b6e-4168-8043-e36dc0cc6b75",
                            "statement_id": 18,
                            "state": "finished",
                            "livy_statement_state": "available",
                            "queued_time": "2023-09-13T04:57:55.1021714Z",
                            "session_start_time": null,
                            "execution_start_time": "2023-09-13T04:59:34.2858375Z",
                            "execution_finish_time": "2023-09-13T04:59:37.267213Z",
                            "spark_jobs": {
                                "numbers": {
                                    "FAILED": 0,
                                    "RUNNING": 0,
                                    "SUCCEEDED": 0,
                                    "UNKNOWN": 0
                                },
                                "jobs": [],
                                "limit": 20,
                                "rule": "ALL_DESC"
                            },
                            "parent_msg_id": "27dcf19d-23ec-4bd2-bf68-a92385cb8515"
                        },
                        "text/plain": "StatementMeta(, 8e64bec4-3b6e-4168-8043-e36dc0cc6b75, 18, Finished, Available)"
                    },
                    "metadata": {}
                }, {
                    "output_type": "execute_result",
                    "execution_count": 34,
                    "data": {
                        "text/plain": "      Chain      DistrictName  Average Selling Area Size  Total Stores\n0  Lindseys  LI - District #2                      11000            10\n1  Lindseys  LI - District #5                      12000             5\n2  Lindseys  LI - District #1                      10000             1",
                        "text/html": "<div>\n<style scoped>\n    .dataframe tbody tr th:only-of-type {\n        vertical-align: middle;\n    }\n\n    .dataframe tbody tr th {\n        vertical-align: top;\n    }\n\n    .dataframe thead th {\n        text-align: right;\n    }\n</style>\n<table border=\"1\" class=\"dataframe\">\n  <thead>\n    <tr style=\"text-align: right;\">\n      <th></th>\n      <th>Chain</th>\n      <th>DistrictName</th>\n      <th>Average Selling Area Size</th>\n      <th>Total Stores</th>\n    </tr>\n  </thead>\n  <tbody>\n    <tr>\n      <th>0</th>\n      <td>Lindseys</td>\n      <td>LI - District #2</td>\n      <td>11000</td>\n      <td>10</td>\n    </tr>\n    <tr>\n      <th>1</th>\n      <td>Lindseys</td>\n      <td>LI - District #5</td>\n      <td>12000</td>\n      <td>5</td>\n    </tr>\n    <tr>\n      <th>2</th>\n      <td>Lindseys</td>\n      <td>LI - District #1</td>\n      <td>10000</td>\n      <td>1</td>\n    </tr>\n  </tbody>\n</table>\n</div>"
                    },
                    "metadata": {}
                }
            ],
            "execution_count": 11,
            "metadata": {},
            "id": "639f90e2-fb11-4548-9963-dcd39e2f0569"
        }, {
            "cell_type": "markdown",
            "source": ["## Next step\n", "\n", "Try using the learned ways of detecting data quality issues on your data and get amazed with the discoveries!"],
            "metadata": {
                "nteract": {
                    "transient": {
                        "deleting": false
                    }
                }
            },
            "id": "715f9c0f-a9c4-4e2f-bb36-ece1b4db46a8"
        }, {
            "cell_type": "markdown",
            "source": ["## Related content\n", "\n", "Check out other tutorials for Semantic Link / SemPy:\n", "1. Analyze Functional Dependencies in a PowerBI Sample Dataset\n", "1. Discover Relationships in SYNTHEA dataset Using Semantic Link\n", "1. Discover Relationships in a PowerBI Dataset Using Semantic Link\n", "1. Clean Data with Functional Dependencies"],
            "metadata": {
                "nteract": {
                    "transient": {
                        "deleting": false
                    }
                }
            },
            "id": "979bd7fa-17e0-4c3b-a247-f3086898fb07"
        }
    ],
    "metadata": {
        "kernel_info": {
            "name": "synapse_pyspark"
        },
        "kernelspec": {
            "name": "synapse_pyspark",
            "language": "Python",
            "display_name": "Synapse PySpark"
        },
        "language_info": {
            "name": "python"
        },
        "widgets": {},
        "microsoft": {
            "language": "python",
            "ms_spell_check": {
                "ms_spell_check_language": "en"
            },
            "host": {}
        },
        "nteract": {
            "version": "nteract-front-end@1.0.0"
        },
        "save_output": true,
        "spark_compute": {
            "compute_id": "/trident/default",
            "session_options": {
                "conf": {},
                "enableDebugMode": false
            }
        },
        "notebook_environment": {},
        "synapse_widget": {
            "version": "0.1",
            "state": {}
        },
        "trident": {
            "lakehouse": {}
        }
    },
    "nbformat": 4,
    "nbformat_minor": 5
}
