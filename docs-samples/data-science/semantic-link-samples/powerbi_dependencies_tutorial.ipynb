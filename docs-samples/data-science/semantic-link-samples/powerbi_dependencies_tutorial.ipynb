{
 "cells": [
  {
   "cell_type": "markdown",
   "id": "4e25b67d-dbbf-486d-a419-5d5503782ff3",
   "metadata": {
    "nteract": {
     "transient": {
      "deleting": false
     }
    }
   },
   "source": [
    "# Tutorial: Analyze Functional Dependencies in a Power BI Sample Dataset\n",
    "\n",
    "In this tutorial, you'll build upon the prior work of a Power BI analyst that's preserved in the form of datasets. Using SemPy in the Fabric data science environment, you'll analyze functional dependencies that exist in columns of a DataFrame. Your analysis will help you discover non-trivial issues with data quality in order to gain more accurate insights.\n"
   ]
  },
  {
   "cell_type": "markdown",
   "id": "d3b7a015-c3b3-408d-964e-6de7dfbc00c6",
   "metadata": {
    "nteract": {
     "transient": {
      "deleting": false
     }
    }
   },
   "source": [
    "### In this tutorial, you learn how to:\n",
    "- Apply domain knowledge to formulate hypotheses about functional dependencies in a dataset;\n",
    "- Get familiarized with components of Semantic Link's Python library ([SemPy](https://learn.microsoft.com/en-us/python/api/semantic-link-sempy)) that supports integration with Power BI and helps to automate data quality analysis. These components include:\n",
    "    - FabricDataFrame - a pandas-like structure enhanced with additional semantic information;\n",
    "    - Useful functions for pulling Power BI datasets from a Fabric workspace into your notebook;\n",
    "    - Useful functions that automate the evaluation of hypothesis about functional dependencies and that identify violations of relationships in your datasets."
   ]
  },
  {
   "cell_type": "markdown",
   "id": "09da28b9-e29e-4351-a871-c84e7244e26c",
   "metadata": {
    "nteract": {
     "transient": {
      "deleting": false
     }
    }
   },
   "source": [
    "### Prerequisites\n",
    "\n",
    "* A [Microsoft Fabric subscription](https://learn.microsoft.com/fabric/enterprise/licenses). Or sign up for a free [Microsoft Fabric (Preview) trial](https://learn.microsoft.com/fabric/get-started/fabric-trial).\n",
    "* Sign in to [Microsoft Fabric](https://fabric.microsoft.com/).\n",
    "* Go to the Data Science experience in Microsoft Fabric.\n",
    "* Select **Workspaces** from the left navigation pane to find and select your workspace. This workspace becomes your current workspace.\n",
    "* Download the _Customer Profitability Sample.pbix_ dataset from the [fabric-samples GitHub repository](https://github.com/microsoft/fabric-samples/blob/09cb40f1ffe0a7cfec67ec0ba2fcfdc95ba750a8/docs-samples/data-science/datasets/Customer%20Profitability%20Sample.pbix) and upload it to your workspace.\n",
    "* Open your notebook. You have two options:\n",
    "    * [Import this notebook into your workspace](https://learn.microsoft.com/en-us/fabric/data-engineering/how-to-use-notebook#import-existing-notebooks). You can import from the Data Science homepage.\n",
    "    * Alternatively, you can create [a new notebook](https://learn.microsoft.com/fabric/data-engineering/how-to-use-notebook#create-notebooks) to copy/paste code into cells.\n",
    "* In the Lakehouse explorer section of your notebook, add a new or existing lakehouse to your notebook. For more information on how to add a lakehouse, see [Attach a lakehouse to your notebook](https://learn.microsoft.com/en-us/fabric/data-science/tutorial-data-science-prepare-system#attach-a-lakehouse-to-the-notebooks)."
   ]
  },
  {
   "cell_type": "markdown",
   "id": "96ba646d-823d-4ef3-a6aa-18f9e57bd06b",
   "metadata": {
    "nteract": {
     "transient": {
      "deleting": false
     }
    }
   },
   "source": [
    "## Set up the notebook\n",
    "\n",
    "In this section, you'll set up a notebook environment with the necessary modules and data.\n",
    "\n",
    "First, install `SemPy` from PyPI using pip magic command:"
   ]
  },
  {
   "cell_type": "code",
   "execution_count": 1,
   "id": "f70db937-387e-47bd-b72d-b2772c80ba74",
   "metadata": {
    "jupyter": {
     "outputs_hidden": false,
     "source_hidden": false
    },
    "nteract": {
     "transient": {
      "deleting": false
     }
    },
    "tags": [
     "fabric_skip_execution"
    ]
   },
   "outputs": [
    {
     "data": {
      "application/vnd.livy.statement-meta+json": {
       "execution_finish_time": "2023-09-13T03:46:54.6583005Z",
       "execution_start_time": "2023-09-13T03:46:54.6581244Z",
       "livy_statement_state": "available",
       "parent_msg_id": "5eefaf59-e8d5-4b52-b511-ae8df3ec7c76",
       "queued_time": "2023-09-13T03:46:21.1314672Z",
       "session_id": "fc14b6c0-dca9-4949-a887-6bf9f5f5e3bc",
       "session_start_time": null,
       "spark_jobs": {
        "jobs": [],
        "limit": 20,
        "numbers": {
         "FAILED": 0,
         "RUNNING": 0,
         "SUCCEEDED": 0,
         "UNKNOWN": 0
        },
        "rule": "ALL_DESC"
       },
       "spark_pool": null,
       "state": "finished",
       "statement_id": -1
      },
      "text/plain": [
       "StatementMeta(, fc14b6c0-dca9-4949-a887-6bf9f5f5e3bc, -1, Finished, Available)"
      ]
     },
     "metadata": {},
     "output_type": "display_data"
    },
    {
     "data": {},
     "execution_count": 1,
     "metadata": {},
     "output_type": "execute_result"
    },
    {
     "name": "stdout",
     "output_type": "stream",
     "text": [
      "Collecting semantic-link\n",
      "  Downloading semantic_link-0.3.1-py3-none-any.whl (8.1 kB)\n",
      "Collecting semantic-link-functions-geopandas==0.3.1\n",
      "  Downloading semantic_link_functions_geopandas-0.3.1-py3-none-any.whl (4.0 kB)\n",
      "Collecting semantic-link-functions-phonenumbers==0.3.1\n",
      "  Downloading semantic_link_functions_phonenumbers-0.3.1-py3-none-any.whl (4.3 kB)\n",
      "Collecting semantic-link-functions-meteostat==0.3.1\n",
      "  Downloading semantic_link_functions_meteostat-0.3.1-py3-none-any.whl (4.5 kB)\n",
      "Collecting semantic-link-functions-holidays==0.3.1\n",
      "  Downloading semantic_link_functions_holidays-0.3.1-py3-none-any.whl (4.2 kB)\n",
      "Collecting semantic-link-sempy==0.3.1\n",
      "  Downloading semantic_link_sempy-0.3.1-py3-none-any.whl (2.8 MB)\n",
      "\u001b[2K     \u001b[90m━━━━━━━━━━━━━━━━━━━━━━━━━━━━━━━━━━━━━━━━\u001b[0m \u001b[32m2.8/2.8 MB\u001b[0m \u001b[31m64.3 MB/s\u001b[0m eta \u001b[36m0:00:00\u001b[0ma \u001b[36m0:00:01\u001b[0m\n",
      "\u001b[?25hCollecting semantic-link-functions-validators==0.3.1\n",
      "  Downloading semantic_link_functions_validators-0.3.1-py3-none-any.whl (4.7 kB)\n",
      "Collecting mapclassify\n",
      "  Downloading mapclassify-2.6.0-py3-none-any.whl (40 kB)\n",
      "\u001b[2K     \u001b[90m━━━━━━━━━━━━━━━━━━━━━━━━━━━━━━━━━━━━━━━━\u001b[0m \u001b[32m40.8/40.8 kB\u001b[0m \u001b[31m20.9 MB/s\u001b[0m eta \u001b[36m0:00:00\u001b[0m\n",
      "\u001b[?25hCollecting folium\n",
      "  Downloading folium-0.14.0-py2.py3-none-any.whl (102 kB)\n",
      "\u001b[2K     \u001b[90m━━━━━━━━━━━━━━━━━━━━━━━━━━━━━━━━━━━━━━\u001b[0m \u001b[32m102.3/102.3 kB\u001b[0m \u001b[31m49.1 MB/s\u001b[0m eta \u001b[36m0:00:00\u001b[0m\n",
      "\u001b[?25hCollecting geopandas\n",
      "  Downloading geopandas-0.13.2-py3-none-any.whl (1.1 MB)\n",
      "\u001b[2K     \u001b[90m━━━━━━━━━━━━━━━━━━━━━━━━━━━━━━━━━━━━━━━━\u001b[0m \u001b[32m1.1/1.1 MB\u001b[0m \u001b[31m158.0 MB/s\u001b[0m eta \u001b[36m0:00:00\u001b[0m\n",
      "\u001b[?25hCollecting holidays\n",
      "  Downloading holidays-0.32-py3-none-any.whl (754 kB)\n",
      "\u001b[2K     \u001b[90m━━━━━━━━━━━━━━━━━━━━━━━━━━━━━━━━━━━━━\u001b[0m \u001b[32m754.4/754.4 kB\u001b[0m \u001b[31m156.1 MB/s\u001b[0m eta \u001b[36m0:00:00\u001b[0m\n",
      "\u001b[?25hCollecting meteostat\n",
      "  Downloading meteostat-1.6.5-py3-none-any.whl (31 kB)\n",
      "Collecting phonenumbers\n",
      "  Downloading phonenumbers-8.13.20-py2.py3-none-any.whl (2.6 MB)\n",
      "\u001b[2K     \u001b[90m━━━━━━━━━━━━━━━━━━━━━━━━━━━━━━━━━━━━━━━━\u001b[0m \u001b[32m2.6/2.6 MB\u001b[0m \u001b[31m179.8 MB/s\u001b[0m eta \u001b[36m0:00:00\u001b[0m\n",
      "\u001b[?25hCollecting validators\n",
      "  Downloading validators-0.22.0-py3-none-any.whl (26 kB)\n",
      "Collecting pythonnet==3.0.1\n",
      "  Downloading pythonnet-3.0.1-py3-none-any.whl (284 kB)\n",
      "\u001b[2K     \u001b[90m━━━━━━━━━━━━━━━━━━━━━━━━━━━━━━━━━━━━━\u001b[0m \u001b[32m284.5/284.5 kB\u001b[0m \u001b[31m109.7 MB/s\u001b[0m eta \u001b[36m0:00:00\u001b[0m\n",
      "\u001b[?25hCollecting clr-loader<0.3.0,>=0.2.2\n",
      "  Downloading clr_loader-0.2.6-py3-none-any.whl (51 kB)\n",
      "\u001b[2K     \u001b[90m━━━━━━━━━━━━━━━━━━━━━━━━━━━━━━━━━━━━━━━━\u001b[0m \u001b[32m51.3/51.3 kB\u001b[0m \u001b[31m18.8 MB/s\u001b[0m eta \u001b[36m0:00:00\u001b[0m\n",
      "\u001b[?25hRequirement already satisfied: numpy in /home/trusted-service-user/cluster-env/trident_env/lib/python3.10/site-packages (from folium->semantic-link-functions-geopandas==0.3.1->semantic-link) (1.23.5)\n",
      "Requirement already satisfied: jinja2>=2.9 in /home/trusted-service-user/cluster-env/trident_env/lib/python3.10/site-packages (from folium->semantic-link-functions-geopandas==0.3.1->semantic-link) (3.1.2)\n",
      "Collecting branca>=0.6.0\n",
      "  Downloading branca-0.6.0-py3-none-any.whl (24 kB)\n",
      "Requirement already satisfied: requests in /home/trusted-service-user/cluster-env/trident_env/lib/python3.10/site-packages (from folium->semantic-link-functions-geopandas==0.3.1->semantic-link) (2.28.2)\n",
      "Requirement already satisfied: pandas>=1.1.0 in /home/trusted-service-user/cluster-env/trident_env/lib/python3.10/site-packages (from geopandas->semantic-link-functions-geopandas==0.3.1->semantic-link) (1.5.3)\n",
      "Requirement already satisfied: packaging in /home/trusted-service-user/cluster-env/trident_env/lib/python3.10/site-packages (from geopandas->semantic-link-functions-geopandas==0.3.1->semantic-link) (21.3)\n",
      "Collecting fiona>=1.8.19\n",
      "  Downloading Fiona-1.9.4.post1-cp310-cp310-manylinux_2_17_x86_64.manylinux2014_x86_64.whl (16.4 MB)\n",
      "\u001b[2K     \u001b[90m━━━━━━━━━━━━━━━━━━━━━━━━━━━━━━━━━━━━━━━\u001b[0m \u001b[32m16.4/16.4 MB\u001b[0m \u001b[31m131.6 MB/s\u001b[0m eta \u001b[36m0:00:00\u001b[0m00:01\u001b[0m00:01\u001b[0m\n",
      "\u001b[?25hCollecting shapely>=1.7.1\n",
      "  Downloading shapely-2.0.1-cp310-cp310-manylinux_2_17_x86_64.manylinux2014_x86_64.whl (2.3 MB)\n",
      "\u001b[2K     \u001b[90m━━━━━━━━━━━━━━━━━━━━━━━━━━━━━━━━━━━━━━━━\u001b[0m \u001b[32m2.3/2.3 MB\u001b[0m \u001b[31m153.9 MB/s\u001b[0m eta \u001b[36m0:00:00\u001b[0m\n",
      "\u001b[?25hCollecting pyproj>=3.0.1\n",
      "  Downloading pyproj-3.6.0-cp310-cp310-manylinux_2_17_x86_64.manylinux2014_x86_64.whl (7.9 MB)\n",
      "\u001b[2K     \u001b[90m━━━━━━━━━━━━━━━━━━━━━━━━━━━━━━━━━━━━━━━━\u001b[0m \u001b[32m7.9/7.9 MB\u001b[0m \u001b[31m164.9 MB/s\u001b[0m eta \u001b[36m0:00:00\u001b[0m00:01\u001b[0m\n",
      "\u001b[?25hRequirement already satisfied: python-dateutil in /home/trusted-service-user/cluster-env/trident_env/lib/python3.10/site-packages (from holidays->semantic-link-functions-holidays==0.3.1->semantic-link) (2.8.2)\n",
      "Requirement already satisfied: scipy>=1.0 in /home/trusted-service-user/cluster-env/trident_env/lib/python3.10/site-packages (from mapclassify->semantic-link-functions-geopandas==0.3.1->semantic-link) (1.10.1)\n",
      "Requirement already satisfied: scikit-learn in /home/trusted-service-user/cluster-env/trident_env/lib/python3.10/site-packages (from mapclassify->semantic-link-functions-geopandas==0.3.1->semantic-link) (1.2.0)\n",
      "Collecting networkx\n",
      "  Downloading networkx-3.1-py3-none-any.whl (2.1 MB)\n",
      "\u001b[2K     \u001b[90m━━━━━━━━━━━━━━━━━━━━━━━━━━━━━━━━━━━━━━━━\u001b[0m \u001b[32m2.1/2.1 MB\u001b[0m \u001b[31m186.9 MB/s\u001b[0m eta \u001b[36m0:00:00\u001b[0m\n",
      "\u001b[?25hRequirement already satisfied: pytz in /home/trusted-service-user/cluster-env/trident_env/lib/python3.10/site-packages (from meteostat->semantic-link-functions-meteostat==0.3.1->semantic-link) (2022.7.1)\n",
      "Requirement already satisfied: cffi>=1.13 in /home/trusted-service-user/cluster-env/trident_env/lib/python3.10/site-packages (from clr-loader<0.3.0,>=0.2.2->pythonnet==3.0.1->semantic-link-sempy==0.3.1->semantic-link) (1.15.1)\n",
      "Collecting cligj>=0.5\n",
      "  Downloading cligj-0.7.2-py3-none-any.whl (7.1 kB)\n",
      "Requirement already satisfied: click~=8.0 in /home/trusted-service-user/cluster-env/trident_env/lib/python3.10/site-packages (from fiona>=1.8.19->geopandas->semantic-link-functions-geopandas==0.3.1->semantic-link) (8.1.3)\n",
      "Requirement already satisfied: certifi in /home/trusted-service-user/cluster-env/trident_env/lib/python3.10/site-packages (from fiona>=1.8.19->geopandas->semantic-link-functions-geopandas==0.3.1->semantic-link) (2022.12.7)\n",
      "Collecting click-plugins>=1.0\n",
      "  Downloading click_plugins-1.1.1-py2.py3-none-any.whl (7.5 kB)\n",
      "Requirement already satisfied: six in /home/trusted-service-user/cluster-env/trident_env/lib/python3.10/site-packages (from fiona>=1.8.19->geopandas->semantic-link-functions-geopandas==0.3.1->semantic-link) (1.16.0)\n",
      "Requirement already satisfied: attrs>=19.2.0 in /home/trusted-service-user/cluster-env/trident_env/lib/python3.10/site-packages (from fiona>=1.8.19->geopandas->semantic-link-functions-geopandas==0.3.1->semantic-link) (22.2.0)\n",
      "Requirement already satisfied: MarkupSafe>=2.0 in /home/trusted-service-user/cluster-env/trident_env/lib/python3.10/site-packages (from jinja2>=2.9->folium->semantic-link-functions-geopandas==0.3.1->semantic-link) (2.1.2)\n",
      "Requirement already satisfied: pyparsing!=3.0.5,>=2.0.2 in /home/trusted-service-user/cluster-env/trident_env/lib/python3.10/site-packages (from packaging->geopandas->semantic-link-functions-geopandas==0.3.1->semantic-link) (3.0.9)\n",
      "Requirement already satisfied: charset-normalizer<4,>=2 in /home/trusted-service-user/cluster-env/trident_env/lib/python3.10/site-packages (from requests->folium->semantic-link-functions-geopandas==0.3.1->semantic-link) (2.1.1)\n",
      "Requirement already satisfied: idna<4,>=2.5 in /home/trusted-service-user/cluster-env/trident_env/lib/python3.10/site-packages (from requests->folium->semantic-link-functions-geopandas==0.3.1->semantic-link) (3.4)\n",
      "Requirement already satisfied: urllib3<1.27,>=1.21.1 in /home/trusted-service-user/cluster-env/trident_env/lib/python3.10/site-packages (from requests->folium->semantic-link-functions-geopandas==0.3.1->semantic-link) (1.26.14)\n",
      "Requirement already satisfied: joblib>=1.1.1 in /home/trusted-service-user/cluster-env/trident_env/lib/python3.10/site-packages (from scikit-learn->mapclassify->semantic-link-functions-geopandas==0.3.1->semantic-link) (1.2.0)\n",
      "Requirement already satisfied: threadpoolctl>=2.0.0 in /home/trusted-service-user/cluster-env/trident_env/lib/python3.10/site-packages (from scikit-learn->mapclassify->semantic-link-functions-geopandas==0.3.1->semantic-link) (3.1.0)\n",
      "Requirement already satisfied: pycparser in /home/trusted-service-user/cluster-env/trident_env/lib/python3.10/site-packages (from cffi>=1.13->clr-loader<0.3.0,>=0.2.2->pythonnet==3.0.1->semantic-link-sempy==0.3.1->semantic-link) (2.21)\n",
      "Installing collected packages: phonenumbers, validators, shapely, pyproj, networkx, cligj, click-plugins, holidays, fiona, clr-loader, branca, pythonnet, meteostat, mapclassify, geopandas, folium, semantic-link-sempy, semantic-link-functions-validators, semantic-link-functions-phonenumbers, semantic-link-functions-meteostat, semantic-link-functions-holidays, semantic-link-functions-geopandas, semantic-link\n",
      "Successfully installed branca-0.6.0 click-plugins-1.1.1 cligj-0.7.2 clr-loader-0.2.6 fiona-1.9.4.post1 folium-0.14.0 geopandas-0.13.2 holidays-0.32 mapclassify-2.6.0 meteostat-1.6.5 networkx-3.1 phonenumbers-8.13.20 pyproj-3.6.0 pythonnet-3.0.1 semantic-link-0.3.1 semantic-link-functions-geopandas-0.3.1 semantic-link-functions-holidays-0.3.1 semantic-link-functions-meteostat-0.3.1 semantic-link-functions-phonenumbers-0.3.1 semantic-link-functions-validators-0.3.1 semantic-link-sempy-0.3.1 shapely-2.0.1 validators-0.22.0\n",
      "\n",
      "\u001b[1m[\u001b[0m\u001b[34;49mnotice\u001b[0m\u001b[1;39;49m]\u001b[0m\u001b[39;49m A new release of pip is available: \u001b[0m\u001b[31;49m23.0\u001b[0m\u001b[39;49m -> \u001b[0m\u001b[32;49m23.2.1\u001b[0m\n",
      "\u001b[1m[\u001b[0m\u001b[34;49mnotice\u001b[0m\u001b[1;39;49m]\u001b[0m\u001b[39;49m To update, run: \u001b[0m\u001b[32;49m/nfs4/pyenv-d4989ca3-dfb9-4def-bbdd-79d2f0fd43c1/bin/python -m pip install --upgrade pip\u001b[0m\n",
      "Note: you may need to restart the kernel to use updated packages.\n"
     ]
    },
    {
     "data": {},
     "execution_count": 1,
     "metadata": {},
     "output_type": "execute_result"
    },
    {
     "name": "stdout",
     "output_type": "stream",
     "text": [
      "Warning: PySpark kernel has been restarted to use updated packages.\n",
      "\n"
     ]
    }
   ],
   "source": [
    "%pip install semantic-link"
   ]
  },
  {
   "cell_type": "markdown",
   "id": "bce4e81a-6f45-448e-a686-47ec12353ece",
   "metadata": {
    "nteract": {
     "transient": {
      "deleting": false
     }
    }
   },
   "source": [
    "Then, perform necessary imports of modules that will be needed later on:"
   ]
  },
  {
   "cell_type": "code",
   "execution_count": 2,
   "id": "afa4929c-43a6-4d6d-935c-f2b5b5067643",
   "metadata": {
    "jupyter": {
     "outputs_hidden": false,
     "source_hidden": false
    },
    "nteract": {
     "transient": {
      "deleting": false
     }
    }
   },
   "outputs": [
    {
     "data": {
      "application/vnd.livy.statement-meta+json": {
       "execution_finish_time": "2023-09-13T03:47:09.6846187Z",
       "execution_start_time": "2023-09-13T03:47:00.0293574Z",
       "livy_statement_state": "available",
       "parent_msg_id": "aafe2a95-a86a-4243-b7f3-96074a6b78bf",
       "queued_time": "2023-09-13T03:46:21.1422859Z",
       "session_id": "fc14b6c0-dca9-4949-a887-6bf9f5f5e3bc",
       "session_start_time": null,
       "spark_jobs": {
        "jobs": [],
        "limit": 20,
        "numbers": {
         "FAILED": 0,
         "RUNNING": 0,
         "SUCCEEDED": 0,
         "UNKNOWN": 0
        },
        "rule": "ALL_DESC"
       },
       "spark_pool": null,
       "state": "finished",
       "statement_id": 9
      },
      "text/plain": [
       "StatementMeta(, fc14b6c0-dca9-4949-a887-6bf9f5f5e3bc, 9, Finished, Available)"
      ]
     },
     "metadata": {},
     "output_type": "display_data"
    }
   ],
   "source": [
    "import sempy.fabric as fabric\n",
    "\n",
    "from sempy.dependencies import plot_dependency_metadata"
   ]
  },
  {
   "cell_type": "markdown",
   "id": "d0d04c6e-69e2-4328-8065-c9300b529597",
   "metadata": {
    "nteract": {
     "transient": {
      "deleting": false
     }
    }
   },
   "source": [
    "## Load and preprocess data"
   ]
  },
  {
   "cell_type": "markdown",
   "id": "c16a1298-1491-4941-9710-2d4eeafca2af",
   "metadata": {
    "nteract": {
     "transient": {
      "deleting": false
     }
    }
   },
   "source": [
    "This tutorial uses a standard Power BI sample dataset [Customer Profitability Sample.pbix](https://github.com/microsoft/fabric-samples/tree/09cb40f1ffe0a7cfec67ec0ba2fcfdc95ba750a8/docs-samples/data-science/datasets). For a description of the dataset, see [Customer Profitability sample for Power BI](https://learn.microsoft.com/en-us/power-bi/create-reports/sample-customer-profitability).\n",
    "\n",
    "Load the Power BI data into FabricDataFrames, using SemPy's ``read_table`` function:"
   ]
  },
  {
   "cell_type": "code",
   "execution_count": 4,
   "id": "d88f0099-ad60-4948-8eb6-f08c1370217d",
   "metadata": {
    "jupyter": {
     "outputs_hidden": false,
     "source_hidden": false
    },
    "nteract": {
     "transient": {
      "deleting": false
     }
    }
   },
   "outputs": [
    {
     "data": {
      "application/vnd.livy.statement-meta+json": {
       "execution_finish_time": "2023-09-13T03:48:08.512584Z",
       "execution_start_time": "2023-09-13T03:48:02.6590299Z",
       "livy_statement_state": "available",
       "parent_msg_id": "6c52e59c-26d6-46c7-98a5-ca074bf10a61",
       "queued_time": "2023-09-13T03:48:02.2429814Z",
       "session_id": "fc14b6c0-dca9-4949-a887-6bf9f5f5e3bc",
       "session_start_time": null,
       "spark_jobs": {
        "jobs": [],
        "limit": 20,
        "numbers": {
         "FAILED": 0,
         "RUNNING": 0,
         "SUCCEEDED": 0,
         "UNKNOWN": 0
        },
        "rule": "ALL_DESC"
       },
       "spark_pool": null,
       "state": "finished",
       "statement_id": 11
      },
      "text/plain": [
       "StatementMeta(, fc14b6c0-dca9-4949-a887-6bf9f5f5e3bc, 11, Finished, Available)"
      ]
     },
     "metadata": {},
     "output_type": "display_data"
    },
    {
     "data": {
      "text/html": [
       "<div>\n",
       "<style scoped>\n",
       "    .dataframe tbody tr th:only-of-type {\n",
       "        vertical-align: middle;\n",
       "    }\n",
       "\n",
       "    .dataframe tbody tr th {\n",
       "        vertical-align: top;\n",
       "    }\n",
       "\n",
       "    .dataframe thead th {\n",
       "        text-align: right;\n",
       "    }\n",
       "</style>\n",
       "<table border=\"1\" class=\"dataframe\">\n",
       "  <thead>\n",
       "    <tr style=\"text-align: right;\">\n",
       "      <th></th>\n",
       "      <th>Customer</th>\n",
       "      <th>Country/Region</th>\n",
       "      <th>Name</th>\n",
       "      <th>City</th>\n",
       "      <th>Postal Code</th>\n",
       "      <th>State</th>\n",
       "      <th>Industry ID</th>\n",
       "    </tr>\n",
       "  </thead>\n",
       "  <tbody>\n",
       "    <tr>\n",
       "      <th>0</th>\n",
       "      <td>1023</td>\n",
       "      <td>US</td>\n",
       "      <td>Spade and Archer</td>\n",
       "      <td>Irving</td>\n",
       "      <td>75038</td>\n",
       "      <td>TX</td>\n",
       "      <td>31</td>\n",
       "    </tr>\n",
       "    <tr>\n",
       "      <th>1</th>\n",
       "      <td>10000</td>\n",
       "      <td>US</td>\n",
       "      <td>Globo-Chem</td>\n",
       "      <td>Chicago</td>\n",
       "      <td>60601</td>\n",
       "      <td>IL</td>\n",
       "      <td>30</td>\n",
       "    </tr>\n",
       "    <tr>\n",
       "      <th>2</th>\n",
       "      <td>10001</td>\n",
       "      <td>US</td>\n",
       "      <td>SNC Directly to America</td>\n",
       "      <td>Westchester</td>\n",
       "      <td>60154</td>\n",
       "      <td>IL</td>\n",
       "      <td>30</td>\n",
       "    </tr>\n",
       "    <tr>\n",
       "      <th>3</th>\n",
       "      <td>10002</td>\n",
       "      <td>US</td>\n",
       "      <td>GHG</td>\n",
       "      <td>Plano</td>\n",
       "      <td>75024</td>\n",
       "      <td>TX</td>\n",
       "      <td>13</td>\n",
       "    </tr>\n",
       "    <tr>\n",
       "      <th>4</th>\n",
       "      <td>10003</td>\n",
       "      <td>US</td>\n",
       "      <td>ABC Helicopter</td>\n",
       "      <td>Fort Worth</td>\n",
       "      <td>76177</td>\n",
       "      <td>TX</td>\n",
       "      <td>34</td>\n",
       "    </tr>\n",
       "  </tbody>\n",
       "</table>\n",
       "</div>"
      ],
      "text/plain": [
       "   Customer Country/Region                     Name         City  Postal Code  \\\n",
       "0      1023             US         Spade and Archer       Irving        75038   \n",
       "1     10000             US               Globo-Chem      Chicago        60601   \n",
       "2     10001             US  SNC Directly to America  Westchester        60154   \n",
       "3     10002             US                      GHG        Plano        75024   \n",
       "4     10003             US           ABC Helicopter   Fort Worth        76177   \n",
       "\n",
       "  State  Industry ID  \n",
       "0    TX           31  \n",
       "1    IL           30  \n",
       "2    IL           30  \n",
       "3    TX           13  \n",
       "4    TX           34  "
      ]
     },
     "execution_count": 13,
     "metadata": {},
     "output_type": "execute_result"
    }
   ],
   "source": [
    "dataset = \"Customer Profitability Sample\"\n",
    "customer = fabric.read_table(dataset, \"Customer\")\n",
    "customer.head()"
   ]
  },
  {
   "cell_type": "markdown",
   "id": "ca62a636-20aa-4a1b-8773-e84e4627d6d3",
   "metadata": {
    "nteract": {
     "transient": {
      "deleting": false
     }
    }
   },
   "source": [
    "Load the 'State' table into a FabricDataFrame:"
   ]
  },
  {
   "cell_type": "code",
   "execution_count": 5,
   "id": "144e9193-8db6-45cb-9d1d-bf60c9704139",
   "metadata": {
    "jupyter": {
     "outputs_hidden": false,
     "source_hidden": false
    },
    "nteract": {
     "transient": {
      "deleting": false
     }
    }
   },
   "outputs": [
    {
     "data": {
      "application/vnd.livy.statement-meta+json": {
       "execution_finish_time": "2023-09-13T03:48:19.4791502Z",
       "execution_start_time": "2023-09-13T03:48:18.9348505Z",
       "livy_statement_state": "available",
       "parent_msg_id": "568806e1-6460-49e8-bd48-98bd587ed662",
       "queued_time": "2023-09-13T03:48:18.3065848Z",
       "session_id": "fc14b6c0-dca9-4949-a887-6bf9f5f5e3bc",
       "session_start_time": null,
       "spark_jobs": {
        "jobs": [],
        "limit": 20,
        "numbers": {
         "FAILED": 0,
         "RUNNING": 0,
         "SUCCEEDED": 0,
         "UNKNOWN": 0
        },
        "rule": "ALL_DESC"
       },
       "spark_pool": null,
       "state": "finished",
       "statement_id": 12
      },
      "text/plain": [
       "StatementMeta(, fc14b6c0-dca9-4949-a887-6bf9f5f5e3bc, 12, Finished, Available)"
      ]
     },
     "metadata": {},
     "output_type": "display_data"
    },
    {
     "data": {
      "text/html": [
       "<div>\n",
       "<style scoped>\n",
       "    .dataframe tbody tr th:only-of-type {\n",
       "        vertical-align: middle;\n",
       "    }\n",
       "\n",
       "    .dataframe tbody tr th {\n",
       "        vertical-align: top;\n",
       "    }\n",
       "\n",
       "    .dataframe thead th {\n",
       "        text-align: right;\n",
       "    }\n",
       "</style>\n",
       "<table border=\"1\" class=\"dataframe\">\n",
       "  <thead>\n",
       "    <tr style=\"text-align: right;\">\n",
       "      <th></th>\n",
       "      <th>StateCode</th>\n",
       "      <th>State</th>\n",
       "      <th>Region</th>\n",
       "    </tr>\n",
       "  </thead>\n",
       "  <tbody>\n",
       "    <tr>\n",
       "      <th>0</th>\n",
       "      <td>AK</td>\n",
       "      <td>ALASKA</td>\n",
       "      <td>WEST</td>\n",
       "    </tr>\n",
       "    <tr>\n",
       "      <th>1</th>\n",
       "      <td>FL</td>\n",
       "      <td>FLORIDA</td>\n",
       "      <td>EAST</td>\n",
       "    </tr>\n",
       "    <tr>\n",
       "      <th>2</th>\n",
       "      <td>GA</td>\n",
       "      <td>GEORGIA</td>\n",
       "      <td>EAST</td>\n",
       "    </tr>\n",
       "    <tr>\n",
       "      <th>3</th>\n",
       "      <td>HI</td>\n",
       "      <td>HAWAII</td>\n",
       "      <td>WEST</td>\n",
       "    </tr>\n",
       "    <tr>\n",
       "      <th>4</th>\n",
       "      <td>IA</td>\n",
       "      <td>IOWA</td>\n",
       "      <td>NORTH</td>\n",
       "    </tr>\n",
       "  </tbody>\n",
       "</table>\n",
       "</div>"
      ],
      "text/plain": [
       "  StateCode    State Region\n",
       "0        AK   ALASKA   WEST\n",
       "1        FL  FLORIDA   EAST\n",
       "2        GA  GEORGIA   EAST\n",
       "3        HI   HAWAII   WEST\n",
       "4        IA     IOWA  NORTH"
      ]
     },
     "execution_count": 16,
     "metadata": {},
     "output_type": "execute_result"
    }
   ],
   "source": [
    "state = fabric.read_table(dataset, \"State\")\n",
    "state.head()"
   ]
  },
  {
   "cell_type": "markdown",
   "id": "e1fc8a92-a422-4ae9-9822-4c644d9ec39d",
   "metadata": {
    "nteract": {
     "transient": {
      "deleting": false
     }
    }
   },
   "source": [
    "While the output looks like a pandas DataFrame, we actually initialized a data structure called a ``FabricDataFrame`` that supports some useful operations on top of pandas."
   ]
  },
  {
   "cell_type": "code",
   "execution_count": 6,
   "id": "fab87003-acd2-4061-a73d-49f0efec1eb4",
   "metadata": {
    "jupyter": {
     "outputs_hidden": false,
     "source_hidden": false
    },
    "nteract": {
     "transient": {
      "deleting": false
     }
    }
   },
   "outputs": [
    {
     "data": {
      "application/vnd.livy.statement-meta+json": {
       "execution_finish_time": "2023-09-13T03:48:20.3906714Z",
       "execution_start_time": "2023-09-13T03:48:19.9293756Z",
       "livy_statement_state": "available",
       "parent_msg_id": "1377c4e3-5100-4885-84d5-abd506e84b9d",
       "queued_time": "2023-09-13T03:48:18.6950994Z",
       "session_id": "fc14b6c0-dca9-4949-a887-6bf9f5f5e3bc",
       "session_start_time": null,
       "spark_jobs": {
        "jobs": [],
        "limit": 20,
        "numbers": {
         "FAILED": 0,
         "RUNNING": 0,
         "SUCCEEDED": 0,
         "UNKNOWN": 0
        },
        "rule": "ALL_DESC"
       },
       "spark_pool": null,
       "state": "finished",
       "statement_id": 13
      },
      "text/plain": [
       "StatementMeta(, fc14b6c0-dca9-4949-a887-6bf9f5f5e3bc, 13, Finished, Available)"
      ]
     },
     "metadata": {},
     "output_type": "display_data"
    },
    {
     "data": {
      "text/plain": [
       "sempy.fabric._dataframe._fabric_dataframe.FabricDataFrame"
      ]
     },
     "execution_count": 19,
     "metadata": {},
     "output_type": "execute_result"
    }
   ],
   "source": [
    "type(customer)"
   ]
  },
  {
   "cell_type": "markdown",
   "id": "6a9b66c6-6b0f-44b0-b915-8e76c1a51ad8",
   "metadata": {
    "nteract": {
     "transient": {
      "deleting": false
     }
    }
   },
   "source": [
    "Join the `Customer` and `State` tables:"
   ]
  },
  {
   "cell_type": "code",
   "execution_count": 7,
   "id": "88168d9e-353a-418e-b7a0-bcb6882fde59",
   "metadata": {
    "jupyter": {
     "outputs_hidden": false,
     "source_hidden": false
    },
    "nteract": {
     "transient": {
      "deleting": false
     }
    }
   },
   "outputs": [
    {
     "data": {
      "application/vnd.livy.statement-meta+json": {
       "execution_finish_time": "2023-09-13T03:48:22.0709111Z",
       "execution_start_time": "2023-09-13T03:48:20.8411278Z",
       "livy_statement_state": "available",
       "parent_msg_id": "12b9d808-3258-42ed-a04f-eccce87f2e9f",
       "queued_time": "2023-09-13T03:48:19.4749673Z",
       "session_id": "fc14b6c0-dca9-4949-a887-6bf9f5f5e3bc",
       "session_start_time": null,
       "spark_jobs": {
        "jobs": [],
        "limit": 20,
        "numbers": {
         "FAILED": 0,
         "RUNNING": 0,
         "SUCCEEDED": 0,
         "UNKNOWN": 0
        },
        "rule": "ALL_DESC"
       },
       "spark_pool": null,
       "state": "finished",
       "statement_id": 14
      },
      "text/plain": [
       "StatementMeta(, fc14b6c0-dca9-4949-a887-6bf9f5f5e3bc, 14, Finished, Available)"
      ]
     },
     "metadata": {},
     "output_type": "display_data"
    },
    {
     "data": {
      "text/html": [
       "<div>\n",
       "<style scoped>\n",
       "    .dataframe tbody tr th:only-of-type {\n",
       "        vertical-align: middle;\n",
       "    }\n",
       "\n",
       "    .dataframe tbody tr th {\n",
       "        vertical-align: top;\n",
       "    }\n",
       "\n",
       "    .dataframe thead th {\n",
       "        text-align: right;\n",
       "    }\n",
       "</style>\n",
       "<table border=\"1\" class=\"dataframe\">\n",
       "  <thead>\n",
       "    <tr style=\"text-align: right;\">\n",
       "      <th></th>\n",
       "      <th>Customer</th>\n",
       "      <th>Country/Region</th>\n",
       "      <th>Name</th>\n",
       "      <th>City</th>\n",
       "      <th>Postal Code</th>\n",
       "      <th>State_x</th>\n",
       "      <th>Industry ID</th>\n",
       "      <th>StateCode</th>\n",
       "      <th>State_y</th>\n",
       "      <th>Region</th>\n",
       "    </tr>\n",
       "  </thead>\n",
       "  <tbody>\n",
       "    <tr>\n",
       "      <th>0</th>\n",
       "      <td>1023</td>\n",
       "      <td>US</td>\n",
       "      <td>Spade and Archer</td>\n",
       "      <td>Irving</td>\n",
       "      <td>75038</td>\n",
       "      <td>TX</td>\n",
       "      <td>31</td>\n",
       "      <td>TX</td>\n",
       "      <td>TEXAS</td>\n",
       "      <td>SOUTH</td>\n",
       "    </tr>\n",
       "    <tr>\n",
       "      <th>1</th>\n",
       "      <td>10000</td>\n",
       "      <td>US</td>\n",
       "      <td>Globo-Chem</td>\n",
       "      <td>Chicago</td>\n",
       "      <td>60601</td>\n",
       "      <td>IL</td>\n",
       "      <td>30</td>\n",
       "      <td>IL</td>\n",
       "      <td>ILLINOIS</td>\n",
       "      <td>NORTH</td>\n",
       "    </tr>\n",
       "    <tr>\n",
       "      <th>2</th>\n",
       "      <td>10001</td>\n",
       "      <td>US</td>\n",
       "      <td>SNC Directly to America</td>\n",
       "      <td>Westchester</td>\n",
       "      <td>60154</td>\n",
       "      <td>IL</td>\n",
       "      <td>30</td>\n",
       "      <td>IL</td>\n",
       "      <td>ILLINOIS</td>\n",
       "      <td>NORTH</td>\n",
       "    </tr>\n",
       "    <tr>\n",
       "      <th>3</th>\n",
       "      <td>10002</td>\n",
       "      <td>US</td>\n",
       "      <td>GHG</td>\n",
       "      <td>Plano</td>\n",
       "      <td>75024</td>\n",
       "      <td>TX</td>\n",
       "      <td>13</td>\n",
       "      <td>TX</td>\n",
       "      <td>TEXAS</td>\n",
       "      <td>SOUTH</td>\n",
       "    </tr>\n",
       "    <tr>\n",
       "      <th>4</th>\n",
       "      <td>10003</td>\n",
       "      <td>US</td>\n",
       "      <td>ABC Helicopter</td>\n",
       "      <td>Fort Worth</td>\n",
       "      <td>76177</td>\n",
       "      <td>TX</td>\n",
       "      <td>34</td>\n",
       "      <td>TX</td>\n",
       "      <td>TEXAS</td>\n",
       "      <td>SOUTH</td>\n",
       "    </tr>\n",
       "  </tbody>\n",
       "</table>\n",
       "</div>"
      ],
      "text/plain": [
       "   Customer Country/Region                     Name         City  Postal Code  \\\n",
       "0      1023             US         Spade and Archer       Irving        75038   \n",
       "1     10000             US               Globo-Chem      Chicago        60601   \n",
       "2     10001             US  SNC Directly to America  Westchester        60154   \n",
       "3     10002             US                      GHG        Plano        75024   \n",
       "4     10003             US           ABC Helicopter   Fort Worth        76177   \n",
       "\n",
       "  State_x  Industry ID StateCode   State_y Region  \n",
       "0      TX           31        TX     TEXAS  SOUTH  \n",
       "1      IL           30        IL  ILLINOIS  NORTH  \n",
       "2      IL           30        IL  ILLINOIS  NORTH  \n",
       "3      TX           13        TX     TEXAS  SOUTH  \n",
       "4      TX           34        TX     TEXAS  SOUTH  "
      ]
     },
     "execution_count": 22,
     "metadata": {},
     "output_type": "execute_result"
    }
   ],
   "source": [
    "customer_state_df = customer.merge(state, left_on=\"State\", right_on=\"StateCode\",  how='left')\n",
    "customer_state_df.head()"
   ]
  },
  {
   "cell_type": "markdown",
   "id": "2bd72bcd-c374-4ab0-884a-774abe39c5e2",
   "metadata": {
    "nteract": {
     "transient": {
      "deleting": false
     }
    }
   },
   "source": [
    "## Identify functional dependencies"
   ]
  },
  {
   "cell_type": "markdown",
   "id": "0232aec5-e2ad-4a3e-a143-e67edac0d072",
   "metadata": {
    "nteract": {
     "transient": {
      "deleting": false
     }
    }
   },
   "source": [
    "A functional dependency manifests itself as a one-to-many relationship between the values in two (or more) columns within a DataFrame (which does not occur if the dataset adheres to 3rd normal form). These relationships can be instrumental for automatic detection of data quality problems. \n",
    "\n",
    "Run SemPy's ``find_dependencies`` function on the merged dataframe to identify any existing functional dependencies between values in the columns:"
   ]
  },
  {
   "cell_type": "code",
   "execution_count": 8,
   "id": "047c3b71-07fd-41a7-879c-5f8ad91b569a",
   "metadata": {
    "jupyter": {
     "outputs_hidden": false,
     "source_hidden": false
    },
    "nteract": {
     "transient": {
      "deleting": false
     }
    }
   },
   "outputs": [
    {
     "data": {
      "application/vnd.livy.statement-meta+json": {
       "execution_finish_time": "2023-09-13T03:48:23.0762675Z",
       "execution_start_time": "2023-09-13T03:48:22.5846371Z",
       "livy_statement_state": "available",
       "parent_msg_id": "6a5aa3ba-f3d3-47ad-b98f-f335e71fb342",
       "queued_time": "2023-09-13T03:48:21.5073193Z",
       "session_id": "fc14b6c0-dca9-4949-a887-6bf9f5f5e3bc",
       "session_start_time": null,
       "spark_jobs": {
        "jobs": [],
        "limit": 20,
        "numbers": {
         "FAILED": 0,
         "RUNNING": 0,
         "SUCCEEDED": 0,
         "UNKNOWN": 0
        },
        "rule": "ALL_DESC"
       },
       "spark_pool": null,
       "state": "finished",
       "statement_id": 15
      },
      "text/plain": [
       "StatementMeta(, fc14b6c0-dca9-4949-a887-6bf9f5f5e3bc, 15, Finished, Available)"
      ]
     },
     "metadata": {},
     "output_type": "display_data"
    },
    {
     "data": {
      "text/html": [
       "<div>\n",
       "<style scoped>\n",
       "    .dataframe tbody tr th:only-of-type {\n",
       "        vertical-align: middle;\n",
       "    }\n",
       "\n",
       "    .dataframe tbody tr th {\n",
       "        vertical-align: top;\n",
       "    }\n",
       "\n",
       "    .dataframe thead th {\n",
       "        text-align: right;\n",
       "    }\n",
       "</style>\n",
       "<table border=\"1\" class=\"dataframe\">\n",
       "  <thead>\n",
       "    <tr style=\"text-align: right;\">\n",
       "      <th></th>\n",
       "      <th>Determinant</th>\n",
       "      <th>Dependent</th>\n",
       "      <th>Conditional Entropy</th>\n",
       "      <th>Determinant Unique Count</th>\n",
       "      <th>Dependent Unique Count</th>\n",
       "      <th>Determinant Null Count</th>\n",
       "      <th>Dependent Null Count</th>\n",
       "    </tr>\n",
       "  </thead>\n",
       "  <tbody>\n",
       "    <tr>\n",
       "      <th>0</th>\n",
       "      <td>Customer</td>\n",
       "      <td>Name</td>\n",
       "      <td>0.000000</td>\n",
       "      <td>327</td>\n",
       "      <td>303</td>\n",
       "      <td>0</td>\n",
       "      <td>0</td>\n",
       "    </tr>\n",
       "    <tr>\n",
       "      <th>1</th>\n",
       "      <td>Customer</td>\n",
       "      <td>Postal Code</td>\n",
       "      <td>0.000000</td>\n",
       "      <td>327</td>\n",
       "      <td>208</td>\n",
       "      <td>0</td>\n",
       "      <td>50</td>\n",
       "    </tr>\n",
       "    <tr>\n",
       "      <th>2</th>\n",
       "      <td>Customer</td>\n",
       "      <td>City</td>\n",
       "      <td>0.000000</td>\n",
       "      <td>327</td>\n",
       "      <td>188</td>\n",
       "      <td>0</td>\n",
       "      <td>0</td>\n",
       "    </tr>\n",
       "    <tr>\n",
       "      <th>3</th>\n",
       "      <td>Customer</td>\n",
       "      <td>State_x</td>\n",
       "      <td>0.000000</td>\n",
       "      <td>327</td>\n",
       "      <td>37</td>\n",
       "      <td>0</td>\n",
       "      <td>0</td>\n",
       "    </tr>\n",
       "    <tr>\n",
       "      <th>4</th>\n",
       "      <td>Customer</td>\n",
       "      <td>Industry ID</td>\n",
       "      <td>0.000000</td>\n",
       "      <td>327</td>\n",
       "      <td>32</td>\n",
       "      <td>0</td>\n",
       "      <td>0</td>\n",
       "    </tr>\n",
       "    <tr>\n",
       "      <th>5</th>\n",
       "      <td>Name</td>\n",
       "      <td>Country/Region</td>\n",
       "      <td>0.004239</td>\n",
       "      <td>303</td>\n",
       "      <td>4</td>\n",
       "      <td>0</td>\n",
       "      <td>0</td>\n",
       "    </tr>\n",
       "    <tr>\n",
       "      <th>6</th>\n",
       "      <td>State_x</td>\n",
       "      <td>[StateCode, State_y]</td>\n",
       "      <td>0.000000</td>\n",
       "      <td>37</td>\n",
       "      <td>34</td>\n",
       "      <td>0</td>\n",
       "      <td>13</td>\n",
       "    </tr>\n",
       "    <tr>\n",
       "      <th>7</th>\n",
       "      <td>State_x</td>\n",
       "      <td>Country/Region</td>\n",
       "      <td>0.000000</td>\n",
       "      <td>37</td>\n",
       "      <td>4</td>\n",
       "      <td>0</td>\n",
       "      <td>0</td>\n",
       "    </tr>\n",
       "    <tr>\n",
       "      <th>8</th>\n",
       "      <td>[StateCode, State_y]</td>\n",
       "      <td>Region</td>\n",
       "      <td>0.000000</td>\n",
       "      <td>34</td>\n",
       "      <td>6</td>\n",
       "      <td>13</td>\n",
       "      <td>13</td>\n",
       "    </tr>\n",
       "  </tbody>\n",
       "</table>\n",
       "</div>"
      ],
      "text/plain": [
       "            Determinant             Dependent  Conditional Entropy  \\\n",
       "0              Customer                  Name             0.000000   \n",
       "1              Customer           Postal Code             0.000000   \n",
       "2              Customer                  City             0.000000   \n",
       "3              Customer               State_x             0.000000   \n",
       "4              Customer           Industry ID             0.000000   \n",
       "5                  Name        Country/Region             0.004239   \n",
       "6               State_x  [StateCode, State_y]             0.000000   \n",
       "7               State_x        Country/Region             0.000000   \n",
       "8  [StateCode, State_y]                Region             0.000000   \n",
       "\n",
       "   Determinant Unique Count  Dependent Unique Count  Determinant Null Count  \\\n",
       "0                       327                     303                       0   \n",
       "1                       327                     208                       0   \n",
       "2                       327                     188                       0   \n",
       "3                       327                      37                       0   \n",
       "4                       327                      32                       0   \n",
       "5                       303                       4                       0   \n",
       "6                        37                      34                       0   \n",
       "7                        37                       4                       0   \n",
       "8                        34                       6                      13   \n",
       "\n",
       "   Dependent Null Count  \n",
       "0                     0  \n",
       "1                    50  \n",
       "2                     0  \n",
       "3                     0  \n",
       "4                     0  \n",
       "5                     0  \n",
       "6                    13  \n",
       "7                     0  \n",
       "8                    13  "
      ]
     },
     "execution_count": 25,
     "metadata": {},
     "output_type": "execute_result"
    }
   ],
   "source": [
    "dependencies = customer_state_df.find_dependencies()\n",
    "dependencies"
   ]
  },
  {
   "cell_type": "markdown",
   "id": "b29f03ad-d002-4c3c-a0ae-2d41515c68ff",
   "metadata": {
    "nteract": {
     "transient": {
      "deleting": false
     }
    }
   },
   "source": [
    "Visualize the identified dependencies by using SemPy's ``plot_dependency_metadata`` function:"
   ]
  },
  {
   "cell_type": "code",
   "execution_count": 9,
   "id": "a5ea7c31-37f6-482d-be12-85db51e4ad29",
   "metadata": {
    "jupyter": {
     "outputs_hidden": false,
     "source_hidden": false
    },
    "nteract": {
     "transient": {
      "deleting": false
     }
    }
   },
   "outputs": [
    {
     "data": {
      "application/vnd.livy.statement-meta+json": {
       "execution_finish_time": "2023-09-13T03:48:29.8106939Z",
       "execution_start_time": "2023-09-13T03:48:26.5339851Z",
       "livy_statement_state": "available",
       "parent_msg_id": "30eb7ee2-4ceb-4220-9e00-6270f54a0e15",
       "queued_time": "2023-09-13T03:48:26.1280183Z",
       "session_id": "fc14b6c0-dca9-4949-a887-6bf9f5f5e3bc",
       "session_start_time": null,
       "spark_jobs": {
        "jobs": [],
        "limit": 20,
        "numbers": {
         "FAILED": 0,
         "RUNNING": 0,
         "SUCCEEDED": 0,
         "UNKNOWN": 0
        },
        "rule": "ALL_DESC"
       },
       "spark_pool": null,
       "state": "finished",
       "statement_id": 16
      },
      "text/plain": [
       "StatementMeta(, fc14b6c0-dca9-4949-a887-6bf9f5f5e3bc, 16, Finished, Available)"
      ]
     },
     "metadata": {},
     "output_type": "display_data"
    },
    {
     "data": {
      "image/svg+xml": [
       "<?xml version=\"1.0\" encoding=\"UTF-8\" standalone=\"no\"?>\n",
       "<!DOCTYPE svg PUBLIC \"-//W3C//DTD SVG 1.1//EN\"\n",
       " \"http://www.w3.org/Graphics/SVG/1.1/DTD/svg11.dtd\">\n",
       "<!-- Generated by graphviz version 2.50.0 (20220708.1628)\n",
       " -->\n",
       "<!-- Pages: 1 -->\n",
       "<svg width=\"487pt\" height=\"274pt\"\n",
       " viewBox=\"0.00 0.00 486.50 274.00\" xmlns=\"http://www.w3.org/2000/svg\" xmlns:xlink=\"http://www.w3.org/1999/xlink\">\n",
       "<g id=\"graph0\" class=\"graph\" transform=\"scale(1 1) rotate(0) translate(4 270)\">\n",
       "<polygon fill=\"white\" stroke=\"transparent\" points=\"-4,4 -4,-270 482.5,-270 482.5,4 -4,4\"/>\n",
       "<!-- 0 -->\n",
       "<g id=\"node1\" class=\"node\">\n",
       "<title>0</title>\n",
       "<polygon fill=\"none\" stroke=\"black\" points=\"197.5,-237 197.5,-258 273.5,-258 273.5,-237 197.5,-237\"/>\n",
       "<text text-anchor=\"start\" x=\"200.5\" y=\"-243.8\" font-family=\"Times,serif\" font-size=\"14.00\">Customer</text>\n",
       "</g>\n",
       "<!-- 1 -->\n",
       "<g id=\"node2\" class=\"node\">\n",
       "<title>1</title>\n",
       "<polygon fill=\"none\" stroke=\"black\" points=\"8.5,-165 8.5,-186 57.5,-186 57.5,-165 8.5,-165\"/>\n",
       "<text text-anchor=\"start\" x=\"11.5\" y=\"-171.8\" font-family=\"Times,serif\" font-size=\"14.00\">Name</text>\n",
       "</g>\n",
       "<!-- 0&#45;&gt;1 -->\n",
       "<g id=\"edge1\" class=\"edge\">\n",
       "<title>0&#45;&gt;1</title>\n",
       "<path fill=\"none\" stroke=\"black\" d=\"M189.44,-232.97C159.07,-223.48 118.26,-210.29 74.71,-194.33\"/>\n",
       "<polygon fill=\"black\" stroke=\"black\" points=\"75.68,-190.96 65.08,-190.78 73.25,-197.52 75.68,-190.96\"/>\n",
       "</g>\n",
       "<!-- 2 -->\n",
       "<g id=\"node3\" class=\"node\">\n",
       "<title>2</title>\n",
       "<polygon fill=\"none\" stroke=\"black\" points=\"91.5,-165 91.5,-186 182.5,-186 182.5,-165 91.5,-165\"/>\n",
       "<text text-anchor=\"start\" x=\"94.5\" y=\"-171.8\" font-family=\"Times,serif\" font-size=\"14.00\">Postal Code</text>\n",
       "</g>\n",
       "<!-- 0&#45;&gt;2 -->\n",
       "<g id=\"edge2\" class=\"edge\">\n",
       "<title>0&#45;&gt;2</title>\n",
       "<path fill=\"none\" stroke=\"black\" d=\"M211.28,-229.88C198.58,-220.89 182.84,-209.76 169.08,-200.03\"/>\n",
       "<polygon fill=\"black\" stroke=\"black\" points=\"171,-197.11 160.81,-194.19 166.96,-202.82 171,-197.11\"/>\n",
       "</g>\n",
       "<!-- 3 -->\n",
       "<g id=\"node4\" class=\"node\">\n",
       "<title>3</title>\n",
       "<polygon fill=\"none\" stroke=\"black\" points=\"217.5,-165 217.5,-186 253.5,-186 253.5,-165 217.5,-165\"/>\n",
       "<text text-anchor=\"start\" x=\"220.5\" y=\"-171.8\" font-family=\"Times,serif\" font-size=\"14.00\">City</text>\n",
       "</g>\n",
       "<!-- 0&#45;&gt;3 -->\n",
       "<g id=\"edge3\" class=\"edge\">\n",
       "<title>0&#45;&gt;3</title>\n",
       "<path fill=\"none\" stroke=\"black\" d=\"M235.5,-229.7C235.5,-221.98 235.5,-212.71 235.5,-204.11\"/>\n",
       "<polygon fill=\"black\" stroke=\"black\" points=\"239,-204.1 235.5,-194.1 232,-204.1 239,-204.1\"/>\n",
       "</g>\n",
       "<!-- 4 -->\n",
       "<g id=\"node5\" class=\"node\">\n",
       "<title>4</title>\n",
       "<polygon fill=\"none\" stroke=\"black\" points=\"288.5,-165 288.5,-186 348.5,-186 348.5,-165 288.5,-165\"/>\n",
       "<text text-anchor=\"start\" x=\"291.5\" y=\"-171.8\" font-family=\"Times,serif\" font-size=\"14.00\">State_x</text>\n",
       "</g>\n",
       "<!-- 0&#45;&gt;4 -->\n",
       "<g id=\"edge4\" class=\"edge\">\n",
       "<title>0&#45;&gt;4</title>\n",
       "<path fill=\"none\" stroke=\"black\" d=\"M256.02,-229.7C266.37,-220.97 279.09,-210.24 290.34,-200.75\"/>\n",
       "<polygon fill=\"black\" stroke=\"black\" points=\"292.83,-203.23 298.22,-194.1 288.32,-197.88 292.83,-203.23\"/>\n",
       "</g>\n",
       "<!-- 5 -->\n",
       "<g id=\"node6\" class=\"node\">\n",
       "<title>5</title>\n",
       "<polygon fill=\"none\" stroke=\"black\" points=\"382.5,-165 382.5,-186 470.5,-186 470.5,-165 382.5,-165\"/>\n",
       "<text text-anchor=\"start\" x=\"385.5\" y=\"-171.8\" font-family=\"Times,serif\" font-size=\"14.00\">Industry ID</text>\n",
       "</g>\n",
       "<!-- 0&#45;&gt;5 -->\n",
       "<g id=\"edge5\" class=\"edge\">\n",
       "<title>0&#45;&gt;5</title>\n",
       "<path fill=\"none\" stroke=\"black\" d=\"M281.74,-230.05C308.4,-220.28 342.12,-207.92 370.31,-197.59\"/>\n",
       "<polygon fill=\"black\" stroke=\"black\" points=\"371.84,-200.76 380.03,-194.03 369.43,-194.19 371.84,-200.76\"/>\n",
       "</g>\n",
       "<!-- 6 -->\n",
       "<g id=\"node7\" class=\"node\">\n",
       "<title>6</title>\n",
       "<polygon fill=\"none\" stroke=\"black\" points=\"49.5,-86 49.5,-107 167.5,-107 167.5,-86 49.5,-86\"/>\n",
       "<text text-anchor=\"start\" x=\"52.5\" y=\"-92.8\" font-family=\"Times,serif\" font-size=\"14.00\">Country/Region</text>\n",
       "</g>\n",
       "<!-- 1&#45;&gt;6 -->\n",
       "<g id=\"edge6\" class=\"edge\">\n",
       "<title>1&#45;&gt;6</title>\n",
       "<path fill=\"none\" stroke=\"black\" stroke-dasharray=\"5,2\" d=\"M49.37,-157.91C59.7,-147.44 73.09,-133.88 84.51,-122.31\"/>\n",
       "<polygon fill=\"black\" stroke=\"black\" points=\"87.15,-124.62 91.68,-115.04 82.16,-119.7 87.15,-124.62\"/>\n",
       "</g>\n",
       "<!-- 4&#45;&gt;6 -->\n",
       "<g id=\"edge8\" class=\"edge\">\n",
       "<title>4&#45;&gt;6</title>\n",
       "<path fill=\"none\" stroke=\"black\" d=\"M280.47,-161.06C248.14,-149.2 201.26,-132.01 164.62,-118.58\"/>\n",
       "<polygon fill=\"black\" stroke=\"black\" points=\"165.65,-115.23 155.05,-115.07 163.24,-121.8 165.65,-115.23\"/>\n",
       "</g>\n",
       "<!-- 7 -->\n",
       "<g id=\"node8\" class=\"node\">\n",
       "<title>7</title>\n",
       "<polygon fill=\"none\" stroke=\"black\" points=\"278.5,-97 278.5,-118 359.5,-118 359.5,-97 278.5,-97\"/>\n",
       "<text text-anchor=\"start\" x=\"281.5\" y=\"-103.8\" font-family=\"Times,serif\" font-size=\"14.00\">StateCode</text>\n",
       "<polygon fill=\"none\" stroke=\"black\" points=\"278.5,-76 278.5,-97 359.5,-97 359.5,-76 278.5,-76\"/>\n",
       "<text text-anchor=\"start\" x=\"292\" y=\"-82.8\" font-family=\"Times,serif\" font-size=\"14.00\">State_y</text>\n",
       "</g>\n",
       "<!-- 4&#45;&gt;7 -->\n",
       "<g id=\"edge7\" class=\"edge\">\n",
       "<title>4&#45;&gt;7</title>\n",
       "<path fill=\"none\" stroke=\"black\" d=\"M318.5,-157.91C318.5,-150.33 318.5,-141.13 318.5,-132.23\"/>\n",
       "<polygon fill=\"black\" stroke=\"black\" points=\"322,-132.05 318.5,-122.05 315,-132.05 322,-132.05\"/>\n",
       "</g>\n",
       "<!-- 8 -->\n",
       "<g id=\"node9\" class=\"node\">\n",
       "<title>8</title>\n",
       "<polygon fill=\"none\" stroke=\"black\" points=\"290.5,-7 290.5,-28 346.5,-28 346.5,-7 290.5,-7\"/>\n",
       "<text text-anchor=\"start\" x=\"293.5\" y=\"-13.8\" font-family=\"Times,serif\" font-size=\"14.00\">Region</text>\n",
       "</g>\n",
       "<!-- 7&#45;&gt;8 -->\n",
       "<g id=\"edge9\" class=\"edge\">\n",
       "<title>7&#45;&gt;8</title>\n",
       "<path fill=\"none\" stroke=\"black\" d=\"M318.5,-71.64C318.5,-63.67 318.5,-54.77 318.5,-46.58\"/>\n",
       "<polygon fill=\"black\" stroke=\"black\" points=\"322,-46.38 318.5,-36.38 315,-46.38 322,-46.38\"/>\n",
       "</g>\n",
       "</g>\n",
       "</svg>\n"
      ],
      "text/plain": [
       "<graphviz.graphs.Digraph at 0x7f838b13a650>"
      ]
     },
     "execution_count": 28,
     "metadata": {},
     "output_type": "execute_result"
    }
   ],
   "source": [
    "plot_dependency_metadata(dependencies)"
   ]
  },
  {
   "cell_type": "markdown",
   "id": "73b2e8a6-e395-4371-bae0-c755a25fa118",
   "metadata": {
    "nteract": {
     "transient": {
      "deleting": false
     }
    }
   },
   "source": [
    "As expected, the functional dependencies graph shows that *Customer* determines some columns like *City*, *Postal Code*, and *Name*. \n",
    "\n",
    "Surprisingly, the graph doesn't show a functional dependency between _City_ and _Postal Code_, probably because there are many violations in the relationships between the columns. You can use SemPy's ``plot_dependency_violations`` function to visualize violations of dependencies between specific columns."
   ]
  },
  {
   "cell_type": "markdown",
   "id": "53db05aa-a2fa-4643-ad73-4386e5112416",
   "metadata": {
    "nteract": {
     "transient": {
      "deleting": false
     }
    }
   },
   "source": [
    "## Explore data for quality issues"
   ]
  },
  {
   "cell_type": "code",
   "execution_count": 10,
   "id": "425611bf-4508-47a2-9255-22b3e9a9faae",
   "metadata": {
    "jupyter": {
     "outputs_hidden": false,
     "source_hidden": false
    },
    "nteract": {
     "transient": {
      "deleting": false
     }
    }
   },
   "outputs": [
    {
     "data": {
      "application/vnd.livy.statement-meta+json": {
       "execution_finish_time": "2023-09-13T03:48:31.5532249Z",
       "execution_start_time": "2023-09-13T03:48:31.0862729Z",
       "livy_statement_state": "available",
       "parent_msg_id": "273d5f68-ee07-475c-be7d-48bf97dd6515",
       "queued_time": "2023-09-13T03:48:30.7120145Z",
       "session_id": "fc14b6c0-dca9-4949-a887-6bf9f5f5e3bc",
       "session_start_time": null,
       "spark_jobs": {
        "jobs": [],
        "limit": 20,
        "numbers": {
         "FAILED": 0,
         "RUNNING": 0,
         "SUCCEEDED": 0,
         "UNKNOWN": 0
        },
        "rule": "ALL_DESC"
       },
       "spark_pool": null,
       "state": "finished",
       "statement_id": 17
      },
      "text/plain": [
       "StatementMeta(, fc14b6c0-dca9-4949-a887-6bf9f5f5e3bc, 17, Finished, Available)"
      ]
     },
     "metadata": {},
     "output_type": "display_data"
    },
    {
     "data": {
      "image/svg+xml": [
       "<?xml version=\"1.0\" encoding=\"UTF-8\" standalone=\"no\"?>\n",
       "<!DOCTYPE svg PUBLIC \"-//W3C//DTD SVG 1.1//EN\"\n",
       " \"http://www.w3.org/Graphics/SVG/1.1/DTD/svg11.dtd\">\n",
       "<!-- Generated by graphviz version 2.50.0 (20220708.1628)\n",
       " -->\n",
       "<!-- Title: Postal Code&#45;&gt;City Pages: 1 -->\n",
       "<svg width=\"353pt\" height=\"2300pt\"\n",
       " viewBox=\"0.00 0.00 353.00 2300.00\" xmlns=\"http://www.w3.org/2000/svg\" xmlns:xlink=\"http://www.w3.org/1999/xlink\">\n",
       "<g id=\"graph0\" class=\"graph\" transform=\"scale(1 1) rotate(0) translate(4 2296)\">\n",
       "<title>Postal Code&#45;&gt;City</title>\n",
       "<polygon fill=\"white\" stroke=\"transparent\" points=\"-4,4 -4,-2296 349,-2296 349,4 -4,4\"/>\n",
       "<!-- title -->\n",
       "<g id=\"node1\" class=\"node\">\n",
       "<title>title</title>\n",
       "<text text-anchor=\"middle\" x=\"92.5\" y=\"-6\" font-family=\"Times,serif\" font-size=\"20.00\">Postal Code&#45;&gt;City</text>\n",
       "</g>\n",
       "<!-- 11111 -->\n",
       "<g id=\"node2\" class=\"node\">\n",
       "<title>11111</title>\n",
       "<polygon fill=\"none\" stroke=\"black\" points=\"123.5,-1905 61.5,-1905 61.5,-1869 123.5,-1869 123.5,-1905\"/>\n",
       "<text text-anchor=\"middle\" x=\"92.5\" y=\"-1883.3\" font-family=\"Times,serif\" font-size=\"14.00\">11111</text>\n",
       "</g>\n",
       "<!-- AAAAAAA -->\n",
       "<g id=\"node3\" class=\"node\">\n",
       "<title>AAAAAAA</title>\n",
       "<polygon fill=\"none\" stroke=\"black\" points=\"320.5,-1862 235.5,-1862 235.5,-1826 320.5,-1826 320.5,-1862\"/>\n",
       "<text text-anchor=\"middle\" x=\"278\" y=\"-1840.3\" font-family=\"Times,serif\" font-size=\"14.00\">AAAAAAA</text>\n",
       "</g>\n",
       "<!-- 11111&#45;&#45;AAAAAAA -->\n",
       "<g id=\"edge1\" class=\"edge\">\n",
       "<title>11111&#45;&#45;AAAAAAA</title>\n",
       "<path fill=\"none\" stroke=\"black\" d=\"M123.8,-1879.9C154.24,-1872.77 201.37,-1861.72 235.32,-1853.77\"/>\n",
       "<text text-anchor=\"middle\" x=\"198\" y=\"-1865.8\" font-family=\"Times,serif\" font-size=\"14.00\">3</text>\n",
       "</g>\n",
       "<!-- Chicago -->\n",
       "<g id=\"node4\" class=\"node\">\n",
       "<title>Chicago</title>\n",
       "<polygon fill=\"none\" stroke=\"black\" points=\"315,-1948 241,-1948 241,-1912 315,-1912 315,-1948\"/>\n",
       "<text text-anchor=\"middle\" x=\"278\" y=\"-1926.3\" font-family=\"Times,serif\" font-size=\"14.00\">Chicago</text>\n",
       "</g>\n",
       "<!-- 11111&#45;&#45;Chicago -->\n",
       "<g id=\"edge2\" class=\"edge\">\n",
       "<title>11111&#45;&#45;Chicago</title>\n",
       "<path fill=\"none\" stroke=\"black\" d=\"M123.8,-1894.1C155.97,-1901.64 206.79,-1913.55 240.98,-1921.56\"/>\n",
       "<text text-anchor=\"middle\" x=\"198\" y=\"-1915.8\" font-family=\"Times,serif\" font-size=\"14.00\">1</text>\n",
       "</g>\n",
       "<!-- Juno Beach -->\n",
       "<g id=\"node5\" class=\"node\">\n",
       "<title>Juno Beach</title>\n",
       "<polygon fill=\"none\" stroke=\"black\" points=\"326,-1905 230,-1905 230,-1869 326,-1869 326,-1905\"/>\n",
       "<text text-anchor=\"middle\" x=\"278\" y=\"-1883.3\" font-family=\"Times,serif\" font-size=\"14.00\">Juno Beach</text>\n",
       "</g>\n",
       "<!-- 11111&#45;&#45;Juno Beach -->\n",
       "<g id=\"edge3\" class=\"edge\">\n",
       "<title>11111&#45;&#45;Juno Beach</title>\n",
       "<path fill=\"none\" stroke=\"black\" d=\"M123.8,-1887C152.61,-1887 196.38,-1887 229.76,-1887\"/>\n",
       "<text text-anchor=\"middle\" x=\"198\" y=\"-1890.8\" font-family=\"Times,serif\" font-size=\"14.00\">1</text>\n",
       "</g>\n",
       "<!-- 73102 -->\n",
       "<g id=\"node6\" class=\"node\">\n",
       "<title>73102</title>\n",
       "<polygon fill=\"none\" stroke=\"black\" points=\"123.5,-2012 61.5,-2012 61.5,-1976 123.5,-1976 123.5,-2012\"/>\n",
       "<text text-anchor=\"middle\" x=\"92.5\" y=\"-1990.3\" font-family=\"Times,serif\" font-size=\"14.00\">73102</text>\n",
       "</g>\n",
       "<!-- Oklahoma City -->\n",
       "<g id=\"node7\" class=\"node\">\n",
       "<title>Oklahoma City</title>\n",
       "<polygon fill=\"none\" stroke=\"black\" points=\"339,-2034 217,-2034 217,-1998 339,-1998 339,-2034\"/>\n",
       "<text text-anchor=\"middle\" x=\"278\" y=\"-2012.3\" font-family=\"Times,serif\" font-size=\"14.00\">Oklahoma City</text>\n",
       "</g>\n",
       "<!-- 73102&#45;&#45;Oklahoma City -->\n",
       "<g id=\"edge4\" class=\"edge\">\n",
       "<title>73102&#45;&#45;Oklahoma City</title>\n",
       "<path fill=\"none\" stroke=\"black\" d=\"M123.8,-1997.63C149.05,-2000.66 185.78,-2005.06 216.95,-2008.8\"/>\n",
       "<text text-anchor=\"middle\" x=\"198\" y=\"-2009.8\" font-family=\"Times,serif\" font-size=\"14.00\">2</text>\n",
       "</g>\n",
       "<!-- OKC -->\n",
       "<g id=\"node8\" class=\"node\">\n",
       "<title>OKC</title>\n",
       "<polygon fill=\"none\" stroke=\"black\" points=\"305,-1991 251,-1991 251,-1955 305,-1955 305,-1991\"/>\n",
       "<text text-anchor=\"middle\" x=\"278\" y=\"-1969.3\" font-family=\"Times,serif\" font-size=\"14.00\">OKC</text>\n",
       "</g>\n",
       "<!-- 73102&#45;&#45;OKC -->\n",
       "<g id=\"edge5\" class=\"edge\">\n",
       "<title>73102&#45;&#45;OKC</title>\n",
       "<path fill=\"none\" stroke=\"black\" d=\"M123.8,-1990.53C159.23,-1986.48 217.27,-1979.84 250.82,-1976\"/>\n",
       "<text text-anchor=\"middle\" x=\"198\" y=\"-1985.8\" font-family=\"Times,serif\" font-size=\"14.00\">1</text>\n",
       "</g>\n",
       "<!-- 10018 -->\n",
       "<g id=\"node9\" class=\"node\">\n",
       "<title>10018</title>\n",
       "<polygon fill=\"none\" stroke=\"black\" points=\"123.5,-121 61.5,-121 61.5,-85 123.5,-85 123.5,-121\"/>\n",
       "<text text-anchor=\"middle\" x=\"92.5\" y=\"-99.3\" font-family=\"Times,serif\" font-size=\"14.00\">10018</text>\n",
       "</g>\n",
       "<!-- New York -->\n",
       "<g id=\"node10\" class=\"node\">\n",
       "<title>New York</title>\n",
       "<polygon fill=\"none\" stroke=\"black\" points=\"320.5,-185 235.5,-185 235.5,-149 320.5,-149 320.5,-185\"/>\n",
       "<text text-anchor=\"middle\" x=\"278\" y=\"-163.3\" font-family=\"Times,serif\" font-size=\"14.00\">New York</text>\n",
       "</g>\n",
       "<!-- 10018&#45;&#45;New York -->\n",
       "<g id=\"edge6\" class=\"edge\">\n",
       "<title>10018&#45;&#45;New York</title>\n",
       "<path fill=\"none\" stroke=\"black\" d=\"M123.94,-100.03C148.09,-99.38 181.3,-102.5 203,-121 211.56,-128.29 203.05,-137.05 211,-145 217.66,-151.66 226.39,-156.31 235.31,-159.54\"/>\n",
       "<text text-anchor=\"middle\" x=\"198\" y=\"-124.8\" font-family=\"Times,serif\" font-size=\"14.00\">1</text>\n",
       "</g>\n",
       "<!-- New York City -->\n",
       "<g id=\"node11\" class=\"node\">\n",
       "<title>New York City</title>\n",
       "<polygon fill=\"none\" stroke=\"black\" points=\"337.5,-99 218.5,-99 218.5,-63 337.5,-63 337.5,-99\"/>\n",
       "<text text-anchor=\"middle\" x=\"278\" y=\"-77.3\" font-family=\"Times,serif\" font-size=\"14.00\">New York City</text>\n",
       "</g>\n",
       "<!-- 10018&#45;&#45;New York City -->\n",
       "<g id=\"edge7\" class=\"edge\">\n",
       "<title>10018&#45;&#45;New York City</title>\n",
       "<path fill=\"none\" stroke=\"black\" d=\"M123.8,-99.37C149.45,-96.29 186.97,-91.79 218.45,-88.02\"/>\n",
       "<text text-anchor=\"middle\" x=\"198\" y=\"-94.8\" font-family=\"Times,serif\" font-size=\"14.00\">1</text>\n",
       "</g>\n",
       "<!-- 20004 -->\n",
       "<g id=\"node12\" class=\"node\">\n",
       "<title>20004</title>\n",
       "<polygon fill=\"none\" stroke=\"black\" points=\"123.5,-2098 61.5,-2098 61.5,-2062 123.5,-2062 123.5,-2098\"/>\n",
       "<text text-anchor=\"middle\" x=\"92.5\" y=\"-2076.3\" font-family=\"Times,serif\" font-size=\"14.00\">20004</text>\n",
       "</g>\n",
       "<!-- North Tower -->\n",
       "<g id=\"node13\" class=\"node\">\n",
       "<title>North Tower</title>\n",
       "<polygon fill=\"none\" stroke=\"black\" points=\"331.5,-2120 224.5,-2120 224.5,-2084 331.5,-2084 331.5,-2120\"/>\n",
       "<text text-anchor=\"middle\" x=\"278\" y=\"-2098.3\" font-family=\"Times,serif\" font-size=\"14.00\">North Tower</text>\n",
       "</g>\n",
       "<!-- 20004&#45;&#45;North Tower -->\n",
       "<g id=\"edge8\" class=\"edge\">\n",
       "<title>20004&#45;&#45;North Tower</title>\n",
       "<path fill=\"none\" stroke=\"black\" d=\"M123.8,-2083.63C151.08,-2086.9 191.78,-2091.78 224.37,-2095.69\"/>\n",
       "<text text-anchor=\"middle\" x=\"198\" y=\"-2095.8\" font-family=\"Times,serif\" font-size=\"14.00\">1</text>\n",
       "</g>\n",
       "<!-- Washington -->\n",
       "<g id=\"node14\" class=\"node\">\n",
       "<title>Washington</title>\n",
       "<polygon fill=\"none\" stroke=\"black\" points=\"328.5,-2077 227.5,-2077 227.5,-2041 328.5,-2041 328.5,-2077\"/>\n",
       "<text text-anchor=\"middle\" x=\"278\" y=\"-2055.3\" font-family=\"Times,serif\" font-size=\"14.00\">Washington</text>\n",
       "</g>\n",
       "<!-- 20004&#45;&#45;Washington -->\n",
       "<g id=\"edge9\" class=\"edge\">\n",
       "<title>20004&#45;&#45;Washington</title>\n",
       "<path fill=\"none\" stroke=\"black\" d=\"M123.8,-2076.53C151.9,-2073.32 194.22,-2068.47 227.27,-2064.69\"/>\n",
       "<text text-anchor=\"middle\" x=\"198\" y=\"-2071.8\" font-family=\"Times,serif\" font-size=\"14.00\">1</text>\n",
       "</g>\n",
       "<!-- 22310 -->\n",
       "<g id=\"node15\" class=\"node\">\n",
       "<title>22310</title>\n",
       "<polygon fill=\"none\" stroke=\"black\" points=\"123.5,-2184 61.5,-2184 61.5,-2148 123.5,-2148 123.5,-2184\"/>\n",
       "<text text-anchor=\"middle\" x=\"92.5\" y=\"-2162.3\" font-family=\"Times,serif\" font-size=\"14.00\">22310</text>\n",
       "</g>\n",
       "<!-- Alexandria -->\n",
       "<g id=\"node16\" class=\"node\">\n",
       "<title>Alexandria</title>\n",
       "<polygon fill=\"none\" stroke=\"black\" points=\"324.5,-2206 231.5,-2206 231.5,-2170 324.5,-2170 324.5,-2206\"/>\n",
       "<text text-anchor=\"middle\" x=\"278\" y=\"-2184.3\" font-family=\"Times,serif\" font-size=\"14.00\">Alexandria</text>\n",
       "</g>\n",
       "<!-- 22310&#45;&#45;Alexandria -->\n",
       "<g id=\"edge10\" class=\"edge\">\n",
       "<title>22310&#45;&#45;Alexandria</title>\n",
       "<path fill=\"none\" stroke=\"black\" d=\"M123.8,-2169.63C153.02,-2173.14 197.62,-2178.48 231.17,-2182.51\"/>\n",
       "<text text-anchor=\"middle\" x=\"198\" y=\"-2181.8\" font-family=\"Times,serif\" font-size=\"14.00\">1</text>\n",
       "</g>\n",
       "<!-- Alkexandria -->\n",
       "<g id=\"node17\" class=\"node\">\n",
       "<title>Alkexandria</title>\n",
       "<polygon fill=\"none\" stroke=\"black\" points=\"328.5,-2163 227.5,-2163 227.5,-2127 328.5,-2127 328.5,-2163\"/>\n",
       "<text text-anchor=\"middle\" x=\"278\" y=\"-2141.3\" font-family=\"Times,serif\" font-size=\"14.00\">Alkexandria</text>\n",
       "</g>\n",
       "<!-- 22310&#45;&#45;Alkexandria -->\n",
       "<g id=\"edge11\" class=\"edge\">\n",
       "<title>22310&#45;&#45;Alkexandria</title>\n",
       "<path fill=\"none\" stroke=\"black\" d=\"M123.8,-2162.53C151.9,-2159.32 194.22,-2154.47 227.27,-2150.69\"/>\n",
       "<text text-anchor=\"middle\" x=\"198\" y=\"-2157.8\" font-family=\"Times,serif\" font-size=\"14.00\">1</text>\n",
       "</g>\n",
       "<!-- 49017 -->\n",
       "<g id=\"node18\" class=\"node\">\n",
       "<title>49017</title>\n",
       "<polygon fill=\"none\" stroke=\"black\" points=\"123.5,-2270 61.5,-2270 61.5,-2234 123.5,-2234 123.5,-2270\"/>\n",
       "<text text-anchor=\"middle\" x=\"92.5\" y=\"-2248.3\" font-family=\"Times,serif\" font-size=\"14.00\">49017</text>\n",
       "</g>\n",
       "<!-- Battle Creek -->\n",
       "<g id=\"node19\" class=\"node\">\n",
       "<title>Battle Creek</title>\n",
       "<polygon fill=\"none\" stroke=\"black\" points=\"331.5,-2292 224.5,-2292 224.5,-2256 331.5,-2256 331.5,-2292\"/>\n",
       "<text text-anchor=\"middle\" x=\"278\" y=\"-2270.3\" font-family=\"Times,serif\" font-size=\"14.00\">Battle Creek</text>\n",
       "</g>\n",
       "<!-- 49017&#45;&#45;Battle Creek -->\n",
       "<g id=\"edge12\" class=\"edge\">\n",
       "<title>49017&#45;&#45;Battle Creek</title>\n",
       "<path fill=\"none\" stroke=\"black\" d=\"M123.8,-2255.63C151.08,-2258.9 191.78,-2263.78 224.37,-2267.69\"/>\n",
       "<text text-anchor=\"middle\" x=\"198\" y=\"-2267.8\" font-family=\"Times,serif\" font-size=\"14.00\">1</text>\n",
       "</g>\n",
       "<!-- Battlecreek -->\n",
       "<g id=\"node20\" class=\"node\">\n",
       "<title>Battlecreek</title>\n",
       "<polygon fill=\"none\" stroke=\"black\" points=\"327.5,-2249 228.5,-2249 228.5,-2213 327.5,-2213 327.5,-2249\"/>\n",
       "<text text-anchor=\"middle\" x=\"278\" y=\"-2227.3\" font-family=\"Times,serif\" font-size=\"14.00\">Battlecreek</text>\n",
       "</g>\n",
       "<!-- 49017&#45;&#45;Battlecreek -->\n",
       "<g id=\"edge13\" class=\"edge\">\n",
       "<title>49017&#45;&#45;Battlecreek</title>\n",
       "<path fill=\"none\" stroke=\"black\" d=\"M123.8,-2248.53C152.2,-2245.28 195.14,-2240.37 228.34,-2236.57\"/>\n",
       "<text text-anchor=\"middle\" x=\"198\" y=\"-2243.8\" font-family=\"Times,serif\" font-size=\"14.00\">1</text>\n",
       "</g>\n",
       "<!-- 63146 -->\n",
       "<g id=\"node21\" class=\"node\">\n",
       "<title>63146</title>\n",
       "<polygon fill=\"none\" stroke=\"black\" points=\"123.5,-65 61.5,-65 61.5,-29 123.5,-29 123.5,-65\"/>\n",
       "<text text-anchor=\"middle\" x=\"92.5\" y=\"-43.3\" font-family=\"Times,serif\" font-size=\"14.00\">63146</text>\n",
       "</g>\n",
       "<!-- St Louis -->\n",
       "<g id=\"node22\" class=\"node\">\n",
       "<title>St Louis</title>\n",
       "<polygon fill=\"none\" stroke=\"black\" points=\"315.5,-51 240.5,-51 240.5,-15 315.5,-15 315.5,-51\"/>\n",
       "<text text-anchor=\"middle\" x=\"278\" y=\"-29.3\" font-family=\"Times,serif\" font-size=\"14.00\">St Louis</text>\n",
       "</g>\n",
       "<!-- 63146&#45;&#45;St Louis -->\n",
       "<g id=\"edge14\" class=\"edge\">\n",
       "<title>63146&#45;&#45;St Louis</title>\n",
       "<path fill=\"none\" stroke=\"black\" d=\"M123.51,-43.57C143.23,-41.42 169.63,-38.73 193,-37 208.43,-35.86 225.49,-34.98 240.17,-34.33\"/>\n",
       "<text text-anchor=\"middle\" x=\"198\" y=\"-40.8\" font-family=\"Times,serif\" font-size=\"14.00\">1</text>\n",
       "</g>\n",
       "<!-- St. Louis -->\n",
       "<g id=\"node23\" class=\"node\">\n",
       "<title>St. Louis</title>\n",
       "<polygon fill=\"none\" stroke=\"black\" points=\"318,-142 238,-142 238,-106 318,-106 318,-142\"/>\n",
       "<text text-anchor=\"middle\" x=\"278\" y=\"-120.3\" font-family=\"Times,serif\" font-size=\"14.00\">St. Louis</text>\n",
       "</g>\n",
       "<!-- 63146&#45;&#45;St. Louis -->\n",
       "<g id=\"edge15\" class=\"edge\">\n",
       "<title>63146&#45;&#45;St. Louis</title>\n",
       "<path fill=\"none\" stroke=\"black\" d=\"M123.86,-46.96C148.3,-48.56 181.94,-54.72 203,-75 212.02,-83.68 202.3,-93 211,-102 218.22,-109.47 228.04,-114.4 237.89,-117.66\"/>\n",
       "<text text-anchor=\"middle\" x=\"198\" y=\"-78.8\" font-family=\"Times,serif\" font-size=\"14.00\">1</text>\n",
       "</g>\n",
       "<!-- NA -->\n",
       "<g id=\"node24\" class=\"node\">\n",
       "<title>NA</title>\n",
       "<polygon fill=\"none\" stroke=\"black\" points=\"119.5,-1002 65.5,-1002 65.5,-966 119.5,-966 119.5,-1002\"/>\n",
       "<text text-anchor=\"middle\" x=\"92.5\" y=\"-980.3\" font-family=\"Times,serif\" font-size=\"14.00\">NA</text>\n",
       "</g>\n",
       "<!-- NA&#45;&#45;AAAAAAA -->\n",
       "<g id=\"edge21\" class=\"edge\">\n",
       "<title>NA&#45;&#45;AAAAAAA</title>\n",
       "<path fill=\"none\" stroke=\"black\" d=\"M93.5,-1002.25C93.97,-1090.69 101.35,-1482.81 193,-1786 198.18,-1803.12 197.49,-1810.28 211,-1822 217.93,-1828.01 226.57,-1832.4 235.28,-1835.59\"/>\n",
       "<text text-anchor=\"middle\" x=\"198\" y=\"-1816.8\" font-family=\"Times,serif\" font-size=\"14.00\">1</text>\n",
       "</g>\n",
       "<!-- NA&#45;&#45;New York -->\n",
       "<g id=\"edge40\" class=\"edge\">\n",
       "<title>NA&#45;&#45;New York</title>\n",
       "<path fill=\"none\" stroke=\"black\" d=\"M93.75,-965.93C95.34,-880.81 107.13,-512.02 193,-226 198.26,-208.49 197.25,-201.06 211,-189 217.9,-182.95 226.52,-178.55 235.23,-175.36\"/>\n",
       "<text text-anchor=\"middle\" x=\"198\" y=\"-229.8\" font-family=\"Times,serif\" font-size=\"14.00\">1</text>\n",
       "</g>\n",
       "<!-- NA&#45;&#45;St. Louis -->\n",
       "<g id=\"edge51\" class=\"edge\">\n",
       "<title>NA&#45;&#45;St. Louis</title>\n",
       "<path fill=\"none\" stroke=\"black\" d=\"M93.5,-965.75C93.97,-877.31 101.35,-485.19 193,-182 198.18,-164.88 197.49,-157.72 211,-146 218.57,-139.43 228.17,-134.81 237.69,-131.56\"/>\n",
       "<text text-anchor=\"middle\" x=\"198\" y=\"-185.8\" font-family=\"Times,serif\" font-size=\"14.00\">1</text>\n",
       "</g>\n",
       "<!-- DALLAS -->\n",
       "<g id=\"node25\" class=\"node\">\n",
       "<title>DALLAS</title>\n",
       "<polygon fill=\"none\" stroke=\"black\" points=\"315.5,-1088 240.5,-1088 240.5,-1052 315.5,-1052 315.5,-1088\"/>\n",
       "<text text-anchor=\"middle\" x=\"278\" y=\"-1066.3\" font-family=\"Times,serif\" font-size=\"14.00\">DALLAS</text>\n",
       "</g>\n",
       "<!-- NA&#45;&#45;DALLAS -->\n",
       "<g id=\"edge16\" class=\"edge\">\n",
       "<title>NA&#45;&#45;DALLAS</title>\n",
       "<path fill=\"none\" stroke=\"black\" d=\"M119.89,-1000.13C143.27,-1014 178.62,-1033.92 211,-1048 220.3,-1052.05 230.61,-1055.81 240.25,-1059.03\"/>\n",
       "<text text-anchor=\"middle\" x=\"198\" y=\"-1046.8\" font-family=\"Times,serif\" font-size=\"14.00\">3</text>\n",
       "</g>\n",
       "<!-- Irving -->\n",
       "<g id=\"node26\" class=\"node\">\n",
       "<title>Irving</title>\n",
       "<polygon fill=\"none\" stroke=\"black\" points=\"307.5,-1045 248.5,-1045 248.5,-1009 307.5,-1009 307.5,-1045\"/>\n",
       "<text text-anchor=\"middle\" x=\"278\" y=\"-1023.3\" font-family=\"Times,serif\" font-size=\"14.00\">Irving</text>\n",
       "</g>\n",
       "<!-- NA&#45;&#45;Irving -->\n",
       "<g id=\"edge17\" class=\"edge\">\n",
       "<title>NA&#45;&#45;Irving</title>\n",
       "<path fill=\"none\" stroke=\"black\" d=\"M119.79,-990.16C153.88,-998.15 213.13,-1012.03 248.34,-1020.28\"/>\n",
       "<text text-anchor=\"middle\" x=\"198\" y=\"-1012.8\" font-family=\"Times,serif\" font-size=\"14.00\">3</text>\n",
       "</g>\n",
       "<!-- Toronto -->\n",
       "<g id=\"node27\" class=\"node\">\n",
       "<title>Toronto</title>\n",
       "<polygon fill=\"none\" stroke=\"black\" points=\"313.5,-1002 242.5,-1002 242.5,-966 313.5,-966 313.5,-1002\"/>\n",
       "<text text-anchor=\"middle\" x=\"278\" y=\"-980.3\" font-family=\"Times,serif\" font-size=\"14.00\">Toronto</text>\n",
       "</g>\n",
       "<!-- NA&#45;&#45;Toronto -->\n",
       "<g id=\"edge18\" class=\"edge\">\n",
       "<title>NA&#45;&#45;Toronto</title>\n",
       "<path fill=\"none\" stroke=\"black\" d=\"M119.79,-984C152,-984 206.66,-984 242.29,-984\"/>\n",
       "<text text-anchor=\"middle\" x=\"198\" y=\"-987.8\" font-family=\"Times,serif\" font-size=\"14.00\">3</text>\n",
       "</g>\n",
       "<!-- Winnipeg -->\n",
       "<g id=\"node28\" class=\"node\">\n",
       "<title>Winnipeg</title>\n",
       "<polygon fill=\"none\" stroke=\"black\" points=\"320,-959 236,-959 236,-923 320,-923 320,-959\"/>\n",
       "<text text-anchor=\"middle\" x=\"278\" y=\"-937.3\" font-family=\"Times,serif\" font-size=\"14.00\">Winnipeg</text>\n",
       "</g>\n",
       "<!-- NA&#45;&#45;Winnipeg -->\n",
       "<g id=\"edge19\" class=\"edge\">\n",
       "<title>NA&#45;&#45;Winnipeg</title>\n",
       "<path fill=\"none\" stroke=\"black\" d=\"M119.79,-977.84C150.12,-970.73 200.35,-958.96 235.86,-950.64\"/>\n",
       "<text text-anchor=\"middle\" x=\"198\" y=\"-962.8\" font-family=\"Times,serif\" font-size=\"14.00\">3</text>\n",
       "</g>\n",
       "<!-- California -->\n",
       "<g id=\"node29\" class=\"node\">\n",
       "<title>California</title>\n",
       "<polygon fill=\"none\" stroke=\"black\" points=\"321,-916 235,-916 235,-880 321,-880 321,-916\"/>\n",
       "<text text-anchor=\"middle\" x=\"278\" y=\"-894.3\" font-family=\"Times,serif\" font-size=\"14.00\">California</text>\n",
       "</g>\n",
       "<!-- NA&#45;&#45;California -->\n",
       "<g id=\"edge20\" class=\"edge\">\n",
       "<title>NA&#45;&#45;California</title>\n",
       "<path fill=\"none\" stroke=\"black\" d=\"M119.89,-967.87C143.27,-954 178.62,-934.08 211,-920 218.53,-916.72 226.72,-913.64 234.68,-910.87\"/>\n",
       "<text text-anchor=\"middle\" x=\"198\" y=\"-930.8\" font-family=\"Times,serif\" font-size=\"14.00\">2</text>\n",
       "</g>\n",
       "<!-- Akron -->\n",
       "<g id=\"node30\" class=\"node\">\n",
       "<title>Akron</title>\n",
       "<polygon fill=\"none\" stroke=\"black\" points=\"307.5,-873 248.5,-873 248.5,-837 307.5,-837 307.5,-873\"/>\n",
       "<text text-anchor=\"middle\" x=\"278\" y=\"-851.3\" font-family=\"Times,serif\" font-size=\"14.00\">Akron</text>\n",
       "</g>\n",
       "<!-- NA&#45;&#45;Akron -->\n",
       "<g id=\"edge22\" class=\"edge\">\n",
       "<title>NA&#45;&#45;Akron</title>\n",
       "<path fill=\"none\" stroke=\"black\" d=\"M108.84,-965.98C129.73,-942.45 169.35,-901.42 211,-877 222.46,-870.28 236.26,-865.27 248.27,-861.75\"/>\n",
       "<text text-anchor=\"middle\" x=\"198\" y=\"-889.8\" font-family=\"Times,serif\" font-size=\"14.00\">1</text>\n",
       "</g>\n",
       "<!-- Atlanta -->\n",
       "<g id=\"node31\" class=\"node\">\n",
       "<title>Atlanta</title>\n",
       "<polygon fill=\"none\" stroke=\"black\" points=\"312,-830 244,-830 244,-794 312,-794 312,-830\"/>\n",
       "<text text-anchor=\"middle\" x=\"278\" y=\"-808.3\" font-family=\"Times,serif\" font-size=\"14.00\">Atlanta</text>\n",
       "</g>\n",
       "<!-- NA&#45;&#45;Atlanta -->\n",
       "<g id=\"edge23\" class=\"edge\">\n",
       "<title>NA&#45;&#45;Atlanta</title>\n",
       "<path fill=\"none\" stroke=\"black\" d=\"M102.93,-965.96C120.21,-934.61 159.9,-870.02 211,-834 220.67,-827.18 232.61,-822.36 243.67,-819\"/>\n",
       "<text text-anchor=\"middle\" x=\"198\" y=\"-849.8\" font-family=\"Times,serif\" font-size=\"14.00\">1</text>\n",
       "</g>\n",
       "<!-- Chandler -->\n",
       "<g id=\"node32\" class=\"node\">\n",
       "<title>Chandler</title>\n",
       "<polygon fill=\"none\" stroke=\"black\" points=\"319,-787 237,-787 237,-751 319,-751 319,-787\"/>\n",
       "<text text-anchor=\"middle\" x=\"278\" y=\"-765.3\" font-family=\"Times,serif\" font-size=\"14.00\">Chandler</text>\n",
       "</g>\n",
       "<!-- NA&#45;&#45;Chandler -->\n",
       "<g id=\"edge24\" class=\"edge\">\n",
       "<title>NA&#45;&#45;Chandler</title>\n",
       "<path fill=\"none\" stroke=\"black\" d=\"M99.61,-965.94C113.37,-927.94 150.41,-839.28 211,-791 218.46,-785.05 227.6,-780.68 236.68,-777.48\"/>\n",
       "<text text-anchor=\"middle\" x=\"198\" y=\"-805.8\" font-family=\"Times,serif\" font-size=\"14.00\">1</text>\n",
       "</g>\n",
       "<!-- Cincinnati -->\n",
       "<g id=\"node33\" class=\"node\">\n",
       "<title>Cincinnati</title>\n",
       "<polygon fill=\"none\" stroke=\"black\" points=\"322.5,-744 233.5,-744 233.5,-708 322.5,-708 322.5,-744\"/>\n",
       "<text text-anchor=\"middle\" x=\"278\" y=\"-722.3\" font-family=\"Times,serif\" font-size=\"14.00\">Cincinnati</text>\n",
       "</g>\n",
       "<!-- NA&#45;&#45;Cincinnati -->\n",
       "<g id=\"edge25\" class=\"edge\">\n",
       "<title>NA&#45;&#45;Cincinnati</title>\n",
       "<path fill=\"none\" stroke=\"black\" d=\"M97.33,-965.89C107.6,-921.82 139.93,-808.2 211,-748 217.45,-742.54 225.31,-738.41 233.32,-735.31\"/>\n",
       "<text text-anchor=\"middle\" x=\"198\" y=\"-766.8\" font-family=\"Times,serif\" font-size=\"14.00\">1</text>\n",
       "</g>\n",
       "<!-- Columbus -->\n",
       "<g id=\"node34\" class=\"node\">\n",
       "<title>Columbus</title>\n",
       "<polygon fill=\"none\" stroke=\"black\" points=\"322,-701 234,-701 234,-665 322,-665 322,-701\"/>\n",
       "<text text-anchor=\"middle\" x=\"278\" y=\"-679.3\" font-family=\"Times,serif\" font-size=\"14.00\">Columbus</text>\n",
       "</g>\n",
       "<!-- NA&#45;&#45;Columbus -->\n",
       "<g id=\"edge26\" class=\"edge\">\n",
       "<title>NA&#45;&#45;Columbus</title>\n",
       "<path fill=\"none\" stroke=\"black\" d=\"M95.67,-965.85C102.61,-916.21 128.8,-777.07 211,-705 217.54,-699.27 225.62,-695.02 233.86,-691.87\"/>\n",
       "<text text-anchor=\"middle\" x=\"198\" y=\"-726.8\" font-family=\"Times,serif\" font-size=\"14.00\">1</text>\n",
       "</g>\n",
       "<!-- Denver -->\n",
       "<g id=\"node35\" class=\"node\">\n",
       "<title>Denver</title>\n",
       "<polygon fill=\"none\" stroke=\"black\" points=\"312,-658 244,-658 244,-622 312,-622 312,-658\"/>\n",
       "<text text-anchor=\"middle\" x=\"278\" y=\"-636.3\" font-family=\"Times,serif\" font-size=\"14.00\">Denver</text>\n",
       "</g>\n",
       "<!-- NA&#45;&#45;Denver -->\n",
       "<g id=\"edge27\" class=\"edge\">\n",
       "<title>NA&#45;&#45;Denver</title>\n",
       "<path fill=\"none\" stroke=\"black\" d=\"M94.42,-965.8C98.2,-910.97 117.22,-745.94 211,-662 220.09,-653.86 232.28,-648.72 243.71,-645.48\"/>\n",
       "<text text-anchor=\"middle\" x=\"198\" y=\"-678.8\" font-family=\"Times,serif\" font-size=\"14.00\">1</text>\n",
       "</g>\n",
       "<!-- Detroit -->\n",
       "<g id=\"node36\" class=\"node\">\n",
       "<title>Detroit</title>\n",
       "<polygon fill=\"none\" stroke=\"black\" points=\"312,-615 244,-615 244,-579 312,-579 312,-615\"/>\n",
       "<text text-anchor=\"middle\" x=\"278\" y=\"-593.3\" font-family=\"Times,serif\" font-size=\"14.00\">Detroit</text>\n",
       "</g>\n",
       "<!-- NA&#45;&#45;Detroit -->\n",
       "<g id=\"edge28\" class=\"edge\">\n",
       "<title>NA&#45;&#45;Detroit</title>\n",
       "<path fill=\"none\" stroke=\"black\" d=\"M98.22,-965.76C111.29,-915.94 149.87,-773.6 193,-659 199.87,-640.75 196.54,-632.07 211,-619 220.05,-610.82 232.23,-605.67 243.67,-602.43\"/>\n",
       "<text text-anchor=\"middle\" x=\"198\" y=\"-662.8\" font-family=\"Times,serif\" font-size=\"14.00\">1</text>\n",
       "</g>\n",
       "<!-- Ellicott City -->\n",
       "<g id=\"node37\" class=\"node\">\n",
       "<title>Ellicott City</title>\n",
       "<polygon fill=\"none\" stroke=\"black\" points=\"329,-572 227,-572 227,-536 329,-536 329,-572\"/>\n",
       "<text text-anchor=\"middle\" x=\"278\" y=\"-550.3\" font-family=\"Times,serif\" font-size=\"14.00\">Ellicott City</text>\n",
       "</g>\n",
       "<!-- NA&#45;&#45;Ellicott City -->\n",
       "<g id=\"edge29\" class=\"edge\">\n",
       "<title>NA&#45;&#45;Ellicott City</title>\n",
       "<path fill=\"none\" stroke=\"black\" d=\"M97.08,-965.86C108.1,-911.38 143.77,-744.82 193,-613 199.4,-595.87 197.25,-588.06 211,-576 215.63,-571.94 221.04,-568.62 226.72,-565.92\"/>\n",
       "<text text-anchor=\"middle\" x=\"198\" y=\"-616.8\" font-family=\"Times,serif\" font-size=\"14.00\">1</text>\n",
       "</g>\n",
       "<!-- Fort Worth -->\n",
       "<g id=\"node38\" class=\"node\">\n",
       "<title>Fort Worth</title>\n",
       "<polygon fill=\"none\" stroke=\"black\" points=\"325.5,-529 230.5,-529 230.5,-493 325.5,-493 325.5,-529\"/>\n",
       "<text text-anchor=\"middle\" x=\"278\" y=\"-507.3\" font-family=\"Times,serif\" font-size=\"14.00\">Fort Worth</text>\n",
       "</g>\n",
       "<!-- NA&#45;&#45;Fort Worth -->\n",
       "<g id=\"edge30\" class=\"edge\">\n",
       "<title>NA&#45;&#45;Fort Worth</title>\n",
       "<path fill=\"none\" stroke=\"black\" d=\"M96.41,-965.84C106.11,-907.28 139.73,-718.56 193,-570 199.17,-552.79 197.25,-545.06 211,-533 216.63,-528.06 223.4,-524.23 230.44,-521.25\"/>\n",
       "<text text-anchor=\"middle\" x=\"198\" y=\"-573.8\" font-family=\"Times,serif\" font-size=\"14.00\">1</text>\n",
       "</g>\n",
       "<!-- Gastonia -->\n",
       "<g id=\"node39\" class=\"node\">\n",
       "<title>Gastonia</title>\n",
       "<polygon fill=\"none\" stroke=\"black\" points=\"318,-486 238,-486 238,-450 318,-450 318,-486\"/>\n",
       "<text text-anchor=\"middle\" x=\"278\" y=\"-464.3\" font-family=\"Times,serif\" font-size=\"14.00\">Gastonia</text>\n",
       "</g>\n",
       "<!-- NA&#45;&#45;Gastonia -->\n",
       "<g id=\"edge31\" class=\"edge\">\n",
       "<title>NA&#45;&#45;Gastonia</title>\n",
       "<path fill=\"none\" stroke=\"black\" d=\"M95.88,-965.72C104.36,-903.15 135.71,-692.34 193,-527 198.99,-509.72 197.25,-502.06 211,-490 218.63,-483.31 228.36,-478.64 237.99,-475.39\"/>\n",
       "<text text-anchor=\"middle\" x=\"198\" y=\"-530.8\" font-family=\"Times,serif\" font-size=\"14.00\">1</text>\n",
       "</g>\n",
       "<!-- Great Valley -->\n",
       "<g id=\"node40\" class=\"node\">\n",
       "<title>Great Valley</title>\n",
       "<polygon fill=\"none\" stroke=\"black\" points=\"330,-443 226,-443 226,-407 330,-407 330,-443\"/>\n",
       "<text text-anchor=\"middle\" x=\"278\" y=\"-421.3\" font-family=\"Times,serif\" font-size=\"14.00\">Great Valley</text>\n",
       "</g>\n",
       "<!-- NA&#45;&#45;Great Valley -->\n",
       "<g id=\"edge32\" class=\"edge\">\n",
       "<title>NA&#45;&#45;Great Valley</title>\n",
       "<path fill=\"none\" stroke=\"black\" d=\"M95.41,-965.86C102.71,-899.8 131.6,-666.45 193,-484 198.83,-466.67 197.25,-459.06 211,-447 215.36,-443.18 220.4,-440.02 225.72,-437.4\"/>\n",
       "<text text-anchor=\"middle\" x=\"198\" y=\"-487.8\" font-family=\"Times,serif\" font-size=\"14.00\">1</text>\n",
       "</g>\n",
       "<!-- Harrisburg -->\n",
       "<g id=\"node41\" class=\"node\">\n",
       "<title>Harrisburg</title>\n",
       "<polygon fill=\"none\" stroke=\"black\" points=\"326,-400 230,-400 230,-364 326,-364 326,-400\"/>\n",
       "<text text-anchor=\"middle\" x=\"278\" y=\"-378.3\" font-family=\"Times,serif\" font-size=\"14.00\">Harrisburg</text>\n",
       "</g>\n",
       "<!-- NA&#45;&#45;Harrisburg -->\n",
       "<g id=\"edge33\" class=\"edge\">\n",
       "<title>NA&#45;&#45;Harrisburg</title>\n",
       "<path fill=\"none\" stroke=\"black\" d=\"M94.96,-965.69C100.93,-895.76 126.4,-639.44 193,-440 198.67,-423.03 197.49,-415.72 211,-404 216.47,-399.25 223.01,-395.52 229.8,-392.59\"/>\n",
       "<text text-anchor=\"middle\" x=\"198\" y=\"-443.8\" font-family=\"Times,serif\" font-size=\"14.00\">1</text>\n",
       "</g>\n",
       "<!-- Lewisville -->\n",
       "<g id=\"node42\" class=\"node\">\n",
       "<title>Lewisville</title>\n",
       "<polygon fill=\"none\" stroke=\"black\" points=\"322,-357 234,-357 234,-321 322,-321 322,-357\"/>\n",
       "<text text-anchor=\"middle\" x=\"278\" y=\"-335.3\" font-family=\"Times,serif\" font-size=\"14.00\">Lewisville</text>\n",
       "</g>\n",
       "<!-- NA&#45;&#45;Lewisville -->\n",
       "<g id=\"edge34\" class=\"edge\">\n",
       "<title>NA&#45;&#45;Lewisville</title>\n",
       "<path fill=\"none\" stroke=\"black\" d=\"M94.7,-965.82C99.9,-892.83 123.48,-614.66 193,-398 198.59,-380.59 197.25,-373.06 211,-361 217.54,-355.27 225.62,-351.02 233.86,-347.87\"/>\n",
       "<text text-anchor=\"middle\" x=\"198\" y=\"-401.8\" font-family=\"Times,serif\" font-size=\"14.00\">1</text>\n",
       "</g>\n",
       "<!-- Los Angeles -->\n",
       "<g id=\"node43\" class=\"node\">\n",
       "<title>Los Angeles</title>\n",
       "<polygon fill=\"none\" stroke=\"black\" points=\"329,-314 227,-314 227,-278 329,-278 329,-314\"/>\n",
       "<text text-anchor=\"middle\" x=\"278\" y=\"-292.3\" font-family=\"Times,serif\" font-size=\"14.00\">Los Angeles</text>\n",
       "</g>\n",
       "<!-- NA&#45;&#45;Los Angeles -->\n",
       "<g id=\"edge35\" class=\"edge\">\n",
       "<title>NA&#45;&#45;Los Angeles</title>\n",
       "<path fill=\"none\" stroke=\"black\" d=\"M94.34,-965.74C98.29,-889.27 118.06,-587.83 193,-354 198.46,-336.96 197.49,-329.72 211,-318 215.65,-313.96 221.07,-310.66 226.77,-307.96\"/>\n",
       "<text text-anchor=\"middle\" x=\"198\" y=\"-357.8\" font-family=\"Times,serif\" font-size=\"14.00\">1</text>\n",
       "</g>\n",
       "<!-- Lynchburgh -->\n",
       "<g id=\"node44\" class=\"node\">\n",
       "<title>Lynchburgh</title>\n",
       "<polygon fill=\"none\" stroke=\"black\" points=\"329,-271 227,-271 227,-235 329,-235 329,-271\"/>\n",
       "<text text-anchor=\"middle\" x=\"278\" y=\"-249.3\" font-family=\"Times,serif\" font-size=\"14.00\">Lynchburgh</text>\n",
       "</g>\n",
       "<!-- NA&#45;&#45;Lynchburgh -->\n",
       "<g id=\"edge36\" class=\"edge\">\n",
       "<title>NA&#45;&#45;Lynchburgh</title>\n",
       "<path fill=\"none\" stroke=\"black\" d=\"M94.16,-965.91C97.47,-886.7 115.31,-563.27 193,-312 198.4,-294.53 197.25,-287.06 211,-275 215.63,-270.94 221.04,-267.62 226.72,-264.92\"/>\n",
       "<text text-anchor=\"middle\" x=\"198\" y=\"-315.8\" font-family=\"Times,serif\" font-size=\"14.00\">1</text>\n",
       "</g>\n",
       "<!-- Markham -->\n",
       "<g id=\"node45\" class=\"node\">\n",
       "<title>Markham</title>\n",
       "<polygon fill=\"none\" stroke=\"black\" points=\"320.5,-228 235.5,-228 235.5,-192 320.5,-192 320.5,-228\"/>\n",
       "<text text-anchor=\"middle\" x=\"278\" y=\"-206.3\" font-family=\"Times,serif\" font-size=\"14.00\">Markham</text>\n",
       "</g>\n",
       "<!-- NA&#45;&#45;Markham -->\n",
       "<g id=\"edge37\" class=\"edge\">\n",
       "<title>NA&#45;&#45;Markham</title>\n",
       "<path fill=\"none\" stroke=\"black\" d=\"M93.87,-965.82C95.99,-883.31 109.69,-536.49 193,-268 198.3,-250.91 197.49,-243.72 211,-232 217.93,-225.99 226.57,-221.6 235.28,-218.41\"/>\n",
       "<text text-anchor=\"middle\" x=\"198\" y=\"-271.8\" font-family=\"Times,serif\" font-size=\"14.00\">1</text>\n",
       "</g>\n",
       "<!-- Minneapolis -->\n",
       "<g id=\"node46\" class=\"node\">\n",
       "<title>Minneapolis</title>\n",
       "<polygon fill=\"none\" stroke=\"black\" points=\"330,-1819 226,-1819 226,-1783 330,-1783 330,-1819\"/>\n",
       "<text text-anchor=\"middle\" x=\"278\" y=\"-1797.3\" font-family=\"Times,serif\" font-size=\"14.00\">Minneapolis</text>\n",
       "</g>\n",
       "<!-- NA&#45;&#45;Minneapolis -->\n",
       "<g id=\"edge38\" class=\"edge\">\n",
       "<title>NA&#45;&#45;Minneapolis</title>\n",
       "<path fill=\"none\" stroke=\"black\" d=\"M93.75,-1002.07C95.34,-1087.19 107.13,-1455.98 193,-1742 198.26,-1759.51 197.25,-1766.94 211,-1779 215.36,-1782.82 220.4,-1785.98 225.72,-1788.6\"/>\n",
       "<text text-anchor=\"middle\" x=\"198\" y=\"-1773.8\" font-family=\"Times,serif\" font-size=\"14.00\">1</text>\n",
       "</g>\n",
       "<!-- Natick -->\n",
       "<g id=\"node47\" class=\"node\">\n",
       "<title>Natick</title>\n",
       "<polygon fill=\"none\" stroke=\"black\" points=\"309.5,-1776 246.5,-1776 246.5,-1740 309.5,-1740 309.5,-1776\"/>\n",
       "<text text-anchor=\"middle\" x=\"278\" y=\"-1754.3\" font-family=\"Times,serif\" font-size=\"14.00\">Natick</text>\n",
       "</g>\n",
       "<!-- NA&#45;&#45;Natick -->\n",
       "<g id=\"edge39\" class=\"edge\">\n",
       "<title>NA&#45;&#45;Natick</title>\n",
       "<path fill=\"none\" stroke=\"black\" d=\"M93.87,-1002.18C95.99,-1084.69 109.69,-1431.51 193,-1700 198.3,-1717.09 197.49,-1724.28 211,-1736 220.85,-1744.55 234.14,-1749.8 246.21,-1753.01\"/>\n",
       "<text text-anchor=\"middle\" x=\"198\" y=\"-1729.8\" font-family=\"Times,serif\" font-size=\"14.00\">1</text>\n",
       "</g>\n",
       "<!-- Newport News -->\n",
       "<g id=\"node48\" class=\"node\">\n",
       "<title>Newport News</title>\n",
       "<polygon fill=\"none\" stroke=\"black\" points=\"339.5,-1733 216.5,-1733 216.5,-1697 339.5,-1697 339.5,-1733\"/>\n",
       "<text text-anchor=\"middle\" x=\"278\" y=\"-1711.3\" font-family=\"Times,serif\" font-size=\"14.00\">Newport News</text>\n",
       "</g>\n",
       "<!-- NA&#45;&#45;Newport News -->\n",
       "<g id=\"edge41\" class=\"edge\">\n",
       "<title>NA&#45;&#45;Newport News</title>\n",
       "<path fill=\"none\" stroke=\"black\" d=\"M94.16,-1002.09C97.47,-1081.3 115.31,-1404.73 193,-1656 198.4,-1673.47 197.25,-1680.94 211,-1693 212.73,-1694.51 214.56,-1695.92 216.47,-1697.24\"/>\n",
       "<text text-anchor=\"middle\" x=\"198\" y=\"-1687.8\" font-family=\"Times,serif\" font-size=\"14.00\">1</text>\n",
       "</g>\n",
       "<!-- Perrysburg -->\n",
       "<g id=\"node49\" class=\"node\">\n",
       "<title>Perrysburg</title>\n",
       "<polygon fill=\"none\" stroke=\"black\" points=\"326.5,-1690 229.5,-1690 229.5,-1654 326.5,-1654 326.5,-1690\"/>\n",
       "<text text-anchor=\"middle\" x=\"278\" y=\"-1668.3\" font-family=\"Times,serif\" font-size=\"14.00\">Perrysburg</text>\n",
       "</g>\n",
       "<!-- NA&#45;&#45;Perrysburg -->\n",
       "<g id=\"edge42\" class=\"edge\">\n",
       "<title>NA&#45;&#45;Perrysburg</title>\n",
       "<path fill=\"none\" stroke=\"black\" d=\"M94.34,-1002.26C98.29,-1078.73 118.06,-1380.17 193,-1614 198.46,-1631.04 197.49,-1638.28 211,-1650 216.38,-1654.67 222.79,-1658.35 229.46,-1661.26\"/>\n",
       "<text text-anchor=\"middle\" x=\"198\" y=\"-1643.8\" font-family=\"Times,serif\" font-size=\"14.00\">1</text>\n",
       "</g>\n",
       "<!-- Powhatan Point -->\n",
       "<g id=\"node50\" class=\"node\">\n",
       "<title>Powhatan Point</title>\n",
       "<polygon fill=\"none\" stroke=\"black\" points=\"342,-1647 214,-1647 214,-1611 342,-1611 342,-1647\"/>\n",
       "<text text-anchor=\"middle\" x=\"278\" y=\"-1625.3\" font-family=\"Times,serif\" font-size=\"14.00\">Powhatan Point</text>\n",
       "</g>\n",
       "<!-- NA&#45;&#45;Powhatan Point -->\n",
       "<g id=\"edge43\" class=\"edge\">\n",
       "<title>NA&#45;&#45;Powhatan Point</title>\n",
       "<path fill=\"none\" stroke=\"black\" d=\"M94.7,-1002.18C99.9,-1075.17 123.48,-1353.34 193,-1570 198.59,-1587.41 197.25,-1594.94 211,-1607 212.54,-1608.35 214.17,-1609.62 215.87,-1610.82\"/>\n",
       "<text text-anchor=\"middle\" x=\"198\" y=\"-1601.8\" font-family=\"Times,serif\" font-size=\"14.00\">1</text>\n",
       "</g>\n",
       "<!-- Remote -->\n",
       "<g id=\"node51\" class=\"node\">\n",
       "<title>Remote</title>\n",
       "<polygon fill=\"none\" stroke=\"black\" points=\"313.5,-1604 242.5,-1604 242.5,-1568 313.5,-1568 313.5,-1604\"/>\n",
       "<text text-anchor=\"middle\" x=\"278\" y=\"-1582.3\" font-family=\"Times,serif\" font-size=\"14.00\">Remote</text>\n",
       "</g>\n",
       "<!-- NA&#45;&#45;Remote -->\n",
       "<g id=\"edge44\" class=\"edge\">\n",
       "<title>NA&#45;&#45;Remote</title>\n",
       "<path fill=\"none\" stroke=\"black\" d=\"M94.96,-1002.31C100.93,-1072.24 126.4,-1328.56 193,-1528 198.67,-1544.97 197.49,-1552.28 211,-1564 219.85,-1571.68 231.47,-1576.69 242.49,-1579.97\"/>\n",
       "<text text-anchor=\"middle\" x=\"198\" y=\"-1557.8\" font-family=\"Times,serif\" font-size=\"14.00\">1</text>\n",
       "</g>\n",
       "<!-- Salisbury -->\n",
       "<g id=\"node52\" class=\"node\">\n",
       "<title>Salisbury</title>\n",
       "<polygon fill=\"none\" stroke=\"black\" points=\"320,-1561 236,-1561 236,-1525 320,-1525 320,-1561\"/>\n",
       "<text text-anchor=\"middle\" x=\"278\" y=\"-1539.3\" font-family=\"Times,serif\" font-size=\"14.00\">Salisbury</text>\n",
       "</g>\n",
       "<!-- NA&#45;&#45;Salisbury -->\n",
       "<g id=\"edge45\" class=\"edge\">\n",
       "<title>NA&#45;&#45;Salisbury</title>\n",
       "<path fill=\"none\" stroke=\"black\" d=\"M95.41,-1002.14C102.71,-1068.2 131.6,-1301.55 193,-1484 198.83,-1501.33 197.25,-1508.94 211,-1521 218.08,-1527.21 226.98,-1531.68 235.92,-1534.89\"/>\n",
       "<text text-anchor=\"middle\" x=\"198\" y=\"-1515.8\" font-family=\"Times,serif\" font-size=\"14.00\">1</text>\n",
       "</g>\n",
       "<!-- San Antonio -->\n",
       "<g id=\"node53\" class=\"node\">\n",
       "<title>San Antonio</title>\n",
       "<polygon fill=\"none\" stroke=\"black\" points=\"329.5,-1518 226.5,-1518 226.5,-1482 329.5,-1482 329.5,-1518\"/>\n",
       "<text text-anchor=\"middle\" x=\"278\" y=\"-1496.3\" font-family=\"Times,serif\" font-size=\"14.00\">San Antonio</text>\n",
       "</g>\n",
       "<!-- NA&#45;&#45;San Antonio -->\n",
       "<g id=\"edge46\" class=\"edge\">\n",
       "<title>NA&#45;&#45;San Antonio</title>\n",
       "<path fill=\"none\" stroke=\"black\" d=\"M95.88,-1002.28C104.36,-1064.85 135.71,-1275.66 193,-1441 198.99,-1458.28 197.25,-1465.94 211,-1478 215.54,-1481.98 220.83,-1485.25 226.39,-1487.92\"/>\n",
       "<text text-anchor=\"middle\" x=\"198\" y=\"-1471.8\" font-family=\"Times,serif\" font-size=\"14.00\">1</text>\n",
       "</g>\n",
       "<!-- San Francisco -->\n",
       "<g id=\"node54\" class=\"node\">\n",
       "<title>San Francisco</title>\n",
       "<polygon fill=\"none\" stroke=\"black\" points=\"336.5,-1475 219.5,-1475 219.5,-1439 336.5,-1439 336.5,-1475\"/>\n",
       "<text text-anchor=\"middle\" x=\"278\" y=\"-1453.3\" font-family=\"Times,serif\" font-size=\"14.00\">San Francisco</text>\n",
       "</g>\n",
       "<!-- NA&#45;&#45;San Francisco -->\n",
       "<g id=\"edge47\" class=\"edge\">\n",
       "<title>NA&#45;&#45;San Francisco</title>\n",
       "<path fill=\"none\" stroke=\"black\" d=\"M96.41,-1002.16C106.11,-1060.72 139.73,-1249.44 193,-1398 199.17,-1415.21 197.25,-1422.94 211,-1435 213.54,-1437.23 216.32,-1439.23 219.25,-1441.04\"/>\n",
       "<text text-anchor=\"middle\" x=\"198\" y=\"-1428.8\" font-family=\"Times,serif\" font-size=\"14.00\">1</text>\n",
       "</g>\n",
       "<!-- San Jose -->\n",
       "<g id=\"node55\" class=\"node\">\n",
       "<title>San Jose</title>\n",
       "<polygon fill=\"none\" stroke=\"black\" points=\"316.5,-1432 239.5,-1432 239.5,-1396 316.5,-1396 316.5,-1432\"/>\n",
       "<text text-anchor=\"middle\" x=\"278\" y=\"-1410.3\" font-family=\"Times,serif\" font-size=\"14.00\">San Jose</text>\n",
       "</g>\n",
       "<!-- NA&#45;&#45;San Jose -->\n",
       "<g id=\"edge48\" class=\"edge\">\n",
       "<title>NA&#45;&#45;San Jose</title>\n",
       "<path fill=\"none\" stroke=\"black\" d=\"M97.08,-1002.14C108.1,-1056.62 143.77,-1223.18 193,-1355 199.4,-1372.13 197.25,-1379.94 211,-1392 218.99,-1399.01 229.29,-1403.8 239.36,-1407.07\"/>\n",
       "<text text-anchor=\"middle\" x=\"198\" y=\"-1385.8\" font-family=\"Times,serif\" font-size=\"14.00\">1</text>\n",
       "</g>\n",
       "<!-- Scottsdale -->\n",
       "<g id=\"node56\" class=\"node\">\n",
       "<title>Scottsdale</title>\n",
       "<polygon fill=\"none\" stroke=\"black\" points=\"324,-1389 232,-1389 232,-1353 324,-1353 324,-1389\"/>\n",
       "<text text-anchor=\"middle\" x=\"278\" y=\"-1367.3\" font-family=\"Times,serif\" font-size=\"14.00\">Scottsdale</text>\n",
       "</g>\n",
       "<!-- NA&#45;&#45;Scottsdale -->\n",
       "<g id=\"edge49\" class=\"edge\">\n",
       "<title>NA&#45;&#45;Scottsdale</title>\n",
       "<path fill=\"none\" stroke=\"black\" d=\"M98.22,-1002.24C111.29,-1052.06 149.87,-1194.4 193,-1309 199.87,-1327.25 196.54,-1335.93 211,-1349 216.91,-1354.34 224.17,-1358.4 231.67,-1361.47\"/>\n",
       "<text text-anchor=\"middle\" x=\"198\" y=\"-1342.8\" font-family=\"Times,serif\" font-size=\"14.00\">1</text>\n",
       "</g>\n",
       "<!-- Skillman -->\n",
       "<g id=\"node57\" class=\"node\">\n",
       "<title>Skillman</title>\n",
       "<polygon fill=\"none\" stroke=\"black\" points=\"317.5,-1346 238.5,-1346 238.5,-1310 317.5,-1310 317.5,-1346\"/>\n",
       "<text text-anchor=\"middle\" x=\"278\" y=\"-1324.3\" font-family=\"Times,serif\" font-size=\"14.00\">Skillman</text>\n",
       "</g>\n",
       "<!-- NA&#45;&#45;Skillman -->\n",
       "<g id=\"edge50\" class=\"edge\">\n",
       "<title>NA&#45;&#45;Skillman</title>\n",
       "<path fill=\"none\" stroke=\"black\" d=\"M94.42,-1002.2C98.2,-1057.03 117.22,-1222.06 211,-1306 218.65,-1312.85 228.5,-1317.57 238.24,-1320.83\"/>\n",
       "<text text-anchor=\"middle\" x=\"198\" y=\"-1296.8\" font-family=\"Times,serif\" font-size=\"14.00\">1</text>\n",
       "</g>\n",
       "<!-- St.Louis -->\n",
       "<g id=\"node58\" class=\"node\">\n",
       "<title>St.Louis</title>\n",
       "<polygon fill=\"none\" stroke=\"black\" points=\"315.5,-1303 240.5,-1303 240.5,-1267 315.5,-1267 315.5,-1303\"/>\n",
       "<text text-anchor=\"middle\" x=\"278\" y=\"-1281.3\" font-family=\"Times,serif\" font-size=\"14.00\">St.Louis</text>\n",
       "</g>\n",
       "<!-- NA&#45;&#45;St.Louis -->\n",
       "<g id=\"edge52\" class=\"edge\">\n",
       "<title>NA&#45;&#45;St.Louis</title>\n",
       "<path fill=\"none\" stroke=\"black\" d=\"M95.67,-1002.15C102.61,-1051.79 128.8,-1190.93 211,-1263 219.26,-1270.25 229.99,-1275.12 240.39,-1278.39\"/>\n",
       "<text text-anchor=\"middle\" x=\"198\" y=\"-1254.8\" font-family=\"Times,serif\" font-size=\"14.00\">1</text>\n",
       "</g>\n",
       "<!-- The Woodlands -->\n",
       "<g id=\"node59\" class=\"node\">\n",
       "<title>The Woodlands</title>\n",
       "<polygon fill=\"none\" stroke=\"black\" points=\"340.5,-1260 215.5,-1260 215.5,-1224 340.5,-1224 340.5,-1260\"/>\n",
       "<text text-anchor=\"middle\" x=\"278\" y=\"-1238.3\" font-family=\"Times,serif\" font-size=\"14.00\">The Woodlands</text>\n",
       "</g>\n",
       "<!-- NA&#45;&#45;The Woodlands -->\n",
       "<g id=\"edge53\" class=\"edge\">\n",
       "<title>NA&#45;&#45;The Woodlands</title>\n",
       "<path fill=\"none\" stroke=\"black\" d=\"M97.38,-1002.06C107.75,-1046.01 140.29,-1159.37 211,-1220 212.65,-1221.42 214.4,-1222.74 216.21,-1223.98\"/>\n",
       "<text text-anchor=\"middle\" x=\"198\" y=\"-1213.8\" font-family=\"Times,serif\" font-size=\"14.00\">1</text>\n",
       "</g>\n",
       "<!-- Toronto, -->\n",
       "<g id=\"node60\" class=\"node\">\n",
       "<title>Toronto,</title>\n",
       "<polygon fill=\"none\" stroke=\"black\" points=\"316,-1217 240,-1217 240,-1181 316,-1181 316,-1217\"/>\n",
       "<text text-anchor=\"middle\" x=\"278\" y=\"-1195.3\" font-family=\"Times,serif\" font-size=\"14.00\">Toronto,</text>\n",
       "</g>\n",
       "<!-- NA&#45;&#45;Toronto, -->\n",
       "<g id=\"edge54\" class=\"edge\">\n",
       "<title>NA&#45;&#45;Toronto,</title>\n",
       "<path fill=\"none\" stroke=\"black\" d=\"M99.61,-1002.06C113.37,-1040.06 150.41,-1128.72 211,-1177 219.31,-1183.62 229.71,-1188.29 239.77,-1191.57\"/>\n",
       "<text text-anchor=\"middle\" x=\"198\" y=\"-1172.8\" font-family=\"Times,serif\" font-size=\"14.00\">1</text>\n",
       "</g>\n",
       "<!-- Toronto, Ontario -->\n",
       "<g id=\"node61\" class=\"node\">\n",
       "<title>Toronto, Ontario</title>\n",
       "<polygon fill=\"none\" stroke=\"black\" points=\"345,-1174 211,-1174 211,-1138 345,-1138 345,-1174\"/>\n",
       "<text text-anchor=\"middle\" x=\"278\" y=\"-1152.3\" font-family=\"Times,serif\" font-size=\"14.00\">Toronto, Ontario</text>\n",
       "</g>\n",
       "<!-- NA&#45;&#45;Toronto, Ontario -->\n",
       "<g id=\"edge55\" class=\"edge\">\n",
       "<title>NA&#45;&#45;Toronto, Ontario</title>\n",
       "<path fill=\"none\" stroke=\"black\" d=\"M102.93,-1002.04C120.21,-1033.39 159.9,-1097.98 211,-1134 212.97,-1135.39 215.04,-1136.7 217.18,-1137.93\"/>\n",
       "<text text-anchor=\"middle\" x=\"198\" y=\"-1130.8\" font-family=\"Times,serif\" font-size=\"14.00\">1</text>\n",
       "</g>\n",
       "<!-- Uxbridge -->\n",
       "<g id=\"node62\" class=\"node\">\n",
       "<title>Uxbridge</title>\n",
       "<polygon fill=\"none\" stroke=\"black\" points=\"319.5,-1131 236.5,-1131 236.5,-1095 319.5,-1095 319.5,-1131\"/>\n",
       "<text text-anchor=\"middle\" x=\"278\" y=\"-1109.3\" font-family=\"Times,serif\" font-size=\"14.00\">Uxbridge</text>\n",
       "</g>\n",
       "<!-- NA&#45;&#45;Uxbridge -->\n",
       "<g id=\"edge56\" class=\"edge\">\n",
       "<title>NA&#45;&#45;Uxbridge</title>\n",
       "<path fill=\"none\" stroke=\"black\" d=\"M108.84,-1002.02C129.73,-1025.55 169.35,-1066.58 211,-1091 218.81,-1095.58 227.72,-1099.37 236.4,-1102.43\"/>\n",
       "<text text-anchor=\"middle\" x=\"198\" y=\"-1087.8\" font-family=\"Times,serif\" font-size=\"14.00\">1</text>\n",
       "</g>\n",
       "</g>\n",
       "</svg>\n"
      ],
      "text/plain": [
       "<graphviz.graphs.Graph at 0x7f83eba5c700>"
      ]
     },
     "execution_count": 31,
     "metadata": {},
     "output_type": "execute_result"
    }
   ],
   "source": [
    "customer_state_df.plot_dependency_violations('Postal Code', 'City')"
   ]
  },
  {
   "cell_type": "markdown",
   "id": "865d3222-7c45-4a99-a6ce-3f9fe9f79b41",
   "metadata": {
    "nteract": {
     "transient": {
      "deleting": false
     }
    }
   },
   "source": [
    "The plot of dependency violations shows values for *Postal Code* on the left hand side, and values for *City* on the right hand side. An edge connects a *Postal Code* on the left with a *City* on the right if there is a row that contains these two respective values. The edges are annotated with the count of such rows. For example, there are two rows with postal code 20004, one with CITY \"North Tower\" and one with CITY \"Washington\":\n",
    "\n",
    "Moreover, the plot shows a few violations and many empty values."
   ]
  },
  {
   "cell_type": "code",
   "execution_count": 11,
   "id": "24404ee3-53b2-4745-ac93-4999635ec637",
   "metadata": {
    "jupyter": {
     "outputs_hidden": false,
     "source_hidden": false
    },
    "nteract": {
     "transient": {
      "deleting": false
     }
    }
   },
   "outputs": [
    {
     "data": {
      "application/vnd.livy.statement-meta+json": {
       "execution_finish_time": "2023-09-13T03:48:35.275529Z",
       "execution_start_time": "2023-09-13T03:48:34.7901132Z",
       "livy_statement_state": "available",
       "parent_msg_id": "b281182b-018f-4443-aa39-42105a7c95b0",
       "queued_time": "2023-09-13T03:48:34.3962008Z",
       "session_id": "fc14b6c0-dca9-4949-a887-6bf9f5f5e3bc",
       "session_start_time": null,
       "spark_jobs": {
        "jobs": [],
        "limit": 20,
        "numbers": {
         "FAILED": 0,
         "RUNNING": 0,
         "SUCCEEDED": 0,
         "UNKNOWN": 0
        },
        "rule": "ALL_DESC"
       },
       "spark_pool": null,
       "state": "finished",
       "statement_id": 18
      },
      "text/plain": [
       "StatementMeta(, fc14b6c0-dca9-4949-a887-6bf9f5f5e3bc, 18, Finished, Available)"
      ]
     },
     "metadata": {},
     "output_type": "display_data"
    },
    {
     "data": {
      "text/plain": [
       "50"
      ]
     },
     "execution_count": 34,
     "metadata": {},
     "output_type": "execute_result"
    }
   ],
   "source": [
    "customer_state_df['Postal Code'].isna().sum()"
   ]
  },
  {
   "cell_type": "markdown",
   "id": "4367ad23-0a64-40d3-babe-8ef95013c1a5",
   "metadata": {
    "nteract": {
     "transient": {
      "deleting": false
     }
    }
   },
   "source": [
    "50 rows have NA for postal code. \n",
    "\n",
    "Next, drop rows with empty values. Then, find dependencies using the ``find_dependencies`` function. Notice the additional parameter ``verbose=1`` that offers a glimpse into the internal workings of SemPy:"
   ]
  },
  {
   "cell_type": "code",
   "execution_count": 12,
   "id": "b71f1736-08ee-43d1-a506-09541c0a3536",
   "metadata": {
    "jupyter": {
     "outputs_hidden": false,
     "source_hidden": false
    },
    "nteract": {
     "transient": {
      "deleting": false
     }
    }
   },
   "outputs": [
    {
     "data": {
      "application/vnd.livy.statement-meta+json": {
       "execution_finish_time": "2023-09-13T03:48:38.3282969Z",
       "execution_start_time": "2023-09-13T03:48:37.8773915Z",
       "livy_statement_state": "available",
       "parent_msg_id": "d25153ae-08c9-44e2-8910-15e1d3ec786f",
       "queued_time": "2023-09-13T03:48:37.510157Z",
       "session_id": "fc14b6c0-dca9-4949-a887-6bf9f5f5e3bc",
       "session_start_time": null,
       "spark_jobs": {
        "jobs": [],
        "limit": 20,
        "numbers": {
         "FAILED": 0,
         "RUNNING": 0,
         "SUCCEEDED": 0,
         "UNKNOWN": 0
        },
        "rule": "ALL_DESC"
       },
       "spark_pool": null,
       "state": "finished",
       "statement_id": 19
      },
      "text/plain": [
       "StatementMeta(, fc14b6c0-dca9-4949-a887-6bf9f5f5e3bc, 19, Finished, Available)"
      ]
     },
     "metadata": {},
     "output_type": "display_data"
    },
    {
     "name": "stdout",
     "output_type": "stream",
     "text": [
      "State_x, StateCode: nunique 33, 33\n",
      "Mapping size 33, dependency: True\n",
      "State_x, State_y: nunique 33, 33\n",
      "Mapping size 33, dependency: True\n",
      "\n",
      "Dependencies for 10 columns 8 groups 275 rows, dropna=False, threshold=0.01\n",
      "Region, Country/Region: cardinality shortcut: 0.0, 1.0\n",
      "Region, Country/Region: conditional entropy 0.0, 1.0\n",
      "Industry ID, Region: cached calculation 2.9751958829576504, 1.4548338980405395, 0.35134562333349867\n",
      "Industry ID, Region: conditional entropy 1.103488274707041, 2.6238502596241515\n",
      "Industry ID, Country/Region: cardinality shortcut: 0.0, 1.0\n",
      "Industry ID, Country/Region: conditional entropy 0.0, 1.0\n",
      "State_x, Industry ID: cached calculation 2.9883008304144907, 2.9751958829576504, 1.1575667522391768\n",
      "State_x, Industry ID: conditional entropy 1.8176291307184735, 1.8307340781753139\n",
      "State_x, Region: cached calculation 2.9883008304144907, 1.4548338980405395, 1.4548338980405395\n",
      "State_x, Region: conditional entropy 0.0, 1.5334669323739512\n",
      "State_x, Country/Region: indirectly dependent\n",
      "City, State_x: cached calculation 4.806051456908877, 2.9883008304144907, 2.9782186896063463\n",
      "City, State_x: conditional entropy 0.010082140808144402, 1.8278327673025307\n",
      "City, Industry ID: cached calculation 4.806051456908877, 2.9751958829576504, 2.423823820733329\n",
      "City, Industry ID: conditional entropy 0.5513720622243214, 2.382227636175548\n",
      "City, Region: cached calculation 4.806051456908877, 1.4548338980405395, 1.4447517572323947\n",
      "City, Region: conditional entropy 0.010082140808144846, 3.3612996996764823\n",
      "City, Country/Region: cardinality shortcut: 0.0, 1.0\n",
      "City, Country/Region: conditional entropy 0.0, 1.0\n",
      "Postal Code, City: cached calculation 5.156618788775424, 4.806051456908877, 4.756624667793785\n",
      "Postal Code, City: conditional entropy 0.04942678911509191, 0.39999412098163845\n",
      "Postal Code, State_x: cached calculation 5.156618788775424, 2.9883008304144907, 2.965982113842542\n",
      "Postal Code, State_x: conditional entropy 0.022318716571948727, 2.1906366749328816\n",
      "Postal Code, Industry ID: cached calculation 5.156618788775424, 2.9751958829576504, 2.7100928667054482\n",
      "Postal Code, Industry ID: conditional entropy 0.2651030162522021, 2.4465259220699753\n",
      "Postal Code, Region: cached calculation 5.156618788775424, 1.4548338980405395, 1.4325151814685904\n",
      "Postal Code, Region: conditional entropy 0.02231871657194917, 3.724103607306833\n",
      "Postal Code, Country/Region: cardinality shortcut: 0.0, 1.0\n",
      "Postal Code, Country/Region: conditional entropy 0.0, 1.0\n",
      "Name, Postal Code: cached calculation 5.5017049240740405, 5.156618788775424, 5.136454507159136\n",
      "Name, Postal Code: conditional entropy 0.020164281616287916, 0.3652504169149049\n",
      "Name, City: cached calculation 5.5017049240740405, 4.806051456908877, 4.79092824569666\n",
      "Name, City: conditional entropy 0.015123211212216603, 0.7107766783773801\n",
      "Name, State_x: cached calculation 5.5017049240740405, 2.9883008304144907, 2.973177619202274\n",
      "Name, State_x: conditional entropy 0.015123211212216603, 2.5285273048717665\n",
      "Name, Industry ID: cached calculation 5.5017049240740405, 2.9751958829576504, 2.9498850617127905\n",
      "Name, Industry ID: conditional entropy 0.025310821244859838, 2.55181986236125\n",
      "Name, Region: cached calculation 5.5017049240740405, 1.4548338980405395, 1.439710686828323\n",
      "Name, Region: conditional entropy 0.015123211212216603, 4.061994237245718\n",
      "Name, Country/Region: cardinality shortcut: 0.0, 1.0\n",
      "Name, Country/Region: conditional entropy 0.0, 1.0\n",
      "Customer, Name: cardinality shortcut: 0.0, 1.0\n",
      "Customer, Name: conditional entropy 0.0, 1.0\n",
      "Customer, Postal Code: cardinality shortcut: 0.0, 1.0\n",
      "Customer, Postal Code: conditional entropy 0.0, 1.0\n",
      "Customer, City: cardinality shortcut: 0.0, 1.0\n",
      "Customer, City: conditional entropy 0.0, 1.0\n",
      "Customer, State_x: cardinality shortcut: 0.0, 1.0\n",
      "Customer, State_x: conditional entropy 0.0, 1.0\n",
      "Customer, Industry ID: cardinality shortcut: 0.0, 1.0\n",
      "Customer, Industry ID: conditional entropy 0.0, 1.0\n",
      "Customer, Region: indirectly dependent\n",
      "Customer, Country/Region: indirectly dependent\n"
     ]
    },
    {
     "data": {
      "text/html": [
       "<div>\n",
       "<style scoped>\n",
       "    .dataframe tbody tr th:only-of-type {\n",
       "        vertical-align: middle;\n",
       "    }\n",
       "\n",
       "    .dataframe tbody tr th {\n",
       "        vertical-align: top;\n",
       "    }\n",
       "\n",
       "    .dataframe thead th {\n",
       "        text-align: right;\n",
       "    }\n",
       "</style>\n",
       "<table border=\"1\" class=\"dataframe\">\n",
       "  <thead>\n",
       "    <tr style=\"text-align: right;\">\n",
       "      <th></th>\n",
       "      <th>Determinant</th>\n",
       "      <th>Dependent</th>\n",
       "      <th>Conditional Entropy</th>\n",
       "      <th>Determinant Unique Count</th>\n",
       "      <th>Dependent Unique Count</th>\n",
       "      <th>Determinant Null Count</th>\n",
       "      <th>Dependent Null Count</th>\n",
       "    </tr>\n",
       "  </thead>\n",
       "  <tbody>\n",
       "    <tr>\n",
       "      <th>0</th>\n",
       "      <td>Customer</td>\n",
       "      <td>Name</td>\n",
       "      <td>0.0</td>\n",
       "      <td>275</td>\n",
       "      <td>256</td>\n",
       "      <td>0</td>\n",
       "      <td>0</td>\n",
       "    </tr>\n",
       "    <tr>\n",
       "      <th>1</th>\n",
       "      <td>Customer</td>\n",
       "      <td>Postal Code</td>\n",
       "      <td>0.0</td>\n",
       "      <td>275</td>\n",
       "      <td>205</td>\n",
       "      <td>0</td>\n",
       "      <td>0</td>\n",
       "    </tr>\n",
       "    <tr>\n",
       "      <th>2</th>\n",
       "      <td>Customer</td>\n",
       "      <td>City</td>\n",
       "      <td>0.0</td>\n",
       "      <td>275</td>\n",
       "      <td>165</td>\n",
       "      <td>0</td>\n",
       "      <td>0</td>\n",
       "    </tr>\n",
       "    <tr>\n",
       "      <th>3</th>\n",
       "      <td>Customer</td>\n",
       "      <td>[State_x, StateCode, State_y]</td>\n",
       "      <td>0.0</td>\n",
       "      <td>275</td>\n",
       "      <td>33</td>\n",
       "      <td>0</td>\n",
       "      <td>0</td>\n",
       "    </tr>\n",
       "    <tr>\n",
       "      <th>4</th>\n",
       "      <td>Customer</td>\n",
       "      <td>Industry ID</td>\n",
       "      <td>0.0</td>\n",
       "      <td>275</td>\n",
       "      <td>32</td>\n",
       "      <td>0</td>\n",
       "      <td>0</td>\n",
       "    </tr>\n",
       "    <tr>\n",
       "      <th>5</th>\n",
       "      <td>Name</td>\n",
       "      <td>Country/Region</td>\n",
       "      <td>0.0</td>\n",
       "      <td>256</td>\n",
       "      <td>1</td>\n",
       "      <td>0</td>\n",
       "      <td>0</td>\n",
       "    </tr>\n",
       "    <tr>\n",
       "      <th>6</th>\n",
       "      <td>Postal Code</td>\n",
       "      <td>Country/Region</td>\n",
       "      <td>0.0</td>\n",
       "      <td>205</td>\n",
       "      <td>1</td>\n",
       "      <td>0</td>\n",
       "      <td>0</td>\n",
       "    </tr>\n",
       "    <tr>\n",
       "      <th>7</th>\n",
       "      <td>City</td>\n",
       "      <td>Country/Region</td>\n",
       "      <td>0.0</td>\n",
       "      <td>165</td>\n",
       "      <td>1</td>\n",
       "      <td>0</td>\n",
       "      <td>0</td>\n",
       "    </tr>\n",
       "    <tr>\n",
       "      <th>8</th>\n",
       "      <td>[State_x, StateCode, State_y]</td>\n",
       "      <td>Region</td>\n",
       "      <td>0.0</td>\n",
       "      <td>33</td>\n",
       "      <td>5</td>\n",
       "      <td>0</td>\n",
       "      <td>0</td>\n",
       "    </tr>\n",
       "    <tr>\n",
       "      <th>9</th>\n",
       "      <td>Industry ID</td>\n",
       "      <td>Country/Region</td>\n",
       "      <td>0.0</td>\n",
       "      <td>32</td>\n",
       "      <td>1</td>\n",
       "      <td>0</td>\n",
       "      <td>0</td>\n",
       "    </tr>\n",
       "    <tr>\n",
       "      <th>10</th>\n",
       "      <td>Region</td>\n",
       "      <td>Country/Region</td>\n",
       "      <td>0.0</td>\n",
       "      <td>5</td>\n",
       "      <td>1</td>\n",
       "      <td>0</td>\n",
       "      <td>0</td>\n",
       "    </tr>\n",
       "  </tbody>\n",
       "</table>\n",
       "</div>"
      ],
      "text/plain": [
       "                      Determinant                      Dependent  \\\n",
       "0                        Customer                           Name   \n",
       "1                        Customer                    Postal Code   \n",
       "2                        Customer                           City   \n",
       "3                        Customer  [State_x, StateCode, State_y]   \n",
       "4                        Customer                    Industry ID   \n",
       "5                            Name                 Country/Region   \n",
       "6                     Postal Code                 Country/Region   \n",
       "7                            City                 Country/Region   \n",
       "8   [State_x, StateCode, State_y]                         Region   \n",
       "9                     Industry ID                 Country/Region   \n",
       "10                         Region                 Country/Region   \n",
       "\n",
       "    Conditional Entropy  Determinant Unique Count  Dependent Unique Count  \\\n",
       "0                   0.0                       275                     256   \n",
       "1                   0.0                       275                     205   \n",
       "2                   0.0                       275                     165   \n",
       "3                   0.0                       275                      33   \n",
       "4                   0.0                       275                      32   \n",
       "5                   0.0                       256                       1   \n",
       "6                   0.0                       205                       1   \n",
       "7                   0.0                       165                       1   \n",
       "8                   0.0                        33                       5   \n",
       "9                   0.0                        32                       1   \n",
       "10                  0.0                         5                       1   \n",
       "\n",
       "    Determinant Null Count  Dependent Null Count  \n",
       "0                        0                     0  \n",
       "1                        0                     0  \n",
       "2                        0                     0  \n",
       "3                        0                     0  \n",
       "4                        0                     0  \n",
       "5                        0                     0  \n",
       "6                        0                     0  \n",
       "7                        0                     0  \n",
       "8                        0                     0  \n",
       "9                        0                     0  \n",
       "10                       0                     0  "
      ]
     },
     "execution_count": 37,
     "metadata": {},
     "output_type": "execute_result"
    }
   ],
   "source": [
    "customer_state_df2=customer_state_df.dropna()\n",
    "customer_state_df2.find_dependencies(verbose=1)"
   ]
  },
  {
   "cell_type": "markdown",
   "id": "8aec034a-3ef0-4fc6-b30b-048bf73c359b",
   "metadata": {
    "nteract": {
     "transient": {
      "deleting": false
     }
    }
   },
   "source": [
    "The conditional entropy is 0.049. This value can be explained by the fact there are functional dependency violations. Before you fix the violations, raise the threshold on conditional entropy from the default value of `0.01` to `0.05`, just to see the dependencies. Lower thresholds result in less dependencies (higher selectivity)."
   ]
  },
  {
   "cell_type": "code",
   "execution_count": 13,
   "id": "8fbf5117-d091-4a74-a064-fadfba60feb5",
   "metadata": {
    "jupyter": {
     "outputs_hidden": false,
     "source_hidden": false
    },
    "nteract": {
     "transient": {
      "deleting": false
     }
    }
   },
   "outputs": [
    {
     "data": {
      "application/vnd.livy.statement-meta+json": {
       "execution_finish_time": "2023-09-13T03:48:41.1605251Z",
       "execution_start_time": "2023-09-13T03:48:40.6916093Z",
       "livy_statement_state": "available",
       "parent_msg_id": "e549e73d-c0cc-4165-80e9-eb62534401ce",
       "queued_time": "2023-09-13T03:48:40.282826Z",
       "session_id": "fc14b6c0-dca9-4949-a887-6bf9f5f5e3bc",
       "session_start_time": null,
       "spark_jobs": {
        "jobs": [],
        "limit": 20,
        "numbers": {
         "FAILED": 0,
         "RUNNING": 0,
         "SUCCEEDED": 0,
         "UNKNOWN": 0
        },
        "rule": "ALL_DESC"
       },
       "spark_pool": null,
       "state": "finished",
       "statement_id": 20
      },
      "text/plain": [
       "StatementMeta(, fc14b6c0-dca9-4949-a887-6bf9f5f5e3bc, 20, Finished, Available)"
      ]
     },
     "metadata": {},
     "output_type": "display_data"
    },
    {
     "data": {
      "image/svg+xml": [
       "<?xml version=\"1.0\" encoding=\"UTF-8\" standalone=\"no\"?>\n",
       "<!DOCTYPE svg PUBLIC \"-//W3C//DTD SVG 1.1//EN\"\n",
       " \"http://www.w3.org/Graphics/SVG/1.1/DTD/svg11.dtd\">\n",
       "<!-- Generated by graphviz version 2.50.0 (20220708.1628)\n",
       " -->\n",
       "<!-- Pages: 1 -->\n",
       "<svg width=\"483pt\" height=\"511pt\"\n",
       " viewBox=\"0.00 0.00 483.00 511.00\" xmlns=\"http://www.w3.org/2000/svg\" xmlns:xlink=\"http://www.w3.org/1999/xlink\">\n",
       "<g id=\"graph0\" class=\"graph\" transform=\"scale(1 1) rotate(0) translate(4 507)\">\n",
       "<polygon fill=\"white\" stroke=\"transparent\" points=\"-4,4 -4,-507 479,-507 479,4 -4,4\"/>\n",
       "<!-- 0 -->\n",
       "<g id=\"node1\" class=\"node\">\n",
       "<title>0</title>\n",
       "<polygon fill=\"none\" stroke=\"black\" points=\"147,-474 147,-495 223,-495 223,-474 147,-474\"/>\n",
       "<text text-anchor=\"start\" x=\"150\" y=\"-480.8\" font-family=\"Times,serif\" font-size=\"14.00\">Customer</text>\n",
       "</g>\n",
       "<!-- 1 -->\n",
       "<g id=\"node2\" class=\"node\">\n",
       "<title>1</title>\n",
       "<polygon fill=\"none\" stroke=\"black\" points=\"243,-402 243,-423 292,-423 292,-402 243,-402\"/>\n",
       "<text text-anchor=\"start\" x=\"246\" y=\"-408.8\" font-family=\"Times,serif\" font-size=\"14.00\">Name</text>\n",
       "</g>\n",
       "<!-- 0&#45;&gt;1 -->\n",
       "<g id=\"edge1\" class=\"edge\">\n",
       "<title>0&#45;&gt;1</title>\n",
       "<path fill=\"none\" stroke=\"black\" d=\"M205.27,-466.7C215.5,-457.97 228.06,-447.24 239.18,-437.75\"/>\n",
       "<polygon fill=\"black\" stroke=\"black\" points=\"241.63,-440.26 246.96,-431.1 237.09,-434.94 241.63,-440.26\"/>\n",
       "</g>\n",
       "<!-- 2 -->\n",
       "<g id=\"node3\" class=\"node\">\n",
       "<title>2</title>\n",
       "<polygon fill=\"none\" stroke=\"black\" points=\"140,-330 140,-351 231,-351 231,-330 140,-330\"/>\n",
       "<text text-anchor=\"start\" x=\"143\" y=\"-336.8\" font-family=\"Times,serif\" font-size=\"14.00\">Postal Code</text>\n",
       "</g>\n",
       "<!-- 0&#45;&gt;2 -->\n",
       "<g id=\"edge2\" class=\"edge\">\n",
       "<title>0&#45;&gt;2</title>\n",
       "<path fill=\"none\" stroke=\"black\" d=\"M185,-466.87C185,-442.67 185,-398.21 185,-369.39\"/>\n",
       "<polygon fill=\"black\" stroke=\"black\" points=\"188.5,-369.19 185,-359.19 181.5,-369.19 188.5,-369.19\"/>\n",
       "</g>\n",
       "<!-- 3 -->\n",
       "<g id=\"node4\" class=\"node\">\n",
       "<title>3</title>\n",
       "<polygon fill=\"none\" stroke=\"black\" points=\"9,-258 9,-279 45,-279 45,-258 9,-258\"/>\n",
       "<text text-anchor=\"start\" x=\"12\" y=\"-264.8\" font-family=\"Times,serif\" font-size=\"14.00\">City</text>\n",
       "</g>\n",
       "<!-- 0&#45;&gt;3 -->\n",
       "<g id=\"edge3\" class=\"edge\">\n",
       "<title>0&#45;&gt;3</title>\n",
       "<path fill=\"none\" stroke=\"black\" d=\"M138.87,-477.69C109.19,-471.13 72.31,-457.84 51,-431 20.56,-392.66 20.33,-332.47 23.36,-297.57\"/>\n",
       "<polygon fill=\"black\" stroke=\"black\" points=\"26.88,-297.49 24.42,-287.19 19.92,-296.78 26.88,-297.49\"/>\n",
       "</g>\n",
       "<!-- 4 -->\n",
       "<g id=\"node5\" class=\"node\">\n",
       "<title>4</title>\n",
       "<polygon fill=\"none\" stroke=\"black\" points=\"74,-189.5 74,-210.5 155,-210.5 155,-189.5 74,-189.5\"/>\n",
       "<text text-anchor=\"start\" x=\"87.5\" y=\"-196.3\" font-family=\"Times,serif\" font-size=\"14.00\">State_x</text>\n",
       "<polygon fill=\"none\" stroke=\"black\" points=\"74,-168.5 74,-189.5 155,-189.5 155,-168.5 74,-168.5\"/>\n",
       "<text text-anchor=\"start\" x=\"77\" y=\"-175.3\" font-family=\"Times,serif\" font-size=\"14.00\">StateCode</text>\n",
       "<polygon fill=\"none\" stroke=\"black\" points=\"74,-147.5 74,-168.5 155,-168.5 155,-147.5 74,-147.5\"/>\n",
       "<text text-anchor=\"start\" x=\"87.5\" y=\"-154.3\" font-family=\"Times,serif\" font-size=\"14.00\">State_y</text>\n",
       "</g>\n",
       "<!-- 0&#45;&gt;4 -->\n",
       "<g id=\"edge4\" class=\"edge\">\n",
       "<title>0&#45;&gt;4</title>\n",
       "<path fill=\"none\" stroke=\"black\" d=\"M173.52,-466.7C158.75,-443.37 133.71,-400.02 123,-359 111.41,-314.6 110.2,-261.92 111.26,-225.35\"/>\n",
       "<polygon fill=\"black\" stroke=\"black\" points=\"114.77,-225.14 111.63,-215.02 107.77,-224.88 114.77,-225.14\"/>\n",
       "</g>\n",
       "<!-- 5 -->\n",
       "<g id=\"node6\" class=\"node\">\n",
       "<title>5</title>\n",
       "<polygon fill=\"none\" stroke=\"black\" points=\"379,-330 379,-351 467,-351 467,-330 379,-330\"/>\n",
       "<text text-anchor=\"start\" x=\"382\" y=\"-336.8\" font-family=\"Times,serif\" font-size=\"14.00\">Industry ID</text>\n",
       "</g>\n",
       "<!-- 0&#45;&gt;5 -->\n",
       "<g id=\"edge5\" class=\"edge\">\n",
       "<title>0&#45;&gt;5</title>\n",
       "<path fill=\"none\" stroke=\"black\" d=\"M231.14,-467.58C255.09,-458.24 284.41,-445.52 309,-431 341.16,-412.01 374.43,-385.05 396.67,-365.78\"/>\n",
       "<polygon fill=\"black\" stroke=\"black\" points=\"399.12,-368.28 404.34,-359.06 394.51,-363.02 399.12,-368.28\"/>\n",
       "</g>\n",
       "<!-- 1&#45;&gt;2 -->\n",
       "<g id=\"edge6\" class=\"edge\">\n",
       "<title>1&#45;&gt;2</title>\n",
       "<path fill=\"none\" stroke=\"black\" stroke-dasharray=\"5,2\" d=\"M246.73,-394.7C236.5,-385.97 223.94,-375.24 212.82,-365.75\"/>\n",
       "<polygon fill=\"black\" stroke=\"black\" points=\"214.91,-362.94 205.04,-359.1 210.37,-368.26 214.91,-362.94\"/>\n",
       "</g>\n",
       "<!-- 1&#45;&gt;3 -->\n",
       "<g id=\"edge7\" class=\"edge\">\n",
       "<title>1&#45;&gt;3</title>\n",
       "<path fill=\"none\" stroke=\"black\" stroke-dasharray=\"5,2\" d=\"M234.47,-404C204.15,-395.65 158.43,-380.73 123,-359 94.39,-341.46 66.85,-314.54 48.66,-294.9\"/>\n",
       "<polygon fill=\"black\" stroke=\"black\" points=\"51.01,-292.29 41.69,-287.24 45.83,-297 51.01,-292.29\"/>\n",
       "</g>\n",
       "<!-- 1&#45;&gt;4 -->\n",
       "<g id=\"edge8\" class=\"edge\">\n",
       "<title>1&#45;&gt;4</title>\n",
       "<path fill=\"none\" stroke=\"black\" stroke-dasharray=\"5,2\" d=\"M266.06,-394.67C264.44,-376.02 260.02,-345.95 248,-323 227.61,-284.06 193.58,-248.07 164.92,-222\"/>\n",
       "<polygon fill=\"black\" stroke=\"black\" points=\"167.16,-219.31 157.38,-215.25 162.5,-224.53 167.16,-219.31\"/>\n",
       "</g>\n",
       "<!-- 1&#45;&gt;5 -->\n",
       "<g id=\"edge9\" class=\"edge\">\n",
       "<title>1&#45;&gt;5</title>\n",
       "<path fill=\"none\" stroke=\"black\" stroke-dasharray=\"5,2\" d=\"M299.7,-397.33C321.73,-387.44 351.12,-374.25 375.69,-363.23\"/>\n",
       "<polygon fill=\"black\" stroke=\"black\" points=\"377.15,-366.41 384.84,-359.12 374.29,-360.02 377.15,-366.41\"/>\n",
       "</g>\n",
       "<!-- 6 -->\n",
       "<g id=\"node7\" class=\"node\">\n",
       "<title>6</title>\n",
       "<polygon fill=\"none\" stroke=\"black\" points=\"137,-79 137,-100 193,-100 193,-79 137,-79\"/>\n",
       "<text text-anchor=\"start\" x=\"140\" y=\"-85.8\" font-family=\"Times,serif\" font-size=\"14.00\">Region</text>\n",
       "</g>\n",
       "<!-- 1&#45;&gt;6 -->\n",
       "<g id=\"edge10\" class=\"edge\">\n",
       "<title>1&#45;&gt;6</title>\n",
       "<path fill=\"none\" stroke=\"black\" stroke-dasharray=\"5,2\" d=\"M269.41,-394.72C271.41,-376.62 273.19,-347.49 268,-323 251.18,-243.64 205.29,-158.46 180.84,-116.86\"/>\n",
       "<polygon fill=\"black\" stroke=\"black\" points=\"183.8,-114.99 175.68,-108.19 177.78,-118.57 183.8,-114.99\"/>\n",
       "</g>\n",
       "<!-- 7 -->\n",
       "<g id=\"node8\" class=\"node\">\n",
       "<title>7</title>\n",
       "<polygon fill=\"none\" stroke=\"black\" points=\"170,-7 170,-28 288,-28 288,-7 170,-7\"/>\n",
       "<text text-anchor=\"start\" x=\"173\" y=\"-13.8\" font-family=\"Times,serif\" font-size=\"14.00\">Country/Region</text>\n",
       "</g>\n",
       "<!-- 1&#45;&gt;7 -->\n",
       "<g id=\"edge11\" class=\"edge\">\n",
       "<title>1&#45;&gt;7</title>\n",
       "<path fill=\"none\" stroke=\"black\" d=\"M283.49,-394.77C305.84,-369.53 343,-320.05 343,-270 343,-270 343,-270 343,-178.5 343,-121.47 294.16,-70.76 260.41,-42.53\"/>\n",
       "<polygon fill=\"black\" stroke=\"black\" points=\"262.58,-39.79 252.62,-36.19 258.16,-45.21 262.58,-39.79\"/>\n",
       "</g>\n",
       "<!-- 2&#45;&gt;3 -->\n",
       "<g id=\"edge12\" class=\"edge\">\n",
       "<title>2&#45;&gt;3</title>\n",
       "<path fill=\"none\" stroke=\"black\" stroke-dasharray=\"5,2\" d=\"M146.35,-322.88C121.19,-311.73 88.56,-297.27 63.78,-286.29\"/>\n",
       "<polygon fill=\"black\" stroke=\"black\" points=\"64.92,-282.97 54.36,-282.12 62.08,-289.37 64.92,-282.97\"/>\n",
       "</g>\n",
       "<!-- 2&#45;&gt;4 -->\n",
       "<g id=\"edge13\" class=\"edge\">\n",
       "<title>2&#45;&gt;4</title>\n",
       "<path fill=\"none\" stroke=\"black\" stroke-dasharray=\"5,2\" d=\"M177.4,-322.93C167.02,-299.6 148.02,-256.93 133.52,-224.35\"/>\n",
       "<polygon fill=\"black\" stroke=\"black\" points=\"136.63,-222.74 129.37,-215.03 130.24,-225.59 136.63,-222.74\"/>\n",
       "</g>\n",
       "<!-- 2&#45;&gt;6 -->\n",
       "<g id=\"edge14\" class=\"edge\">\n",
       "<title>2&#45;&gt;6</title>\n",
       "<path fill=\"none\" stroke=\"black\" stroke-dasharray=\"5,2\" d=\"M184.02,-322.94C182.01,-288.89 177.1,-210.07 171,-144 170.22,-135.57 169.23,-126.4 168.29,-118.1\"/>\n",
       "<polygon fill=\"black\" stroke=\"black\" points=\"171.76,-117.69 167.13,-108.17 164.81,-118.51 171.76,-117.69\"/>\n",
       "</g>\n",
       "<!-- 2&#45;&gt;7 -->\n",
       "<g id=\"edge15\" class=\"edge\">\n",
       "<title>2&#45;&gt;7</title>\n",
       "<path fill=\"none\" stroke=\"black\" d=\"M188.09,-322.84C189.91,-312.48 192.2,-299 194,-287 207.18,-199.21 220,-94.81 225.79,-46.29\"/>\n",
       "<polygon fill=\"black\" stroke=\"black\" points=\"229.27,-46.62 226.98,-36.28 222.32,-45.79 229.27,-46.62\"/>\n",
       "</g>\n",
       "<!-- 3&#45;&gt;4 -->\n",
       "<g id=\"edge16\" class=\"edge\">\n",
       "<title>3&#45;&gt;4</title>\n",
       "<path fill=\"none\" stroke=\"black\" stroke-dasharray=\"5,2\" d=\"M44.19,-250.71C52.32,-242.54 62.41,-232.39 72.37,-222.37\"/>\n",
       "<polygon fill=\"black\" stroke=\"black\" points=\"75,-224.68 79.57,-215.13 70.04,-219.75 75,-224.68\"/>\n",
       "</g>\n",
       "<!-- 3&#45;&gt;6 -->\n",
       "<g id=\"edge17\" class=\"edge\">\n",
       "<title>3&#45;&gt;6</title>\n",
       "<path fill=\"none\" stroke=\"black\" stroke-dasharray=\"5,2\" d=\"M26.75,-250.79C27.26,-224.85 31.78,-175.45 57,-144 72.71,-124.41 97.48,-111.54 119.34,-103.38\"/>\n",
       "<polygon fill=\"black\" stroke=\"black\" points=\"120.53,-106.68 128.81,-100.07 118.21,-100.07 120.53,-106.68\"/>\n",
       "</g>\n",
       "<!-- 3&#45;&gt;7 -->\n",
       "<g id=\"edge18\" class=\"edge\">\n",
       "<title>3&#45;&gt;7</title>\n",
       "<path fill=\"none\" stroke=\"black\" d=\"M22.49,-250.9C16.87,-225.96 9.94,-178.79 27,-144 52.96,-91.06 112.93,-58.27 160.82,-39.63\"/>\n",
       "<polygon fill=\"black\" stroke=\"black\" points=\"162.1,-42.89 170.22,-36.09 159.63,-36.33 162.1,-42.89\"/>\n",
       "</g>\n",
       "<!-- 4&#45;&gt;6 -->\n",
       "<g id=\"edge19\" class=\"edge\">\n",
       "<title>4&#45;&gt;6</title>\n",
       "<path fill=\"none\" stroke=\"black\" d=\"M134.16,-143.92C139.39,-134.94 144.94,-125.42 149.87,-116.96\"/>\n",
       "<polygon fill=\"black\" stroke=\"black\" points=\"152.91,-118.69 154.92,-108.29 146.86,-115.16 152.91,-118.69\"/>\n",
       "</g>\n",
       "<!-- 5&#45;&gt;7 -->\n",
       "<g id=\"edge20\" class=\"edge\">\n",
       "<title>5&#45;&gt;7</title>\n",
       "<path fill=\"none\" stroke=\"black\" d=\"M423.77,-322.91C424.91,-276.65 421.8,-147.41 357,-72 343.53,-56.32 324.68,-45.2 305.58,-37.34\"/>\n",
       "<polygon fill=\"black\" stroke=\"black\" points=\"306.79,-34.05 296.2,-33.73 304.28,-40.59 306.79,-34.05\"/>\n",
       "</g>\n",
       "<!-- 6&#45;&gt;7 -->\n",
       "<g id=\"edge21\" class=\"edge\">\n",
       "<title>6&#45;&gt;7</title>\n",
       "<path fill=\"none\" stroke=\"black\" d=\"M180.82,-71.7C188.57,-63.22 198.04,-52.86 206.52,-43.58\"/>\n",
       "<polygon fill=\"black\" stroke=\"black\" points=\"209.2,-45.85 213.36,-36.1 204.03,-41.12 209.2,-45.85\"/>\n",
       "</g>\n",
       "</g>\n",
       "</svg>\n"
      ],
      "text/plain": [
       "<graphviz.graphs.Digraph at 0x7f83ebaabc40>"
      ]
     },
     "execution_count": 40,
     "metadata": {},
     "output_type": "execute_result"
    }
   ],
   "source": [
    "plot_dependency_metadata(customer_state_df2.find_dependencies(threshold=0.05))"
   ]
  },
  {
   "cell_type": "markdown",
   "id": "a0caf31a-ef7e-4b2e-a558-92d767b62ee3",
   "metadata": {
    "nteract": {
     "transient": {
      "deleting": false
     }
    }
   },
   "source": [
    "If you apply domain knowledge of which entity determines values of other entities, this dependencies graph seems accurate. \n",
    "\n",
    "Now, explore more data quality issues that were detected. For example, *City* and *Region* are joined by a dashed arrow, which indicates that the dependency is only approximate. This could imply that there is a partial functional dependency."
   ]
  },
  {
   "cell_type": "code",
   "execution_count": 14,
   "id": "87810ab5-a33f-4659-8fe6-af0614c0230b",
   "metadata": {
    "jupyter": {
     "outputs_hidden": false,
     "source_hidden": false
    },
    "nteract": {
     "transient": {
      "deleting": false
     }
    }
   },
   "outputs": [
    {
     "data": {
      "application/vnd.livy.statement-meta+json": {
       "execution_finish_time": "2023-09-13T03:48:44.7221517Z",
       "execution_start_time": "2023-09-13T03:48:44.2233847Z",
       "livy_statement_state": "available",
       "parent_msg_id": "6bd239cd-c653-4f89-9cbf-6ada65f603fe",
       "queued_time": "2023-09-13T03:48:43.8373556Z",
       "session_id": "fc14b6c0-dca9-4949-a887-6bf9f5f5e3bc",
       "session_start_time": null,
       "spark_jobs": {
        "jobs": [],
        "limit": 20,
        "numbers": {
         "FAILED": 0,
         "RUNNING": 0,
         "SUCCEEDED": 0,
         "UNKNOWN": 0
        },
        "rule": "ALL_DESC"
       },
       "spark_pool": null,
       "state": "finished",
       "statement_id": 21
      },
      "text/plain": [
       "StatementMeta(, fc14b6c0-dca9-4949-a887-6bf9f5f5e3bc, 21, Finished, Available)"
      ]
     },
     "metadata": {},
     "output_type": "display_data"
    },
    {
     "data": {
      "text/html": [
       "<div>\n",
       "<style scoped>\n",
       "    .dataframe tbody tr th:only-of-type {\n",
       "        vertical-align: middle;\n",
       "    }\n",
       "\n",
       "    .dataframe tbody tr th {\n",
       "        vertical-align: top;\n",
       "    }\n",
       "\n",
       "    .dataframe thead th {\n",
       "        text-align: right;\n",
       "    }\n",
       "</style>\n",
       "<table border=\"1\" class=\"dataframe\">\n",
       "  <thead>\n",
       "    <tr style=\"text-align: right;\">\n",
       "      <th></th>\n",
       "      <th>City</th>\n",
       "      <th>Region</th>\n",
       "      <th>count</th>\n",
       "    </tr>\n",
       "  </thead>\n",
       "  <tbody>\n",
       "    <tr>\n",
       "      <th>0</th>\n",
       "      <td>AAAAAAA</td>\n",
       "      <td>SOUTH</td>\n",
       "      <td>3</td>\n",
       "    </tr>\n",
       "    <tr>\n",
       "      <th>1</th>\n",
       "      <td>AAAAAAA</td>\n",
       "      <td>NaN</td>\n",
       "      <td>1</td>\n",
       "    </tr>\n",
       "    <tr>\n",
       "      <th>2</th>\n",
       "      <td>Downers Grove</td>\n",
       "      <td>CENTRAL</td>\n",
       "      <td>1</td>\n",
       "    </tr>\n",
       "    <tr>\n",
       "      <th>3</th>\n",
       "      <td>Downers Grove</td>\n",
       "      <td>NORTH</td>\n",
       "      <td>1</td>\n",
       "    </tr>\n",
       "    <tr>\n",
       "      <th>4</th>\n",
       "      <td>Fremont</td>\n",
       "      <td>SOUTH</td>\n",
       "      <td>1</td>\n",
       "    </tr>\n",
       "    <tr>\n",
       "      <th>5</th>\n",
       "      <td>Fremont</td>\n",
       "      <td>WEST</td>\n",
       "      <td>1</td>\n",
       "    </tr>\n",
       "    <tr>\n",
       "      <th>6</th>\n",
       "      <td>Uxbridge</td>\n",
       "      <td>EAST</td>\n",
       "      <td>1</td>\n",
       "    </tr>\n",
       "    <tr>\n",
       "      <th>7</th>\n",
       "      <td>Uxbridge</td>\n",
       "      <td>NaN</td>\n",
       "      <td>1</td>\n",
       "    </tr>\n",
       "  </tbody>\n",
       "</table>\n",
       "</div>"
      ],
      "text/plain": [
       "            City   Region  count\n",
       "0        AAAAAAA    SOUTH      3\n",
       "1        AAAAAAA      NaN      1\n",
       "2  Downers Grove  CENTRAL      1\n",
       "3  Downers Grove    NORTH      1\n",
       "4        Fremont    SOUTH      1\n",
       "5        Fremont     WEST      1\n",
       "6       Uxbridge     EAST      1\n",
       "7       Uxbridge      NaN      1"
      ]
     },
     "execution_count": 43,
     "metadata": {},
     "output_type": "execute_result"
    }
   ],
   "source": [
    "customer_state_df.list_dependency_violations('City', 'Region')"
   ]
  },
  {
   "cell_type": "markdown",
   "id": "2ca36639-63dc-48ec-9175-bc42f162bf84",
   "metadata": {
    "nteract": {
     "transient": {
      "deleting": false
     }
    }
   },
   "source": [
    "Take a closer look at each of the cases where a non-empty *Region* value causes a violation:"
   ]
  },
  {
   "cell_type": "code",
   "execution_count": 15,
   "id": "df17f55d-1436-4551-814e-ae5e04b42f04",
   "metadata": {
    "jupyter": {
     "outputs_hidden": false,
     "source_hidden": false
    },
    "nteract": {
     "transient": {
      "deleting": false
     }
    }
   },
   "outputs": [
    {
     "data": {
      "application/vnd.livy.statement-meta+json": {
       "execution_finish_time": "2023-09-13T03:48:47.7917246Z",
       "execution_start_time": "2023-09-13T03:48:47.2990137Z",
       "livy_statement_state": "available",
       "parent_msg_id": "87668d1c-5084-4d9f-a31a-57ad45b99fdb",
       "queued_time": "2023-09-13T03:48:46.9248895Z",
       "session_id": "fc14b6c0-dca9-4949-a887-6bf9f5f5e3bc",
       "session_start_time": null,
       "spark_jobs": {
        "jobs": [],
        "limit": 20,
        "numbers": {
         "FAILED": 0,
         "RUNNING": 0,
         "SUCCEEDED": 0,
         "UNKNOWN": 0
        },
        "rule": "ALL_DESC"
       },
       "spark_pool": null,
       "state": "finished",
       "statement_id": 22
      },
      "text/plain": [
       "StatementMeta(, fc14b6c0-dca9-4949-a887-6bf9f5f5e3bc, 22, Finished, Available)"
      ]
     },
     "metadata": {},
     "output_type": "display_data"
    },
    {
     "data": {
      "text/html": [
       "<div>\n",
       "<style scoped>\n",
       "    .dataframe tbody tr th:only-of-type {\n",
       "        vertical-align: middle;\n",
       "    }\n",
       "\n",
       "    .dataframe tbody tr th {\n",
       "        vertical-align: top;\n",
       "    }\n",
       "\n",
       "    .dataframe thead th {\n",
       "        text-align: right;\n",
       "    }\n",
       "</style>\n",
       "<table border=\"1\" class=\"dataframe\">\n",
       "  <thead>\n",
       "    <tr style=\"text-align: right;\">\n",
       "      <th></th>\n",
       "      <th>Customer</th>\n",
       "      <th>Country/Region</th>\n",
       "      <th>Name</th>\n",
       "      <th>City</th>\n",
       "      <th>Postal Code</th>\n",
       "      <th>State_x</th>\n",
       "      <th>Industry ID</th>\n",
       "      <th>StateCode</th>\n",
       "      <th>State_y</th>\n",
       "      <th>Region</th>\n",
       "    </tr>\n",
       "  </thead>\n",
       "  <tbody>\n",
       "    <tr>\n",
       "      <th>66</th>\n",
       "      <td>10114</td>\n",
       "      <td>US</td>\n",
       "      <td>SNC Downers Grove</td>\n",
       "      <td>Downers Grove</td>\n",
       "      <td>60515</td>\n",
       "      <td>NE</td>\n",
       "      <td>30</td>\n",
       "      <td>NE</td>\n",
       "      <td>NEBRASKA</td>\n",
       "      <td>CENTRAL</td>\n",
       "    </tr>\n",
       "    <tr>\n",
       "      <th>249</th>\n",
       "      <td>50128</td>\n",
       "      <td>US</td>\n",
       "      <td>SNC Downers Grove</td>\n",
       "      <td>Downers Grove</td>\n",
       "      <td>60515</td>\n",
       "      <td>IL</td>\n",
       "      <td>30</td>\n",
       "      <td>IL</td>\n",
       "      <td>ILLINOIS</td>\n",
       "      <td>NORTH</td>\n",
       "    </tr>\n",
       "  </tbody>\n",
       "</table>\n",
       "</div>"
      ],
      "text/plain": [
       "     Customer Country/Region               Name           City  Postal Code  \\\n",
       "66      10114             US  SNC Downers Grove  Downers Grove        60515   \n",
       "249     50128             US  SNC Downers Grove  Downers Grove        60515   \n",
       "\n",
       "    State_x  Industry ID StateCode   State_y   Region  \n",
       "66       NE           30        NE  NEBRASKA  CENTRAL  \n",
       "249      IL           30        IL  ILLINOIS    NORTH  "
      ]
     },
     "execution_count": 46,
     "metadata": {},
     "output_type": "execute_result"
    }
   ],
   "source": [
    "customer_state_df[customer_state_df.City=='Downers Grove']"
   ]
  },
  {
   "cell_type": "markdown",
   "id": "62b92ac2-ef0a-435d-ad7e-5dad4f5dae00",
   "metadata": {
    "nteract": {
     "transient": {
      "deleting": false
     }
    }
   },
   "source": [
    "Downers Grove definitely is a [city in Illinois](https://en.wikipedia.org/wiki/Downers_Grove,_Illinois), not Nebraska."
   ]
  },
  {
   "cell_type": "code",
   "execution_count": 16,
   "id": "04352c31-51d8-445d-8138-dfbf1efce337",
   "metadata": {
    "jupyter": {
     "outputs_hidden": false,
     "source_hidden": false
    },
    "nteract": {
     "transient": {
      "deleting": false
     }
    }
   },
   "outputs": [
    {
     "data": {
      "application/vnd.livy.statement-meta+json": {
       "execution_finish_time": "2023-09-13T03:48:50.2364246Z",
       "execution_start_time": "2023-09-13T03:48:49.6989118Z",
       "livy_statement_state": "available",
       "parent_msg_id": "56c84e12-eb06-465d-acbf-f54b10dee08b",
       "queued_time": "2023-09-13T03:48:49.3087109Z",
       "session_id": "fc14b6c0-dca9-4949-a887-6bf9f5f5e3bc",
       "session_start_time": null,
       "spark_jobs": {
        "jobs": [],
        "limit": 20,
        "numbers": {
         "FAILED": 0,
         "RUNNING": 0,
         "SUCCEEDED": 0,
         "UNKNOWN": 0
        },
        "rule": "ALL_DESC"
       },
       "spark_pool": null,
       "state": "finished",
       "statement_id": 23
      },
      "text/plain": [
       "StatementMeta(, fc14b6c0-dca9-4949-a887-6bf9f5f5e3bc, 23, Finished, Available)"
      ]
     },
     "metadata": {},
     "output_type": "display_data"
    },
    {
     "data": {
      "text/html": [
       "<div>\n",
       "<style scoped>\n",
       "    .dataframe tbody tr th:only-of-type {\n",
       "        vertical-align: middle;\n",
       "    }\n",
       "\n",
       "    .dataframe tbody tr th {\n",
       "        vertical-align: top;\n",
       "    }\n",
       "\n",
       "    .dataframe thead th {\n",
       "        text-align: right;\n",
       "    }\n",
       "</style>\n",
       "<table border=\"1\" class=\"dataframe\">\n",
       "  <thead>\n",
       "    <tr style=\"text-align: right;\">\n",
       "      <th></th>\n",
       "      <th>Customer</th>\n",
       "      <th>Country/Region</th>\n",
       "      <th>Name</th>\n",
       "      <th>City</th>\n",
       "      <th>Postal Code</th>\n",
       "      <th>State_x</th>\n",
       "      <th>Industry ID</th>\n",
       "      <th>StateCode</th>\n",
       "      <th>State_y</th>\n",
       "      <th>Region</th>\n",
       "    </tr>\n",
       "  </thead>\n",
       "  <tbody>\n",
       "    <tr>\n",
       "      <th>37</th>\n",
       "      <td>10036</td>\n",
       "      <td>US</td>\n",
       "      <td>Horn BPO</td>\n",
       "      <td>Fremont</td>\n",
       "      <td>94555</td>\n",
       "      <td>TX</td>\n",
       "      <td>30</td>\n",
       "      <td>TX</td>\n",
       "      <td>TEXAS</td>\n",
       "      <td>SOUTH</td>\n",
       "    </tr>\n",
       "    <tr>\n",
       "      <th>46</th>\n",
       "      <td>10060</td>\n",
       "      <td>US</td>\n",
       "      <td>Soneli Graphics</td>\n",
       "      <td>Fremont</td>\n",
       "      <td>94538</td>\n",
       "      <td>CA</td>\n",
       "      <td>13</td>\n",
       "      <td>CA</td>\n",
       "      <td>CALIFORNIA</td>\n",
       "      <td>WEST</td>\n",
       "    </tr>\n",
       "  </tbody>\n",
       "</table>\n",
       "</div>"
      ],
      "text/plain": [
       "    Customer Country/Region             Name     City  Postal Code State_x  \\\n",
       "37     10036             US         Horn BPO  Fremont        94555      TX   \n",
       "46     10060             US  Soneli Graphics  Fremont        94538      CA   \n",
       "\n",
       "    Industry ID StateCode     State_y Region  \n",
       "37           30        TX       TEXAS  SOUTH  \n",
       "46           13        CA  CALIFORNIA   WEST  "
      ]
     },
     "execution_count": 49,
     "metadata": {},
     "output_type": "execute_result"
    }
   ],
   "source": [
    "customer_state_df[customer_state_df.City=='Fremont']"
   ]
  },
  {
   "cell_type": "markdown",
   "id": "a8008ea1-f86a-4e4f-a0e8-6563999492c8",
   "metadata": {
    "nteract": {
     "transient": {
      "deleting": false
     }
    }
   },
   "source": [
    "There is a city called [Fremont in California](https://en.wikipedia.org/wiki/Fremont,_California). However, for Texas, the search engine returns [Premont](https://en.wikipedia.org/wiki/Premont,_Texas), not Fremont!"
   ]
  },
  {
   "cell_type": "markdown",
   "id": "c1ce246f-4bd9-4ffb-8723-804ff5eac2e7",
   "metadata": {
    "nteract": {
     "transient": {
      "deleting": false
     }
    }
   },
   "source": [
    "It's also suspicious to see violations of \"Name\" and \"Country/Region\" depencency, as signified by the dotted line in the original graph of dependency violations (before dropping the rows with empty values)."
   ]
  },
  {
   "cell_type": "code",
   "execution_count": 17,
   "id": "896fcec2-fbc0-40f9-a384-22fec300844b",
   "metadata": {
    "jupyter": {
     "outputs_hidden": false,
     "source_hidden": false
    },
    "nteract": {
     "transient": {
      "deleting": false
     }
    }
   },
   "outputs": [
    {
     "data": {
      "application/vnd.livy.statement-meta+json": {
       "execution_finish_time": "2023-09-13T03:48:52.5114868Z",
       "execution_start_time": "2023-09-13T03:48:52.0249575Z",
       "livy_statement_state": "available",
       "parent_msg_id": "ee43fae1-b444-4667-99b6-9f18c646fbdd",
       "queued_time": "2023-09-13T03:48:51.6742297Z",
       "session_id": "fc14b6c0-dca9-4949-a887-6bf9f5f5e3bc",
       "session_start_time": null,
       "spark_jobs": {
        "jobs": [],
        "limit": 20,
        "numbers": {
         "FAILED": 0,
         "RUNNING": 0,
         "SUCCEEDED": 0,
         "UNKNOWN": 0
        },
        "rule": "ALL_DESC"
       },
       "spark_pool": null,
       "state": "finished",
       "statement_id": 24
      },
      "text/plain": [
       "StatementMeta(, fc14b6c0-dca9-4949-a887-6bf9f5f5e3bc, 24, Finished, Available)"
      ]
     },
     "metadata": {},
     "output_type": "display_data"
    },
    {
     "data": {
      "text/html": [
       "<div>\n",
       "<style scoped>\n",
       "    .dataframe tbody tr th:only-of-type {\n",
       "        vertical-align: middle;\n",
       "    }\n",
       "\n",
       "    .dataframe tbody tr th {\n",
       "        vertical-align: top;\n",
       "    }\n",
       "\n",
       "    .dataframe thead th {\n",
       "        text-align: right;\n",
       "    }\n",
       "</style>\n",
       "<table border=\"1\" class=\"dataframe\">\n",
       "  <thead>\n",
       "    <tr style=\"text-align: right;\">\n",
       "      <th></th>\n",
       "      <th>Name</th>\n",
       "      <th>Country/Region</th>\n",
       "      <th>count</th>\n",
       "    </tr>\n",
       "  </thead>\n",
       "  <tbody>\n",
       "    <tr>\n",
       "      <th>0</th>\n",
       "      <td>SDI Design</td>\n",
       "      <td>CA</td>\n",
       "      <td>1</td>\n",
       "    </tr>\n",
       "    <tr>\n",
       "      <th>1</th>\n",
       "      <td>SDI Design</td>\n",
       "      <td>US</td>\n",
       "      <td>1</td>\n",
       "    </tr>\n",
       "  </tbody>\n",
       "</table>\n",
       "</div>"
      ],
      "text/plain": [
       "         Name Country/Region  count\n",
       "0  SDI Design             CA      1\n",
       "1  SDI Design             US      1"
      ]
     },
     "execution_count": 52,
     "metadata": {},
     "output_type": "execute_result"
    }
   ],
   "source": [
    "customer_state_df.list_dependency_violations('Name', 'Country/Region')"
   ]
  },
  {
   "cell_type": "markdown",
   "id": "70d31775-0e1e-4aee-87f1-9f756cbac86b",
   "metadata": {
    "nteract": {
     "transient": {
      "deleting": false
     }
    }
   },
   "source": [
    "It appears that one customer, 'SDI Design' is present in two regions - United States and Canada. This may not be a semantic violation, but may just be an uncommon case. Still, it's worth taking a close look:"
   ]
  },
  {
   "cell_type": "code",
   "execution_count": 18,
   "id": "0d76984c-7251-43cb-ab3d-b78bd9b2ae92",
   "metadata": {
    "jupyter": {
     "outputs_hidden": false,
     "source_hidden": false
    },
    "nteract": {
     "transient": {
      "deleting": false
     }
    }
   },
   "outputs": [
    {
     "data": {
      "application/vnd.livy.statement-meta+json": {
       "execution_finish_time": "2023-09-13T03:48:56.257728Z",
       "execution_start_time": "2023-09-13T03:48:55.7700186Z",
       "livy_statement_state": "available",
       "parent_msg_id": "af1f5511-a8e5-4e9e-bd62-19e75f1530eb",
       "queued_time": "2023-09-13T03:48:55.3788009Z",
       "session_id": "fc14b6c0-dca9-4949-a887-6bf9f5f5e3bc",
       "session_start_time": null,
       "spark_jobs": {
        "jobs": [],
        "limit": 20,
        "numbers": {
         "FAILED": 0,
         "RUNNING": 0,
         "SUCCEEDED": 0,
         "UNKNOWN": 0
        },
        "rule": "ALL_DESC"
       },
       "spark_pool": null,
       "state": "finished",
       "statement_id": 25
      },
      "text/plain": [
       "StatementMeta(, fc14b6c0-dca9-4949-a887-6bf9f5f5e3bc, 25, Finished, Available)"
      ]
     },
     "metadata": {},
     "output_type": "display_data"
    },
    {
     "data": {
      "text/html": [
       "<div>\n",
       "<style scoped>\n",
       "    .dataframe tbody tr th:only-of-type {\n",
       "        vertical-align: middle;\n",
       "    }\n",
       "\n",
       "    .dataframe tbody tr th {\n",
       "        vertical-align: top;\n",
       "    }\n",
       "\n",
       "    .dataframe thead th {\n",
       "        text-align: right;\n",
       "    }\n",
       "</style>\n",
       "<table border=\"1\" class=\"dataframe\">\n",
       "  <thead>\n",
       "    <tr style=\"text-align: right;\">\n",
       "      <th></th>\n",
       "      <th>Customer</th>\n",
       "      <th>Country/Region</th>\n",
       "      <th>Name</th>\n",
       "      <th>City</th>\n",
       "      <th>Postal Code</th>\n",
       "      <th>State_x</th>\n",
       "      <th>Industry ID</th>\n",
       "      <th>StateCode</th>\n",
       "      <th>State_y</th>\n",
       "      <th>Region</th>\n",
       "    </tr>\n",
       "  </thead>\n",
       "  <tbody>\n",
       "    <tr>\n",
       "      <th>128</th>\n",
       "      <td>10203</td>\n",
       "      <td>US</td>\n",
       "      <td>SDI Design</td>\n",
       "      <td>Denver</td>\n",
       "      <td>80222</td>\n",
       "      <td>CO</td>\n",
       "      <td>15</td>\n",
       "      <td>CO</td>\n",
       "      <td>COLORADO</td>\n",
       "      <td>CENTRAL</td>\n",
       "    </tr>\n",
       "    <tr>\n",
       "      <th>323</th>\n",
       "      <td>50233</td>\n",
       "      <td>CA</td>\n",
       "      <td>SDI Design</td>\n",
       "      <td>Winnipeg</td>\n",
       "      <td>&lt;NA&gt;</td>\n",
       "      <td>MB</td>\n",
       "      <td>30</td>\n",
       "      <td>NaN</td>\n",
       "      <td>NaN</td>\n",
       "      <td>NaN</td>\n",
       "    </tr>\n",
       "  </tbody>\n",
       "</table>\n",
       "</div>"
      ],
      "text/plain": [
       "     Customer Country/Region        Name      City  Postal Code State_x  \\\n",
       "128     10203             US  SDI Design    Denver        80222      CO   \n",
       "323     50233             CA  SDI Design  Winnipeg         <NA>      MB   \n",
       "\n",
       "     Industry ID StateCode   State_y   Region  \n",
       "128           15        CO  COLORADO  CENTRAL  \n",
       "323           30       NaN       NaN      NaN  "
      ]
     },
     "execution_count": 55,
     "metadata": {},
     "output_type": "execute_result"
    }
   ],
   "source": [
    "customer_state_df[customer_state_df.Name=='SDI Design']"
   ]
  },
  {
   "cell_type": "markdown",
   "id": "8595003f-bee1-4062-b8bc-e75410b5881d",
   "metadata": {
    "nteract": {
     "transient": {
      "deleting": false
     }
    }
   },
   "source": [
    "Further inspection shows that it's actually two different customers (from different industries) with the same name.\n",
    "\n",
    "Exploratory data analysis is an exciting process, and so is data cleaning. There's always something that the data is hiding, depending on how you look at it, what you want to ask, and so on. Semantic Link provides you with new tools that you can use to achieve more with your data. "
   ]
  },
  {
   "cell_type": "markdown",
   "id": "01ec709f-ee74-415f-8200-ccf1f6fa95cf",
   "metadata": {
    "nteract": {
     "transient": {
      "deleting": false
     }
    }
   },
   "source": [
    "## Next step\n",
    "\n",
    "Try using the learned ways of detecting data quality issues on your data and get amazed with the discoveries!"
   ]
  },
  {
   "cell_type": "markdown",
   "id": "f6ca038b-b9d8-4556-b8bc-950acfca0e5b",
   "metadata": {
    "nteract": {
     "transient": {
      "deleting": false
     }
    }
   },
   "source": [
    "## Related content\n",
    "\n",
    "Check out other tutorials for Semantic Link / SemPy:\n",
    "1. Clean Data with Functional Dependencies\n",
    "1. Discover Relationships in SYNTHEA dataset Using Semantic Link\n",
    "1. Discover Relationships in a PowerBI Dataset Using Semantic Link\n",
    "1. Extract and Calculate PowerBI Measures from Jupyter Notebook"
   ]
  }
 ],
 "metadata": {
  "kernel_info": {
   "name": "synapse_pyspark"
  },
  "kernelspec": {
   "display_name": "Synapse PySpark",
   "language": "Python",
   "name": "synapse_pyspark"
  },
  "language_info": {
   "name": "python"
  },
  "microsoft": {
   "host": {},
   "language": "python",
   "ms_spell_check": {
    "ms_spell_check_language": "en"
   }
  },
  "notebook_environment": {},
  "nteract": {
   "version": "nteract-front-end@1.0.0"
  },
  "save_output": true,
  "spark_compute": {
   "compute_id": "/trident/default",
   "session_options": {
    "conf": {},
    "enableDebugMode": false
   }
  },
  "synapse_widget": {
   "state": {},
   "version": "0.1"
  },
  "trident": {
   "lakehouse": {}
  },
  "widgets": {}
 },
 "nbformat": 4,
 "nbformat_minor": 5
}
