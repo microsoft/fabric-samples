{
	"nbformat": 4,
	"nbformat_minor": 5,
	"metadata": {
		"kernel_info": {
			"name": "synapse_pyspark"
		},
		"kernelspec": {
			"name": "synapse_pyspark",
			"display_name": "Synapse PySpark"
		},
		"language_info": {
			"name": "python"
		},
		"widgets": {},
		"microsoft": {
			"host": {},
			"language": "python",
			"ms_spell_check": {
				"ms_spell_check_language": "en"
			}
		},
		"nteract": {
			"version": "nteract-front-end@1.0.0"
		},
		"save_output": true,
		"spark_compute": {
			"compute_id": "/trident/default",
			"session_options": {
				"conf": {},
				"enableDebugMode": false
			}
		},
		"notebook_environment": {},
		"synapse_widget": {
			"version": "0.1",
			"state": {}
		},
		"trident": {
			"lakehouse": {
				"default_lakehouse": "f4d39fda-3aba-4a5c-bc7b-888f6db230ed",
				"default_lakehouse_name": "richwydlakehouse2",
				"default_lakehouse_workspace_id": "8f1676df-4d08-40ab-aef2-ac0179501193",
				"known_lakehouses": [
					{
						"id": "f4d39fda-3aba-4a5c-bc7b-888f6db230ed"
					}
				]
			}
		}
	},
	"cells": [
		{
			"cell_type": "markdown",
			"source": [
				"# Tutorial: Analyze Functional Dependencies in a PowerBI Sample Dataset\n",
				"\n",
				"**Customer intent:** As a data scientist, I want to leverage prior work of PowerBI analyst that's preserved in the form of datasets and on top of it have ways to discover non-trivial issues with data quality automatically so that I can reclaim time for doing other important work while making my analytical insights even more accurate and trustworthy.\n",
				"\n",
				"**Description:** This demo is focused on the analysis of functional dependencies in the Fabric's PowerBI environment. SemPy supports dependency analysis between columns of a dataframe.\n",
				"\n",
				"**Authors@microsoft:** alsavelv, richwyd, marcozo, taniaarya\n",
				"\n",
				"**Service/Product:** Fabric / Semantic Link\n",
				"\n",
				"**Written:** 08/29/2023"
			],
			"metadata": {
				"nteract": {
					"transient": {
						"deleting": false
					}
				}
			},
			"id": "4e25b67d-dbbf-486d-a419-5d5503782ff3"
		},
		{
			"cell_type": "markdown",
			"source": [
				"### In this tutorial, you learn how to:\n",
				"- Apply domain knowledge to formulate hypothesis about functional dependencies in a dataset;\n",
				"- Get familiarized with components of Semantic Link's Python library named SemPy that support integration with PowerBI and help automate data quality analysis, such as\n",
				"    - FabricDataFrame - a pandas-like structure enhanced with additional semantic information;\n",
				"    - Useful functions for pulling PBI datasets from a Fabric workspace into your notebook;\n",
				"    - Useful functions that automated evaluation of hypothesis about functional dependencies and identify violations."
			],
			"metadata": {
				"nteract": {
					"transient": {
						"deleting": false
					}
				}
			},
			"id": "d3b7a015-c3b3-408d-964e-6de7dfbc00c6"
		},
		{
			"cell_type": "markdown",
			"source": [
				"### Prerequisites\n",
				"1.\tA Premium Power BI subscription.   \n",
				"2.\tA Power BI Workspace with assigned premium capacity.\n",
				"3.\tAn existing \"Customer Profitability Sample PBIX\" pre-uploaded to the workspace before executing the notebook code."
			],
			"metadata": {
				"nteract": {
					"transient": {
						"deleting": false
					}
				}
			},
			"id": "09da28b9-e29e-4351-a871-c84e7244e26c"
		},
		{
			"cell_type": "markdown",
			"source": [
				"## Setup the notebook"
			],
			"metadata": {
				"nteract": {
					"transient": {
						"deleting": false
					}
				}
			},
			"id": "b84bc1c8-7401-4cd1-ade7-4732930c9d40"
		},
		{
			"cell_type": "markdown",
			"source": [
				"Firstly, we install SemPy from PyPI using pip magic command:"
			],
			"metadata": {
				"nteract": {
					"transient": {
						"deleting": false
					}
				}
			},
			"id": "96ba646d-823d-4ef3-a6aa-18f9e57bd06b"
		},
		{
			"cell_type": "code",
			"source": [
				"%pip install semantic-link"
			],
			"outputs": [
				{
					"output_type": "display_data",
					"data": {
						"application/vnd.livy.statement-meta+json": {
							"spark_pool": null,
							"session_id": "2fda03cc-9670-47e6-b550-331b4ad096c1",
							"statement_id": -1,
							"state": "finished",
							"livy_statement_state": "available",
							"queued_time": "2023-08-30T15:57:37.6161692Z",
							"session_start_time": null,
							"execution_start_time": "2023-08-30T16:00:04.4244986Z",
							"execution_finish_time": "2023-08-30T16:00:04.424661Z",
							"spark_jobs": {
								"numbers": {
									"UNKNOWN": 0,
									"SUCCEEDED": 0,
									"RUNNING": 0,
									"FAILED": 0
								},
								"jobs": [],
								"limit": 20,
								"rule": "ALL_DESC"
							},
							"parent_msg_id": "7c119f30-cd86-43ca-a7fe-037b81b6d6c4"
						},
						"text/plain": "StatementMeta(, 2fda03cc-9670-47e6-b550-331b4ad096c1, -1, Finished, Available)"
					},
					"metadata": {}
				},
				{
					"output_type": "execute_result",
					"execution_count": 1,
					"data": {},
					"metadata": {}
				},
				{
					"output_type": "stream",
					"name": "stdout",
					"text": [
						"Collecting semantic-link\n  Downloading semantic_link-0.3.0-py3-none-any.whl (7.2 kB)\nCollecting semantic-link-functions-validators==0.3.0\n  Downloading semantic_link_functions_validators-0.3.0-py3-none-any.whl (4.7 kB)\nCollecting semantic-link-functions-holidays==0.3.0\n  Downloading semantic_link_functions_holidays-0.3.0-py3-none-any.whl (4.2 kB)\nCollecting semantic-link-functions-geopandas==0.3.0\n  Downloading semantic_link_functions_geopandas-0.3.0-py3-none-any.whl (4.0 kB)\nCollecting semantic-link-functions-meteostat==0.3.0\n  Downloading semantic_link_functions_meteostat-0.3.0-py3-none-any.whl (4.5 kB)\nCollecting semantic-link-sempy==0.3.0\n  Downloading semantic_link_sempy-0.3.0-py3-none-any.whl (2.8 MB)\n\u001B[2K     \u001B[90m━━━━━━━━━━━━━━━━━━━━━━━━━━━━━━━━━━━━━━━━\u001B[0m \u001B[32m2.8/2.8 MB\u001B[0m \u001B[31m10.9 MB/s\u001B[0m eta \u001B[36m0:00:00\u001B[0m \u001B[36m0:00:01\u001B[0m\n\u001B[?25hCollecting semantic-link-functions-phonenumbers==0.3.0\n  Downloading semantic_link_functions_phonenumbers-0.3.0-py3-none-any.whl (4.3 kB)\nCollecting mapclassify\n  Downloading mapclassify-2.6.0-py3-none-any.whl (40 kB)\n\u001B[2K     \u001B[90m━━━━━━━━━━━━━━━━━━━━━━━━━━━━━━━━━━━━━━━━\u001B[0m \u001B[32m40.8/40.8 kB\u001B[0m \u001B[31m20.9 MB/s\u001B[0m eta \u001B[36m0:00:00\u001B[0m\n\u001B[?25hCollecting folium\n  Downloading folium-0.14.0-py2.py3-none-any.whl (102 kB)\n\u001B[2K     \u001B[90m━━━━━━━━━━━━━━━━━━━━━━━━━━━━━━━━━━━━━━\u001B[0m \u001B[32m102.3/102.3 kB\u001B[0m \u001B[31m48.4 MB/s\u001B[0m eta \u001B[36m0:00:00\u001B[0m\n\u001B[?25hCollecting geopandas\n  Downloading geopandas-0.13.2-py3-none-any.whl (1.1 MB)\n\u001B[2K     \u001B[90m━━━━━━━━━━━━━━━━━━━━━━━━━━━━━━━━━━━━━━━━\u001B[0m \u001B[32m1.1/1.1 MB\u001B[0m \u001B[31m120.2 MB/s\u001B[0m eta \u001B[36m0:00:00\u001B[0m\n\u001B[?25hCollecting holidays\n  Downloading holidays-0.31-py3-none-any.whl (754 kB)\n\u001B[2K     \u001B[90m━━━━━━━━━━━━━━━━━━━━━━━━━━━━━━━━━━━━━\u001B[0m \u001B[32m754.3/754.3 kB\u001B[0m \u001B[31m135.1 MB/s\u001B[0m eta \u001B[36m0:00:00\u001B[0m\n\u001B[?25hCollecting meteostat\n  Downloading meteostat-1.6.5-py3-none-any.whl (31 kB)\nCollecting phonenumbers\n  Downloading phonenumbers-8.13.19-py2.py3-none-any.whl (2.6 MB)\n\u001B[2K     \u001B[90m━━━━━━━━━━━━━━━━━━━━━━━━━━━━━━━━━━━━━━━━\u001B[0m \u001B[32m2.6/2.6 MB\u001B[0m \u001B[31m116.8 MB/s\u001B[0m eta \u001B[36m0:00:00\u001B[0m\n\u001B[?25hCollecting validators\n  Downloading validators-0.21.2-py3-none-any.whl (25 kB)\nRequirement already satisfied: pythonnet==3.0.1 in /home/trusted-service-user/cluster-env/trident_env/lib/python3.10/site-packages (from semantic-link-sempy==0.3.0->semantic-link) (3.0.1)\nRequirement already satisfied: clr-loader<0.3.0,>=0.2.2 in /home/trusted-service-user/cluster-env/trident_env/lib/python3.10/site-packages (from pythonnet==3.0.1->semantic-link-sempy==0.3.0->semantic-link) (0.2.6)\nRequirement already satisfied: requests in /home/trusted-service-user/cluster-env/trident_env/lib/python3.10/site-packages (from folium->semantic-link-functions-geopandas==0.3.0->semantic-link) (2.28.2)\nRequirement already satisfied: jinja2>=2.9 in /home/trusted-service-user/cluster-env/trident_env/lib/python3.10/site-packages (from folium->semantic-link-functions-geopandas==0.3.0->semantic-link) (3.1.2)\nRequirement already satisfied: numpy in /home/trusted-service-user/cluster-env/trident_env/lib/python3.10/site-packages (from folium->semantic-link-functions-geopandas==0.3.0->semantic-link) (1.23.5)\nCollecting branca>=0.6.0\n  Downloading branca-0.6.0-py3-none-any.whl (24 kB)\nCollecting pyproj>=3.0.1\n  Downloading pyproj-3.6.0-cp310-cp310-manylinux_2_17_x86_64.manylinux2014_x86_64.whl (7.9 MB)\n\u001B[2K     \u001B[90m━━━━━━━━━━━━━━━━━━━━━━━━━━━━━━━━━━━━━━━━\u001B[0m \u001B[32m7.9/7.9 MB\u001B[0m \u001B[31m74.5 MB/s\u001B[0m eta \u001B[36m0:00:00\u001B[0m00:01\u001B[0m:00:01\u001B[0m\n\u001B[?25hCollecting fiona>=1.8.19\n  Downloading Fiona-1.9.4.post1-cp310-cp310-manylinux_2_17_x86_64.manylinux2014_x86_64.whl (16.4 MB)\n\u001B[2K     \u001B[90m━━━━━━━━━━━━━━━━━━━━━━━━━━━━━━━━━━━━━━━━\u001B[0m \u001B[32m16.4/16.4 MB\u001B[0m \u001B[31m63.3 MB/s\u001B[0m eta \u001B[36m0:00:00\u001B[0m00:01\u001B[0m00:01\u001B[0m\n\u001B[?25hRequirement already satisfied: pandas>=1.1.0 in /home/trusted-service-user/cluster-env/trident_env/lib/python3.10/site-packages (from geopandas->semantic-link-functions-geopandas==0.3.0->semantic-link) (1.5.3)\nRequirement already satisfied: packaging in /home/trusted-service-user/cluster-env/trident_env/lib/python3.10/site-packages (from geopandas->semantic-link-functions-geopandas==0.3.0->semantic-link) (22.0)\nCollecting shapely>=1.7.1\n  Downloading shapely-2.0.1-cp310-cp310-manylinux_2_17_x86_64.manylinux2014_x86_64.whl (2.3 MB)\n\u001B[2K     \u001B[90m━━━━━━━━━━━━━━━━━━━━━━━━━━━━━━━━━━━━━━━━\u001B[0m \u001B[32m2.3/2.3 MB\u001B[0m \u001B[31m177.7 MB/s\u001B[0m eta \u001B[36m0:00:00\u001B[0m\n\u001B[?25hRequirement already satisfied: python-dateutil in /home/trusted-service-user/cluster-env/trident_env/lib/python3.10/site-packages (from holidays->semantic-link-functions-holidays==0.3.0->semantic-link) (2.8.2)\nRequirement already satisfied: scipy>=1.0 in /home/trusted-service-user/cluster-env/trident_env/lib/python3.10/site-packages (from mapclassify->semantic-link-functions-geopandas==0.3.0->semantic-link) (1.10.1)\nCollecting networkx\n  Downloading networkx-3.1-py3-none-any.whl (2.1 MB)\n\u001B[2K     \u001B[90m━━━━━━━━━━━━━━━━━━━━━━━━━━━━━━━━━━━━━━━━\u001B[0m \u001B[32m2.1/2.1 MB\u001B[0m \u001B[31m152.8 MB/s\u001B[0m eta \u001B[36m0:00:00\u001B[0m\n\u001B[?25hRequirement already satisfied: scikit-learn in /home/trusted-service-user/cluster-env/trident_env/lib/python3.10/site-packages (from mapclassify->semantic-link-functions-geopandas==0.3.0->semantic-link) (1.2.0)\nRequirement already satisfied: pytz in /home/trusted-service-user/cluster-env/trident_env/lib/python3.10/site-packages (from meteostat->semantic-link-functions-meteostat==0.3.0->semantic-link) (2022.7.1)\nRequirement already satisfied: cffi>=1.13 in /home/trusted-service-user/cluster-env/trident_env/lib/python3.10/site-packages (from clr-loader<0.3.0,>=0.2.2->pythonnet==3.0.1->semantic-link-sempy==0.3.0->semantic-link) (1.15.1)\nCollecting cligj>=0.5\n  Downloading cligj-0.7.2-py3-none-any.whl (7.1 kB)\nCollecting click-plugins>=1.0\n  Downloading click_plugins-1.1.1-py2.py3-none-any.whl (7.5 kB)\nRequirement already satisfied: attrs>=19.2.0 in /home/trusted-service-user/cluster-env/trident_env/lib/python3.10/site-packages (from fiona>=1.8.19->geopandas->semantic-link-functions-geopandas==0.3.0->semantic-link) (22.2.0)\nRequirement already satisfied: certifi in /home/trusted-service-user/cluster-env/trident_env/lib/python3.10/site-packages (from fiona>=1.8.19->geopandas->semantic-link-functions-geopandas==0.3.0->semantic-link) (2022.12.7)\nRequirement already satisfied: six in /home/trusted-service-user/cluster-env/trident_env/lib/python3.10/site-packages (from fiona>=1.8.19->geopandas->semantic-link-functions-geopandas==0.3.0->semantic-link) (1.16.0)\nRequirement already satisfied: click~=8.0 in /home/trusted-service-user/cluster-env/trident_env/lib/python3.10/site-packages (from fiona>=1.8.19->geopandas->semantic-link-functions-geopandas==0.3.0->semantic-link) (8.1.3)\nRequirement already satisfied: MarkupSafe>=2.0 in /home/trusted-service-user/cluster-env/trident_env/lib/python3.10/site-packages (from jinja2>=2.9->folium->semantic-link-functions-geopandas==0.3.0->semantic-link) (2.1.2)\nRequirement already satisfied: charset-normalizer<4,>=2 in /home/trusted-service-user/cluster-env/trident_env/lib/python3.10/site-packages (from requests->folium->semantic-link-functions-geopandas==0.3.0->semantic-link) (2.1.1)\nRequirement already satisfied: urllib3<1.27,>=1.21.1 in /home/trusted-service-user/cluster-env/trident_env/lib/python3.10/site-packages (from requests->folium->semantic-link-functions-geopandas==0.3.0->semantic-link) (1.26.14)\nRequirement already satisfied: idna<4,>=2.5 in /home/trusted-service-user/cluster-env/trident_env/lib/python3.10/site-packages (from requests->folium->semantic-link-functions-geopandas==0.3.0->semantic-link) (3.4)\nRequirement already satisfied: joblib>=1.1.1 in /home/trusted-service-user/cluster-env/trident_env/lib/python3.10/site-packages (from scikit-learn->mapclassify->semantic-link-functions-geopandas==0.3.0->semantic-link) (1.2.0)\nRequirement already satisfied: threadpoolctl>=2.0.0 in /home/trusted-service-user/cluster-env/trident_env/lib/python3.10/site-packages (from scikit-learn->mapclassify->semantic-link-functions-geopandas==0.3.0->semantic-link) (3.1.0)\nRequirement already satisfied: pycparser in /home/trusted-service-user/cluster-env/trident_env/lib/python3.10/site-packages (from cffi>=1.13->clr-loader<0.3.0,>=0.2.2->pythonnet==3.0.1->semantic-link-sempy==0.3.0->semantic-link) (2.21)\nInstalling collected packages: phonenumbers, validators, shapely, pyproj, networkx, cligj, click-plugins, holidays, fiona, branca, meteostat, mapclassify, geopandas, folium, semantic-link-sempy, semantic-link-functions-validators, semantic-link-functions-phonenumbers, semantic-link-functions-meteostat, semantic-link-functions-holidays, semantic-link-functions-geopandas, semantic-link\nSuccessfully installed branca-0.6.0 click-plugins-1.1.1 cligj-0.7.2 fiona-1.9.4.post1 folium-0.14.0 geopandas-0.13.2 holidays-0.31 mapclassify-2.6.0 meteostat-1.6.5 networkx-3.1 phonenumbers-8.13.19 pyproj-3.6.0 semantic-link-0.3.0 semantic-link-functions-geopandas-0.3.0 semantic-link-functions-holidays-0.3.0 semantic-link-functions-meteostat-0.3.0 semantic-link-functions-phonenumbers-0.3.0 semantic-link-functions-validators-0.3.0 semantic-link-sempy-0.3.0 shapely-2.0.1 validators-0.21.2\n\n\u001B[1m[\u001B[0m\u001B[34;49mnotice\u001B[0m\u001B[1;39;49m]\u001B[0m\u001B[39;49m A new release of pip is available: \u001B[0m\u001B[31;49m23.0\u001B[0m\u001B[39;49m -> \u001B[0m\u001B[32;49m23.2.1\u001B[0m\n\u001B[1m[\u001B[0m\u001B[34;49mnotice\u001B[0m\u001B[1;39;49m]\u001B[0m\u001B[39;49m To update, run: \u001B[0m\u001B[32;49m/nfs4/pyenv-429011be-8e8c-4e3c-a3fb-d250c45c7f80/bin/python -m pip install --upgrade pip\u001B[0m\nNote: you may need to restart the kernel to use updated packages.\n"
					]
				},
				{
					"output_type": "execute_result",
					"execution_count": 1,
					"data": {},
					"metadata": {}
				},
				{
					"output_type": "stream",
					"name": "stdout",
					"text": [
						"Warning: PySpark kernel has been restarted to use updated packages.\n\n"
					]
				}
			],
			"execution_count": 1,
			"metadata": {
				"jupyter": {
					"source_hidden": false,
					"outputs_hidden": false
				},
				"nteract": {
					"transient": {
						"deleting": false
					}
				}
			},
			"id": "f70db937-387e-47bd-b72d-b2772c80ba74"
		},
		{
			"cell_type": "markdown",
			"source": [
				"Then we perform necessary imports of modules that will be needed later on:"
			],
			"metadata": {
				"nteract": {
					"transient": {
						"deleting": false
					}
				}
			},
			"id": "bce4e81a-6f45-448e-a686-47ec12353ece"
		},
		{
			"cell_type": "code",
			"source": [
				"import sempy.fabric as fabric\n",
				"\n",
				"from sempy.dependencies import plot_dependency_metadata"
			],
			"outputs": [
				{
					"output_type": "display_data",
					"data": {
						"application/vnd.livy.statement-meta+json": {
							"spark_pool": null,
							"session_id": "2fda03cc-9670-47e6-b550-331b4ad096c1",
							"statement_id": 20,
							"state": "finished",
							"livy_statement_state": "available",
							"queued_time": "2023-08-30T16:10:03.9688393Z",
							"session_start_time": null,
							"execution_start_time": "2023-08-30T16:10:04.3486335Z",
							"execution_finish_time": "2023-08-30T16:10:04.7009021Z",
							"spark_jobs": {
								"numbers": {
									"UNKNOWN": 0,
									"SUCCEEDED": 0,
									"RUNNING": 0,
									"FAILED": 0
								},
								"jobs": [],
								"limit": 20,
								"rule": "ALL_DESC"
							},
							"parent_msg_id": "09f7da97-139a-45ef-a989-da9f4fad9e92"
						},
						"text/plain": "StatementMeta(, 2fda03cc-9670-47e6-b550-331b4ad096c1, 20, Finished, Available)"
					},
					"metadata": {}
				}
			],
			"execution_count": 11,
			"metadata": {
				"jupyter": {
					"outputs_hidden": false,
					"source_hidden": false
				},
				"nteract": {
					"transient": {
						"deleting": false
					}
				}
			},
			"id": "afa4929c-43a6-4d6d-935c-f2b5b5067643"
		},
		{
			"cell_type": "markdown",
			"source": [
				"## Load and preprocess data"
			],
			"metadata": {
				"nteract": {
					"transient": {
						"deleting": false
					}
				}
			},
			"id": "d0d04c6e-69e2-4328-8065-c9300b529597"
		},
		{
			"cell_type": "markdown",
			"source": [
				"This demo relies on a standard PowerBI sample dataset from https://learn.microsoft.com/en-us/power-bi/create-reports/sample-customer-profitability. Let's start from loading the PBI data into dataframes using SemPy's ``read_table`` function:"
			],
			"metadata": {
				"nteract": {
					"transient": {
						"deleting": false
					}
				}
			},
			"id": "c16a1298-1491-4941-9710-2d4eeafca2af"
		},
		{
			"cell_type": "code",
			"source": [
				"dataset = \"Customer Profitability Sample PBIX\"\n",
				"customer = fabric.read_table(dataset, \"Customer\")\n",
				"customer.head()"
			],
			"outputs": [
				{
					"output_type": "display_data",
					"data": {
						"application/vnd.livy.statement-meta+json": {
							"spark_pool": null,
							"session_id": "2fda03cc-9670-47e6-b550-331b4ad096c1",
							"statement_id": 13,
							"state": "finished",
							"livy_statement_state": "available",
							"queued_time": "2023-08-30T16:00:14.6180308Z",
							"session_start_time": null,
							"execution_start_time": "2023-08-30T16:00:41.0222289Z",
							"execution_finish_time": "2023-08-30T16:00:42.9022957Z",
							"spark_jobs": {
								"numbers": {
									"UNKNOWN": 0,
									"SUCCEEDED": 0,
									"RUNNING": 0,
									"FAILED": 0
								},
								"jobs": [],
								"limit": 20,
								"rule": "ALL_DESC"
							},
							"parent_msg_id": "f81e90f5-f061-4891-a362-e76170617825"
						},
						"text/plain": "StatementMeta(, 2fda03cc-9670-47e6-b550-331b4ad096c1, 13, Finished, Available)"
					},
					"metadata": {}
				},
				{
					"output_type": "execute_result",
					"execution_count": 13,
					"data": {
						"text/plain": "   Customer Country/Region                     Name         City  Postal Code  \\\n0      1023             US         Spade and Archer       Irving        75038   \n1     10000             US               Globo-Chem      Chicago        60601   \n2     10001             US  SNC Directly to America  Westchester        60154   \n3     10002             US                      GHG        Plano        75024   \n4     10003             US           ABC Helicopter   Fort Worth        76177   \n\n  State  Industry ID  \n0    TX           31  \n1    IL           30  \n2    IL           30  \n3    TX           13  \n4    TX           34  ",
						"text/html": "<div>\n<style scoped>\n    .dataframe tbody tr th:only-of-type {\n        vertical-align: middle;\n    }\n\n    .dataframe tbody tr th {\n        vertical-align: top;\n    }\n\n    .dataframe thead th {\n        text-align: right;\n    }\n</style>\n<table border=\"1\" class=\"dataframe\">\n  <thead>\n    <tr style=\"text-align: right;\">\n      <th></th>\n      <th>Customer</th>\n      <th>Country/Region</th>\n      <th>Name</th>\n      <th>City</th>\n      <th>Postal Code</th>\n      <th>State</th>\n      <th>Industry ID</th>\n    </tr>\n  </thead>\n  <tbody>\n    <tr>\n      <th>0</th>\n      <td>1023</td>\n      <td>US</td>\n      <td>Spade and Archer</td>\n      <td>Irving</td>\n      <td>75038</td>\n      <td>TX</td>\n      <td>31</td>\n    </tr>\n    <tr>\n      <th>1</th>\n      <td>10000</td>\n      <td>US</td>\n      <td>Globo-Chem</td>\n      <td>Chicago</td>\n      <td>60601</td>\n      <td>IL</td>\n      <td>30</td>\n    </tr>\n    <tr>\n      <th>2</th>\n      <td>10001</td>\n      <td>US</td>\n      <td>SNC Directly to America</td>\n      <td>Westchester</td>\n      <td>60154</td>\n      <td>IL</td>\n      <td>30</td>\n    </tr>\n    <tr>\n      <th>3</th>\n      <td>10002</td>\n      <td>US</td>\n      <td>GHG</td>\n      <td>Plano</td>\n      <td>75024</td>\n      <td>TX</td>\n      <td>13</td>\n    </tr>\n    <tr>\n      <th>4</th>\n      <td>10003</td>\n      <td>US</td>\n      <td>ABC Helicopter</td>\n      <td>Fort Worth</td>\n      <td>76177</td>\n      <td>TX</td>\n      <td>34</td>\n    </tr>\n  </tbody>\n</table>\n</div>"
					},
					"metadata": {}
				}
			],
			"execution_count": 4,
			"metadata": {
				"jupyter": {
					"outputs_hidden": false,
					"source_hidden": false
				},
				"nteract": {
					"transient": {
						"deleting": false
					}
				}
			},
			"id": "d88f0099-ad60-4948-8eb6-f08c1370217d"
		},
		{
			"cell_type": "markdown",
			"source": [
				"Then we do the same for table called 'State':"
			],
			"metadata": {
				"nteract": {
					"transient": {
						"deleting": false
					}
				}
			},
			"id": "ca62a636-20aa-4a1b-8773-e84e4627d6d3"
		},
		{
			"cell_type": "code",
			"source": [
				"state = fabric.read_table(dataset, \"State\")\n",
				"state.head()"
			],
			"outputs": [
				{
					"output_type": "display_data",
					"data": {
						"application/vnd.livy.statement-meta+json": {
							"spark_pool": null,
							"session_id": "2fda03cc-9670-47e6-b550-331b4ad096c1",
							"statement_id": 15,
							"state": "finished",
							"livy_statement_state": "available",
							"queued_time": "2023-08-30T16:01:09.9436343Z",
							"session_start_time": null,
							"execution_start_time": "2023-08-30T16:01:10.3713546Z",
							"execution_finish_time": "2023-08-30T16:01:11.2930192Z",
							"spark_jobs": {
								"numbers": {
									"UNKNOWN": 0,
									"SUCCEEDED": 0,
									"RUNNING": 0,
									"FAILED": 0
								},
								"jobs": [],
								"limit": 20,
								"rule": "ALL_DESC"
							},
							"parent_msg_id": "be318371-dec7-4933-af60-25c68a41e69e"
						},
						"text/plain": "StatementMeta(, 2fda03cc-9670-47e6-b550-331b4ad096c1, 15, Finished, Available)"
					},
					"metadata": {}
				},
				{
					"output_type": "execute_result",
					"execution_count": 19,
					"data": {
						"text/plain": "  StateCode    State Region\n0        AK   ALASKA   WEST\n1        FL  FLORIDA   EAST\n2        GA  GEORGIA   EAST\n3        HI   HAWAII   WEST\n4        IA     IOWA  NORTH",
						"text/html": "<div>\n<style scoped>\n    .dataframe tbody tr th:only-of-type {\n        vertical-align: middle;\n    }\n\n    .dataframe tbody tr th {\n        vertical-align: top;\n    }\n\n    .dataframe thead th {\n        text-align: right;\n    }\n</style>\n<table border=\"1\" class=\"dataframe\">\n  <thead>\n    <tr style=\"text-align: right;\">\n      <th></th>\n      <th>StateCode</th>\n      <th>State</th>\n      <th>Region</th>\n    </tr>\n  </thead>\n  <tbody>\n    <tr>\n      <th>0</th>\n      <td>AK</td>\n      <td>ALASKA</td>\n      <td>WEST</td>\n    </tr>\n    <tr>\n      <th>1</th>\n      <td>FL</td>\n      <td>FLORIDA</td>\n      <td>EAST</td>\n    </tr>\n    <tr>\n      <th>2</th>\n      <td>GA</td>\n      <td>GEORGIA</td>\n      <td>EAST</td>\n    </tr>\n    <tr>\n      <th>3</th>\n      <td>HI</td>\n      <td>HAWAII</td>\n      <td>WEST</td>\n    </tr>\n    <tr>\n      <th>4</th>\n      <td>IA</td>\n      <td>IOWA</td>\n      <td>NORTH</td>\n    </tr>\n  </tbody>\n</table>\n</div>"
					},
					"metadata": {}
				}
			],
			"execution_count": 6,
			"metadata": {
				"jupyter": {
					"outputs_hidden": false,
					"source_hidden": false
				},
				"nteract": {
					"transient": {
						"deleting": false
					}
				}
			},
			"id": "144e9193-8db6-45cb-9d1d-bf60c9704139"
		},
		{
			"cell_type": "markdown",
			"source": [
				"While the output looks like pandas dataframe, but actually we initialized data structures called ``FabricDataFrame`` that support some useful operations on top of pandas."
			],
			"metadata": {
				"nteract": {
					"transient": {
						"deleting": false
					}
				}
			},
			"id": "e1fc8a92-a422-4ae9-9822-4c644d9ec39d"
		},
		{
			"cell_type": "code",
			"source": [
				"type(customer)"
			],
			"outputs": [
				{
					"output_type": "display_data",
					"data": {
						"application/vnd.livy.statement-meta+json": {
							"spark_pool": null,
							"session_id": "2fda03cc-9670-47e6-b550-331b4ad096c1",
							"statement_id": 16,
							"state": "finished",
							"livy_statement_state": "available",
							"queued_time": "2023-08-30T16:03:11.1912431Z",
							"session_start_time": null,
							"execution_start_time": "2023-08-30T16:03:11.5843938Z",
							"execution_finish_time": "2023-08-30T16:03:11.9255043Z",
							"spark_jobs": {
								"numbers": {
									"UNKNOWN": 0,
									"SUCCEEDED": 0,
									"RUNNING": 0,
									"FAILED": 0
								},
								"jobs": [],
								"limit": 20,
								"rule": "ALL_DESC"
							},
							"parent_msg_id": "74d4e3b3-4c38-41c8-ab7a-0eb1b1aa32ba"
						},
						"text/plain": "StatementMeta(, 2fda03cc-9670-47e6-b550-331b4ad096c1, 16, Finished, Available)"
					},
					"metadata": {}
				},
				{
					"output_type": "execute_result",
					"execution_count": 22,
					"data": {
						"text/plain": "sempy.fabric._dataframe._fabric_dataframe.FabricDataFrame"
					},
					"metadata": {}
				}
			],
			"execution_count": 7,
			"metadata": {
				"jupyter": {
					"source_hidden": false,
					"outputs_hidden": false
				},
				"nteract": {
					"transient": {
						"deleting": false
					}
				}
			},
			"id": "fab87003-acd2-4061-a73d-49f0efec1eb4"
		},
		{
			"cell_type": "markdown",
			"source": [
				"Let's join Customer and State tables:"
			],
			"metadata": {
				"nteract": {
					"transient": {
						"deleting": false
					}
				}
			},
			"id": "6a9b66c6-6b0f-44b0-b915-8e76c1a51ad8"
		},
		{
			"cell_type": "code",
			"source": [
				"customer_state_df = customer.merge(state, left_on=\"State\", right_on=\"StateCode\",  how='left')\n",
				"customer_state_df.head()"
			],
			"outputs": [
				{
					"output_type": "display_data",
					"data": {
						"application/vnd.livy.statement-meta+json": {
							"spark_pool": null,
							"session_id": "2fda03cc-9670-47e6-b550-331b4ad096c1",
							"statement_id": 17,
							"state": "finished",
							"livy_statement_state": "available",
							"queued_time": "2023-08-30T16:03:21.7473289Z",
							"session_start_time": null,
							"execution_start_time": "2023-08-30T16:03:22.1114513Z",
							"execution_finish_time": "2023-08-30T16:03:22.4482447Z",
							"spark_jobs": {
								"numbers": {
									"UNKNOWN": 0,
									"SUCCEEDED": 0,
									"RUNNING": 0,
									"FAILED": 0
								},
								"jobs": [],
								"limit": 20,
								"rule": "ALL_DESC"
							},
							"parent_msg_id": "1062e0fb-52ac-40ea-929a-a6e0f2009372"
						},
						"text/plain": "StatementMeta(, 2fda03cc-9670-47e6-b550-331b4ad096c1, 17, Finished, Available)"
					},
					"metadata": {}
				},
				{
					"output_type": "execute_result",
					"execution_count": 25,
					"data": {
						"text/plain": "   Customer Country/Region                     Name         City  Postal Code  \\\n0      1023             US         Spade and Archer       Irving        75038   \n1     10000             US               Globo-Chem      Chicago        60601   \n2     10001             US  SNC Directly to America  Westchester        60154   \n3     10002             US                      GHG        Plano        75024   \n4     10003             US           ABC Helicopter   Fort Worth        76177   \n\n  State_x  Industry ID StateCode   State_y Region  \n0      TX           31        TX     TEXAS  SOUTH  \n1      IL           30        IL  ILLINOIS  NORTH  \n2      IL           30        IL  ILLINOIS  NORTH  \n3      TX           13        TX     TEXAS  SOUTH  \n4      TX           34        TX     TEXAS  SOUTH  ",
						"text/html": "<div>\n<style scoped>\n    .dataframe tbody tr th:only-of-type {\n        vertical-align: middle;\n    }\n\n    .dataframe tbody tr th {\n        vertical-align: top;\n    }\n\n    .dataframe thead th {\n        text-align: right;\n    }\n</style>\n<table border=\"1\" class=\"dataframe\">\n  <thead>\n    <tr style=\"text-align: right;\">\n      <th></th>\n      <th>Customer</th>\n      <th>Country/Region</th>\n      <th>Name</th>\n      <th>City</th>\n      <th>Postal Code</th>\n      <th>State_x</th>\n      <th>Industry ID</th>\n      <th>StateCode</th>\n      <th>State_y</th>\n      <th>Region</th>\n    </tr>\n  </thead>\n  <tbody>\n    <tr>\n      <th>0</th>\n      <td>1023</td>\n      <td>US</td>\n      <td>Spade and Archer</td>\n      <td>Irving</td>\n      <td>75038</td>\n      <td>TX</td>\n      <td>31</td>\n      <td>TX</td>\n      <td>TEXAS</td>\n      <td>SOUTH</td>\n    </tr>\n    <tr>\n      <th>1</th>\n      <td>10000</td>\n      <td>US</td>\n      <td>Globo-Chem</td>\n      <td>Chicago</td>\n      <td>60601</td>\n      <td>IL</td>\n      <td>30</td>\n      <td>IL</td>\n      <td>ILLINOIS</td>\n      <td>NORTH</td>\n    </tr>\n    <tr>\n      <th>2</th>\n      <td>10001</td>\n      <td>US</td>\n      <td>SNC Directly to America</td>\n      <td>Westchester</td>\n      <td>60154</td>\n      <td>IL</td>\n      <td>30</td>\n      <td>IL</td>\n      <td>ILLINOIS</td>\n      <td>NORTH</td>\n    </tr>\n    <tr>\n      <th>3</th>\n      <td>10002</td>\n      <td>US</td>\n      <td>GHG</td>\n      <td>Plano</td>\n      <td>75024</td>\n      <td>TX</td>\n      <td>13</td>\n      <td>TX</td>\n      <td>TEXAS</td>\n      <td>SOUTH</td>\n    </tr>\n    <tr>\n      <th>4</th>\n      <td>10003</td>\n      <td>US</td>\n      <td>ABC Helicopter</td>\n      <td>Fort Worth</td>\n      <td>76177</td>\n      <td>TX</td>\n      <td>34</td>\n      <td>TX</td>\n      <td>TEXAS</td>\n      <td>SOUTH</td>\n    </tr>\n  </tbody>\n</table>\n</div>"
					},
					"metadata": {}
				}
			],
			"execution_count": 8,
			"metadata": {
				"jupyter": {
					"outputs_hidden": false,
					"source_hidden": false
				},
				"nteract": {
					"transient": {
						"deleting": false
					}
				}
			},
			"id": "88168d9e-353a-418e-b7a0-bcb6882fde59"
		},
		{
			"cell_type": "markdown",
			"source": [
				"## Identify functional dependencies"
			],
			"metadata": {
				"nteract": {
					"transient": {
						"deleting": false
					}
				}
			},
			"id": "2bd72bcd-c374-4ab0-884a-774abe39c5e2"
		},
		{
			"cell_type": "markdown",
			"source": [
				"A functional dependency manifests itself as a one-to-many relationship between the values in two (or more) columns within a dataframe (which does not occur if the dataset adheres to 3rd normal form). These relationships can be instrumental for automatic detection of data quality problems. Will SemPy help us identify functional dependencies between values in the columns? Let's try running ``find_dependencies`` function on the merged dataframe:"
			],
			"metadata": {
				"nteract": {
					"transient": {
						"deleting": false
					}
				}
			},
			"id": "0232aec5-e2ad-4a3e-a143-e67edac0d072"
		},
		{
			"cell_type": "code",
			"source": [
				"dependencies = customer_state_df.find_dependencies()\n",
				"dependencies"
			],
			"outputs": [
				{
					"output_type": "display_data",
					"data": {
						"application/vnd.livy.statement-meta+json": {
							"spark_pool": null,
							"session_id": "2fda03cc-9670-47e6-b550-331b4ad096c1",
							"statement_id": 18,
							"state": "finished",
							"livy_statement_state": "available",
							"queued_time": "2023-08-30T16:09:46.6607681Z",
							"session_start_time": null,
							"execution_start_time": "2023-08-30T16:09:47.034789Z",
							"execution_finish_time": "2023-08-30T16:09:47.381701Z",
							"spark_jobs": {
								"numbers": {
									"UNKNOWN": 0,
									"SUCCEEDED": 0,
									"RUNNING": 0,
									"FAILED": 0
								},
								"jobs": [],
								"limit": 20,
								"rule": "ALL_DESC"
							},
							"parent_msg_id": "bba9f73a-74a1-4d34-82b2-d934f80525fb"
						},
						"text/plain": "StatementMeta(, 2fda03cc-9670-47e6-b550-331b4ad096c1, 18, Finished, Available)"
					},
					"metadata": {}
				},
				{
					"output_type": "execute_result",
					"execution_count": 28,
					"data": {
						"text/plain": "            determinant             dependent  conditional_entropy  \\\n0              Customer                  Name             0.000000   \n1              Customer           Postal Code             0.000000   \n2              Customer                  City             0.000000   \n3              Customer               State_x             0.000000   \n4              Customer           Industry ID             0.000000   \n5                  Name        Country/Region             0.004239   \n6               State_x  [StateCode, State_y]             0.000000   \n7               State_x        Country/Region             0.000000   \n8  [StateCode, State_y]                Region             0.000000   \n\n   determinant_n_unique  dependent_n_unique  determinant_n_nulls  \\\n0                   327                 303                    0   \n1                   327                 208                    0   \n2                   327                 188                    0   \n3                   327                  37                    0   \n4                   327                  32                    0   \n5                   303                   4                    0   \n6                    37                  34                    0   \n7                    37                   4                    0   \n8                    34                   6                   13   \n\n   dependent_n_nulls  \n0                  0  \n1                 50  \n2                  0  \n3                  0  \n4                  0  \n5                  0  \n6                 13  \n7                  0  \n8                 13  ",
						"text/html": "<div>\n<style scoped>\n    .dataframe tbody tr th:only-of-type {\n        vertical-align: middle;\n    }\n\n    .dataframe tbody tr th {\n        vertical-align: top;\n    }\n\n    .dataframe thead th {\n        text-align: right;\n    }\n</style>\n<table border=\"1\" class=\"dataframe\">\n  <thead>\n    <tr style=\"text-align: right;\">\n      <th></th>\n      <th>determinant</th>\n      <th>dependent</th>\n      <th>conditional_entropy</th>\n      <th>determinant_n_unique</th>\n      <th>dependent_n_unique</th>\n      <th>determinant_n_nulls</th>\n      <th>dependent_n_nulls</th>\n    </tr>\n  </thead>\n  <tbody>\n    <tr>\n      <th>0</th>\n      <td>Customer</td>\n      <td>Name</td>\n      <td>0.000000</td>\n      <td>327</td>\n      <td>303</td>\n      <td>0</td>\n      <td>0</td>\n    </tr>\n    <tr>\n      <th>1</th>\n      <td>Customer</td>\n      <td>Postal Code</td>\n      <td>0.000000</td>\n      <td>327</td>\n      <td>208</td>\n      <td>0</td>\n      <td>50</td>\n    </tr>\n    <tr>\n      <th>2</th>\n      <td>Customer</td>\n      <td>City</td>\n      <td>0.000000</td>\n      <td>327</td>\n      <td>188</td>\n      <td>0</td>\n      <td>0</td>\n    </tr>\n    <tr>\n      <th>3</th>\n      <td>Customer</td>\n      <td>State_x</td>\n      <td>0.000000</td>\n      <td>327</td>\n      <td>37</td>\n      <td>0</td>\n      <td>0</td>\n    </tr>\n    <tr>\n      <th>4</th>\n      <td>Customer</td>\n      <td>Industry ID</td>\n      <td>0.000000</td>\n      <td>327</td>\n      <td>32</td>\n      <td>0</td>\n      <td>0</td>\n    </tr>\n    <tr>\n      <th>5</th>\n      <td>Name</td>\n      <td>Country/Region</td>\n      <td>0.004239</td>\n      <td>303</td>\n      <td>4</td>\n      <td>0</td>\n      <td>0</td>\n    </tr>\n    <tr>\n      <th>6</th>\n      <td>State_x</td>\n      <td>[StateCode, State_y]</td>\n      <td>0.000000</td>\n      <td>37</td>\n      <td>34</td>\n      <td>0</td>\n      <td>13</td>\n    </tr>\n    <tr>\n      <th>7</th>\n      <td>State_x</td>\n      <td>Country/Region</td>\n      <td>0.000000</td>\n      <td>37</td>\n      <td>4</td>\n      <td>0</td>\n      <td>0</td>\n    </tr>\n    <tr>\n      <th>8</th>\n      <td>[StateCode, State_y]</td>\n      <td>Region</td>\n      <td>0.000000</td>\n      <td>34</td>\n      <td>6</td>\n      <td>13</td>\n      <td>13</td>\n    </tr>\n  </tbody>\n</table>\n</div>"
					},
					"metadata": {}
				}
			],
			"execution_count": 9,
			"metadata": {
				"jupyter": {
					"outputs_hidden": false,
					"source_hidden": false
				},
				"nteract": {
					"transient": {
						"deleting": false
					}
				}
			},
			"id": "047c3b71-07fd-41a7-879c-5f8ad91b569a"
		},
		{
			"cell_type": "markdown",
			"source": [
				"We visualize identified dependencies below using another SemPy's function, ``plot_dependency_metadata``:"
			],
			"metadata": {
				"nteract": {
					"transient": {
						"deleting": false
					}
				}
			},
			"id": "b29f03ad-d002-4c3c-a0ae-2d41515c68ff"
		},
		{
			"cell_type": "code",
			"source": [
				"plot_dependency_metadata(dependencies)"
			],
			"outputs": [
				{
					"output_type": "display_data",
					"data": {
						"application/vnd.livy.statement-meta+json": {
							"spark_pool": null,
							"session_id": "2fda03cc-9670-47e6-b550-331b4ad096c1",
							"statement_id": 21,
							"state": "finished",
							"livy_statement_state": "available",
							"queued_time": "2023-08-30T16:10:11.2108565Z",
							"session_start_time": null,
							"execution_start_time": "2023-08-30T16:10:11.5425794Z",
							"execution_finish_time": "2023-08-30T16:10:12.4834775Z",
							"spark_jobs": {
								"numbers": {
									"UNKNOWN": 0,
									"SUCCEEDED": 0,
									"RUNNING": 0,
									"FAILED": 0
								},
								"jobs": [],
								"limit": 20,
								"rule": "ALL_DESC"
							},
							"parent_msg_id": "39b5fbcd-f109-49a6-ae79-364d074d4f4a"
						},
						"text/plain": "StatementMeta(, 2fda03cc-9670-47e6-b550-331b4ad096c1, 21, Finished, Available)"
					},
					"metadata": {}
				},
				{
					"output_type": "execute_result",
					"execution_count": 37,
					"data": {
						"image/svg+xml": "<?xml version=\"1.0\" encoding=\"UTF-8\" standalone=\"no\"?>\n<!DOCTYPE svg PUBLIC \"-//W3C//DTD SVG 1.1//EN\"\n \"http://www.w3.org/Graphics/SVG/1.1/DTD/svg11.dtd\">\n<!-- Generated by graphviz version 2.50.0 (20220708.1628)\n -->\n<!-- Pages: 1 -->\n<svg width=\"491pt\" height=\"274pt\"\n viewBox=\"0.00 0.00 490.50 274.00\" xmlns=\"http://www.w3.org/2000/svg\" xmlns:xlink=\"http://www.w3.org/1999/xlink\">\n<g id=\"graph0\" class=\"graph\" transform=\"scale(1 1) rotate(0) translate(4 270)\">\n<polygon fill=\"white\" stroke=\"transparent\" points=\"-4,4 -4,-270 486.5,-270 486.5,4 -4,4\"/>\n<!-- 0 -->\n<g id=\"node1\" class=\"node\">\n<title>0</title>\n<polygon fill=\"none\" stroke=\"black\" points=\"197.5,-237 197.5,-258 274.5,-258 274.5,-237 197.5,-237\"/>\n<text text-anchor=\"start\" x=\"200.5\" y=\"-243.8\" font-family=\"Times,serif\" font-size=\"14.00\">Customer</text>\n</g>\n<!-- 1 -->\n<g id=\"node2\" class=\"node\">\n<title>1</title>\n<polygon fill=\"none\" stroke=\"black\" points=\"8.5,-165 8.5,-186 57.5,-186 57.5,-165 8.5,-165\"/>\n<text text-anchor=\"start\" x=\"11.5\" y=\"-171.8\" font-family=\"Times,serif\" font-size=\"14.00\">Name</text>\n</g>\n<!-- 0&#45;&gt;1 -->\n<g id=\"edge1\" class=\"edge\">\n<title>0&#45;&gt;1</title>\n<path fill=\"none\" stroke=\"black\" d=\"M188.74,-232.75C158.42,-223.27 117.93,-210.17 74.65,-194.31\"/>\n<polygon fill=\"black\" stroke=\"black\" points=\"75.68,-190.96 65.08,-190.78 73.25,-197.52 75.68,-190.96\"/>\n</g>\n<!-- 2 -->\n<g id=\"node3\" class=\"node\">\n<title>2</title>\n<polygon fill=\"none\" stroke=\"black\" points=\"91.5,-165 91.5,-186 182.5,-186 182.5,-165 91.5,-165\"/>\n<text text-anchor=\"start\" x=\"94.5\" y=\"-171.8\" font-family=\"Times,serif\" font-size=\"14.00\">Postal Code</text>\n</g>\n<!-- 0&#45;&gt;2 -->\n<g id=\"edge2\" class=\"edge\">\n<title>0&#45;&gt;2</title>\n<path fill=\"none\" stroke=\"black\" d=\"M211.28,-229.88C198.58,-220.89 182.84,-209.76 169.08,-200.03\"/>\n<polygon fill=\"black\" stroke=\"black\" points=\"171,-197.11 160.81,-194.19 166.96,-202.82 171,-197.11\"/>\n</g>\n<!-- 3 -->\n<g id=\"node4\" class=\"node\">\n<title>3</title>\n<polygon fill=\"none\" stroke=\"black\" points=\"217.5,-165 217.5,-186 254.5,-186 254.5,-165 217.5,-165\"/>\n<text text-anchor=\"start\" x=\"220.5\" y=\"-171.8\" font-family=\"Times,serif\" font-size=\"14.00\">City</text>\n</g>\n<!-- 0&#45;&gt;3 -->\n<g id=\"edge3\" class=\"edge\">\n<title>0&#45;&gt;3</title>\n<path fill=\"none\" stroke=\"black\" d=\"M235.5,-229.7C235.5,-221.98 235.5,-212.71 235.5,-204.11\"/>\n<polygon fill=\"black\" stroke=\"black\" points=\"239,-204.1 235.5,-194.1 232,-204.1 239,-204.1\"/>\n</g>\n<!-- 4 -->\n<g id=\"node5\" class=\"node\">\n<title>4</title>\n<polygon fill=\"none\" stroke=\"black\" points=\"289.5,-165 289.5,-186 350.5,-186 350.5,-165 289.5,-165\"/>\n<text text-anchor=\"start\" x=\"292.5\" y=\"-171.8\" font-family=\"Times,serif\" font-size=\"14.00\">State_x</text>\n</g>\n<!-- 0&#45;&gt;4 -->\n<g id=\"edge4\" class=\"edge\">\n<title>0&#45;&gt;4</title>\n<path fill=\"none\" stroke=\"black\" d=\"M256.26,-229.7C266.74,-220.97 279.61,-210.24 291,-200.75\"/>\n<polygon fill=\"black\" stroke=\"black\" points=\"293.53,-203.19 298.97,-194.1 289.05,-197.82 293.53,-203.19\"/>\n</g>\n<!-- 5 -->\n<g id=\"node6\" class=\"node\">\n<title>5</title>\n<polygon fill=\"none\" stroke=\"black\" points=\"384.5,-165 384.5,-186 474.5,-186 474.5,-165 384.5,-165\"/>\n<text text-anchor=\"start\" x=\"387.5\" y=\"-171.8\" font-family=\"Times,serif\" font-size=\"14.00\">Industry ID</text>\n</g>\n<!-- 0&#45;&gt;5 -->\n<g id=\"edge5\" class=\"edge\">\n<title>0&#45;&gt;5</title>\n<path fill=\"none\" stroke=\"black\" d=\"M282.46,-230.05C309.66,-220.24 344.1,-207.82 372.8,-197.46\"/>\n<polygon fill=\"black\" stroke=\"black\" points=\"374.08,-200.72 382.3,-194.03 371.7,-194.13 374.08,-200.72\"/>\n</g>\n<!-- 6 -->\n<g id=\"node7\" class=\"node\">\n<title>6</title>\n<polygon fill=\"none\" stroke=\"black\" points=\"49.5,-86 49.5,-107 168.5,-107 168.5,-86 49.5,-86\"/>\n<text text-anchor=\"start\" x=\"52.5\" y=\"-92.8\" font-family=\"Times,serif\" font-size=\"14.00\">Country/Region</text>\n</g>\n<!-- 1&#45;&gt;6 -->\n<g id=\"edge6\" class=\"edge\">\n<title>1&#45;&gt;6</title>\n<path fill=\"none\" stroke=\"black\" stroke-dasharray=\"5,2\" d=\"M49.37,-157.91C59.7,-147.44 73.09,-133.88 84.51,-122.31\"/>\n<polygon fill=\"black\" stroke=\"black\" points=\"87.15,-124.62 91.68,-115.04 82.16,-119.7 87.15,-124.62\"/>\n</g>\n<!-- 4&#45;&gt;6 -->\n<g id=\"edge8\" class=\"edge\">\n<title>4&#45;&gt;6</title>\n<path fill=\"none\" stroke=\"black\" d=\"M280.8,-160.88C248.36,-149.04 201.62,-131.98 165,-118.62\"/>\n<polygon fill=\"black\" stroke=\"black\" points=\"166.03,-115.27 155.44,-115.13 163.63,-121.85 166.03,-115.27\"/>\n</g>\n<!-- 7 -->\n<g id=\"node8\" class=\"node\">\n<title>7</title>\n<polygon fill=\"none\" stroke=\"black\" points=\"278.5,-97 278.5,-118 360.5,-118 360.5,-97 278.5,-97\"/>\n<text text-anchor=\"start\" x=\"281.5\" y=\"-103.8\" font-family=\"Times,serif\" font-size=\"14.00\">StateCode</text>\n<polygon fill=\"none\" stroke=\"black\" points=\"278.5,-76 278.5,-97 360.5,-97 360.5,-76 278.5,-76\"/>\n<text text-anchor=\"start\" x=\"292\" y=\"-82.8\" font-family=\"Times,serif\" font-size=\"14.00\">State_y</text>\n</g>\n<!-- 4&#45;&gt;7 -->\n<g id=\"edge7\" class=\"edge\">\n<title>4&#45;&gt;7</title>\n<path fill=\"none\" stroke=\"black\" d=\"M319.5,-157.91C319.5,-150.33 319.5,-141.13 319.5,-132.23\"/>\n<polygon fill=\"black\" stroke=\"black\" points=\"323,-132.05 319.5,-122.05 316,-132.05 323,-132.05\"/>\n</g>\n<!-- 8 -->\n<g id=\"node9\" class=\"node\">\n<title>8</title>\n<polygon fill=\"none\" stroke=\"black\" points=\"291.5,-7 291.5,-28 347.5,-28 347.5,-7 291.5,-7\"/>\n<text text-anchor=\"start\" x=\"294.5\" y=\"-13.8\" font-family=\"Times,serif\" font-size=\"14.00\">Region</text>\n</g>\n<!-- 7&#45;&gt;8 -->\n<g id=\"edge9\" class=\"edge\">\n<title>7&#45;&gt;8</title>\n<path fill=\"none\" stroke=\"black\" d=\"M319.5,-71.64C319.5,-63.67 319.5,-54.77 319.5,-46.58\"/>\n<polygon fill=\"black\" stroke=\"black\" points=\"323,-46.38 319.5,-36.38 316,-46.38 323,-46.38\"/>\n</g>\n</g>\n</svg>\n",
						"text/plain": "<graphviz.graphs.Digraph at 0x7fe62db07bb0>"
					},
					"metadata": {}
				}
			],
			"execution_count": 12,
			"metadata": {
				"jupyter": {
					"outputs_hidden": false,
					"source_hidden": false
				},
				"nteract": {
					"transient": {
						"deleting": false
					}
				}
			},
			"id": "a5ea7c31-37f6-482d-be12-85db51e4ad29"
		},
		{
			"cell_type": "markdown",
			"source": [
				"Let's explore: it's bizarre that we didn't detect functional dependencies between  City and postal code. There probably are many violations. Another handy funciton of SemPy, ``plot_dependency_violations``, allows to visualize violations of dependencies between speficied columns:"
			],
			"metadata": {
				"nteract": {
					"transient": {
						"deleting": false
					}
				}
			},
			"id": "73b2e8a6-e395-4371-bae0-c755a25fa118"
		},
		{
			"cell_type": "markdown",
			"source": [
				"## Explore data for quality issues"
			],
			"metadata": {
				"nteract": {
					"transient": {
						"deleting": false
					}
				}
			},
			"id": "53db05aa-a2fa-4643-ad73-4386e5112416"
		},
		{
			"cell_type": "code",
			"source": [
				"customer_state_df.plot_dependency_violations('Postal Code', 'City')"
			],
			"outputs": [
				{
					"output_type": "display_data",
					"data": {
						"application/vnd.livy.statement-meta+json": {
							"spark_pool": null,
							"session_id": "2fda03cc-9670-47e6-b550-331b4ad096c1",
							"statement_id": 22,
							"state": "finished",
							"livy_statement_state": "available",
							"queued_time": "2023-08-30T16:10:17.9829763Z",
							"session_start_time": null,
							"execution_start_time": "2023-08-30T16:10:18.3211217Z",
							"execution_finish_time": "2023-08-30T16:10:18.6573861Z",
							"spark_jobs": {
								"numbers": {
									"UNKNOWN": 0,
									"SUCCEEDED": 0,
									"RUNNING": 0,
									"FAILED": 0
								},
								"jobs": [],
								"limit": 20,
								"rule": "ALL_DESC"
							},
							"parent_msg_id": "ae5f8293-b8e9-4dcc-b7a1-97ffd104b07a"
						},
						"text/plain": "StatementMeta(, 2fda03cc-9670-47e6-b550-331b4ad096c1, 22, Finished, Available)"
					},
					"metadata": {}
				},
				{
					"output_type": "execute_result",
					"execution_count": 40,
					"data": {
						"image/svg+xml": "<?xml version=\"1.0\" encoding=\"UTF-8\" standalone=\"no\"?>\n<!DOCTYPE svg PUBLIC \"-//W3C//DTD SVG 1.1//EN\"\n \"http://www.w3.org/Graphics/SVG/1.1/DTD/svg11.dtd\">\n<!-- Generated by graphviz version 2.50.0 (20220708.1628)\n -->\n<!-- Title: Postal Code&#45;&gt;City Pages: 1 -->\n<svg width=\"358pt\" height=\"2300pt\"\n viewBox=\"0.00 0.00 358.00 2300.00\" xmlns=\"http://www.w3.org/2000/svg\" xmlns:xlink=\"http://www.w3.org/1999/xlink\">\n<g id=\"graph0\" class=\"graph\" transform=\"scale(1 1) rotate(0) translate(4 2296)\">\n<title>Postal Code&#45;&gt;City</title>\n<polygon fill=\"white\" stroke=\"transparent\" points=\"-4,4 -4,-2296 354,-2296 354,4 -4,4\"/>\n<!-- title -->\n<g id=\"node1\" class=\"node\">\n<title>title</title>\n<text text-anchor=\"middle\" x=\"94\" y=\"-6\" font-family=\"Times,serif\" font-size=\"20.00\">Postal Code&#45;&gt;City</text>\n</g>\n<!-- 11111 -->\n<g id=\"node2\" class=\"node\">\n<title>11111</title>\n<polygon fill=\"none\" stroke=\"black\" points=\"125,-1905 63,-1905 63,-1869 125,-1869 125,-1905\"/>\n<text text-anchor=\"middle\" x=\"94\" y=\"-1883.3\" font-family=\"Times,serif\" font-size=\"14.00\">11111</text>\n</g>\n<!-- AAAAAAA -->\n<g id=\"node3\" class=\"node\">\n<title>AAAAAAA</title>\n<polygon fill=\"none\" stroke=\"black\" points=\"327,-1862 237,-1862 237,-1826 327,-1826 327,-1862\"/>\n<text text-anchor=\"middle\" x=\"282\" y=\"-1840.3\" font-family=\"Times,serif\" font-size=\"14.00\">AAAAAAA</text>\n</g>\n<!-- 11111&#45;&#45;AAAAAAA -->\n<g id=\"edge1\" class=\"edge\">\n<title>11111&#45;&#45;AAAAAAA</title>\n<path fill=\"none\" stroke=\"black\" d=\"M125.3,-1880C155.56,-1873 202.41,-1862.17 236.82,-1854.21\"/>\n<text text-anchor=\"middle\" x=\"201\" y=\"-1865.8\" font-family=\"Times,serif\" font-size=\"14.00\">3</text>\n</g>\n<!-- Chicago -->\n<g id=\"node4\" class=\"node\">\n<title>Chicago</title>\n<polygon fill=\"none\" stroke=\"black\" points=\"319.5,-1948 244.5,-1948 244.5,-1912 319.5,-1912 319.5,-1948\"/>\n<text text-anchor=\"middle\" x=\"282\" y=\"-1926.3\" font-family=\"Times,serif\" font-size=\"14.00\">Chicago</text>\n</g>\n<!-- 11111&#45;&#45;Chicago -->\n<g id=\"edge2\" class=\"edge\">\n<title>11111&#45;&#45;Chicago</title>\n<path fill=\"none\" stroke=\"black\" d=\"M125.3,-1894C157.83,-1901.52 209.51,-1913.47 244.32,-1921.52\"/>\n<text text-anchor=\"middle\" x=\"201\" y=\"-1915.8\" font-family=\"Times,serif\" font-size=\"14.00\">1</text>\n</g>\n<!-- Juno Beach -->\n<g id=\"node5\" class=\"node\">\n<title>Juno Beach</title>\n<polygon fill=\"none\" stroke=\"black\" points=\"331,-1905 233,-1905 233,-1869 331,-1869 331,-1905\"/>\n<text text-anchor=\"middle\" x=\"282\" y=\"-1883.3\" font-family=\"Times,serif\" font-size=\"14.00\">Juno Beach</text>\n</g>\n<!-- 11111&#45;&#45;Juno Beach -->\n<g id=\"edge3\" class=\"edge\">\n<title>11111&#45;&#45;Juno Beach</title>\n<path fill=\"none\" stroke=\"black\" d=\"M125.3,-1887C154.43,-1887 198.93,-1887 232.9,-1887\"/>\n<text text-anchor=\"middle\" x=\"201\" y=\"-1890.8\" font-family=\"Times,serif\" font-size=\"14.00\">1</text>\n</g>\n<!-- 73102 -->\n<g id=\"node6\" class=\"node\">\n<title>73102</title>\n<polygon fill=\"none\" stroke=\"black\" points=\"125,-2012 63,-2012 63,-1976 125,-1976 125,-2012\"/>\n<text text-anchor=\"middle\" x=\"94\" y=\"-1990.3\" font-family=\"Times,serif\" font-size=\"14.00\">73102</text>\n</g>\n<!-- Oklahoma City -->\n<g id=\"node7\" class=\"node\">\n<title>Oklahoma City</title>\n<polygon fill=\"none\" stroke=\"black\" points=\"344,-2034 220,-2034 220,-1998 344,-1998 344,-2034\"/>\n<text text-anchor=\"middle\" x=\"282\" y=\"-2012.3\" font-family=\"Times,serif\" font-size=\"14.00\">Oklahoma City</text>\n</g>\n<!-- 73102&#45;&#45;Oklahoma City -->\n<g id=\"edge4\" class=\"edge\">\n<title>73102&#45;&#45;Oklahoma City</title>\n<path fill=\"none\" stroke=\"black\" d=\"M125.3,-1997.58C150.83,-2000.6 188.16,-2005.02 219.86,-2008.77\"/>\n<text text-anchor=\"middle\" x=\"201\" y=\"-2009.8\" font-family=\"Times,serif\" font-size=\"14.00\">2</text>\n</g>\n<!-- OKC -->\n<g id=\"node8\" class=\"node\">\n<title>OKC</title>\n<polygon fill=\"none\" stroke=\"black\" points=\"309,-1991 255,-1991 255,-1955 309,-1955 309,-1991\"/>\n<text text-anchor=\"middle\" x=\"282\" y=\"-1969.3\" font-family=\"Times,serif\" font-size=\"14.00\">OKC</text>\n</g>\n<!-- 73102&#45;&#45;OKC -->\n<g id=\"edge5\" class=\"edge\">\n<title>73102&#45;&#45;OKC</title>\n<path fill=\"none\" stroke=\"black\" d=\"M125.3,-1990.58C161.33,-1986.51 220.86,-1979.79 254.92,-1975.94\"/>\n<text text-anchor=\"middle\" x=\"201\" y=\"-1985.8\" font-family=\"Times,serif\" font-size=\"14.00\">1</text>\n</g>\n<!-- 10018 -->\n<g id=\"node9\" class=\"node\">\n<title>10018</title>\n<polygon fill=\"none\" stroke=\"black\" points=\"125,-121 63,-121 63,-85 125,-85 125,-121\"/>\n<text text-anchor=\"middle\" x=\"94\" y=\"-99.3\" font-family=\"Times,serif\" font-size=\"14.00\">10018</text>\n</g>\n<!-- New York -->\n<g id=\"node10\" class=\"node\">\n<title>New York</title>\n<polygon fill=\"none\" stroke=\"black\" points=\"325,-185 239,-185 239,-149 325,-149 325,-185\"/>\n<text text-anchor=\"middle\" x=\"282\" y=\"-163.3\" font-family=\"Times,serif\" font-size=\"14.00\">New York</text>\n</g>\n<!-- 10018&#45;&#45;New York -->\n<g id=\"edge6\" class=\"edge\">\n<title>10018&#45;&#45;New York</title>\n<path fill=\"none\" stroke=\"black\" d=\"M125.35,-99.93C149.88,-99.15 183.84,-102.15 206,-121 214.56,-128.29 206.03,-137.07 214,-145 220.77,-151.74 229.63,-156.41 238.69,-159.65\"/>\n<text text-anchor=\"middle\" x=\"201\" y=\"-124.8\" font-family=\"Times,serif\" font-size=\"14.00\">1</text>\n</g>\n<!-- New York City -->\n<g id=\"node11\" class=\"node\">\n<title>New York City</title>\n<polygon fill=\"none\" stroke=\"black\" points=\"342.5,-99 221.5,-99 221.5,-63 342.5,-63 342.5,-99\"/>\n<text text-anchor=\"middle\" x=\"282\" y=\"-77.3\" font-family=\"Times,serif\" font-size=\"14.00\">New York City</text>\n</g>\n<!-- 10018&#45;&#45;New York City -->\n<g id=\"edge7\" class=\"edge\">\n<title>10018&#45;&#45;New York City</title>\n<path fill=\"none\" stroke=\"black\" d=\"M125.3,-99.42C151.24,-96.35 189.36,-91.84 221.39,-88.05\"/>\n<text text-anchor=\"middle\" x=\"201\" y=\"-94.8\" font-family=\"Times,serif\" font-size=\"14.00\">1</text>\n</g>\n<!-- 20004 -->\n<g id=\"node12\" class=\"node\">\n<title>20004</title>\n<polygon fill=\"none\" stroke=\"black\" points=\"125,-2098 63,-2098 63,-2062 125,-2062 125,-2098\"/>\n<text text-anchor=\"middle\" x=\"94\" y=\"-2076.3\" font-family=\"Times,serif\" font-size=\"14.00\">20004</text>\n</g>\n<!-- North Tower -->\n<g id=\"node13\" class=\"node\">\n<title>North Tower</title>\n<polygon fill=\"none\" stroke=\"black\" points=\"336,-2120 228,-2120 228,-2084 336,-2084 336,-2120\"/>\n<text text-anchor=\"middle\" x=\"282\" y=\"-2098.3\" font-family=\"Times,serif\" font-size=\"14.00\">North Tower</text>\n</g>\n<!-- 20004&#45;&#45;North Tower -->\n<g id=\"edge8\" class=\"edge\">\n<title>20004&#45;&#45;North Tower</title>\n<path fill=\"none\" stroke=\"black\" d=\"M125.3,-2083.58C152.99,-2086.86 194.56,-2091.78 227.79,-2095.71\"/>\n<text text-anchor=\"middle\" x=\"201\" y=\"-2095.8\" font-family=\"Times,serif\" font-size=\"14.00\">1</text>\n</g>\n<!-- Washington -->\n<g id=\"node14\" class=\"node\">\n<title>Washington</title>\n<polygon fill=\"none\" stroke=\"black\" points=\"332.5,-2077 231.5,-2077 231.5,-2041 332.5,-2041 332.5,-2077\"/>\n<text text-anchor=\"middle\" x=\"282\" y=\"-2055.3\" font-family=\"Times,serif\" font-size=\"14.00\">Washington</text>\n</g>\n<!-- 20004&#45;&#45;Washington -->\n<g id=\"edge9\" class=\"edge\">\n<title>20004&#45;&#45;Washington</title>\n<path fill=\"none\" stroke=\"black\" d=\"M125.3,-2076.58C154.02,-2073.34 197.67,-2068.41 231.46,-2064.59\"/>\n<text text-anchor=\"middle\" x=\"201\" y=\"-2071.8\" font-family=\"Times,serif\" font-size=\"14.00\">1</text>\n</g>\n<!-- 22310 -->\n<g id=\"node15\" class=\"node\">\n<title>22310</title>\n<polygon fill=\"none\" stroke=\"black\" points=\"125,-2184 63,-2184 63,-2148 125,-2148 125,-2184\"/>\n<text text-anchor=\"middle\" x=\"94\" y=\"-2162.3\" font-family=\"Times,serif\" font-size=\"14.00\">22310</text>\n</g>\n<!-- Alexandria -->\n<g id=\"node16\" class=\"node\">\n<title>Alexandria</title>\n<polygon fill=\"none\" stroke=\"black\" points=\"329,-2206 235,-2206 235,-2170 329,-2170 329,-2206\"/>\n<text text-anchor=\"middle\" x=\"282\" y=\"-2184.3\" font-family=\"Times,serif\" font-size=\"14.00\">Alexandria</text>\n</g>\n<!-- 22310&#45;&#45;Alexandria -->\n<g id=\"edge10\" class=\"edge\">\n<title>22310&#45;&#45;Alexandria</title>\n<path fill=\"none\" stroke=\"black\" d=\"M125.3,-2169.58C154.94,-2173.09 200.5,-2178.48 234.69,-2182.52\"/>\n<text text-anchor=\"middle\" x=\"201\" y=\"-2181.8\" font-family=\"Times,serif\" font-size=\"14.00\">1</text>\n</g>\n<!-- Alkexandria -->\n<g id=\"node17\" class=\"node\">\n<title>Alkexandria</title>\n<polygon fill=\"none\" stroke=\"black\" points=\"333.5,-2163 230.5,-2163 230.5,-2127 333.5,-2127 333.5,-2163\"/>\n<text text-anchor=\"middle\" x=\"282\" y=\"-2141.3\" font-family=\"Times,serif\" font-size=\"14.00\">Alkexandria</text>\n</g>\n<!-- 22310&#45;&#45;Alkexandria -->\n<g id=\"edge11\" class=\"edge\">\n<title>22310&#45;&#45;Alkexandria</title>\n<path fill=\"none\" stroke=\"black\" d=\"M125.3,-2162.58C153.71,-2159.37 196.74,-2154.51 230.36,-2150.72\"/>\n<text text-anchor=\"middle\" x=\"201\" y=\"-2157.8\" font-family=\"Times,serif\" font-size=\"14.00\">1</text>\n</g>\n<!-- 49017 -->\n<g id=\"node18\" class=\"node\">\n<title>49017</title>\n<polygon fill=\"none\" stroke=\"black\" points=\"125,-2270 63,-2270 63,-2234 125,-2234 125,-2270\"/>\n<text text-anchor=\"middle\" x=\"94\" y=\"-2248.3\" font-family=\"Times,serif\" font-size=\"14.00\">49017</text>\n</g>\n<!-- Battle Creek -->\n<g id=\"node19\" class=\"node\">\n<title>Battle Creek</title>\n<polygon fill=\"none\" stroke=\"black\" points=\"336,-2292 228,-2292 228,-2256 336,-2256 336,-2292\"/>\n<text text-anchor=\"middle\" x=\"282\" y=\"-2270.3\" font-family=\"Times,serif\" font-size=\"14.00\">Battle Creek</text>\n</g>\n<!-- 49017&#45;&#45;Battle Creek -->\n<g id=\"edge12\" class=\"edge\">\n<title>49017&#45;&#45;Battle Creek</title>\n<path fill=\"none\" stroke=\"black\" d=\"M125.3,-2255.58C152.99,-2258.86 194.56,-2263.78 227.79,-2267.71\"/>\n<text text-anchor=\"middle\" x=\"201\" y=\"-2267.8\" font-family=\"Times,serif\" font-size=\"14.00\">1</text>\n</g>\n<!-- Battlecreek -->\n<g id=\"node20\" class=\"node\">\n<title>Battlecreek</title>\n<polygon fill=\"none\" stroke=\"black\" points=\"332.5,-2249 231.5,-2249 231.5,-2213 332.5,-2213 332.5,-2249\"/>\n<text text-anchor=\"middle\" x=\"282\" y=\"-2227.3\" font-family=\"Times,serif\" font-size=\"14.00\">Battlecreek</text>\n</g>\n<!-- 49017&#45;&#45;Battlecreek -->\n<g id=\"edge13\" class=\"edge\">\n<title>49017&#45;&#45;Battlecreek</title>\n<path fill=\"none\" stroke=\"black\" d=\"M125.3,-2248.58C154.02,-2245.34 197.67,-2240.41 231.46,-2236.59\"/>\n<text text-anchor=\"middle\" x=\"201\" y=\"-2243.8\" font-family=\"Times,serif\" font-size=\"14.00\">1</text>\n</g>\n<!-- 63146 -->\n<g id=\"node21\" class=\"node\">\n<title>63146</title>\n<polygon fill=\"none\" stroke=\"black\" points=\"125,-65 63,-65 63,-29 125,-29 125,-65\"/>\n<text text-anchor=\"middle\" x=\"94\" y=\"-43.3\" font-family=\"Times,serif\" font-size=\"14.00\">63146</text>\n</g>\n<!-- St Louis -->\n<g id=\"node22\" class=\"node\">\n<title>St Louis</title>\n<polygon fill=\"none\" stroke=\"black\" points=\"320,-51 244,-51 244,-15 320,-15 320,-51\"/>\n<text text-anchor=\"middle\" x=\"282\" y=\"-29.3\" font-family=\"Times,serif\" font-size=\"14.00\">St Louis</text>\n</g>\n<!-- 63146&#45;&#45;St Louis -->\n<g id=\"edge14\" class=\"edge\">\n<title>63146&#45;&#45;St Louis</title>\n<path fill=\"none\" stroke=\"black\" d=\"M125.02,-43.62C145.09,-41.46 172.1,-38.74 196,-37 211.62,-35.86 228.88,-34.98 243.74,-34.34\"/>\n<text text-anchor=\"middle\" x=\"201\" y=\"-40.8\" font-family=\"Times,serif\" font-size=\"14.00\">1</text>\n</g>\n<!-- St. Louis -->\n<g id=\"node23\" class=\"node\">\n<title>St. Louis</title>\n<polygon fill=\"none\" stroke=\"black\" points=\"322,-142 242,-142 242,-106 322,-106 322,-142\"/>\n<text text-anchor=\"middle\" x=\"282\" y=\"-120.3\" font-family=\"Times,serif\" font-size=\"14.00\">St. Louis</text>\n</g>\n<!-- 63146&#45;&#45;St. Louis -->\n<g id=\"edge15\" class=\"edge\">\n<title>63146&#45;&#45;St. Louis</title>\n<path fill=\"none\" stroke=\"black\" d=\"M125.27,-46.81C150.08,-48.29 184.49,-54.36 206,-75 215.03,-83.67 205.28,-93.02 214,-102 221.42,-109.64 231.54,-114.63 241.66,-117.89\"/>\n<text text-anchor=\"middle\" x=\"201\" y=\"-78.8\" font-family=\"Times,serif\" font-size=\"14.00\">1</text>\n</g>\n<!-- NA -->\n<g id=\"node24\" class=\"node\">\n<title>NA</title>\n<polygon fill=\"none\" stroke=\"black\" points=\"121,-1002 67,-1002 67,-966 121,-966 121,-1002\"/>\n<text text-anchor=\"middle\" x=\"94\" y=\"-980.3\" font-family=\"Times,serif\" font-size=\"14.00\">NA</text>\n</g>\n<!-- NA&#45;&#45;AAAAAAA -->\n<g id=\"edge21\" class=\"edge\">\n<title>NA&#45;&#45;AAAAAAA</title>\n<path fill=\"none\" stroke=\"black\" d=\"M95.05,-1002.25C95.73,-1090.69 104.05,-1482.83 196,-1786 201.19,-1803.12 200.46,-1810.31 214,-1822 220.58,-1827.68 228.66,-1831.9 236.91,-1835.04\"/>\n<text text-anchor=\"middle\" x=\"201\" y=\"-1816.8\" font-family=\"Times,serif\" font-size=\"14.00\">1</text>\n</g>\n<!-- NA&#45;&#45;New York -->\n<g id=\"edge40\" class=\"edge\">\n<title>NA&#45;&#45;New York</title>\n<path fill=\"none\" stroke=\"black\" d=\"M95.22,-965.88C96.71,-880.56 108.19,-510.92 196,-225 201.25,-207.9 200.46,-200.69 214,-189 221.04,-182.92 229.81,-178.51 238.65,-175.32\"/>\n<text text-anchor=\"middle\" x=\"201\" y=\"-228.8\" font-family=\"Times,serif\" font-size=\"14.00\">1</text>\n</g>\n<!-- NA&#45;&#45;St. Louis -->\n<g id=\"edge51\" class=\"edge\">\n<title>NA&#45;&#45;St. Louis</title>\n<path fill=\"none\" stroke=\"black\" d=\"M95.05,-965.75C95.73,-877.31 104.05,-485.17 196,-182 201.19,-164.88 200.46,-157.69 214,-146 221.88,-139.2 231.91,-134.49 241.8,-131.23\"/>\n<text text-anchor=\"middle\" x=\"201\" y=\"-185.8\" font-family=\"Times,serif\" font-size=\"14.00\">1</text>\n</g>\n<!-- DALLAS -->\n<g id=\"node25\" class=\"node\">\n<title>DALLAS</title>\n<polygon fill=\"none\" stroke=\"black\" points=\"321,-1088 243,-1088 243,-1052 321,-1052 321,-1088\"/>\n<text text-anchor=\"middle\" x=\"282\" y=\"-1066.3\" font-family=\"Times,serif\" font-size=\"14.00\">DALLAS</text>\n</g>\n<!-- NA&#45;&#45;DALLAS -->\n<g id=\"edge16\" class=\"edge\">\n<title>NA&#45;&#45;DALLAS</title>\n<path fill=\"none\" stroke=\"black\" d=\"M121.27,-999.87C144.95,-1013.75 181.02,-1033.85 214,-1048 223.11,-1051.91 233.17,-1055.55 242.65,-1058.7\"/>\n<text text-anchor=\"middle\" x=\"201\" y=\"-1046.8\" font-family=\"Times,serif\" font-size=\"14.00\">3</text>\n</g>\n<!-- Irving -->\n<g id=\"node26\" class=\"node\">\n<title>Irving</title>\n<polygon fill=\"none\" stroke=\"black\" points=\"312,-1045 252,-1045 252,-1009 312,-1009 312,-1045\"/>\n<text text-anchor=\"middle\" x=\"282\" y=\"-1023.3\" font-family=\"Times,serif\" font-size=\"14.00\">Irving</text>\n</g>\n<!-- NA&#45;&#45;Irving -->\n<g id=\"edge17\" class=\"edge\">\n<title>NA&#45;&#45;Irving</title>\n<path fill=\"none\" stroke=\"black\" d=\"M121.25,-990.07C155.7,-998.03 215.97,-1011.97 251.82,-1020.25\"/>\n<text text-anchor=\"middle\" x=\"201\" y=\"-1012.8\" font-family=\"Times,serif\" font-size=\"14.00\">3</text>\n</g>\n<!-- Toronto -->\n<g id=\"node27\" class=\"node\">\n<title>Toronto</title>\n<polygon fill=\"none\" stroke=\"black\" points=\"318,-1002 246,-1002 246,-966 318,-966 318,-1002\"/>\n<text text-anchor=\"middle\" x=\"282\" y=\"-980.3\" font-family=\"Times,serif\" font-size=\"14.00\">Toronto</text>\n</g>\n<!-- NA&#45;&#45;Toronto -->\n<g id=\"edge18\" class=\"edge\">\n<title>NA&#45;&#45;Toronto</title>\n<path fill=\"none\" stroke=\"black\" d=\"M121.25,-984C153.9,-984 209.74,-984 246,-984\"/>\n<text text-anchor=\"middle\" x=\"201\" y=\"-987.8\" font-family=\"Times,serif\" font-size=\"14.00\">3</text>\n</g>\n<!-- Winnipeg -->\n<g id=\"node28\" class=\"node\">\n<title>Winnipeg</title>\n<polygon fill=\"none\" stroke=\"black\" points=\"324.5,-959 239.5,-959 239.5,-923 324.5,-923 324.5,-959\"/>\n<text text-anchor=\"middle\" x=\"282\" y=\"-937.3\" font-family=\"Times,serif\" font-size=\"14.00\">Winnipeg</text>\n</g>\n<!-- NA&#45;&#45;Winnipeg -->\n<g id=\"edge19\" class=\"edge\">\n<title>NA&#45;&#45;Winnipeg</title>\n<path fill=\"none\" stroke=\"black\" d=\"M121.25,-977.93C152,-970.82 203.31,-958.96 239.47,-950.6\"/>\n<text text-anchor=\"middle\" x=\"201\" y=\"-962.8\" font-family=\"Times,serif\" font-size=\"14.00\">3</text>\n</g>\n<!-- California -->\n<g id=\"node29\" class=\"node\">\n<title>California</title>\n<polygon fill=\"none\" stroke=\"black\" points=\"325.5,-916 238.5,-916 238.5,-880 325.5,-880 325.5,-916\"/>\n<text text-anchor=\"middle\" x=\"282\" y=\"-894.3\" font-family=\"Times,serif\" font-size=\"14.00\">California</text>\n</g>\n<!-- NA&#45;&#45;California -->\n<g id=\"edge20\" class=\"edge\">\n<title>NA&#45;&#45;California</title>\n<path fill=\"none\" stroke=\"black\" d=\"M121.27,-968.13C144.95,-954.25 181.02,-934.15 214,-920 221.76,-916.67 230.21,-913.53 238.41,-910.73\"/>\n<text text-anchor=\"middle\" x=\"201\" y=\"-930.8\" font-family=\"Times,serif\" font-size=\"14.00\">2</text>\n</g>\n<!-- Akron -->\n<g id=\"node30\" class=\"node\">\n<title>Akron</title>\n<polygon fill=\"none\" stroke=\"black\" points=\"312,-873 252,-873 252,-837 312,-837 312,-873\"/>\n<text text-anchor=\"middle\" x=\"282\" y=\"-851.3\" font-family=\"Times,serif\" font-size=\"14.00\">Akron</text>\n</g>\n<!-- NA&#45;&#45;Akron -->\n<g id=\"edge22\" class=\"edge\">\n<title>NA&#45;&#45;Akron</title>\n<path fill=\"none\" stroke=\"black\" d=\"M110.56,-965.96C131.76,-942.42 171.92,-901.36 214,-877 225.65,-870.25 239.66,-865.24 251.85,-861.72\"/>\n<text text-anchor=\"middle\" x=\"201\" y=\"-889.8\" font-family=\"Times,serif\" font-size=\"14.00\">1</text>\n</g>\n<!-- Atlanta -->\n<g id=\"node31\" class=\"node\">\n<title>Atlanta</title>\n<polygon fill=\"none\" stroke=\"black\" points=\"316.5,-830 247.5,-830 247.5,-794 316.5,-794 316.5,-830\"/>\n<text text-anchor=\"middle\" x=\"282\" y=\"-808.3\" font-family=\"Times,serif\" font-size=\"14.00\">Atlanta</text>\n</g>\n<!-- NA&#45;&#45;Atlanta -->\n<g id=\"edge23\" class=\"edge\">\n<title>NA&#45;&#45;Atlanta</title>\n<path fill=\"none\" stroke=\"black\" d=\"M104.6,-965.94C122.16,-934.56 162.46,-869.92 214,-834 223.84,-827.14 235.97,-822.31 247.19,-818.96\"/>\n<text text-anchor=\"middle\" x=\"201\" y=\"-849.8\" font-family=\"Times,serif\" font-size=\"14.00\">1</text>\n</g>\n<!-- Chandler -->\n<g id=\"node32\" class=\"node\">\n<title>Chandler</title>\n<polygon fill=\"none\" stroke=\"black\" points=\"323.5,-787 240.5,-787 240.5,-751 323.5,-751 323.5,-787\"/>\n<text text-anchor=\"middle\" x=\"282\" y=\"-765.3\" font-family=\"Times,serif\" font-size=\"14.00\">Chandler</text>\n</g>\n<!-- NA&#45;&#45;Chandler -->\n<g id=\"edge24\" class=\"edge\">\n<title>NA&#45;&#45;Chandler</title>\n<path fill=\"none\" stroke=\"black\" d=\"M101.24,-965.91C115.27,-927.87 152.95,-839.14 214,-791 221.69,-784.93 231.12,-780.51 240.44,-777.3\"/>\n<text text-anchor=\"middle\" x=\"201\" y=\"-805.8\" font-family=\"Times,serif\" font-size=\"14.00\">1</text>\n</g>\n<!-- Cincinnati -->\n<g id=\"node33\" class=\"node\">\n<title>Cincinnati</title>\n<polygon fill=\"none\" stroke=\"black\" points=\"327.5,-744 236.5,-744 236.5,-708 327.5,-708 327.5,-744\"/>\n<text text-anchor=\"middle\" x=\"282\" y=\"-722.3\" font-family=\"Times,serif\" font-size=\"14.00\">Cincinnati</text>\n</g>\n<!-- NA&#45;&#45;Cincinnati -->\n<g id=\"edge25\" class=\"edge\">\n<title>NA&#45;&#45;Cincinnati</title>\n<path fill=\"none\" stroke=\"black\" d=\"M98.95,-965.89C109.52,-921.82 142.62,-808.2 214,-748 220.46,-742.55 228.3,-738.45 236.32,-735.35\"/>\n<text text-anchor=\"middle\" x=\"201\" y=\"-766.8\" font-family=\"Times,serif\" font-size=\"14.00\">1</text>\n</g>\n<!-- Columbus -->\n<g id=\"node34\" class=\"node\">\n<title>Columbus</title>\n<polygon fill=\"none\" stroke=\"black\" points=\"326.5,-701 237.5,-701 237.5,-665 326.5,-665 326.5,-701\"/>\n<text text-anchor=\"middle\" x=\"282\" y=\"-679.3\" font-family=\"Times,serif\" font-size=\"14.00\">Columbus</text>\n</g>\n<!-- NA&#45;&#45;Columbus -->\n<g id=\"edge26\" class=\"edge\">\n<title>NA&#45;&#45;Columbus</title>\n<path fill=\"none\" stroke=\"black\" d=\"M97.28,-965.85C104.5,-916.19 131.48,-777.03 214,-705 220.64,-699.2 228.85,-694.93 237.21,-691.77\"/>\n<text text-anchor=\"middle\" x=\"201\" y=\"-725.8\" font-family=\"Times,serif\" font-size=\"14.00\">1</text>\n</g>\n<!-- Denver -->\n<g id=\"node35\" class=\"node\">\n<title>Denver</title>\n<polygon fill=\"none\" stroke=\"black\" points=\"316,-658 248,-658 248,-622 316,-622 316,-658\"/>\n<text text-anchor=\"middle\" x=\"282\" y=\"-636.3\" font-family=\"Times,serif\" font-size=\"14.00\">Denver</text>\n</g>\n<!-- NA&#45;&#45;Denver -->\n<g id=\"edge27\" class=\"edge\">\n<title>NA&#45;&#45;Denver</title>\n<path fill=\"none\" stroke=\"black\" d=\"M96.01,-965.8C100.06,-910.94 119.89,-745.85 214,-662 223.42,-653.61 236.1,-648.41 247.9,-645.19\"/>\n<text text-anchor=\"middle\" x=\"201\" y=\"-678.8\" font-family=\"Times,serif\" font-size=\"14.00\">1</text>\n</g>\n<!-- Detroit -->\n<g id=\"node36\" class=\"node\">\n<title>Detroit</title>\n<polygon fill=\"none\" stroke=\"black\" points=\"316,-615 248,-615 248,-579 316,-579 316,-615\"/>\n<text text-anchor=\"middle\" x=\"282\" y=\"-593.3\" font-family=\"Times,serif\" font-size=\"14.00\">Detroit</text>\n</g>\n<!-- NA&#45;&#45;Detroit -->\n<g id=\"edge28\" class=\"edge\">\n<title>NA&#45;&#45;Detroit</title>\n<path fill=\"none\" stroke=\"black\" d=\"M99.83,-965.77C113.19,-915.96 152.57,-773.65 196,-659 202.91,-640.77 199.51,-632.04 214,-619 223.37,-610.57 236.05,-605.36 247.86,-602.14\"/>\n<text text-anchor=\"middle\" x=\"201\" y=\"-662.8\" font-family=\"Times,serif\" font-size=\"14.00\">1</text>\n</g>\n<!-- Ellicott City -->\n<g id=\"node37\" class=\"node\">\n<title>Ellicott City</title>\n<polygon fill=\"none\" stroke=\"black\" points=\"334,-572 230,-572 230,-536 334,-536 334,-572\"/>\n<text text-anchor=\"middle\" x=\"282\" y=\"-550.3\" font-family=\"Times,serif\" font-size=\"14.00\">Ellicott City</text>\n</g>\n<!-- NA&#45;&#45;Ellicott City -->\n<g id=\"edge29\" class=\"edge\">\n<title>NA&#45;&#45;Ellicott City</title>\n<path fill=\"none\" stroke=\"black\" d=\"M98.67,-965.86C109.98,-911.39 146.48,-744.86 196,-613 202.43,-595.88 200.22,-588.03 214,-576 218.7,-571.89 224.19,-568.55 229.97,-565.83\"/>\n<text text-anchor=\"middle\" x=\"201\" y=\"-616.8\" font-family=\"Times,serif\" font-size=\"14.00\">1</text>\n</g>\n<!-- Fort Worth -->\n<g id=\"node38\" class=\"node\">\n<title>Fort Worth</title>\n<polygon fill=\"none\" stroke=\"black\" points=\"329.5,-529 234.5,-529 234.5,-493 329.5,-493 329.5,-529\"/>\n<text text-anchor=\"middle\" x=\"282\" y=\"-507.3\" font-family=\"Times,serif\" font-size=\"14.00\">Fort Worth</text>\n</g>\n<!-- NA&#45;&#45;Fort Worth -->\n<g id=\"edge30\" class=\"edge\">\n<title>NA&#45;&#45;Fort Worth</title>\n<path fill=\"none\" stroke=\"black\" d=\"M98,-965.84C107.96,-907.29 142.43,-718.59 196,-570 202.2,-552.8 200.22,-545.03 214,-533 219.9,-527.85 227.04,-523.9 234.43,-520.87\"/>\n<text text-anchor=\"middle\" x=\"201\" y=\"-573.8\" font-family=\"Times,serif\" font-size=\"14.00\">1</text>\n</g>\n<!-- Gastonia -->\n<g id=\"node39\" class=\"node\">\n<title>Gastonia</title>\n<polygon fill=\"none\" stroke=\"black\" points=\"322,-486 242,-486 242,-450 322,-450 322,-486\"/>\n<text text-anchor=\"middle\" x=\"282\" y=\"-464.3\" font-family=\"Times,serif\" font-size=\"14.00\">Gastonia</text>\n</g>\n<!-- NA&#45;&#45;Gastonia -->\n<g id=\"edge31\" class=\"edge\">\n<title>NA&#45;&#45;Gastonia</title>\n<path fill=\"none\" stroke=\"black\" d=\"M97.46,-965.72C106.21,-903.16 138.41,-692.36 196,-527 202.01,-509.73 200.22,-502.03 214,-490 221.84,-483.16 231.86,-478.43 241.75,-475.17\"/>\n<text text-anchor=\"middle\" x=\"201\" y=\"-530.8\" font-family=\"Times,serif\" font-size=\"14.00\">1</text>\n</g>\n<!-- Great Valley -->\n<g id=\"node40\" class=\"node\">\n<title>Great Valley</title>\n<polygon fill=\"none\" stroke=\"black\" points=\"334,-443 230,-443 230,-407 334,-407 334,-443\"/>\n<text text-anchor=\"middle\" x=\"282\" y=\"-421.3\" font-family=\"Times,serif\" font-size=\"14.00\">Great Valley</text>\n</g>\n<!-- NA&#45;&#45;Great Valley -->\n<g id=\"edge32\" class=\"edge\">\n<title>NA&#45;&#45;Great Valley</title>\n<path fill=\"none\" stroke=\"black\" d=\"M96.98,-965.86C104.54,-899.8 134.3,-666.47 196,-484 201.86,-466.68 200.22,-459.03 214,-447 218.7,-442.89 224.19,-439.55 229.97,-436.83\"/>\n<text text-anchor=\"middle\" x=\"201\" y=\"-487.8\" font-family=\"Times,serif\" font-size=\"14.00\">1</text>\n</g>\n<!-- Harrisburg -->\n<g id=\"node41\" class=\"node\">\n<title>Harrisburg</title>\n<polygon fill=\"none\" stroke=\"black\" points=\"330.5,-400 233.5,-400 233.5,-364 330.5,-364 330.5,-400\"/>\n<text text-anchor=\"middle\" x=\"282\" y=\"-378.3\" font-family=\"Times,serif\" font-size=\"14.00\">Harrisburg</text>\n</g>\n<!-- NA&#45;&#45;Harrisburg -->\n<g id=\"edge33\" class=\"edge\">\n<title>NA&#45;&#45;Harrisburg</title>\n<path fill=\"none\" stroke=\"black\" d=\"M96.53,-965.69C102.75,-895.77 129.1,-639.45 196,-440 201.69,-423.04 200.46,-415.69 214,-404 219.65,-399.12 226.42,-395.32 233.44,-392.35\"/>\n<text text-anchor=\"middle\" x=\"201\" y=\"-443.8\" font-family=\"Times,serif\" font-size=\"14.00\">1</text>\n</g>\n<!-- Lewisville -->\n<g id=\"node42\" class=\"node\">\n<title>Lewisville</title>\n<polygon fill=\"none\" stroke=\"black\" points=\"326.5,-357 237.5,-357 237.5,-321 326.5,-321 326.5,-357\"/>\n<text text-anchor=\"middle\" x=\"282\" y=\"-335.3\" font-family=\"Times,serif\" font-size=\"14.00\">Lewisville</text>\n</g>\n<!-- NA&#45;&#45;Lewisville -->\n<g id=\"edge34\" class=\"edge\">\n<title>NA&#45;&#45;Lewisville</title>\n<path fill=\"none\" stroke=\"black\" d=\"M96.26,-965.82C101.71,-892.84 126.18,-614.66 196,-398 201.61,-380.59 200.22,-373.03 214,-361 220.64,-355.2 228.85,-350.93 237.21,-347.77\"/>\n<text text-anchor=\"middle\" x=\"201\" y=\"-401.8\" font-family=\"Times,serif\" font-size=\"14.00\">1</text>\n</g>\n<!-- Los Angeles -->\n<g id=\"node43\" class=\"node\">\n<title>Los Angeles</title>\n<polygon fill=\"none\" stroke=\"black\" points=\"334,-314 230,-314 230,-278 334,-278 334,-314\"/>\n<text text-anchor=\"middle\" x=\"282\" y=\"-292.3\" font-family=\"Times,serif\" font-size=\"14.00\">Los Angeles</text>\n</g>\n<!-- NA&#45;&#45;Los Angeles -->\n<g id=\"edge35\" class=\"edge\">\n<title>NA&#45;&#45;Los Angeles</title>\n<path fill=\"none\" stroke=\"black\" d=\"M95.9,-965.74C100.09,-889.27 120.76,-587.83 196,-354 201.48,-336.97 200.46,-329.69 214,-318 218.63,-314 224.01,-310.72 229.67,-308.04\"/>\n<text text-anchor=\"middle\" x=\"201\" y=\"-357.8\" font-family=\"Times,serif\" font-size=\"14.00\">1</text>\n</g>\n<!-- Lynchburgh -->\n<g id=\"node44\" class=\"node\">\n<title>Lynchburgh</title>\n<polygon fill=\"none\" stroke=\"black\" points=\"334,-271 230,-271 230,-235 334,-235 334,-271\"/>\n<text text-anchor=\"middle\" x=\"282\" y=\"-249.3\" font-family=\"Times,serif\" font-size=\"14.00\">Lynchburgh</text>\n</g>\n<!-- NA&#45;&#45;Lynchburgh -->\n<g id=\"edge36\" class=\"edge\">\n<title>NA&#45;&#45;Lynchburgh</title>\n<path fill=\"none\" stroke=\"black\" d=\"M95.71,-965.9C99.25,-886.69 118.01,-563.26 196,-312 201.42,-294.53 200.22,-287.03 214,-275 218.7,-270.89 224.19,-267.55 229.97,-264.83\"/>\n<text text-anchor=\"middle\" x=\"201\" y=\"-315.8\" font-family=\"Times,serif\" font-size=\"14.00\">1</text>\n</g>\n<!-- Markham -->\n<g id=\"node45\" class=\"node\">\n<title>Markham</title>\n<polygon fill=\"none\" stroke=\"black\" points=\"325,-228 239,-228 239,-192 325,-192 325,-228\"/>\n<text text-anchor=\"middle\" x=\"282\" y=\"-206.3\" font-family=\"Times,serif\" font-size=\"14.00\">Markham</text>\n</g>\n<!-- NA&#45;&#45;Markham -->\n<g id=\"edge37\" class=\"edge\">\n<title>NA&#45;&#45;Markham</title>\n<path fill=\"none\" stroke=\"black\" d=\"M95.42,-965.82C97.77,-883.31 112.39,-536.48 196,-268 201.32,-250.92 200.46,-243.69 214,-232 221.04,-225.92 229.81,-221.51 238.65,-218.32\"/>\n<text text-anchor=\"middle\" x=\"201\" y=\"-271.8\" font-family=\"Times,serif\" font-size=\"14.00\">1</text>\n</g>\n<!-- Minneapolis -->\n<g id=\"node46\" class=\"node\">\n<title>Minneapolis</title>\n<polygon fill=\"none\" stroke=\"black\" points=\"334,-1819 230,-1819 230,-1783 334,-1783 334,-1819\"/>\n<text text-anchor=\"middle\" x=\"282\" y=\"-1797.3\" font-family=\"Times,serif\" font-size=\"14.00\">Minneapolis</text>\n</g>\n<!-- NA&#45;&#45;Minneapolis -->\n<g id=\"edge38\" class=\"edge\">\n<title>NA&#45;&#45;Minneapolis</title>\n<path fill=\"none\" stroke=\"black\" d=\"M95.22,-1002.12C96.71,-1087.44 108.19,-1457.08 196,-1743 201.25,-1760.1 200.46,-1767.31 214,-1779 218.63,-1783 224.01,-1786.28 229.67,-1788.96\"/>\n<text text-anchor=\"middle\" x=\"201\" y=\"-1773.8\" font-family=\"Times,serif\" font-size=\"14.00\">1</text>\n</g>\n<!-- Natick -->\n<g id=\"node47\" class=\"node\">\n<title>Natick</title>\n<polygon fill=\"none\" stroke=\"black\" points=\"314.5,-1776 249.5,-1776 249.5,-1740 314.5,-1740 314.5,-1776\"/>\n<text text-anchor=\"middle\" x=\"282\" y=\"-1754.3\" font-family=\"Times,serif\" font-size=\"14.00\">Natick</text>\n</g>\n<!-- NA&#45;&#45;Natick -->\n<g id=\"edge39\" class=\"edge\">\n<title>NA&#45;&#45;Natick</title>\n<path fill=\"none\" stroke=\"black\" d=\"M95.42,-1002.18C97.77,-1084.69 112.39,-1431.52 196,-1700 201.32,-1717.08 200.46,-1724.31 214,-1736 223.92,-1744.56 237.25,-1749.81 249.41,-1753.02\"/>\n<text text-anchor=\"middle\" x=\"201\" y=\"-1730.8\" font-family=\"Times,serif\" font-size=\"14.00\">1</text>\n</g>\n<!-- Newport News -->\n<g id=\"node48\" class=\"node\">\n<title>Newport News</title>\n<polygon fill=\"none\" stroke=\"black\" points=\"344.5,-1733 219.5,-1733 219.5,-1697 344.5,-1697 344.5,-1733\"/>\n<text text-anchor=\"middle\" x=\"282\" y=\"-1711.3\" font-family=\"Times,serif\" font-size=\"14.00\">Newport News</text>\n</g>\n<!-- NA&#45;&#45;Newport News -->\n<g id=\"edge41\" class=\"edge\">\n<title>NA&#45;&#45;Newport News</title>\n<path fill=\"none\" stroke=\"black\" d=\"M95.71,-1002.1C99.25,-1081.31 118.01,-1404.74 196,-1656 201.42,-1673.47 200.22,-1680.97 214,-1693 215.66,-1694.45 217.42,-1695.8 219.25,-1697.07\"/>\n<text text-anchor=\"middle\" x=\"201\" y=\"-1687.8\" font-family=\"Times,serif\" font-size=\"14.00\">1</text>\n</g>\n<!-- Perrysburg -->\n<g id=\"node49\" class=\"node\">\n<title>Perrysburg</title>\n<polygon fill=\"none\" stroke=\"black\" points=\"330.5,-1690 233.5,-1690 233.5,-1654 330.5,-1654 330.5,-1690\"/>\n<text text-anchor=\"middle\" x=\"282\" y=\"-1668.3\" font-family=\"Times,serif\" font-size=\"14.00\">Perrysburg</text>\n</g>\n<!-- NA&#45;&#45;Perrysburg -->\n<g id=\"edge42\" class=\"edge\">\n<title>NA&#45;&#45;Perrysburg</title>\n<path fill=\"none\" stroke=\"black\" d=\"M95.9,-1002.26C100.09,-1078.73 120.76,-1380.17 196,-1614 201.48,-1631.03 200.46,-1638.31 214,-1650 219.65,-1654.88 226.42,-1658.68 233.44,-1661.65\"/>\n<text text-anchor=\"middle\" x=\"201\" y=\"-1643.8\" font-family=\"Times,serif\" font-size=\"14.00\">1</text>\n</g>\n<!-- Powhatan Point -->\n<g id=\"node50\" class=\"node\">\n<title>Powhatan Point</title>\n<polygon fill=\"none\" stroke=\"black\" points=\"346,-1647 218,-1647 218,-1611 346,-1611 346,-1647\"/>\n<text text-anchor=\"middle\" x=\"282\" y=\"-1625.3\" font-family=\"Times,serif\" font-size=\"14.00\">Powhatan Point</text>\n</g>\n<!-- NA&#45;&#45;Powhatan Point -->\n<g id=\"edge43\" class=\"edge\">\n<title>NA&#45;&#45;Powhatan Point</title>\n<path fill=\"none\" stroke=\"black\" d=\"M96.26,-1002.18C101.71,-1075.16 126.18,-1353.34 196,-1570 201.61,-1587.41 200.22,-1594.97 214,-1607 215.57,-1608.37 217.22,-1609.65 218.95,-1610.86\"/>\n<text text-anchor=\"middle\" x=\"201\" y=\"-1601.8\" font-family=\"Times,serif\" font-size=\"14.00\">1</text>\n</g>\n<!-- Remote -->\n<g id=\"node51\" class=\"node\">\n<title>Remote</title>\n<polygon fill=\"none\" stroke=\"black\" points=\"317.5,-1604 246.5,-1604 246.5,-1568 317.5,-1568 317.5,-1604\"/>\n<text text-anchor=\"middle\" x=\"282\" y=\"-1582.3\" font-family=\"Times,serif\" font-size=\"14.00\">Remote</text>\n</g>\n<!-- NA&#45;&#45;Remote -->\n<g id=\"edge44\" class=\"edge\">\n<title>NA&#45;&#45;Remote</title>\n<path fill=\"none\" stroke=\"black\" d=\"M96.53,-1002.31C102.75,-1072.23 129.1,-1328.55 196,-1528 201.69,-1544.96 200.46,-1552.31 214,-1564 223.08,-1571.84 235.03,-1576.9 246.32,-1580.16\"/>\n<text text-anchor=\"middle\" x=\"201\" y=\"-1557.8\" font-family=\"Times,serif\" font-size=\"14.00\">1</text>\n</g>\n<!-- Salisbury -->\n<g id=\"node52\" class=\"node\">\n<title>Salisbury</title>\n<polygon fill=\"none\" stroke=\"black\" points=\"324,-1561 240,-1561 240,-1525 324,-1525 324,-1561\"/>\n<text text-anchor=\"middle\" x=\"282\" y=\"-1539.3\" font-family=\"Times,serif\" font-size=\"14.00\">Salisbury</text>\n</g>\n<!-- NA&#45;&#45;Salisbury -->\n<g id=\"edge45\" class=\"edge\">\n<title>NA&#45;&#45;Salisbury</title>\n<path fill=\"none\" stroke=\"black\" d=\"M96.98,-1002.14C104.54,-1068.2 134.3,-1301.53 196,-1484 201.86,-1501.32 200.22,-1508.97 214,-1521 221.29,-1527.36 230.46,-1531.89 239.65,-1535.11\"/>\n<text text-anchor=\"middle\" x=\"201\" y=\"-1515.8\" font-family=\"Times,serif\" font-size=\"14.00\">1</text>\n</g>\n<!-- San Antonio -->\n<g id=\"node53\" class=\"node\">\n<title>San Antonio</title>\n<polygon fill=\"none\" stroke=\"black\" points=\"334,-1518 230,-1518 230,-1482 334,-1482 334,-1518\"/>\n<text text-anchor=\"middle\" x=\"282\" y=\"-1496.3\" font-family=\"Times,serif\" font-size=\"14.00\">San Antonio</text>\n</g>\n<!-- NA&#45;&#45;San Antonio -->\n<g id=\"edge46\" class=\"edge\">\n<title>NA&#45;&#45;San Antonio</title>\n<path fill=\"none\" stroke=\"black\" d=\"M97.46,-1002.28C106.21,-1064.84 138.41,-1275.64 196,-1441 202.01,-1458.27 200.22,-1465.97 214,-1478 218.7,-1482.11 224.19,-1485.45 229.97,-1488.17\"/>\n<text text-anchor=\"middle\" x=\"201\" y=\"-1471.8\" font-family=\"Times,serif\" font-size=\"14.00\">1</text>\n</g>\n<!-- San Francisco -->\n<g id=\"node54\" class=\"node\">\n<title>San Francisco</title>\n<polygon fill=\"none\" stroke=\"black\" points=\"341.5,-1475 222.5,-1475 222.5,-1439 341.5,-1439 341.5,-1475\"/>\n<text text-anchor=\"middle\" x=\"282\" y=\"-1453.3\" font-family=\"Times,serif\" font-size=\"14.00\">San Francisco</text>\n</g>\n<!-- NA&#45;&#45;San Francisco -->\n<g id=\"edge47\" class=\"edge\">\n<title>NA&#45;&#45;San Francisco</title>\n<path fill=\"none\" stroke=\"black\" d=\"M98,-1002.16C107.96,-1060.71 142.43,-1249.41 196,-1398 202.2,-1415.2 200.22,-1422.97 214,-1435 216.58,-1437.25 219.4,-1439.28 222.37,-1441.1\"/>\n<text text-anchor=\"middle\" x=\"201\" y=\"-1428.8\" font-family=\"Times,serif\" font-size=\"14.00\">1</text>\n</g>\n<!-- San Jose -->\n<g id=\"node55\" class=\"node\">\n<title>San Jose</title>\n<polygon fill=\"none\" stroke=\"black\" points=\"321,-1432 243,-1432 243,-1396 321,-1396 321,-1432\"/>\n<text text-anchor=\"middle\" x=\"282\" y=\"-1410.3\" font-family=\"Times,serif\" font-size=\"14.00\">San Jose</text>\n</g>\n<!-- NA&#45;&#45;San Jose -->\n<g id=\"edge48\" class=\"edge\">\n<title>NA&#45;&#45;San Jose</title>\n<path fill=\"none\" stroke=\"black\" d=\"M98.67,-1002.14C109.98,-1056.61 146.48,-1223.14 196,-1355 202.43,-1372.12 200.22,-1379.97 214,-1392 222.12,-1399.08 232.57,-1403.9 242.79,-1407.17\"/>\n<text text-anchor=\"middle\" x=\"201\" y=\"-1385.8\" font-family=\"Times,serif\" font-size=\"14.00\">1</text>\n</g>\n<!-- Scottsdale -->\n<g id=\"node56\" class=\"node\">\n<title>Scottsdale</title>\n<polygon fill=\"none\" stroke=\"black\" points=\"328,-1389 236,-1389 236,-1353 328,-1353 328,-1389\"/>\n<text text-anchor=\"middle\" x=\"282\" y=\"-1367.3\" font-family=\"Times,serif\" font-size=\"14.00\">Scottsdale</text>\n</g>\n<!-- NA&#45;&#45;Scottsdale -->\n<g id=\"edge49\" class=\"edge\">\n<title>NA&#45;&#45;Scottsdale</title>\n<path fill=\"none\" stroke=\"black\" d=\"M99.83,-1002.23C113.19,-1052.04 152.57,-1194.35 196,-1309 202.91,-1327.23 199.51,-1335.96 214,-1349 220.19,-1354.57 227.82,-1358.73 235.68,-1361.84\"/>\n<text text-anchor=\"middle\" x=\"201\" y=\"-1342.8\" font-family=\"Times,serif\" font-size=\"14.00\">1</text>\n</g>\n<!-- Skillman -->\n<g id=\"node57\" class=\"node\">\n<title>Skillman</title>\n<polygon fill=\"none\" stroke=\"black\" points=\"322,-1346 242,-1346 242,-1310 322,-1310 322,-1346\"/>\n<text text-anchor=\"middle\" x=\"282\" y=\"-1324.3\" font-family=\"Times,serif\" font-size=\"14.00\">Skillman</text>\n</g>\n<!-- NA&#45;&#45;Skillman -->\n<g id=\"edge50\" class=\"edge\">\n<title>NA&#45;&#45;Skillman</title>\n<path fill=\"none\" stroke=\"black\" d=\"M96.01,-1002.2C100.06,-1057.06 119.89,-1222.15 214,-1306 221.77,-1312.92 231.77,-1317.67 241.65,-1320.93\"/>\n<text text-anchor=\"middle\" x=\"201\" y=\"-1296.8\" font-family=\"Times,serif\" font-size=\"14.00\">1</text>\n</g>\n<!-- St.Louis -->\n<g id=\"node58\" class=\"node\">\n<title>St.Louis</title>\n<polygon fill=\"none\" stroke=\"black\" points=\"320,-1303 244,-1303 244,-1267 320,-1267 320,-1303\"/>\n<text text-anchor=\"middle\" x=\"282\" y=\"-1281.3\" font-family=\"Times,serif\" font-size=\"14.00\">St.Louis</text>\n</g>\n<!-- NA&#45;&#45;St.Louis -->\n<g id=\"edge52\" class=\"edge\">\n<title>NA&#45;&#45;St.Louis</title>\n<path fill=\"none\" stroke=\"black\" d=\"M97.28,-1002.15C104.5,-1051.81 131.48,-1190.97 214,-1263 222.39,-1270.33 233.29,-1275.22 243.84,-1278.49\"/>\n<text text-anchor=\"middle\" x=\"201\" y=\"-1254.8\" font-family=\"Times,serif\" font-size=\"14.00\">1</text>\n</g>\n<!-- The Woodlands -->\n<g id=\"node59\" class=\"node\">\n<title>The Woodlands</title>\n<polygon fill=\"none\" stroke=\"black\" points=\"345,-1260 219,-1260 219,-1224 345,-1224 345,-1260\"/>\n<text text-anchor=\"middle\" x=\"282\" y=\"-1238.3\" font-family=\"Times,serif\" font-size=\"14.00\">The Woodlands</text>\n</g>\n<!-- NA&#45;&#45;The Woodlands -->\n<g id=\"edge53\" class=\"edge\">\n<title>NA&#45;&#45;The Woodlands</title>\n<path fill=\"none\" stroke=\"black\" d=\"M99,-1002.06C109.67,-1046.01 142.97,-1159.38 214,-1220 215.58,-1221.35 217.25,-1222.62 218.99,-1223.81\"/>\n<text text-anchor=\"middle\" x=\"201\" y=\"-1213.8\" font-family=\"Times,serif\" font-size=\"14.00\">1</text>\n</g>\n<!-- Toronto, -->\n<g id=\"node60\" class=\"node\">\n<title>Toronto,</title>\n<polygon fill=\"none\" stroke=\"black\" points=\"320.5,-1217 243.5,-1217 243.5,-1181 320.5,-1181 320.5,-1217\"/>\n<text text-anchor=\"middle\" x=\"282\" y=\"-1195.3\" font-family=\"Times,serif\" font-size=\"14.00\">Toronto,</text>\n</g>\n<!-- NA&#45;&#45;Toronto, -->\n<g id=\"edge54\" class=\"edge\">\n<title>NA&#45;&#45;Toronto,</title>\n<path fill=\"none\" stroke=\"black\" d=\"M101.24,-1002.09C115.27,-1040.13 152.95,-1128.86 214,-1177 222.46,-1183.67 233.02,-1188.36 243.24,-1191.63\"/>\n<text text-anchor=\"middle\" x=\"201\" y=\"-1172.8\" font-family=\"Times,serif\" font-size=\"14.00\">1</text>\n</g>\n<!-- Toronto, Ontario -->\n<g id=\"node61\" class=\"node\">\n<title>Toronto, Ontario</title>\n<polygon fill=\"none\" stroke=\"black\" points=\"350,-1174 214,-1174 214,-1138 350,-1138 350,-1174\"/>\n<text text-anchor=\"middle\" x=\"282\" y=\"-1152.3\" font-family=\"Times,serif\" font-size=\"14.00\">Toronto, Ontario</text>\n</g>\n<!-- NA&#45;&#45;Toronto, Ontario -->\n<g id=\"edge55\" class=\"edge\">\n<title>NA&#45;&#45;Toronto, Ontario</title>\n<path fill=\"none\" stroke=\"black\" d=\"M104.6,-1002.06C122.16,-1033.44 162.46,-1098.08 214,-1134 216.01,-1135.4 218.11,-1136.72 220.28,-1137.95\"/>\n<text text-anchor=\"middle\" x=\"201\" y=\"-1130.8\" font-family=\"Times,serif\" font-size=\"14.00\">1</text>\n</g>\n<!-- Uxbridge -->\n<g id=\"node62\" class=\"node\">\n<title>Uxbridge</title>\n<polygon fill=\"none\" stroke=\"black\" points=\"323.5,-1131 240.5,-1131 240.5,-1095 323.5,-1095 323.5,-1131\"/>\n<text text-anchor=\"middle\" x=\"282\" y=\"-1109.3\" font-family=\"Times,serif\" font-size=\"14.00\">Uxbridge</text>\n</g>\n<!-- NA&#45;&#45;Uxbridge -->\n<g id=\"edge56\" class=\"edge\">\n<title>NA&#45;&#45;Uxbridge</title>\n<path fill=\"none\" stroke=\"black\" d=\"M110.56,-1002.04C131.76,-1025.58 171.92,-1066.64 214,-1091 222.05,-1095.66 231.23,-1099.5 240.15,-1102.58\"/>\n<text text-anchor=\"middle\" x=\"201\" y=\"-1087.8\" font-family=\"Times,serif\" font-size=\"14.00\">1</text>\n</g>\n</g>\n</svg>\n",
						"text/plain": "<graphviz.graphs.Graph at 0x7fe58c4fe080>"
					},
					"metadata": {}
				}
			],
			"execution_count": 13,
			"metadata": {
				"jupyter": {
					"outputs_hidden": false,
					"source_hidden": false
				},
				"nteract": {
					"transient": {
						"deleting": false
					}
				}
			},
			"id": "425611bf-4508-47a2-9255-22b3e9a9faae"
		},
		{
			"cell_type": "markdown",
			"source": [
				"Indeed, quite a few violations. Moreover, there are many empty values."
			],
			"metadata": {
				"nteract": {
					"transient": {
						"deleting": false
					}
				}
			},
			"id": "865d3222-7c45-4a99-a6ce-3f9fe9f79b41"
		},
		{
			"cell_type": "code",
			"source": [
				"customer_state_df['Postal Code'].isna().sum()"
			],
			"outputs": [
				{
					"output_type": "display_data",
					"data": {
						"application/vnd.livy.statement-meta+json": {
							"spark_pool": null,
							"session_id": "2fda03cc-9670-47e6-b550-331b4ad096c1",
							"statement_id": 23,
							"state": "finished",
							"livy_statement_state": "available",
							"queued_time": "2023-08-30T16:10:26.7545395Z",
							"session_start_time": null,
							"execution_start_time": "2023-08-30T16:10:27.1185296Z",
							"execution_finish_time": "2023-08-30T16:10:27.4664274Z",
							"spark_jobs": {
								"numbers": {
									"UNKNOWN": 0,
									"SUCCEEDED": 0,
									"RUNNING": 0,
									"FAILED": 0
								},
								"jobs": [],
								"limit": 20,
								"rule": "ALL_DESC"
							},
							"parent_msg_id": "b9a7800b-5e39-4c7e-abc5-b8b7a7757fdd"
						},
						"text/plain": "StatementMeta(, 2fda03cc-9670-47e6-b550-331b4ad096c1, 23, Finished, Available)"
					},
					"metadata": {}
				},
				{
					"output_type": "execute_result",
					"execution_count": 43,
					"data": {
						"text/plain": "50"
					},
					"metadata": {}
				}
			],
			"execution_count": 14,
			"metadata": {
				"jupyter": {
					"outputs_hidden": false,
					"source_hidden": false
				},
				"nteract": {
					"transient": {
						"deleting": false
					}
				}
			},
			"id": "24404ee3-53b2-4745-ac93-4999635ec637"
		},
		{
			"cell_type": "markdown",
			"source": [
				"50 rows have NA for postal code, to be precise. Let's try to detect dependencies after getting rid of empty values. Note that we pass an additional parameter to ``find_dependencies`` function,  ``verbose=1``, in order to get a glimpse at the internal workings of SemPy:"
			],
			"metadata": {
				"nteract": {
					"transient": {
						"deleting": false
					}
				}
			},
			"id": "4367ad23-0a64-40d3-babe-8ef95013c1a5"
		},
		{
			"cell_type": "code",
			"source": [
				"customer_state_df2=customer_state_df.dropna()\n",
				"customer_state_df2.find_dependencies(verbose=1)"
			],
			"outputs": [
				{
					"output_type": "display_data",
					"data": {
						"application/vnd.livy.statement-meta+json": {
							"spark_pool": null,
							"session_id": "2fda03cc-9670-47e6-b550-331b4ad096c1",
							"statement_id": 25,
							"state": "finished",
							"livy_statement_state": "available",
							"queued_time": "2023-08-30T16:10:48.7591142Z",
							"session_start_time": null,
							"execution_start_time": "2023-08-30T16:10:49.1068805Z",
							"execution_finish_time": "2023-08-30T16:10:49.4457452Z",
							"spark_jobs": {
								"numbers": {
									"UNKNOWN": 0,
									"SUCCEEDED": 0,
									"RUNNING": 0,
									"FAILED": 0
								},
								"jobs": [],
								"limit": 20,
								"rule": "ALL_DESC"
							},
							"parent_msg_id": "7a2157a4-6df4-4d7b-83ac-f48646bf159a"
						},
						"text/plain": "StatementMeta(, 2fda03cc-9670-47e6-b550-331b4ad096c1, 25, Finished, Available)"
					},
					"metadata": {}
				},
				{
					"output_type": "stream",
					"name": "stdout",
					"text": [
						"State_x, StateCode: nunique 33, 33\nMapping size 33, dependency: True\nState_x, State_y: nunique 33, 33\nMapping size 33, dependency: True\n\nDependencies for 10 columns 8 groups 275 rows, dropna=False, threshold=0.01\nRegion, Country/Region: cardinality shortcut: 0.0, 1.0\nRegion, Country/Region: conditional entropy 0.0, 1.0\nIndustry ID, Region: cached calculation 2.9751958829576504, 1.4548338980405395, 0.35134562333349867\nIndustry ID, Region: conditional entropy 1.103488274707041, 2.6238502596241515\nIndustry ID, Country/Region: cardinality shortcut: 0.0, 1.0\nIndustry ID, Country/Region: conditional entropy 0.0, 1.0\nState_x, Industry ID: cached calculation 2.9883008304144907, 2.9751958829576504, 1.1575667522391768\nState_x, Industry ID: conditional entropy 1.8176291307184735, 1.8307340781753139\nState_x, Region: cached calculation 2.9883008304144907, 1.4548338980405395, 1.4548338980405395\nState_x, Region: conditional entropy 0.0, 1.5334669323739512\nState_x, Country/Region: indirectly dependent\nCity, State_x: cached calculation 4.806051456908877, 2.9883008304144907, 2.9782186896063463\nCity, State_x: conditional entropy 0.010082140808144402, 1.8278327673025307\nCity, Industry ID: cached calculation 4.806051456908877, 2.9751958829576504, 2.423823820733329\nCity, Industry ID: conditional entropy 0.5513720622243214, 2.382227636175548\nCity, Region: cached calculation 4.806051456908877, 1.4548338980405395, 1.4447517572323947\nCity, Region: conditional entropy 0.010082140808144846, 3.3612996996764823\nCity, Country/Region: cardinality shortcut: 0.0, 1.0\nCity, Country/Region: conditional entropy 0.0, 1.0\nPostal Code, City: cached calculation 5.156618788775424, 4.806051456908877, 4.756624667793785\nPostal Code, City: conditional entropy 0.04942678911509191, 0.39999412098163845\nPostal Code, State_x: cached calculation 5.156618788775424, 2.9883008304144907, 2.965982113842542\nPostal Code, State_x: conditional entropy 0.022318716571948727, 2.1906366749328816\nPostal Code, Industry ID: cached calculation 5.156618788775424, 2.9751958829576504, 2.7100928667054482\nPostal Code, Industry ID: conditional entropy 0.2651030162522021, 2.4465259220699753\nPostal Code, Region: cached calculation 5.156618788775424, 1.4548338980405395, 1.4325151814685904\nPostal Code, Region: conditional entropy 0.02231871657194917, 3.724103607306833\nPostal Code, Country/Region: cardinality shortcut: 0.0, 1.0\nPostal Code, Country/Region: conditional entropy 0.0, 1.0\nName, Postal Code: cached calculation 5.5017049240740405, 5.156618788775424, 5.136454507159136\nName, Postal Code: conditional entropy 0.020164281616287916, 0.3652504169149049\nName, City: cached calculation 5.5017049240740405, 4.806051456908877, 4.79092824569666\nName, City: conditional entropy 0.015123211212216603, 0.7107766783773801\nName, State_x: cached calculation 5.5017049240740405, 2.9883008304144907, 2.973177619202274\nName, State_x: conditional entropy 0.015123211212216603, 2.5285273048717665\nName, Industry ID: cached calculation 5.5017049240740405, 2.9751958829576504, 2.9498850617127905\nName, Industry ID: conditional entropy 0.025310821244859838, 2.55181986236125\nName, Region: cached calculation 5.5017049240740405, 1.4548338980405395, 1.439710686828323\nName, Region: conditional entropy 0.015123211212216603, 4.061994237245718\nName, Country/Region: cardinality shortcut: 0.0, 1.0\nName, Country/Region: conditional entropy 0.0, 1.0\nCustomer, Name: cardinality shortcut: 0.0, 1.0\nCustomer, Name: conditional entropy 0.0, 1.0\nCustomer, Postal Code: cardinality shortcut: 0.0, 1.0\nCustomer, Postal Code: conditional entropy 0.0, 1.0\nCustomer, City: cardinality shortcut: 0.0, 1.0\nCustomer, City: conditional entropy 0.0, 1.0\nCustomer, State_x: cardinality shortcut: 0.0, 1.0\nCustomer, State_x: conditional entropy 0.0, 1.0\nCustomer, Industry ID: cardinality shortcut: 0.0, 1.0\nCustomer, Industry ID: conditional entropy 0.0, 1.0\nCustomer, Region: indirectly dependent\nCustomer, Country/Region: indirectly dependent\n"
					]
				},
				{
					"output_type": "execute_result",
					"execution_count": 49,
					"data": {
						"text/plain": "                      determinant                      dependent  \\\n0                        Customer                           Name   \n1                        Customer                    Postal Code   \n2                        Customer                           City   \n3                        Customer  [State_x, StateCode, State_y]   \n4                        Customer                    Industry ID   \n5                            Name                 Country/Region   \n6                     Postal Code                 Country/Region   \n7                            City                 Country/Region   \n8   [State_x, StateCode, State_y]                         Region   \n9                     Industry ID                 Country/Region   \n10                         Region                 Country/Region   \n\n    conditional_entropy  determinant_n_unique  dependent_n_unique  \\\n0                   0.0                   275                 256   \n1                   0.0                   275                 205   \n2                   0.0                   275                 165   \n3                   0.0                   275                  33   \n4                   0.0                   275                  32   \n5                   0.0                   256                   1   \n6                   0.0                   205                   1   \n7                   0.0                   165                   1   \n8                   0.0                    33                   5   \n9                   0.0                    32                   1   \n10                  0.0                     5                   1   \n\n    determinant_n_nulls  dependent_n_nulls  \n0                     0                  0  \n1                     0                  0  \n2                     0                  0  \n3                     0                  0  \n4                     0                  0  \n5                     0                  0  \n6                     0                  0  \n7                     0                  0  \n8                     0                  0  \n9                     0                  0  \n10                    0                  0  ",
						"text/html": "<div>\n<style scoped>\n    .dataframe tbody tr th:only-of-type {\n        vertical-align: middle;\n    }\n\n    .dataframe tbody tr th {\n        vertical-align: top;\n    }\n\n    .dataframe thead th {\n        text-align: right;\n    }\n</style>\n<table border=\"1\" class=\"dataframe\">\n  <thead>\n    <tr style=\"text-align: right;\">\n      <th></th>\n      <th>determinant</th>\n      <th>dependent</th>\n      <th>conditional_entropy</th>\n      <th>determinant_n_unique</th>\n      <th>dependent_n_unique</th>\n      <th>determinant_n_nulls</th>\n      <th>dependent_n_nulls</th>\n    </tr>\n  </thead>\n  <tbody>\n    <tr>\n      <th>0</th>\n      <td>Customer</td>\n      <td>Name</td>\n      <td>0.0</td>\n      <td>275</td>\n      <td>256</td>\n      <td>0</td>\n      <td>0</td>\n    </tr>\n    <tr>\n      <th>1</th>\n      <td>Customer</td>\n      <td>Postal Code</td>\n      <td>0.0</td>\n      <td>275</td>\n      <td>205</td>\n      <td>0</td>\n      <td>0</td>\n    </tr>\n    <tr>\n      <th>2</th>\n      <td>Customer</td>\n      <td>City</td>\n      <td>0.0</td>\n      <td>275</td>\n      <td>165</td>\n      <td>0</td>\n      <td>0</td>\n    </tr>\n    <tr>\n      <th>3</th>\n      <td>Customer</td>\n      <td>[State_x, StateCode, State_y]</td>\n      <td>0.0</td>\n      <td>275</td>\n      <td>33</td>\n      <td>0</td>\n      <td>0</td>\n    </tr>\n    <tr>\n      <th>4</th>\n      <td>Customer</td>\n      <td>Industry ID</td>\n      <td>0.0</td>\n      <td>275</td>\n      <td>32</td>\n      <td>0</td>\n      <td>0</td>\n    </tr>\n    <tr>\n      <th>5</th>\n      <td>Name</td>\n      <td>Country/Region</td>\n      <td>0.0</td>\n      <td>256</td>\n      <td>1</td>\n      <td>0</td>\n      <td>0</td>\n    </tr>\n    <tr>\n      <th>6</th>\n      <td>Postal Code</td>\n      <td>Country/Region</td>\n      <td>0.0</td>\n      <td>205</td>\n      <td>1</td>\n      <td>0</td>\n      <td>0</td>\n    </tr>\n    <tr>\n      <th>7</th>\n      <td>City</td>\n      <td>Country/Region</td>\n      <td>0.0</td>\n      <td>165</td>\n      <td>1</td>\n      <td>0</td>\n      <td>0</td>\n    </tr>\n    <tr>\n      <th>8</th>\n      <td>[State_x, StateCode, State_y]</td>\n      <td>Region</td>\n      <td>0.0</td>\n      <td>33</td>\n      <td>5</td>\n      <td>0</td>\n      <td>0</td>\n    </tr>\n    <tr>\n      <th>9</th>\n      <td>Industry ID</td>\n      <td>Country/Region</td>\n      <td>0.0</td>\n      <td>32</td>\n      <td>1</td>\n      <td>0</td>\n      <td>0</td>\n    </tr>\n    <tr>\n      <th>10</th>\n      <td>Region</td>\n      <td>Country/Region</td>\n      <td>0.0</td>\n      <td>5</td>\n      <td>1</td>\n      <td>0</td>\n      <td>0</td>\n    </tr>\n  </tbody>\n</table>\n</div>"
					},
					"metadata": {}
				}
			],
			"execution_count": 16,
			"metadata": {
				"jupyter": {
					"outputs_hidden": false,
					"source_hidden": false
				},
				"nteract": {
					"transient": {
						"deleting": false
					}
				}
			},
			"id": "b71f1736-08ee-43d1-a506-09541c0a3536"
		},
		{
			"cell_type": "markdown",
			"source": [
				"Now conditional entropy is 0.049, which makes sense, since we saw violations. We can fix violations. But before we do, just to see the dependencies, we can explicitly raise the threshold as follows:"
			],
			"metadata": {
				"nteract": {
					"transient": {
						"deleting": false
					}
				}
			},
			"id": "8aec034a-3ef0-4fc6-b30b-048bf73c359b"
		},
		{
			"cell_type": "code",
			"source": [
				"plot_dependency_metadata(customer_state_df2.find_dependencies(threshold=0.05))"
			],
			"outputs": [
				{
					"output_type": "display_data",
					"data": {
						"application/vnd.livy.statement-meta+json": {
							"spark_pool": null,
							"session_id": "2fda03cc-9670-47e6-b550-331b4ad096c1",
							"statement_id": 26,
							"state": "finished",
							"livy_statement_state": "available",
							"queued_time": "2023-08-30T16:12:27.6462603Z",
							"session_start_time": null,
							"execution_start_time": "2023-08-30T16:12:28.0299876Z",
							"execution_finish_time": "2023-08-30T16:12:28.3722177Z",
							"spark_jobs": {
								"numbers": {
									"UNKNOWN": 0,
									"SUCCEEDED": 0,
									"RUNNING": 0,
									"FAILED": 0
								},
								"jobs": [],
								"limit": 20,
								"rule": "ALL_DESC"
							},
							"parent_msg_id": "e5fecc99-4608-40ac-80ea-a2ddd9989ef4"
						},
						"text/plain": "StatementMeta(, 2fda03cc-9670-47e6-b550-331b4ad096c1, 26, Finished, Available)"
					},
					"metadata": {}
				},
				{
					"output_type": "execute_result",
					"execution_count": 52,
					"data": {
						"image/svg+xml": "<?xml version=\"1.0\" encoding=\"UTF-8\" standalone=\"no\"?>\n<!DOCTYPE svg PUBLIC \"-//W3C//DTD SVG 1.1//EN\"\n \"http://www.w3.org/Graphics/SVG/1.1/DTD/svg11.dtd\">\n<!-- Generated by graphviz version 2.50.0 (20220708.1628)\n -->\n<!-- Pages: 1 -->\n<svg width=\"485pt\" height=\"511pt\"\n viewBox=\"0.00 0.00 485.00 511.00\" xmlns=\"http://www.w3.org/2000/svg\" xmlns:xlink=\"http://www.w3.org/1999/xlink\">\n<g id=\"graph0\" class=\"graph\" transform=\"scale(1 1) rotate(0) translate(4 507)\">\n<polygon fill=\"white\" stroke=\"transparent\" points=\"-4,4 -4,-507 481,-507 481,4 -4,4\"/>\n<!-- 0 -->\n<g id=\"node1\" class=\"node\">\n<title>0</title>\n<polygon fill=\"none\" stroke=\"black\" points=\"147,-474 147,-495 224,-495 224,-474 147,-474\"/>\n<text text-anchor=\"start\" x=\"150\" y=\"-480.8\" font-family=\"Times,serif\" font-size=\"14.00\">Customer</text>\n</g>\n<!-- 1 -->\n<g id=\"node2\" class=\"node\">\n<title>1</title>\n<polygon fill=\"none\" stroke=\"black\" points=\"243,-402 243,-423 292,-423 292,-402 243,-402\"/>\n<text text-anchor=\"start\" x=\"246\" y=\"-408.8\" font-family=\"Times,serif\" font-size=\"14.00\">Name</text>\n</g>\n<!-- 0&#45;&gt;1 -->\n<g id=\"edge1\" class=\"edge\">\n<title>0&#45;&gt;1</title>\n<path fill=\"none\" stroke=\"black\" d=\"M205.27,-466.7C215.5,-457.97 228.06,-447.24 239.18,-437.75\"/>\n<polygon fill=\"black\" stroke=\"black\" points=\"241.63,-440.26 246.96,-431.1 237.09,-434.94 241.63,-440.26\"/>\n</g>\n<!-- 2 -->\n<g id=\"node3\" class=\"node\">\n<title>2</title>\n<polygon fill=\"none\" stroke=\"black\" points=\"140,-330 140,-351 231,-351 231,-330 140,-330\"/>\n<text text-anchor=\"start\" x=\"143\" y=\"-336.8\" font-family=\"Times,serif\" font-size=\"14.00\">Postal Code</text>\n</g>\n<!-- 0&#45;&gt;2 -->\n<g id=\"edge2\" class=\"edge\">\n<title>0&#45;&gt;2</title>\n<path fill=\"none\" stroke=\"black\" d=\"M185,-466.87C185,-442.67 185,-398.21 185,-369.39\"/>\n<polygon fill=\"black\" stroke=\"black\" points=\"188.5,-369.19 185,-359.19 181.5,-369.19 188.5,-369.19\"/>\n</g>\n<!-- 3 -->\n<g id=\"node4\" class=\"node\">\n<title>3</title>\n<polygon fill=\"none\" stroke=\"black\" points=\"9,-258 9,-279 46,-279 46,-258 9,-258\"/>\n<text text-anchor=\"start\" x=\"12\" y=\"-264.8\" font-family=\"Times,serif\" font-size=\"14.00\">City</text>\n</g>\n<!-- 0&#45;&gt;3 -->\n<g id=\"edge3\" class=\"edge\">\n<title>0&#45;&gt;3</title>\n<path fill=\"none\" stroke=\"black\" d=\"M138.22,-477.55C108.65,-470.94 72.16,-457.65 51,-431 20.56,-392.66 20.33,-332.47 23.36,-297.57\"/>\n<polygon fill=\"black\" stroke=\"black\" points=\"26.88,-297.49 24.42,-287.19 19.92,-296.78 26.88,-297.49\"/>\n</g>\n<!-- 4 -->\n<g id=\"node5\" class=\"node\">\n<title>4</title>\n<polygon fill=\"none\" stroke=\"black\" points=\"73,-189.5 73,-210.5 155,-210.5 155,-189.5 73,-189.5\"/>\n<text text-anchor=\"start\" x=\"86.5\" y=\"-196.3\" font-family=\"Times,serif\" font-size=\"14.00\">State_x</text>\n<polygon fill=\"none\" stroke=\"black\" points=\"73,-168.5 73,-189.5 155,-189.5 155,-168.5 73,-168.5\"/>\n<text text-anchor=\"start\" x=\"76\" y=\"-175.3\" font-family=\"Times,serif\" font-size=\"14.00\">StateCode</text>\n<polygon fill=\"none\" stroke=\"black\" points=\"73,-147.5 73,-168.5 155,-168.5 155,-147.5 73,-147.5\"/>\n<text text-anchor=\"start\" x=\"86.5\" y=\"-154.3\" font-family=\"Times,serif\" font-size=\"14.00\">State_y</text>\n</g>\n<!-- 0&#45;&gt;4 -->\n<g id=\"edge4\" class=\"edge\">\n<title>0&#45;&gt;4</title>\n<path fill=\"none\" stroke=\"black\" d=\"M173.52,-466.7C158.75,-443.37 133.71,-400.02 123,-359 111.41,-314.6 110.2,-261.92 111.26,-225.35\"/>\n<polygon fill=\"black\" stroke=\"black\" points=\"114.77,-225.14 111.63,-215.02 107.77,-224.88 114.77,-225.14\"/>\n</g>\n<!-- 5 -->\n<g id=\"node6\" class=\"node\">\n<title>5</title>\n<polygon fill=\"none\" stroke=\"black\" points=\"379,-330 379,-351 469,-351 469,-330 379,-330\"/>\n<text text-anchor=\"start\" x=\"382\" y=\"-336.8\" font-family=\"Times,serif\" font-size=\"14.00\">Industry ID</text>\n</g>\n<!-- 0&#45;&gt;5 -->\n<g id=\"edge5\" class=\"edge\">\n<title>0&#45;&gt;5</title>\n<path fill=\"none\" stroke=\"black\" d=\"M231.7,-467.3C255.54,-457.98 284.58,-445.35 309,-431 341.37,-411.98 374.95,-385.02 397.4,-365.76\"/>\n<polygon fill=\"black\" stroke=\"black\" points=\"399.88,-368.24 405.15,-359.05 395.3,-362.95 399.88,-368.24\"/>\n</g>\n<!-- 1&#45;&gt;2 -->\n<g id=\"edge6\" class=\"edge\">\n<title>1&#45;&gt;2</title>\n<path fill=\"none\" stroke=\"black\" stroke-dasharray=\"5,2\" d=\"M246.73,-394.7C236.5,-385.97 223.94,-375.24 212.82,-365.75\"/>\n<polygon fill=\"black\" stroke=\"black\" points=\"214.91,-362.94 205.04,-359.1 210.37,-368.26 214.91,-362.94\"/>\n</g>\n<!-- 1&#45;&gt;3 -->\n<g id=\"edge7\" class=\"edge\">\n<title>1&#45;&gt;3</title>\n<path fill=\"none\" stroke=\"black\" stroke-dasharray=\"5,2\" d=\"M234.47,-404C204.15,-395.65 158.43,-380.73 123,-359 94.39,-341.46 66.85,-314.54 48.66,-294.9\"/>\n<polygon fill=\"black\" stroke=\"black\" points=\"51.01,-292.29 41.69,-287.24 45.83,-297 51.01,-292.29\"/>\n</g>\n<!-- 1&#45;&gt;4 -->\n<g id=\"edge8\" class=\"edge\">\n<title>1&#45;&gt;4</title>\n<path fill=\"none\" stroke=\"black\" stroke-dasharray=\"5,2\" d=\"M266.06,-394.67C264.44,-376.02 260.02,-345.95 248,-323 227.61,-284.06 193.58,-248.07 164.92,-222\"/>\n<polygon fill=\"black\" stroke=\"black\" points=\"167.16,-219.31 157.38,-215.25 162.5,-224.53 167.16,-219.31\"/>\n</g>\n<!-- 1&#45;&gt;5 -->\n<g id=\"edge9\" class=\"edge\">\n<title>1&#45;&gt;5</title>\n<path fill=\"none\" stroke=\"black\" stroke-dasharray=\"5,2\" d=\"M299.53,-397.5C321.75,-387.59 351.56,-374.3 376.43,-363.21\"/>\n<polygon fill=\"black\" stroke=\"black\" points=\"377.99,-366.35 385.7,-359.08 375.14,-359.95 377.99,-366.35\"/>\n</g>\n<!-- 6 -->\n<g id=\"node7\" class=\"node\">\n<title>6</title>\n<polygon fill=\"none\" stroke=\"black\" points=\"137,-79 137,-100 193,-100 193,-79 137,-79\"/>\n<text text-anchor=\"start\" x=\"140\" y=\"-85.8\" font-family=\"Times,serif\" font-size=\"14.00\">Region</text>\n</g>\n<!-- 1&#45;&gt;6 -->\n<g id=\"edge10\" class=\"edge\">\n<title>1&#45;&gt;6</title>\n<path fill=\"none\" stroke=\"black\" stroke-dasharray=\"5,2\" d=\"M269.41,-394.72C271.41,-376.62 273.19,-347.49 268,-323 251.18,-243.64 205.29,-158.46 180.84,-116.86\"/>\n<polygon fill=\"black\" stroke=\"black\" points=\"183.8,-114.99 175.68,-108.19 177.78,-118.57 183.8,-114.99\"/>\n</g>\n<!-- 7 -->\n<g id=\"node8\" class=\"node\">\n<title>7</title>\n<polygon fill=\"none\" stroke=\"black\" points=\"170,-7 170,-28 289,-28 289,-7 170,-7\"/>\n<text text-anchor=\"start\" x=\"173\" y=\"-13.8\" font-family=\"Times,serif\" font-size=\"14.00\">Country/Region</text>\n</g>\n<!-- 1&#45;&gt;7 -->\n<g id=\"edge11\" class=\"edge\">\n<title>1&#45;&gt;7</title>\n<path fill=\"none\" stroke=\"black\" d=\"M283.49,-394.77C305.84,-369.53 343,-320.05 343,-270 343,-270 343,-270 343,-178.5 343,-121.47 294.16,-70.76 260.41,-42.53\"/>\n<polygon fill=\"black\" stroke=\"black\" points=\"262.58,-39.79 252.62,-36.19 258.16,-45.21 262.58,-39.79\"/>\n</g>\n<!-- 2&#45;&gt;3 -->\n<g id=\"edge12\" class=\"edge\">\n<title>2&#45;&gt;3</title>\n<path fill=\"none\" stroke=\"black\" stroke-dasharray=\"5,2\" d=\"M146.35,-322.88C121.19,-311.73 88.56,-297.27 63.78,-286.29\"/>\n<polygon fill=\"black\" stroke=\"black\" points=\"64.92,-282.97 54.36,-282.12 62.08,-289.37 64.92,-282.97\"/>\n</g>\n<!-- 2&#45;&gt;4 -->\n<g id=\"edge13\" class=\"edge\">\n<title>2&#45;&gt;4</title>\n<path fill=\"none\" stroke=\"black\" stroke-dasharray=\"5,2\" d=\"M177.4,-322.93C167.02,-299.6 148.02,-256.93 133.52,-224.35\"/>\n<polygon fill=\"black\" stroke=\"black\" points=\"136.63,-222.74 129.37,-215.03 130.24,-225.59 136.63,-222.74\"/>\n</g>\n<!-- 2&#45;&gt;6 -->\n<g id=\"edge14\" class=\"edge\">\n<title>2&#45;&gt;6</title>\n<path fill=\"none\" stroke=\"black\" stroke-dasharray=\"5,2\" d=\"M184.24,-322.93C182.65,-288.85 178.54,-210.01 172,-144 171.16,-135.56 170.03,-126.39 168.92,-118.08\"/>\n<polygon fill=\"black\" stroke=\"black\" points=\"172.39,-117.58 167.55,-108.15 165.45,-118.54 172.39,-117.58\"/>\n</g>\n<!-- 2&#45;&gt;7 -->\n<g id=\"edge15\" class=\"edge\">\n<title>2&#45;&gt;7</title>\n<path fill=\"none\" stroke=\"black\" d=\"M188.51,-322.86C190.56,-312.5 193.1,-299.02 195,-287 208.82,-199.35 220.78,-94.88 226.08,-46.32\"/>\n<polygon fill=\"black\" stroke=\"black\" points=\"229.57,-46.61 227.17,-36.3 222.61,-45.86 229.57,-46.61\"/>\n</g>\n<!-- 3&#45;&gt;4 -->\n<g id=\"edge16\" class=\"edge\">\n<title>3&#45;&gt;4</title>\n<path fill=\"none\" stroke=\"black\" stroke-dasharray=\"5,2\" d=\"M44.19,-250.71C52.32,-242.54 62.41,-232.39 72.37,-222.37\"/>\n<polygon fill=\"black\" stroke=\"black\" points=\"75,-224.68 79.57,-215.13 70.04,-219.75 75,-224.68\"/>\n</g>\n<!-- 3&#45;&gt;6 -->\n<g id=\"edge17\" class=\"edge\">\n<title>3&#45;&gt;6</title>\n<path fill=\"none\" stroke=\"black\" stroke-dasharray=\"5,2\" d=\"M26.57,-250.79C26.82,-224.85 30.89,-175.44 56,-144 71.9,-124.09 97.14,-111.16 119.34,-103.06\"/>\n<polygon fill=\"black\" stroke=\"black\" points=\"120.62,-106.32 128.95,-99.77 118.35,-99.7 120.62,-106.32\"/>\n</g>\n<!-- 3&#45;&gt;7 -->\n<g id=\"edge18\" class=\"edge\">\n<title>3&#45;&gt;7</title>\n<path fill=\"none\" stroke=\"black\" d=\"M22.25,-250.89C16.31,-225.94 8.85,-178.75 26,-144 52.19,-90.94 112.44,-58.16 160.54,-39.56\"/>\n<polygon fill=\"black\" stroke=\"black\" points=\"161.85,-42.8 169.99,-36.02 159.39,-36.25 161.85,-42.8\"/>\n</g>\n<!-- 4&#45;&gt;6 -->\n<g id=\"edge19\" class=\"edge\">\n<title>4&#45;&gt;6</title>\n<path fill=\"none\" stroke=\"black\" d=\"M134.16,-143.92C139.39,-134.94 144.94,-125.42 149.87,-116.96\"/>\n<polygon fill=\"black\" stroke=\"black\" points=\"152.91,-118.69 154.92,-108.29 146.86,-115.16 152.91,-118.69\"/>\n</g>\n<!-- 5&#45;&gt;7 -->\n<g id=\"edge20\" class=\"edge\">\n<title>5&#45;&gt;7</title>\n<path fill=\"none\" stroke=\"black\" d=\"M424.69,-322.9C425.64,-276.63 421.99,-147.37 357,-72 343.7,-56.57 325.19,-45.55 306.37,-37.71\"/>\n<polygon fill=\"black\" stroke=\"black\" points=\"307.42,-34.37 296.83,-34 304.88,-40.89 307.42,-34.37\"/>\n</g>\n<!-- 6&#45;&gt;7 -->\n<g id=\"edge21\" class=\"edge\">\n<title>6&#45;&gt;7</title>\n<path fill=\"none\" stroke=\"black\" d=\"M180.82,-71.7C188.57,-63.22 198.04,-52.86 206.52,-43.58\"/>\n<polygon fill=\"black\" stroke=\"black\" points=\"209.2,-45.85 213.36,-36.1 204.03,-41.12 209.2,-45.85\"/>\n</g>\n</g>\n</svg>\n",
						"text/plain": "<graphviz.graphs.Digraph at 0x7fe58c6ead70>"
					},
					"metadata": {}
				}
			],
			"execution_count": 17,
			"metadata": {
				"jupyter": {
					"outputs_hidden": false,
					"source_hidden": false
				},
				"nteract": {
					"transient": {
						"deleting": false
					}
				}
			},
			"id": "8fbf5117-d091-4a74-a064-fadfba60feb5"
		},
		{
			"cell_type": "markdown",
			"source": [
				"When we come to think from the domain perspective about which entity should determine values of other entities, this graph seems accurate. Let's explore more data quality issues that we detected. For example, what's going on with City and Region that causes the line to be dotted, implying existence of partial functional dependencies?"
			],
			"metadata": {
				"nteract": {
					"transient": {
						"deleting": false
					}
				}
			},
			"id": "a0caf31a-ef7e-4b2e-a558-92d767b62ee3"
		},
		{
			"cell_type": "code",
			"source": [
				"customer_state_df.list_dependency_violations('City', 'Region')"
			],
			"outputs": [
				{
					"output_type": "display_data",
					"data": {
						"application/vnd.livy.statement-meta+json": {
							"spark_pool": null,
							"session_id": "2fda03cc-9670-47e6-b550-331b4ad096c1",
							"statement_id": 27,
							"state": "finished",
							"livy_statement_state": "available",
							"queued_time": "2023-08-30T16:14:01.8867384Z",
							"session_start_time": null,
							"execution_start_time": "2023-08-30T16:14:02.2743171Z",
							"execution_finish_time": "2023-08-30T16:14:02.6098485Z",
							"spark_jobs": {
								"numbers": {
									"UNKNOWN": 0,
									"SUCCEEDED": 0,
									"RUNNING": 0,
									"FAILED": 0
								},
								"jobs": [],
								"limit": 20,
								"rule": "ALL_DESC"
							},
							"parent_msg_id": "5f02ba3c-b830-4625-b13e-afa5c7050a7a"
						},
						"text/plain": "StatementMeta(, 2fda03cc-9670-47e6-b550-331b4ad096c1, 27, Finished, Available)"
					},
					"metadata": {}
				},
				{
					"output_type": "execute_result",
					"execution_count": 55,
					"data": {
						"text/plain": "            City   Region  count\n0        AAAAAAA    SOUTH      3\n1        AAAAAAA      NaN      1\n2  Downers Grove  CENTRAL      1\n3  Downers Grove    NORTH      1\n4        Fremont    SOUTH      1\n5        Fremont     WEST      1\n6       Uxbridge     EAST      1\n7       Uxbridge      NaN      1",
						"text/html": "<div>\n<style scoped>\n    .dataframe tbody tr th:only-of-type {\n        vertical-align: middle;\n    }\n\n    .dataframe tbody tr th {\n        vertical-align: top;\n    }\n\n    .dataframe thead th {\n        text-align: right;\n    }\n</style>\n<table border=\"1\" class=\"dataframe\">\n  <thead>\n    <tr style=\"text-align: right;\">\n      <th></th>\n      <th>City</th>\n      <th>Region</th>\n      <th>count</th>\n    </tr>\n  </thead>\n  <tbody>\n    <tr>\n      <th>0</th>\n      <td>AAAAAAA</td>\n      <td>SOUTH</td>\n      <td>3</td>\n    </tr>\n    <tr>\n      <th>1</th>\n      <td>AAAAAAA</td>\n      <td>NaN</td>\n      <td>1</td>\n    </tr>\n    <tr>\n      <th>2</th>\n      <td>Downers Grove</td>\n      <td>CENTRAL</td>\n      <td>1</td>\n    </tr>\n    <tr>\n      <th>3</th>\n      <td>Downers Grove</td>\n      <td>NORTH</td>\n      <td>1</td>\n    </tr>\n    <tr>\n      <th>4</th>\n      <td>Fremont</td>\n      <td>SOUTH</td>\n      <td>1</td>\n    </tr>\n    <tr>\n      <th>5</th>\n      <td>Fremont</td>\n      <td>WEST</td>\n      <td>1</td>\n    </tr>\n    <tr>\n      <th>6</th>\n      <td>Uxbridge</td>\n      <td>EAST</td>\n      <td>1</td>\n    </tr>\n    <tr>\n      <th>7</th>\n      <td>Uxbridge</td>\n      <td>NaN</td>\n      <td>1</td>\n    </tr>\n  </tbody>\n</table>\n</div>"
					},
					"metadata": {}
				}
			],
			"execution_count": 18,
			"metadata": {
				"jupyter": {
					"outputs_hidden": false,
					"source_hidden": false
				},
				"nteract": {
					"transient": {
						"deleting": false
					}
				}
			},
			"id": "87810ab5-a33f-4659-8fe6-af0614c0230b"
		},
		{
			"cell_type": "markdown",
			"source": [
				"Going deeper into each of the cases where we see non-empty Region value that causes violations:"
			],
			"metadata": {
				"nteract": {
					"transient": {
						"deleting": false
					}
				}
			},
			"id": "2ca36639-63dc-48ec-9175-bc42f162bf84"
		},
		{
			"cell_type": "code",
			"source": [
				"customer_state_df[customer_state_df.City=='Downers Grove']"
			],
			"outputs": [
				{
					"output_type": "display_data",
					"data": {
						"application/vnd.livy.statement-meta+json": {
							"spark_pool": null,
							"session_id": "2fda03cc-9670-47e6-b550-331b4ad096c1",
							"statement_id": 28,
							"state": "finished",
							"livy_statement_state": "available",
							"queued_time": "2023-08-30T16:14:08.9852156Z",
							"session_start_time": null,
							"execution_start_time": "2023-08-30T16:14:09.3141035Z",
							"execution_finish_time": "2023-08-30T16:14:09.6360603Z",
							"spark_jobs": {
								"numbers": {
									"UNKNOWN": 0,
									"SUCCEEDED": 0,
									"RUNNING": 0,
									"FAILED": 0
								},
								"jobs": [],
								"limit": 20,
								"rule": "ALL_DESC"
							},
							"parent_msg_id": "78f7c45d-c9a9-4bc8-b1a1-b1b39ead1e03"
						},
						"text/plain": "StatementMeta(, 2fda03cc-9670-47e6-b550-331b4ad096c1, 28, Finished, Available)"
					},
					"metadata": {}
				},
				{
					"output_type": "execute_result",
					"execution_count": 58,
					"data": {
						"text/plain": "     Customer Country/Region               Name           City  Postal Code  \\\n66      10114             US  SNC Downers Grove  Downers Grove        60515   \n249     50128             US  SNC Downers Grove  Downers Grove        60515   \n\n    State_x  Industry ID StateCode   State_y   Region  \n66       NE           30        NE  NEBRASKA  CENTRAL  \n249      IL           30        IL  ILLINOIS    NORTH  ",
						"text/html": "<div>\n<style scoped>\n    .dataframe tbody tr th:only-of-type {\n        vertical-align: middle;\n    }\n\n    .dataframe tbody tr th {\n        vertical-align: top;\n    }\n\n    .dataframe thead th {\n        text-align: right;\n    }\n</style>\n<table border=\"1\" class=\"dataframe\">\n  <thead>\n    <tr style=\"text-align: right;\">\n      <th></th>\n      <th>Customer</th>\n      <th>Country/Region</th>\n      <th>Name</th>\n      <th>City</th>\n      <th>Postal Code</th>\n      <th>State_x</th>\n      <th>Industry ID</th>\n      <th>StateCode</th>\n      <th>State_y</th>\n      <th>Region</th>\n    </tr>\n  </thead>\n  <tbody>\n    <tr>\n      <th>66</th>\n      <td>10114</td>\n      <td>US</td>\n      <td>SNC Downers Grove</td>\n      <td>Downers Grove</td>\n      <td>60515</td>\n      <td>NE</td>\n      <td>30</td>\n      <td>NE</td>\n      <td>NEBRASKA</td>\n      <td>CENTRAL</td>\n    </tr>\n    <tr>\n      <th>249</th>\n      <td>50128</td>\n      <td>US</td>\n      <td>SNC Downers Grove</td>\n      <td>Downers Grove</td>\n      <td>60515</td>\n      <td>IL</td>\n      <td>30</td>\n      <td>IL</td>\n      <td>ILLINOIS</td>\n      <td>NORTH</td>\n    </tr>\n  </tbody>\n</table>\n</div>"
					},
					"metadata": {}
				}
			],
			"execution_count": 19,
			"metadata": {
				"jupyter": {
					"outputs_hidden": false,
					"source_hidden": false
				},
				"nteract": {
					"transient": {
						"deleting": false
					}
				}
			},
			"id": "df17f55d-1436-4551-814e-ae5e04b42f04"
		},
		{
			"cell_type": "markdown",
			"source": [
				"Downers Grove definitely is in Illinois, not Nebraska. See wiki: https://en.wikipedia.org/wiki/Downers_Grove,_Illinois (\"It was founded in 1832 by Pierce Downer, whose surname serves as the eponym for the village\"). Great catch of data consistency issue!"
			],
			"metadata": {
				"nteract": {
					"transient": {
						"deleting": false
					}
				}
			},
			"id": "62b92ac2-ef0a-435d-ad7e-5dad4f5dae00"
		},
		{
			"cell_type": "code",
			"source": [
				"customer_state_df[customer_state_df.City=='Fremont']"
			],
			"outputs": [
				{
					"output_type": "display_data",
					"data": {
						"application/vnd.livy.statement-meta+json": {
							"spark_pool": null,
							"session_id": "2fda03cc-9670-47e6-b550-331b4ad096c1",
							"statement_id": 29,
							"state": "finished",
							"livy_statement_state": "available",
							"queued_time": "2023-08-30T16:15:05.6833423Z",
							"session_start_time": null,
							"execution_start_time": "2023-08-30T16:15:06.0057266Z",
							"execution_finish_time": "2023-08-30T16:15:06.3692216Z",
							"spark_jobs": {
								"numbers": {
									"UNKNOWN": 0,
									"SUCCEEDED": 0,
									"RUNNING": 0,
									"FAILED": 0
								},
								"jobs": [],
								"limit": 20,
								"rule": "ALL_DESC"
							},
							"parent_msg_id": "b929377f-beaa-4769-8f03-3ba603e17246"
						},
						"text/plain": "StatementMeta(, 2fda03cc-9670-47e6-b550-331b4ad096c1, 29, Finished, Available)"
					},
					"metadata": {}
				},
				{
					"output_type": "execute_result",
					"execution_count": 61,
					"data": {
						"text/plain": "    Customer Country/Region             Name     City  Postal Code State_x  \\\n37     10036             US         Horn BPO  Fremont        94555      TX   \n46     10060             US  Soneli Graphics  Fremont        94538      CA   \n\n    Industry ID StateCode     State_y Region  \n37           30        TX       TEXAS  SOUTH  \n46           13        CA  CALIFORNIA   WEST  ",
						"text/html": "<div>\n<style scoped>\n    .dataframe tbody tr th:only-of-type {\n        vertical-align: middle;\n    }\n\n    .dataframe tbody tr th {\n        vertical-align: top;\n    }\n\n    .dataframe thead th {\n        text-align: right;\n    }\n</style>\n<table border=\"1\" class=\"dataframe\">\n  <thead>\n    <tr style=\"text-align: right;\">\n      <th></th>\n      <th>Customer</th>\n      <th>Country/Region</th>\n      <th>Name</th>\n      <th>City</th>\n      <th>Postal Code</th>\n      <th>State_x</th>\n      <th>Industry ID</th>\n      <th>StateCode</th>\n      <th>State_y</th>\n      <th>Region</th>\n    </tr>\n  </thead>\n  <tbody>\n    <tr>\n      <th>37</th>\n      <td>10036</td>\n      <td>US</td>\n      <td>Horn BPO</td>\n      <td>Fremont</td>\n      <td>94555</td>\n      <td>TX</td>\n      <td>30</td>\n      <td>TX</td>\n      <td>TEXAS</td>\n      <td>SOUTH</td>\n    </tr>\n    <tr>\n      <th>46</th>\n      <td>10060</td>\n      <td>US</td>\n      <td>Soneli Graphics</td>\n      <td>Fremont</td>\n      <td>94538</td>\n      <td>CA</td>\n      <td>13</td>\n      <td>CA</td>\n      <td>CALIFORNIA</td>\n      <td>WEST</td>\n    </tr>\n  </tbody>\n</table>\n</div>"
					},
					"metadata": {}
				}
			],
			"execution_count": 20,
			"metadata": {
				"jupyter": {
					"outputs_hidden": false,
					"source_hidden": false
				},
				"nteract": {
					"transient": {
						"deleting": false
					}
				}
			},
			"id": "04352c31-51d8-445d-8138-dfbf1efce337"
		},
		{
			"cell_type": "markdown",
			"source": [
				"There is a city called Fremont in California (https://en.wikipedia.org/wiki/Fremont,_California). However, for Texas, the search engine returns Premont, not Fremont (https://en.wikipedia.org/wiki/Premont,_Texas)! Interesting error in the data, and really awesome that we were able to catch it automatically :)"
			],
			"metadata": {
				"nteract": {
					"transient": {
						"deleting": false
					}
				}
			},
			"id": "a8008ea1-f86a-4e4f-a0e8-6563999492c8"
		},
		{
			"cell_type": "markdown",
			"source": [
				"It's also suspicious to see violations of \"Name\" and \"Country/Region\" depencency, signified by dotted line."
			],
			"metadata": {
				"nteract": {
					"transient": {
						"deleting": false
					}
				}
			},
			"id": "c1ce246f-4bd9-4ffb-8723-804ff5eac2e7"
		},
		{
			"cell_type": "code",
			"source": [
				"customer_state_df.list_dependency_violations('Name', 'Country/Region')"
			],
			"outputs": [
				{
					"output_type": "display_data",
					"data": {
						"application/vnd.livy.statement-meta+json": {
							"spark_pool": null,
							"session_id": "2fda03cc-9670-47e6-b550-331b4ad096c1",
							"statement_id": 30,
							"state": "finished",
							"livy_statement_state": "available",
							"queued_time": "2023-08-30T16:15:17.2408637Z",
							"session_start_time": null,
							"execution_start_time": "2023-08-30T16:15:17.5976344Z",
							"execution_finish_time": "2023-08-30T16:15:17.9669043Z",
							"spark_jobs": {
								"numbers": {
									"UNKNOWN": 0,
									"SUCCEEDED": 0,
									"RUNNING": 0,
									"FAILED": 0
								},
								"jobs": [],
								"limit": 20,
								"rule": "ALL_DESC"
							},
							"parent_msg_id": "f83b9432-2745-4d56-ae70-0953b06a36eb"
						},
						"text/plain": "StatementMeta(, 2fda03cc-9670-47e6-b550-331b4ad096c1, 30, Finished, Available)"
					},
					"metadata": {}
				},
				{
					"output_type": "execute_result",
					"execution_count": 64,
					"data": {
						"text/plain": "         Name Country/Region  count\n0  SDI Design             CA      1\n1  SDI Design             US      1",
						"text/html": "<div>\n<style scoped>\n    .dataframe tbody tr th:only-of-type {\n        vertical-align: middle;\n    }\n\n    .dataframe tbody tr th {\n        vertical-align: top;\n    }\n\n    .dataframe thead th {\n        text-align: right;\n    }\n</style>\n<table border=\"1\" class=\"dataframe\">\n  <thead>\n    <tr style=\"text-align: right;\">\n      <th></th>\n      <th>Name</th>\n      <th>Country/Region</th>\n      <th>count</th>\n    </tr>\n  </thead>\n  <tbody>\n    <tr>\n      <th>0</th>\n      <td>SDI Design</td>\n      <td>CA</td>\n      <td>1</td>\n    </tr>\n    <tr>\n      <th>1</th>\n      <td>SDI Design</td>\n      <td>US</td>\n      <td>1</td>\n    </tr>\n  </tbody>\n</table>\n</div>"
					},
					"metadata": {}
				}
			],
			"execution_count": 21,
			"metadata": {
				"jupyter": {
					"outputs_hidden": false,
					"source_hidden": false
				},
				"nteract": {
					"transient": {
						"deleting": false
					}
				}
			},
			"id": "896fcec2-fbc0-40f9-a384-22fec300844b"
		},
		{
			"cell_type": "markdown",
			"source": [
				"Seems like have one customer, 'SDI Design' who's present in two regions - United States and Canada. This doesn't  look like a semantic violation, just an uncommon case, but let's take a closer look at them:"
			],
			"metadata": {
				"nteract": {
					"transient": {
						"deleting": false
					}
				}
			},
			"id": "70d31775-0e1e-4aee-87f1-9f756cbac86b"
		},
		{
			"cell_type": "code",
			"source": [
				"customer_state_df[customer_state_df.Name=='SDI Design']"
			],
			"outputs": [
				{
					"output_type": "display_data",
					"data": {
						"application/vnd.livy.statement-meta+json": {
							"spark_pool": null,
							"session_id": "2fda03cc-9670-47e6-b550-331b4ad096c1",
							"statement_id": 31,
							"state": "finished",
							"livy_statement_state": "available",
							"queued_time": "2023-08-30T16:15:28.465831Z",
							"session_start_time": null,
							"execution_start_time": "2023-08-30T16:15:28.8357413Z",
							"execution_finish_time": "2023-08-30T16:15:29.1923229Z",
							"spark_jobs": {
								"numbers": {
									"UNKNOWN": 0,
									"SUCCEEDED": 0,
									"RUNNING": 0,
									"FAILED": 0
								},
								"jobs": [],
								"limit": 20,
								"rule": "ALL_DESC"
							},
							"parent_msg_id": "1b6c786a-dc7b-44ba-b5ae-1080936afb5f"
						},
						"text/plain": "StatementMeta(, 2fda03cc-9670-47e6-b550-331b4ad096c1, 31, Finished, Available)"
					},
					"metadata": {}
				},
				{
					"output_type": "execute_result",
					"execution_count": 67,
					"data": {
						"text/plain": "     Customer Country/Region        Name      City  Postal Code State_x  \\\n128     10203             US  SDI Design    Denver        80222      CO   \n323     50233             CA  SDI Design  Winnipeg         <NA>      MB   \n\n     Industry ID StateCode   State_y   Region  \n128           15        CO  COLORADO  CENTRAL  \n323           30       NaN       NaN      NaN  ",
						"text/html": "<div>\n<style scoped>\n    .dataframe tbody tr th:only-of-type {\n        vertical-align: middle;\n    }\n\n    .dataframe tbody tr th {\n        vertical-align: top;\n    }\n\n    .dataframe thead th {\n        text-align: right;\n    }\n</style>\n<table border=\"1\" class=\"dataframe\">\n  <thead>\n    <tr style=\"text-align: right;\">\n      <th></th>\n      <th>Customer</th>\n      <th>Country/Region</th>\n      <th>Name</th>\n      <th>City</th>\n      <th>Postal Code</th>\n      <th>State_x</th>\n      <th>Industry ID</th>\n      <th>StateCode</th>\n      <th>State_y</th>\n      <th>Region</th>\n    </tr>\n  </thead>\n  <tbody>\n    <tr>\n      <th>128</th>\n      <td>10203</td>\n      <td>US</td>\n      <td>SDI Design</td>\n      <td>Denver</td>\n      <td>80222</td>\n      <td>CO</td>\n      <td>15</td>\n      <td>CO</td>\n      <td>COLORADO</td>\n      <td>CENTRAL</td>\n    </tr>\n    <tr>\n      <th>323</th>\n      <td>50233</td>\n      <td>CA</td>\n      <td>SDI Design</td>\n      <td>Winnipeg</td>\n      <td>&lt;NA&gt;</td>\n      <td>MB</td>\n      <td>30</td>\n      <td>NaN</td>\n      <td>NaN</td>\n      <td>NaN</td>\n    </tr>\n  </tbody>\n</table>\n</div>"
					},
					"metadata": {}
				}
			],
			"execution_count": 22,
			"metadata": {
				"jupyter": {
					"outputs_hidden": false,
					"source_hidden": false
				},
				"nteract": {
					"transient": {
						"deleting": false
					}
				}
			},
			"id": "0d76984c-7251-43cb-ab3d-b78bd9b2ae92"
		},
		{
			"cell_type": "markdown",
			"source": [
				"It's actually different customers with the same name - coming different industries. It doesn't seem wrong, just a collision of names.\n",
				"\n",
				"Exploratory data analysis is an exciting process, and so is data cleaning. There's always something that the data is hiding, depending on how you look at it, what you want to ask, and so on. We are hoping that with the new tools you'll be able to achieve more. "
			],
			"metadata": {
				"nteract": {
					"transient": {
						"deleting": false
					}
				}
			},
			"id": "8595003f-bee1-4062-b8bc-e75410b5881d"
		},
		{
			"cell_type": "markdown",
			"source": [
				"## Clean up resources\n",
				"If you are not going to use this tutorial after completion, you may now delete it from the workspace."
			],
			"metadata": {
				"nteract": {
					"transient": {
						"deleting": false
					}
				}
			},
			"id": "180f66e2-9d3e-4d92-90ec-4e2935cb9252"
		},
		{
			"cell_type": "markdown",
			"source": [
				"## Next step\n",
				"\n",
				"Try using the learned ways of detecting data quality issues on your data and get amazed with the discoveries!"
			],
			"metadata": {
				"nteract": {
					"transient": {
						"deleting": false
					}
				}
			},
			"id": "01ec709f-ee74-415f-8200-ccf1f6fa95cf"
		},
		{
			"cell_type": "markdown",
			"source": [
				"## Related content\n",
				"\n",
				"Check out other tutorials for Semantic Link / SemPy:\n",
				"1. Clean Data with Functional Dependencies\n",
				"1. Detect Relationships in SYNTHEA dataset\n",
				"1. Detect Relationships in a PowerBI Sample Dataset\n",
				"1. Extract and Calculate PowerBI Measures from Jupyter Notebook"
			],
			"metadata": {
				"nteract": {
					"transient": {
						"deleting": false
					}
				}
			},
			"id": "f6ca038b-b9d8-4556-b8bc-950acfca0e5b"
		}
	]
}