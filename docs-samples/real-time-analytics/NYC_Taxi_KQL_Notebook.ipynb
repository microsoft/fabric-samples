{
  "metadata": {
    "kernel_info": {
      "name": "synapse_pyspark"
    },
    "description": "",
    "save_output": true,
    "spark_compute": {
      "compute_id": "/trident/default",
      "session_options": {
        "keepAliveTimeout": 30,
        "enableDebugMode": false,
        "conf": {
          "spark.livy.synapse.ipythonInterpreter.enabled": "true"
        }
      }
    },
    "notebook_environment": {},
    "synapse_widget": {
      "version": "0.1",
      "state": {}
    },
    "trident": {
      "lakehouse": {}
    },
    "language_info": {
      "codemirror_mode": {
        "name": "python",
        "version": 3
      },
      "file_extension": ".py",
      "mimetype": "text/x-python",
      "name": "python",
      "nbconvert_exporter": "python",
      "pygments_lexer": "ipython3",
      "version": "3.8"
    },
    "kernelspec": {
      "name": "python",
      "display_name": "Python (Pyodide)",
      "language": "python"
    },
    "colab": {
      "provenance": []
    }
  },
  "nbformat_minor": 0,
  "nbformat": 4,
  "cells": [
    {
      "cell_type": "markdown",
      "source": [
        "# Use a notebook with Kqlmagic to query data in a KQL database \n",
        " \n",
        " Use of this notebook is documented in [Microsoft Fabric documentation](https://learn.microsoft.com/fabric/real-time-analytics/jupyter-notebook).\n",
        "\n",
        " This flow uses native python packages that are publicly available.\n",
        "\n",
        "Goal: Query a publicly available dataset [NYC taxi](https://learn.microsoft.com/azure/open-datasets/dataset-taxi-yellow) and use a basic clustering ML model to detect where are the most busy taxi pickup hot spots in New York City. \n",
        "\n",
        "Prerequisites: KQL Database with NYC taxi data loaded.\n",
        "\n",
        "## High level notebook workflow\n",
        "- Load dependencies using import commands\n",
        "- Load the [Kqlmagic](https://pypi.org/project/Kqlmagic/) package to allow connectivity to the KQL database\n",
        "- Authenticate to the KQL database\n",
        "- Use KQL commands to showcase KQL interactivity through Jupyter notebook\n",
        "- Train a model on a fraction of the data\n",
        "- Display a graphical rendering for the clustering results on New York City taxi pickup location\n",
        "\n",
        "Start by loading the numpi packages."
      ],
      "metadata": {
        "nteract": {
          "transient": {
            "deleting": false
          }
        },
        "id": "eBi8YQUXpUCK"
      }
    },
    {
      "cell_type": "code",
      "source": [
        "import numpy as np\n",
        "import pandas as pd"
      ],
      "metadata": {
        "id": "krU0mljkpUCN"
      },
      "execution_count": 1,
      "outputs": []
    },
    {
      "cell_type": "markdown",
      "source": [
        "Load matplotlib packages for the graphs"
      ],
      "metadata": {
        "nteract": {
          "transient": {
            "deleting": false
          }
        },
        "id": "mkszvBUTpUCO"
      }
    },
    {
      "cell_type": "code",
      "source": [
        "import matplotlib\n",
        "import matplotlib.pyplot as plt\n",
        "%matplotlib inline"
      ],
      "metadata": {
        "jupyter": {
          "source_hidden": false,
          "outputs_hidden": false
        },
        "nteract": {
          "transient": {
            "deleting": false
          }
        },
        "id": "Tsc22SwFpUCO"
      },
      "execution_count": null,
      "outputs": []
    },
    {
      "cell_type": "markdown",
      "source": [
        "Import the KQL magic package to enable connectivity to the KQL Database"
      ],
      "metadata": {
        "nteract": {
          "transient": {
            "deleting": false
          }
        },
        "id": "nxWopwjypUCP"
      }
    },
    {
      "cell_type": "code",
      "source": [
        "!pip install Kqlmagic --no-cache-dir --upgrade"
      ],
      "metadata": {
        "jupyter": {
          "source_hidden": false,
          "outputs_hidden": false
        },
        "nteract": {
          "transient": {
            "deleting": false
          }
        },
        "id": "kJ0kgvxTpUCP"
      },
      "execution_count": null,
      "outputs": []
    },
    {
      "cell_type": "markdown",
      "source": [
        "Load the package to memory"
      ],
      "metadata": {
        "nteract": {
          "transient": {
            "deleting": false
          }
        },
        "id": "dro6OSXApUCP"
      }
    },
    {
      "cell_type": "code",
      "source": [
        "%reload_ext Kqlmagic"
      ],
      "metadata": {
        "jupyter": {
          "source_hidden": false,
          "outputs_hidden": false
        },
        "nteract": {
          "transient": {
            "deleting": false
          }
        },
        "id": "6lrtLj4YpUCQ"
      },
      "execution_count": null,
      "outputs": []
    },
    {
      "cell_type": "markdown",
      "source": [
        " Connect to your database URL. This can be found in the database details page.\n",
        "\n",
        "This process uses Device Code authentication flow. You will receive a code that you need to input. Then you'll be asked to authenticate using your AAD credentials. Talk to your administrators if you run into authentication issues."
      ],
      "metadata": {
        "nteract": {
          "transient": {
            "deleting": false
          }
        },
        "id": "3vK9lTYrpUCQ"
      }
    },
    {
      "cell_type": "code",
      "source": [
        "%kql kusto://code;cluster='enter-database-uri';database='enter-database-name'"
      ],
      "metadata": {
        "jupyter": {
          "source_hidden": false,
          "outputs_hidden": false
        },
        "nteract": {
          "transient": {
            "deleting": false
          }
        },
        "id": "5Lj9hfeApUCQ"
      },
      "execution_count": null,
      "outputs": []
    },
    {
      "cell_type": "markdown",
      "source": [
        "This step returns a count of the \"trips2\" table."
      ],
      "metadata": {
        "nteract": {
          "transient": {
            "deleting": false
          }
        },
        "id": "2Z6qzgeNpUCQ"
      }
    },
    {
      "cell_type": "code",
      "source": [
        "%%kql trips2\n",
        "| extend \n",
        "  pickup_datetime= tpepPickupDateTime\n",
        ", pickup_latitude = startLat\n",
        ", pickup_longitude = startLon\n",
        "| where pickup_datetime between (datetime(2014-01-01)..datetime(2014-12-31))\n",
        "| where isnotempty(pickup_latitude) and isnotempty(pickup_longitude)\n",
        "| count"
      ],
      "metadata": {
        "jupyter": {
          "source_hidden": false,
          "outputs_hidden": false
        },
        "nteract": {
          "transient": {
            "deleting": false
          }
        },
        "id": "u96qaRQFpUCR"
      },
      "execution_count": null,
      "outputs": []
    },
    {
      "cell_type": "markdown",
      "source": [
        "This cell shows how the render commands is also available through KQL magic. Note that here it's KQL doing the rendering, not Python."
      ],
      "metadata": {
        "nteract": {
          "transient": {
            "deleting": false
          }
        },
        "id": "JevpJhZjpUCR"
      }
    },
    {
      "cell_type": "code",
      "source": [
        "%%kql      // Note the %% magic syntax to send full cell contents to ADX (including comment marker //)\n",
        "trips2\n",
        "| extend \n",
        "  pickup_datetime= tpepPickupDateTime\n",
        ", pickup_latitude = startLat\n",
        ", pickup_longitude = startLon\n",
        "| where pickup_datetime  between (datetime(2014-01-01)..datetime(2014-12-31))\n",
        "| summarize count() by bin_at(pickup_datetime, 7d, datetime(2014-01-01))\n",
        "| render timechart with(title='NYC 2014 Taxi Rides count per week')"
      ],
      "metadata": {
        "jupyter": {
          "source_hidden": false,
          "outputs_hidden": false
        },
        "nteract": {
          "transient": {
            "deleting": false
          }
        },
        "id": "1vSGs6r_pUCR"
      },
      "execution_count": null,
      "outputs": []
    },
    {
      "cell_type": "markdown",
      "source": [
        "The following is a more detailed query that contextualizes the data using their geographic positions"
      ],
      "metadata": {
        "nteract": {
          "transient": {
            "deleting": false
          }
        },
        "id": "wUHASvGMpUCS"
      }
    },
    {
      "cell_type": "code",
      "source": [
        "%%kql trips2 \n",
        "| extend \n",
        "  pickup_datetime= tpepPickupDateTime\n",
        ", dropoff_datetime = tpepDropoffDateTime\n",
        ", pickup_latitude = startLat\n",
        ", pickup_longitude = startLon\n",
        ", dropoff_longitude = endLon\n",
        ", dropoff_latitude = endLat\n",
        ", vendor_id=vendorID\n",
        "| where isnotempty(pickup_latitude) and isnotempty(pickup_longitude)\n",
        "| project vendor_id, pickup_datetime, dropoff_datetime,pickup_longitude, pickup_latitude, dropoff_longitude,dropoff_latitude\n",
        "| take 3"
      ],
      "metadata": {
        "nteract": {
          "transient": {
            "deleting": false
          }
        },
        "tags": [],
        "id": "FA8v2VzCpUCS"
      },
      "execution_count": null,
      "outputs": []
    },
    {
      "cell_type": "markdown",
      "source": [
        "Set some boundaries for use later. Define NYC area limits:"
      ],
      "metadata": {
        "nteract": {
          "transient": {
            "deleting": false
          }
        },
        "id": "QdJM1SZepUCS"
      }
    },
    {
      "cell_type": "code",
      "source": [
        "south=40.61\n",
        "north=40.91\n",
        "west=-74.06\n",
        "east=-73.77"
      ],
      "metadata": {
        "jupyter": {
          "source_hidden": false,
          "outputs_hidden": false
        },
        "nteract": {
          "transient": {
            "deleting": false
          }
        },
        "id": "BXND8JkCpUCS"
      },
      "execution_count": null,
      "outputs": []
    },
    {
      "cell_type": "markdown",
      "source": [
        "1. Specify KQL query\n",
        "2. Implement simple result cache in local binary (pickle) file, based on hash of the KQL query string\n",
        "\n",
        "NOTE: to make hash() consistent set env. variable PYTHONHASHSEED=0"
      ],
      "metadata": {
        "nteract": {
          "transient": {
            "deleting": false
          }
        },
        "id": "dD8vxZbfpUCT"
      }
    },
    {
      "cell_type": "code",
      "source": [
        "%env PYTHONHASHSEED=0\n",
        "\n",
        "def adx_query(q):\n",
        "    fn = \"df\" + str(hash(q)) + \".pkl\"\n",
        "    try:\n",
        "        df = pd.read_pickle(fn)\n",
        "        print(\"Load df from \" + fn)\n",
        "        return df\n",
        "    except:\n",
        "        print(\"Execute query...\")\n",
        "        %kql res << -query q\n",
        "        try:\n",
        "            df = res.to_dataframe()\n",
        "            print(\"Save df to \" + fn)\n",
        "            df.to_pickle(fn)\n",
        "            print(\"\\n\", df.shape, \"\\n\", df.columns)\n",
        "            return df\n",
        "        except Exception as ex:\n",
        "            print(ex)\n",
        "            return None"
      ],
      "metadata": {
        "jupyter": {
          "source_hidden": false,
          "outputs_hidden": false
        },
        "nteract": {
          "transient": {
            "deleting": false
          }
        },
        "id": "bghsrTDWpUCT"
      },
      "execution_count": null,
      "outputs": []
    },
    {
      "cell_type": "markdown",
      "source": [
        "The \"Q\" variable holds our main KQL code. This will aggregate all pickups within the defined geographic boundary. "
      ],
      "metadata": {
        "nteract": {
          "transient": {
            "deleting": false
          }
        },
        "id": "uI4ZtkgTpUCT"
      }
    },
    {
      "cell_type": "code",
      "source": [
        "q = '''\n",
        "set notruncation;\n",
        "let South=south; let North=north; let West=west; let East=east; // copy Python variables to ADX\n",
        "trips2\n",
        "| extend \n",
        "  pickup_datetime= tpepPickupDateTime\n",
        ", dropoff_datetime = tpepDropoffDateTime\n",
        ", pickup_latitude = startLat\n",
        ", pickup_longitude = startLon\n",
        ", dropoff_longitude = endLon\n",
        ", dropoff_latitude = endLat\n",
        ", vendor_id=vendorID\n",
        "| where pickup_datetime between (datetime(2014-01-01)..datetime(2014-12-31))\n",
        "| where isnotempty(pickup_latitude) and isnotempty(pickup_longitude)\n",
        "| extend Lat=round(pickup_latitude, 4), Long=round(pickup_longitude, 4)\n",
        "| where Lat between(South..North) and Long between(West..East)\n",
        "| summarize num_pickups=count() by Lat, Long\n",
        "'''\n",
        "\n",
        "aggr_pickups = adx_query(q)"
      ],
      "metadata": {
        "jupyter": {
          "source_hidden": false,
          "outputs_hidden": false
        },
        "nteract": {
          "transient": {
            "deleting": false
          }
        },
        "id": "aCFptNFlpUCT"
      },
      "execution_count": null,
      "outputs": []
    },
    {
      "cell_type": "markdown",
      "source": [
        "Show 4 rows of the dataframe."
      ],
      "metadata": {
        "nteract": {
          "transient": {
            "deleting": false
          }
        },
        "id": "ll4tGWL2pUCU"
      }
    },
    {
      "cell_type": "code",
      "source": [
        "print(aggr_pickups[-4:])"
      ],
      "metadata": {
        "jupyter": {
          "source_hidden": false,
          "outputs_hidden": false
        },
        "nteract": {
          "transient": {
            "deleting": false
          }
        },
        "id": "BfuIDnwHpUCU"
      },
      "execution_count": null,
      "outputs": []
    },
    {
      "cell_type": "markdown",
      "source": [
        "Initialize graphics for the heatmap."
      ],
      "metadata": {
        "nteract": {
          "transient": {
            "deleting": false
          }
        },
        "id": "1o5kOEbUpUCU"
      }
    },
    {
      "cell_type": "code",
      "source": [
        "new_style = {'grid':False}\n",
        "matplotlib.rc('axes', **new_style)\n",
        "from matplotlib import rcParams\n",
        "rcParams['figure.figsize'] = [15, 15]"
      ],
      "metadata": {
        "jupyter": {
          "source_hidden": false,
          "outputs_hidden": false
        },
        "nteract": {
          "transient": {
            "deleting": false
          }
        },
        "id": "H_nX07aBpUCU"
      },
      "execution_count": null,
      "outputs": []
    },
    {
      "cell_type": "markdown",
      "source": [
        "Draw a map by plotting a heat map over a scatter plot. "
      ],
      "metadata": {
        "nteract": {
          "transient": {
            "deleting": false
          }
        },
        "id": "faXVTPTCpUCU"
      }
    },
    {
      "cell_type": "code",
      "source": [
        "plt.style.use('dark_background')\n",
        "p = aggr_pickups.plot(kind='scatter', x='Long', y='Lat', color='white', xlim=(west, east), ylim=(south, north), s=0.02, alpha=0.6)"
      ],
      "metadata": {
        "jupyter": {
          "source_hidden": false,
          "outputs_hidden": false
        },
        "nteract": {
          "transient": {
            "deleting": false
          }
        },
        "id": "7skVeDuopUCU"
      },
      "execution_count": null,
      "outputs": []
    },
    {
      "cell_type": "markdown",
      "source": [
        "Take a subset of the data for training 0.1%"
      ],
      "metadata": {
        "nteract": {
          "transient": {
            "deleting": false
          }
        },
        "id": "-wjYqsUupUCV"
      }
    },
    {
      "cell_type": "code",
      "source": [
        "q = '''\n",
        "set notruncation;\n",
        "let South=south; let North=north; let West=west; let East=east; // copy Python variables to ADX\n",
        "let sf=0.001; // Extract 0.1% of the raw data\n",
        "trips2\n",
        "| extend \n",
        "  pickup_datetime= tpepPickupDateTime\n",
        ", dropoff_datetime = tpepDropoffDateTime\n",
        ", pickup_latitude = startLat\n",
        ", pickup_longitude = startLon\n",
        ", dropoff_longitude = endLon\n",
        ", dropoff_latitude = endLat\n",
        ", vendor_id=vendorID\n",
        "| where pickup_datetime between (datetime(2014-01-01)..datetime(2014-12-31))\n",
        "| where pickup_latitude between(South..North) and pickup_longitude between(West..East)\n",
        "| project pickup_datetime, pickup_latitude, pickup_longitude\n",
        "| where rand() < sf'''\n",
        "\n",
        "df = adx_query(q)"
      ],
      "metadata": {
        "jupyter": {
          "source_hidden": false,
          "outputs_hidden": false
        },
        "nteract": {
          "transient": {
            "deleting": false
          }
        },
        "id": "c1tvuYhupUCV"
      },
      "execution_count": null,
      "outputs": []
    },
    {
      "cell_type": "markdown",
      "source": [
        "Define the clustering function"
      ],
      "metadata": {
        "nteract": {
          "transient": {
            "deleting": false
          }
        },
        "id": "0725bpXLpUCV"
      }
    },
    {
      "cell_type": "code",
      "source": [
        "def KMeans_clustering(k, features):\n",
        "    from sklearn.cluster import KMeans, MiniBatchKMeans\n",
        "    km = MiniBatchKMeans(n_clusters=k) if features.shape[0] > 1000 else KMeans(n_clusters=k)\n",
        "    km.fit(features)\n",
        "    centroids = pd.DataFrame(km.cluster_centers_, columns=features.columns)\n",
        "    centroids.insert(features.shape[1], \"num\", pd.DataFrame(km.labels_, columns=[\"n\"]).groupby(\"n\").size())\n",
        "    centroids.insert(features.shape[1], \"cluster_id\", range(k))\n",
        "    return centroids, km.labels_"
      ],
      "metadata": {
        "jupyter": {
          "source_hidden": false,
          "outputs_hidden": false
        },
        "nteract": {
          "transient": {
            "deleting": false
          }
        },
        "id": "nwp_oVPnpUCV"
      },
      "execution_count": null,
      "outputs": []
    },
    {
      "cell_type": "markdown",
      "source": [
        "Define a few more variables and mark the centroids on the map with stars"
      ],
      "metadata": {
        "nteract": {
          "transient": {
            "deleting": false
          }
        },
        "id": "dXvq6_IRpUCV"
      }
    },
    {
      "cell_type": "code",
      "source": [
        "pickup_hub_loc, pickup_cluster = KMeans_clustering(8, df[['pickup_latitude', 'pickup_longitude']])\n",
        "pickup_hub_loc"
      ],
      "metadata": {
        "jupyter": {
          "source_hidden": false,
          "outputs_hidden": false
        },
        "nteract": {
          "transient": {
            "deleting": false
          }
        },
        "id": "b5N1iSJBpUCW"
      },
      "execution_count": null,
      "outputs": []
    },
    {
      "cell_type": "code",
      "source": [
        "plt.scatter(x=aggr_pickups['Long'], y=aggr_pickups['Lat'], color='white', s=0.02, alpha=0.6)\n",
        "plt.scatter(x=pickup_hub_loc['pickup_longitude'], y=pickup_hub_loc['pickup_latitude'], color='#ff00a0', marker='*', s=pickup_hub_loc['num']/len(df)*8000, alpha=0.6)\n",
        "plt.show()"
      ],
      "metadata": {
        "jupyter": {
          "source_hidden": false,
          "outputs_hidden": false
        },
        "nteract": {
          "transient": {
            "deleting": false
          }
        },
        "id": "XUlF2FCNpUCW"
      },
      "execution_count": null,
      "outputs": []
    }
  ]
}
