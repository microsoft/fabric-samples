{
 "cells": [
  {
   "cell_type": "markdown",
   "id": "83c95479-8384-4e5e-af7d-3382389bd51f",
   "metadata": {
    "microsoft": {
     "language": "sql",
     "language_group": "sqldatawarehouse"
    },
    "nteract": {
     "transient": {
      "deleting": false
     }
    }
   },
   "source": [
    "# Reading External Files with OPENROWSET(BULK)\n",
    "\n",
    "The `OPENROWSET(BULK)` function allows you to directly read and query files stored in Azure Data Lake Storage as if they were database tables. This is especially useful for data exploration and analysis without requiring prior data import or transformation.\n",
    "\n",
    "You can use `OPENROWSET(BULK)` to read files in the following formats:\n",
    "- Comma-separated values (CSV) format, including variants such as tab-separated and custom encodings\n",
    "- Parquet format\n",
    "- [JSON Lines (JSONL)](https://jsonlines.org/) format\n",
    "\n",
    "To access file content, simply specify the URI of the target file(s). The function returns the data as a set of rows, ready for querying and further processing."
   ]
  },
  {
   "cell_type": "markdown",
   "id": "f91e2b2f-4c5c-4227-9ad4-8bfd41ff4c2a",
   "metadata": {
    "microsoft": {
     "language": "sql",
     "language_group": "sqldatawarehouse"
    },
    "nteract": {
     "transient": {
      "deleting": false
     }
    }
   },
   "source": [
    "## Reading Data from a Parquet File\n",
    "\n",
    "Let's start by exploring the contents of a Parquet file. You can use the following example to read sample data using the `OPENROWSET(BULK)` function, specifying Parquet as the source format:"
   ]
  },
  {
   "cell_type": "code",
   "execution_count": null,
   "id": "ba96de05-de25-4c42-a4a0-87b27de64f4d",
   "metadata": {
    "microsoft": {
     "language": "sql",
     "language_group": "sqldatawarehouse"
    }
   },
   "outputs": [],
   "source": [
    "SELECT TOP 10 * \n",
    "FROM OPENROWSET(BULK 'https://pandemicdatalake.blob.core.windows.net/public/curated/covid-19/bing_covid-19_data/latest/bing_covid-19_data.parquet')"
   ]
  },
  {
   "cell_type": "markdown",
   "id": "92f46ebf",
   "metadata": {},
   "source": [
    "You might expect to see the content of this file in a tabular output, for example:\n",
    "\n",
    "\n",
    "| id     | updated    | confirmed | deaths | recovered | country_region |\n",
    "|--------|------------|-----------|--------|-----------|----------------|\n",
    "| 338995 | 2020-01-21 | 262       | NULL   | 0         | Worldwide      |\n",
    "| 338996 | 2020-01-22 | 313       | 51     | 0         | Worldwide      |\n",
    "| 338997 | 2020-01-23 | 578       | 265    | 0         | Worldwide      |"
   ]
  },
  {
   "cell_type": "markdown",
   "id": "027f835a-a8a5-4763-8c52-58a7173a95c7",
   "metadata": {
    "microsoft": {
     "language": "sql",
     "language_group": "sqldatawarehouse"
    },
    "nteract": {
     "transient": {
      "deleting": false
     }
    }
   },
   "source": [
    "## Reading Data from a CSV File\n",
    "\n",
    "You can also examine data stored in a CSV file. The following example demonstrates how to retrieve sample data using the `OPENROWSET(BULK)` function, specifying CSV as the input format:"
   ]
  },
  {
   "cell_type": "code",
   "execution_count": null,
   "id": "ad8c7c2a-6ef3-42c4-8e9d-4772b1033a33",
   "metadata": {
    "microsoft": {
     "language": "sql",
     "language_group": "sqldatawarehouse"
    }
   },
   "outputs": [],
   "source": [
    "SELECT TOP 10 * \n",
    "FROM OPENROWSET(BULK 'https://pandemicdatalake.blob.core.windows.net/public/curated/covid-19/bing_covid-19_data/latest/bing_covid-19_data.csv',\n",
    "                HEADER_ROW=True,\n",
    "                ROWTERMINATOR='\\n',\n",
    "                FIELDTERMINATOR=',')"
   ]
  },
  {
   "cell_type": "markdown",
   "id": "6cd0ea01",
   "metadata": {},
   "source": [
    "The output should match the previous example, even though the data comes from a different file. If your file doesn't follow the standard CSV format, you may need to adjust formatting parameters such as the field and row terminators."
   ]
  },
  {
   "cell_type": "markdown",
   "id": "4ef1b87e-2f21-4a2e-8806-c0276822a04c",
   "metadata": {
    "microsoft": {
     "language": "sql",
     "language_group": "sqldatawarehouse"
    },
    "nteract": {
     "transient": {
      "deleting": false
     }
    }
   },
   "source": [
    "## Reading Content of a JSONL File\n",
    "\n",
    "JSON Lines files are another supported format you can explore. The following example demonstrates how to read sample data using the `OPENROWSET(BULK)` function:"
   ]
  },
  {
   "cell_type": "code",
   "execution_count": null,
   "id": "8f75fcf0-f873-4190-ae95-9f43586a620f",
   "metadata": {
    "microsoft": {
     "language": "sql",
     "language_group": "sqldatawarehouse"
    }
   },
   "outputs": [],
   "source": [
    "SELECT TOP 10 * \n",
    "FROM OPENROWSET(BULK 'https://pandemicdatalake.blob.core.windows.net/public/curated/covid-19/bing_covid-19_data/latest/bing_covid-19_data.jsonl')"
   ]
  },
  {
   "cell_type": "markdown",
   "id": "9ca8cfff-dc73-4cad-97ee-47adad56f064",
   "metadata": {
    "microsoft": {
     "language": "sql",
     "language_group": "sqldatawarehouse"
    },
    "nteract": {
     "transient": {
      "deleting": false
     }
    }
   },
   "source": [
    "## Explore column metadata\n",
    "\n",
    "With the `OPENROWSET(BULK)` function, you can easily view the file columns and their types by combining the query that reads sample data with the `sp_describe_first_result_set` procedure:"
   ]
  },
  {
   "cell_type": "code",
   "execution_count": null,
   "id": "294232ea-0d65-4345-8588-e62a687890e0",
   "metadata": {
    "microsoft": {
     "language": "sql",
     "language_group": "sqldatawarehouse"
    }
   },
   "outputs": [],
   "source": [
    "EXEC sp_describe_first_result_set \n",
    "N'SELECT TOP 0 * \n",
    "FROM OPENROWSET(BULK ''https://pandemicdatalake.blob.core.windows.net/public/curated/covid-19/bing_covid-19_data/latest/bing_covid-19_data.parquet'')';"
   ]
  },
  {
   "cell_type": "markdown",
   "id": "6c509266",
   "metadata": {},
   "source": [
    "As a result, you will get a table with the column names, types and other information, for example:\n",
    "\n",
    "| column_ordinal\t| name\t| is_nullable\t| system_type_id\t| system_type_name\t| max_length\t| precision\t| scale\t| collation_name |\n",
    "|---|---|---|---|---|---|---|---| --- |\n",
    "| 1\t| id\t| 1\t| 56\t| int\t| 4\t| 10\t| 0\t| NULL |\n",
    "| 2\t| updated | 1\t| 40\t| date\t| 3\t| 10\t| 0\t| NULL | \n",
    "| 3\t| country_region\t| 1\t| 167\t| varchar(max)\t| -1 |\t0\t| 0\t| Latin1_General_100_BIN2_UTF8 | "
   ]
  },
  {
   "cell_type": "markdown",
   "id": "3d3461fa-fdf4-4269-bc79-160d2b795edb",
   "metadata": {
    "microsoft": {
     "language": "sql",
     "language_group": "sqldatawarehouse"
    },
    "nteract": {
     "transient": {
      "deleting": false
     }
    }
   },
   "source": [
    "## Specify the schema of OPENROWSET function\n",
    "\n",
    "The `OPENROWSET(BULK)` function returns estimated column types based on a sample of the data.\n",
    "\n",
    "If the sample is not representative, you might get unexpected types or their sizes.\n",
    "\n",
    "If you know the column types in your files, you can explicitly define the schema of the columns using the WITH clause:"
   ]
  },
  {
   "cell_type": "code",
   "execution_count": null,
   "id": "e0eca913-7f4e-4cf9-8251-8653d3c453b6",
   "metadata": {
    "microsoft": {
     "language": "sql",
     "language_group": "sqldatawarehouse"
    }
   },
   "outputs": [],
   "source": [
    "SELECT TOP 10 * \n",
    "FROM OPENROWSET(BULK 'https://pandemicdatalake.blob.core.windows.net/public/curated/covid-19/bing_covid-19_data/latest/bing_covid-19_data.parquet')\n",
    "WITH (updated date,\n",
    "      load_time datetime2,\n",
    "      deaths_change smallint,\n",
    "      id int,\n",
    "      confirmed int,\n",
    "      confirmed_change int,\n",
    "      deaths int,\n",
    "      recovered int,\n",
    "      recovered_change int,\n",
    "      latitude float,\n",
    "      longitude float,\n",
    "      iso2 varchar(20),\n",
    "      iso3 varchar(20),\n",
    "      country_region varchar(100),\n",
    "      admin_region_1 varchar(100),\n",
    "      iso_subdivision varchar(100),\n",
    "      admin_region_2 varchar(100)\n",
    ") AS data;"
   ]
  },
  {
   "cell_type": "markdown",
   "id": "6feac6d2",
   "metadata": {},
   "source": [
    "As a result, only the columns defined in the `WITH` clause will be returned, each with the data type you specified."
   ]
  },
  {
   "cell_type": "markdown",
   "id": "071dc4af",
   "metadata": {},
   "source": [
    "# Learn More\n",
    "\n",
    "For detailed guidance on using `OPENROWSET(BULK)` in Fabric Data Warehouse, explore the official documentation:  \n",
    "[Browse file content with OPENROWSET](https://learn.microsoft.com/fabric/data-warehouse/browse-file-content-with-openrowset)"
   ]
  }
 ],
 "metadata": {
  "a365ComputeOptions": null,
  "dependencies": {
   "lakehouse": null,
   "warehouse": {
    "default_warehouse": "688ecdd1-0daa-492b-a894-e1d8120b5b64",
    "known_warehouses": [
     {
      "id": "688ecdd1-0daa-492b-a894-e1d8120b5b64",
      "type": "Lakewarehouse"
     }
    ]
   }
  },
  "kernel_info": {
   "name": "sqldatawarehouse"
  },
  "kernelspec": {
   "display_name": "sqldatawarehouse",
   "language": null,
   "name": "sqldatawarehouse"
  },
  "language_info": {
   "name": "sql"
  },
  "microsoft": {
   "language": "sql",
   "language_group": "sqldatawarehouse",
   "ms_spell_check": {
    "ms_spell_check_language": "en"
   }
  },
  "nteract": {
   "version": "nteract-front-end@1.0.0"
  },
  "sessionKeepAliveTimeout": 0,
  "spark_compute": {
   "compute_id": "/trident/default",
   "session_options": {
    "conf": {
     "spark.synapse.nbs.session.timeout": "1200000"
    }
   }
  }
 },
 "nbformat": 4,
 "nbformat_minor": 5
}
